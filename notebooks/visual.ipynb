{
 "cells": [
  {
   "cell_type": "code",
   "execution_count": 136,
   "id": "f022c86e",
   "metadata": {},
   "outputs": [],
   "source": [
    "import requests \n",
    "import numpy as np\n",
    "import json\n",
    "import os\n",
    "from dotenv import load_dotenv\n",
    "import pandas as pd\n",
    "from pandas import json_normalize\n",
    "import time\n",
    "load_dotenv()\n",
    "import requests\n",
    "from bs4 import BeautifulSoup\n",
    "import seaborn as sns\n",
    "import matplotlib.pyplot as plt\n",
    "import plotly.express as px\n",
    "import plotly.graph_objects as go\n",
    "import plotly.figure_factory as ff"
   ]
  },
  {
   "cell_type": "code",
   "execution_count": 2,
   "id": "10e55459",
   "metadata": {},
   "outputs": [],
   "source": [
    "# Matplotlib inline para visualizar los gráficos de Matplotlib\n",
    "%matplotlib inline\n",
    "%config Inlinebackend.figure_format= 'retina'\n",
    "\n",
    "\n",
    "# Configuración para setear y que todas las fig de Seaborn salgan por defecto con este tamaño\n",
    "# Se puede especificar el tamaño de cada figura\n",
    "sns.set_context(\"poster\")\n",
    "sns.set(rc={\"figure.figsize\": (12.,6.)})\n",
    "sns.set_style(\"whitegrid\")"
   ]
  },
  {
   "cell_type": "code",
   "execution_count": 3,
   "id": "68168399",
   "metadata": {},
   "outputs": [
    {
     "data": {
      "text/html": [
       "<div>\n",
       "<style scoped>\n",
       "    .dataframe tbody tr th:only-of-type {\n",
       "        vertical-align: middle;\n",
       "    }\n",
       "\n",
       "    .dataframe tbody tr th {\n",
       "        vertical-align: top;\n",
       "    }\n",
       "\n",
       "    .dataframe thead th {\n",
       "        text-align: right;\n",
       "    }\n",
       "</style>\n",
       "<table border=\"1\" class=\"dataframe\">\n",
       "  <thead>\n",
       "    <tr style=\"text-align: right;\">\n",
       "      <th></th>\n",
       "      <th>Number</th>\n",
       "      <th>Year</th>\n",
       "      <th>Album</th>\n",
       "      <th>Artist</th>\n",
       "      <th>Type</th>\n",
       "      <th>Rating</th>\n",
       "      <th>Gen</th>\n",
       "      <th>playcount</th>\n",
       "      <th>listeners</th>\n",
       "    </tr>\n",
       "  </thead>\n",
       "  <tbody>\n",
       "    <tr>\n",
       "      <th>316</th>\n",
       "      <td>317</td>\n",
       "      <td>1958</td>\n",
       "      <td>Lady in Satin</td>\n",
       "      <td>Billie Holiday</td>\n",
       "      <td>Album</td>\n",
       "      <td>5.00</td>\n",
       "      <td>jazz</td>\n",
       "      <td>1130950</td>\n",
       "      <td>124543</td>\n",
       "    </tr>\n",
       "    <tr>\n",
       "      <th>224</th>\n",
       "      <td>225</td>\n",
       "      <td>2002</td>\n",
       "      <td>Yankee Hotel Foxtrot</td>\n",
       "      <td>Wilco</td>\n",
       "      <td>Album</td>\n",
       "      <td>4.35</td>\n",
       "      <td>folk</td>\n",
       "      <td>16533596</td>\n",
       "      <td>754664</td>\n",
       "    </tr>\n",
       "    <tr>\n",
       "      <th>425</th>\n",
       "      <td>426</td>\n",
       "      <td>1988</td>\n",
       "      <td>Lucinda Williams</td>\n",
       "      <td>Lucinda Williams</td>\n",
       "      <td>Album</td>\n",
       "      <td>4.65</td>\n",
       "      <td>country</td>\n",
       "      <td>235872</td>\n",
       "      <td>17543</td>\n",
       "    </tr>\n",
       "  </tbody>\n",
       "</table>\n",
       "</div>"
      ],
      "text/plain": [
       "     Number  Year                 Album            Artist   Type  Rating  \\\n",
       "316     317  1958         Lady in Satin    Billie Holiday  Album    5.00   \n",
       "224     225  2002  Yankee Hotel Foxtrot             Wilco  Album    4.35   \n",
       "425     426  1988      Lucinda Williams  Lucinda Williams  Album    4.65   \n",
       "\n",
       "         Gen  playcount  listeners  \n",
       "316     jazz    1130950     124543  \n",
       "224    folk    16533596     754664  \n",
       "425  country     235872      17543  "
      ]
     },
     "execution_count": 3,
     "metadata": {},
     "output_type": "execute_result"
    }
   ],
   "source": [
    "#carga stone_enriquecido\n",
    "Stones_Last = pd.read_csv(\"../data/stone_500_rich.csv\")\n",
    "Stones_Last.drop([\"Unnamed: 0\"], axis = 1, inplace = True)\n",
    "Stones_Last.sample(3)"
   ]
  },
  {
   "cell_type": "markdown",
   "id": "287ce137",
   "metadata": {},
   "source": [
    "#### Gráfico de barras qué muestra cuantos usuarios han reproducido los 20 mejor valorados de Rolling Stone."
   ]
  },
  {
   "cell_type": "code",
   "execution_count": 46,
   "id": "34c50c02",
   "metadata": {
    "scrolled": false
   },
   "outputs": [
    {
     "data": {
      "application/vnd.plotly.v1+json": {
       "config": {
        "plotlyServerURL": "https://plot.ly"
       },
       "data": [
        {
         "alignmentgroup": "True",
         "hovertemplate": "Album=%{x}<br>listeners=%{y}<br>Number=%{marker.color}<extra></extra>",
         "legendgroup": "",
         "marker": {
          "color": [
           1,
           2,
           3,
           4,
           5,
           6,
           7,
           8,
           9,
           10,
           11,
           12,
           13,
           14,
           15,
           16,
           17,
           18,
           19,
           20
          ],
          "coloraxis": "coloraxis",
          "pattern": {
           "shape": ""
          }
         },
         "name": "",
         "offsetgroup": "",
         "orientation": "v",
         "showlegend": false,
         "textposition": "auto",
         "type": "bar",
         "x": [
          "What's Going On",
          "Pet Sounds",
          "Blue",
          "Songs in the Key of Life",
          "Abbey Road",
          "Nevermind",
          "Rumours",
          "Purple Rain",
          "Blood on the Tracks",
          "The Miseducation of Lauryn Hill",
          "Revolver",
          "Thriller",
          "I Never Loved a Man the Way I Love You",
          "Exile on Main St.",
          "It Takes a Nation of Millions to Hold Us Back",
          "London Calling",
          "My Beautiful Dark Twisted Fantasy",
          "Highway 61 Revisited",
          "To Pimp a Butterfly",
          "Kid A"
         ],
         "xaxis": "x",
         "y": [
          543969,
          543460,
          534964,
          756100,
          1071346,
          2463939,
          1117937,
          253268,
          490751,
          780979,
          797117,
          1302520,
          582316,
          613135,
          373462,
          1142259,
          1555345,
          746015,
          803462,
          1647551
         ],
         "yaxis": "y"
        }
       ],
       "layout": {
        "barmode": "relative",
        "coloraxis": {
         "colorbar": {
          "title": {
           "text": "Number"
          }
         },
         "colorscale": [
          [
           0,
           "#0d0887"
          ],
          [
           0.1111111111111111,
           "#46039f"
          ],
          [
           0.2222222222222222,
           "#7201a8"
          ],
          [
           0.3333333333333333,
           "#9c179e"
          ],
          [
           0.4444444444444444,
           "#bd3786"
          ],
          [
           0.5555555555555556,
           "#d8576b"
          ],
          [
           0.6666666666666666,
           "#ed7953"
          ],
          [
           0.7777777777777778,
           "#fb9f3a"
          ],
          [
           0.8888888888888888,
           "#fdca26"
          ],
          [
           1,
           "#f0f921"
          ]
         ]
        },
        "legend": {
         "tracegroupgap": 0
        },
        "margin": {
         "t": 60
        },
        "template": {
         "data": {
          "bar": [
           {
            "error_x": {
             "color": "#2a3f5f"
            },
            "error_y": {
             "color": "#2a3f5f"
            },
            "marker": {
             "line": {
              "color": "#E5ECF6",
              "width": 0.5
             },
             "pattern": {
              "fillmode": "overlay",
              "size": 10,
              "solidity": 0.2
             }
            },
            "type": "bar"
           }
          ],
          "barpolar": [
           {
            "marker": {
             "line": {
              "color": "#E5ECF6",
              "width": 0.5
             },
             "pattern": {
              "fillmode": "overlay",
              "size": 10,
              "solidity": 0.2
             }
            },
            "type": "barpolar"
           }
          ],
          "carpet": [
           {
            "aaxis": {
             "endlinecolor": "#2a3f5f",
             "gridcolor": "white",
             "linecolor": "white",
             "minorgridcolor": "white",
             "startlinecolor": "#2a3f5f"
            },
            "baxis": {
             "endlinecolor": "#2a3f5f",
             "gridcolor": "white",
             "linecolor": "white",
             "minorgridcolor": "white",
             "startlinecolor": "#2a3f5f"
            },
            "type": "carpet"
           }
          ],
          "choropleth": [
           {
            "colorbar": {
             "outlinewidth": 0,
             "ticks": ""
            },
            "type": "choropleth"
           }
          ],
          "contour": [
           {
            "colorbar": {
             "outlinewidth": 0,
             "ticks": ""
            },
            "colorscale": [
             [
              0,
              "#0d0887"
             ],
             [
              0.1111111111111111,
              "#46039f"
             ],
             [
              0.2222222222222222,
              "#7201a8"
             ],
             [
              0.3333333333333333,
              "#9c179e"
             ],
             [
              0.4444444444444444,
              "#bd3786"
             ],
             [
              0.5555555555555556,
              "#d8576b"
             ],
             [
              0.6666666666666666,
              "#ed7953"
             ],
             [
              0.7777777777777778,
              "#fb9f3a"
             ],
             [
              0.8888888888888888,
              "#fdca26"
             ],
             [
              1,
              "#f0f921"
             ]
            ],
            "type": "contour"
           }
          ],
          "contourcarpet": [
           {
            "colorbar": {
             "outlinewidth": 0,
             "ticks": ""
            },
            "type": "contourcarpet"
           }
          ],
          "heatmap": [
           {
            "colorbar": {
             "outlinewidth": 0,
             "ticks": ""
            },
            "colorscale": [
             [
              0,
              "#0d0887"
             ],
             [
              0.1111111111111111,
              "#46039f"
             ],
             [
              0.2222222222222222,
              "#7201a8"
             ],
             [
              0.3333333333333333,
              "#9c179e"
             ],
             [
              0.4444444444444444,
              "#bd3786"
             ],
             [
              0.5555555555555556,
              "#d8576b"
             ],
             [
              0.6666666666666666,
              "#ed7953"
             ],
             [
              0.7777777777777778,
              "#fb9f3a"
             ],
             [
              0.8888888888888888,
              "#fdca26"
             ],
             [
              1,
              "#f0f921"
             ]
            ],
            "type": "heatmap"
           }
          ],
          "heatmapgl": [
           {
            "colorbar": {
             "outlinewidth": 0,
             "ticks": ""
            },
            "colorscale": [
             [
              0,
              "#0d0887"
             ],
             [
              0.1111111111111111,
              "#46039f"
             ],
             [
              0.2222222222222222,
              "#7201a8"
             ],
             [
              0.3333333333333333,
              "#9c179e"
             ],
             [
              0.4444444444444444,
              "#bd3786"
             ],
             [
              0.5555555555555556,
              "#d8576b"
             ],
             [
              0.6666666666666666,
              "#ed7953"
             ],
             [
              0.7777777777777778,
              "#fb9f3a"
             ],
             [
              0.8888888888888888,
              "#fdca26"
             ],
             [
              1,
              "#f0f921"
             ]
            ],
            "type": "heatmapgl"
           }
          ],
          "histogram": [
           {
            "marker": {
             "pattern": {
              "fillmode": "overlay",
              "size": 10,
              "solidity": 0.2
             }
            },
            "type": "histogram"
           }
          ],
          "histogram2d": [
           {
            "colorbar": {
             "outlinewidth": 0,
             "ticks": ""
            },
            "colorscale": [
             [
              0,
              "#0d0887"
             ],
             [
              0.1111111111111111,
              "#46039f"
             ],
             [
              0.2222222222222222,
              "#7201a8"
             ],
             [
              0.3333333333333333,
              "#9c179e"
             ],
             [
              0.4444444444444444,
              "#bd3786"
             ],
             [
              0.5555555555555556,
              "#d8576b"
             ],
             [
              0.6666666666666666,
              "#ed7953"
             ],
             [
              0.7777777777777778,
              "#fb9f3a"
             ],
             [
              0.8888888888888888,
              "#fdca26"
             ],
             [
              1,
              "#f0f921"
             ]
            ],
            "type": "histogram2d"
           }
          ],
          "histogram2dcontour": [
           {
            "colorbar": {
             "outlinewidth": 0,
             "ticks": ""
            },
            "colorscale": [
             [
              0,
              "#0d0887"
             ],
             [
              0.1111111111111111,
              "#46039f"
             ],
             [
              0.2222222222222222,
              "#7201a8"
             ],
             [
              0.3333333333333333,
              "#9c179e"
             ],
             [
              0.4444444444444444,
              "#bd3786"
             ],
             [
              0.5555555555555556,
              "#d8576b"
             ],
             [
              0.6666666666666666,
              "#ed7953"
             ],
             [
              0.7777777777777778,
              "#fb9f3a"
             ],
             [
              0.8888888888888888,
              "#fdca26"
             ],
             [
              1,
              "#f0f921"
             ]
            ],
            "type": "histogram2dcontour"
           }
          ],
          "mesh3d": [
           {
            "colorbar": {
             "outlinewidth": 0,
             "ticks": ""
            },
            "type": "mesh3d"
           }
          ],
          "parcoords": [
           {
            "line": {
             "colorbar": {
              "outlinewidth": 0,
              "ticks": ""
             }
            },
            "type": "parcoords"
           }
          ],
          "pie": [
           {
            "automargin": true,
            "type": "pie"
           }
          ],
          "scatter": [
           {
            "marker": {
             "colorbar": {
              "outlinewidth": 0,
              "ticks": ""
             }
            },
            "type": "scatter"
           }
          ],
          "scatter3d": [
           {
            "line": {
             "colorbar": {
              "outlinewidth": 0,
              "ticks": ""
             }
            },
            "marker": {
             "colorbar": {
              "outlinewidth": 0,
              "ticks": ""
             }
            },
            "type": "scatter3d"
           }
          ],
          "scattercarpet": [
           {
            "marker": {
             "colorbar": {
              "outlinewidth": 0,
              "ticks": ""
             }
            },
            "type": "scattercarpet"
           }
          ],
          "scattergeo": [
           {
            "marker": {
             "colorbar": {
              "outlinewidth": 0,
              "ticks": ""
             }
            },
            "type": "scattergeo"
           }
          ],
          "scattergl": [
           {
            "marker": {
             "colorbar": {
              "outlinewidth": 0,
              "ticks": ""
             }
            },
            "type": "scattergl"
           }
          ],
          "scattermapbox": [
           {
            "marker": {
             "colorbar": {
              "outlinewidth": 0,
              "ticks": ""
             }
            },
            "type": "scattermapbox"
           }
          ],
          "scatterpolar": [
           {
            "marker": {
             "colorbar": {
              "outlinewidth": 0,
              "ticks": ""
             }
            },
            "type": "scatterpolar"
           }
          ],
          "scatterpolargl": [
           {
            "marker": {
             "colorbar": {
              "outlinewidth": 0,
              "ticks": ""
             }
            },
            "type": "scatterpolargl"
           }
          ],
          "scatterternary": [
           {
            "marker": {
             "colorbar": {
              "outlinewidth": 0,
              "ticks": ""
             }
            },
            "type": "scatterternary"
           }
          ],
          "surface": [
           {
            "colorbar": {
             "outlinewidth": 0,
             "ticks": ""
            },
            "colorscale": [
             [
              0,
              "#0d0887"
             ],
             [
              0.1111111111111111,
              "#46039f"
             ],
             [
              0.2222222222222222,
              "#7201a8"
             ],
             [
              0.3333333333333333,
              "#9c179e"
             ],
             [
              0.4444444444444444,
              "#bd3786"
             ],
             [
              0.5555555555555556,
              "#d8576b"
             ],
             [
              0.6666666666666666,
              "#ed7953"
             ],
             [
              0.7777777777777778,
              "#fb9f3a"
             ],
             [
              0.8888888888888888,
              "#fdca26"
             ],
             [
              1,
              "#f0f921"
             ]
            ],
            "type": "surface"
           }
          ],
          "table": [
           {
            "cells": {
             "fill": {
              "color": "#EBF0F8"
             },
             "line": {
              "color": "white"
             }
            },
            "header": {
             "fill": {
              "color": "#C8D4E3"
             },
             "line": {
              "color": "white"
             }
            },
            "type": "table"
           }
          ]
         },
         "layout": {
          "annotationdefaults": {
           "arrowcolor": "#2a3f5f",
           "arrowhead": 0,
           "arrowwidth": 1
          },
          "autotypenumbers": "strict",
          "coloraxis": {
           "colorbar": {
            "outlinewidth": 0,
            "ticks": ""
           }
          },
          "colorscale": {
           "diverging": [
            [
             0,
             "#8e0152"
            ],
            [
             0.1,
             "#c51b7d"
            ],
            [
             0.2,
             "#de77ae"
            ],
            [
             0.3,
             "#f1b6da"
            ],
            [
             0.4,
             "#fde0ef"
            ],
            [
             0.5,
             "#f7f7f7"
            ],
            [
             0.6,
             "#e6f5d0"
            ],
            [
             0.7,
             "#b8e186"
            ],
            [
             0.8,
             "#7fbc41"
            ],
            [
             0.9,
             "#4d9221"
            ],
            [
             1,
             "#276419"
            ]
           ],
           "sequential": [
            [
             0,
             "#0d0887"
            ],
            [
             0.1111111111111111,
             "#46039f"
            ],
            [
             0.2222222222222222,
             "#7201a8"
            ],
            [
             0.3333333333333333,
             "#9c179e"
            ],
            [
             0.4444444444444444,
             "#bd3786"
            ],
            [
             0.5555555555555556,
             "#d8576b"
            ],
            [
             0.6666666666666666,
             "#ed7953"
            ],
            [
             0.7777777777777778,
             "#fb9f3a"
            ],
            [
             0.8888888888888888,
             "#fdca26"
            ],
            [
             1,
             "#f0f921"
            ]
           ],
           "sequentialminus": [
            [
             0,
             "#0d0887"
            ],
            [
             0.1111111111111111,
             "#46039f"
            ],
            [
             0.2222222222222222,
             "#7201a8"
            ],
            [
             0.3333333333333333,
             "#9c179e"
            ],
            [
             0.4444444444444444,
             "#bd3786"
            ],
            [
             0.5555555555555556,
             "#d8576b"
            ],
            [
             0.6666666666666666,
             "#ed7953"
            ],
            [
             0.7777777777777778,
             "#fb9f3a"
            ],
            [
             0.8888888888888888,
             "#fdca26"
            ],
            [
             1,
             "#f0f921"
            ]
           ]
          },
          "colorway": [
           "#636efa",
           "#EF553B",
           "#00cc96",
           "#ab63fa",
           "#FFA15A",
           "#19d3f3",
           "#FF6692",
           "#B6E880",
           "#FF97FF",
           "#FECB52"
          ],
          "font": {
           "color": "#2a3f5f"
          },
          "geo": {
           "bgcolor": "white",
           "lakecolor": "white",
           "landcolor": "#E5ECF6",
           "showlakes": true,
           "showland": true,
           "subunitcolor": "white"
          },
          "hoverlabel": {
           "align": "left"
          },
          "hovermode": "closest",
          "mapbox": {
           "style": "light"
          },
          "paper_bgcolor": "white",
          "plot_bgcolor": "#E5ECF6",
          "polar": {
           "angularaxis": {
            "gridcolor": "white",
            "linecolor": "white",
            "ticks": ""
           },
           "bgcolor": "#E5ECF6",
           "radialaxis": {
            "gridcolor": "white",
            "linecolor": "white",
            "ticks": ""
           }
          },
          "scene": {
           "xaxis": {
            "backgroundcolor": "#E5ECF6",
            "gridcolor": "white",
            "gridwidth": 2,
            "linecolor": "white",
            "showbackground": true,
            "ticks": "",
            "zerolinecolor": "white"
           },
           "yaxis": {
            "backgroundcolor": "#E5ECF6",
            "gridcolor": "white",
            "gridwidth": 2,
            "linecolor": "white",
            "showbackground": true,
            "ticks": "",
            "zerolinecolor": "white"
           },
           "zaxis": {
            "backgroundcolor": "#E5ECF6",
            "gridcolor": "white",
            "gridwidth": 2,
            "linecolor": "white",
            "showbackground": true,
            "ticks": "",
            "zerolinecolor": "white"
           }
          },
          "shapedefaults": {
           "line": {
            "color": "#2a3f5f"
           }
          },
          "ternary": {
           "aaxis": {
            "gridcolor": "white",
            "linecolor": "white",
            "ticks": ""
           },
           "baxis": {
            "gridcolor": "white",
            "linecolor": "white",
            "ticks": ""
           },
           "bgcolor": "#E5ECF6",
           "caxis": {
            "gridcolor": "white",
            "linecolor": "white",
            "ticks": ""
           }
          },
          "title": {
           "x": 0.05
          },
          "xaxis": {
           "automargin": true,
           "gridcolor": "white",
           "linecolor": "white",
           "ticks": "",
           "title": {
            "standoff": 15
           },
           "zerolinecolor": "white",
           "zerolinewidth": 2
          },
          "yaxis": {
           "automargin": true,
           "gridcolor": "white",
           "linecolor": "white",
           "ticks": "",
           "title": {
            "standoff": 15
           },
           "zerolinecolor": "white",
           "zerolinewidth": 2
          }
         }
        },
        "xaxis": {
         "anchor": "y",
         "domain": [
          0,
          1
         ],
         "title": {
          "text": "Album"
         }
        },
        "yaxis": {
         "anchor": "x",
         "domain": [
          0,
          1
         ],
         "title": {
          "text": "listeners"
         }
        }
       }
      },
      "text/html": [
       "<div>                            <div id=\"cb707fa6-8ca9-4965-abae-554d6f7c4384\" class=\"plotly-graph-div\" style=\"height:525px; width:100%;\"></div>            <script type=\"text/javascript\">                require([\"plotly\"], function(Plotly) {                    window.PLOTLYENV=window.PLOTLYENV || {};                                    if (document.getElementById(\"cb707fa6-8ca9-4965-abae-554d6f7c4384\")) {                    Plotly.newPlot(                        \"cb707fa6-8ca9-4965-abae-554d6f7c4384\",                        [{\"alignmentgroup\":\"True\",\"hovertemplate\":\"Album=%{x}<br>listeners=%{y}<br>Number=%{marker.color}<extra></extra>\",\"legendgroup\":\"\",\"marker\":{\"color\":[1,2,3,4,5,6,7,8,9,10,11,12,13,14,15,16,17,18,19,20],\"coloraxis\":\"coloraxis\",\"pattern\":{\"shape\":\"\"}},\"name\":\"\",\"offsetgroup\":\"\",\"orientation\":\"v\",\"showlegend\":false,\"textposition\":\"auto\",\"type\":\"bar\",\"x\":[\"What's Going On\",\"Pet Sounds\",\"Blue\",\"Songs in the Key of Life\",\"Abbey Road\",\"Nevermind\",\"Rumours\",\"Purple Rain\",\"Blood on the Tracks\",\"The Miseducation of Lauryn Hill\",\"Revolver\",\"Thriller\",\"I Never Loved a Man the Way I Love You\",\"Exile on Main St.\",\"It Takes a Nation of Millions to Hold Us Back\",\"London Calling\",\"My Beautiful Dark Twisted Fantasy\",\"Highway 61 Revisited\",\"To Pimp a Butterfly\",\"Kid A\"],\"xaxis\":\"x\",\"y\":[543969,543460,534964,756100,1071346,2463939,1117937,253268,490751,780979,797117,1302520,582316,613135,373462,1142259,1555345,746015,803462,1647551],\"yaxis\":\"y\"}],                        {\"barmode\":\"relative\",\"coloraxis\":{\"colorbar\":{\"title\":{\"text\":\"Number\"}},\"colorscale\":[[0.0,\"#0d0887\"],[0.1111111111111111,\"#46039f\"],[0.2222222222222222,\"#7201a8\"],[0.3333333333333333,\"#9c179e\"],[0.4444444444444444,\"#bd3786\"],[0.5555555555555556,\"#d8576b\"],[0.6666666666666666,\"#ed7953\"],[0.7777777777777778,\"#fb9f3a\"],[0.8888888888888888,\"#fdca26\"],[1.0,\"#f0f921\"]]},\"legend\":{\"tracegroupgap\":0},\"margin\":{\"t\":60},\"template\":{\"data\":{\"bar\":[{\"error_x\":{\"color\":\"#2a3f5f\"},\"error_y\":{\"color\":\"#2a3f5f\"},\"marker\":{\"line\":{\"color\":\"#E5ECF6\",\"width\":0.5},\"pattern\":{\"fillmode\":\"overlay\",\"size\":10,\"solidity\":0.2}},\"type\":\"bar\"}],\"barpolar\":[{\"marker\":{\"line\":{\"color\":\"#E5ECF6\",\"width\":0.5},\"pattern\":{\"fillmode\":\"overlay\",\"size\":10,\"solidity\":0.2}},\"type\":\"barpolar\"}],\"carpet\":[{\"aaxis\":{\"endlinecolor\":\"#2a3f5f\",\"gridcolor\":\"white\",\"linecolor\":\"white\",\"minorgridcolor\":\"white\",\"startlinecolor\":\"#2a3f5f\"},\"baxis\":{\"endlinecolor\":\"#2a3f5f\",\"gridcolor\":\"white\",\"linecolor\":\"white\",\"minorgridcolor\":\"white\",\"startlinecolor\":\"#2a3f5f\"},\"type\":\"carpet\"}],\"choropleth\":[{\"colorbar\":{\"outlinewidth\":0,\"ticks\":\"\"},\"type\":\"choropleth\"}],\"contour\":[{\"colorbar\":{\"outlinewidth\":0,\"ticks\":\"\"},\"colorscale\":[[0.0,\"#0d0887\"],[0.1111111111111111,\"#46039f\"],[0.2222222222222222,\"#7201a8\"],[0.3333333333333333,\"#9c179e\"],[0.4444444444444444,\"#bd3786\"],[0.5555555555555556,\"#d8576b\"],[0.6666666666666666,\"#ed7953\"],[0.7777777777777778,\"#fb9f3a\"],[0.8888888888888888,\"#fdca26\"],[1.0,\"#f0f921\"]],\"type\":\"contour\"}],\"contourcarpet\":[{\"colorbar\":{\"outlinewidth\":0,\"ticks\":\"\"},\"type\":\"contourcarpet\"}],\"heatmap\":[{\"colorbar\":{\"outlinewidth\":0,\"ticks\":\"\"},\"colorscale\":[[0.0,\"#0d0887\"],[0.1111111111111111,\"#46039f\"],[0.2222222222222222,\"#7201a8\"],[0.3333333333333333,\"#9c179e\"],[0.4444444444444444,\"#bd3786\"],[0.5555555555555556,\"#d8576b\"],[0.6666666666666666,\"#ed7953\"],[0.7777777777777778,\"#fb9f3a\"],[0.8888888888888888,\"#fdca26\"],[1.0,\"#f0f921\"]],\"type\":\"heatmap\"}],\"heatmapgl\":[{\"colorbar\":{\"outlinewidth\":0,\"ticks\":\"\"},\"colorscale\":[[0.0,\"#0d0887\"],[0.1111111111111111,\"#46039f\"],[0.2222222222222222,\"#7201a8\"],[0.3333333333333333,\"#9c179e\"],[0.4444444444444444,\"#bd3786\"],[0.5555555555555556,\"#d8576b\"],[0.6666666666666666,\"#ed7953\"],[0.7777777777777778,\"#fb9f3a\"],[0.8888888888888888,\"#fdca26\"],[1.0,\"#f0f921\"]],\"type\":\"heatmapgl\"}],\"histogram\":[{\"marker\":{\"pattern\":{\"fillmode\":\"overlay\",\"size\":10,\"solidity\":0.2}},\"type\":\"histogram\"}],\"histogram2d\":[{\"colorbar\":{\"outlinewidth\":0,\"ticks\":\"\"},\"colorscale\":[[0.0,\"#0d0887\"],[0.1111111111111111,\"#46039f\"],[0.2222222222222222,\"#7201a8\"],[0.3333333333333333,\"#9c179e\"],[0.4444444444444444,\"#bd3786\"],[0.5555555555555556,\"#d8576b\"],[0.6666666666666666,\"#ed7953\"],[0.7777777777777778,\"#fb9f3a\"],[0.8888888888888888,\"#fdca26\"],[1.0,\"#f0f921\"]],\"type\":\"histogram2d\"}],\"histogram2dcontour\":[{\"colorbar\":{\"outlinewidth\":0,\"ticks\":\"\"},\"colorscale\":[[0.0,\"#0d0887\"],[0.1111111111111111,\"#46039f\"],[0.2222222222222222,\"#7201a8\"],[0.3333333333333333,\"#9c179e\"],[0.4444444444444444,\"#bd3786\"],[0.5555555555555556,\"#d8576b\"],[0.6666666666666666,\"#ed7953\"],[0.7777777777777778,\"#fb9f3a\"],[0.8888888888888888,\"#fdca26\"],[1.0,\"#f0f921\"]],\"type\":\"histogram2dcontour\"}],\"mesh3d\":[{\"colorbar\":{\"outlinewidth\":0,\"ticks\":\"\"},\"type\":\"mesh3d\"}],\"parcoords\":[{\"line\":{\"colorbar\":{\"outlinewidth\":0,\"ticks\":\"\"}},\"type\":\"parcoords\"}],\"pie\":[{\"automargin\":true,\"type\":\"pie\"}],\"scatter\":[{\"marker\":{\"colorbar\":{\"outlinewidth\":0,\"ticks\":\"\"}},\"type\":\"scatter\"}],\"scatter3d\":[{\"line\":{\"colorbar\":{\"outlinewidth\":0,\"ticks\":\"\"}},\"marker\":{\"colorbar\":{\"outlinewidth\":0,\"ticks\":\"\"}},\"type\":\"scatter3d\"}],\"scattercarpet\":[{\"marker\":{\"colorbar\":{\"outlinewidth\":0,\"ticks\":\"\"}},\"type\":\"scattercarpet\"}],\"scattergeo\":[{\"marker\":{\"colorbar\":{\"outlinewidth\":0,\"ticks\":\"\"}},\"type\":\"scattergeo\"}],\"scattergl\":[{\"marker\":{\"colorbar\":{\"outlinewidth\":0,\"ticks\":\"\"}},\"type\":\"scattergl\"}],\"scattermapbox\":[{\"marker\":{\"colorbar\":{\"outlinewidth\":0,\"ticks\":\"\"}},\"type\":\"scattermapbox\"}],\"scatterpolar\":[{\"marker\":{\"colorbar\":{\"outlinewidth\":0,\"ticks\":\"\"}},\"type\":\"scatterpolar\"}],\"scatterpolargl\":[{\"marker\":{\"colorbar\":{\"outlinewidth\":0,\"ticks\":\"\"}},\"type\":\"scatterpolargl\"}],\"scatterternary\":[{\"marker\":{\"colorbar\":{\"outlinewidth\":0,\"ticks\":\"\"}},\"type\":\"scatterternary\"}],\"surface\":[{\"colorbar\":{\"outlinewidth\":0,\"ticks\":\"\"},\"colorscale\":[[0.0,\"#0d0887\"],[0.1111111111111111,\"#46039f\"],[0.2222222222222222,\"#7201a8\"],[0.3333333333333333,\"#9c179e\"],[0.4444444444444444,\"#bd3786\"],[0.5555555555555556,\"#d8576b\"],[0.6666666666666666,\"#ed7953\"],[0.7777777777777778,\"#fb9f3a\"],[0.8888888888888888,\"#fdca26\"],[1.0,\"#f0f921\"]],\"type\":\"surface\"}],\"table\":[{\"cells\":{\"fill\":{\"color\":\"#EBF0F8\"},\"line\":{\"color\":\"white\"}},\"header\":{\"fill\":{\"color\":\"#C8D4E3\"},\"line\":{\"color\":\"white\"}},\"type\":\"table\"}]},\"layout\":{\"annotationdefaults\":{\"arrowcolor\":\"#2a3f5f\",\"arrowhead\":0,\"arrowwidth\":1},\"autotypenumbers\":\"strict\",\"coloraxis\":{\"colorbar\":{\"outlinewidth\":0,\"ticks\":\"\"}},\"colorscale\":{\"diverging\":[[0,\"#8e0152\"],[0.1,\"#c51b7d\"],[0.2,\"#de77ae\"],[0.3,\"#f1b6da\"],[0.4,\"#fde0ef\"],[0.5,\"#f7f7f7\"],[0.6,\"#e6f5d0\"],[0.7,\"#b8e186\"],[0.8,\"#7fbc41\"],[0.9,\"#4d9221\"],[1,\"#276419\"]],\"sequential\":[[0.0,\"#0d0887\"],[0.1111111111111111,\"#46039f\"],[0.2222222222222222,\"#7201a8\"],[0.3333333333333333,\"#9c179e\"],[0.4444444444444444,\"#bd3786\"],[0.5555555555555556,\"#d8576b\"],[0.6666666666666666,\"#ed7953\"],[0.7777777777777778,\"#fb9f3a\"],[0.8888888888888888,\"#fdca26\"],[1.0,\"#f0f921\"]],\"sequentialminus\":[[0.0,\"#0d0887\"],[0.1111111111111111,\"#46039f\"],[0.2222222222222222,\"#7201a8\"],[0.3333333333333333,\"#9c179e\"],[0.4444444444444444,\"#bd3786\"],[0.5555555555555556,\"#d8576b\"],[0.6666666666666666,\"#ed7953\"],[0.7777777777777778,\"#fb9f3a\"],[0.8888888888888888,\"#fdca26\"],[1.0,\"#f0f921\"]]},\"colorway\":[\"#636efa\",\"#EF553B\",\"#00cc96\",\"#ab63fa\",\"#FFA15A\",\"#19d3f3\",\"#FF6692\",\"#B6E880\",\"#FF97FF\",\"#FECB52\"],\"font\":{\"color\":\"#2a3f5f\"},\"geo\":{\"bgcolor\":\"white\",\"lakecolor\":\"white\",\"landcolor\":\"#E5ECF6\",\"showlakes\":true,\"showland\":true,\"subunitcolor\":\"white\"},\"hoverlabel\":{\"align\":\"left\"},\"hovermode\":\"closest\",\"mapbox\":{\"style\":\"light\"},\"paper_bgcolor\":\"white\",\"plot_bgcolor\":\"#E5ECF6\",\"polar\":{\"angularaxis\":{\"gridcolor\":\"white\",\"linecolor\":\"white\",\"ticks\":\"\"},\"bgcolor\":\"#E5ECF6\",\"radialaxis\":{\"gridcolor\":\"white\",\"linecolor\":\"white\",\"ticks\":\"\"}},\"scene\":{\"xaxis\":{\"backgroundcolor\":\"#E5ECF6\",\"gridcolor\":\"white\",\"gridwidth\":2,\"linecolor\":\"white\",\"showbackground\":true,\"ticks\":\"\",\"zerolinecolor\":\"white\"},\"yaxis\":{\"backgroundcolor\":\"#E5ECF6\",\"gridcolor\":\"white\",\"gridwidth\":2,\"linecolor\":\"white\",\"showbackground\":true,\"ticks\":\"\",\"zerolinecolor\":\"white\"},\"zaxis\":{\"backgroundcolor\":\"#E5ECF6\",\"gridcolor\":\"white\",\"gridwidth\":2,\"linecolor\":\"white\",\"showbackground\":true,\"ticks\":\"\",\"zerolinecolor\":\"white\"}},\"shapedefaults\":{\"line\":{\"color\":\"#2a3f5f\"}},\"ternary\":{\"aaxis\":{\"gridcolor\":\"white\",\"linecolor\":\"white\",\"ticks\":\"\"},\"baxis\":{\"gridcolor\":\"white\",\"linecolor\":\"white\",\"ticks\":\"\"},\"bgcolor\":\"#E5ECF6\",\"caxis\":{\"gridcolor\":\"white\",\"linecolor\":\"white\",\"ticks\":\"\"}},\"title\":{\"x\":0.05},\"xaxis\":{\"automargin\":true,\"gridcolor\":\"white\",\"linecolor\":\"white\",\"ticks\":\"\",\"title\":{\"standoff\":15},\"zerolinecolor\":\"white\",\"zerolinewidth\":2},\"yaxis\":{\"automargin\":true,\"gridcolor\":\"white\",\"linecolor\":\"white\",\"ticks\":\"\",\"title\":{\"standoff\":15},\"zerolinecolor\":\"white\",\"zerolinewidth\":2}}},\"xaxis\":{\"anchor\":\"y\",\"domain\":[0.0,1.0],\"title\":{\"text\":\"Album\"}},\"yaxis\":{\"anchor\":\"x\",\"domain\":[0.0,1.0],\"title\":{\"text\":\"listeners\"}}},                        {\"responsive\": true}                    ).then(function(){\n",
       "                            \n",
       "var gd = document.getElementById('cb707fa6-8ca9-4965-abae-554d6f7c4384');\n",
       "var x = new MutationObserver(function (mutations, observer) {{\n",
       "        var display = window.getComputedStyle(gd).display;\n",
       "        if (!display || display === 'none') {{\n",
       "            console.log([gd, 'removed!']);\n",
       "            Plotly.purge(gd);\n",
       "            observer.disconnect();\n",
       "        }}\n",
       "}});\n",
       "\n",
       "// Listen for the removal of the full notebook cells\n",
       "var notebookContainer = gd.closest('#notebook-container');\n",
       "if (notebookContainer) {{\n",
       "    x.observe(notebookContainer, {childList: true});\n",
       "}}\n",
       "\n",
       "// Listen for the clearing of the current output cell\n",
       "var outputEl = gd.closest('.output');\n",
       "if (outputEl) {{\n",
       "    x.observe(outputEl, {childList: true});\n",
       "}}\n",
       "\n",
       "                        })                };                });            </script>        </div>"
      ]
     },
     "metadata": {},
     "output_type": "display_data"
    }
   ],
   "source": [
    "fig = px.bar(Stones_Last.head(20), x=\"Album\", y=\"listeners\",color = \"Number\")\n",
    "fig.show()"
   ]
  },
  {
   "cell_type": "code",
   "execution_count": 41,
   "id": "a0ccb366",
   "metadata": {},
   "outputs": [],
   "source": [
    "Stone_last_art= Stones_Last.groupby([\"Artist\"]).agg({\"Number\":\"min\",\"Album\":\"count\",\"playcount\":\"sum\",\"listeners\":\"sum\",\"Rating\":\"mean\"}).reset_index().sort_values(\"Number\")"
   ]
  },
  {
   "cell_type": "code",
   "execution_count": 9,
   "id": "d48b166a",
   "metadata": {},
   "outputs": [
    {
     "data": {
      "text/plain": [
       "Index(['Number', 'Year', 'Album', 'Artist', 'Type', 'Rating', 'Gen',\n",
       "       'playcount', 'listeners'],\n",
       "      dtype='object')"
      ]
     },
     "execution_count": 9,
     "metadata": {},
     "output_type": "execute_result"
    }
   ],
   "source": [
    "Stones_Last.columns"
   ]
  },
  {
   "cell_type": "code",
   "execution_count": 54,
   "id": "698f69f8",
   "metadata": {
    "scrolled": false
   },
   "outputs": [
    {
     "data": {
      "application/vnd.plotly.v1+json": {
       "config": {
        "plotlyServerURL": "https://plot.ly"
       },
       "data": [
        {
         "hovertemplate": "Artist=Marvin Gaye<br>Number=%{x}<br>listeners=%{y}<extra></extra>",
         "legendgroup": "Marvin Gaye",
         "marker": {
          "color": "#636efa",
          "symbol": "circle"
         },
         "mode": "markers",
         "name": "Marvin Gaye",
         "orientation": "v",
         "showlegend": true,
         "type": "scatter",
         "x": [
          1,
          422,
          493
         ],
         "xaxis": "x",
         "y": [
          543969,
          224624,
          60774
         ],
         "yaxis": "y"
        },
        {
         "hovertemplate": "Artist=The Beach Boys<br>Number=%{x}<br>listeners=%{y}<extra></extra>",
         "legendgroup": "The Beach Boys",
         "marker": {
          "color": "#EF553B",
          "symbol": "circle"
         },
         "mode": "markers",
         "name": "The Beach Boys",
         "orientation": "v",
         "showlegend": true,
         "type": "scatter",
         "x": [
          2,
          410,
          466
         ],
         "xaxis": "x",
         "y": [
          543460,
          30429,
          8743
         ],
         "yaxis": "y"
        },
        {
         "hovertemplate": "Artist=Joni Mitchell<br>Number=%{x}<br>listeners=%{y}<extra></extra>",
         "legendgroup": "Joni Mitchell",
         "marker": {
          "color": "#00cc96",
          "symbol": "circle"
         },
         "mode": "markers",
         "name": "Joni Mitchell",
         "orientation": "v",
         "showlegend": true,
         "type": "scatter",
         "x": [
          3,
          110,
          133,
          258
         ],
         "xaxis": "x",
         "y": [
          534964,
          161106,
          115411,
          76439
         ],
         "yaxis": "y"
        },
        {
         "hovertemplate": "Artist=Stevie Wonder<br>Number=%{x}<br>listeners=%{y}<extra></extra>",
         "legendgroup": "Stevie Wonder",
         "marker": {
          "color": "#ab63fa",
          "symbol": "circle"
         },
         "mode": "markers",
         "name": "Stevie Wonder",
         "orientation": "v",
         "showlegend": true,
         "type": "scatter",
         "x": [
          4,
          34,
          59,
          350
         ],
         "xaxis": "x",
         "y": [
          756100,
          418574,
          441088,
          82913
         ],
         "yaxis": "y"
        },
        {
         "hovertemplate": "Artist=The Beatles<br>Number=%{x}<br>listeners=%{y}<extra></extra>",
         "legendgroup": "The Beatles",
         "marker": {
          "color": "#FFA15A",
          "symbol": "circle"
         },
         "mode": "markers",
         "name": "The Beatles",
         "orientation": "v",
         "showlegend": true,
         "type": "scatter",
         "x": [
          5,
          11,
          24,
          29,
          35,
          197,
          263,
          266,
          342
         ],
         "xaxis": "x",
         "y": [
          1071346,
          797117,
          847586,
          562481,
          707816,
          16575,
          479074,
          596213,
          681515
         ],
         "yaxis": "y"
        },
        {
         "hovertemplate": "Artist=Nirvana<br>Number=%{x}<br>listeners=%{y}<extra></extra>",
         "legendgroup": "Nirvana",
         "marker": {
          "color": "#19d3f3",
          "symbol": "circle"
         },
         "mode": "markers",
         "name": "Nirvana",
         "orientation": "v",
         "showlegend": true,
         "type": "scatter",
         "x": [
          6,
          173,
          279
         ],
         "xaxis": "x",
         "y": [
          2463939,
          1364112,
          1497537
         ],
         "yaxis": "y"
        },
        {
         "hovertemplate": "Artist=Fleetwood Mac<br>Number=%{x}<br>listeners=%{y}<extra></extra>",
         "legendgroup": "Fleetwood Mac",
         "marker": {
          "color": "#FF6692",
          "symbol": "circle"
         },
         "mode": "markers",
         "name": "Fleetwood Mac",
         "orientation": "v",
         "showlegend": true,
         "type": "scatter",
         "x": [
          7
         ],
         "xaxis": "x",
         "y": [
          1117937
         ],
         "yaxis": "y"
        },
        {
         "hovertemplate": "Artist=Prince & The Revolution<br>Number=%{x}<br>listeners=%{y}<extra></extra>",
         "legendgroup": "Prince & The Revolution",
         "marker": {
          "color": "#B6E880",
          "symbol": "circle"
         },
         "mode": "markers",
         "name": "Prince & The Revolution",
         "orientation": "v",
         "showlegend": true,
         "type": "scatter",
         "x": [
          8,
          45,
          130,
          326
         ],
         "xaxis": "x",
         "y": [
          253268,
          1,
          531,
          19
         ],
         "yaxis": "y"
        },
        {
         "hovertemplate": "Artist=Bob Dylan<br>Number=%{x}<br>listeners=%{y}<extra></extra>",
         "legendgroup": "Bob Dylan",
         "marker": {
          "color": "#FF97FF",
          "symbol": "circle"
         },
         "mode": "markers",
         "name": "Bob Dylan",
         "orientation": "v",
         "showlegend": true,
         "type": "scatter",
         "x": [
          9,
          18,
          38,
          181,
          255,
          337,
          411
         ],
         "xaxis": "x",
         "y": [
          490751,
          746015,
          497266,
          500183,
          532230,
          231058,
          166
         ],
         "yaxis": "y"
        },
        {
         "hovertemplate": "Artist=Lauryn Hill<br>Number=%{x}<br>listeners=%{y}<extra></extra>",
         "legendgroup": "Lauryn Hill",
         "marker": {
          "color": "#FECB52",
          "symbol": "circle"
         },
         "mode": "markers",
         "name": "Lauryn Hill",
         "orientation": "v",
         "showlegend": true,
         "type": "scatter",
         "x": [
          10
         ],
         "xaxis": "x",
         "y": [
          780979
         ],
         "yaxis": "y"
        },
        {
         "hovertemplate": "Artist=Michael Jackson<br>Number=%{x}<br>listeners=%{y}<extra></extra>",
         "legendgroup": "Michael Jackson",
         "marker": {
          "color": "#636efa",
          "symbol": "circle"
         },
         "mode": "markers",
         "name": "Michael Jackson",
         "orientation": "v",
         "showlegend": true,
         "type": "scatter",
         "x": [
          12,
          36,
          194
         ],
         "xaxis": "x",
         "y": [
          1302520,
          726784,
          705624
         ],
         "yaxis": "y"
        },
        {
         "hovertemplate": "Artist=Aretha Franklin<br>Number=%{x}<br>listeners=%{y}<extra></extra>",
         "legendgroup": "Aretha Franklin",
         "marker": {
          "color": "#EF553B",
          "symbol": "circle"
         },
         "mode": "markers",
         "name": "Aretha Franklin",
         "orientation": "v",
         "showlegend": true,
         "type": "scatter",
         "x": [
          13,
          75,
          154,
          388
         ],
         "xaxis": "x",
         "y": [
          582316,
          88143,
          21470,
          113863
         ],
         "yaxis": "y"
        },
        {
         "hovertemplate": "Artist=The Rolling Stones<br>Number=%{x}<br>listeners=%{y}<extra></extra>",
         "legendgroup": "The Rolling Stones",
         "marker": {
          "color": "#00cc96",
          "symbol": "circle"
         },
         "mode": "markers",
         "name": "The Rolling Stones",
         "orientation": "v",
         "showlegend": true,
         "type": "scatter",
         "x": [
          14,
          41,
          104,
          185,
          330,
          468
         ],
         "xaxis": "x",
         "y": [
          613135,
          1053926,
          553721,
          598482,
          632056,
          525797
         ],
         "yaxis": "y"
        },
        {
         "hovertemplate": "Artist=Public Enemy<br>Number=%{x}<br>listeners=%{y}<extra></extra>",
         "legendgroup": "Public Enemy",
         "marker": {
          "color": "#ab63fa",
          "symbol": "circle"
         },
         "mode": "markers",
         "name": "Public Enemy",
         "orientation": "v",
         "showlegend": true,
         "type": "scatter",
         "x": [
          15,
          176
         ],
         "xaxis": "x",
         "y": [
          373462,
          320603
         ],
         "yaxis": "y"
        },
        {
         "hovertemplate": "Artist=The Clash<br>Number=%{x}<br>listeners=%{y}<extra></extra>",
         "legendgroup": "The Clash",
         "marker": {
          "color": "#FFA15A",
          "symbol": "circle"
         },
         "mode": "markers",
         "name": "The Clash",
         "orientation": "v",
         "showlegend": true,
         "type": "scatter",
         "x": [
          16,
          102,
          323
         ],
         "xaxis": "x",
         "y": [
          1142259,
          426580,
          232288
         ],
         "yaxis": "y"
        },
        {
         "hovertemplate": "Artist=Kanye West<br>Number=%{x}<br>listeners=%{y}<extra></extra>",
         "legendgroup": "Kanye West",
         "marker": {
          "color": "#19d3f3",
          "symbol": "circle"
         },
         "mode": "markers",
         "name": "Kanye West",
         "orientation": "v",
         "showlegend": true,
         "type": "scatter",
         "x": [
          17,
          74,
          117,
          204,
          244,
          269
         ],
         "xaxis": "x",
         "y": [
          1555345,
          1009450,
          1358042,
          1842112,
          1561213,
          937014
         ],
         "yaxis": "y"
        },
        {
         "hovertemplate": "Artist=Kendrick Lamar<br>Number=%{x}<br>listeners=%{y}<extra></extra>",
         "legendgroup": "Kendrick Lamar",
         "marker": {
          "color": "#FF6692",
          "symbol": "circle"
         },
         "mode": "markers",
         "name": "Kendrick Lamar",
         "orientation": "v",
         "showlegend": true,
         "type": "scatter",
         "x": [
          19,
          115,
          175
         ],
         "xaxis": "x",
         "y": [
          803462,
          745200,
          956612
         ],
         "yaxis": "y"
        },
        {
         "hovertemplate": "Artist=Radiohead<br>Number=%{x}<br>listeners=%{y}<extra></extra>",
         "legendgroup": "Radiohead",
         "marker": {
          "color": "#B6E880",
          "symbol": "circle"
         },
         "mode": "markers",
         "name": "Radiohead",
         "orientation": "v",
         "showlegend": true,
         "type": "scatter",
         "x": [
          20,
          42,
          276,
          387
         ],
         "xaxis": "x",
         "y": [
          1647551,
          2457676,
          1845862,
          2021667
         ],
         "yaxis": "y"
        },
        {
         "hovertemplate": "Artist=Bruce Springsteen<br>Number=%{x}<br>listeners=%{y}<extra></extra>",
         "legendgroup": "Bruce Springsteen",
         "marker": {
          "color": "#FF97FF",
          "symbol": "circle"
         },
         "mode": "markers",
         "name": "Bruce Springsteen",
         "orientation": "v",
         "showlegend": true,
         "type": "scatter",
         "x": [
          21,
          91,
          142,
          150,
          345
         ],
         "xaxis": "x",
         "y": [
          476760,
          185874,
          797500,
          248541,
          98287
         ],
         "yaxis": "y"
        },
        {
         "hovertemplate": "Artist=The Notorious B.I.G.<br>Number=%{x}<br>listeners=%{y}<extra></extra>",
         "legendgroup": "The Notorious B.I.G.",
         "marker": {
          "color": "#FECB52",
          "symbol": "circle"
         },
         "mode": "markers",
         "name": "The Notorious B.I.G.",
         "orientation": "v",
         "showlegend": true,
         "type": "scatter",
         "x": [
          22,
          179
         ],
         "xaxis": "x",
         "y": [
          985572,
          579123
         ],
         "yaxis": "y"
        },
        {
         "hovertemplate": "Artist=The Velvet Underground<br>Number=%{x}<br>listeners=%{y}<extra></extra>",
         "legendgroup": "The Velvet Underground",
         "marker": {
          "color": "#636efa",
          "symbol": "circle"
         },
         "mode": "markers",
         "name": "The Velvet Underground",
         "orientation": "v",
         "showlegend": true,
         "type": "scatter",
         "x": [
          23,
          143,
          242,
          272
         ],
         "xaxis": "x",
         "y": [
          569601,
          691891,
          288029,
          301281
         ],
         "yaxis": "y"
        },
        {
         "hovertemplate": "Artist=Carole King<br>Number=%{x}<br>listeners=%{y}<extra></extra>",
         "legendgroup": "Carole King",
         "marker": {
          "color": "#EF553B",
          "symbol": "circle"
         },
         "mode": "markers",
         "name": "Carole King",
         "orientation": "v",
         "showlegend": true,
         "type": "scatter",
         "x": [
          25
         ],
         "xaxis": "x",
         "y": [
          515505
         ],
         "yaxis": "y"
        },
        {
         "hovertemplate": "Artist=Patti Smith<br>Number=%{x}<br>listeners=%{y}<extra></extra>",
         "legendgroup": "Patti Smith",
         "marker": {
          "color": "#00cc96",
          "symbol": "circle"
         },
         "mode": "markers",
         "name": "Patti Smith",
         "orientation": "v",
         "showlegend": true,
         "type": "scatter",
         "x": [
          26
         ],
         "xaxis": "x",
         "y": [
          347775
         ],
         "yaxis": "y"
        },
        {
         "hovertemplate": "Artist=Wu‐Tang Clan<br>Number=%{x}<br>listeners=%{y}<extra></extra>",
         "legendgroup": "Wu‐Tang Clan",
         "marker": {
          "color": "#ab63fa",
          "symbol": "circle"
         },
         "mode": "markers",
         "name": "Wu‐Tang Clan",
         "orientation": "v",
         "showlegend": true,
         "type": "scatter",
         "x": [
          27
         ],
         "xaxis": "x",
         "y": [
          538
         ],
         "yaxis": "y"
        },
        {
         "hovertemplate": "Artist=D'Angelo<br>Number=%{x}<br>listeners=%{y}<extra></extra>",
         "legendgroup": "D'Angelo",
         "marker": {
          "color": "#FFA15A",
          "symbol": "circle"
         },
         "mode": "markers",
         "name": "D'Angelo",
         "orientation": "v",
         "showlegend": true,
         "type": "scatter",
         "x": [
          28,
          183
         ],
         "xaxis": "x",
         "y": [
          401889,
          325177
         ],
         "yaxis": "y"
        },
        {
         "hovertemplate": "Artist=The Jimi Hendrix Experience<br>Number=%{x}<br>listeners=%{y}<extra></extra>",
         "legendgroup": "The Jimi Hendrix Experience",
         "marker": {
          "color": "#19d3f3",
          "symbol": "circle"
         },
         "mode": "markers",
         "name": "The Jimi Hendrix Experience",
         "orientation": "v",
         "showlegend": true,
         "type": "scatter",
         "x": [
          30,
          53,
          92
         ],
         "xaxis": "x",
         "y": [
          563480,
          496888,
          427975
         ],
         "yaxis": "y"
        },
        {
         "hovertemplate": "Artist=Miles Davis<br>Number=%{x}<br>listeners=%{y}<extra></extra>",
         "legendgroup": "Miles Davis",
         "marker": {
          "color": "#FF6692",
          "symbol": "circle"
         },
         "mode": "markers",
         "name": "Miles Davis",
         "orientation": "v",
         "showlegend": true,
         "type": "scatter",
         "x": [
          31,
          87
         ],
         "xaxis": "x",
         "y": [
          619304,
          227141
         ],
         "yaxis": "y"
        },
        {
         "hovertemplate": "Artist=Beyoncé<br>Number=%{x}<br>listeners=%{y}<extra></extra>",
         "legendgroup": "Beyoncé",
         "marker": {
          "color": "#B6E880",
          "symbol": "circle"
         },
         "mode": "markers",
         "name": "Beyoncé",
         "orientation": "v",
         "showlegend": true,
         "type": "scatter",
         "x": [
          32,
          81
         ],
         "xaxis": "x",
         "y": [
          459717,
          388481
         ],
         "yaxis": "y"
        },
        {
         "hovertemplate": "Artist=Amy Winehouse<br>Number=%{x}<br>listeners=%{y}<extra></extra>",
         "legendgroup": "Amy Winehouse",
         "marker": {
          "color": "#FF97FF",
          "symbol": "circle"
         },
         "mode": "markers",
         "name": "Amy Winehouse",
         "orientation": "v",
         "showlegend": true,
         "type": "scatter",
         "x": [
          33
         ],
         "xaxis": "x",
         "y": [
          1698394
         ],
         "yaxis": "y"
        },
        {
         "hovertemplate": "Artist=Dr. Dre<br>Number=%{x}<br>listeners=%{y}<extra></extra>",
         "legendgroup": "Dr. Dre",
         "marker": {
          "color": "#FECB52",
          "symbol": "circle"
         },
         "mode": "markers",
         "name": "Dr. Dre",
         "orientation": "v",
         "showlegend": true,
         "type": "scatter",
         "x": [
          37
         ],
         "xaxis": "x",
         "y": [
          509751
         ],
         "yaxis": "y"
        },
        {
         "hovertemplate": "Artist=Talking Heads<br>Number=%{x}<br>listeners=%{y}<extra></extra>",
         "legendgroup": "Talking Heads",
         "marker": {
          "color": "#636efa",
          "symbol": "circle"
         },
         "mode": "markers",
         "name": "Talking Heads",
         "orientation": "v",
         "showlegend": true,
         "type": "scatter",
         "x": [
          39,
          364
         ],
         "xaxis": "x",
         "y": [
          343014,
          172443
         ],
         "yaxis": "y"
        },
        {
         "hovertemplate": "Artist=David Bowie<br>Number=%{x}<br>listeners=%{y}<extra></extra>",
         "legendgroup": "David Bowie",
         "marker": {
          "color": "#EF553B",
          "symbol": "circle"
         },
         "mode": "markers",
         "name": "David Bowie",
         "orientation": "v",
         "showlegend": true,
         "type": "scatter",
         "x": [
          40,
          52,
          88,
          206,
          443
         ],
         "xaxis": "x",
         "y": [
          396421,
          188883,
          515939,
          324713,
          1348
         ],
         "yaxis": "y"
        },
        {
         "hovertemplate": "Artist=A Tribe Called Quest<br>Number=%{x}<br>listeners=%{y}<extra></extra>",
         "legendgroup": "A Tribe Called Quest",
         "marker": {
          "color": "#00cc96",
          "symbol": "circle"
         },
         "mode": "markers",
         "name": "A Tribe Called Quest",
         "orientation": "v",
         "showlegend": true,
         "type": "scatter",
         "x": [
          43,
          201
         ],
         "xaxis": "x",
         "y": [
          696278,
          636563
         ],
         "yaxis": "y"
        },
        {
         "hovertemplate": "Artist=Nas<br>Number=%{x}<br>listeners=%{y}<extra></extra>",
         "legendgroup": "Nas",
         "marker": {
          "color": "#ab63fa",
          "symbol": "circle"
         },
         "mode": "markers",
         "name": "Nas",
         "orientation": "v",
         "showlegend": true,
         "type": "scatter",
         "x": [
          44
         ],
         "xaxis": "x",
         "y": [
          897709
         ],
         "yaxis": "y"
        },
        {
         "hovertemplate": "Artist=Paul Simon<br>Number=%{x}<br>listeners=%{y}<extra></extra>",
         "legendgroup": "Paul Simon",
         "marker": {
          "color": "#FFA15A",
          "symbol": "circle"
         },
         "mode": "markers",
         "name": "Paul Simon",
         "orientation": "v",
         "showlegend": true,
         "type": "scatter",
         "x": [
          46,
          425
         ],
         "xaxis": "x",
         "y": [
          433289,
          448760
         ],
         "yaxis": "y"
        },
        {
         "hovertemplate": "Artist=Ramones<br>Number=%{x}<br>listeners=%{y}<extra></extra>",
         "legendgroup": "Ramones",
         "marker": {
          "color": "#19d3f3",
          "symbol": "circle"
         },
         "mode": "markers",
         "name": "Ramones",
         "orientation": "v",
         "showlegend": true,
         "type": "scatter",
         "x": [
          47,
          385
         ],
         "xaxis": "x",
         "y": [
          519477,
          307874
         ],
         "yaxis": "y"
        },
        {
         "hovertemplate": "Artist=Bob Marley & The Wailers<br>Number=%{x}<br>listeners=%{y}<extra></extra>",
         "legendgroup": "Bob Marley & The Wailers",
         "marker": {
          "color": "#FF6692",
          "symbol": "circle"
         },
         "mode": "markers",
         "name": "Bob Marley & The Wailers",
         "orientation": "v",
         "showlegend": true,
         "type": "scatter",
         "x": [
          48,
          71
         ],
         "xaxis": "x",
         "y": [
          15958,
          340051
         ],
         "yaxis": "y"
        },
        {
         "hovertemplate": "Artist=OutKast<br>Number=%{x}<br>listeners=%{y}<extra></extra>",
         "legendgroup": "OutKast",
         "marker": {
          "color": "#B6E880",
          "symbol": "circle"
         },
         "mode": "markers",
         "name": "OutKast",
         "orientation": "v",
         "showlegend": true,
         "type": "scatter",
         "x": [
          49,
          64,
          290
         ],
         "xaxis": "x",
         "y": [
          533759,
          1361854,
          55591
         ],
         "yaxis": "y"
        },
        {
         "hovertemplate": "Artist=Jay‐Z<br>Number=%{x}<br>listeners=%{y}<extra></extra>",
         "legendgroup": "Jay‐Z",
         "marker": {
          "color": "#FF97FF",
          "symbol": "circle"
         },
         "mode": "markers",
         "name": "Jay‐Z",
         "orientation": "v",
         "showlegend": true,
         "type": "scatter",
         "x": [
          50,
          155
         ],
         "xaxis": "x",
         "y": [
          205,
          226
         ],
         "yaxis": "y"
        },
        {
         "hovertemplate": "Artist=Chuck Berry<br>Number=%{x}<br>listeners=%{y}<extra></extra>",
         "legendgroup": "Chuck Berry",
         "marker": {
          "color": "#FECB52",
          "symbol": "circle"
         },
         "mode": "markers",
         "name": "Chuck Berry",
         "orientation": "v",
         "showlegend": true,
         "type": "scatter",
         "x": [
          51
         ],
         "xaxis": "x",
         "y": [
          86
         ],
         "yaxis": "y"
        },
        {
         "hovertemplate": "Artist=James Brown<br>Number=%{x}<br>listeners=%{y}<extra></extra>",
         "legendgroup": "James Brown",
         "marker": {
          "color": "#636efa",
          "symbol": "circle"
         },
         "mode": "markers",
         "name": "James Brown",
         "orientation": "v",
         "showlegend": true,
         "type": "scatter",
         "x": [
          54,
          65,
          439
         ],
         "xaxis": "x",
         "y": [
          115488,
          3206,
          48673
         ],
         "yaxis": "y"
        },
        {
         "hovertemplate": "Artist=Pink Floyd<br>Number=%{x}<br>listeners=%{y}<extra></extra>",
         "legendgroup": "Pink Floyd",
         "marker": {
          "color": "#EF553B",
          "symbol": "circle"
         },
         "mode": "markers",
         "name": "Pink Floyd",
         "orientation": "v",
         "showlegend": true,
         "type": "scatter",
         "x": [
          55,
          129,
          253,
          264
         ],
         "xaxis": "x",
         "y": [
          1392712,
          887916,
          432902,
          970757
         ],
         "yaxis": "y"
        },
        {
         "hovertemplate": "Artist=Liz Phair<br>Number=%{x}<br>listeners=%{y}<extra></extra>",
         "legendgroup": "Liz Phair",
         "marker": {
          "color": "#00cc96",
          "symbol": "circle"
         },
         "mode": "markers",
         "name": "Liz Phair",
         "orientation": "v",
         "showlegend": true,
         "type": "scatter",
         "x": [
          56
         ],
         "xaxis": "x",
         "y": [
          250102
         ],
         "yaxis": "y"
        },
        {
         "hovertemplate": "Artist=The Band<br>Number=%{x}<br>listeners=%{y}<extra></extra>",
         "legendgroup": "The Band",
         "marker": {
          "color": "#ab63fa",
          "symbol": "circle"
         },
         "mode": "markers",
         "name": "The Band",
         "orientation": "v",
         "showlegend": true,
         "type": "scatter",
         "x": [
          57,
          100
         ],
         "xaxis": "x",
         "y": [
          330879,
          206450
         ],
         "yaxis": "y"
        },
        {
         "hovertemplate": "Artist=Led Zeppelin<br>Number=%{x}<br>listeners=%{y}<extra></extra>",
         "legendgroup": "Led Zeppelin",
         "marker": {
          "color": "#FFA15A",
          "symbol": "circle"
         },
         "mode": "markers",
         "name": "Led Zeppelin",
         "orientation": "v",
         "showlegend": true,
         "type": "scatter",
         "x": [
          58,
          101,
          123,
          144,
          278
         ],
         "xaxis": "x",
         "y": [
          21003,
          948811,
          993016,
          550711,
          586779
         ],
         "yaxis": "y"
        },
        {
         "hovertemplate": "Artist=Van Morrison<br>Number=%{x}<br>listeners=%{y}<extra></extra>",
         "legendgroup": "Van Morrison",
         "marker": {
          "color": "#19d3f3",
          "symbol": "circle"
         },
         "mode": "markers",
         "name": "Van Morrison",
         "orientation": "v",
         "showlegend": true,
         "type": "scatter",
         "x": [
          60,
          120
         ],
         "xaxis": "x",
         "y": [
          409142,
          555064
         ],
         "yaxis": "y"
        },
        {
         "hovertemplate": "Artist=Eric B. & Rakim<br>Number=%{x}<br>listeners=%{y}<extra></extra>",
         "legendgroup": "Eric B. & Rakim",
         "marker": {
          "color": "#FF6692",
          "symbol": "circle"
         },
         "mode": "markers",
         "name": "Eric B. & Rakim",
         "orientation": "v",
         "showlegend": true,
         "type": "scatter",
         "x": [
          61
         ],
         "xaxis": "x",
         "y": [
          296703
         ],
         "yaxis": "y"
        },
        {
         "hovertemplate": "Artist=Guns N' Roses<br>Number=%{x}<br>listeners=%{y}<extra></extra>",
         "legendgroup": "Guns N' Roses",
         "marker": {
          "color": "#B6E880",
          "symbol": "circle"
         },
         "mode": "markers",
         "name": "Guns N' Roses",
         "orientation": "v",
         "showlegend": true,
         "type": "scatter",
         "x": [
          62
         ],
         "xaxis": "x",
         "y": [
          1987230
         ],
         "yaxis": "y"
        },
        {
         "hovertemplate": "Artist=Steely Dan<br>Number=%{x}<br>listeners=%{y}<extra></extra>",
         "legendgroup": "Steely Dan",
         "marker": {
          "color": "#FF97FF",
          "symbol": "circle"
         },
         "mode": "markers",
         "name": "Steely Dan",
         "orientation": "v",
         "showlegend": true,
         "type": "scatter",
         "x": [
          63,
          168
         ],
         "xaxis": "x",
         "y": [
          312445,
          483214
         ],
         "yaxis": "y"
        },
        {
         "hovertemplate": "Artist=John Coltrane<br>Number=%{x}<br>listeners=%{y}<extra></extra>",
         "legendgroup": "John Coltrane",
         "marker": {
          "color": "#FECB52",
          "symbol": "circle"
         },
         "mode": "markers",
         "name": "John Coltrane",
         "orientation": "v",
         "showlegend": true,
         "type": "scatter",
         "x": [
          66,
          232
         ],
         "xaxis": "x",
         "y": [
          192786,
          213957
         ],
         "yaxis": "y"
        },
        {
         "hovertemplate": "Artist=Jaÿ‐Z<br>Number=%{x}<br>listeners=%{y}<extra></extra>",
         "legendgroup": "Jaÿ‐Z",
         "marker": {
          "color": "#636efa",
          "symbol": "circle"
         },
         "mode": "markers",
         "name": "Jaÿ‐Z",
         "orientation": "v",
         "showlegend": true,
         "type": "scatter",
         "x": [
          67
         ],
         "xaxis": "x",
         "y": [
          4
         ],
         "yaxis": "y"
        },
        {
         "hovertemplate": "Artist=Kate Bush<br>Number=%{x}<br>listeners=%{y}<extra></extra>",
         "legendgroup": "Kate Bush",
         "marker": {
          "color": "#EF553B",
          "symbol": "circle"
         },
         "mode": "markers",
         "name": "Kate Bush",
         "orientation": "v",
         "showlegend": true,
         "type": "scatter",
         "x": [
          68
         ],
         "xaxis": "x",
         "y": [
          647760
         ],
         "yaxis": "y"
        },
        {
         "hovertemplate": "Artist=Alanis Morissette<br>Number=%{x}<br>listeners=%{y}<extra></extra>",
         "legendgroup": "Alanis Morissette",
         "marker": {
          "color": "#00cc96",
          "symbol": "circle"
         },
         "mode": "markers",
         "name": "Alanis Morissette",
         "orientation": "v",
         "showlegend": true,
         "type": "scatter",
         "x": [
          69
         ],
         "xaxis": "x",
         "y": [
          946089
         ],
         "yaxis": "y"
        },
        {
         "hovertemplate": "Artist=N.W.A<br>Number=%{x}<br>listeners=%{y}<extra></extra>",
         "legendgroup": "N.W.A",
         "marker": {
          "color": "#ab63fa",
          "symbol": "circle"
         },
         "mode": "markers",
         "name": "N.W.A",
         "orientation": "v",
         "showlegend": true,
         "type": "scatter",
         "x": [
          70
         ],
         "xaxis": "x",
         "y": [
          489545
         ],
         "yaxis": "y"
        },
        {
         "hovertemplate": "Artist=Neil Young<br>Number=%{x}<br>listeners=%{y}<extra></extra>",
         "legendgroup": "Neil Young",
         "marker": {
          "color": "#FFA15A",
          "symbol": "circle"
         },
         "mode": "markers",
         "name": "Neil Young",
         "orientation": "v",
         "showlegend": true,
         "type": "scatter",
         "x": [
          72,
          90,
          302,
          311
         ],
         "xaxis": "x",
         "y": [
          631607,
          349538,
          131578,
          197173
         ],
         "yaxis": "y"
        },
        {
         "hovertemplate": "Artist=My Bloody Valentine<br>Number=%{x}<br>listeners=%{y}<extra></extra>",
         "legendgroup": "My Bloody Valentine",
         "marker": {
          "color": "#19d3f3",
          "symbol": "circle"
         },
         "mode": "markers",
         "name": "My Bloody Valentine",
         "orientation": "v",
         "showlegend": true,
         "type": "scatter",
         "x": [
          73
         ],
         "xaxis": "x",
         "y": [
          884802
         ],
         "yaxis": "y"
        },
        {
         "hovertemplate": "Artist=Curtis Mayfield<br>Number=%{x}<br>listeners=%{y}<extra></extra>",
         "legendgroup": "Curtis Mayfield",
         "marker": {
          "color": "#FF6692",
          "symbol": "circle"
         },
         "mode": "markers",
         "name": "Curtis Mayfield",
         "orientation": "v",
         "showlegend": true,
         "type": "scatter",
         "x": [
          76,
          275
         ],
         "xaxis": "x",
         "y": [
          87094,
          130930
         ],
         "yaxis": "y"
        },
        {
         "hovertemplate": "Artist=The Who<br>Number=%{x}<br>listeners=%{y}<extra></extra>",
         "legendgroup": "The Who",
         "marker": {
          "color": "#B6E880",
          "symbol": "circle"
         },
         "mode": "markers",
         "name": "The Who",
         "orientation": "v",
         "showlegend": true,
         "type": "scatter",
         "x": [
          77,
          190,
          316,
          327
         ],
         "xaxis": "x",
         "y": [
          881921,
          339104,
          142843,
          60469
         ],
         "yaxis": "y"
        },
        {
         "hovertemplate": "Artist=Elvis Presley<br>Number=%{x}<br>listeners=%{y}<extra></extra>",
         "legendgroup": "Elvis Presley",
         "marker": {
          "color": "#FF97FF",
          "symbol": "circle"
         },
         "mode": "markers",
         "name": "Elvis Presley",
         "orientation": "v",
         "showlegend": true,
         "type": "scatter",
         "x": [
          78,
          322,
          332
         ],
         "xaxis": "x",
         "y": [
          10542,
          163593,
          246184
         ],
         "yaxis": "y"
        },
        {
         "hovertemplate": "Artist=Frank Ocean<br>Number=%{x}<br>listeners=%{y}<extra></extra>",
         "legendgroup": "Frank Ocean",
         "marker": {
          "color": "#FECB52",
          "symbol": "circle"
         },
         "mode": "markers",
         "name": "Frank Ocean",
         "orientation": "v",
         "showlegend": true,
         "type": "scatter",
         "x": [
          79,
          148
         ],
         "xaxis": "x",
         "y": [
          857799,
          946307
         ],
         "yaxis": "y"
        },
        {
         "hovertemplate": "Artist=Sex Pistols<br>Number=%{x}<br>listeners=%{y}<extra></extra>",
         "legendgroup": "Sex Pistols",
         "marker": {
          "color": "#636efa",
          "symbol": "circle"
         },
         "mode": "markers",
         "name": "Sex Pistols",
         "orientation": "v",
         "showlegend": true,
         "type": "scatter",
         "x": [
          80
         ],
         "xaxis": "x",
         "y": [
          230539
         ],
         "yaxis": "y"
        },
        {
         "hovertemplate": "Artist=Sly & the Family Stone<br>Number=%{x}<br>listeners=%{y}<extra></extra>",
         "legendgroup": "Sly & the Family Stone",
         "marker": {
          "color": "#EF553B",
          "symbol": "circle"
         },
         "mode": "markers",
         "name": "Sly & the Family Stone",
         "orientation": "v",
         "showlegend": true,
         "type": "scatter",
         "x": [
          82,
          119,
          343
         ],
         "xaxis": "x",
         "y": [
          261053,
          171532,
          120575
         ],
         "yaxis": "y"
        },
        {
         "hovertemplate": "Artist=Dusty Springfield<br>Number=%{x}<br>listeners=%{y}<extra></extra>",
         "legendgroup": "Dusty Springfield",
         "marker": {
          "color": "#00cc96",
          "symbol": "circle"
         },
         "mode": "markers",
         "name": "Dusty Springfield",
         "orientation": "v",
         "showlegend": true,
         "type": "scatter",
         "x": [
          83
         ],
         "xaxis": "x",
         "y": [
          370871
         ],
         "yaxis": "y"
        },
        {
         "hovertemplate": "Artist=AC/DC<br>Number=%{x}<br>listeners=%{y}<extra></extra>",
         "legendgroup": "AC/DC",
         "marker": {
          "color": "#ab63fa",
          "symbol": "circle"
         },
         "mode": "markers",
         "name": "AC/DC",
         "orientation": "v",
         "showlegend": true,
         "type": "scatter",
         "x": [
          84
         ],
         "xaxis": "x",
         "y": [
          1507676
         ],
         "yaxis": "y"
        },
        {
         "hovertemplate": "Artist=John Lennon/Plastic Ono Band<br>Number=%{x}<br>listeners=%{y}<extra></extra>",
         "legendgroup": "John Lennon/Plastic Ono Band",
         "marker": {
          "color": "#FFA15A",
          "symbol": "circle"
         },
         "mode": "markers",
         "name": "John Lennon/Plastic Ono Band",
         "orientation": "v",
         "showlegend": true,
         "type": "scatter",
         "x": [
          85
         ],
         "xaxis": "x",
         "y": [
          42
         ],
         "yaxis": "y"
        },
        {
         "hovertemplate": "Artist=The Doors<br>Number=%{x}<br>listeners=%{y}<extra></extra>",
         "legendgroup": "The Doors",
         "marker": {
          "color": "#19d3f3",
          "symbol": "circle"
         },
         "mode": "markers",
         "name": "The Doors",
         "orientation": "v",
         "showlegend": true,
         "type": "scatter",
         "x": [
          86
         ],
         "xaxis": "x",
         "y": [
          1148247
         ],
         "yaxis": "y"
        },
        {
         "hovertemplate": "Artist=Erykah Badu<br>Number=%{x}<br>listeners=%{y}<extra></extra>",
         "legendgroup": "Erykah Badu",
         "marker": {
          "color": "#FF6692",
          "symbol": "circle"
         },
         "mode": "markers",
         "name": "Erykah Badu",
         "orientation": "v",
         "showlegend": true,
         "type": "scatter",
         "x": [
          89,
          158
         ],
         "xaxis": "x",
         "y": [
          533528,
          432252
         ],
         "yaxis": "y"
        },
        {
         "hovertemplate": "Artist=Missy Misdemeanor Elliott<br>Number=%{x}<br>listeners=%{y}<extra></extra>",
         "legendgroup": "Missy Misdemeanor Elliott",
         "marker": {
          "color": "#B6E880",
          "symbol": "circle"
         },
         "mode": "markers",
         "name": "Missy Misdemeanor Elliott",
         "orientation": "v",
         "showlegend": true,
         "type": "scatter",
         "x": [
          93
         ],
         "xaxis": "x",
         "y": [
          50
         ],
         "yaxis": "y"
        },
        {
         "hovertemplate": "Artist=The Stooges<br>Number=%{x}<br>listeners=%{y}<extra></extra>",
         "legendgroup": "The Stooges",
         "marker": {
          "color": "#FF97FF",
          "symbol": "circle"
         },
         "mode": "markers",
         "name": "The Stooges",
         "orientation": "v",
         "showlegend": true,
         "type": "scatter",
         "x": [
          94,
          488
         ],
         "xaxis": "x",
         "y": [
          213564,
          546631
         ],
         "yaxis": "y"
        },
        {
         "hovertemplate": "Artist=Drake<br>Number=%{x}<br>listeners=%{y}<extra></extra>",
         "legendgroup": "Drake",
         "marker": {
          "color": "#FECB52",
          "symbol": "circle"
         },
         "mode": "markers",
         "name": "Drake",
         "orientation": "v",
         "showlegend": true,
         "type": "scatter",
         "x": [
          95,
          367
         ],
         "xaxis": "x",
         "y": [
          503158,
          547127
         ],
         "yaxis": "y"
        },
        {
         "hovertemplate": "Artist=R.E.M.<br>Number=%{x}<br>listeners=%{y}<extra></extra>",
         "legendgroup": "R.E.M.",
         "marker": {
          "color": "#636efa",
          "symbol": "circle"
         },
         "mode": "markers",
         "name": "R.E.M.",
         "orientation": "v",
         "showlegend": true,
         "type": "scatter",
         "x": [
          96,
          165
         ],
         "xaxis": "x",
         "y": [
          866133,
          275636
         ],
         "yaxis": "y"
        },
        {
         "hovertemplate": "Artist=Metallica<br>Number=%{x}<br>listeners=%{y}<extra></extra>",
         "legendgroup": "Metallica",
         "marker": {
          "color": "#EF553B",
          "symbol": "circle"
         },
         "mode": "markers",
         "name": "Metallica",
         "orientation": "v",
         "showlegend": true,
         "type": "scatter",
         "x": [
          97,
          235
         ],
         "xaxis": "x",
         "y": [
          964110,
          1441291
         ],
         "yaxis": "y"
        },
        {
         "hovertemplate": "Artist=Lucinda Williams<br>Number=%{x}<br>listeners=%{y}<extra></extra>",
         "legendgroup": "Lucinda Williams",
         "marker": {
          "color": "#00cc96",
          "symbol": "circle"
         },
         "mode": "markers",
         "name": "Lucinda Williams",
         "orientation": "v",
         "showlegend": true,
         "type": "scatter",
         "x": [
          98,
          426
         ],
         "xaxis": "x",
         "y": [
          194176,
          17543
         ],
         "yaxis": "y"
        },
        {
         "hovertemplate": "Artist=Taylor Swift<br>Number=%{x}<br>listeners=%{y}<extra></extra>",
         "legendgroup": "Taylor Swift",
         "marker": {
          "color": "#ab63fa",
          "symbol": "circle"
         },
         "mode": "markers",
         "name": "Taylor Swift",
         "orientation": "v",
         "showlegend": true,
         "type": "scatter",
         "x": [
          99,
          393
         ],
         "xaxis": "x",
         "y": [
          582104,
          637282
         ],
         "yaxis": "y"
        },
        {
         "hovertemplate": "Artist=De La Soul<br>Number=%{x}<br>listeners=%{y}<extra></extra>",
         "legendgroup": "De La Soul",
         "marker": {
          "color": "#FFA15A",
          "symbol": "circle"
         },
         "mode": "markers",
         "name": "De La Soul",
         "orientation": "v",
         "showlegend": true,
         "type": "scatter",
         "x": [
          103,
          228
         ],
         "xaxis": "x",
         "y": [
          352274,
          186290
         ],
         "yaxis": "y"
        },
        {
         "hovertemplate": "Artist=The Allman Brothers Band<br>Number=%{x}<br>listeners=%{y}<extra></extra>",
         "legendgroup": "The Allman Brothers Band",
         "marker": {
          "color": "#19d3f3",
          "symbol": "circle"
         },
         "mode": "markers",
         "name": "The Allman Brothers Band",
         "orientation": "v",
         "showlegend": true,
         "type": "scatter",
         "x": [
          105
         ],
         "xaxis": "x",
         "y": [
          90806
         ],
         "yaxis": "y"
        },
        {
         "hovertemplate": "Artist=Hole<br>Number=%{x}<br>listeners=%{y}<extra></extra>",
         "legendgroup": "Hole",
         "marker": {
          "color": "#FF6692",
          "symbol": "circle"
         },
         "mode": "markers",
         "name": "Hole",
         "orientation": "v",
         "showlegend": true,
         "type": "scatter",
         "x": [
          106
         ],
         "xaxis": "x",
         "y": [
          548995
         ],
         "yaxis": "y"
        },
        {
         "hovertemplate": "Artist=Television<br>Number=%{x}<br>listeners=%{y}<extra></extra>",
         "legendgroup": "Television",
         "marker": {
          "color": "#B6E880",
          "symbol": "circle"
         },
         "mode": "markers",
         "name": "Television",
         "orientation": "v",
         "showlegend": true,
         "type": "scatter",
         "x": [
          107
         ],
         "xaxis": "x",
         "y": [
          477493
         ],
         "yaxis": "y"
        },
        {
         "hovertemplate": "Artist=Fiona Apple<br>Number=%{x}<br>listeners=%{y}<extra></extra>",
         "legendgroup": "Fiona Apple",
         "marker": {
          "color": "#FF97FF",
          "symbol": "circle"
         },
         "mode": "markers",
         "name": "Fiona Apple",
         "orientation": "v",
         "showlegend": true,
         "type": "scatter",
         "x": [
          108,
          213,
          444
         ],
         "xaxis": "x",
         "y": [
          401,
          206118,
          583380
         ],
         "yaxis": "y"
        },
        {
         "hovertemplate": "Artist=Lou Reed<br>Number=%{x}<br>listeners=%{y}<extra></extra>",
         "legendgroup": "Lou Reed",
         "marker": {
          "color": "#FECB52",
          "symbol": "circle"
         },
         "mode": "markers",
         "name": "Lou Reed",
         "orientation": "v",
         "showlegend": true,
         "type": "scatter",
         "x": [
          109
         ],
         "xaxis": "x",
         "y": [
          1114774
         ],
         "yaxis": "y"
        },
        {
         "hovertemplate": "Artist=Janet Jackson<br>Number=%{x}<br>listeners=%{y}<extra></extra>",
         "legendgroup": "Janet Jackson",
         "marker": {
          "color": "#636efa",
          "symbol": "circle"
         },
         "mode": "markers",
         "name": "Janet Jackson",
         "orientation": "v",
         "showlegend": true,
         "type": "scatter",
         "x": [
          111,
          339
         ],
         "xaxis": "x",
         "y": [
          147692,
          126141
         ],
         "yaxis": "y"
        },
        {
         "hovertemplate": "Artist=Elton John<br>Number=%{x}<br>listeners=%{y}<extra></extra>",
         "legendgroup": "Elton John",
         "marker": {
          "color": "#EF553B",
          "symbol": "circle"
         },
         "mode": "markers",
         "name": "Elton John",
         "orientation": "v",
         "showlegend": true,
         "type": "scatter",
         "x": [
          112,
          251
         ],
         "xaxis": "x",
         "y": [
          290546,
          56757
         ],
         "yaxis": "y"
        },
        {
         "hovertemplate": "Artist=The Smiths<br>Number=%{x}<br>listeners=%{y}<extra></extra>",
         "legendgroup": "The Smiths",
         "marker": {
          "color": "#00cc96",
          "symbol": "circle"
         },
         "mode": "markers",
         "name": "The Smiths",
         "orientation": "v",
         "showlegend": true,
         "type": "scatter",
         "x": [
          113
         ],
         "xaxis": "x",
         "y": [
          1152630
         ],
         "yaxis": "y"
        },
        {
         "hovertemplate": "Artist=The Strokes<br>Number=%{x}<br>listeners=%{y}<extra></extra>",
         "legendgroup": "The Strokes",
         "marker": {
          "color": "#ab63fa",
          "symbol": "circle"
         },
         "mode": "markers",
         "name": "The Strokes",
         "orientation": "v",
         "showlegend": true,
         "type": "scatter",
         "x": [
          114
         ],
         "xaxis": "x",
         "y": [
          2111910
         ],
         "yaxis": "y"
        },
        {
         "hovertemplate": "Artist=The Cure<br>Number=%{x}<br>listeners=%{y}<extra></extra>",
         "legendgroup": "The Cure",
         "marker": {
          "color": "#FFA15A",
          "symbol": "circle"
         },
         "mode": "markers",
         "name": "The Cure",
         "orientation": "v",
         "showlegend": true,
         "type": "scatter",
         "x": [
          116
         ],
         "xaxis": "x",
         "y": [
          687522
         ],
         "yaxis": "y"
        },
        {
         "hovertemplate": "Artist=Eagles<br>Number=%{x}<br>listeners=%{y}<extra></extra>",
         "legendgroup": "Eagles",
         "marker": {
          "color": "#19d3f3",
          "symbol": "circle"
         },
         "mode": "markers",
         "name": "Eagles",
         "orientation": "v",
         "showlegend": true,
         "type": "scatter",
         "x": [
          118,
          207
         ],
         "xaxis": "x",
         "y": [
          315921,
          117598
         ],
         "yaxis": "y"
        },
        {
         "hovertemplate": "Artist=Elvis Costello & The Attractions<br>Number=%{x}<br>listeners=%{y}<extra></extra>",
         "legendgroup": "Elvis Costello & The Attractions",
         "marker": {
          "color": "#FF6692",
          "symbol": "circle"
         },
         "mode": "markers",
         "name": "Elvis Costello & The Attractions",
         "orientation": "v",
         "showlegend": true,
         "type": "scatter",
         "x": [
          121
         ],
         "xaxis": "x",
         "y": [
          211020
         ],
         "yaxis": "y"
        },
        {
         "hovertemplate": "Artist=Nine Inch Nails<br>Number=%{x}<br>listeners=%{y}<extra></extra>",
         "legendgroup": "Nine Inch Nails",
         "marker": {
          "color": "#B6E880",
          "symbol": "circle"
         },
         "mode": "markers",
         "name": "Nine Inch Nails",
         "orientation": "v",
         "showlegend": true,
         "type": "scatter",
         "x": [
          122,
          453
         ],
         "xaxis": "x",
         "y": [
          1085245,
          567434
         ],
         "yaxis": "y"
        },
        {
         "hovertemplate": "Artist=U2<br>Number=%{x}<br>listeners=%{y}<extra></extra>",
         "legendgroup": "U2",
         "marker": {
          "color": "#FF97FF",
          "symbol": "circle"
         },
         "mode": "markers",
         "name": "U2",
         "orientation": "v",
         "showlegend": true,
         "type": "scatter",
         "x": [
          124,
          135
         ],
         "xaxis": "x",
         "y": [
          874236,
          820294
         ],
         "yaxis": "y"
        },
        {
         "hovertemplate": "Artist=Beastie Boys<br>Number=%{x}<br>listeners=%{y}<extra></extra>",
         "legendgroup": "Beastie Boys",
         "marker": {
          "color": "#FECB52",
          "symbol": "circle"
         },
         "mode": "markers",
         "name": "Beastie Boys",
         "orientation": "v",
         "showlegend": true,
         "type": "scatter",
         "x": [
          125,
          192,
          261
         ],
         "xaxis": "x",
         "y": [
          336877,
          775237,
          403787
         ],
         "yaxis": "y"
        },
        {
         "hovertemplate": "Artist=Mary J. Blige<br>Number=%{x}<br>listeners=%{y}<extra></extra>",
         "legendgroup": "Mary J. Blige",
         "marker": {
          "color": "#636efa",
          "symbol": "circle"
         },
         "mode": "markers",
         "name": "Mary J. Blige",
         "orientation": "v",
         "showlegend": true,
         "type": "scatter",
         "x": [
          126,
          271
         ],
         "xaxis": "x",
         "y": [
          211974,
          225128
         ],
         "yaxis": "y"
        },
        {
         "hovertemplate": "Artist=Ray Charles<br>Number=%{x}<br>listeners=%{y}<extra></extra>",
         "legendgroup": "Ray Charles",
         "marker": {
          "color": "#EF553B",
          "symbol": "circle"
         },
         "mode": "markers",
         "name": "Ray Charles",
         "orientation": "v",
         "showlegend": true,
         "type": "scatter",
         "x": [
          127,
          210
         ],
         "xaxis": "x",
         "y": [
          17745,
          19372
         ],
         "yaxis": "y"
        },
        {
         "hovertemplate": "Artist=Queen<br>Number=%{x}<br>listeners=%{y}<extra></extra>",
         "legendgroup": "Queen",
         "marker": {
          "color": "#00cc96",
          "symbol": "circle"
         },
         "mode": "markers",
         "name": "Queen",
         "orientation": "v",
         "showlegend": true,
         "type": "scatter",
         "x": [
          128
         ],
         "xaxis": "x",
         "y": [
          666109
         ],
         "yaxis": "y"
        },
        {
         "hovertemplate": "Artist=Portishead<br>Number=%{x}<br>listeners=%{y}<extra></extra>",
         "legendgroup": "Portishead",
         "marker": {
          "color": "#ab63fa",
          "symbol": "circle"
         },
         "mode": "markers",
         "name": "Portishead",
         "orientation": "v",
         "showlegend": true,
         "type": "scatter",
         "x": [
          131
         ],
         "xaxis": "x",
         "y": [
          1433262
         ],
         "yaxis": "y"
        },
        {
         "hovertemplate": "Artist=Hank Williams<br>Number=%{x}<br>listeners=%{y}<extra></extra>",
         "legendgroup": "Hank Williams",
         "marker": {
          "color": "#FFA15A",
          "symbol": "circle"
         },
         "mode": "markers",
         "name": "Hank Williams",
         "orientation": "v",
         "showlegend": true,
         "type": "scatter",
         "x": [
          132
         ],
         "xaxis": "x",
         "y": [
          66311
         ],
         "yaxis": "y"
        },
        {
         "hovertemplate": "Artist=Fugees (Refugee Camp)<br>Number=%{x}<br>listeners=%{y}<extra></extra>",
         "legendgroup": "Fugees (Refugee Camp)",
         "marker": {
          "color": "#19d3f3",
          "symbol": "circle"
         },
         "mode": "markers",
         "name": "Fugees (Refugee Camp)",
         "orientation": "v",
         "showlegend": true,
         "type": "scatter",
         "x": [
          134
         ],
         "xaxis": "x",
         "y": [
          173
         ],
         "yaxis": "y"
        },
        {
         "hovertemplate": "Artist=Funkadelic<br>Number=%{x}<br>listeners=%{y}<extra></extra>",
         "legendgroup": "Funkadelic",
         "marker": {
          "color": "#FF6692",
          "symbol": "circle"
         },
         "mode": "markers",
         "name": "Funkadelic",
         "orientation": "v",
         "showlegend": true,
         "type": "scatter",
         "x": [
          136,
          360
         ],
         "xaxis": "x",
         "y": [
          466161,
          50217
         ],
         "yaxis": "y"
        },
        {
         "hovertemplate": "Artist=Adele<br>Number=%{x}<br>listeners=%{y}<extra></extra>",
         "legendgroup": "Adele",
         "marker": {
          "color": "#B6E880",
          "symbol": "circle"
         },
         "mode": "markers",
         "name": "Adele",
         "orientation": "v",
         "showlegend": true,
         "type": "scatter",
         "x": [
          137
         ],
         "xaxis": "x",
         "y": [
          1917966
         ],
         "yaxis": "y"
        },
        {
         "hovertemplate": "Artist=Madonna<br>Number=%{x}<br>listeners=%{y}<extra></extra>",
         "legendgroup": "Madonna",
         "marker": {
          "color": "#FF97FF",
          "symbol": "circle"
         },
         "mode": "markers",
         "name": "Madonna",
         "orientation": "v",
         "showlegend": true,
         "type": "scatter",
         "x": [
          138,
          222,
          331
         ],
         "xaxis": "x",
         "y": [
          455928,
          601323,
          485362
         ],
         "yaxis": "y"
        },
        {
         "hovertemplate": "Artist=Black Sabbath<br>Number=%{x}<br>listeners=%{y}<extra></extra>",
         "legendgroup": "Black Sabbath",
         "marker": {
          "color": "#FECB52",
          "symbol": "circle"
         },
         "mode": "markers",
         "name": "Black Sabbath",
         "orientation": "v",
         "showlegend": true,
         "type": "scatter",
         "x": [
          139,
          234,
          355
         ],
         "xaxis": "x",
         "y": [
          1277318,
          494627,
          481158
         ],
         "yaxis": "y"
        },
        {
         "hovertemplate": "Artist=The Wailers<br>Number=%{x}<br>listeners=%{y}<extra></extra>",
         "legendgroup": "The Wailers",
         "marker": {
          "color": "#636efa",
          "symbol": "circle"
         },
         "mode": "markers",
         "name": "The Wailers",
         "orientation": "v",
         "showlegend": true,
         "type": "scatter",
         "x": [
          140
         ],
         "xaxis": "x",
         "y": [
          24824
         ],
         "yaxis": "y"
        },
        {
         "hovertemplate": "Artist=Pixies<br>Number=%{x}<br>listeners=%{y}<extra></extra>",
         "legendgroup": "Pixies",
         "marker": {
          "color": "#EF553B",
          "symbol": "circle"
         },
         "mode": "markers",
         "name": "Pixies",
         "orientation": "v",
         "showlegend": true,
         "type": "scatter",
         "x": [
          141,
          390
         ],
         "xaxis": "x",
         "y": [
          1465737,
          707597
         ],
         "yaxis": "y"
        },
        {
         "hovertemplate": "Artist=Eminem<br>Number=%{x}<br>listeners=%{y}<extra></extra>",
         "legendgroup": "Eminem",
         "marker": {
          "color": "#00cc96",
          "symbol": "circle"
         },
         "mode": "markers",
         "name": "Eminem",
         "orientation": "v",
         "showlegend": true,
         "type": "scatter",
         "x": [
          145,
          352
         ],
         "xaxis": "x",
         "y": [
          1293691,
          788342
         ],
         "yaxis": "y"
        },
        {
         "hovertemplate": "Artist=Blondie<br>Number=%{x}<br>listeners=%{y}<extra></extra>",
         "legendgroup": "Blondie",
         "marker": {
          "color": "#ab63fa",
          "symbol": "circle"
         },
         "mode": "markers",
         "name": "Blondie",
         "orientation": "v",
         "showlegend": true,
         "type": "scatter",
         "x": [
          146,
          401
         ],
         "xaxis": "x",
         "y": [
          276354,
          62986
         ],
         "yaxis": "y"
        },
        {
         "hovertemplate": "Artist=Jeff Buckley<br>Number=%{x}<br>listeners=%{y}<extra></extra>",
         "legendgroup": "Jeff Buckley",
         "marker": {
          "color": "#FFA15A",
          "symbol": "circle"
         },
         "mode": "markers",
         "name": "Jeff Buckley",
         "orientation": "v",
         "showlegend": true,
         "type": "scatter",
         "x": [
          147
         ],
         "xaxis": "x",
         "y": [
          1102782
         ],
         "yaxis": "y"
        },
        {
         "hovertemplate": "Artist=John Prine<br>Number=%{x}<br>listeners=%{y}<extra></extra>",
         "legendgroup": "John Prine",
         "marker": {
          "color": "#19d3f3",
          "symbol": "circle"
         },
         "mode": "markers",
         "name": "John Prine",
         "orientation": "v",
         "showlegend": true,
         "type": "scatter",
         "x": [
          149
         ],
         "xaxis": "x",
         "y": [
          134997
         ],
         "yaxis": "y"
        },
        {
         "hovertemplate": "Artist=George Michael<br>Number=%{x}<br>listeners=%{y}<extra></extra>",
         "legendgroup": "George Michael",
         "marker": {
          "color": "#FF6692",
          "symbol": "circle"
         },
         "mode": "markers",
         "name": "George Michael",
         "orientation": "v",
         "showlegend": true,
         "type": "scatter",
         "x": [
          151
         ],
         "xaxis": "x",
         "y": [
          552946
         ],
         "yaxis": "y"
        },
        {
         "hovertemplate": "Artist=Pretenders<br>Number=%{x}<br>listeners=%{y}<extra></extra>",
         "legendgroup": "Pretenders",
         "marker": {
          "color": "#B6E880",
          "symbol": "circle"
         },
         "mode": "markers",
         "name": "Pretenders",
         "orientation": "v",
         "showlegend": true,
         "type": "scatter",
         "x": [
          152
         ],
         "xaxis": "x",
         "y": [
          16792
         ],
         "yaxis": "y"
        },
        {
         "hovertemplate": "Artist=PJ Harvey<br>Number=%{x}<br>listeners=%{y}<extra></extra>",
         "legendgroup": "PJ Harvey",
         "marker": {
          "color": "#FF97FF",
          "symbol": "circle"
         },
         "mode": "markers",
         "name": "PJ Harvey",
         "orientation": "v",
         "showlegend": true,
         "type": "scatter",
         "x": [
          153,
          313
         ],
         "xaxis": "x",
         "y": [
          337428,
          736046
         ],
         "yaxis": "y"
        },
        {
         "hovertemplate": "Artist=The Replacements<br>Number=%{x}<br>listeners=%{y}<extra></extra>",
         "legendgroup": "The Replacements",
         "marker": {
          "color": "#FECB52",
          "symbol": "circle"
         },
         "mode": "markers",
         "name": "The Replacements",
         "orientation": "v",
         "showlegend": true,
         "type": "scatter",
         "x": [
          156
         ],
         "xaxis": "x",
         "y": [
          186747
         ],
         "yaxis": "y"
        },
        {
         "hovertemplate": "Artist=Oasis<br>Number=%{x}<br>listeners=%{y}<extra></extra>",
         "legendgroup": "Oasis",
         "marker": {
          "color": "#636efa",
          "symbol": "circle"
         },
         "mode": "markers",
         "name": "Oasis",
         "orientation": "v",
         "showlegend": true,
         "type": "scatter",
         "x": [
          157,
          217
         ],
         "xaxis": "x",
         "y": [
          2079453,
          959840
         ],
         "yaxis": "y"
        },
        {
         "hovertemplate": "Artist=The Police<br>Number=%{x}<br>listeners=%{y}<extra></extra>",
         "legendgroup": "The Police",
         "marker": {
          "color": "#EF553B",
          "symbol": "circle"
         },
         "mode": "markers",
         "name": "The Police",
         "orientation": "v",
         "showlegend": true,
         "type": "scatter",
         "x": [
          159
         ],
         "xaxis": "x",
         "y": [
          382641
         ],
         "yaxis": "y"
        },
        {
         "hovertemplate": "Artist=Pearl Jam<br>Number=%{x}<br>listeners=%{y}<extra></extra>",
         "legendgroup": "Pearl Jam",
         "marker": {
          "color": "#00cc96",
          "symbol": "circle"
         },
         "mode": "markers",
         "name": "Pearl Jam",
         "orientation": "v",
         "showlegend": true,
         "type": "scatter",
         "x": [
          160
         ],
         "xaxis": "x",
         "y": [
          1804035
         ],
         "yaxis": "y"
        },
        {
         "hovertemplate": "Artist=Crosby, Stills & Nash<br>Number=%{x}<br>listeners=%{y}<extra></extra>",
         "legendgroup": "Crosby, Stills & Nash",
         "marker": {
          "color": "#ab63fa",
          "symbol": "circle"
         },
         "mode": "markers",
         "name": "Crosby, Stills & Nash",
         "orientation": "v",
         "showlegend": true,
         "type": "scatter",
         "x": [
          161
         ],
         "xaxis": "x",
         "y": [
          219426
         ],
         "yaxis": "y"
        },
        {
         "hovertemplate": "Artist=Pulp<br>Number=%{x}<br>listeners=%{y}<extra></extra>",
         "legendgroup": "Pulp",
         "marker": {
          "color": "#FFA15A",
          "symbol": "circle"
         },
         "mode": "markers",
         "name": "Pulp",
         "orientation": "v",
         "showlegend": true,
         "type": "scatter",
         "x": [
          162
         ],
         "xaxis": "x",
         "y": [
          762509
         ],
         "yaxis": "y"
        },
        {
         "hovertemplate": "Artist=Various Artists<br>Number=%{x}<br>listeners=%{y}<extra></extra>",
         "legendgroup": "Various Artists",
         "marker": {
          "color": "#19d3f3",
          "symbol": "circle"
         },
         "mode": "markers",
         "name": "Various Artists",
         "orientation": "v",
         "showlegend": true,
         "type": "scatter",
         "x": [
          163,
          174,
          405,
          497
         ],
         "xaxis": "x",
         "y": [
          434,
          31651,
          244,
          911
         ],
         "yaxis": "y"
        },
        {
         "hovertemplate": "Artist=Johnny Cash<br>Number=%{x}<br>listeners=%{y}<extra></extra>",
         "legendgroup": "Johnny Cash",
         "marker": {
          "color": "#FF6692",
          "symbol": "circle"
         },
         "mode": "markers",
         "name": "Johnny Cash",
         "orientation": "v",
         "showlegend": true,
         "type": "scatter",
         "x": [
          164
         ],
         "xaxis": "x",
         "y": [
          325318
         ],
         "yaxis": "y"
        },
        {
         "hovertemplate": "Artist=Buddy Holly<br>Number=%{x}<br>listeners=%{y}<extra></extra>",
         "legendgroup": "Buddy Holly",
         "marker": {
          "color": "#B6E880",
          "symbol": "circle"
         },
         "mode": "markers",
         "name": "Buddy Holly",
         "orientation": "v",
         "showlegend": true,
         "type": "scatter",
         "x": [
          166
         ],
         "xaxis": "x",
         "y": [
          5616
         ],
         "yaxis": "y"
        },
        {
         "hovertemplate": "Artist=Depeche Mode<br>Number=%{x}<br>listeners=%{y}<extra></extra>",
         "legendgroup": "Depeche Mode",
         "marker": {
          "color": "#FF97FF",
          "symbol": "circle"
         },
         "mode": "markers",
         "name": "Depeche Mode",
         "orientation": "v",
         "showlegend": true,
         "type": "scatter",
         "x": [
          167
         ],
         "xaxis": "x",
         "y": [
          672370
         ],
         "yaxis": "y"
        },
        {
         "hovertemplate": "Artist=Billy Joel<br>Number=%{x}<br>listeners=%{y}<extra></extra>",
         "legendgroup": "Billy Joel",
         "marker": {
          "color": "#FECB52",
          "symbol": "circle"
         },
         "mode": "markers",
         "name": "Billy Joel",
         "orientation": "v",
         "showlegend": true,
         "type": "scatter",
         "x": [
          169
         ],
         "xaxis": "x",
         "y": [
          386990
         ],
         "yaxis": "y"
        },
        {
         "hovertemplate": "Artist=Cream<br>Number=%{x}<br>listeners=%{y}<extra></extra>",
         "legendgroup": "Cream",
         "marker": {
          "color": "#636efa",
          "symbol": "circle"
         },
         "mode": "markers",
         "name": "Cream",
         "orientation": "v",
         "showlegend": true,
         "type": "scatter",
         "x": [
          170
         ],
         "xaxis": "x",
         "y": [
          736525
         ],
         "yaxis": "y"
        },
        {
         "hovertemplate": "Artist=Sonic Youth<br>Number=%{x}<br>listeners=%{y}<extra></extra>",
         "legendgroup": "Sonic Youth",
         "marker": {
          "color": "#EF553B",
          "symbol": "circle"
         },
         "mode": "markers",
         "name": "Sonic Youth",
         "orientation": "v",
         "showlegend": true,
         "type": "scatter",
         "x": [
          171,
          358
         ],
         "xaxis": "x",
         "y": [
          543028,
          571814
         ],
         "yaxis": "y"
        },
        {
         "hovertemplate": "Artist=Simon and Garfunkel<br>Number=%{x}<br>listeners=%{y}<extra></extra>",
         "legendgroup": "Simon and Garfunkel",
         "marker": {
          "color": "#00cc96",
          "symbol": "circle"
         },
         "mode": "markers",
         "name": "Simon and Garfunkel",
         "orientation": "v",
         "showlegend": true,
         "type": "scatter",
         "x": [
          172
         ],
         "xaxis": "x",
         "y": [
          579
         ],
         "yaxis": "y"
        },
        {
         "hovertemplate": "Artist=Rod Stewart<br>Number=%{x}<br>listeners=%{y}<extra></extra>",
         "legendgroup": "Rod Stewart",
         "marker": {
          "color": "#ab63fa",
          "symbol": "circle"
         },
         "mode": "markers",
         "name": "Rod Stewart",
         "orientation": "v",
         "showlegend": true,
         "type": "scatter",
         "x": [
          177
         ],
         "xaxis": "x",
         "y": [
          423101
         ],
         "yaxis": "y"
        },
        {
         "hovertemplate": "Artist=Otis Redding<br>Number=%{x}<br>listeners=%{y}<extra></extra>",
         "legendgroup": "Otis Redding",
         "marker": {
          "color": "#FFA15A",
          "symbol": "circle"
         },
         "mode": "markers",
         "name": "Otis Redding",
         "orientation": "v",
         "showlegend": true,
         "type": "scatter",
         "x": [
          178,
          448
         ],
         "xaxis": "x",
         "y": [
          24539,
          72765
         ],
         "yaxis": "y"
        },
        {
         "hovertemplate": "Artist=Love<br>Number=%{x}<br>listeners=%{y}<extra></extra>",
         "legendgroup": "Love",
         "marker": {
          "color": "#19d3f3",
          "symbol": "circle"
         },
         "mode": "markers",
         "name": "Love",
         "orientation": "v",
         "showlegend": true,
         "type": "scatter",
         "x": [
          180
         ],
         "xaxis": "x",
         "y": [
          201386
         ],
         "yaxis": "y"
        },
        {
         "hovertemplate": "Artist=James Taylor<br>Number=%{x}<br>listeners=%{y}<extra></extra>",
         "legendgroup": "James Taylor",
         "marker": {
          "color": "#FF6692",
          "symbol": "circle"
         },
         "mode": "markers",
         "name": "James Taylor",
         "orientation": "v",
         "showlegend": true,
         "type": "scatter",
         "x": [
          182
         ],
         "xaxis": "x",
         "y": [
          200523
         ],
         "yaxis": "y"
        },
        {
         "hovertemplate": "Artist=Cyndi Lauper<br>Number=%{x}<br>listeners=%{y}<extra></extra>",
         "legendgroup": "Cyndi Lauper",
         "marker": {
          "color": "#B6E880",
          "symbol": "circle"
         },
         "mode": "markers",
         "name": "Cyndi Lauper",
         "orientation": "v",
         "showlegend": true,
         "type": "scatter",
         "x": [
          184
         ],
         "xaxis": "x",
         "y": [
          793488
         ],
         "yaxis": "y"
        },
        {
         "hovertemplate": "Artist=Red Hot Chili Peppers<br>Number=%{x}<br>listeners=%{y}<extra></extra>",
         "legendgroup": "Red Hot Chili Peppers",
         "marker": {
          "color": "#FF97FF",
          "symbol": "circle"
         },
         "mode": "markers",
         "name": "Red Hot Chili Peppers",
         "orientation": "v",
         "showlegend": true,
         "type": "scatter",
         "x": [
          186,
          286
         ],
         "xaxis": "x",
         "y": [
          1263510,
          2199256
         ],
         "yaxis": "y"
        },
        {
         "hovertemplate": "Artist=Ice Cube<br>Number=%{x}<br>listeners=%{y}<extra></extra>",
         "legendgroup": "Ice Cube",
         "marker": {
          "color": "#FECB52",
          "symbol": "circle"
         },
         "mode": "markers",
         "name": "Ice Cube",
         "orientation": "v",
         "showlegend": true,
         "type": "scatter",
         "x": [
          187
         ],
         "xaxis": "x",
         "y": [
          160033
         ],
         "yaxis": "y"
        },
        {
         "hovertemplate": "Artist=T. Rex<br>Number=%{x}<br>listeners=%{y}<extra></extra>",
         "legendgroup": "T. Rex",
         "marker": {
          "color": "#636efa",
          "symbol": "circle"
         },
         "mode": "markers",
         "name": "T. Rex",
         "orientation": "v",
         "showlegend": true,
         "type": "scatter",
         "x": [
          188
         ],
         "xaxis": "x",
         "y": [
          446405
         ],
         "yaxis": "y"
        },
        {
         "hovertemplate": "Artist=Sleater‐Kinney<br>Number=%{x}<br>listeners=%{y}<extra></extra>",
         "legendgroup": "Sleater‐Kinney",
         "marker": {
          "color": "#EF553B",
          "symbol": "circle"
         },
         "mode": "markers",
         "name": "Sleater‐Kinney",
         "orientation": "v",
         "showlegend": true,
         "type": "scatter",
         "x": [
          189
         ],
         "xaxis": "x",
         "y": [
          98
         ],
         "yaxis": "y"
        },
        {
         "hovertemplate": "Artist=Etta James<br>Number=%{x}<br>listeners=%{y}<extra></extra>",
         "legendgroup": "Etta James",
         "marker": {
          "color": "#00cc96",
          "symbol": "circle"
         },
         "mode": "markers",
         "name": "Etta James",
         "orientation": "v",
         "showlegend": true,
         "type": "scatter",
         "x": [
          191
         ],
         "xaxis": "x",
         "y": [
          407759
         ],
         "yaxis": "y"
        },
        {
         "hovertemplate": "Artist=Creedence Clearwater Revival<br>Number=%{x}<br>listeners=%{y}<extra></extra>",
         "legendgroup": "Creedence Clearwater Revival",
         "marker": {
          "color": "#ab63fa",
          "symbol": "circle"
         },
         "mode": "markers",
         "name": "Creedence Clearwater Revival",
         "orientation": "v",
         "showlegend": true,
         "type": "scatter",
         "x": [
          193,
          413
         ],
         "xaxis": "x",
         "y": [
          382208,
          422114
         ],
         "yaxis": "y"
        },
        {
         "hovertemplate": "Artist=Leonard Cohen<br>Number=%{x}<br>listeners=%{y}<extra></extra>",
         "legendgroup": "Leonard Cohen",
         "marker": {
          "color": "#FFA15A",
          "symbol": "circle"
         },
         "mode": "markers",
         "name": "Leonard Cohen",
         "orientation": "v",
         "showlegend": true,
         "type": "scatter",
         "x": [
          195
         ],
         "xaxis": "x",
         "y": [
          490580
         ],
         "yaxis": "y"
        },
        {
         "hovertemplate": "Artist=Robyn<br>Number=%{x}<br>listeners=%{y}<extra></extra>",
         "legendgroup": "Robyn",
         "marker": {
          "color": "#19d3f3",
          "symbol": "circle"
         },
         "mode": "markers",
         "name": "Robyn",
         "orientation": "v",
         "showlegend": true,
         "type": "scatter",
         "x": [
          196
         ],
         "xaxis": "x",
         "y": [
          422579
         ],
         "yaxis": "y"
        },
        {
         "hovertemplate": "Artist=The B‐52's<br>Number=%{x}<br>listeners=%{y}<extra></extra>",
         "legendgroup": "The B‐52's",
         "marker": {
          "color": "#FF6692",
          "symbol": "circle"
         },
         "mode": "markers",
         "name": "The B‐52's",
         "orientation": "v",
         "showlegend": true,
         "type": "scatter",
         "x": [
          198
         ],
         "xaxis": "x",
         "y": [
          8
         ],
         "yaxis": "y"
        },
        {
         "hovertemplate": "Artist=Pavement<br>Number=%{x}<br>listeners=%{y}<extra></extra>",
         "legendgroup": "Pavement",
         "marker": {
          "color": "#B6E880",
          "symbol": "circle"
         },
         "mode": "markers",
         "name": "Pavement",
         "orientation": "v",
         "showlegend": true,
         "type": "scatter",
         "x": [
          199,
          265,
          434
         ],
         "xaxis": "x",
         "y": [
          73484,
          213781,
          358977
         ],
         "yaxis": "y"
        },
        {
         "hovertemplate": "Artist=Sade<br>Number=%{x}<br>listeners=%{y}<extra></extra>",
         "legendgroup": "Sade",
         "marker": {
          "color": "#FF97FF",
          "symbol": "circle"
         },
         "mode": "markers",
         "name": "Sade",
         "orientation": "v",
         "showlegend": true,
         "type": "scatter",
         "x": [
          200,
          247
         ],
         "xaxis": "x",
         "y": [
          237853,
          213762
         ],
         "yaxis": "y"
        },
        {
         "hovertemplate": "Artist=Björk<br>Number=%{x}<br>listeners=%{y}<extra></extra>",
         "legendgroup": "Björk",
         "marker": {
          "color": "#FECB52",
          "symbol": "circle"
         },
         "mode": "markers",
         "name": "Björk",
         "orientation": "v",
         "showlegend": true,
         "type": "scatter",
         "x": [
          202,
          289
         ],
         "xaxis": "x",
         "y": [
          659162,
          957264
         ],
         "yaxis": "y"
        },
        {
         "hovertemplate": "Artist=Nick Drake<br>Number=%{x}<br>listeners=%{y}<extra></extra>",
         "legendgroup": "Nick Drake",
         "marker": {
          "color": "#636efa",
          "symbol": "circle"
         },
         "mode": "markers",
         "name": "Nick Drake",
         "orientation": "v",
         "showlegend": true,
         "type": "scatter",
         "x": [
          203
         ],
         "xaxis": "x",
         "y": [
          961157
         ],
         "yaxis": "y"
        },
        {
         "hovertemplate": "Artist=Cat Stevens<br>Number=%{x}<br>listeners=%{y}<extra></extra>",
         "legendgroup": "Cat Stevens",
         "marker": {
          "color": "#EF553B",
          "symbol": "circle"
         },
         "mode": "markers",
         "name": "Cat Stevens",
         "orientation": "v",
         "showlegend": true,
         "type": "scatter",
         "x": [
          205
         ],
         "xaxis": "x",
         "y": [
          439230
         ],
         "yaxis": "y"
        },
        {
         "hovertemplate": "Artist=Lil Wayne<br>Number=%{x}<br>listeners=%{y}<extra></extra>",
         "legendgroup": "Lil Wayne",
         "marker": {
          "color": "#00cc96",
          "symbol": "circle"
         },
         "mode": "markers",
         "name": "Lil Wayne",
         "orientation": "v",
         "showlegend": true,
         "type": "scatter",
         "x": [
          208,
          370
         ],
         "xaxis": "x",
         "y": [
          179810,
          31580
         ],
         "yaxis": "y"
        },
        {
         "hovertemplate": "Artist=Run‐D.M.C.<br>Number=%{x}<br>listeners=%{y}<extra></extra>",
         "legendgroup": "Run‐D.M.C.",
         "marker": {
          "color": "#ab63fa",
          "symbol": "circle"
         },
         "mode": "markers",
         "name": "Run‐D.M.C.",
         "orientation": "v",
         "showlegend": true,
         "type": "scatter",
         "x": [
          209,
          378
         ],
         "xaxis": "x",
         "y": [
          500,
          117
         ],
         "yaxis": "y"
        },
        {
         "hovertemplate": "Artist=Joy Division<br>Number=%{x}<br>listeners=%{y}<extra></extra>",
         "legendgroup": "Joy Division",
         "marker": {
          "color": "#FFA15A",
          "symbol": "circle"
         },
         "mode": "markers",
         "name": "Joy Division",
         "orientation": "v",
         "showlegend": true,
         "type": "scatter",
         "x": [
          211,
          309
         ],
         "xaxis": "x",
         "y": [
          1014917,
          614070
         ],
         "yaxis": "y"
        },
        {
         "hovertemplate": "Artist=Nina Simone<br>Number=%{x}<br>listeners=%{y}<extra></extra>",
         "legendgroup": "Nina Simone",
         "marker": {
          "color": "#19d3f3",
          "symbol": "circle"
         },
         "mode": "markers",
         "name": "Nina Simone",
         "orientation": "v",
         "showlegend": true,
         "type": "scatter",
         "x": [
          212
         ],
         "xaxis": "x",
         "y": [
          102961
         ],
         "yaxis": "y"
        },
        {
         "hovertemplate": "Artist=Tom Petty<br>Number=%{x}<br>listeners=%{y}<extra></extra>",
         "legendgroup": "Tom Petty",
         "marker": {
          "color": "#FF6692",
          "symbol": "circle"
         },
         "mode": "markers",
         "name": "Tom Petty",
         "orientation": "v",
         "showlegend": true,
         "type": "scatter",
         "x": [
          214,
          298
         ],
         "xaxis": "x",
         "y": [
          291428,
          632137
         ],
         "yaxis": "y"
        },
        {
         "hovertemplate": "Artist=Grateful Dead<br>Number=%{x}<br>listeners=%{y}<extra></extra>",
         "legendgroup": "Grateful Dead",
         "marker": {
          "color": "#B6E880",
          "symbol": "circle"
         },
         "mode": "markers",
         "name": "Grateful Dead",
         "orientation": "v",
         "showlegend": true,
         "type": "scatter",
         "x": [
          215,
          409
         ],
         "xaxis": "x",
         "y": [
          273523,
          165435
         ],
         "yaxis": "y"
        },
        {
         "hovertemplate": "Artist=Elliott Smith<br>Number=%{x}<br>listeners=%{y}<extra></extra>",
         "legendgroup": "Elliott Smith",
         "marker": {
          "color": "#FF97FF",
          "symbol": "circle"
         },
         "mode": "markers",
         "name": "Elliott Smith",
         "orientation": "v",
         "showlegend": true,
         "type": "scatter",
         "x": [
          216
         ],
         "xaxis": "x",
         "y": [
          892848
         ],
         "yaxis": "y"
        },
        {
         "hovertemplate": "Artist=TLC<br>Number=%{x}<br>listeners=%{y}<extra></extra>",
         "legendgroup": "TLC",
         "marker": {
          "color": "#FECB52",
          "symbol": "circle"
         },
         "mode": "markers",
         "name": "TLC",
         "orientation": "v",
         "showlegend": true,
         "type": "scatter",
         "x": [
          218
         ],
         "xaxis": "x",
         "y": [
          731332
         ],
         "yaxis": "y"
        },
        {
         "hovertemplate": "Artist=Raekwon<br>Number=%{x}<br>listeners=%{y}<extra></extra>",
         "legendgroup": "Raekwon",
         "marker": {
          "color": "#636efa",
          "symbol": "circle"
         },
         "mode": "markers",
         "name": "Raekwon",
         "orientation": "v",
         "showlegend": true,
         "type": "scatter",
         "x": [
          219
         ],
         "xaxis": "x",
         "y": [
          726
         ],
         "yaxis": "y"
        },
        {
         "hovertemplate": "Artist=Crosby, Stills, Nash & Young<br>Number=%{x}<br>listeners=%{y}<extra></extra>",
         "legendgroup": "Crosby, Stills, Nash & Young",
         "marker": {
          "color": "#EF553B",
          "symbol": "circle"
         },
         "mode": "markers",
         "name": "Crosby, Stills, Nash & Young",
         "orientation": "v",
         "showlegend": true,
         "type": "scatter",
         "x": [
          220
         ],
         "xaxis": "x",
         "y": [
          369570
         ],
         "yaxis": "y"
        },
        {
         "hovertemplate": "Artist=Rage Against the Machine<br>Number=%{x}<br>listeners=%{y}<extra></extra>",
         "legendgroup": "Rage Against the Machine",
         "marker": {
          "color": "#00cc96",
          "symbol": "circle"
         },
         "mode": "markers",
         "name": "Rage Against the Machine",
         "orientation": "v",
         "showlegend": true,
         "type": "scatter",
         "x": [
          221
         ],
         "xaxis": "x",
         "y": [
          1706981
         ],
         "yaxis": "y"
        },
        {
         "hovertemplate": "Artist=John Lennon<br>Number=%{x}<br>listeners=%{y}<extra></extra>",
         "legendgroup": "John Lennon",
         "marker": {
          "color": "#ab63fa",
          "symbol": "circle"
         },
         "mode": "markers",
         "name": "John Lennon",
         "orientation": "v",
         "showlegend": true,
         "type": "scatter",
         "x": [
          223
         ],
         "xaxis": "x",
         "y": [
          632638
         ],
         "yaxis": "y"
        },
        {
         "hovertemplate": "Artist=Dixie Chicks<br>Number=%{x}<br>listeners=%{y}<extra></extra>",
         "legendgroup": "Dixie Chicks",
         "marker": {
          "color": "#FFA15A",
          "symbol": "circle"
         },
         "mode": "markers",
         "name": "Dixie Chicks",
         "orientation": "v",
         "showlegend": true,
         "type": "scatter",
         "x": [
          224
         ],
         "xaxis": "x",
         "y": [
          242505
         ],
         "yaxis": "y"
        },
        {
         "hovertemplate": "Artist=Wilco<br>Number=%{x}<br>listeners=%{y}<extra></extra>",
         "legendgroup": "Wilco",
         "marker": {
          "color": "#19d3f3",
          "symbol": "circle"
         },
         "mode": "markers",
         "name": "Wilco",
         "orientation": "v",
         "showlegend": true,
         "type": "scatter",
         "x": [
          225
         ],
         "xaxis": "x",
         "y": [
          754664
         ],
         "yaxis": "y"
        },
        {
         "hovertemplate": "Artist=Derek and the Dominos<br>Number=%{x}<br>listeners=%{y}<extra></extra>",
         "legendgroup": "Derek and the Dominos",
         "marker": {
          "color": "#FF6692",
          "symbol": "circle"
         },
         "mode": "markers",
         "name": "Derek and the Dominos",
         "orientation": "v",
         "showlegend": true,
         "type": "scatter",
         "x": [
          226
         ],
         "xaxis": "x",
         "y": [
          242166
         ],
         "yaxis": "y"
        },
        {
         "hovertemplate": "Artist=Little Richard<br>Number=%{x}<br>listeners=%{y}<extra></extra>",
         "legendgroup": "Little Richard",
         "marker": {
          "color": "#B6E880",
          "symbol": "circle"
         },
         "mode": "markers",
         "name": "Little Richard",
         "orientation": "v",
         "showlegend": true,
         "type": "scatter",
         "x": [
          227
         ],
         "xaxis": "x",
         "y": [
          20457
         ],
         "yaxis": "y"
        },
        {
         "hovertemplate": "Artist=Patsy Cline<br>Number=%{x}<br>listeners=%{y}<extra></extra>",
         "legendgroup": "Patsy Cline",
         "marker": {
          "color": "#FF97FF",
          "symbol": "circle"
         },
         "mode": "markers",
         "name": "Patsy Cline",
         "orientation": "v",
         "showlegend": true,
         "type": "scatter",
         "x": [
          229
         ],
         "xaxis": "x",
         "y": [
          2660
         ],
         "yaxis": "y"
        },
        {
         "hovertemplate": "Artist=Rihanna<br>Number=%{x}<br>listeners=%{y}<extra></extra>",
         "legendgroup": "Rihanna",
         "marker": {
          "color": "#FECB52",
          "symbol": "circle"
         },
         "mode": "markers",
         "name": "Rihanna",
         "orientation": "v",
         "showlegend": true,
         "type": "scatter",
         "x": [
          230
         ],
         "xaxis": "x",
         "y": [
          508031
         ],
         "yaxis": "y"
        },
        {
         "hovertemplate": "Artist=Tom Petty and the Heartbreakers<br>Number=%{x}<br>listeners=%{y}<extra></extra>",
         "legendgroup": "Tom Petty and the Heartbreakers",
         "marker": {
          "color": "#636efa",
          "symbol": "circle"
         },
         "mode": "markers",
         "name": "Tom Petty and the Heartbreakers",
         "orientation": "v",
         "showlegend": true,
         "type": "scatter",
         "x": [
          231
         ],
         "xaxis": "x",
         "y": [
          65130
         ],
         "yaxis": "y"
        },
        {
         "hovertemplate": "Artist=Tori Amos<br>Number=%{x}<br>listeners=%{y}<extra></extra>",
         "legendgroup": "Tori Amos",
         "marker": {
          "color": "#EF553B",
          "symbol": "circle"
         },
         "mode": "markers",
         "name": "Tori Amos",
         "orientation": "v",
         "showlegend": true,
         "type": "scatter",
         "x": [
          233
         ],
         "xaxis": "x",
         "y": [
          373410
         ],
         "yaxis": "y"
        },
        {
         "hovertemplate": "Artist=Daft Punk<br>Number=%{x}<br>listeners=%{y}<extra></extra>",
         "legendgroup": "Daft Punk",
         "marker": {
          "color": "#00cc96",
          "symbol": "circle"
         },
         "mode": "markers",
         "name": "Daft Punk",
         "orientation": "v",
         "showlegend": true,
         "type": "scatter",
         "x": [
          236,
          295
         ],
         "xaxis": "x",
         "y": [
          2315570,
          1285164
         ],
         "yaxis": "y"
        },
        {
         "hovertemplate": "Artist=Willie Nelson<br>Number=%{x}<br>listeners=%{y}<extra></extra>",
         "legendgroup": "Willie Nelson",
         "marker": {
          "color": "#ab63fa",
          "symbol": "circle"
         },
         "mode": "markers",
         "name": "Willie Nelson",
         "orientation": "v",
         "showlegend": true,
         "type": "scatter",
         "x": [
          237
         ],
         "xaxis": "x",
         "y": [
          107829
         ],
         "yaxis": "y"
        },
        {
         "hovertemplate": "Artist=Kraftwerk<br>Number=%{x}<br>listeners=%{y}<extra></extra>",
         "legendgroup": "Kraftwerk",
         "marker": {
          "color": "#FFA15A",
          "symbol": "circle"
         },
         "mode": "markers",
         "name": "Kraftwerk",
         "orientation": "v",
         "showlegend": true,
         "type": "scatter",
         "x": [
          238
         ],
         "xaxis": "x",
         "y": [
          25682
         ],
         "yaxis": "y"
        },
        {
         "hovertemplate": "Artist=Boogie Down Productions<br>Number=%{x}<br>listeners=%{y}<extra></extra>",
         "legendgroup": "Boogie Down Productions",
         "marker": {
          "color": "#19d3f3",
          "symbol": "circle"
         },
         "mode": "markers",
         "name": "Boogie Down Productions",
         "orientation": "v",
         "showlegend": true,
         "type": "scatter",
         "x": [
          239
         ],
         "xaxis": "x",
         "y": [
          108016
         ],
         "yaxis": "y"
        },
        {
         "hovertemplate": "Artist=Sam Cooke<br>Number=%{x}<br>listeners=%{y}<extra></extra>",
         "legendgroup": "Sam Cooke",
         "marker": {
          "color": "#FF6692",
          "symbol": "circle"
         },
         "mode": "markers",
         "name": "Sam Cooke",
         "orientation": "v",
         "showlegend": true,
         "type": "scatter",
         "x": [
          240,
          307
         ],
         "xaxis": "x",
         "y": [
          12100,
          237
         ],
         "yaxis": "y"
        },
        {
         "hovertemplate": "Artist=Massive Attack<br>Number=%{x}<br>listeners=%{y}<extra></extra>",
         "legendgroup": "Massive Attack",
         "marker": {
          "color": "#B6E880",
          "symbol": "circle"
         },
         "mode": "markers",
         "name": "Massive Attack",
         "orientation": "v",
         "showlegend": true,
         "type": "scatter",
         "x": [
          241,
          383
         ],
         "xaxis": "x",
         "y": [
          669055,
          1641326
         ],
         "yaxis": "y"
        },
        {
         "hovertemplate": "Artist=The Zombies<br>Number=%{x}<br>listeners=%{y}<extra></extra>",
         "legendgroup": "The Zombies",
         "marker": {
          "color": "#FF97FF",
          "symbol": "circle"
         },
         "mode": "markers",
         "name": "The Zombies",
         "orientation": "v",
         "showlegend": true,
         "type": "scatter",
         "x": [
          243
         ],
         "xaxis": "x",
         "y": [
          381567
         ],
         "yaxis": "y"
        },
        {
         "hovertemplate": "Artist=Cocteau Twins<br>Number=%{x}<br>listeners=%{y}<extra></extra>",
         "legendgroup": "Cocteau Twins",
         "marker": {
          "color": "#FECB52",
          "symbol": "circle"
         },
         "mode": "markers",
         "name": "Cocteau Twins",
         "orientation": "v",
         "showlegend": true,
         "type": "scatter",
         "x": [
          245
         ],
         "xaxis": "x",
         "y": [
          317590
         ],
         "yaxis": "y"
        },
        {
         "hovertemplate": "Artist=L.L. Cool J<br>Number=%{x}<br>listeners=%{y}<extra></extra>",
         "legendgroup": "L.L. Cool J",
         "marker": {
          "color": "#636efa",
          "symbol": "circle"
         },
         "mode": "markers",
         "name": "L.L. Cool J",
         "orientation": "v",
         "showlegend": true,
         "type": "scatter",
         "x": [
          246
         ],
         "xaxis": "x",
         "y": [
          74
         ],
         "yaxis": "y"
        },
        {
         "hovertemplate": "Artist=Green Day<br>Number=%{x}<br>listeners=%{y}<extra></extra>",
         "legendgroup": "Green Day",
         "marker": {
          "color": "#EF553B",
          "symbol": "circle"
         },
         "mode": "markers",
         "name": "Green Day",
         "orientation": "v",
         "showlegend": true,
         "type": "scatter",
         "x": [
          248,
          375
         ],
         "xaxis": "x",
         "y": [
          1954243,
          1735172
         ],
         "yaxis": "y"
        },
        {
         "hovertemplate": "Artist=Whitney Houston<br>Number=%{x}<br>listeners=%{y}<extra></extra>",
         "legendgroup": "Whitney Houston",
         "marker": {
          "color": "#00cc96",
          "symbol": "circle"
         },
         "mode": "markers",
         "name": "Whitney Houston",
         "orientation": "v",
         "showlegend": true,
         "type": "scatter",
         "x": [
          249
         ],
         "xaxis": "x",
         "y": [
          388127
         ],
         "yaxis": "y"
        },
        {
         "hovertemplate": "Artist=Buzzcocks<br>Number=%{x}<br>listeners=%{y}<extra></extra>",
         "legendgroup": "Buzzcocks",
         "marker": {
          "color": "#ab63fa",
          "symbol": "circle"
         },
         "mode": "markers",
         "name": "Buzzcocks",
         "orientation": "v",
         "showlegend": true,
         "type": "scatter",
         "x": [
          250
         ],
         "xaxis": "x",
         "y": [
          408215
         ],
         "yaxis": "y"
        },
        {
         "hovertemplate": "Artist=DEVO<br>Number=%{x}<br>listeners=%{y}<extra></extra>",
         "legendgroup": "DEVO",
         "marker": {
          "color": "#FFA15A",
          "symbol": "circle"
         },
         "mode": "markers",
         "name": "DEVO",
         "orientation": "v",
         "showlegend": true,
         "type": "scatter",
         "x": [
          252
         ],
         "xaxis": "x",
         "y": [
          276118
         ],
         "yaxis": "y"
        },
        {
         "hovertemplate": "Artist=Herbie Hancock<br>Number=%{x}<br>listeners=%{y}<extra></extra>",
         "legendgroup": "Herbie Hancock",
         "marker": {
          "color": "#19d3f3",
          "symbol": "circle"
         },
         "mode": "markers",
         "name": "Herbie Hancock",
         "orientation": "v",
         "showlegend": true,
         "type": "scatter",
         "x": [
          254
         ],
         "xaxis": "x",
         "y": [
          380368
         ],
         "yaxis": "y"
        },
        {
         "hovertemplate": "Artist=Tracy Chapman<br>Number=%{x}<br>listeners=%{y}<extra></extra>",
         "legendgroup": "Tracy Chapman",
         "marker": {
          "color": "#FF6692",
          "symbol": "circle"
         },
         "mode": "markers",
         "name": "Tracy Chapman",
         "orientation": "v",
         "showlegend": true,
         "type": "scatter",
         "x": [
          256
         ],
         "xaxis": "x",
         "y": [
          722726
         ],
         "yaxis": "y"
        },
        {
         "hovertemplate": "Artist=Dolly Parton<br>Number=%{x}<br>listeners=%{y}<extra></extra>",
         "legendgroup": "Dolly Parton",
         "marker": {
          "color": "#B6E880",
          "symbol": "circle"
         },
         "mode": "markers",
         "name": "Dolly Parton",
         "orientation": "v",
         "showlegend": true,
         "type": "scatter",
         "x": [
          257
         ],
         "xaxis": "x",
         "y": [
          40058
         ],
         "yaxis": "y"
        },
        {
         "hovertemplate": "Artist=Janis Joplin<br>Number=%{x}<br>listeners=%{y}<extra></extra>",
         "legendgroup": "Janis Joplin",
         "marker": {
          "color": "#FF97FF",
          "symbol": "circle"
         },
         "mode": "markers",
         "name": "Janis Joplin",
         "orientation": "v",
         "showlegend": true,
         "type": "scatter",
         "x": [
          259
         ],
         "xaxis": "x",
         "y": [
          496258
         ],
         "yaxis": "y"
        },
        {
         "hovertemplate": "Artist=The Slits<br>Number=%{x}<br>listeners=%{y}<extra></extra>",
         "legendgroup": "The Slits",
         "marker": {
          "color": "#FECB52",
          "symbol": "circle"
         },
         "mode": "markers",
         "name": "The Slits",
         "orientation": "v",
         "showlegend": true,
         "type": "scatter",
         "x": [
          260
         ],
         "xaxis": "x",
         "y": [
          141084
         ],
         "yaxis": "y"
        },
        {
         "hovertemplate": "Artist=New Order<br>Number=%{x}<br>listeners=%{y}<extra></extra>",
         "legendgroup": "New Order",
         "marker": {
          "color": "#636efa",
          "symbol": "circle"
         },
         "mode": "markers",
         "name": "New Order",
         "orientation": "v",
         "showlegend": true,
         "type": "scatter",
         "x": [
          262
         ],
         "xaxis": "x",
         "y": [
          395224
         ],
         "yaxis": "y"
        },
        {
         "hovertemplate": "Artist=Minutemen<br>Number=%{x}<br>listeners=%{y}<extra></extra>",
         "legendgroup": "Minutemen",
         "marker": {
          "color": "#EF553B",
          "symbol": "circle"
         },
         "mode": "markers",
         "name": "Minutemen",
         "orientation": "v",
         "showlegend": true,
         "type": "scatter",
         "x": [
          267
         ],
         "xaxis": "x",
         "y": [
          303941
         ],
         "yaxis": "y"
        },
        {
         "hovertemplate": "Artist=Randy Newman<br>Number=%{x}<br>listeners=%{y}<extra></extra>",
         "legendgroup": "Randy Newman",
         "marker": {
          "color": "#00cc96",
          "symbol": "circle"
         },
         "mode": "markers",
         "name": "Randy Newman",
         "orientation": "v",
         "showlegend": true,
         "type": "scatter",
         "x": [
          268
         ],
         "xaxis": "x",
         "y": [
          43707
         ],
         "yaxis": "y"
        },
        {
         "hovertemplate": "Artist=Kacey Musgraves<br>Number=%{x}<br>listeners=%{y}<extra></extra>",
         "legendgroup": "Kacey Musgraves",
         "marker": {
          "color": "#ab63fa",
          "symbol": "circle"
         },
         "mode": "markers",
         "name": "Kacey Musgraves",
         "orientation": "v",
         "showlegend": true,
         "type": "scatter",
         "x": [
          270
         ],
         "xaxis": "x",
         "y": [
          313681
         ],
         "yaxis": "y"
        },
        {
         "hovertemplate": "Artist=Gang of Four<br>Number=%{x}<br>listeners=%{y}<extra></extra>",
         "legendgroup": "Gang of Four",
         "marker": {
          "color": "#FFA15A",
          "symbol": "circle"
         },
         "mode": "markers",
         "name": "Gang of Four",
         "orientation": "v",
         "showlegend": true,
         "type": "scatter",
         "x": [
          273
         ],
         "xaxis": "x",
         "y": [
          430813
         ],
         "yaxis": "y"
        },
        {
         "hovertemplate": "Artist=The Byrds<br>Number=%{x}<br>listeners=%{y}<extra></extra>",
         "legendgroup": "The Byrds",
         "marker": {
          "color": "#19d3f3",
          "symbol": "circle"
         },
         "mode": "markers",
         "name": "The Byrds",
         "orientation": "v",
         "showlegend": true,
         "type": "scatter",
         "x": [
          274,
          287
         ],
         "xaxis": "x",
         "y": [
          172501,
          227378
         ],
         "yaxis": "y"
        },
        {
         "hovertemplate": "Artist=Alicia Keys<br>Number=%{x}<br>listeners=%{y}<extra></extra>",
         "legendgroup": "Alicia Keys",
         "marker": {
          "color": "#FF6692",
          "symbol": "circle"
         },
         "mode": "markers",
         "name": "Alicia Keys",
         "orientation": "v",
         "showlegend": true,
         "type": "scatter",
         "x": [
          277
         ],
         "xaxis": "x",
         "y": [
          846719
         ],
         "yaxis": "y"
        },
        {
         "hovertemplate": "Artist=50 Cent<br>Number=%{x}<br>listeners=%{y}<extra></extra>",
         "legendgroup": "50 Cent",
         "marker": {
          "color": "#B6E880",
          "symbol": "circle"
         },
         "mode": "markers",
         "name": "50 Cent",
         "orientation": "v",
         "showlegend": true,
         "type": "scatter",
         "x": [
          280
         ],
         "xaxis": "x",
         "y": [
          881028
         ],
         "yaxis": "y"
        },
        {
         "hovertemplate": "Artist=Nilsson<br>Number=%{x}<br>listeners=%{y}<extra></extra>",
         "legendgroup": "Nilsson",
         "marker": {
          "color": "#FF97FF",
          "symbol": "circle"
         },
         "mode": "markers",
         "name": "Nilsson",
         "orientation": "v",
         "showlegend": true,
         "type": "scatter",
         "x": [
          281
         ],
         "xaxis": "x",
         "y": [
          709
         ],
         "yaxis": "y"
        },
        {
         "hovertemplate": "Artist=Frank Sinatra<br>Number=%{x}<br>listeners=%{y}<extra></extra>",
         "legendgroup": "Frank Sinatra",
         "marker": {
          "color": "#FECB52",
          "symbol": "circle"
         },
         "mode": "markers",
         "name": "Frank Sinatra",
         "orientation": "v",
         "showlegend": true,
         "type": "scatter",
         "x": [
          282
         ],
         "xaxis": "x",
         "y": [
          135275
         ],
         "yaxis": "y"
        },
        {
         "hovertemplate": "Artist=Donna Summer<br>Number=%{x}<br>listeners=%{y}<extra></extra>",
         "legendgroup": "Donna Summer",
         "marker": {
          "color": "#636efa",
          "symbol": "circle"
         },
         "mode": "markers",
         "name": "Donna Summer",
         "orientation": "v",
         "showlegend": true,
         "type": "scatter",
         "x": [
          283
         ],
         "xaxis": "x",
         "y": [
          254615
         ],
         "yaxis": "y"
        },
        {
         "hovertemplate": "Artist=Merle Haggard<br>Number=%{x}<br>listeners=%{y}<extra></extra>",
         "legendgroup": "Merle Haggard",
         "marker": {
          "color": "#EF553B",
          "symbol": "circle"
         },
         "mode": "markers",
         "name": "Merle Haggard",
         "orientation": "v",
         "showlegend": true,
         "type": "scatter",
         "x": [
          284
         ],
         "xaxis": "x",
         "y": [
          1662
         ],
         "yaxis": "y"
        },
        {
         "hovertemplate": "Artist=Big Star<br>Number=%{x}<br>listeners=%{y}<extra></extra>",
         "legendgroup": "Big Star",
         "marker": {
          "color": "#00cc96",
          "symbol": "circle"
         },
         "mode": "markers",
         "name": "Big Star",
         "orientation": "v",
         "showlegend": true,
         "type": "scatter",
         "x": [
          285,
          359,
          474
         ],
         "xaxis": "x",
         "y": [
          48002,
          116146,
          192590
         ],
         "yaxis": "y"
        },
        {
         "hovertemplate": "Artist=The Modern Lovers<br>Number=%{x}<br>listeners=%{y}<extra></extra>",
         "legendgroup": "The Modern Lovers",
         "marker": {
          "color": "#ab63fa",
          "symbol": "circle"
         },
         "mode": "markers",
         "name": "The Modern Lovers",
         "orientation": "v",
         "showlegend": true,
         "type": "scatter",
         "x": [
          288
         ],
         "xaxis": "x",
         "y": [
          284342
         ],
         "yaxis": "y"
        },
        {
         "hovertemplate": "Artist=Destiny's Child<br>Number=%{x}<br>listeners=%{y}<extra></extra>",
         "legendgroup": "Destiny's Child",
         "marker": {
          "color": "#FFA15A",
          "symbol": "circle"
         },
         "mode": "markers",
         "name": "Destiny's Child",
         "orientation": "v",
         "showlegend": true,
         "type": "scatter",
         "x": [
          291
         ],
         "xaxis": "x",
         "y": [
          1027638
         ],
         "yaxis": "y"
        },
        {
         "hovertemplate": "Artist=Van Halen<br>Number=%{x}<br>listeners=%{y}<extra></extra>",
         "legendgroup": "Van Halen",
         "marker": {
          "color": "#19d3f3",
          "symbol": "circle"
         },
         "mode": "markers",
         "name": "Van Halen",
         "orientation": "v",
         "showlegend": true,
         "type": "scatter",
         "x": [
          292
         ],
         "xaxis": "x",
         "y": [
          320988
         ],
         "yaxis": "y"
        },
        {
         "hovertemplate": "Artist=The Breeders<br>Number=%{x}<br>listeners=%{y}<extra></extra>",
         "legendgroup": "The Breeders",
         "marker": {
          "color": "#FF6692",
          "symbol": "circle"
         },
         "mode": "markers",
         "name": "The Breeders",
         "orientation": "v",
         "showlegend": true,
         "type": "scatter",
         "x": [
          293
         ],
         "xaxis": "x",
         "y": [
          515688
         ],
         "yaxis": "y"
        },
        {
         "hovertemplate": "Artist=Weezer<br>Number=%{x}<br>listeners=%{y}<extra></extra>",
         "legendgroup": "Weezer",
         "marker": {
          "color": "#B6E880",
          "symbol": "circle"
         },
         "mode": "markers",
         "name": "Weezer",
         "orientation": "v",
         "showlegend": true,
         "type": "scatter",
         "x": [
          294
         ],
         "xaxis": "x",
         "y": [
          146631
         ],
         "yaxis": "y"
        },
        {
         "hovertemplate": "Artist=Neil Young & Crazy Horse<br>Number=%{x}<br>listeners=%{y}<extra></extra>",
         "legendgroup": "Neil Young & Crazy Horse",
         "marker": {
          "color": "#FF97FF",
          "symbol": "circle"
         },
         "mode": "markers",
         "name": "Neil Young & Crazy Horse",
         "orientation": "v",
         "showlegend": true,
         "type": "scatter",
         "x": [
          296
         ],
         "xaxis": "x",
         "y": [
          71648
         ],
         "yaxis": "y"
        },
        {
         "hovertemplate": "Artist=Peter Gabriel<br>Number=%{x}<br>listeners=%{y}<extra></extra>",
         "legendgroup": "Peter Gabriel",
         "marker": {
          "color": "#FECB52",
          "symbol": "circle"
         },
         "mode": "markers",
         "name": "Peter Gabriel",
         "orientation": "v",
         "showlegend": true,
         "type": "scatter",
         "x": [
          297
         ],
         "xaxis": "x",
         "y": [
          303840
         ],
         "yaxis": "y"
        },
        {
         "hovertemplate": "Artist=B.B. King<br>Number=%{x}<br>listeners=%{y}<extra></extra>",
         "legendgroup": "B.B. King",
         "marker": {
          "color": "#636efa",
          "symbol": "circle"
         },
         "mode": "markers",
         "name": "B.B. King",
         "orientation": "v",
         "showlegend": true,
         "type": "scatter",
         "x": [
          299
         ],
         "xaxis": "x",
         "y": [
          70565
         ],
         "yaxis": "y"
        },
        {
         "hovertemplate": "Artist=Shania Twain<br>Number=%{x}<br>listeners=%{y}<extra></extra>",
         "legendgroup": "Shania Twain",
         "marker": {
          "color": "#EF553B",
          "symbol": "circle"
         },
         "mode": "markers",
         "name": "Shania Twain",
         "orientation": "v",
         "showlegend": true,
         "type": "scatter",
         "x": [
          300
         ],
         "xaxis": "x",
         "y": [
          647818
         ],
         "yaxis": "y"
        },
        {
         "hovertemplate": "Artist=New York Dolls<br>Number=%{x}<br>listeners=%{y}<extra></extra>",
         "legendgroup": "New York Dolls",
         "marker": {
          "color": "#00cc96",
          "symbol": "circle"
         },
         "mode": "markers",
         "name": "New York Dolls",
         "orientation": "v",
         "showlegend": true,
         "type": "scatter",
         "x": [
          301
         ],
         "xaxis": "x",
         "y": [
          267114
         ],
         "yaxis": "y"
        },
        {
         "hovertemplate": "Artist=ABBA<br>Number=%{x}<br>listeners=%{y}<extra></extra>",
         "legendgroup": "ABBA",
         "marker": {
          "color": "#ab63fa",
          "symbol": "circle"
         },
         "mode": "markers",
         "name": "ABBA",
         "orientation": "v",
         "showlegend": true,
         "type": "scatter",
         "x": [
          303
         ],
         "xaxis": "x",
         "y": [
          28445
         ],
         "yaxis": "y"
        },
        {
         "hovertemplate": "Artist=Bill Withers<br>Number=%{x}<br>listeners=%{y}<extra></extra>",
         "legendgroup": "Bill Withers",
         "marker": {
          "color": "#FFA15A",
          "symbol": "circle"
         },
         "mode": "markers",
         "name": "Bill Withers",
         "orientation": "v",
         "showlegend": true,
         "type": "scatter",
         "x": [
          304,
          333
         ],
         "xaxis": "x",
         "y": [
          385106,
          320001
         ],
         "yaxis": "y"
        },
        {
         "hovertemplate": "Artist=KISS<br>Number=%{x}<br>listeners=%{y}<extra></extra>",
         "legendgroup": "KISS",
         "marker": {
          "color": "#19d3f3",
          "symbol": "circle"
         },
         "mode": "markers",
         "name": "KISS",
         "orientation": "v",
         "showlegend": true,
         "type": "scatter",
         "x": [
          305
         ],
         "xaxis": "x",
         "y": [
          38877
         ],
         "yaxis": "y"
        },
        {
         "hovertemplate": "Artist=Al Green<br>Number=%{x}<br>listeners=%{y}<extra></extra>",
         "legendgroup": "Al Green",
         "marker": {
          "color": "#FF6692",
          "symbol": "circle"
         },
         "mode": "markers",
         "name": "Al Green",
         "orientation": "v",
         "showlegend": true,
         "type": "scatter",
         "x": [
          306,
          427,
          456
         ],
         "xaxis": "x",
         "y": [
          163473,
          93955,
          248211
         ],
         "yaxis": "y"
        },
        {
         "hovertemplate": "Artist=Brian Eno<br>Number=%{x}<br>listeners=%{y}<extra></extra>",
         "legendgroup": "Brian Eno",
         "marker": {
          "color": "#B6E880",
          "symbol": "circle"
         },
         "mode": "markers",
         "name": "Brian Eno",
         "orientation": "v",
         "showlegend": true,
         "type": "scatter",
         "x": [
          308,
          338
         ],
         "xaxis": "x",
         "y": [
          208805,
          343135
         ],
         "yaxis": "y"
        },
        {
         "hovertemplate": "Artist=Wire<br>Number=%{x}<br>listeners=%{y}<extra></extra>",
         "legendgroup": "Wire",
         "marker": {
          "color": "#FF97FF",
          "symbol": "circle"
         },
         "mode": "markers",
         "name": "Wire",
         "orientation": "v",
         "showlegend": true,
         "type": "scatter",
         "x": [
          310
         ],
         "xaxis": "x",
         "y": [
          256346
         ],
         "yaxis": "y"
        },
        {
         "hovertemplate": "Artist=Solange<br>Number=%{x}<br>listeners=%{y}<extra></extra>",
         "legendgroup": "Solange",
         "marker": {
          "color": "#FECB52",
          "symbol": "circle"
         },
         "mode": "markers",
         "name": "Solange",
         "orientation": "v",
         "showlegend": true,
         "type": "scatter",
         "x": [
          312
         ],
         "xaxis": "x",
         "y": [
          313826
         ],
         "yaxis": "y"
        },
        {
         "hovertemplate": "Artist=Aaliyah<br>Number=%{x}<br>listeners=%{y}<extra></extra>",
         "legendgroup": "Aaliyah",
         "marker": {
          "color": "#636efa",
          "symbol": "circle"
         },
         "mode": "markers",
         "name": "Aaliyah",
         "orientation": "v",
         "showlegend": true,
         "type": "scatter",
         "x": [
          314
         ],
         "xaxis": "x",
         "y": [
          142474
         ],
         "yaxis": "y"
        },
        {
         "hovertemplate": "Artist=ROSALÍA<br>Number=%{x}<br>listeners=%{y}<extra></extra>",
         "legendgroup": "ROSALÍA",
         "marker": {
          "color": "#EF553B",
          "symbol": "circle"
         },
         "mode": "markers",
         "name": "ROSALÍA",
         "orientation": "v",
         "showlegend": true,
         "type": "scatter",
         "x": [
          315
         ],
         "xaxis": "x",
         "y": [
          207542
         ],
         "yaxis": "y"
        },
        {
         "hovertemplate": "Artist=Billie Holiday<br>Number=%{x}<br>listeners=%{y}<extra></extra>",
         "legendgroup": "Billie Holiday",
         "marker": {
          "color": "#00cc96",
          "symbol": "circle"
         },
         "mode": "markers",
         "name": "Billie Holiday",
         "orientation": "v",
         "showlegend": true,
         "type": "scatter",
         "x": [
          317
         ],
         "xaxis": "x",
         "y": [
          124543
         ],
         "yaxis": "y"
        },
        {
         "hovertemplate": "Artist=Janet<br>Number=%{x}<br>listeners=%{y}<extra></extra>",
         "legendgroup": "Janet",
         "marker": {
          "color": "#ab63fa",
          "symbol": "circle"
         },
         "mode": "markers",
         "name": "Janet",
         "orientation": "v",
         "showlegend": true,
         "type": "scatter",
         "x": [
          318
         ],
         "xaxis": "x",
         "y": [
          377
         ],
         "yaxis": "y"
        },
        {
         "hovertemplate": "Artist=The Stone Roses<br>Number=%{x}<br>listeners=%{y}<extra></extra>",
         "legendgroup": "The Stone Roses",
         "marker": {
          "color": "#FFA15A",
          "symbol": "circle"
         },
         "mode": "markers",
         "name": "The Stone Roses",
         "orientation": "v",
         "showlegend": true,
         "type": "scatter",
         "x": [
          319
         ],
         "xaxis": "x",
         "y": [
          852932
         ],
         "yaxis": "y"
        },
        {
         "hovertemplate": "Artist=X<br>Number=%{x}<br>listeners=%{y}<extra></extra>",
         "legendgroup": "X",
         "marker": {
          "color": "#19d3f3",
          "symbol": "circle"
         },
         "mode": "markers",
         "name": "X",
         "orientation": "v",
         "showlegend": true,
         "type": "scatter",
         "x": [
          320
         ],
         "xaxis": "x",
         "y": [
          141482
         ],
         "yaxis": "y"
        },
        {
         "hovertemplate": "Artist=Lana Del Rey<br>Number=%{x}<br>listeners=%{y}<extra></extra>",
         "legendgroup": "Lana Del Rey",
         "marker": {
          "color": "#FF6692",
          "symbol": "circle"
         },
         "mode": "markers",
         "name": "Lana Del Rey",
         "orientation": "v",
         "showlegend": true,
         "type": "scatter",
         "x": [
          321
         ],
         "xaxis": "x",
         "y": [
          549799
         ],
         "yaxis": "y"
        },
        {
         "hovertemplate": "Artist=Coldplay<br>Number=%{x}<br>listeners=%{y}<extra></extra>",
         "legendgroup": "Coldplay",
         "marker": {
          "color": "#B6E880",
          "symbol": "circle"
         },
         "mode": "markers",
         "name": "Coldplay",
         "orientation": "v",
         "showlegend": true,
         "type": "scatter",
         "x": [
          324
         ],
         "xaxis": "x",
         "y": [
          2802845
         ],
         "yaxis": "y"
        },
        {
         "hovertemplate": "Artist=Jerry Lee Lewis<br>Number=%{x}<br>listeners=%{y}<extra></extra>",
         "legendgroup": "Jerry Lee Lewis",
         "marker": {
          "color": "#FF97FF",
          "symbol": "circle"
         },
         "mode": "markers",
         "name": "Jerry Lee Lewis",
         "orientation": "v",
         "showlegend": true,
         "type": "scatter",
         "x": [
          325
         ],
         "xaxis": "x",
         "y": [
          76
         ],
         "yaxis": "y"
        },
        {
         "hovertemplate": "Artist=Vampire Weekend<br>Number=%{x}<br>listeners=%{y}<extra></extra>",
         "legendgroup": "Vampire Weekend",
         "marker": {
          "color": "#FECB52",
          "symbol": "circle"
         },
         "mode": "markers",
         "name": "Vampire Weekend",
         "orientation": "v",
         "showlegend": true,
         "type": "scatter",
         "x": [
          328
         ],
         "xaxis": "x",
         "y": [
          627250
         ],
         "yaxis": "y"
        },
        {
         "hovertemplate": "Artist=DJ Shadow<br>Number=%{x}<br>listeners=%{y}<extra></extra>",
         "legendgroup": "DJ Shadow",
         "marker": {
          "color": "#636efa",
          "symbol": "circle"
         },
         "mode": "markers",
         "name": "DJ Shadow",
         "orientation": "v",
         "showlegend": true,
         "type": "scatter",
         "x": [
          329
         ],
         "xaxis": "x",
         "y": [
          682013
         ],
         "yaxis": "y"
        },
        {
         "hovertemplate": "Artist=Santana<br>Number=%{x}<br>listeners=%{y}<extra></extra>",
         "legendgroup": "Santana",
         "marker": {
          "color": "#EF553B",
          "symbol": "circle"
         },
         "mode": "markers",
         "name": "Santana",
         "orientation": "v",
         "showlegend": true,
         "type": "scatter",
         "x": [
          334
         ],
         "xaxis": "x",
         "y": [
          242192
         ],
         "yaxis": "y"
        },
        {
         "hovertemplate": "Artist=Bob Dylan And The Band<br>Number=%{x}<br>listeners=%{y}<extra></extra>",
         "legendgroup": "Bob Dylan And The Band",
         "marker": {
          "color": "#00cc96",
          "symbol": "circle"
         },
         "mode": "markers",
         "name": "Bob Dylan And The Band",
         "orientation": "v",
         "showlegend": true,
         "type": "scatter",
         "x": [
          335
         ],
         "xaxis": "x",
         "y": [
          64146
         ],
         "yaxis": "y"
        },
        {
         "hovertemplate": "Artist=Roxy Music<br>Number=%{x}<br>listeners=%{y}<extra></extra>",
         "legendgroup": "Roxy Music",
         "marker": {
          "color": "#ab63fa",
          "symbol": "circle"
         },
         "mode": "markers",
         "name": "Roxy Music",
         "orientation": "v",
         "showlegend": true,
         "type": "scatter",
         "x": [
          336,
          351
         ],
         "xaxis": "x",
         "y": [
          336244,
          96413
         ],
         "yaxis": "y"
        },
        {
         "hovertemplate": "Artist=Snoop Doggy Dogg<br>Number=%{x}<br>listeners=%{y}<extra></extra>",
         "legendgroup": "Snoop Doggy Dogg",
         "marker": {
          "color": "#FFA15A",
          "symbol": "circle"
         },
         "mode": "markers",
         "name": "Snoop Doggy Dogg",
         "orientation": "v",
         "showlegend": true,
         "type": "scatter",
         "x": [
          340
         ],
         "xaxis": "x",
         "y": [
          1617
         ],
         "yaxis": "y"
        },
        {
         "hovertemplate": "Artist=Smashing Pumpkins<br>Number=%{x}<br>listeners=%{y}<extra></extra>",
         "legendgroup": "Smashing Pumpkins",
         "marker": {
          "color": "#19d3f3",
          "symbol": "circle"
         },
         "mode": "markers",
         "name": "Smashing Pumpkins",
         "orientation": "v",
         "showlegend": true,
         "type": "scatter",
         "x": [
          341
         ],
         "xaxis": "x",
         "y": [
          6054
         ],
         "yaxis": "y"
        },
        {
         "hovertemplate": "Artist=Toots & The Maytals<br>Number=%{x}<br>listeners=%{y}<extra></extra>",
         "legendgroup": "Toots & The Maytals",
         "marker": {
          "color": "#FF6692",
          "symbol": "circle"
         },
         "mode": "markers",
         "name": "Toots & The Maytals",
         "orientation": "v",
         "showlegend": true,
         "type": "scatter",
         "x": [
          344
         ],
         "xaxis": "x",
         "y": [
          34194
         ],
         "yaxis": "y"
        },
        {
         "hovertemplate": "Artist=Arctic Monkeys<br>Number=%{x}<br>listeners=%{y}<extra></extra>",
         "legendgroup": "Arctic Monkeys",
         "marker": {
          "color": "#B6E880",
          "symbol": "circle"
         },
         "mode": "markers",
         "name": "Arctic Monkeys",
         "orientation": "v",
         "showlegend": true,
         "type": "scatter",
         "x": [
          346
         ],
         "xaxis": "x",
         "y": [
          1475263
         ],
         "yaxis": "y"
        },
        {
         "hovertemplate": "Artist=Genius/GZA<br>Number=%{x}<br>listeners=%{y}<extra></extra>",
         "legendgroup": "Genius/GZA",
         "marker": {
          "color": "#FF97FF",
          "symbol": "circle"
         },
         "mode": "markers",
         "name": "Genius/GZA",
         "orientation": "v",
         "showlegend": true,
         "type": "scatter",
         "x": [
          347
         ],
         "xaxis": "x",
         "y": [
          904
         ],
         "yaxis": "y"
        },
        {
         "hovertemplate": "Artist=Gillian Welch<br>Number=%{x}<br>listeners=%{y}<extra></extra>",
         "legendgroup": "Gillian Welch",
         "marker": {
          "color": "#FECB52",
          "symbol": "circle"
         },
         "mode": "markers",
         "name": "Gillian Welch",
         "orientation": "v",
         "showlegend": true,
         "type": "scatter",
         "x": [
          348
         ],
         "xaxis": "x",
         "y": [
          73985
         ],
         "yaxis": "y"
        },
        {
         "hovertemplate": "Artist=MC5<br>Number=%{x}<br>listeners=%{y}<extra></extra>",
         "legendgroup": "MC5",
         "marker": {
          "color": "#636efa",
          "symbol": "circle"
         },
         "mode": "markers",
         "name": "MC5",
         "orientation": "v",
         "showlegend": true,
         "type": "scatter",
         "x": [
          349
         ],
         "xaxis": "x",
         "y": [
          99625
         ],
         "yaxis": "y"
        },
        {
         "hovertemplate": "Artist=The Cars<br>Number=%{x}<br>listeners=%{y}<extra></extra>",
         "legendgroup": "The Cars",
         "marker": {
          "color": "#EF553B",
          "symbol": "circle"
         },
         "mode": "markers",
         "name": "The Cars",
         "orientation": "v",
         "showlegend": true,
         "type": "scatter",
         "x": [
          353
         ],
         "xaxis": "x",
         "y": [
          358409
         ],
         "yaxis": "y"
        },
        {
         "hovertemplate": "Artist=X‐Ray Spex<br>Number=%{x}<br>listeners=%{y}<extra></extra>",
         "legendgroup": "X‐Ray Spex",
         "marker": {
          "color": "#00cc96",
          "symbol": "circle"
         },
         "mode": "markers",
         "name": "X‐Ray Spex",
         "orientation": "v",
         "showlegend": true,
         "type": "scatter",
         "x": [
          354
         ],
         "xaxis": "x",
         "y": [
          206
         ],
         "yaxis": "y"
        },
        {
         "hovertemplate": "Artist=Dr. John, the Night Tripper<br>Number=%{x}<br>listeners=%{y}<extra></extra>",
         "legendgroup": "Dr. John, the Night Tripper",
         "marker": {
          "color": "#ab63fa",
          "symbol": "circle"
         },
         "mode": "markers",
         "name": "Dr. John, the Night Tripper",
         "orientation": "v",
         "showlegend": true,
         "type": "scatter",
         "x": [
          356
         ],
         "xaxis": "x",
         "y": [
          491
         ],
         "yaxis": "y"
        },
        {
         "hovertemplate": "Artist=Tom Waits<br>Number=%{x}<br>listeners=%{y}<extra></extra>",
         "legendgroup": "Tom Waits",
         "marker": {
          "color": "#FFA15A",
          "symbol": "circle"
         },
         "mode": "markers",
         "name": "Tom Waits",
         "orientation": "v",
         "showlegend": true,
         "type": "scatter",
         "x": [
          357
         ],
         "xaxis": "x",
         "y": [
          649405
         ],
         "yaxis": "y"
        },
        {
         "hovertemplate": "Artist=My Chemical Romance<br>Number=%{x}<br>listeners=%{y}<extra></extra>",
         "legendgroup": "My Chemical Romance",
         "marker": {
          "color": "#19d3f3",
          "symbol": "circle"
         },
         "mode": "markers",
         "name": "My Chemical Romance",
         "orientation": "v",
         "showlegend": true,
         "type": "scatter",
         "x": [
          361
         ],
         "xaxis": "x",
         "y": [
          1729275
         ],
         "yaxis": "y"
        },
        {
         "hovertemplate": "Artist=Luther Vandross<br>Number=%{x}<br>listeners=%{y}<extra></extra>",
         "legendgroup": "Luther Vandross",
         "marker": {
          "color": "#FF6692",
          "symbol": "circle"
         },
         "mode": "markers",
         "name": "Luther Vandross",
         "orientation": "v",
         "showlegend": true,
         "type": "scatter",
         "x": [
          362
         ],
         "xaxis": "x",
         "y": [
          166823
         ],
         "yaxis": "y"
        },
        {
         "hovertemplate": "Artist=Parliament<br>Number=%{x}<br>listeners=%{y}<extra></extra>",
         "legendgroup": "Parliament",
         "marker": {
          "color": "#B6E880",
          "symbol": "circle"
         },
         "mode": "markers",
         "name": "Parliament",
         "orientation": "v",
         "showlegend": true,
         "type": "scatter",
         "x": [
          363
         ],
         "xaxis": "x",
         "y": [
          247632
         ],
         "yaxis": "y"
        },
        {
         "hovertemplate": "Artist=Madvillain<br>Number=%{x}<br>listeners=%{y}<extra></extra>",
         "legendgroup": "Madvillain",
         "marker": {
          "color": "#FF97FF",
          "symbol": "circle"
         },
         "mode": "markers",
         "name": "Madvillain",
         "orientation": "v",
         "showlegend": true,
         "type": "scatter",
         "x": [
          365
         ],
         "xaxis": "x",
         "y": [
          790618
         ],
         "yaxis": "y"
        },
        {
         "hovertemplate": "Artist=Aerosmith<br>Number=%{x}<br>listeners=%{y}<extra></extra>",
         "legendgroup": "Aerosmith",
         "marker": {
          "color": "#FECB52",
          "symbol": "circle"
         },
         "mode": "markers",
         "name": "Aerosmith",
         "orientation": "v",
         "showlegend": true,
         "type": "scatter",
         "x": [
          366
         ],
         "xaxis": "x",
         "y": [
          168918
         ],
         "yaxis": "y"
        },
        {
         "hovertemplate": "Artist=George Harrison<br>Number=%{x}<br>listeners=%{y}<extra></extra>",
         "legendgroup": "George Harrison",
         "marker": {
          "color": "#636efa",
          "symbol": "circle"
         },
         "mode": "markers",
         "name": "George Harrison",
         "orientation": "v",
         "showlegend": true,
         "type": "scatter",
         "x": [
          368
         ],
         "xaxis": "x",
         "y": [
          273531
         ],
         "yaxis": "y"
        },
        {
         "hovertemplate": "Artist=Mobb Deep<br>Number=%{x}<br>listeners=%{y}<extra></extra>",
         "legendgroup": "Mobb Deep",
         "marker": {
          "color": "#EF553B",
          "symbol": "circle"
         },
         "mode": "markers",
         "name": "Mobb Deep",
         "orientation": "v",
         "showlegend": true,
         "type": "scatter",
         "x": [
          369
         ],
         "xaxis": "x",
         "y": [
          615295
         ],
         "yaxis": "y"
        },
        {
         "hovertemplate": "Artist=The Temptations<br>Number=%{x}<br>listeners=%{y}<extra></extra>",
         "legendgroup": "The Temptations",
         "marker": {
          "color": "#00cc96",
          "symbol": "circle"
         },
         "mode": "markers",
         "name": "The Temptations",
         "orientation": "v",
         "showlegend": true,
         "type": "scatter",
         "x": [
          371
         ],
         "xaxis": "x",
         "y": [
          35302
         ],
         "yaxis": "y"
        },
        {
         "hovertemplate": "Artist=Big Brother & the Holding Company<br>Number=%{x}<br>listeners=%{y}<extra></extra>",
         "legendgroup": "Big Brother & the Holding Company",
         "marker": {
          "color": "#ab63fa",
          "symbol": "circle"
         },
         "mode": "markers",
         "name": "Big Brother & the Holding Company",
         "orientation": "v",
         "showlegend": true,
         "type": "scatter",
         "x": [
          372
         ],
         "xaxis": "x",
         "y": [
          280153
         ],
         "yaxis": "y"
        },
        {
         "hovertemplate": "Artist=Isaac Hayes<br>Number=%{x}<br>listeners=%{y}<extra></extra>",
         "legendgroup": "Isaac Hayes",
         "marker": {
          "color": "#FFA15A",
          "symbol": "circle"
         },
         "mode": "markers",
         "name": "Isaac Hayes",
         "orientation": "v",
         "showlegend": true,
         "type": "scatter",
         "x": [
          373
         ],
         "xaxis": "x",
         "y": [
          108585
         ],
         "yaxis": "y"
        },
        {
         "hovertemplate": "Artist=Robert Johnson<br>Number=%{x}<br>listeners=%{y}<extra></extra>",
         "legendgroup": "Robert Johnson",
         "marker": {
          "color": "#19d3f3",
          "symbol": "circle"
         },
         "mode": "markers",
         "name": "Robert Johnson",
         "orientation": "v",
         "showlegend": true,
         "type": "scatter",
         "x": [
          374
         ],
         "xaxis": "x",
         "y": [
          302265
         ],
         "yaxis": "y"
        },
        {
         "hovertemplate": "Artist=Neutral Milk Hotel<br>Number=%{x}<br>listeners=%{y}<extra></extra>",
         "legendgroup": "Neutral Milk Hotel",
         "marker": {
          "color": "#FF6692",
          "symbol": "circle"
         },
         "mode": "markers",
         "name": "Neutral Milk Hotel",
         "orientation": "v",
         "showlegend": true,
         "type": "scatter",
         "x": [
          376
         ],
         "xaxis": "x",
         "y": [
          1175947
         ],
         "yaxis": "y"
        },
        {
         "hovertemplate": "Artist=Yeah Yeah Yeahs<br>Number=%{x}<br>listeners=%{y}<extra></extra>",
         "legendgroup": "Yeah Yeah Yeahs",
         "marker": {
          "color": "#B6E880",
          "symbol": "circle"
         },
         "mode": "markers",
         "name": "Yeah Yeah Yeahs",
         "orientation": "v",
         "showlegend": true,
         "type": "scatter",
         "x": [
          377
         ],
         "xaxis": "x",
         "y": [
          1203526
         ],
         "yaxis": "y"
        },
        {
         "hovertemplate": "Artist=Rush<br>Number=%{x}<br>listeners=%{y}<extra></extra>",
         "legendgroup": "Rush",
         "marker": {
          "color": "#FF97FF",
          "symbol": "circle"
         },
         "mode": "markers",
         "name": "Rush",
         "orientation": "v",
         "showlegend": true,
         "type": "scatter",
         "x": [
          379
         ],
         "xaxis": "x",
         "y": [
          441257
         ],
         "yaxis": "y"
        },
        {
         "hovertemplate": "Artist=Charles Mingus<br>Number=%{x}<br>listeners=%{y}<extra></extra>",
         "legendgroup": "Charles Mingus",
         "marker": {
          "color": "#FECB52",
          "symbol": "circle"
         },
         "mode": "markers",
         "name": "Charles Mingus",
         "orientation": "v",
         "showlegend": true,
         "type": "scatter",
         "x": [
          380
         ],
         "xaxis": "x",
         "y": [
          309531
         ],
         "yaxis": "y"
        },
        {
         "hovertemplate": "Artist=Lynyrd Skynyrd<br>Number=%{x}<br>listeners=%{y}<extra></extra>",
         "legendgroup": "Lynyrd Skynyrd",
         "marker": {
          "color": "#636efa",
          "symbol": "circle"
         },
         "mode": "markers",
         "name": "Lynyrd Skynyrd",
         "orientation": "v",
         "showlegend": true,
         "type": "scatter",
         "x": [
          381
         ],
         "xaxis": "x",
         "y": [
          38
         ],
         "yaxis": "y"
        },
        {
         "hovertemplate": "Artist=Tame Impala<br>Number=%{x}<br>listeners=%{y}<extra></extra>",
         "legendgroup": "Tame Impala",
         "marker": {
          "color": "#EF553B",
          "symbol": "circle"
         },
         "mode": "markers",
         "name": "Tame Impala",
         "orientation": "v",
         "showlegend": true,
         "type": "scatter",
         "x": [
          382
         ],
         "xaxis": "x",
         "y": [
          1053669
         ],
         "yaxis": "y"
        },
        {
         "hovertemplate": "Artist=The Kinks<br>Number=%{x}<br>listeners=%{y}<extra></extra>",
         "legendgroup": "The Kinks",
         "marker": {
          "color": "#00cc96",
          "symbol": "circle"
         },
         "mode": "markers",
         "name": "The Kinks",
         "orientation": "v",
         "showlegend": true,
         "type": "scatter",
         "x": [
          384,
          478
         ],
         "xaxis": "x",
         "y": [
          195492,
          226701
         ],
         "yaxis": "y"
        },
        {
         "hovertemplate": "Artist=J Dilla<br>Number=%{x}<br>listeners=%{y}<extra></extra>",
         "legendgroup": "J Dilla",
         "marker": {
          "color": "#ab63fa",
          "symbol": "circle"
         },
         "mode": "markers",
         "name": "J Dilla",
         "orientation": "v",
         "showlegend": true,
         "type": "scatter",
         "x": [
          386
         ],
         "xaxis": "x",
         "y": [
          407545
         ],
         "yaxis": "y"
        },
        {
         "hovertemplate": "Artist=Mariah Carey<br>Number=%{x}<br>listeners=%{y}<extra></extra>",
         "legendgroup": "Mariah Carey",
         "marker": {
          "color": "#FFA15A",
          "symbol": "circle"
         },
         "mode": "markers",
         "name": "Mariah Carey",
         "orientation": "v",
         "showlegend": true,
         "type": "scatter",
         "x": [
          389
         ],
         "xaxis": "x",
         "y": [
          658844
         ],
         "yaxis": "y"
        },
        {
         "hovertemplate": "Artist=Kelis<br>Number=%{x}<br>listeners=%{y}<extra></extra>",
         "legendgroup": "Kelis",
         "marker": {
          "color": "#19d3f3",
          "symbol": "circle"
         },
         "mode": "markers",
         "name": "Kelis",
         "orientation": "v",
         "showlegend": true,
         "type": "scatter",
         "x": [
          391
         ],
         "xaxis": "x",
         "y": [
          188022
         ],
         "yaxis": "y"
        },
        {
         "hovertemplate": "Artist=Ike & Tina Turner<br>Number=%{x}<br>listeners=%{y}<extra></extra>",
         "legendgroup": "Ike & Tina Turner",
         "marker": {
          "color": "#FF6692",
          "symbol": "circle"
         },
         "mode": "markers",
         "name": "Ike & Tina Turner",
         "orientation": "v",
         "showlegend": true,
         "type": "scatter",
         "x": [
          392
         ],
         "xaxis": "x",
         "y": [
          2187
         ],
         "yaxis": "y"
        },
        {
         "hovertemplate": "Artist=Diana Ross<br>Number=%{x}<br>listeners=%{y}<extra></extra>",
         "legendgroup": "Diana Ross",
         "marker": {
          "color": "#B6E880",
          "symbol": "circle"
         },
         "mode": "markers",
         "name": "Diana Ross",
         "orientation": "v",
         "showlegend": true,
         "type": "scatter",
         "x": [
          394
         ],
         "xaxis": "x",
         "y": [
          365901
         ],
         "yaxis": "y"
        },
        {
         "hovertemplate": "Artist=D'Angelo and The Vanguard<br>Number=%{x}<br>listeners=%{y}<extra></extra>",
         "legendgroup": "D'Angelo and The Vanguard",
         "marker": {
          "color": "#FF97FF",
          "symbol": "circle"
         },
         "mode": "markers",
         "name": "D'Angelo and The Vanguard",
         "orientation": "v",
         "showlegend": true,
         "type": "scatter",
         "x": [
          395
         ],
         "xaxis": "x",
         "y": [
          19319
         ],
         "yaxis": "y"
        },
        {
         "hovertemplate": "Artist=Todd Rundgren<br>Number=%{x}<br>listeners=%{y}<extra></extra>",
         "legendgroup": "Todd Rundgren",
         "marker": {
          "color": "#FECB52",
          "symbol": "circle"
         },
         "mode": "markers",
         "name": "Todd Rundgren",
         "orientation": "v",
         "showlegend": true,
         "type": "scatter",
         "x": [
          396
         ],
         "xaxis": "x",
         "y": [
          145436
         ],
         "yaxis": "y"
        },
        {
         "hovertemplate": "Artist=Billie Eilish<br>Number=%{x}<br>listeners=%{y}<extra></extra>",
         "legendgroup": "Billie Eilish",
         "marker": {
          "color": "#636efa",
          "symbol": "circle"
         },
         "mode": "markers",
         "name": "Billie Eilish",
         "orientation": "v",
         "showlegend": true,
         "type": "scatter",
         "x": [
          397
         ],
         "xaxis": "x",
         "y": [
          988943
         ],
         "yaxis": "y"
        },
        {
         "hovertemplate": "Artist=The Raincoats<br>Number=%{x}<br>listeners=%{y}<extra></extra>",
         "legendgroup": "The Raincoats",
         "marker": {
          "color": "#EF553B",
          "symbol": "circle"
         },
         "mode": "markers",
         "name": "The Raincoats",
         "orientation": "v",
         "showlegend": true,
         "type": "scatter",
         "x": [
          398
         ],
         "xaxis": "x",
         "y": [
          122469
         ],
         "yaxis": "y"
        },
        {
         "hovertemplate": "Artist=Brian Wilson<br>Number=%{x}<br>listeners=%{y}<extra></extra>",
         "legendgroup": "Brian Wilson",
         "marker": {
          "color": "#00cc96",
          "symbol": "circle"
         },
         "mode": "markers",
         "name": "Brian Wilson",
         "orientation": "v",
         "showlegend": true,
         "type": "scatter",
         "x": [
          399
         ],
         "xaxis": "x",
         "y": [
          142017
         ],
         "yaxis": "y"
        },
        {
         "hovertemplate": "Artist=The Go‐Go's<br>Number=%{x}<br>listeners=%{y}<extra></extra>",
         "legendgroup": "The Go‐Go's",
         "marker": {
          "color": "#ab63fa",
          "symbol": "circle"
         },
         "mode": "markers",
         "name": "The Go‐Go's",
         "orientation": "v",
         "showlegend": true,
         "type": "scatter",
         "x": [
          400
         ],
         "xaxis": "x",
         "y": [
          17
         ],
         "yaxis": "y"
        },
        {
         "hovertemplate": "Artist=Fela Ransome Kuti & Africa 70<br>Number=%{x}<br>listeners=%{y}<extra></extra>",
         "legendgroup": "Fela Ransome Kuti & Africa 70",
         "marker": {
          "color": "#FFA15A",
          "symbol": "circle"
         },
         "mode": "markers",
         "name": "Fela Ransome Kuti & Africa 70",
         "orientation": "v",
         "showlegend": true,
         "type": "scatter",
         "x": [
          402
         ],
         "xaxis": "x",
         "y": [
          550
         ],
         "yaxis": "y"
        },
        {
         "hovertemplate": "Artist=Ghostface Killah<br>Number=%{x}<br>listeners=%{y}<extra></extra>",
         "legendgroup": "Ghostface Killah",
         "marker": {
          "color": "#19d3f3",
          "symbol": "circle"
         },
         "mode": "markers",
         "name": "Ghostface Killah",
         "orientation": "v",
         "showlegend": true,
         "type": "scatter",
         "x": [
          403
         ],
         "xaxis": "x",
         "y": [
          231657
         ],
         "yaxis": "y"
        },
        {
         "hovertemplate": "Artist=Anita Baker<br>Number=%{x}<br>listeners=%{y}<extra></extra>",
         "legendgroup": "Anita Baker",
         "marker": {
          "color": "#FF6692",
          "symbol": "circle"
         },
         "mode": "markers",
         "name": "Anita Baker",
         "orientation": "v",
         "showlegend": true,
         "type": "scatter",
         "x": [
          404
         ],
         "xaxis": "x",
         "y": [
          77818
         ],
         "yaxis": "y"
        },
        {
         "hovertemplate": "Artist=The Magnetic Fields<br>Number=%{x}<br>listeners=%{y}<extra></extra>",
         "legendgroup": "The Magnetic Fields",
         "marker": {
          "color": "#B6E880",
          "symbol": "circle"
         },
         "mode": "markers",
         "name": "The Magnetic Fields",
         "orientation": "v",
         "showlegend": true,
         "type": "scatter",
         "x": [
          406
         ],
         "xaxis": "x",
         "y": [
          314937
         ],
         "yaxis": "y"
        },
        {
         "hovertemplate": "Artist=Neil Young with Crazy Horse<br>Number=%{x}<br>listeners=%{y}<extra></extra>",
         "legendgroup": "Neil Young with Crazy Horse",
         "marker": {
          "color": "#FF97FF",
          "symbol": "circle"
         },
         "mode": "markers",
         "name": "Neil Young with Crazy Horse",
         "orientation": "v",
         "showlegend": true,
         "type": "scatter",
         "x": [
          407
         ],
         "xaxis": "x",
         "y": [
          1256
         ],
         "yaxis": "y"
        },
        {
         "hovertemplate": "Artist=Motörhead<br>Number=%{x}<br>listeners=%{y}<extra></extra>",
         "legendgroup": "Motörhead",
         "marker": {
          "color": "#FECB52",
          "symbol": "circle"
         },
         "mode": "markers",
         "name": "Motörhead",
         "orientation": "v",
         "showlegend": true,
         "type": "scatter",
         "x": [
          408
         ],
         "xaxis": "x",
         "y": [
          519036
         ],
         "yaxis": "y"
        },
        {
         "hovertemplate": "Artist=Smokey Robinson and The Miracles<br>Number=%{x}<br>listeners=%{y}<extra></extra>",
         "legendgroup": "Smokey Robinson and The Miracles",
         "marker": {
          "color": "#636efa",
          "symbol": "circle"
         },
         "mode": "markers",
         "name": "Smokey Robinson and The Miracles",
         "orientation": "v",
         "showlegend": true,
         "type": "scatter",
         "x": [
          412
         ],
         "xaxis": "x",
         "y": [
          1
         ],
         "yaxis": "y"
        },
        {
         "hovertemplate": "Artist=Chic<br>Number=%{x}<br>listeners=%{y}<extra></extra>",
         "legendgroup": "Chic",
         "marker": {
          "color": "#EF553B",
          "symbol": "circle"
         },
         "mode": "markers",
         "name": "Chic",
         "orientation": "v",
         "showlegend": true,
         "type": "scatter",
         "x": [
          414
         ],
         "xaxis": "x",
         "y": [
          176421
         ],
         "yaxis": "y"
        },
        {
         "hovertemplate": "Artist=The Meters<br>Number=%{x}<br>listeners=%{y}<extra></extra>",
         "legendgroup": "The Meters",
         "marker": {
          "color": "#00cc96",
          "symbol": "circle"
         },
         "mode": "markers",
         "name": "The Meters",
         "orientation": "v",
         "showlegend": true,
         "type": "scatter",
         "x": [
          415
         ],
         "xaxis": "x",
         "y": [
          35304
         ],
         "yaxis": "y"
        },
        {
         "hovertemplate": "Artist=The Roots<br>Number=%{x}<br>listeners=%{y}<extra></extra>",
         "legendgroup": "The Roots",
         "marker": {
          "color": "#ab63fa",
          "symbol": "circle"
         },
         "mode": "markers",
         "name": "The Roots",
         "orientation": "v",
         "showlegend": true,
         "type": "scatter",
         "x": [
          416
         ],
         "xaxis": "x",
         "y": [
          373576
         ],
         "yaxis": "y"
        },
        {
         "hovertemplate": "Artist=Ornette Coleman<br>Number=%{x}<br>listeners=%{y}<extra></extra>",
         "legendgroup": "Ornette Coleman",
         "marker": {
          "color": "#FFA15A",
          "symbol": "circle"
         },
         "mode": "markers",
         "name": "Ornette Coleman",
         "orientation": "v",
         "showlegend": true,
         "type": "scatter",
         "x": [
          417
         ],
         "xaxis": "x",
         "y": [
          113173
         ],
         "yaxis": "y"
        },
        {
         "hovertemplate": "Artist=Dire Straits<br>Number=%{x}<br>listeners=%{y}<extra></extra>",
         "legendgroup": "Dire Straits",
         "marker": {
          "color": "#19d3f3",
          "symbol": "circle"
         },
         "mode": "markers",
         "name": "Dire Straits",
         "orientation": "v",
         "showlegend": true,
         "type": "scatter",
         "x": [
          418
         ],
         "xaxis": "x",
         "y": [
          955391
         ],
         "yaxis": "y"
        },
        {
         "hovertemplate": "Artist=Eric Church<br>Number=%{x}<br>listeners=%{y}<extra></extra>",
         "legendgroup": "Eric Church",
         "marker": {
          "color": "#FF6692",
          "symbol": "circle"
         },
         "mode": "markers",
         "name": "Eric Church",
         "orientation": "v",
         "showlegend": true,
         "type": "scatter",
         "x": [
          419
         ],
         "xaxis": "x",
         "y": [
          212659
         ],
         "yaxis": "y"
        },
        {
         "hovertemplate": "Artist=Earth, Wind & Fire<br>Number=%{x}<br>listeners=%{y}<extra></extra>",
         "legendgroup": "Earth, Wind & Fire",
         "marker": {
          "color": "#B6E880",
          "symbol": "circle"
         },
         "mode": "markers",
         "name": "Earth, Wind & Fire",
         "orientation": "v",
         "showlegend": true,
         "type": "scatter",
         "x": [
          420
         ],
         "xaxis": "x",
         "y": [
          141497
         ],
         "yaxis": "y"
        },
        {
         "hovertemplate": "Artist=M.I.A.<br>Number=%{x}<br>listeners=%{y}<extra></extra>",
         "legendgroup": "M.I.A.",
         "marker": {
          "color": "#FF97FF",
          "symbol": "circle"
         },
         "mode": "markers",
         "name": "M.I.A.",
         "orientation": "v",
         "showlegend": true,
         "type": "scatter",
         "x": [
          421
         ],
         "xaxis": "x",
         "y": [
          421769
         ],
         "yaxis": "y"
        },
        {
         "hovertemplate": "Artist=Yo La Tengo<br>Number=%{x}<br>listeners=%{y}<extra></extra>",
         "legendgroup": "Yo La Tengo",
         "marker": {
          "color": "#FECB52",
          "symbol": "circle"
         },
         "mode": "markers",
         "name": "Yo La Tengo",
         "orientation": "v",
         "showlegend": true,
         "type": "scatter",
         "x": [
          423
         ],
         "xaxis": "x",
         "y": [
          454076
         ],
         "yaxis": "y"
        },
        {
         "hovertemplate": "Artist=Beck<br>Number=%{x}<br>listeners=%{y}<extra></extra>",
         "legendgroup": "Beck",
         "marker": {
          "color": "#636efa",
          "symbol": "circle"
         },
         "mode": "markers",
         "name": "Beck",
         "orientation": "v",
         "showlegend": true,
         "type": "scatter",
         "x": [
          424
         ],
         "xaxis": "x",
         "y": [
          838770
         ],
         "yaxis": "y"
        },
        {
         "hovertemplate": "Artist=Hüsker Dü<br>Number=%{x}<br>listeners=%{y}<extra></extra>",
         "legendgroup": "Hüsker Dü",
         "marker": {
          "color": "#EF553B",
          "symbol": "circle"
         },
         "mode": "markers",
         "name": "Hüsker Dü",
         "orientation": "v",
         "showlegend": true,
         "type": "scatter",
         "x": [
          428
         ],
         "xaxis": "x",
         "y": [
          170209
         ],
         "yaxis": "y"
        },
        {
         "hovertemplate": "Artist=Four Tops<br>Number=%{x}<br>listeners=%{y}<extra></extra>",
         "legendgroup": "Four Tops",
         "marker": {
          "color": "#00cc96",
          "symbol": "circle"
         },
         "mode": "markers",
         "name": "Four Tops",
         "orientation": "v",
         "showlegend": true,
         "type": "scatter",
         "x": [
          429
         ],
         "xaxis": "x",
         "y": [
          19393
         ],
         "yaxis": "y"
        },
        {
         "hovertemplate": "Artist=Elvis Costello<br>Number=%{x}<br>listeners=%{y}<extra></extra>",
         "legendgroup": "Elvis Costello",
         "marker": {
          "color": "#ab63fa",
          "symbol": "circle"
         },
         "mode": "markers",
         "name": "Elvis Costello",
         "orientation": "v",
         "showlegend": true,
         "type": "scatter",
         "x": [
          430
         ],
         "xaxis": "x",
         "y": [
          382954
         ],
         "yaxis": "y"
        },
        {
         "hovertemplate": "Artist=Los Lobos<br>Number=%{x}<br>listeners=%{y}<extra></extra>",
         "legendgroup": "Los Lobos",
         "marker": {
          "color": "#FFA15A",
          "symbol": "circle"
         },
         "mode": "markers",
         "name": "Los Lobos",
         "orientation": "v",
         "showlegend": true,
         "type": "scatter",
         "x": [
          431
         ],
         "xaxis": "x",
         "y": [
          18318
         ],
         "yaxis": "y"
        },
        {
         "hovertemplate": "Artist=Usher<br>Number=%{x}<br>listeners=%{y}<extra></extra>",
         "legendgroup": "Usher",
         "marker": {
          "color": "#19d3f3",
          "symbol": "circle"
         },
         "mode": "markers",
         "name": "Usher",
         "orientation": "v",
         "showlegend": true,
         "type": "scatter",
         "x": [
          432
         ],
         "xaxis": "x",
         "y": [
          949202
         ],
         "yaxis": "y"
        },
        {
         "hovertemplate": "Artist=LCD Soundsystem<br>Number=%{x}<br>listeners=%{y}<extra></extra>",
         "legendgroup": "LCD Soundsystem",
         "marker": {
          "color": "#FF6692",
          "symbol": "circle"
         },
         "mode": "markers",
         "name": "LCD Soundsystem",
         "orientation": "v",
         "showlegend": true,
         "type": "scatter",
         "x": [
          433
         ],
         "xaxis": "x",
         "y": [
          1014845
         ],
         "yaxis": "y"
        },
        {
         "hovertemplate": "Artist=Pet Shop Boys<br>Number=%{x}<br>listeners=%{y}<extra></extra>",
         "legendgroup": "Pet Shop Boys",
         "marker": {
          "color": "#B6E880",
          "symbol": "circle"
         },
         "mode": "markers",
         "name": "Pet Shop Boys",
         "orientation": "v",
         "showlegend": true,
         "type": "scatter",
         "x": [
          435
         ],
         "xaxis": "x",
         "y": [
          198485
         ],
         "yaxis": "y"
        },
        {
         "hovertemplate": "Artist=2Pac<br>Number=%{x}<br>listeners=%{y}<extra></extra>",
         "legendgroup": "2Pac",
         "marker": {
          "color": "#FF97FF",
          "symbol": "circle"
         },
         "mode": "markers",
         "name": "2Pac",
         "orientation": "v",
         "showlegend": true,
         "type": "scatter",
         "x": [
          436
         ],
         "xaxis": "x",
         "y": [
          656831
         ],
         "yaxis": "y"
        },
        {
         "hovertemplate": "Artist=Primal Scream<br>Number=%{x}<br>listeners=%{y}<extra></extra>",
         "legendgroup": "Primal Scream",
         "marker": {
          "color": "#FECB52",
          "symbol": "circle"
         },
         "mode": "markers",
         "name": "Primal Scream",
         "orientation": "v",
         "showlegend": true,
         "type": "scatter",
         "x": [
          437
         ],
         "xaxis": "x",
         "y": [
          504825
         ],
         "yaxis": "y"
        },
        {
         "hovertemplate": "Artist=Blur<br>Number=%{x}<br>listeners=%{y}<extra></extra>",
         "legendgroup": "Blur",
         "marker": {
          "color": "#636efa",
          "symbol": "circle"
         },
         "mode": "markers",
         "name": "Blur",
         "orientation": "v",
         "showlegend": true,
         "type": "scatter",
         "x": [
          438
         ],
         "xaxis": "x",
         "y": [
          791348
         ],
         "yaxis": "y"
        },
        {
         "hovertemplate": "Artist=Loretta Lynn<br>Number=%{x}<br>listeners=%{y}<extra></extra>",
         "legendgroup": "Loretta Lynn",
         "marker": {
          "color": "#EF553B",
          "symbol": "circle"
         },
         "mode": "markers",
         "name": "Loretta Lynn",
         "orientation": "v",
         "showlegend": true,
         "type": "scatter",
         "x": [
          440
         ],
         "xaxis": "x",
         "y": [
          24546
         ],
         "yaxis": "y"
        },
        {
         "hovertemplate": "Artist=Britney Spears<br>Number=%{x}<br>listeners=%{y}<extra></extra>",
         "legendgroup": "Britney Spears",
         "marker": {
          "color": "#00cc96",
          "symbol": "circle"
         },
         "mode": "markers",
         "name": "Britney Spears",
         "orientation": "v",
         "showlegend": true,
         "type": "scatter",
         "x": [
          441
         ],
         "xaxis": "x",
         "y": [
          899139
         ],
         "yaxis": "y"
        },
        {
         "hovertemplate": "Artist=The Weeknd<br>Number=%{x}<br>listeners=%{y}<extra></extra>",
         "legendgroup": "The Weeknd",
         "marker": {
          "color": "#ab63fa",
          "symbol": "circle"
         },
         "mode": "markers",
         "name": "The Weeknd",
         "orientation": "v",
         "showlegend": true,
         "type": "scatter",
         "x": [
          442
         ],
         "xaxis": "x",
         "y": [
          999775
         ],
         "yaxis": "y"
        },
        {
         "hovertemplate": "Artist=Yes<br>Number=%{x}<br>listeners=%{y}<extra></extra>",
         "legendgroup": "Yes",
         "marker": {
          "color": "#FFA15A",
          "symbol": "circle"
         },
         "mode": "markers",
         "name": "Yes",
         "orientation": "v",
         "showlegend": true,
         "type": "scatter",
         "x": [
          445
         ],
         "xaxis": "x",
         "y": [
          124389
         ],
         "yaxis": "y"
        },
        {
         "hovertemplate": "Artist=Alice Coltrane<br>Number=%{x}<br>listeners=%{y}<extra></extra>",
         "legendgroup": "Alice Coltrane",
         "marker": {
          "color": "#19d3f3",
          "symbol": "circle"
         },
         "mode": "markers",
         "name": "Alice Coltrane",
         "orientation": "v",
         "showlegend": true,
         "type": "scatter",
         "x": [
          446
         ],
         "xaxis": "x",
         "y": [
          95959
         ],
         "yaxis": "y"
        },
        {
         "hovertemplate": "Artist=Bad Bunny<br>Number=%{x}<br>listeners=%{y}<extra></extra>",
         "legendgroup": "Bad Bunny",
         "marker": {
          "color": "#FF6692",
          "symbol": "circle"
         },
         "mode": "markers",
         "name": "Bad Bunny",
         "orientation": "v",
         "showlegend": true,
         "type": "scatter",
         "x": [
          447
         ],
         "xaxis": "x",
         "y": [
          132147
         ],
         "yaxis": "y"
        },
        {
         "hovertemplate": "Artist=The White Stripes<br>Number=%{x}<br>listeners=%{y}<extra></extra>",
         "legendgroup": "The White Stripes",
         "marker": {
          "color": "#B6E880",
          "symbol": "circle"
         },
         "mode": "markers",
         "name": "The White Stripes",
         "orientation": "v",
         "showlegend": true,
         "type": "scatter",
         "x": [
          449
         ],
         "xaxis": "x",
         "y": [
          1867563
         ],
         "yaxis": "y"
        },
        {
         "hovertemplate": "Artist=Paul & Linda McCartney<br>Number=%{x}<br>listeners=%{y}<extra></extra>",
         "legendgroup": "Paul & Linda McCartney",
         "marker": {
          "color": "#FF97FF",
          "symbol": "circle"
         },
         "mode": "markers",
         "name": "Paul & Linda McCartney",
         "orientation": "v",
         "showlegend": true,
         "type": "scatter",
         "x": [
          450
         ],
         "xaxis": "x",
         "y": [
          23236
         ],
         "yaxis": "y"
        },
        {
         "hovertemplate": "Artist=Roberta Flack<br>Number=%{x}<br>listeners=%{y}<extra></extra>",
         "legendgroup": "Roberta Flack",
         "marker": {
          "color": "#FECB52",
          "symbol": "circle"
         },
         "mode": "markers",
         "name": "Roberta Flack",
         "orientation": "v",
         "showlegend": true,
         "type": "scatter",
         "x": [
          451
         ],
         "xaxis": "x",
         "y": [
          110499
         ],
         "yaxis": "y"
        },
        {
         "hovertemplate": "Artist=Diana Ross & The Supremes<br>Number=%{x}<br>listeners=%{y}<extra></extra>",
         "legendgroup": "Diana Ross & The Supremes",
         "marker": {
          "color": "#636efa",
          "symbol": "circle"
         },
         "mode": "markers",
         "name": "Diana Ross & The Supremes",
         "orientation": "v",
         "showlegend": true,
         "type": "scatter",
         "x": [
          452
         ],
         "xaxis": "x",
         "y": [
          2608
         ],
         "yaxis": "y"
        },
        {
         "hovertemplate": "Artist=Can<br>Number=%{x}<br>listeners=%{y}<extra></extra>",
         "legendgroup": "Can",
         "marker": {
          "color": "#EF553B",
          "symbol": "circle"
         },
         "mode": "markers",
         "name": "Can",
         "orientation": "v",
         "showlegend": true,
         "type": "scatter",
         "x": [
          454
         ],
         "xaxis": "x",
         "y": [
          146359
         ],
         "yaxis": "y"
        },
        {
         "hovertemplate": "Artist=Bo Diddley<br>Number=%{x}<br>listeners=%{y}<extra></extra>",
         "legendgroup": "Bo Diddley",
         "marker": {
          "color": "#00cc96",
          "symbol": "circle"
         },
         "mode": "markers",
         "name": "Bo Diddley",
         "orientation": "v",
         "showlegend": true,
         "type": "scatter",
         "x": [
          455
         ],
         "xaxis": "x",
         "y": [
          1115
         ],
         "yaxis": "y"
        },
        {
         "hovertemplate": "Artist=Sinéad O'Connor<br>Number=%{x}<br>listeners=%{y}<extra></extra>",
         "legendgroup": "Sinéad O'Connor",
         "marker": {
          "color": "#ab63fa",
          "symbol": "circle"
         },
         "mode": "markers",
         "name": "Sinéad O'Connor",
         "orientation": "v",
         "showlegend": true,
         "type": "scatter",
         "x": [
          457
         ],
         "xaxis": "x",
         "y": [
          424620
         ],
         "yaxis": "y"
        },
        {
         "hovertemplate": "Artist=Jason Isbell<br>Number=%{x}<br>listeners=%{y}<extra></extra>",
         "legendgroup": "Jason Isbell",
         "marker": {
          "color": "#FFA15A",
          "symbol": "circle"
         },
         "mode": "markers",
         "name": "Jason Isbell",
         "orientation": "v",
         "showlegend": true,
         "type": "scatter",
         "x": [
          458
         ],
         "xaxis": "x",
         "y": [
          96544
         ],
         "yaxis": "y"
        },
        {
         "hovertemplate": "Artist=Kid Cudi<br>Number=%{x}<br>listeners=%{y}<extra></extra>",
         "legendgroup": "Kid Cudi",
         "marker": {
          "color": "#19d3f3",
          "symbol": "circle"
         },
         "mode": "markers",
         "name": "Kid Cudi",
         "orientation": "v",
         "showlegend": true,
         "type": "scatter",
         "x": [
          459
         ],
         "xaxis": "x",
         "y": [
          1147230
         ],
         "yaxis": "y"
        },
        {
         "hovertemplate": "Artist=Lorde<br>Number=%{x}<br>listeners=%{y}<extra></extra>",
         "legendgroup": "Lorde",
         "marker": {
          "color": "#FF6692",
          "symbol": "circle"
         },
         "mode": "markers",
         "name": "Lorde",
         "orientation": "v",
         "showlegend": true,
         "type": "scatter",
         "x": [
          460
         ],
         "xaxis": "x",
         "y": [
          723486
         ],
         "yaxis": "y"
        },
        {
         "hovertemplate": "Artist=Bon Iver<br>Number=%{x}<br>listeners=%{y}<extra></extra>",
         "legendgroup": "Bon Iver",
         "marker": {
          "color": "#B6E880",
          "symbol": "circle"
         },
         "mode": "markers",
         "name": "Bon Iver",
         "orientation": "v",
         "showlegend": true,
         "type": "scatter",
         "x": [
          461
         ],
         "xaxis": "x",
         "y": [
          35328
         ],
         "yaxis": "y"
        },
        {
         "hovertemplate": "Artist=The Flying Burrito Bros.<br>Number=%{x}<br>listeners=%{y}<extra></extra>",
         "legendgroup": "The Flying Burrito Bros.",
         "marker": {
          "color": "#FF97FF",
          "symbol": "circle"
         },
         "mode": "markers",
         "name": "The Flying Burrito Bros.",
         "orientation": "v",
         "showlegend": true,
         "type": "scatter",
         "x": [
          462
         ],
         "xaxis": "x",
         "y": [
          8
         ],
         "yaxis": "y"
        },
        {
         "hovertemplate": "Artist=Laura Nyro<br>Number=%{x}<br>listeners=%{y}<extra></extra>",
         "legendgroup": "Laura Nyro",
         "marker": {
          "color": "#FECB52",
          "symbol": "circle"
         },
         "mode": "markers",
         "name": "Laura Nyro",
         "orientation": "v",
         "showlegend": true,
         "type": "scatter",
         "x": [
          463
         ],
         "xaxis": "x",
         "y": [
          60580
         ],
         "yaxis": "y"
        },
        {
         "hovertemplate": "Artist=The Isley Brothers<br>Number=%{x}<br>listeners=%{y}<extra></extra>",
         "legendgroup": "The Isley Brothers",
         "marker": {
          "color": "#636efa",
          "symbol": "circle"
         },
         "mode": "markers",
         "name": "The Isley Brothers",
         "orientation": "v",
         "showlegend": true,
         "type": "scatter",
         "x": [
          464
         ],
         "xaxis": "x",
         "y": [
          495
         ],
         "yaxis": "y"
        },
        {
         "hovertemplate": "Artist=King Sunny Adé<br>Number=%{x}<br>listeners=%{y}<extra></extra>",
         "legendgroup": "King Sunny Adé",
         "marker": {
          "color": "#EF553B",
          "symbol": "circle"
         },
         "mode": "markers",
         "name": "King Sunny Adé",
         "orientation": "v",
         "showlegend": true,
         "type": "scatter",
         "x": [
          465
         ],
         "xaxis": "x",
         "y": [
          115
         ],
         "yaxis": "y"
        },
        {
         "hovertemplate": "Artist=Maxwell<br>Number=%{x}<br>listeners=%{y}<extra></extra>",
         "legendgroup": "Maxwell",
         "marker": {
          "color": "#00cc96",
          "symbol": "circle"
         },
         "mode": "markers",
         "name": "Maxwell",
         "orientation": "v",
         "showlegend": true,
         "type": "scatter",
         "x": [
          467
         ],
         "xaxis": "x",
         "y": [
          150793
         ],
         "yaxis": "y"
        },
        {
         "hovertemplate": "Artist=Manu Chao<br>Number=%{x}<br>listeners=%{y}<extra></extra>",
         "legendgroup": "Manu Chao",
         "marker": {
          "color": "#ab63fa",
          "symbol": "circle"
         },
         "mode": "markers",
         "name": "Manu Chao",
         "orientation": "v",
         "showlegend": true,
         "type": "scatter",
         "x": [
          469
         ],
         "xaxis": "x",
         "y": [
          606734
         ],
         "yaxis": "y"
        },
        {
         "hovertemplate": "Artist=Juvenile<br>Number=%{x}<br>listeners=%{y}<extra></extra>",
         "legendgroup": "Juvenile",
         "marker": {
          "color": "#FFA15A",
          "symbol": "circle"
         },
         "mode": "markers",
         "name": "Juvenile",
         "orientation": "v",
         "showlegend": true,
         "type": "scatter",
         "x": [
          470
         ],
         "xaxis": "x",
         "y": [
          110210
         ],
         "yaxis": "y"
        },
        {
         "hovertemplate": "Artist=Jefferson Airplane<br>Number=%{x}<br>listeners=%{y}<extra></extra>",
         "legendgroup": "Jefferson Airplane",
         "marker": {
          "color": "#19d3f3",
          "symbol": "circle"
         },
         "mode": "markers",
         "name": "Jefferson Airplane",
         "orientation": "v",
         "showlegend": true,
         "type": "scatter",
         "x": [
          471
         ],
         "xaxis": "x",
         "y": [
          1086712
         ],
         "yaxis": "y"
        },
        {
         "hovertemplate": "Artist=SZA<br>Number=%{x}<br>listeners=%{y}<extra></extra>",
         "legendgroup": "SZA",
         "marker": {
          "color": "#FF6692",
          "symbol": "circle"
         },
         "mode": "markers",
         "name": "SZA",
         "orientation": "v",
         "showlegend": true,
         "type": "scatter",
         "x": [
          472
         ],
         "xaxis": "x",
         "y": [
          625222
         ],
         "yaxis": "y"
        },
        {
         "hovertemplate": "Artist=Daddy Yankee<br>Number=%{x}<br>listeners=%{y}<extra></extra>",
         "legendgroup": "Daddy Yankee",
         "marker": {
          "color": "#B6E880",
          "symbol": "circle"
         },
         "mode": "markers",
         "name": "Daddy Yankee",
         "orientation": "v",
         "showlegend": true,
         "type": "scatter",
         "x": [
          473
         ],
         "xaxis": "x",
         "y": [
          199524
         ],
         "yaxis": "y"
        },
        {
         "hovertemplate": "Artist=Sheryl Crow<br>Number=%{x}<br>listeners=%{y}<extra></extra>",
         "legendgroup": "Sheryl Crow",
         "marker": {
          "color": "#FF97FF",
          "symbol": "circle"
         },
         "mode": "markers",
         "name": "Sheryl Crow",
         "orientation": "v",
         "showlegend": true,
         "type": "scatter",
         "x": [
          475
         ],
         "xaxis": "x",
         "y": [
          376268
         ],
         "yaxis": "y"
        },
        {
         "hovertemplate": "Artist=Sparks<br>Number=%{x}<br>listeners=%{y}<extra></extra>",
         "legendgroup": "Sparks",
         "marker": {
          "color": "#FECB52",
          "symbol": "circle"
         },
         "mode": "markers",
         "name": "Sparks",
         "orientation": "v",
         "showlegend": true,
         "type": "scatter",
         "x": [
          476
         ],
         "xaxis": "x",
         "y": [
          143669
         ],
         "yaxis": "y"
        },
        {
         "hovertemplate": "Artist=Howlin' Wolf<br>Number=%{x}<br>listeners=%{y}<extra></extra>",
         "legendgroup": "Howlin' Wolf",
         "marker": {
          "color": "#636efa",
          "symbol": "circle"
         },
         "mode": "markers",
         "name": "Howlin' Wolf",
         "orientation": "v",
         "showlegend": true,
         "type": "scatter",
         "x": [
          477
         ],
         "xaxis": "x",
         "y": [
          93028
         ],
         "yaxis": "y"
        },
        {
         "hovertemplate": "Artist=Selena<br>Number=%{x}<br>listeners=%{y}<extra></extra>",
         "legendgroup": "Selena",
         "marker": {
          "color": "#EF553B",
          "symbol": "circle"
         },
         "mode": "markers",
         "name": "Selena",
         "orientation": "v",
         "showlegend": true,
         "type": "scatter",
         "x": [
          479
         ],
         "xaxis": "x",
         "y": [
          105113
         ],
         "yaxis": "y"
        },
        {
         "hovertemplate": "Artist=Miranda Lambert<br>Number=%{x}<br>listeners=%{y}<extra></extra>",
         "legendgroup": "Miranda Lambert",
         "marker": {
          "color": "#00cc96",
          "symbol": "circle"
         },
         "mode": "markers",
         "name": "Miranda Lambert",
         "orientation": "v",
         "showlegend": true,
         "type": "scatter",
         "x": [
          480
         ],
         "xaxis": "x",
         "y": [
          42822
         ],
         "yaxis": "y"
        },
        {
         "hovertemplate": "Artist=Belle and Sebastian<br>Number=%{x}<br>listeners=%{y}<extra></extra>",
         "legendgroup": "Belle and Sebastian",
         "marker": {
          "color": "#ab63fa",
          "symbol": "circle"
         },
         "mode": "markers",
         "name": "Belle and Sebastian",
         "orientation": "v",
         "showlegend": true,
         "type": "scatter",
         "x": [
          481
         ],
         "xaxis": "x",
         "y": [
          416798
         ],
         "yaxis": "y"
        },
        {
         "hovertemplate": "Artist=The Pharcyde<br>Number=%{x}<br>listeners=%{y}<extra></extra>",
         "legendgroup": "The Pharcyde",
         "marker": {
          "color": "#FFA15A",
          "symbol": "circle"
         },
         "mode": "markers",
         "name": "The Pharcyde",
         "orientation": "v",
         "showlegend": true,
         "type": "scatter",
         "x": [
          482
         ],
         "xaxis": "x",
         "y": [
          476358
         ],
         "yaxis": "y"
        },
        {
         "hovertemplate": "Artist=Muddy Waters<br>Number=%{x}<br>listeners=%{y}<extra></extra>",
         "legendgroup": "Muddy Waters",
         "marker": {
          "color": "#19d3f3",
          "symbol": "circle"
         },
         "mode": "markers",
         "name": "Muddy Waters",
         "orientation": "v",
         "showlegend": true,
         "type": "scatter",
         "x": [
          483
         ],
         "xaxis": "x",
         "y": [
          9592
         ],
         "yaxis": "y"
        },
        {
         "hovertemplate": "Artist=Lady Gaga<br>Number=%{x}<br>listeners=%{y}<extra></extra>",
         "legendgroup": "Lady Gaga",
         "marker": {
          "color": "#FF6692",
          "symbol": "circle"
         },
         "mode": "markers",
         "name": "Lady Gaga",
         "orientation": "v",
         "showlegend": true,
         "type": "scatter",
         "x": [
          484
         ],
         "xaxis": "x",
         "y": [
          749058
         ],
         "yaxis": "y"
        },
        {
         "hovertemplate": "Artist=Richard & Linda Thompson<br>Number=%{x}<br>listeners=%{y}<extra></extra>",
         "legendgroup": "Richard & Linda Thompson",
         "marker": {
          "color": "#B6E880",
          "symbol": "circle"
         },
         "mode": "markers",
         "name": "Richard & Linda Thompson",
         "orientation": "v",
         "showlegend": true,
         "type": "scatter",
         "x": [
          485
         ],
         "xaxis": "x",
         "y": [
          62808
         ],
         "yaxis": "y"
        },
        {
         "hovertemplate": "Artist=John Mayer<br>Number=%{x}<br>listeners=%{y}<extra></extra>",
         "legendgroup": "John Mayer",
         "marker": {
          "color": "#FF97FF",
          "symbol": "circle"
         },
         "mode": "markers",
         "name": "John Mayer",
         "orientation": "v",
         "showlegend": true,
         "type": "scatter",
         "x": [
          486
         ],
         "xaxis": "x",
         "y": [
          1374162
         ],
         "yaxis": "y"
        },
        {
         "hovertemplate": "Artist=Black Flag<br>Number=%{x}<br>listeners=%{y}<extra></extra>",
         "legendgroup": "Black Flag",
         "marker": {
          "color": "#FECB52",
          "symbol": "circle"
         },
         "mode": "markers",
         "name": "Black Flag",
         "orientation": "v",
         "showlegend": true,
         "type": "scatter",
         "x": [
          487
         ],
         "xaxis": "x",
         "y": [
          460818
         ],
         "yaxis": "y"
        },
        {
         "hovertemplate": "Artist=Phil Spector<br>Number=%{x}<br>listeners=%{y}<extra></extra>",
         "legendgroup": "Phil Spector",
         "marker": {
          "color": "#636efa",
          "symbol": "circle"
         },
         "mode": "markers",
         "name": "Phil Spector",
         "orientation": "v",
         "showlegend": true,
         "type": "scatter",
         "x": [
          489
         ],
         "xaxis": "x",
         "y": [
          182
         ],
         "yaxis": "y"
        },
        {
         "hovertemplate": "Artist=Linda Ronstadt<br>Number=%{x}<br>listeners=%{y}<extra></extra>",
         "legendgroup": "Linda Ronstadt",
         "marker": {
          "color": "#EF553B",
          "symbol": "circle"
         },
         "mode": "markers",
         "name": "Linda Ronstadt",
         "orientation": "v",
         "showlegend": true,
         "type": "scatter",
         "x": [
          490
         ],
         "xaxis": "x",
         "y": [
          75076
         ],
         "yaxis": "y"
        },
        {
         "hovertemplate": "Artist=Harry Styles<br>Number=%{x}<br>listeners=%{y}<extra></extra>",
         "legendgroup": "Harry Styles",
         "marker": {
          "color": "#00cc96",
          "symbol": "circle"
         },
         "mode": "markers",
         "name": "Harry Styles",
         "orientation": "v",
         "showlegend": true,
         "type": "scatter",
         "x": [
          491
         ],
         "xaxis": "x",
         "y": [
          801710
         ],
         "yaxis": "y"
        },
        {
         "hovertemplate": "Artist=Bonnie Raitt<br>Number=%{x}<br>listeners=%{y}<extra></extra>",
         "legendgroup": "Bonnie Raitt",
         "marker": {
          "color": "#ab63fa",
          "symbol": "circle"
         },
         "mode": "markers",
         "name": "Bonnie Raitt",
         "orientation": "v",
         "showlegend": true,
         "type": "scatter",
         "x": [
          492
         ],
         "xaxis": "x",
         "y": [
          111120
         ],
         "yaxis": "y"
        },
        {
         "hovertemplate": "Artist=The Ronettes<br>Number=%{x}<br>listeners=%{y}<extra></extra>",
         "legendgroup": "The Ronettes",
         "marker": {
          "color": "#FFA15A",
          "symbol": "circle"
         },
         "mode": "markers",
         "name": "The Ronettes",
         "orientation": "v",
         "showlegend": true,
         "type": "scatter",
         "x": [
          494
         ],
         "xaxis": "x",
         "y": [
          55376
         ],
         "yaxis": "y"
        },
        {
         "hovertemplate": "Artist=Boyz II Men<br>Number=%{x}<br>listeners=%{y}<extra></extra>",
         "legendgroup": "Boyz II Men",
         "marker": {
          "color": "#19d3f3",
          "symbol": "circle"
         },
         "mode": "markers",
         "name": "Boyz II Men",
         "orientation": "v",
         "showlegend": true,
         "type": "scatter",
         "x": [
          495
         ],
         "xaxis": "x",
         "y": [
          305361
         ],
         "yaxis": "y"
        },
        {
         "hovertemplate": "Artist=Shakira<br>Number=%{x}<br>listeners=%{y}<extra></extra>",
         "legendgroup": "Shakira",
         "marker": {
          "color": "#FF6692",
          "symbol": "circle"
         },
         "mode": "markers",
         "name": "Shakira",
         "orientation": "v",
         "showlegend": true,
         "type": "scatter",
         "x": [
          496
         ],
         "xaxis": "x",
         "y": [
          11475
         ],
         "yaxis": "y"
        },
        {
         "hovertemplate": "Artist=Suicide<br>Number=%{x}<br>listeners=%{y}<extra></extra>",
         "legendgroup": "Suicide",
         "marker": {
          "color": "#B6E880",
          "symbol": "circle"
         },
         "mode": "markers",
         "name": "Suicide",
         "orientation": "v",
         "showlegend": true,
         "type": "scatter",
         "x": [
          498
         ],
         "xaxis": "x",
         "y": [
          144580
         ],
         "yaxis": "y"
        },
        {
         "hovertemplate": "Artist=Rufus<br>Number=%{x}<br>listeners=%{y}<extra></extra>",
         "legendgroup": "Rufus",
         "marker": {
          "color": "#FF97FF",
          "symbol": "circle"
         },
         "mode": "markers",
         "name": "Rufus",
         "orientation": "v",
         "showlegend": true,
         "type": "scatter",
         "x": [
          499
         ],
         "xaxis": "x",
         "y": [
          8896
         ],
         "yaxis": "y"
        },
        {
         "hovertemplate": "Artist=Arcade Fire<br>Number=%{x}<br>listeners=%{y}<extra></extra>",
         "legendgroup": "Arcade Fire",
         "marker": {
          "color": "#FECB52",
          "symbol": "circle"
         },
         "mode": "markers",
         "name": "Arcade Fire",
         "orientation": "v",
         "showlegend": true,
         "type": "scatter",
         "x": [
          500
         ],
         "xaxis": "x",
         "y": [
          1516119
         ],
         "yaxis": "y"
        }
       ],
       "layout": {
        "legend": {
         "title": {
          "text": "Artist"
         },
         "tracegroupgap": 0
        },
        "template": {
         "data": {
          "bar": [
           {
            "error_x": {
             "color": "#2a3f5f"
            },
            "error_y": {
             "color": "#2a3f5f"
            },
            "marker": {
             "line": {
              "color": "#E5ECF6",
              "width": 0.5
             },
             "pattern": {
              "fillmode": "overlay",
              "size": 10,
              "solidity": 0.2
             }
            },
            "type": "bar"
           }
          ],
          "barpolar": [
           {
            "marker": {
             "line": {
              "color": "#E5ECF6",
              "width": 0.5
             },
             "pattern": {
              "fillmode": "overlay",
              "size": 10,
              "solidity": 0.2
             }
            },
            "type": "barpolar"
           }
          ],
          "carpet": [
           {
            "aaxis": {
             "endlinecolor": "#2a3f5f",
             "gridcolor": "white",
             "linecolor": "white",
             "minorgridcolor": "white",
             "startlinecolor": "#2a3f5f"
            },
            "baxis": {
             "endlinecolor": "#2a3f5f",
             "gridcolor": "white",
             "linecolor": "white",
             "minorgridcolor": "white",
             "startlinecolor": "#2a3f5f"
            },
            "type": "carpet"
           }
          ],
          "choropleth": [
           {
            "colorbar": {
             "outlinewidth": 0,
             "ticks": ""
            },
            "type": "choropleth"
           }
          ],
          "contour": [
           {
            "colorbar": {
             "outlinewidth": 0,
             "ticks": ""
            },
            "colorscale": [
             [
              0,
              "#0d0887"
             ],
             [
              0.1111111111111111,
              "#46039f"
             ],
             [
              0.2222222222222222,
              "#7201a8"
             ],
             [
              0.3333333333333333,
              "#9c179e"
             ],
             [
              0.4444444444444444,
              "#bd3786"
             ],
             [
              0.5555555555555556,
              "#d8576b"
             ],
             [
              0.6666666666666666,
              "#ed7953"
             ],
             [
              0.7777777777777778,
              "#fb9f3a"
             ],
             [
              0.8888888888888888,
              "#fdca26"
             ],
             [
              1,
              "#f0f921"
             ]
            ],
            "type": "contour"
           }
          ],
          "contourcarpet": [
           {
            "colorbar": {
             "outlinewidth": 0,
             "ticks": ""
            },
            "type": "contourcarpet"
           }
          ],
          "heatmap": [
           {
            "colorbar": {
             "outlinewidth": 0,
             "ticks": ""
            },
            "colorscale": [
             [
              0,
              "#0d0887"
             ],
             [
              0.1111111111111111,
              "#46039f"
             ],
             [
              0.2222222222222222,
              "#7201a8"
             ],
             [
              0.3333333333333333,
              "#9c179e"
             ],
             [
              0.4444444444444444,
              "#bd3786"
             ],
             [
              0.5555555555555556,
              "#d8576b"
             ],
             [
              0.6666666666666666,
              "#ed7953"
             ],
             [
              0.7777777777777778,
              "#fb9f3a"
             ],
             [
              0.8888888888888888,
              "#fdca26"
             ],
             [
              1,
              "#f0f921"
             ]
            ],
            "type": "heatmap"
           }
          ],
          "heatmapgl": [
           {
            "colorbar": {
             "outlinewidth": 0,
             "ticks": ""
            },
            "colorscale": [
             [
              0,
              "#0d0887"
             ],
             [
              0.1111111111111111,
              "#46039f"
             ],
             [
              0.2222222222222222,
              "#7201a8"
             ],
             [
              0.3333333333333333,
              "#9c179e"
             ],
             [
              0.4444444444444444,
              "#bd3786"
             ],
             [
              0.5555555555555556,
              "#d8576b"
             ],
             [
              0.6666666666666666,
              "#ed7953"
             ],
             [
              0.7777777777777778,
              "#fb9f3a"
             ],
             [
              0.8888888888888888,
              "#fdca26"
             ],
             [
              1,
              "#f0f921"
             ]
            ],
            "type": "heatmapgl"
           }
          ],
          "histogram": [
           {
            "marker": {
             "pattern": {
              "fillmode": "overlay",
              "size": 10,
              "solidity": 0.2
             }
            },
            "type": "histogram"
           }
          ],
          "histogram2d": [
           {
            "colorbar": {
             "outlinewidth": 0,
             "ticks": ""
            },
            "colorscale": [
             [
              0,
              "#0d0887"
             ],
             [
              0.1111111111111111,
              "#46039f"
             ],
             [
              0.2222222222222222,
              "#7201a8"
             ],
             [
              0.3333333333333333,
              "#9c179e"
             ],
             [
              0.4444444444444444,
              "#bd3786"
             ],
             [
              0.5555555555555556,
              "#d8576b"
             ],
             [
              0.6666666666666666,
              "#ed7953"
             ],
             [
              0.7777777777777778,
              "#fb9f3a"
             ],
             [
              0.8888888888888888,
              "#fdca26"
             ],
             [
              1,
              "#f0f921"
             ]
            ],
            "type": "histogram2d"
           }
          ],
          "histogram2dcontour": [
           {
            "colorbar": {
             "outlinewidth": 0,
             "ticks": ""
            },
            "colorscale": [
             [
              0,
              "#0d0887"
             ],
             [
              0.1111111111111111,
              "#46039f"
             ],
             [
              0.2222222222222222,
              "#7201a8"
             ],
             [
              0.3333333333333333,
              "#9c179e"
             ],
             [
              0.4444444444444444,
              "#bd3786"
             ],
             [
              0.5555555555555556,
              "#d8576b"
             ],
             [
              0.6666666666666666,
              "#ed7953"
             ],
             [
              0.7777777777777778,
              "#fb9f3a"
             ],
             [
              0.8888888888888888,
              "#fdca26"
             ],
             [
              1,
              "#f0f921"
             ]
            ],
            "type": "histogram2dcontour"
           }
          ],
          "mesh3d": [
           {
            "colorbar": {
             "outlinewidth": 0,
             "ticks": ""
            },
            "type": "mesh3d"
           }
          ],
          "parcoords": [
           {
            "line": {
             "colorbar": {
              "outlinewidth": 0,
              "ticks": ""
             }
            },
            "type": "parcoords"
           }
          ],
          "pie": [
           {
            "automargin": true,
            "type": "pie"
           }
          ],
          "scatter": [
           {
            "marker": {
             "colorbar": {
              "outlinewidth": 0,
              "ticks": ""
             }
            },
            "type": "scatter"
           }
          ],
          "scatter3d": [
           {
            "line": {
             "colorbar": {
              "outlinewidth": 0,
              "ticks": ""
             }
            },
            "marker": {
             "colorbar": {
              "outlinewidth": 0,
              "ticks": ""
             }
            },
            "type": "scatter3d"
           }
          ],
          "scattercarpet": [
           {
            "marker": {
             "colorbar": {
              "outlinewidth": 0,
              "ticks": ""
             }
            },
            "type": "scattercarpet"
           }
          ],
          "scattergeo": [
           {
            "marker": {
             "colorbar": {
              "outlinewidth": 0,
              "ticks": ""
             }
            },
            "type": "scattergeo"
           }
          ],
          "scattergl": [
           {
            "marker": {
             "colorbar": {
              "outlinewidth": 0,
              "ticks": ""
             }
            },
            "type": "scattergl"
           }
          ],
          "scattermapbox": [
           {
            "marker": {
             "colorbar": {
              "outlinewidth": 0,
              "ticks": ""
             }
            },
            "type": "scattermapbox"
           }
          ],
          "scatterpolar": [
           {
            "marker": {
             "colorbar": {
              "outlinewidth": 0,
              "ticks": ""
             }
            },
            "type": "scatterpolar"
           }
          ],
          "scatterpolargl": [
           {
            "marker": {
             "colorbar": {
              "outlinewidth": 0,
              "ticks": ""
             }
            },
            "type": "scatterpolargl"
           }
          ],
          "scatterternary": [
           {
            "marker": {
             "colorbar": {
              "outlinewidth": 0,
              "ticks": ""
             }
            },
            "type": "scatterternary"
           }
          ],
          "surface": [
           {
            "colorbar": {
             "outlinewidth": 0,
             "ticks": ""
            },
            "colorscale": [
             [
              0,
              "#0d0887"
             ],
             [
              0.1111111111111111,
              "#46039f"
             ],
             [
              0.2222222222222222,
              "#7201a8"
             ],
             [
              0.3333333333333333,
              "#9c179e"
             ],
             [
              0.4444444444444444,
              "#bd3786"
             ],
             [
              0.5555555555555556,
              "#d8576b"
             ],
             [
              0.6666666666666666,
              "#ed7953"
             ],
             [
              0.7777777777777778,
              "#fb9f3a"
             ],
             [
              0.8888888888888888,
              "#fdca26"
             ],
             [
              1,
              "#f0f921"
             ]
            ],
            "type": "surface"
           }
          ],
          "table": [
           {
            "cells": {
             "fill": {
              "color": "#EBF0F8"
             },
             "line": {
              "color": "white"
             }
            },
            "header": {
             "fill": {
              "color": "#C8D4E3"
             },
             "line": {
              "color": "white"
             }
            },
            "type": "table"
           }
          ]
         },
         "layout": {
          "annotationdefaults": {
           "arrowcolor": "#2a3f5f",
           "arrowhead": 0,
           "arrowwidth": 1
          },
          "autotypenumbers": "strict",
          "coloraxis": {
           "colorbar": {
            "outlinewidth": 0,
            "ticks": ""
           }
          },
          "colorscale": {
           "diverging": [
            [
             0,
             "#8e0152"
            ],
            [
             0.1,
             "#c51b7d"
            ],
            [
             0.2,
             "#de77ae"
            ],
            [
             0.3,
             "#f1b6da"
            ],
            [
             0.4,
             "#fde0ef"
            ],
            [
             0.5,
             "#f7f7f7"
            ],
            [
             0.6,
             "#e6f5d0"
            ],
            [
             0.7,
             "#b8e186"
            ],
            [
             0.8,
             "#7fbc41"
            ],
            [
             0.9,
             "#4d9221"
            ],
            [
             1,
             "#276419"
            ]
           ],
           "sequential": [
            [
             0,
             "#0d0887"
            ],
            [
             0.1111111111111111,
             "#46039f"
            ],
            [
             0.2222222222222222,
             "#7201a8"
            ],
            [
             0.3333333333333333,
             "#9c179e"
            ],
            [
             0.4444444444444444,
             "#bd3786"
            ],
            [
             0.5555555555555556,
             "#d8576b"
            ],
            [
             0.6666666666666666,
             "#ed7953"
            ],
            [
             0.7777777777777778,
             "#fb9f3a"
            ],
            [
             0.8888888888888888,
             "#fdca26"
            ],
            [
             1,
             "#f0f921"
            ]
           ],
           "sequentialminus": [
            [
             0,
             "#0d0887"
            ],
            [
             0.1111111111111111,
             "#46039f"
            ],
            [
             0.2222222222222222,
             "#7201a8"
            ],
            [
             0.3333333333333333,
             "#9c179e"
            ],
            [
             0.4444444444444444,
             "#bd3786"
            ],
            [
             0.5555555555555556,
             "#d8576b"
            ],
            [
             0.6666666666666666,
             "#ed7953"
            ],
            [
             0.7777777777777778,
             "#fb9f3a"
            ],
            [
             0.8888888888888888,
             "#fdca26"
            ],
            [
             1,
             "#f0f921"
            ]
           ]
          },
          "colorway": [
           "#636efa",
           "#EF553B",
           "#00cc96",
           "#ab63fa",
           "#FFA15A",
           "#19d3f3",
           "#FF6692",
           "#B6E880",
           "#FF97FF",
           "#FECB52"
          ],
          "font": {
           "color": "#2a3f5f"
          },
          "geo": {
           "bgcolor": "white",
           "lakecolor": "white",
           "landcolor": "#E5ECF6",
           "showlakes": true,
           "showland": true,
           "subunitcolor": "white"
          },
          "hoverlabel": {
           "align": "left"
          },
          "hovermode": "closest",
          "mapbox": {
           "style": "light"
          },
          "paper_bgcolor": "white",
          "plot_bgcolor": "#E5ECF6",
          "polar": {
           "angularaxis": {
            "gridcolor": "white",
            "linecolor": "white",
            "ticks": ""
           },
           "bgcolor": "#E5ECF6",
           "radialaxis": {
            "gridcolor": "white",
            "linecolor": "white",
            "ticks": ""
           }
          },
          "scene": {
           "xaxis": {
            "backgroundcolor": "#E5ECF6",
            "gridcolor": "white",
            "gridwidth": 2,
            "linecolor": "white",
            "showbackground": true,
            "ticks": "",
            "zerolinecolor": "white"
           },
           "yaxis": {
            "backgroundcolor": "#E5ECF6",
            "gridcolor": "white",
            "gridwidth": 2,
            "linecolor": "white",
            "showbackground": true,
            "ticks": "",
            "zerolinecolor": "white"
           },
           "zaxis": {
            "backgroundcolor": "#E5ECF6",
            "gridcolor": "white",
            "gridwidth": 2,
            "linecolor": "white",
            "showbackground": true,
            "ticks": "",
            "zerolinecolor": "white"
           }
          },
          "shapedefaults": {
           "line": {
            "color": "#2a3f5f"
           }
          },
          "ternary": {
           "aaxis": {
            "gridcolor": "white",
            "linecolor": "white",
            "ticks": ""
           },
           "baxis": {
            "gridcolor": "white",
            "linecolor": "white",
            "ticks": ""
           },
           "bgcolor": "#E5ECF6",
           "caxis": {
            "gridcolor": "white",
            "linecolor": "white",
            "ticks": ""
           }
          },
          "title": {
           "x": 0.05
          },
          "xaxis": {
           "automargin": true,
           "gridcolor": "white",
           "linecolor": "white",
           "ticks": "",
           "title": {
            "standoff": 15
           },
           "zerolinecolor": "white",
           "zerolinewidth": 2
          },
          "yaxis": {
           "automargin": true,
           "gridcolor": "white",
           "linecolor": "white",
           "ticks": "",
           "title": {
            "standoff": 15
           },
           "zerolinecolor": "white",
           "zerolinewidth": 2
          }
         }
        },
        "title": {
         "text": "Correlación posición lista y oyentes de lastfm"
        },
        "xaxis": {
         "anchor": "y",
         "domain": [
          0,
          1
         ],
         "title": {
          "text": "Number"
         }
        },
        "yaxis": {
         "anchor": "x",
         "domain": [
          0,
          1
         ],
         "title": {
          "text": "listeners"
         }
        }
       }
      },
      "text/html": [
       "<div>                            <div id=\"0f824fff-0237-4e13-b889-c13e71611cf6\" class=\"plotly-graph-div\" style=\"height:525px; width:100%;\"></div>            <script type=\"text/javascript\">                require([\"plotly\"], function(Plotly) {                    window.PLOTLYENV=window.PLOTLYENV || {};                                    if (document.getElementById(\"0f824fff-0237-4e13-b889-c13e71611cf6\")) {                    Plotly.newPlot(                        \"0f824fff-0237-4e13-b889-c13e71611cf6\",                        [{\"hovertemplate\":\"Artist=Marvin Gaye<br>Number=%{x}<br>listeners=%{y}<extra></extra>\",\"legendgroup\":\"Marvin Gaye\",\"marker\":{\"color\":\"#636efa\",\"symbol\":\"circle\"},\"mode\":\"markers\",\"name\":\"Marvin Gaye\",\"orientation\":\"v\",\"showlegend\":true,\"type\":\"scatter\",\"x\":[1,422,493],\"xaxis\":\"x\",\"y\":[543969,224624,60774],\"yaxis\":\"y\"},{\"hovertemplate\":\"Artist=The Beach Boys<br>Number=%{x}<br>listeners=%{y}<extra></extra>\",\"legendgroup\":\"The Beach Boys\",\"marker\":{\"color\":\"#EF553B\",\"symbol\":\"circle\"},\"mode\":\"markers\",\"name\":\"The Beach Boys\",\"orientation\":\"v\",\"showlegend\":true,\"type\":\"scatter\",\"x\":[2,410,466],\"xaxis\":\"x\",\"y\":[543460,30429,8743],\"yaxis\":\"y\"},{\"hovertemplate\":\"Artist=Joni Mitchell<br>Number=%{x}<br>listeners=%{y}<extra></extra>\",\"legendgroup\":\"Joni Mitchell\",\"marker\":{\"color\":\"#00cc96\",\"symbol\":\"circle\"},\"mode\":\"markers\",\"name\":\"Joni Mitchell\",\"orientation\":\"v\",\"showlegend\":true,\"type\":\"scatter\",\"x\":[3,110,133,258],\"xaxis\":\"x\",\"y\":[534964,161106,115411,76439],\"yaxis\":\"y\"},{\"hovertemplate\":\"Artist=Stevie Wonder<br>Number=%{x}<br>listeners=%{y}<extra></extra>\",\"legendgroup\":\"Stevie Wonder\",\"marker\":{\"color\":\"#ab63fa\",\"symbol\":\"circle\"},\"mode\":\"markers\",\"name\":\"Stevie Wonder\",\"orientation\":\"v\",\"showlegend\":true,\"type\":\"scatter\",\"x\":[4,34,59,350],\"xaxis\":\"x\",\"y\":[756100,418574,441088,82913],\"yaxis\":\"y\"},{\"hovertemplate\":\"Artist=The Beatles<br>Number=%{x}<br>listeners=%{y}<extra></extra>\",\"legendgroup\":\"The Beatles\",\"marker\":{\"color\":\"#FFA15A\",\"symbol\":\"circle\"},\"mode\":\"markers\",\"name\":\"The Beatles\",\"orientation\":\"v\",\"showlegend\":true,\"type\":\"scatter\",\"x\":[5,11,24,29,35,197,263,266,342],\"xaxis\":\"x\",\"y\":[1071346,797117,847586,562481,707816,16575,479074,596213,681515],\"yaxis\":\"y\"},{\"hovertemplate\":\"Artist=Nirvana<br>Number=%{x}<br>listeners=%{y}<extra></extra>\",\"legendgroup\":\"Nirvana\",\"marker\":{\"color\":\"#19d3f3\",\"symbol\":\"circle\"},\"mode\":\"markers\",\"name\":\"Nirvana\",\"orientation\":\"v\",\"showlegend\":true,\"type\":\"scatter\",\"x\":[6,173,279],\"xaxis\":\"x\",\"y\":[2463939,1364112,1497537],\"yaxis\":\"y\"},{\"hovertemplate\":\"Artist=Fleetwood Mac<br>Number=%{x}<br>listeners=%{y}<extra></extra>\",\"legendgroup\":\"Fleetwood Mac\",\"marker\":{\"color\":\"#FF6692\",\"symbol\":\"circle\"},\"mode\":\"markers\",\"name\":\"Fleetwood Mac\",\"orientation\":\"v\",\"showlegend\":true,\"type\":\"scatter\",\"x\":[7],\"xaxis\":\"x\",\"y\":[1117937],\"yaxis\":\"y\"},{\"hovertemplate\":\"Artist=Prince & The Revolution<br>Number=%{x}<br>listeners=%{y}<extra></extra>\",\"legendgroup\":\"Prince & The Revolution\",\"marker\":{\"color\":\"#B6E880\",\"symbol\":\"circle\"},\"mode\":\"markers\",\"name\":\"Prince & The Revolution\",\"orientation\":\"v\",\"showlegend\":true,\"type\":\"scatter\",\"x\":[8,45,130,326],\"xaxis\":\"x\",\"y\":[253268,1,531,19],\"yaxis\":\"y\"},{\"hovertemplate\":\"Artist=Bob Dylan<br>Number=%{x}<br>listeners=%{y}<extra></extra>\",\"legendgroup\":\"Bob Dylan\",\"marker\":{\"color\":\"#FF97FF\",\"symbol\":\"circle\"},\"mode\":\"markers\",\"name\":\"Bob Dylan\",\"orientation\":\"v\",\"showlegend\":true,\"type\":\"scatter\",\"x\":[9,18,38,181,255,337,411],\"xaxis\":\"x\",\"y\":[490751,746015,497266,500183,532230,231058,166],\"yaxis\":\"y\"},{\"hovertemplate\":\"Artist=Lauryn Hill<br>Number=%{x}<br>listeners=%{y}<extra></extra>\",\"legendgroup\":\"Lauryn Hill\",\"marker\":{\"color\":\"#FECB52\",\"symbol\":\"circle\"},\"mode\":\"markers\",\"name\":\"Lauryn Hill\",\"orientation\":\"v\",\"showlegend\":true,\"type\":\"scatter\",\"x\":[10],\"xaxis\":\"x\",\"y\":[780979],\"yaxis\":\"y\"},{\"hovertemplate\":\"Artist=Michael Jackson<br>Number=%{x}<br>listeners=%{y}<extra></extra>\",\"legendgroup\":\"Michael Jackson\",\"marker\":{\"color\":\"#636efa\",\"symbol\":\"circle\"},\"mode\":\"markers\",\"name\":\"Michael Jackson\",\"orientation\":\"v\",\"showlegend\":true,\"type\":\"scatter\",\"x\":[12,36,194],\"xaxis\":\"x\",\"y\":[1302520,726784,705624],\"yaxis\":\"y\"},{\"hovertemplate\":\"Artist=Aretha Franklin<br>Number=%{x}<br>listeners=%{y}<extra></extra>\",\"legendgroup\":\"Aretha Franklin\",\"marker\":{\"color\":\"#EF553B\",\"symbol\":\"circle\"},\"mode\":\"markers\",\"name\":\"Aretha Franklin\",\"orientation\":\"v\",\"showlegend\":true,\"type\":\"scatter\",\"x\":[13,75,154,388],\"xaxis\":\"x\",\"y\":[582316,88143,21470,113863],\"yaxis\":\"y\"},{\"hovertemplate\":\"Artist=The Rolling Stones<br>Number=%{x}<br>listeners=%{y}<extra></extra>\",\"legendgroup\":\"The Rolling Stones\",\"marker\":{\"color\":\"#00cc96\",\"symbol\":\"circle\"},\"mode\":\"markers\",\"name\":\"The Rolling Stones\",\"orientation\":\"v\",\"showlegend\":true,\"type\":\"scatter\",\"x\":[14,41,104,185,330,468],\"xaxis\":\"x\",\"y\":[613135,1053926,553721,598482,632056,525797],\"yaxis\":\"y\"},{\"hovertemplate\":\"Artist=Public Enemy<br>Number=%{x}<br>listeners=%{y}<extra></extra>\",\"legendgroup\":\"Public Enemy\",\"marker\":{\"color\":\"#ab63fa\",\"symbol\":\"circle\"},\"mode\":\"markers\",\"name\":\"Public Enemy\",\"orientation\":\"v\",\"showlegend\":true,\"type\":\"scatter\",\"x\":[15,176],\"xaxis\":\"x\",\"y\":[373462,320603],\"yaxis\":\"y\"},{\"hovertemplate\":\"Artist=The Clash<br>Number=%{x}<br>listeners=%{y}<extra></extra>\",\"legendgroup\":\"The Clash\",\"marker\":{\"color\":\"#FFA15A\",\"symbol\":\"circle\"},\"mode\":\"markers\",\"name\":\"The Clash\",\"orientation\":\"v\",\"showlegend\":true,\"type\":\"scatter\",\"x\":[16,102,323],\"xaxis\":\"x\",\"y\":[1142259,426580,232288],\"yaxis\":\"y\"},{\"hovertemplate\":\"Artist=Kanye West<br>Number=%{x}<br>listeners=%{y}<extra></extra>\",\"legendgroup\":\"Kanye West\",\"marker\":{\"color\":\"#19d3f3\",\"symbol\":\"circle\"},\"mode\":\"markers\",\"name\":\"Kanye West\",\"orientation\":\"v\",\"showlegend\":true,\"type\":\"scatter\",\"x\":[17,74,117,204,244,269],\"xaxis\":\"x\",\"y\":[1555345,1009450,1358042,1842112,1561213,937014],\"yaxis\":\"y\"},{\"hovertemplate\":\"Artist=Kendrick Lamar<br>Number=%{x}<br>listeners=%{y}<extra></extra>\",\"legendgroup\":\"Kendrick Lamar\",\"marker\":{\"color\":\"#FF6692\",\"symbol\":\"circle\"},\"mode\":\"markers\",\"name\":\"Kendrick Lamar\",\"orientation\":\"v\",\"showlegend\":true,\"type\":\"scatter\",\"x\":[19,115,175],\"xaxis\":\"x\",\"y\":[803462,745200,956612],\"yaxis\":\"y\"},{\"hovertemplate\":\"Artist=Radiohead<br>Number=%{x}<br>listeners=%{y}<extra></extra>\",\"legendgroup\":\"Radiohead\",\"marker\":{\"color\":\"#B6E880\",\"symbol\":\"circle\"},\"mode\":\"markers\",\"name\":\"Radiohead\",\"orientation\":\"v\",\"showlegend\":true,\"type\":\"scatter\",\"x\":[20,42,276,387],\"xaxis\":\"x\",\"y\":[1647551,2457676,1845862,2021667],\"yaxis\":\"y\"},{\"hovertemplate\":\"Artist=Bruce Springsteen<br>Number=%{x}<br>listeners=%{y}<extra></extra>\",\"legendgroup\":\"Bruce Springsteen\",\"marker\":{\"color\":\"#FF97FF\",\"symbol\":\"circle\"},\"mode\":\"markers\",\"name\":\"Bruce Springsteen\",\"orientation\":\"v\",\"showlegend\":true,\"type\":\"scatter\",\"x\":[21,91,142,150,345],\"xaxis\":\"x\",\"y\":[476760,185874,797500,248541,98287],\"yaxis\":\"y\"},{\"hovertemplate\":\"Artist=The Notorious B.I.G.<br>Number=%{x}<br>listeners=%{y}<extra></extra>\",\"legendgroup\":\"The Notorious B.I.G.\",\"marker\":{\"color\":\"#FECB52\",\"symbol\":\"circle\"},\"mode\":\"markers\",\"name\":\"The Notorious B.I.G.\",\"orientation\":\"v\",\"showlegend\":true,\"type\":\"scatter\",\"x\":[22,179],\"xaxis\":\"x\",\"y\":[985572,579123],\"yaxis\":\"y\"},{\"hovertemplate\":\"Artist=The Velvet Underground<br>Number=%{x}<br>listeners=%{y}<extra></extra>\",\"legendgroup\":\"The Velvet Underground\",\"marker\":{\"color\":\"#636efa\",\"symbol\":\"circle\"},\"mode\":\"markers\",\"name\":\"The Velvet Underground\",\"orientation\":\"v\",\"showlegend\":true,\"type\":\"scatter\",\"x\":[23,143,242,272],\"xaxis\":\"x\",\"y\":[569601,691891,288029,301281],\"yaxis\":\"y\"},{\"hovertemplate\":\"Artist=Carole King<br>Number=%{x}<br>listeners=%{y}<extra></extra>\",\"legendgroup\":\"Carole King\",\"marker\":{\"color\":\"#EF553B\",\"symbol\":\"circle\"},\"mode\":\"markers\",\"name\":\"Carole King\",\"orientation\":\"v\",\"showlegend\":true,\"type\":\"scatter\",\"x\":[25],\"xaxis\":\"x\",\"y\":[515505],\"yaxis\":\"y\"},{\"hovertemplate\":\"Artist=Patti Smith<br>Number=%{x}<br>listeners=%{y}<extra></extra>\",\"legendgroup\":\"Patti Smith\",\"marker\":{\"color\":\"#00cc96\",\"symbol\":\"circle\"},\"mode\":\"markers\",\"name\":\"Patti Smith\",\"orientation\":\"v\",\"showlegend\":true,\"type\":\"scatter\",\"x\":[26],\"xaxis\":\"x\",\"y\":[347775],\"yaxis\":\"y\"},{\"hovertemplate\":\"Artist=Wu\\u2010Tang Clan<br>Number=%{x}<br>listeners=%{y}<extra></extra>\",\"legendgroup\":\"Wu\\u2010Tang Clan\",\"marker\":{\"color\":\"#ab63fa\",\"symbol\":\"circle\"},\"mode\":\"markers\",\"name\":\"Wu\\u2010Tang Clan\",\"orientation\":\"v\",\"showlegend\":true,\"type\":\"scatter\",\"x\":[27],\"xaxis\":\"x\",\"y\":[538],\"yaxis\":\"y\"},{\"hovertemplate\":\"Artist=D'Angelo<br>Number=%{x}<br>listeners=%{y}<extra></extra>\",\"legendgroup\":\"D'Angelo\",\"marker\":{\"color\":\"#FFA15A\",\"symbol\":\"circle\"},\"mode\":\"markers\",\"name\":\"D'Angelo\",\"orientation\":\"v\",\"showlegend\":true,\"type\":\"scatter\",\"x\":[28,183],\"xaxis\":\"x\",\"y\":[401889,325177],\"yaxis\":\"y\"},{\"hovertemplate\":\"Artist=The Jimi Hendrix Experience<br>Number=%{x}<br>listeners=%{y}<extra></extra>\",\"legendgroup\":\"The Jimi Hendrix Experience\",\"marker\":{\"color\":\"#19d3f3\",\"symbol\":\"circle\"},\"mode\":\"markers\",\"name\":\"The Jimi Hendrix Experience\",\"orientation\":\"v\",\"showlegend\":true,\"type\":\"scatter\",\"x\":[30,53,92],\"xaxis\":\"x\",\"y\":[563480,496888,427975],\"yaxis\":\"y\"},{\"hovertemplate\":\"Artist=Miles Davis<br>Number=%{x}<br>listeners=%{y}<extra></extra>\",\"legendgroup\":\"Miles Davis\",\"marker\":{\"color\":\"#FF6692\",\"symbol\":\"circle\"},\"mode\":\"markers\",\"name\":\"Miles Davis\",\"orientation\":\"v\",\"showlegend\":true,\"type\":\"scatter\",\"x\":[31,87],\"xaxis\":\"x\",\"y\":[619304,227141],\"yaxis\":\"y\"},{\"hovertemplate\":\"Artist=Beyonc\\u00e9<br>Number=%{x}<br>listeners=%{y}<extra></extra>\",\"legendgroup\":\"Beyonc\\u00e9\",\"marker\":{\"color\":\"#B6E880\",\"symbol\":\"circle\"},\"mode\":\"markers\",\"name\":\"Beyonc\\u00e9\",\"orientation\":\"v\",\"showlegend\":true,\"type\":\"scatter\",\"x\":[32,81],\"xaxis\":\"x\",\"y\":[459717,388481],\"yaxis\":\"y\"},{\"hovertemplate\":\"Artist=Amy Winehouse<br>Number=%{x}<br>listeners=%{y}<extra></extra>\",\"legendgroup\":\"Amy Winehouse\",\"marker\":{\"color\":\"#FF97FF\",\"symbol\":\"circle\"},\"mode\":\"markers\",\"name\":\"Amy Winehouse\",\"orientation\":\"v\",\"showlegend\":true,\"type\":\"scatter\",\"x\":[33],\"xaxis\":\"x\",\"y\":[1698394],\"yaxis\":\"y\"},{\"hovertemplate\":\"Artist=Dr. Dre<br>Number=%{x}<br>listeners=%{y}<extra></extra>\",\"legendgroup\":\"Dr. Dre\",\"marker\":{\"color\":\"#FECB52\",\"symbol\":\"circle\"},\"mode\":\"markers\",\"name\":\"Dr. Dre\",\"orientation\":\"v\",\"showlegend\":true,\"type\":\"scatter\",\"x\":[37],\"xaxis\":\"x\",\"y\":[509751],\"yaxis\":\"y\"},{\"hovertemplate\":\"Artist=Talking Heads<br>Number=%{x}<br>listeners=%{y}<extra></extra>\",\"legendgroup\":\"Talking Heads\",\"marker\":{\"color\":\"#636efa\",\"symbol\":\"circle\"},\"mode\":\"markers\",\"name\":\"Talking Heads\",\"orientation\":\"v\",\"showlegend\":true,\"type\":\"scatter\",\"x\":[39,364],\"xaxis\":\"x\",\"y\":[343014,172443],\"yaxis\":\"y\"},{\"hovertemplate\":\"Artist=David Bowie<br>Number=%{x}<br>listeners=%{y}<extra></extra>\",\"legendgroup\":\"David Bowie\",\"marker\":{\"color\":\"#EF553B\",\"symbol\":\"circle\"},\"mode\":\"markers\",\"name\":\"David Bowie\",\"orientation\":\"v\",\"showlegend\":true,\"type\":\"scatter\",\"x\":[40,52,88,206,443],\"xaxis\":\"x\",\"y\":[396421,188883,515939,324713,1348],\"yaxis\":\"y\"},{\"hovertemplate\":\"Artist=A Tribe Called Quest<br>Number=%{x}<br>listeners=%{y}<extra></extra>\",\"legendgroup\":\"A Tribe Called Quest\",\"marker\":{\"color\":\"#00cc96\",\"symbol\":\"circle\"},\"mode\":\"markers\",\"name\":\"A Tribe Called Quest\",\"orientation\":\"v\",\"showlegend\":true,\"type\":\"scatter\",\"x\":[43,201],\"xaxis\":\"x\",\"y\":[696278,636563],\"yaxis\":\"y\"},{\"hovertemplate\":\"Artist=Nas<br>Number=%{x}<br>listeners=%{y}<extra></extra>\",\"legendgroup\":\"Nas\",\"marker\":{\"color\":\"#ab63fa\",\"symbol\":\"circle\"},\"mode\":\"markers\",\"name\":\"Nas\",\"orientation\":\"v\",\"showlegend\":true,\"type\":\"scatter\",\"x\":[44],\"xaxis\":\"x\",\"y\":[897709],\"yaxis\":\"y\"},{\"hovertemplate\":\"Artist=Paul Simon<br>Number=%{x}<br>listeners=%{y}<extra></extra>\",\"legendgroup\":\"Paul Simon\",\"marker\":{\"color\":\"#FFA15A\",\"symbol\":\"circle\"},\"mode\":\"markers\",\"name\":\"Paul Simon\",\"orientation\":\"v\",\"showlegend\":true,\"type\":\"scatter\",\"x\":[46,425],\"xaxis\":\"x\",\"y\":[433289,448760],\"yaxis\":\"y\"},{\"hovertemplate\":\"Artist=Ramones<br>Number=%{x}<br>listeners=%{y}<extra></extra>\",\"legendgroup\":\"Ramones\",\"marker\":{\"color\":\"#19d3f3\",\"symbol\":\"circle\"},\"mode\":\"markers\",\"name\":\"Ramones\",\"orientation\":\"v\",\"showlegend\":true,\"type\":\"scatter\",\"x\":[47,385],\"xaxis\":\"x\",\"y\":[519477,307874],\"yaxis\":\"y\"},{\"hovertemplate\":\"Artist=Bob Marley & The Wailers<br>Number=%{x}<br>listeners=%{y}<extra></extra>\",\"legendgroup\":\"Bob Marley & The Wailers\",\"marker\":{\"color\":\"#FF6692\",\"symbol\":\"circle\"},\"mode\":\"markers\",\"name\":\"Bob Marley & The Wailers\",\"orientation\":\"v\",\"showlegend\":true,\"type\":\"scatter\",\"x\":[48,71],\"xaxis\":\"x\",\"y\":[15958,340051],\"yaxis\":\"y\"},{\"hovertemplate\":\"Artist=OutKast<br>Number=%{x}<br>listeners=%{y}<extra></extra>\",\"legendgroup\":\"OutKast\",\"marker\":{\"color\":\"#B6E880\",\"symbol\":\"circle\"},\"mode\":\"markers\",\"name\":\"OutKast\",\"orientation\":\"v\",\"showlegend\":true,\"type\":\"scatter\",\"x\":[49,64,290],\"xaxis\":\"x\",\"y\":[533759,1361854,55591],\"yaxis\":\"y\"},{\"hovertemplate\":\"Artist=Jay\\u2010Z<br>Number=%{x}<br>listeners=%{y}<extra></extra>\",\"legendgroup\":\"Jay\\u2010Z\",\"marker\":{\"color\":\"#FF97FF\",\"symbol\":\"circle\"},\"mode\":\"markers\",\"name\":\"Jay\\u2010Z\",\"orientation\":\"v\",\"showlegend\":true,\"type\":\"scatter\",\"x\":[50,155],\"xaxis\":\"x\",\"y\":[205,226],\"yaxis\":\"y\"},{\"hovertemplate\":\"Artist=Chuck Berry<br>Number=%{x}<br>listeners=%{y}<extra></extra>\",\"legendgroup\":\"Chuck Berry\",\"marker\":{\"color\":\"#FECB52\",\"symbol\":\"circle\"},\"mode\":\"markers\",\"name\":\"Chuck Berry\",\"orientation\":\"v\",\"showlegend\":true,\"type\":\"scatter\",\"x\":[51],\"xaxis\":\"x\",\"y\":[86],\"yaxis\":\"y\"},{\"hovertemplate\":\"Artist=James Brown<br>Number=%{x}<br>listeners=%{y}<extra></extra>\",\"legendgroup\":\"James Brown\",\"marker\":{\"color\":\"#636efa\",\"symbol\":\"circle\"},\"mode\":\"markers\",\"name\":\"James Brown\",\"orientation\":\"v\",\"showlegend\":true,\"type\":\"scatter\",\"x\":[54,65,439],\"xaxis\":\"x\",\"y\":[115488,3206,48673],\"yaxis\":\"y\"},{\"hovertemplate\":\"Artist=Pink Floyd<br>Number=%{x}<br>listeners=%{y}<extra></extra>\",\"legendgroup\":\"Pink Floyd\",\"marker\":{\"color\":\"#EF553B\",\"symbol\":\"circle\"},\"mode\":\"markers\",\"name\":\"Pink Floyd\",\"orientation\":\"v\",\"showlegend\":true,\"type\":\"scatter\",\"x\":[55,129,253,264],\"xaxis\":\"x\",\"y\":[1392712,887916,432902,970757],\"yaxis\":\"y\"},{\"hovertemplate\":\"Artist=Liz Phair<br>Number=%{x}<br>listeners=%{y}<extra></extra>\",\"legendgroup\":\"Liz Phair\",\"marker\":{\"color\":\"#00cc96\",\"symbol\":\"circle\"},\"mode\":\"markers\",\"name\":\"Liz Phair\",\"orientation\":\"v\",\"showlegend\":true,\"type\":\"scatter\",\"x\":[56],\"xaxis\":\"x\",\"y\":[250102],\"yaxis\":\"y\"},{\"hovertemplate\":\"Artist=The Band<br>Number=%{x}<br>listeners=%{y}<extra></extra>\",\"legendgroup\":\"The Band\",\"marker\":{\"color\":\"#ab63fa\",\"symbol\":\"circle\"},\"mode\":\"markers\",\"name\":\"The Band\",\"orientation\":\"v\",\"showlegend\":true,\"type\":\"scatter\",\"x\":[57,100],\"xaxis\":\"x\",\"y\":[330879,206450],\"yaxis\":\"y\"},{\"hovertemplate\":\"Artist=Led Zeppelin<br>Number=%{x}<br>listeners=%{y}<extra></extra>\",\"legendgroup\":\"Led Zeppelin\",\"marker\":{\"color\":\"#FFA15A\",\"symbol\":\"circle\"},\"mode\":\"markers\",\"name\":\"Led Zeppelin\",\"orientation\":\"v\",\"showlegend\":true,\"type\":\"scatter\",\"x\":[58,101,123,144,278],\"xaxis\":\"x\",\"y\":[21003,948811,993016,550711,586779],\"yaxis\":\"y\"},{\"hovertemplate\":\"Artist=Van Morrison<br>Number=%{x}<br>listeners=%{y}<extra></extra>\",\"legendgroup\":\"Van Morrison\",\"marker\":{\"color\":\"#19d3f3\",\"symbol\":\"circle\"},\"mode\":\"markers\",\"name\":\"Van Morrison\",\"orientation\":\"v\",\"showlegend\":true,\"type\":\"scatter\",\"x\":[60,120],\"xaxis\":\"x\",\"y\":[409142,555064],\"yaxis\":\"y\"},{\"hovertemplate\":\"Artist=Eric B. & Rakim<br>Number=%{x}<br>listeners=%{y}<extra></extra>\",\"legendgroup\":\"Eric B. & Rakim\",\"marker\":{\"color\":\"#FF6692\",\"symbol\":\"circle\"},\"mode\":\"markers\",\"name\":\"Eric B. & Rakim\",\"orientation\":\"v\",\"showlegend\":true,\"type\":\"scatter\",\"x\":[61],\"xaxis\":\"x\",\"y\":[296703],\"yaxis\":\"y\"},{\"hovertemplate\":\"Artist=Guns N' Roses<br>Number=%{x}<br>listeners=%{y}<extra></extra>\",\"legendgroup\":\"Guns N' Roses\",\"marker\":{\"color\":\"#B6E880\",\"symbol\":\"circle\"},\"mode\":\"markers\",\"name\":\"Guns N' Roses\",\"orientation\":\"v\",\"showlegend\":true,\"type\":\"scatter\",\"x\":[62],\"xaxis\":\"x\",\"y\":[1987230],\"yaxis\":\"y\"},{\"hovertemplate\":\"Artist=Steely Dan<br>Number=%{x}<br>listeners=%{y}<extra></extra>\",\"legendgroup\":\"Steely Dan\",\"marker\":{\"color\":\"#FF97FF\",\"symbol\":\"circle\"},\"mode\":\"markers\",\"name\":\"Steely Dan\",\"orientation\":\"v\",\"showlegend\":true,\"type\":\"scatter\",\"x\":[63,168],\"xaxis\":\"x\",\"y\":[312445,483214],\"yaxis\":\"y\"},{\"hovertemplate\":\"Artist=John Coltrane<br>Number=%{x}<br>listeners=%{y}<extra></extra>\",\"legendgroup\":\"John Coltrane\",\"marker\":{\"color\":\"#FECB52\",\"symbol\":\"circle\"},\"mode\":\"markers\",\"name\":\"John Coltrane\",\"orientation\":\"v\",\"showlegend\":true,\"type\":\"scatter\",\"x\":[66,232],\"xaxis\":\"x\",\"y\":[192786,213957],\"yaxis\":\"y\"},{\"hovertemplate\":\"Artist=Ja\\u00ff\\u2010Z<br>Number=%{x}<br>listeners=%{y}<extra></extra>\",\"legendgroup\":\"Ja\\u00ff\\u2010Z\",\"marker\":{\"color\":\"#636efa\",\"symbol\":\"circle\"},\"mode\":\"markers\",\"name\":\"Ja\\u00ff\\u2010Z\",\"orientation\":\"v\",\"showlegend\":true,\"type\":\"scatter\",\"x\":[67],\"xaxis\":\"x\",\"y\":[4],\"yaxis\":\"y\"},{\"hovertemplate\":\"Artist=Kate Bush<br>Number=%{x}<br>listeners=%{y}<extra></extra>\",\"legendgroup\":\"Kate Bush\",\"marker\":{\"color\":\"#EF553B\",\"symbol\":\"circle\"},\"mode\":\"markers\",\"name\":\"Kate Bush\",\"orientation\":\"v\",\"showlegend\":true,\"type\":\"scatter\",\"x\":[68],\"xaxis\":\"x\",\"y\":[647760],\"yaxis\":\"y\"},{\"hovertemplate\":\"Artist=Alanis Morissette<br>Number=%{x}<br>listeners=%{y}<extra></extra>\",\"legendgroup\":\"Alanis Morissette\",\"marker\":{\"color\":\"#00cc96\",\"symbol\":\"circle\"},\"mode\":\"markers\",\"name\":\"Alanis Morissette\",\"orientation\":\"v\",\"showlegend\":true,\"type\":\"scatter\",\"x\":[69],\"xaxis\":\"x\",\"y\":[946089],\"yaxis\":\"y\"},{\"hovertemplate\":\"Artist=N.W.A<br>Number=%{x}<br>listeners=%{y}<extra></extra>\",\"legendgroup\":\"N.W.A\",\"marker\":{\"color\":\"#ab63fa\",\"symbol\":\"circle\"},\"mode\":\"markers\",\"name\":\"N.W.A\",\"orientation\":\"v\",\"showlegend\":true,\"type\":\"scatter\",\"x\":[70],\"xaxis\":\"x\",\"y\":[489545],\"yaxis\":\"y\"},{\"hovertemplate\":\"Artist=Neil Young<br>Number=%{x}<br>listeners=%{y}<extra></extra>\",\"legendgroup\":\"Neil Young\",\"marker\":{\"color\":\"#FFA15A\",\"symbol\":\"circle\"},\"mode\":\"markers\",\"name\":\"Neil Young\",\"orientation\":\"v\",\"showlegend\":true,\"type\":\"scatter\",\"x\":[72,90,302,311],\"xaxis\":\"x\",\"y\":[631607,349538,131578,197173],\"yaxis\":\"y\"},{\"hovertemplate\":\"Artist=My Bloody Valentine<br>Number=%{x}<br>listeners=%{y}<extra></extra>\",\"legendgroup\":\"My Bloody Valentine\",\"marker\":{\"color\":\"#19d3f3\",\"symbol\":\"circle\"},\"mode\":\"markers\",\"name\":\"My Bloody Valentine\",\"orientation\":\"v\",\"showlegend\":true,\"type\":\"scatter\",\"x\":[73],\"xaxis\":\"x\",\"y\":[884802],\"yaxis\":\"y\"},{\"hovertemplate\":\"Artist=Curtis Mayfield<br>Number=%{x}<br>listeners=%{y}<extra></extra>\",\"legendgroup\":\"Curtis Mayfield\",\"marker\":{\"color\":\"#FF6692\",\"symbol\":\"circle\"},\"mode\":\"markers\",\"name\":\"Curtis Mayfield\",\"orientation\":\"v\",\"showlegend\":true,\"type\":\"scatter\",\"x\":[76,275],\"xaxis\":\"x\",\"y\":[87094,130930],\"yaxis\":\"y\"},{\"hovertemplate\":\"Artist=The Who<br>Number=%{x}<br>listeners=%{y}<extra></extra>\",\"legendgroup\":\"The Who\",\"marker\":{\"color\":\"#B6E880\",\"symbol\":\"circle\"},\"mode\":\"markers\",\"name\":\"The Who\",\"orientation\":\"v\",\"showlegend\":true,\"type\":\"scatter\",\"x\":[77,190,316,327],\"xaxis\":\"x\",\"y\":[881921,339104,142843,60469],\"yaxis\":\"y\"},{\"hovertemplate\":\"Artist=Elvis Presley<br>Number=%{x}<br>listeners=%{y}<extra></extra>\",\"legendgroup\":\"Elvis Presley\",\"marker\":{\"color\":\"#FF97FF\",\"symbol\":\"circle\"},\"mode\":\"markers\",\"name\":\"Elvis Presley\",\"orientation\":\"v\",\"showlegend\":true,\"type\":\"scatter\",\"x\":[78,322,332],\"xaxis\":\"x\",\"y\":[10542,163593,246184],\"yaxis\":\"y\"},{\"hovertemplate\":\"Artist=Frank Ocean<br>Number=%{x}<br>listeners=%{y}<extra></extra>\",\"legendgroup\":\"Frank Ocean\",\"marker\":{\"color\":\"#FECB52\",\"symbol\":\"circle\"},\"mode\":\"markers\",\"name\":\"Frank Ocean\",\"orientation\":\"v\",\"showlegend\":true,\"type\":\"scatter\",\"x\":[79,148],\"xaxis\":\"x\",\"y\":[857799,946307],\"yaxis\":\"y\"},{\"hovertemplate\":\"Artist=Sex Pistols<br>Number=%{x}<br>listeners=%{y}<extra></extra>\",\"legendgroup\":\"Sex Pistols\",\"marker\":{\"color\":\"#636efa\",\"symbol\":\"circle\"},\"mode\":\"markers\",\"name\":\"Sex Pistols\",\"orientation\":\"v\",\"showlegend\":true,\"type\":\"scatter\",\"x\":[80],\"xaxis\":\"x\",\"y\":[230539],\"yaxis\":\"y\"},{\"hovertemplate\":\"Artist=Sly & the Family Stone<br>Number=%{x}<br>listeners=%{y}<extra></extra>\",\"legendgroup\":\"Sly & the Family Stone\",\"marker\":{\"color\":\"#EF553B\",\"symbol\":\"circle\"},\"mode\":\"markers\",\"name\":\"Sly & the Family Stone\",\"orientation\":\"v\",\"showlegend\":true,\"type\":\"scatter\",\"x\":[82,119,343],\"xaxis\":\"x\",\"y\":[261053,171532,120575],\"yaxis\":\"y\"},{\"hovertemplate\":\"Artist=Dusty Springfield<br>Number=%{x}<br>listeners=%{y}<extra></extra>\",\"legendgroup\":\"Dusty Springfield\",\"marker\":{\"color\":\"#00cc96\",\"symbol\":\"circle\"},\"mode\":\"markers\",\"name\":\"Dusty Springfield\",\"orientation\":\"v\",\"showlegend\":true,\"type\":\"scatter\",\"x\":[83],\"xaxis\":\"x\",\"y\":[370871],\"yaxis\":\"y\"},{\"hovertemplate\":\"Artist=AC/DC<br>Number=%{x}<br>listeners=%{y}<extra></extra>\",\"legendgroup\":\"AC/DC\",\"marker\":{\"color\":\"#ab63fa\",\"symbol\":\"circle\"},\"mode\":\"markers\",\"name\":\"AC/DC\",\"orientation\":\"v\",\"showlegend\":true,\"type\":\"scatter\",\"x\":[84],\"xaxis\":\"x\",\"y\":[1507676],\"yaxis\":\"y\"},{\"hovertemplate\":\"Artist=John Lennon/Plastic Ono Band<br>Number=%{x}<br>listeners=%{y}<extra></extra>\",\"legendgroup\":\"John Lennon/Plastic Ono Band\",\"marker\":{\"color\":\"#FFA15A\",\"symbol\":\"circle\"},\"mode\":\"markers\",\"name\":\"John Lennon/Plastic Ono Band\",\"orientation\":\"v\",\"showlegend\":true,\"type\":\"scatter\",\"x\":[85],\"xaxis\":\"x\",\"y\":[42],\"yaxis\":\"y\"},{\"hovertemplate\":\"Artist=The Doors<br>Number=%{x}<br>listeners=%{y}<extra></extra>\",\"legendgroup\":\"The Doors\",\"marker\":{\"color\":\"#19d3f3\",\"symbol\":\"circle\"},\"mode\":\"markers\",\"name\":\"The Doors\",\"orientation\":\"v\",\"showlegend\":true,\"type\":\"scatter\",\"x\":[86],\"xaxis\":\"x\",\"y\":[1148247],\"yaxis\":\"y\"},{\"hovertemplate\":\"Artist=Erykah Badu<br>Number=%{x}<br>listeners=%{y}<extra></extra>\",\"legendgroup\":\"Erykah Badu\",\"marker\":{\"color\":\"#FF6692\",\"symbol\":\"circle\"},\"mode\":\"markers\",\"name\":\"Erykah Badu\",\"orientation\":\"v\",\"showlegend\":true,\"type\":\"scatter\",\"x\":[89,158],\"xaxis\":\"x\",\"y\":[533528,432252],\"yaxis\":\"y\"},{\"hovertemplate\":\"Artist=Missy Misdemeanor Elliott<br>Number=%{x}<br>listeners=%{y}<extra></extra>\",\"legendgroup\":\"Missy Misdemeanor Elliott\",\"marker\":{\"color\":\"#B6E880\",\"symbol\":\"circle\"},\"mode\":\"markers\",\"name\":\"Missy Misdemeanor Elliott\",\"orientation\":\"v\",\"showlegend\":true,\"type\":\"scatter\",\"x\":[93],\"xaxis\":\"x\",\"y\":[50],\"yaxis\":\"y\"},{\"hovertemplate\":\"Artist=The Stooges<br>Number=%{x}<br>listeners=%{y}<extra></extra>\",\"legendgroup\":\"The Stooges\",\"marker\":{\"color\":\"#FF97FF\",\"symbol\":\"circle\"},\"mode\":\"markers\",\"name\":\"The Stooges\",\"orientation\":\"v\",\"showlegend\":true,\"type\":\"scatter\",\"x\":[94,488],\"xaxis\":\"x\",\"y\":[213564,546631],\"yaxis\":\"y\"},{\"hovertemplate\":\"Artist=Drake<br>Number=%{x}<br>listeners=%{y}<extra></extra>\",\"legendgroup\":\"Drake\",\"marker\":{\"color\":\"#FECB52\",\"symbol\":\"circle\"},\"mode\":\"markers\",\"name\":\"Drake\",\"orientation\":\"v\",\"showlegend\":true,\"type\":\"scatter\",\"x\":[95,367],\"xaxis\":\"x\",\"y\":[503158,547127],\"yaxis\":\"y\"},{\"hovertemplate\":\"Artist=R.E.M.<br>Number=%{x}<br>listeners=%{y}<extra></extra>\",\"legendgroup\":\"R.E.M.\",\"marker\":{\"color\":\"#636efa\",\"symbol\":\"circle\"},\"mode\":\"markers\",\"name\":\"R.E.M.\",\"orientation\":\"v\",\"showlegend\":true,\"type\":\"scatter\",\"x\":[96,165],\"xaxis\":\"x\",\"y\":[866133,275636],\"yaxis\":\"y\"},{\"hovertemplate\":\"Artist=Metallica<br>Number=%{x}<br>listeners=%{y}<extra></extra>\",\"legendgroup\":\"Metallica\",\"marker\":{\"color\":\"#EF553B\",\"symbol\":\"circle\"},\"mode\":\"markers\",\"name\":\"Metallica\",\"orientation\":\"v\",\"showlegend\":true,\"type\":\"scatter\",\"x\":[97,235],\"xaxis\":\"x\",\"y\":[964110,1441291],\"yaxis\":\"y\"},{\"hovertemplate\":\"Artist=Lucinda Williams<br>Number=%{x}<br>listeners=%{y}<extra></extra>\",\"legendgroup\":\"Lucinda Williams\",\"marker\":{\"color\":\"#00cc96\",\"symbol\":\"circle\"},\"mode\":\"markers\",\"name\":\"Lucinda Williams\",\"orientation\":\"v\",\"showlegend\":true,\"type\":\"scatter\",\"x\":[98,426],\"xaxis\":\"x\",\"y\":[194176,17543],\"yaxis\":\"y\"},{\"hovertemplate\":\"Artist=Taylor Swift<br>Number=%{x}<br>listeners=%{y}<extra></extra>\",\"legendgroup\":\"Taylor Swift\",\"marker\":{\"color\":\"#ab63fa\",\"symbol\":\"circle\"},\"mode\":\"markers\",\"name\":\"Taylor Swift\",\"orientation\":\"v\",\"showlegend\":true,\"type\":\"scatter\",\"x\":[99,393],\"xaxis\":\"x\",\"y\":[582104,637282],\"yaxis\":\"y\"},{\"hovertemplate\":\"Artist=De La Soul<br>Number=%{x}<br>listeners=%{y}<extra></extra>\",\"legendgroup\":\"De La Soul\",\"marker\":{\"color\":\"#FFA15A\",\"symbol\":\"circle\"},\"mode\":\"markers\",\"name\":\"De La Soul\",\"orientation\":\"v\",\"showlegend\":true,\"type\":\"scatter\",\"x\":[103,228],\"xaxis\":\"x\",\"y\":[352274,186290],\"yaxis\":\"y\"},{\"hovertemplate\":\"Artist=The Allman Brothers Band<br>Number=%{x}<br>listeners=%{y}<extra></extra>\",\"legendgroup\":\"The Allman Brothers Band\",\"marker\":{\"color\":\"#19d3f3\",\"symbol\":\"circle\"},\"mode\":\"markers\",\"name\":\"The Allman Brothers Band\",\"orientation\":\"v\",\"showlegend\":true,\"type\":\"scatter\",\"x\":[105],\"xaxis\":\"x\",\"y\":[90806],\"yaxis\":\"y\"},{\"hovertemplate\":\"Artist=Hole<br>Number=%{x}<br>listeners=%{y}<extra></extra>\",\"legendgroup\":\"Hole\",\"marker\":{\"color\":\"#FF6692\",\"symbol\":\"circle\"},\"mode\":\"markers\",\"name\":\"Hole\",\"orientation\":\"v\",\"showlegend\":true,\"type\":\"scatter\",\"x\":[106],\"xaxis\":\"x\",\"y\":[548995],\"yaxis\":\"y\"},{\"hovertemplate\":\"Artist=Television<br>Number=%{x}<br>listeners=%{y}<extra></extra>\",\"legendgroup\":\"Television\",\"marker\":{\"color\":\"#B6E880\",\"symbol\":\"circle\"},\"mode\":\"markers\",\"name\":\"Television\",\"orientation\":\"v\",\"showlegend\":true,\"type\":\"scatter\",\"x\":[107],\"xaxis\":\"x\",\"y\":[477493],\"yaxis\":\"y\"},{\"hovertemplate\":\"Artist=Fiona Apple<br>Number=%{x}<br>listeners=%{y}<extra></extra>\",\"legendgroup\":\"Fiona Apple\",\"marker\":{\"color\":\"#FF97FF\",\"symbol\":\"circle\"},\"mode\":\"markers\",\"name\":\"Fiona Apple\",\"orientation\":\"v\",\"showlegend\":true,\"type\":\"scatter\",\"x\":[108,213,444],\"xaxis\":\"x\",\"y\":[401,206118,583380],\"yaxis\":\"y\"},{\"hovertemplate\":\"Artist=Lou Reed<br>Number=%{x}<br>listeners=%{y}<extra></extra>\",\"legendgroup\":\"Lou Reed\",\"marker\":{\"color\":\"#FECB52\",\"symbol\":\"circle\"},\"mode\":\"markers\",\"name\":\"Lou Reed\",\"orientation\":\"v\",\"showlegend\":true,\"type\":\"scatter\",\"x\":[109],\"xaxis\":\"x\",\"y\":[1114774],\"yaxis\":\"y\"},{\"hovertemplate\":\"Artist=Janet Jackson<br>Number=%{x}<br>listeners=%{y}<extra></extra>\",\"legendgroup\":\"Janet Jackson\",\"marker\":{\"color\":\"#636efa\",\"symbol\":\"circle\"},\"mode\":\"markers\",\"name\":\"Janet Jackson\",\"orientation\":\"v\",\"showlegend\":true,\"type\":\"scatter\",\"x\":[111,339],\"xaxis\":\"x\",\"y\":[147692,126141],\"yaxis\":\"y\"},{\"hovertemplate\":\"Artist=Elton John<br>Number=%{x}<br>listeners=%{y}<extra></extra>\",\"legendgroup\":\"Elton John\",\"marker\":{\"color\":\"#EF553B\",\"symbol\":\"circle\"},\"mode\":\"markers\",\"name\":\"Elton John\",\"orientation\":\"v\",\"showlegend\":true,\"type\":\"scatter\",\"x\":[112,251],\"xaxis\":\"x\",\"y\":[290546,56757],\"yaxis\":\"y\"},{\"hovertemplate\":\"Artist=The Smiths<br>Number=%{x}<br>listeners=%{y}<extra></extra>\",\"legendgroup\":\"The Smiths\",\"marker\":{\"color\":\"#00cc96\",\"symbol\":\"circle\"},\"mode\":\"markers\",\"name\":\"The Smiths\",\"orientation\":\"v\",\"showlegend\":true,\"type\":\"scatter\",\"x\":[113],\"xaxis\":\"x\",\"y\":[1152630],\"yaxis\":\"y\"},{\"hovertemplate\":\"Artist=The Strokes<br>Number=%{x}<br>listeners=%{y}<extra></extra>\",\"legendgroup\":\"The Strokes\",\"marker\":{\"color\":\"#ab63fa\",\"symbol\":\"circle\"},\"mode\":\"markers\",\"name\":\"The Strokes\",\"orientation\":\"v\",\"showlegend\":true,\"type\":\"scatter\",\"x\":[114],\"xaxis\":\"x\",\"y\":[2111910],\"yaxis\":\"y\"},{\"hovertemplate\":\"Artist=The Cure<br>Number=%{x}<br>listeners=%{y}<extra></extra>\",\"legendgroup\":\"The Cure\",\"marker\":{\"color\":\"#FFA15A\",\"symbol\":\"circle\"},\"mode\":\"markers\",\"name\":\"The Cure\",\"orientation\":\"v\",\"showlegend\":true,\"type\":\"scatter\",\"x\":[116],\"xaxis\":\"x\",\"y\":[687522],\"yaxis\":\"y\"},{\"hovertemplate\":\"Artist=Eagles<br>Number=%{x}<br>listeners=%{y}<extra></extra>\",\"legendgroup\":\"Eagles\",\"marker\":{\"color\":\"#19d3f3\",\"symbol\":\"circle\"},\"mode\":\"markers\",\"name\":\"Eagles\",\"orientation\":\"v\",\"showlegend\":true,\"type\":\"scatter\",\"x\":[118,207],\"xaxis\":\"x\",\"y\":[315921,117598],\"yaxis\":\"y\"},{\"hovertemplate\":\"Artist=Elvis Costello & The Attractions<br>Number=%{x}<br>listeners=%{y}<extra></extra>\",\"legendgroup\":\"Elvis Costello & The Attractions\",\"marker\":{\"color\":\"#FF6692\",\"symbol\":\"circle\"},\"mode\":\"markers\",\"name\":\"Elvis Costello & The Attractions\",\"orientation\":\"v\",\"showlegend\":true,\"type\":\"scatter\",\"x\":[121],\"xaxis\":\"x\",\"y\":[211020],\"yaxis\":\"y\"},{\"hovertemplate\":\"Artist=Nine Inch Nails<br>Number=%{x}<br>listeners=%{y}<extra></extra>\",\"legendgroup\":\"Nine Inch Nails\",\"marker\":{\"color\":\"#B6E880\",\"symbol\":\"circle\"},\"mode\":\"markers\",\"name\":\"Nine Inch Nails\",\"orientation\":\"v\",\"showlegend\":true,\"type\":\"scatter\",\"x\":[122,453],\"xaxis\":\"x\",\"y\":[1085245,567434],\"yaxis\":\"y\"},{\"hovertemplate\":\"Artist=U2<br>Number=%{x}<br>listeners=%{y}<extra></extra>\",\"legendgroup\":\"U2\",\"marker\":{\"color\":\"#FF97FF\",\"symbol\":\"circle\"},\"mode\":\"markers\",\"name\":\"U2\",\"orientation\":\"v\",\"showlegend\":true,\"type\":\"scatter\",\"x\":[124,135],\"xaxis\":\"x\",\"y\":[874236,820294],\"yaxis\":\"y\"},{\"hovertemplate\":\"Artist=Beastie Boys<br>Number=%{x}<br>listeners=%{y}<extra></extra>\",\"legendgroup\":\"Beastie Boys\",\"marker\":{\"color\":\"#FECB52\",\"symbol\":\"circle\"},\"mode\":\"markers\",\"name\":\"Beastie Boys\",\"orientation\":\"v\",\"showlegend\":true,\"type\":\"scatter\",\"x\":[125,192,261],\"xaxis\":\"x\",\"y\":[336877,775237,403787],\"yaxis\":\"y\"},{\"hovertemplate\":\"Artist=Mary J. Blige<br>Number=%{x}<br>listeners=%{y}<extra></extra>\",\"legendgroup\":\"Mary J. Blige\",\"marker\":{\"color\":\"#636efa\",\"symbol\":\"circle\"},\"mode\":\"markers\",\"name\":\"Mary J. Blige\",\"orientation\":\"v\",\"showlegend\":true,\"type\":\"scatter\",\"x\":[126,271],\"xaxis\":\"x\",\"y\":[211974,225128],\"yaxis\":\"y\"},{\"hovertemplate\":\"Artist=Ray Charles<br>Number=%{x}<br>listeners=%{y}<extra></extra>\",\"legendgroup\":\"Ray Charles\",\"marker\":{\"color\":\"#EF553B\",\"symbol\":\"circle\"},\"mode\":\"markers\",\"name\":\"Ray Charles\",\"orientation\":\"v\",\"showlegend\":true,\"type\":\"scatter\",\"x\":[127,210],\"xaxis\":\"x\",\"y\":[17745,19372],\"yaxis\":\"y\"},{\"hovertemplate\":\"Artist=Queen<br>Number=%{x}<br>listeners=%{y}<extra></extra>\",\"legendgroup\":\"Queen\",\"marker\":{\"color\":\"#00cc96\",\"symbol\":\"circle\"},\"mode\":\"markers\",\"name\":\"Queen\",\"orientation\":\"v\",\"showlegend\":true,\"type\":\"scatter\",\"x\":[128],\"xaxis\":\"x\",\"y\":[666109],\"yaxis\":\"y\"},{\"hovertemplate\":\"Artist=Portishead<br>Number=%{x}<br>listeners=%{y}<extra></extra>\",\"legendgroup\":\"Portishead\",\"marker\":{\"color\":\"#ab63fa\",\"symbol\":\"circle\"},\"mode\":\"markers\",\"name\":\"Portishead\",\"orientation\":\"v\",\"showlegend\":true,\"type\":\"scatter\",\"x\":[131],\"xaxis\":\"x\",\"y\":[1433262],\"yaxis\":\"y\"},{\"hovertemplate\":\"Artist=Hank Williams<br>Number=%{x}<br>listeners=%{y}<extra></extra>\",\"legendgroup\":\"Hank Williams\",\"marker\":{\"color\":\"#FFA15A\",\"symbol\":\"circle\"},\"mode\":\"markers\",\"name\":\"Hank Williams\",\"orientation\":\"v\",\"showlegend\":true,\"type\":\"scatter\",\"x\":[132],\"xaxis\":\"x\",\"y\":[66311],\"yaxis\":\"y\"},{\"hovertemplate\":\"Artist=Fugees (Refugee Camp)<br>Number=%{x}<br>listeners=%{y}<extra></extra>\",\"legendgroup\":\"Fugees (Refugee Camp)\",\"marker\":{\"color\":\"#19d3f3\",\"symbol\":\"circle\"},\"mode\":\"markers\",\"name\":\"Fugees (Refugee Camp)\",\"orientation\":\"v\",\"showlegend\":true,\"type\":\"scatter\",\"x\":[134],\"xaxis\":\"x\",\"y\":[173],\"yaxis\":\"y\"},{\"hovertemplate\":\"Artist=Funkadelic<br>Number=%{x}<br>listeners=%{y}<extra></extra>\",\"legendgroup\":\"Funkadelic\",\"marker\":{\"color\":\"#FF6692\",\"symbol\":\"circle\"},\"mode\":\"markers\",\"name\":\"Funkadelic\",\"orientation\":\"v\",\"showlegend\":true,\"type\":\"scatter\",\"x\":[136,360],\"xaxis\":\"x\",\"y\":[466161,50217],\"yaxis\":\"y\"},{\"hovertemplate\":\"Artist=Adele<br>Number=%{x}<br>listeners=%{y}<extra></extra>\",\"legendgroup\":\"Adele\",\"marker\":{\"color\":\"#B6E880\",\"symbol\":\"circle\"},\"mode\":\"markers\",\"name\":\"Adele\",\"orientation\":\"v\",\"showlegend\":true,\"type\":\"scatter\",\"x\":[137],\"xaxis\":\"x\",\"y\":[1917966],\"yaxis\":\"y\"},{\"hovertemplate\":\"Artist=Madonna<br>Number=%{x}<br>listeners=%{y}<extra></extra>\",\"legendgroup\":\"Madonna\",\"marker\":{\"color\":\"#FF97FF\",\"symbol\":\"circle\"},\"mode\":\"markers\",\"name\":\"Madonna\",\"orientation\":\"v\",\"showlegend\":true,\"type\":\"scatter\",\"x\":[138,222,331],\"xaxis\":\"x\",\"y\":[455928,601323,485362],\"yaxis\":\"y\"},{\"hovertemplate\":\"Artist=Black Sabbath<br>Number=%{x}<br>listeners=%{y}<extra></extra>\",\"legendgroup\":\"Black Sabbath\",\"marker\":{\"color\":\"#FECB52\",\"symbol\":\"circle\"},\"mode\":\"markers\",\"name\":\"Black Sabbath\",\"orientation\":\"v\",\"showlegend\":true,\"type\":\"scatter\",\"x\":[139,234,355],\"xaxis\":\"x\",\"y\":[1277318,494627,481158],\"yaxis\":\"y\"},{\"hovertemplate\":\"Artist=The Wailers<br>Number=%{x}<br>listeners=%{y}<extra></extra>\",\"legendgroup\":\"The Wailers\",\"marker\":{\"color\":\"#636efa\",\"symbol\":\"circle\"},\"mode\":\"markers\",\"name\":\"The Wailers\",\"orientation\":\"v\",\"showlegend\":true,\"type\":\"scatter\",\"x\":[140],\"xaxis\":\"x\",\"y\":[24824],\"yaxis\":\"y\"},{\"hovertemplate\":\"Artist=Pixies<br>Number=%{x}<br>listeners=%{y}<extra></extra>\",\"legendgroup\":\"Pixies\",\"marker\":{\"color\":\"#EF553B\",\"symbol\":\"circle\"},\"mode\":\"markers\",\"name\":\"Pixies\",\"orientation\":\"v\",\"showlegend\":true,\"type\":\"scatter\",\"x\":[141,390],\"xaxis\":\"x\",\"y\":[1465737,707597],\"yaxis\":\"y\"},{\"hovertemplate\":\"Artist=Eminem<br>Number=%{x}<br>listeners=%{y}<extra></extra>\",\"legendgroup\":\"Eminem\",\"marker\":{\"color\":\"#00cc96\",\"symbol\":\"circle\"},\"mode\":\"markers\",\"name\":\"Eminem\",\"orientation\":\"v\",\"showlegend\":true,\"type\":\"scatter\",\"x\":[145,352],\"xaxis\":\"x\",\"y\":[1293691,788342],\"yaxis\":\"y\"},{\"hovertemplate\":\"Artist=Blondie<br>Number=%{x}<br>listeners=%{y}<extra></extra>\",\"legendgroup\":\"Blondie\",\"marker\":{\"color\":\"#ab63fa\",\"symbol\":\"circle\"},\"mode\":\"markers\",\"name\":\"Blondie\",\"orientation\":\"v\",\"showlegend\":true,\"type\":\"scatter\",\"x\":[146,401],\"xaxis\":\"x\",\"y\":[276354,62986],\"yaxis\":\"y\"},{\"hovertemplate\":\"Artist=Jeff Buckley<br>Number=%{x}<br>listeners=%{y}<extra></extra>\",\"legendgroup\":\"Jeff Buckley\",\"marker\":{\"color\":\"#FFA15A\",\"symbol\":\"circle\"},\"mode\":\"markers\",\"name\":\"Jeff Buckley\",\"orientation\":\"v\",\"showlegend\":true,\"type\":\"scatter\",\"x\":[147],\"xaxis\":\"x\",\"y\":[1102782],\"yaxis\":\"y\"},{\"hovertemplate\":\"Artist=John Prine<br>Number=%{x}<br>listeners=%{y}<extra></extra>\",\"legendgroup\":\"John Prine\",\"marker\":{\"color\":\"#19d3f3\",\"symbol\":\"circle\"},\"mode\":\"markers\",\"name\":\"John Prine\",\"orientation\":\"v\",\"showlegend\":true,\"type\":\"scatter\",\"x\":[149],\"xaxis\":\"x\",\"y\":[134997],\"yaxis\":\"y\"},{\"hovertemplate\":\"Artist=George Michael<br>Number=%{x}<br>listeners=%{y}<extra></extra>\",\"legendgroup\":\"George Michael\",\"marker\":{\"color\":\"#FF6692\",\"symbol\":\"circle\"},\"mode\":\"markers\",\"name\":\"George Michael\",\"orientation\":\"v\",\"showlegend\":true,\"type\":\"scatter\",\"x\":[151],\"xaxis\":\"x\",\"y\":[552946],\"yaxis\":\"y\"},{\"hovertemplate\":\"Artist=Pretenders<br>Number=%{x}<br>listeners=%{y}<extra></extra>\",\"legendgroup\":\"Pretenders\",\"marker\":{\"color\":\"#B6E880\",\"symbol\":\"circle\"},\"mode\":\"markers\",\"name\":\"Pretenders\",\"orientation\":\"v\",\"showlegend\":true,\"type\":\"scatter\",\"x\":[152],\"xaxis\":\"x\",\"y\":[16792],\"yaxis\":\"y\"},{\"hovertemplate\":\"Artist=PJ Harvey<br>Number=%{x}<br>listeners=%{y}<extra></extra>\",\"legendgroup\":\"PJ Harvey\",\"marker\":{\"color\":\"#FF97FF\",\"symbol\":\"circle\"},\"mode\":\"markers\",\"name\":\"PJ Harvey\",\"orientation\":\"v\",\"showlegend\":true,\"type\":\"scatter\",\"x\":[153,313],\"xaxis\":\"x\",\"y\":[337428,736046],\"yaxis\":\"y\"},{\"hovertemplate\":\"Artist=The Replacements<br>Number=%{x}<br>listeners=%{y}<extra></extra>\",\"legendgroup\":\"The Replacements\",\"marker\":{\"color\":\"#FECB52\",\"symbol\":\"circle\"},\"mode\":\"markers\",\"name\":\"The Replacements\",\"orientation\":\"v\",\"showlegend\":true,\"type\":\"scatter\",\"x\":[156],\"xaxis\":\"x\",\"y\":[186747],\"yaxis\":\"y\"},{\"hovertemplate\":\"Artist=Oasis<br>Number=%{x}<br>listeners=%{y}<extra></extra>\",\"legendgroup\":\"Oasis\",\"marker\":{\"color\":\"#636efa\",\"symbol\":\"circle\"},\"mode\":\"markers\",\"name\":\"Oasis\",\"orientation\":\"v\",\"showlegend\":true,\"type\":\"scatter\",\"x\":[157,217],\"xaxis\":\"x\",\"y\":[2079453,959840],\"yaxis\":\"y\"},{\"hovertemplate\":\"Artist=The Police<br>Number=%{x}<br>listeners=%{y}<extra></extra>\",\"legendgroup\":\"The Police\",\"marker\":{\"color\":\"#EF553B\",\"symbol\":\"circle\"},\"mode\":\"markers\",\"name\":\"The Police\",\"orientation\":\"v\",\"showlegend\":true,\"type\":\"scatter\",\"x\":[159],\"xaxis\":\"x\",\"y\":[382641],\"yaxis\":\"y\"},{\"hovertemplate\":\"Artist=Pearl Jam<br>Number=%{x}<br>listeners=%{y}<extra></extra>\",\"legendgroup\":\"Pearl Jam\",\"marker\":{\"color\":\"#00cc96\",\"symbol\":\"circle\"},\"mode\":\"markers\",\"name\":\"Pearl Jam\",\"orientation\":\"v\",\"showlegend\":true,\"type\":\"scatter\",\"x\":[160],\"xaxis\":\"x\",\"y\":[1804035],\"yaxis\":\"y\"},{\"hovertemplate\":\"Artist=Crosby, Stills & Nash<br>Number=%{x}<br>listeners=%{y}<extra></extra>\",\"legendgroup\":\"Crosby, Stills & Nash\",\"marker\":{\"color\":\"#ab63fa\",\"symbol\":\"circle\"},\"mode\":\"markers\",\"name\":\"Crosby, Stills & Nash\",\"orientation\":\"v\",\"showlegend\":true,\"type\":\"scatter\",\"x\":[161],\"xaxis\":\"x\",\"y\":[219426],\"yaxis\":\"y\"},{\"hovertemplate\":\"Artist=Pulp<br>Number=%{x}<br>listeners=%{y}<extra></extra>\",\"legendgroup\":\"Pulp\",\"marker\":{\"color\":\"#FFA15A\",\"symbol\":\"circle\"},\"mode\":\"markers\",\"name\":\"Pulp\",\"orientation\":\"v\",\"showlegend\":true,\"type\":\"scatter\",\"x\":[162],\"xaxis\":\"x\",\"y\":[762509],\"yaxis\":\"y\"},{\"hovertemplate\":\"Artist=Various Artists<br>Number=%{x}<br>listeners=%{y}<extra></extra>\",\"legendgroup\":\"Various Artists\",\"marker\":{\"color\":\"#19d3f3\",\"symbol\":\"circle\"},\"mode\":\"markers\",\"name\":\"Various Artists\",\"orientation\":\"v\",\"showlegend\":true,\"type\":\"scatter\",\"x\":[163,174,405,497],\"xaxis\":\"x\",\"y\":[434,31651,244,911],\"yaxis\":\"y\"},{\"hovertemplate\":\"Artist=Johnny Cash<br>Number=%{x}<br>listeners=%{y}<extra></extra>\",\"legendgroup\":\"Johnny Cash\",\"marker\":{\"color\":\"#FF6692\",\"symbol\":\"circle\"},\"mode\":\"markers\",\"name\":\"Johnny Cash\",\"orientation\":\"v\",\"showlegend\":true,\"type\":\"scatter\",\"x\":[164],\"xaxis\":\"x\",\"y\":[325318],\"yaxis\":\"y\"},{\"hovertemplate\":\"Artist=Buddy Holly<br>Number=%{x}<br>listeners=%{y}<extra></extra>\",\"legendgroup\":\"Buddy Holly\",\"marker\":{\"color\":\"#B6E880\",\"symbol\":\"circle\"},\"mode\":\"markers\",\"name\":\"Buddy Holly\",\"orientation\":\"v\",\"showlegend\":true,\"type\":\"scatter\",\"x\":[166],\"xaxis\":\"x\",\"y\":[5616],\"yaxis\":\"y\"},{\"hovertemplate\":\"Artist=Depeche Mode<br>Number=%{x}<br>listeners=%{y}<extra></extra>\",\"legendgroup\":\"Depeche Mode\",\"marker\":{\"color\":\"#FF97FF\",\"symbol\":\"circle\"},\"mode\":\"markers\",\"name\":\"Depeche Mode\",\"orientation\":\"v\",\"showlegend\":true,\"type\":\"scatter\",\"x\":[167],\"xaxis\":\"x\",\"y\":[672370],\"yaxis\":\"y\"},{\"hovertemplate\":\"Artist=Billy Joel<br>Number=%{x}<br>listeners=%{y}<extra></extra>\",\"legendgroup\":\"Billy Joel\",\"marker\":{\"color\":\"#FECB52\",\"symbol\":\"circle\"},\"mode\":\"markers\",\"name\":\"Billy Joel\",\"orientation\":\"v\",\"showlegend\":true,\"type\":\"scatter\",\"x\":[169],\"xaxis\":\"x\",\"y\":[386990],\"yaxis\":\"y\"},{\"hovertemplate\":\"Artist=Cream<br>Number=%{x}<br>listeners=%{y}<extra></extra>\",\"legendgroup\":\"Cream\",\"marker\":{\"color\":\"#636efa\",\"symbol\":\"circle\"},\"mode\":\"markers\",\"name\":\"Cream\",\"orientation\":\"v\",\"showlegend\":true,\"type\":\"scatter\",\"x\":[170],\"xaxis\":\"x\",\"y\":[736525],\"yaxis\":\"y\"},{\"hovertemplate\":\"Artist=Sonic Youth<br>Number=%{x}<br>listeners=%{y}<extra></extra>\",\"legendgroup\":\"Sonic Youth\",\"marker\":{\"color\":\"#EF553B\",\"symbol\":\"circle\"},\"mode\":\"markers\",\"name\":\"Sonic Youth\",\"orientation\":\"v\",\"showlegend\":true,\"type\":\"scatter\",\"x\":[171,358],\"xaxis\":\"x\",\"y\":[543028,571814],\"yaxis\":\"y\"},{\"hovertemplate\":\"Artist=Simon and Garfunkel<br>Number=%{x}<br>listeners=%{y}<extra></extra>\",\"legendgroup\":\"Simon and Garfunkel\",\"marker\":{\"color\":\"#00cc96\",\"symbol\":\"circle\"},\"mode\":\"markers\",\"name\":\"Simon and Garfunkel\",\"orientation\":\"v\",\"showlegend\":true,\"type\":\"scatter\",\"x\":[172],\"xaxis\":\"x\",\"y\":[579],\"yaxis\":\"y\"},{\"hovertemplate\":\"Artist=Rod Stewart<br>Number=%{x}<br>listeners=%{y}<extra></extra>\",\"legendgroup\":\"Rod Stewart\",\"marker\":{\"color\":\"#ab63fa\",\"symbol\":\"circle\"},\"mode\":\"markers\",\"name\":\"Rod Stewart\",\"orientation\":\"v\",\"showlegend\":true,\"type\":\"scatter\",\"x\":[177],\"xaxis\":\"x\",\"y\":[423101],\"yaxis\":\"y\"},{\"hovertemplate\":\"Artist=Otis Redding<br>Number=%{x}<br>listeners=%{y}<extra></extra>\",\"legendgroup\":\"Otis Redding\",\"marker\":{\"color\":\"#FFA15A\",\"symbol\":\"circle\"},\"mode\":\"markers\",\"name\":\"Otis Redding\",\"orientation\":\"v\",\"showlegend\":true,\"type\":\"scatter\",\"x\":[178,448],\"xaxis\":\"x\",\"y\":[24539,72765],\"yaxis\":\"y\"},{\"hovertemplate\":\"Artist=Love<br>Number=%{x}<br>listeners=%{y}<extra></extra>\",\"legendgroup\":\"Love\",\"marker\":{\"color\":\"#19d3f3\",\"symbol\":\"circle\"},\"mode\":\"markers\",\"name\":\"Love\",\"orientation\":\"v\",\"showlegend\":true,\"type\":\"scatter\",\"x\":[180],\"xaxis\":\"x\",\"y\":[201386],\"yaxis\":\"y\"},{\"hovertemplate\":\"Artist=James Taylor<br>Number=%{x}<br>listeners=%{y}<extra></extra>\",\"legendgroup\":\"James Taylor\",\"marker\":{\"color\":\"#FF6692\",\"symbol\":\"circle\"},\"mode\":\"markers\",\"name\":\"James Taylor\",\"orientation\":\"v\",\"showlegend\":true,\"type\":\"scatter\",\"x\":[182],\"xaxis\":\"x\",\"y\":[200523],\"yaxis\":\"y\"},{\"hovertemplate\":\"Artist=Cyndi Lauper<br>Number=%{x}<br>listeners=%{y}<extra></extra>\",\"legendgroup\":\"Cyndi Lauper\",\"marker\":{\"color\":\"#B6E880\",\"symbol\":\"circle\"},\"mode\":\"markers\",\"name\":\"Cyndi Lauper\",\"orientation\":\"v\",\"showlegend\":true,\"type\":\"scatter\",\"x\":[184],\"xaxis\":\"x\",\"y\":[793488],\"yaxis\":\"y\"},{\"hovertemplate\":\"Artist=Red Hot Chili Peppers<br>Number=%{x}<br>listeners=%{y}<extra></extra>\",\"legendgroup\":\"Red Hot Chili Peppers\",\"marker\":{\"color\":\"#FF97FF\",\"symbol\":\"circle\"},\"mode\":\"markers\",\"name\":\"Red Hot Chili Peppers\",\"orientation\":\"v\",\"showlegend\":true,\"type\":\"scatter\",\"x\":[186,286],\"xaxis\":\"x\",\"y\":[1263510,2199256],\"yaxis\":\"y\"},{\"hovertemplate\":\"Artist=Ice Cube<br>Number=%{x}<br>listeners=%{y}<extra></extra>\",\"legendgroup\":\"Ice Cube\",\"marker\":{\"color\":\"#FECB52\",\"symbol\":\"circle\"},\"mode\":\"markers\",\"name\":\"Ice Cube\",\"orientation\":\"v\",\"showlegend\":true,\"type\":\"scatter\",\"x\":[187],\"xaxis\":\"x\",\"y\":[160033],\"yaxis\":\"y\"},{\"hovertemplate\":\"Artist=T. Rex<br>Number=%{x}<br>listeners=%{y}<extra></extra>\",\"legendgroup\":\"T. Rex\",\"marker\":{\"color\":\"#636efa\",\"symbol\":\"circle\"},\"mode\":\"markers\",\"name\":\"T. Rex\",\"orientation\":\"v\",\"showlegend\":true,\"type\":\"scatter\",\"x\":[188],\"xaxis\":\"x\",\"y\":[446405],\"yaxis\":\"y\"},{\"hovertemplate\":\"Artist=Sleater\\u2010Kinney<br>Number=%{x}<br>listeners=%{y}<extra></extra>\",\"legendgroup\":\"Sleater\\u2010Kinney\",\"marker\":{\"color\":\"#EF553B\",\"symbol\":\"circle\"},\"mode\":\"markers\",\"name\":\"Sleater\\u2010Kinney\",\"orientation\":\"v\",\"showlegend\":true,\"type\":\"scatter\",\"x\":[189],\"xaxis\":\"x\",\"y\":[98],\"yaxis\":\"y\"},{\"hovertemplate\":\"Artist=Etta James<br>Number=%{x}<br>listeners=%{y}<extra></extra>\",\"legendgroup\":\"Etta James\",\"marker\":{\"color\":\"#00cc96\",\"symbol\":\"circle\"},\"mode\":\"markers\",\"name\":\"Etta James\",\"orientation\":\"v\",\"showlegend\":true,\"type\":\"scatter\",\"x\":[191],\"xaxis\":\"x\",\"y\":[407759],\"yaxis\":\"y\"},{\"hovertemplate\":\"Artist=Creedence Clearwater Revival<br>Number=%{x}<br>listeners=%{y}<extra></extra>\",\"legendgroup\":\"Creedence Clearwater Revival\",\"marker\":{\"color\":\"#ab63fa\",\"symbol\":\"circle\"},\"mode\":\"markers\",\"name\":\"Creedence Clearwater Revival\",\"orientation\":\"v\",\"showlegend\":true,\"type\":\"scatter\",\"x\":[193,413],\"xaxis\":\"x\",\"y\":[382208,422114],\"yaxis\":\"y\"},{\"hovertemplate\":\"Artist=Leonard Cohen<br>Number=%{x}<br>listeners=%{y}<extra></extra>\",\"legendgroup\":\"Leonard Cohen\",\"marker\":{\"color\":\"#FFA15A\",\"symbol\":\"circle\"},\"mode\":\"markers\",\"name\":\"Leonard Cohen\",\"orientation\":\"v\",\"showlegend\":true,\"type\":\"scatter\",\"x\":[195],\"xaxis\":\"x\",\"y\":[490580],\"yaxis\":\"y\"},{\"hovertemplate\":\"Artist=Robyn<br>Number=%{x}<br>listeners=%{y}<extra></extra>\",\"legendgroup\":\"Robyn\",\"marker\":{\"color\":\"#19d3f3\",\"symbol\":\"circle\"},\"mode\":\"markers\",\"name\":\"Robyn\",\"orientation\":\"v\",\"showlegend\":true,\"type\":\"scatter\",\"x\":[196],\"xaxis\":\"x\",\"y\":[422579],\"yaxis\":\"y\"},{\"hovertemplate\":\"Artist=The B\\u201052's<br>Number=%{x}<br>listeners=%{y}<extra></extra>\",\"legendgroup\":\"The B\\u201052's\",\"marker\":{\"color\":\"#FF6692\",\"symbol\":\"circle\"},\"mode\":\"markers\",\"name\":\"The B\\u201052's\",\"orientation\":\"v\",\"showlegend\":true,\"type\":\"scatter\",\"x\":[198],\"xaxis\":\"x\",\"y\":[8],\"yaxis\":\"y\"},{\"hovertemplate\":\"Artist=Pavement<br>Number=%{x}<br>listeners=%{y}<extra></extra>\",\"legendgroup\":\"Pavement\",\"marker\":{\"color\":\"#B6E880\",\"symbol\":\"circle\"},\"mode\":\"markers\",\"name\":\"Pavement\",\"orientation\":\"v\",\"showlegend\":true,\"type\":\"scatter\",\"x\":[199,265,434],\"xaxis\":\"x\",\"y\":[73484,213781,358977],\"yaxis\":\"y\"},{\"hovertemplate\":\"Artist=Sade<br>Number=%{x}<br>listeners=%{y}<extra></extra>\",\"legendgroup\":\"Sade\",\"marker\":{\"color\":\"#FF97FF\",\"symbol\":\"circle\"},\"mode\":\"markers\",\"name\":\"Sade\",\"orientation\":\"v\",\"showlegend\":true,\"type\":\"scatter\",\"x\":[200,247],\"xaxis\":\"x\",\"y\":[237853,213762],\"yaxis\":\"y\"},{\"hovertemplate\":\"Artist=Bj\\u00f6rk<br>Number=%{x}<br>listeners=%{y}<extra></extra>\",\"legendgroup\":\"Bj\\u00f6rk\",\"marker\":{\"color\":\"#FECB52\",\"symbol\":\"circle\"},\"mode\":\"markers\",\"name\":\"Bj\\u00f6rk\",\"orientation\":\"v\",\"showlegend\":true,\"type\":\"scatter\",\"x\":[202,289],\"xaxis\":\"x\",\"y\":[659162,957264],\"yaxis\":\"y\"},{\"hovertemplate\":\"Artist=Nick Drake<br>Number=%{x}<br>listeners=%{y}<extra></extra>\",\"legendgroup\":\"Nick Drake\",\"marker\":{\"color\":\"#636efa\",\"symbol\":\"circle\"},\"mode\":\"markers\",\"name\":\"Nick Drake\",\"orientation\":\"v\",\"showlegend\":true,\"type\":\"scatter\",\"x\":[203],\"xaxis\":\"x\",\"y\":[961157],\"yaxis\":\"y\"},{\"hovertemplate\":\"Artist=Cat Stevens<br>Number=%{x}<br>listeners=%{y}<extra></extra>\",\"legendgroup\":\"Cat Stevens\",\"marker\":{\"color\":\"#EF553B\",\"symbol\":\"circle\"},\"mode\":\"markers\",\"name\":\"Cat Stevens\",\"orientation\":\"v\",\"showlegend\":true,\"type\":\"scatter\",\"x\":[205],\"xaxis\":\"x\",\"y\":[439230],\"yaxis\":\"y\"},{\"hovertemplate\":\"Artist=Lil Wayne<br>Number=%{x}<br>listeners=%{y}<extra></extra>\",\"legendgroup\":\"Lil Wayne\",\"marker\":{\"color\":\"#00cc96\",\"symbol\":\"circle\"},\"mode\":\"markers\",\"name\":\"Lil Wayne\",\"orientation\":\"v\",\"showlegend\":true,\"type\":\"scatter\",\"x\":[208,370],\"xaxis\":\"x\",\"y\":[179810,31580],\"yaxis\":\"y\"},{\"hovertemplate\":\"Artist=Run\\u2010D.M.C.<br>Number=%{x}<br>listeners=%{y}<extra></extra>\",\"legendgroup\":\"Run\\u2010D.M.C.\",\"marker\":{\"color\":\"#ab63fa\",\"symbol\":\"circle\"},\"mode\":\"markers\",\"name\":\"Run\\u2010D.M.C.\",\"orientation\":\"v\",\"showlegend\":true,\"type\":\"scatter\",\"x\":[209,378],\"xaxis\":\"x\",\"y\":[500,117],\"yaxis\":\"y\"},{\"hovertemplate\":\"Artist=Joy Division<br>Number=%{x}<br>listeners=%{y}<extra></extra>\",\"legendgroup\":\"Joy Division\",\"marker\":{\"color\":\"#FFA15A\",\"symbol\":\"circle\"},\"mode\":\"markers\",\"name\":\"Joy Division\",\"orientation\":\"v\",\"showlegend\":true,\"type\":\"scatter\",\"x\":[211,309],\"xaxis\":\"x\",\"y\":[1014917,614070],\"yaxis\":\"y\"},{\"hovertemplate\":\"Artist=Nina Simone<br>Number=%{x}<br>listeners=%{y}<extra></extra>\",\"legendgroup\":\"Nina Simone\",\"marker\":{\"color\":\"#19d3f3\",\"symbol\":\"circle\"},\"mode\":\"markers\",\"name\":\"Nina Simone\",\"orientation\":\"v\",\"showlegend\":true,\"type\":\"scatter\",\"x\":[212],\"xaxis\":\"x\",\"y\":[102961],\"yaxis\":\"y\"},{\"hovertemplate\":\"Artist=Tom Petty<br>Number=%{x}<br>listeners=%{y}<extra></extra>\",\"legendgroup\":\"Tom Petty\",\"marker\":{\"color\":\"#FF6692\",\"symbol\":\"circle\"},\"mode\":\"markers\",\"name\":\"Tom Petty\",\"orientation\":\"v\",\"showlegend\":true,\"type\":\"scatter\",\"x\":[214,298],\"xaxis\":\"x\",\"y\":[291428,632137],\"yaxis\":\"y\"},{\"hovertemplate\":\"Artist=Grateful Dead<br>Number=%{x}<br>listeners=%{y}<extra></extra>\",\"legendgroup\":\"Grateful Dead\",\"marker\":{\"color\":\"#B6E880\",\"symbol\":\"circle\"},\"mode\":\"markers\",\"name\":\"Grateful Dead\",\"orientation\":\"v\",\"showlegend\":true,\"type\":\"scatter\",\"x\":[215,409],\"xaxis\":\"x\",\"y\":[273523,165435],\"yaxis\":\"y\"},{\"hovertemplate\":\"Artist=Elliott Smith<br>Number=%{x}<br>listeners=%{y}<extra></extra>\",\"legendgroup\":\"Elliott Smith\",\"marker\":{\"color\":\"#FF97FF\",\"symbol\":\"circle\"},\"mode\":\"markers\",\"name\":\"Elliott Smith\",\"orientation\":\"v\",\"showlegend\":true,\"type\":\"scatter\",\"x\":[216],\"xaxis\":\"x\",\"y\":[892848],\"yaxis\":\"y\"},{\"hovertemplate\":\"Artist=TLC<br>Number=%{x}<br>listeners=%{y}<extra></extra>\",\"legendgroup\":\"TLC\",\"marker\":{\"color\":\"#FECB52\",\"symbol\":\"circle\"},\"mode\":\"markers\",\"name\":\"TLC\",\"orientation\":\"v\",\"showlegend\":true,\"type\":\"scatter\",\"x\":[218],\"xaxis\":\"x\",\"y\":[731332],\"yaxis\":\"y\"},{\"hovertemplate\":\"Artist=Raekwon<br>Number=%{x}<br>listeners=%{y}<extra></extra>\",\"legendgroup\":\"Raekwon\",\"marker\":{\"color\":\"#636efa\",\"symbol\":\"circle\"},\"mode\":\"markers\",\"name\":\"Raekwon\",\"orientation\":\"v\",\"showlegend\":true,\"type\":\"scatter\",\"x\":[219],\"xaxis\":\"x\",\"y\":[726],\"yaxis\":\"y\"},{\"hovertemplate\":\"Artist=Crosby, Stills, Nash & Young<br>Number=%{x}<br>listeners=%{y}<extra></extra>\",\"legendgroup\":\"Crosby, Stills, Nash & Young\",\"marker\":{\"color\":\"#EF553B\",\"symbol\":\"circle\"},\"mode\":\"markers\",\"name\":\"Crosby, Stills, Nash & Young\",\"orientation\":\"v\",\"showlegend\":true,\"type\":\"scatter\",\"x\":[220],\"xaxis\":\"x\",\"y\":[369570],\"yaxis\":\"y\"},{\"hovertemplate\":\"Artist=Rage Against the Machine<br>Number=%{x}<br>listeners=%{y}<extra></extra>\",\"legendgroup\":\"Rage Against the Machine\",\"marker\":{\"color\":\"#00cc96\",\"symbol\":\"circle\"},\"mode\":\"markers\",\"name\":\"Rage Against the Machine\",\"orientation\":\"v\",\"showlegend\":true,\"type\":\"scatter\",\"x\":[221],\"xaxis\":\"x\",\"y\":[1706981],\"yaxis\":\"y\"},{\"hovertemplate\":\"Artist=John Lennon<br>Number=%{x}<br>listeners=%{y}<extra></extra>\",\"legendgroup\":\"John Lennon\",\"marker\":{\"color\":\"#ab63fa\",\"symbol\":\"circle\"},\"mode\":\"markers\",\"name\":\"John Lennon\",\"orientation\":\"v\",\"showlegend\":true,\"type\":\"scatter\",\"x\":[223],\"xaxis\":\"x\",\"y\":[632638],\"yaxis\":\"y\"},{\"hovertemplate\":\"Artist=Dixie Chicks<br>Number=%{x}<br>listeners=%{y}<extra></extra>\",\"legendgroup\":\"Dixie Chicks\",\"marker\":{\"color\":\"#FFA15A\",\"symbol\":\"circle\"},\"mode\":\"markers\",\"name\":\"Dixie Chicks\",\"orientation\":\"v\",\"showlegend\":true,\"type\":\"scatter\",\"x\":[224],\"xaxis\":\"x\",\"y\":[242505],\"yaxis\":\"y\"},{\"hovertemplate\":\"Artist=Wilco<br>Number=%{x}<br>listeners=%{y}<extra></extra>\",\"legendgroup\":\"Wilco\",\"marker\":{\"color\":\"#19d3f3\",\"symbol\":\"circle\"},\"mode\":\"markers\",\"name\":\"Wilco\",\"orientation\":\"v\",\"showlegend\":true,\"type\":\"scatter\",\"x\":[225],\"xaxis\":\"x\",\"y\":[754664],\"yaxis\":\"y\"},{\"hovertemplate\":\"Artist=Derek and the Dominos<br>Number=%{x}<br>listeners=%{y}<extra></extra>\",\"legendgroup\":\"Derek and the Dominos\",\"marker\":{\"color\":\"#FF6692\",\"symbol\":\"circle\"},\"mode\":\"markers\",\"name\":\"Derek and the Dominos\",\"orientation\":\"v\",\"showlegend\":true,\"type\":\"scatter\",\"x\":[226],\"xaxis\":\"x\",\"y\":[242166],\"yaxis\":\"y\"},{\"hovertemplate\":\"Artist=Little Richard<br>Number=%{x}<br>listeners=%{y}<extra></extra>\",\"legendgroup\":\"Little Richard\",\"marker\":{\"color\":\"#B6E880\",\"symbol\":\"circle\"},\"mode\":\"markers\",\"name\":\"Little Richard\",\"orientation\":\"v\",\"showlegend\":true,\"type\":\"scatter\",\"x\":[227],\"xaxis\":\"x\",\"y\":[20457],\"yaxis\":\"y\"},{\"hovertemplate\":\"Artist=Patsy Cline<br>Number=%{x}<br>listeners=%{y}<extra></extra>\",\"legendgroup\":\"Patsy Cline\",\"marker\":{\"color\":\"#FF97FF\",\"symbol\":\"circle\"},\"mode\":\"markers\",\"name\":\"Patsy Cline\",\"orientation\":\"v\",\"showlegend\":true,\"type\":\"scatter\",\"x\":[229],\"xaxis\":\"x\",\"y\":[2660],\"yaxis\":\"y\"},{\"hovertemplate\":\"Artist=Rihanna<br>Number=%{x}<br>listeners=%{y}<extra></extra>\",\"legendgroup\":\"Rihanna\",\"marker\":{\"color\":\"#FECB52\",\"symbol\":\"circle\"},\"mode\":\"markers\",\"name\":\"Rihanna\",\"orientation\":\"v\",\"showlegend\":true,\"type\":\"scatter\",\"x\":[230],\"xaxis\":\"x\",\"y\":[508031],\"yaxis\":\"y\"},{\"hovertemplate\":\"Artist=Tom Petty and the Heartbreakers<br>Number=%{x}<br>listeners=%{y}<extra></extra>\",\"legendgroup\":\"Tom Petty and the Heartbreakers\",\"marker\":{\"color\":\"#636efa\",\"symbol\":\"circle\"},\"mode\":\"markers\",\"name\":\"Tom Petty and the Heartbreakers\",\"orientation\":\"v\",\"showlegend\":true,\"type\":\"scatter\",\"x\":[231],\"xaxis\":\"x\",\"y\":[65130],\"yaxis\":\"y\"},{\"hovertemplate\":\"Artist=Tori Amos<br>Number=%{x}<br>listeners=%{y}<extra></extra>\",\"legendgroup\":\"Tori Amos\",\"marker\":{\"color\":\"#EF553B\",\"symbol\":\"circle\"},\"mode\":\"markers\",\"name\":\"Tori Amos\",\"orientation\":\"v\",\"showlegend\":true,\"type\":\"scatter\",\"x\":[233],\"xaxis\":\"x\",\"y\":[373410],\"yaxis\":\"y\"},{\"hovertemplate\":\"Artist=Daft Punk<br>Number=%{x}<br>listeners=%{y}<extra></extra>\",\"legendgroup\":\"Daft Punk\",\"marker\":{\"color\":\"#00cc96\",\"symbol\":\"circle\"},\"mode\":\"markers\",\"name\":\"Daft Punk\",\"orientation\":\"v\",\"showlegend\":true,\"type\":\"scatter\",\"x\":[236,295],\"xaxis\":\"x\",\"y\":[2315570,1285164],\"yaxis\":\"y\"},{\"hovertemplate\":\"Artist=Willie Nelson<br>Number=%{x}<br>listeners=%{y}<extra></extra>\",\"legendgroup\":\"Willie Nelson\",\"marker\":{\"color\":\"#ab63fa\",\"symbol\":\"circle\"},\"mode\":\"markers\",\"name\":\"Willie Nelson\",\"orientation\":\"v\",\"showlegend\":true,\"type\":\"scatter\",\"x\":[237],\"xaxis\":\"x\",\"y\":[107829],\"yaxis\":\"y\"},{\"hovertemplate\":\"Artist=Kraftwerk<br>Number=%{x}<br>listeners=%{y}<extra></extra>\",\"legendgroup\":\"Kraftwerk\",\"marker\":{\"color\":\"#FFA15A\",\"symbol\":\"circle\"},\"mode\":\"markers\",\"name\":\"Kraftwerk\",\"orientation\":\"v\",\"showlegend\":true,\"type\":\"scatter\",\"x\":[238],\"xaxis\":\"x\",\"y\":[25682],\"yaxis\":\"y\"},{\"hovertemplate\":\"Artist=Boogie Down Productions<br>Number=%{x}<br>listeners=%{y}<extra></extra>\",\"legendgroup\":\"Boogie Down Productions\",\"marker\":{\"color\":\"#19d3f3\",\"symbol\":\"circle\"},\"mode\":\"markers\",\"name\":\"Boogie Down Productions\",\"orientation\":\"v\",\"showlegend\":true,\"type\":\"scatter\",\"x\":[239],\"xaxis\":\"x\",\"y\":[108016],\"yaxis\":\"y\"},{\"hovertemplate\":\"Artist=Sam Cooke<br>Number=%{x}<br>listeners=%{y}<extra></extra>\",\"legendgroup\":\"Sam Cooke\",\"marker\":{\"color\":\"#FF6692\",\"symbol\":\"circle\"},\"mode\":\"markers\",\"name\":\"Sam Cooke\",\"orientation\":\"v\",\"showlegend\":true,\"type\":\"scatter\",\"x\":[240,307],\"xaxis\":\"x\",\"y\":[12100,237],\"yaxis\":\"y\"},{\"hovertemplate\":\"Artist=Massive Attack<br>Number=%{x}<br>listeners=%{y}<extra></extra>\",\"legendgroup\":\"Massive Attack\",\"marker\":{\"color\":\"#B6E880\",\"symbol\":\"circle\"},\"mode\":\"markers\",\"name\":\"Massive Attack\",\"orientation\":\"v\",\"showlegend\":true,\"type\":\"scatter\",\"x\":[241,383],\"xaxis\":\"x\",\"y\":[669055,1641326],\"yaxis\":\"y\"},{\"hovertemplate\":\"Artist=The Zombies<br>Number=%{x}<br>listeners=%{y}<extra></extra>\",\"legendgroup\":\"The Zombies\",\"marker\":{\"color\":\"#FF97FF\",\"symbol\":\"circle\"},\"mode\":\"markers\",\"name\":\"The Zombies\",\"orientation\":\"v\",\"showlegend\":true,\"type\":\"scatter\",\"x\":[243],\"xaxis\":\"x\",\"y\":[381567],\"yaxis\":\"y\"},{\"hovertemplate\":\"Artist=Cocteau Twins<br>Number=%{x}<br>listeners=%{y}<extra></extra>\",\"legendgroup\":\"Cocteau Twins\",\"marker\":{\"color\":\"#FECB52\",\"symbol\":\"circle\"},\"mode\":\"markers\",\"name\":\"Cocteau Twins\",\"orientation\":\"v\",\"showlegend\":true,\"type\":\"scatter\",\"x\":[245],\"xaxis\":\"x\",\"y\":[317590],\"yaxis\":\"y\"},{\"hovertemplate\":\"Artist=L.L. Cool J<br>Number=%{x}<br>listeners=%{y}<extra></extra>\",\"legendgroup\":\"L.L. Cool J\",\"marker\":{\"color\":\"#636efa\",\"symbol\":\"circle\"},\"mode\":\"markers\",\"name\":\"L.L. Cool J\",\"orientation\":\"v\",\"showlegend\":true,\"type\":\"scatter\",\"x\":[246],\"xaxis\":\"x\",\"y\":[74],\"yaxis\":\"y\"},{\"hovertemplate\":\"Artist=Green Day<br>Number=%{x}<br>listeners=%{y}<extra></extra>\",\"legendgroup\":\"Green Day\",\"marker\":{\"color\":\"#EF553B\",\"symbol\":\"circle\"},\"mode\":\"markers\",\"name\":\"Green Day\",\"orientation\":\"v\",\"showlegend\":true,\"type\":\"scatter\",\"x\":[248,375],\"xaxis\":\"x\",\"y\":[1954243,1735172],\"yaxis\":\"y\"},{\"hovertemplate\":\"Artist=Whitney Houston<br>Number=%{x}<br>listeners=%{y}<extra></extra>\",\"legendgroup\":\"Whitney Houston\",\"marker\":{\"color\":\"#00cc96\",\"symbol\":\"circle\"},\"mode\":\"markers\",\"name\":\"Whitney Houston\",\"orientation\":\"v\",\"showlegend\":true,\"type\":\"scatter\",\"x\":[249],\"xaxis\":\"x\",\"y\":[388127],\"yaxis\":\"y\"},{\"hovertemplate\":\"Artist=Buzzcocks<br>Number=%{x}<br>listeners=%{y}<extra></extra>\",\"legendgroup\":\"Buzzcocks\",\"marker\":{\"color\":\"#ab63fa\",\"symbol\":\"circle\"},\"mode\":\"markers\",\"name\":\"Buzzcocks\",\"orientation\":\"v\",\"showlegend\":true,\"type\":\"scatter\",\"x\":[250],\"xaxis\":\"x\",\"y\":[408215],\"yaxis\":\"y\"},{\"hovertemplate\":\"Artist=DEVO<br>Number=%{x}<br>listeners=%{y}<extra></extra>\",\"legendgroup\":\"DEVO\",\"marker\":{\"color\":\"#FFA15A\",\"symbol\":\"circle\"},\"mode\":\"markers\",\"name\":\"DEVO\",\"orientation\":\"v\",\"showlegend\":true,\"type\":\"scatter\",\"x\":[252],\"xaxis\":\"x\",\"y\":[276118],\"yaxis\":\"y\"},{\"hovertemplate\":\"Artist=Herbie Hancock<br>Number=%{x}<br>listeners=%{y}<extra></extra>\",\"legendgroup\":\"Herbie Hancock\",\"marker\":{\"color\":\"#19d3f3\",\"symbol\":\"circle\"},\"mode\":\"markers\",\"name\":\"Herbie Hancock\",\"orientation\":\"v\",\"showlegend\":true,\"type\":\"scatter\",\"x\":[254],\"xaxis\":\"x\",\"y\":[380368],\"yaxis\":\"y\"},{\"hovertemplate\":\"Artist=Tracy Chapman<br>Number=%{x}<br>listeners=%{y}<extra></extra>\",\"legendgroup\":\"Tracy Chapman\",\"marker\":{\"color\":\"#FF6692\",\"symbol\":\"circle\"},\"mode\":\"markers\",\"name\":\"Tracy Chapman\",\"orientation\":\"v\",\"showlegend\":true,\"type\":\"scatter\",\"x\":[256],\"xaxis\":\"x\",\"y\":[722726],\"yaxis\":\"y\"},{\"hovertemplate\":\"Artist=Dolly Parton<br>Number=%{x}<br>listeners=%{y}<extra></extra>\",\"legendgroup\":\"Dolly Parton\",\"marker\":{\"color\":\"#B6E880\",\"symbol\":\"circle\"},\"mode\":\"markers\",\"name\":\"Dolly Parton\",\"orientation\":\"v\",\"showlegend\":true,\"type\":\"scatter\",\"x\":[257],\"xaxis\":\"x\",\"y\":[40058],\"yaxis\":\"y\"},{\"hovertemplate\":\"Artist=Janis Joplin<br>Number=%{x}<br>listeners=%{y}<extra></extra>\",\"legendgroup\":\"Janis Joplin\",\"marker\":{\"color\":\"#FF97FF\",\"symbol\":\"circle\"},\"mode\":\"markers\",\"name\":\"Janis Joplin\",\"orientation\":\"v\",\"showlegend\":true,\"type\":\"scatter\",\"x\":[259],\"xaxis\":\"x\",\"y\":[496258],\"yaxis\":\"y\"},{\"hovertemplate\":\"Artist=The Slits<br>Number=%{x}<br>listeners=%{y}<extra></extra>\",\"legendgroup\":\"The Slits\",\"marker\":{\"color\":\"#FECB52\",\"symbol\":\"circle\"},\"mode\":\"markers\",\"name\":\"The Slits\",\"orientation\":\"v\",\"showlegend\":true,\"type\":\"scatter\",\"x\":[260],\"xaxis\":\"x\",\"y\":[141084],\"yaxis\":\"y\"},{\"hovertemplate\":\"Artist=New Order<br>Number=%{x}<br>listeners=%{y}<extra></extra>\",\"legendgroup\":\"New Order\",\"marker\":{\"color\":\"#636efa\",\"symbol\":\"circle\"},\"mode\":\"markers\",\"name\":\"New Order\",\"orientation\":\"v\",\"showlegend\":true,\"type\":\"scatter\",\"x\":[262],\"xaxis\":\"x\",\"y\":[395224],\"yaxis\":\"y\"},{\"hovertemplate\":\"Artist=Minutemen<br>Number=%{x}<br>listeners=%{y}<extra></extra>\",\"legendgroup\":\"Minutemen\",\"marker\":{\"color\":\"#EF553B\",\"symbol\":\"circle\"},\"mode\":\"markers\",\"name\":\"Minutemen\",\"orientation\":\"v\",\"showlegend\":true,\"type\":\"scatter\",\"x\":[267],\"xaxis\":\"x\",\"y\":[303941],\"yaxis\":\"y\"},{\"hovertemplate\":\"Artist=Randy Newman<br>Number=%{x}<br>listeners=%{y}<extra></extra>\",\"legendgroup\":\"Randy Newman\",\"marker\":{\"color\":\"#00cc96\",\"symbol\":\"circle\"},\"mode\":\"markers\",\"name\":\"Randy Newman\",\"orientation\":\"v\",\"showlegend\":true,\"type\":\"scatter\",\"x\":[268],\"xaxis\":\"x\",\"y\":[43707],\"yaxis\":\"y\"},{\"hovertemplate\":\"Artist=Kacey Musgraves<br>Number=%{x}<br>listeners=%{y}<extra></extra>\",\"legendgroup\":\"Kacey Musgraves\",\"marker\":{\"color\":\"#ab63fa\",\"symbol\":\"circle\"},\"mode\":\"markers\",\"name\":\"Kacey Musgraves\",\"orientation\":\"v\",\"showlegend\":true,\"type\":\"scatter\",\"x\":[270],\"xaxis\":\"x\",\"y\":[313681],\"yaxis\":\"y\"},{\"hovertemplate\":\"Artist=Gang of Four<br>Number=%{x}<br>listeners=%{y}<extra></extra>\",\"legendgroup\":\"Gang of Four\",\"marker\":{\"color\":\"#FFA15A\",\"symbol\":\"circle\"},\"mode\":\"markers\",\"name\":\"Gang of Four\",\"orientation\":\"v\",\"showlegend\":true,\"type\":\"scatter\",\"x\":[273],\"xaxis\":\"x\",\"y\":[430813],\"yaxis\":\"y\"},{\"hovertemplate\":\"Artist=The Byrds<br>Number=%{x}<br>listeners=%{y}<extra></extra>\",\"legendgroup\":\"The Byrds\",\"marker\":{\"color\":\"#19d3f3\",\"symbol\":\"circle\"},\"mode\":\"markers\",\"name\":\"The Byrds\",\"orientation\":\"v\",\"showlegend\":true,\"type\":\"scatter\",\"x\":[274,287],\"xaxis\":\"x\",\"y\":[172501,227378],\"yaxis\":\"y\"},{\"hovertemplate\":\"Artist=Alicia Keys<br>Number=%{x}<br>listeners=%{y}<extra></extra>\",\"legendgroup\":\"Alicia Keys\",\"marker\":{\"color\":\"#FF6692\",\"symbol\":\"circle\"},\"mode\":\"markers\",\"name\":\"Alicia Keys\",\"orientation\":\"v\",\"showlegend\":true,\"type\":\"scatter\",\"x\":[277],\"xaxis\":\"x\",\"y\":[846719],\"yaxis\":\"y\"},{\"hovertemplate\":\"Artist=50 Cent<br>Number=%{x}<br>listeners=%{y}<extra></extra>\",\"legendgroup\":\"50 Cent\",\"marker\":{\"color\":\"#B6E880\",\"symbol\":\"circle\"},\"mode\":\"markers\",\"name\":\"50 Cent\",\"orientation\":\"v\",\"showlegend\":true,\"type\":\"scatter\",\"x\":[280],\"xaxis\":\"x\",\"y\":[881028],\"yaxis\":\"y\"},{\"hovertemplate\":\"Artist=Nilsson<br>Number=%{x}<br>listeners=%{y}<extra></extra>\",\"legendgroup\":\"Nilsson\",\"marker\":{\"color\":\"#FF97FF\",\"symbol\":\"circle\"},\"mode\":\"markers\",\"name\":\"Nilsson\",\"orientation\":\"v\",\"showlegend\":true,\"type\":\"scatter\",\"x\":[281],\"xaxis\":\"x\",\"y\":[709],\"yaxis\":\"y\"},{\"hovertemplate\":\"Artist=Frank Sinatra<br>Number=%{x}<br>listeners=%{y}<extra></extra>\",\"legendgroup\":\"Frank Sinatra\",\"marker\":{\"color\":\"#FECB52\",\"symbol\":\"circle\"},\"mode\":\"markers\",\"name\":\"Frank Sinatra\",\"orientation\":\"v\",\"showlegend\":true,\"type\":\"scatter\",\"x\":[282],\"xaxis\":\"x\",\"y\":[135275],\"yaxis\":\"y\"},{\"hovertemplate\":\"Artist=Donna Summer<br>Number=%{x}<br>listeners=%{y}<extra></extra>\",\"legendgroup\":\"Donna Summer\",\"marker\":{\"color\":\"#636efa\",\"symbol\":\"circle\"},\"mode\":\"markers\",\"name\":\"Donna Summer\",\"orientation\":\"v\",\"showlegend\":true,\"type\":\"scatter\",\"x\":[283],\"xaxis\":\"x\",\"y\":[254615],\"yaxis\":\"y\"},{\"hovertemplate\":\"Artist=Merle Haggard<br>Number=%{x}<br>listeners=%{y}<extra></extra>\",\"legendgroup\":\"Merle Haggard\",\"marker\":{\"color\":\"#EF553B\",\"symbol\":\"circle\"},\"mode\":\"markers\",\"name\":\"Merle Haggard\",\"orientation\":\"v\",\"showlegend\":true,\"type\":\"scatter\",\"x\":[284],\"xaxis\":\"x\",\"y\":[1662],\"yaxis\":\"y\"},{\"hovertemplate\":\"Artist=Big Star<br>Number=%{x}<br>listeners=%{y}<extra></extra>\",\"legendgroup\":\"Big Star\",\"marker\":{\"color\":\"#00cc96\",\"symbol\":\"circle\"},\"mode\":\"markers\",\"name\":\"Big Star\",\"orientation\":\"v\",\"showlegend\":true,\"type\":\"scatter\",\"x\":[285,359,474],\"xaxis\":\"x\",\"y\":[48002,116146,192590],\"yaxis\":\"y\"},{\"hovertemplate\":\"Artist=The Modern Lovers<br>Number=%{x}<br>listeners=%{y}<extra></extra>\",\"legendgroup\":\"The Modern Lovers\",\"marker\":{\"color\":\"#ab63fa\",\"symbol\":\"circle\"},\"mode\":\"markers\",\"name\":\"The Modern Lovers\",\"orientation\":\"v\",\"showlegend\":true,\"type\":\"scatter\",\"x\":[288],\"xaxis\":\"x\",\"y\":[284342],\"yaxis\":\"y\"},{\"hovertemplate\":\"Artist=Destiny's Child<br>Number=%{x}<br>listeners=%{y}<extra></extra>\",\"legendgroup\":\"Destiny's Child\",\"marker\":{\"color\":\"#FFA15A\",\"symbol\":\"circle\"},\"mode\":\"markers\",\"name\":\"Destiny's Child\",\"orientation\":\"v\",\"showlegend\":true,\"type\":\"scatter\",\"x\":[291],\"xaxis\":\"x\",\"y\":[1027638],\"yaxis\":\"y\"},{\"hovertemplate\":\"Artist=Van Halen<br>Number=%{x}<br>listeners=%{y}<extra></extra>\",\"legendgroup\":\"Van Halen\",\"marker\":{\"color\":\"#19d3f3\",\"symbol\":\"circle\"},\"mode\":\"markers\",\"name\":\"Van Halen\",\"orientation\":\"v\",\"showlegend\":true,\"type\":\"scatter\",\"x\":[292],\"xaxis\":\"x\",\"y\":[320988],\"yaxis\":\"y\"},{\"hovertemplate\":\"Artist=The Breeders<br>Number=%{x}<br>listeners=%{y}<extra></extra>\",\"legendgroup\":\"The Breeders\",\"marker\":{\"color\":\"#FF6692\",\"symbol\":\"circle\"},\"mode\":\"markers\",\"name\":\"The Breeders\",\"orientation\":\"v\",\"showlegend\":true,\"type\":\"scatter\",\"x\":[293],\"xaxis\":\"x\",\"y\":[515688],\"yaxis\":\"y\"},{\"hovertemplate\":\"Artist=Weezer<br>Number=%{x}<br>listeners=%{y}<extra></extra>\",\"legendgroup\":\"Weezer\",\"marker\":{\"color\":\"#B6E880\",\"symbol\":\"circle\"},\"mode\":\"markers\",\"name\":\"Weezer\",\"orientation\":\"v\",\"showlegend\":true,\"type\":\"scatter\",\"x\":[294],\"xaxis\":\"x\",\"y\":[146631],\"yaxis\":\"y\"},{\"hovertemplate\":\"Artist=Neil Young\\u00a0&\\u00a0Crazy Horse<br>Number=%{x}<br>listeners=%{y}<extra></extra>\",\"legendgroup\":\"Neil Young\\u00a0&\\u00a0Crazy Horse\",\"marker\":{\"color\":\"#FF97FF\",\"symbol\":\"circle\"},\"mode\":\"markers\",\"name\":\"Neil Young\\u00a0&\\u00a0Crazy Horse\",\"orientation\":\"v\",\"showlegend\":true,\"type\":\"scatter\",\"x\":[296],\"xaxis\":\"x\",\"y\":[71648],\"yaxis\":\"y\"},{\"hovertemplate\":\"Artist=Peter Gabriel<br>Number=%{x}<br>listeners=%{y}<extra></extra>\",\"legendgroup\":\"Peter Gabriel\",\"marker\":{\"color\":\"#FECB52\",\"symbol\":\"circle\"},\"mode\":\"markers\",\"name\":\"Peter Gabriel\",\"orientation\":\"v\",\"showlegend\":true,\"type\":\"scatter\",\"x\":[297],\"xaxis\":\"x\",\"y\":[303840],\"yaxis\":\"y\"},{\"hovertemplate\":\"Artist=B.B. King<br>Number=%{x}<br>listeners=%{y}<extra></extra>\",\"legendgroup\":\"B.B. King\",\"marker\":{\"color\":\"#636efa\",\"symbol\":\"circle\"},\"mode\":\"markers\",\"name\":\"B.B. King\",\"orientation\":\"v\",\"showlegend\":true,\"type\":\"scatter\",\"x\":[299],\"xaxis\":\"x\",\"y\":[70565],\"yaxis\":\"y\"},{\"hovertemplate\":\"Artist=Shania Twain<br>Number=%{x}<br>listeners=%{y}<extra></extra>\",\"legendgroup\":\"Shania Twain\",\"marker\":{\"color\":\"#EF553B\",\"symbol\":\"circle\"},\"mode\":\"markers\",\"name\":\"Shania Twain\",\"orientation\":\"v\",\"showlegend\":true,\"type\":\"scatter\",\"x\":[300],\"xaxis\":\"x\",\"y\":[647818],\"yaxis\":\"y\"},{\"hovertemplate\":\"Artist=New York Dolls<br>Number=%{x}<br>listeners=%{y}<extra></extra>\",\"legendgroup\":\"New York Dolls\",\"marker\":{\"color\":\"#00cc96\",\"symbol\":\"circle\"},\"mode\":\"markers\",\"name\":\"New York Dolls\",\"orientation\":\"v\",\"showlegend\":true,\"type\":\"scatter\",\"x\":[301],\"xaxis\":\"x\",\"y\":[267114],\"yaxis\":\"y\"},{\"hovertemplate\":\"Artist=ABBA<br>Number=%{x}<br>listeners=%{y}<extra></extra>\",\"legendgroup\":\"ABBA\",\"marker\":{\"color\":\"#ab63fa\",\"symbol\":\"circle\"},\"mode\":\"markers\",\"name\":\"ABBA\",\"orientation\":\"v\",\"showlegend\":true,\"type\":\"scatter\",\"x\":[303],\"xaxis\":\"x\",\"y\":[28445],\"yaxis\":\"y\"},{\"hovertemplate\":\"Artist=Bill Withers<br>Number=%{x}<br>listeners=%{y}<extra></extra>\",\"legendgroup\":\"Bill Withers\",\"marker\":{\"color\":\"#FFA15A\",\"symbol\":\"circle\"},\"mode\":\"markers\",\"name\":\"Bill Withers\",\"orientation\":\"v\",\"showlegend\":true,\"type\":\"scatter\",\"x\":[304,333],\"xaxis\":\"x\",\"y\":[385106,320001],\"yaxis\":\"y\"},{\"hovertemplate\":\"Artist=KISS<br>Number=%{x}<br>listeners=%{y}<extra></extra>\",\"legendgroup\":\"KISS\",\"marker\":{\"color\":\"#19d3f3\",\"symbol\":\"circle\"},\"mode\":\"markers\",\"name\":\"KISS\",\"orientation\":\"v\",\"showlegend\":true,\"type\":\"scatter\",\"x\":[305],\"xaxis\":\"x\",\"y\":[38877],\"yaxis\":\"y\"},{\"hovertemplate\":\"Artist=Al Green<br>Number=%{x}<br>listeners=%{y}<extra></extra>\",\"legendgroup\":\"Al Green\",\"marker\":{\"color\":\"#FF6692\",\"symbol\":\"circle\"},\"mode\":\"markers\",\"name\":\"Al Green\",\"orientation\":\"v\",\"showlegend\":true,\"type\":\"scatter\",\"x\":[306,427,456],\"xaxis\":\"x\",\"y\":[163473,93955,248211],\"yaxis\":\"y\"},{\"hovertemplate\":\"Artist=Brian Eno<br>Number=%{x}<br>listeners=%{y}<extra></extra>\",\"legendgroup\":\"Brian Eno\",\"marker\":{\"color\":\"#B6E880\",\"symbol\":\"circle\"},\"mode\":\"markers\",\"name\":\"Brian Eno\",\"orientation\":\"v\",\"showlegend\":true,\"type\":\"scatter\",\"x\":[308,338],\"xaxis\":\"x\",\"y\":[208805,343135],\"yaxis\":\"y\"},{\"hovertemplate\":\"Artist=Wire<br>Number=%{x}<br>listeners=%{y}<extra></extra>\",\"legendgroup\":\"Wire\",\"marker\":{\"color\":\"#FF97FF\",\"symbol\":\"circle\"},\"mode\":\"markers\",\"name\":\"Wire\",\"orientation\":\"v\",\"showlegend\":true,\"type\":\"scatter\",\"x\":[310],\"xaxis\":\"x\",\"y\":[256346],\"yaxis\":\"y\"},{\"hovertemplate\":\"Artist=Solange<br>Number=%{x}<br>listeners=%{y}<extra></extra>\",\"legendgroup\":\"Solange\",\"marker\":{\"color\":\"#FECB52\",\"symbol\":\"circle\"},\"mode\":\"markers\",\"name\":\"Solange\",\"orientation\":\"v\",\"showlegend\":true,\"type\":\"scatter\",\"x\":[312],\"xaxis\":\"x\",\"y\":[313826],\"yaxis\":\"y\"},{\"hovertemplate\":\"Artist=Aaliyah<br>Number=%{x}<br>listeners=%{y}<extra></extra>\",\"legendgroup\":\"Aaliyah\",\"marker\":{\"color\":\"#636efa\",\"symbol\":\"circle\"},\"mode\":\"markers\",\"name\":\"Aaliyah\",\"orientation\":\"v\",\"showlegend\":true,\"type\":\"scatter\",\"x\":[314],\"xaxis\":\"x\",\"y\":[142474],\"yaxis\":\"y\"},{\"hovertemplate\":\"Artist=ROSAL\\u00cdA<br>Number=%{x}<br>listeners=%{y}<extra></extra>\",\"legendgroup\":\"ROSAL\\u00cdA\",\"marker\":{\"color\":\"#EF553B\",\"symbol\":\"circle\"},\"mode\":\"markers\",\"name\":\"ROSAL\\u00cdA\",\"orientation\":\"v\",\"showlegend\":true,\"type\":\"scatter\",\"x\":[315],\"xaxis\":\"x\",\"y\":[207542],\"yaxis\":\"y\"},{\"hovertemplate\":\"Artist=Billie Holiday<br>Number=%{x}<br>listeners=%{y}<extra></extra>\",\"legendgroup\":\"Billie Holiday\",\"marker\":{\"color\":\"#00cc96\",\"symbol\":\"circle\"},\"mode\":\"markers\",\"name\":\"Billie Holiday\",\"orientation\":\"v\",\"showlegend\":true,\"type\":\"scatter\",\"x\":[317],\"xaxis\":\"x\",\"y\":[124543],\"yaxis\":\"y\"},{\"hovertemplate\":\"Artist=Janet<br>Number=%{x}<br>listeners=%{y}<extra></extra>\",\"legendgroup\":\"Janet\",\"marker\":{\"color\":\"#ab63fa\",\"symbol\":\"circle\"},\"mode\":\"markers\",\"name\":\"Janet\",\"orientation\":\"v\",\"showlegend\":true,\"type\":\"scatter\",\"x\":[318],\"xaxis\":\"x\",\"y\":[377],\"yaxis\":\"y\"},{\"hovertemplate\":\"Artist=The Stone Roses<br>Number=%{x}<br>listeners=%{y}<extra></extra>\",\"legendgroup\":\"The Stone Roses\",\"marker\":{\"color\":\"#FFA15A\",\"symbol\":\"circle\"},\"mode\":\"markers\",\"name\":\"The Stone Roses\",\"orientation\":\"v\",\"showlegend\":true,\"type\":\"scatter\",\"x\":[319],\"xaxis\":\"x\",\"y\":[852932],\"yaxis\":\"y\"},{\"hovertemplate\":\"Artist=X<br>Number=%{x}<br>listeners=%{y}<extra></extra>\",\"legendgroup\":\"X\",\"marker\":{\"color\":\"#19d3f3\",\"symbol\":\"circle\"},\"mode\":\"markers\",\"name\":\"X\",\"orientation\":\"v\",\"showlegend\":true,\"type\":\"scatter\",\"x\":[320],\"xaxis\":\"x\",\"y\":[141482],\"yaxis\":\"y\"},{\"hovertemplate\":\"Artist=Lana Del Rey<br>Number=%{x}<br>listeners=%{y}<extra></extra>\",\"legendgroup\":\"Lana Del Rey\",\"marker\":{\"color\":\"#FF6692\",\"symbol\":\"circle\"},\"mode\":\"markers\",\"name\":\"Lana Del Rey\",\"orientation\":\"v\",\"showlegend\":true,\"type\":\"scatter\",\"x\":[321],\"xaxis\":\"x\",\"y\":[549799],\"yaxis\":\"y\"},{\"hovertemplate\":\"Artist=Coldplay<br>Number=%{x}<br>listeners=%{y}<extra></extra>\",\"legendgroup\":\"Coldplay\",\"marker\":{\"color\":\"#B6E880\",\"symbol\":\"circle\"},\"mode\":\"markers\",\"name\":\"Coldplay\",\"orientation\":\"v\",\"showlegend\":true,\"type\":\"scatter\",\"x\":[324],\"xaxis\":\"x\",\"y\":[2802845],\"yaxis\":\"y\"},{\"hovertemplate\":\"Artist=Jerry Lee Lewis<br>Number=%{x}<br>listeners=%{y}<extra></extra>\",\"legendgroup\":\"Jerry Lee Lewis\",\"marker\":{\"color\":\"#FF97FF\",\"symbol\":\"circle\"},\"mode\":\"markers\",\"name\":\"Jerry Lee Lewis\",\"orientation\":\"v\",\"showlegend\":true,\"type\":\"scatter\",\"x\":[325],\"xaxis\":\"x\",\"y\":[76],\"yaxis\":\"y\"},{\"hovertemplate\":\"Artist=Vampire Weekend<br>Number=%{x}<br>listeners=%{y}<extra></extra>\",\"legendgroup\":\"Vampire Weekend\",\"marker\":{\"color\":\"#FECB52\",\"symbol\":\"circle\"},\"mode\":\"markers\",\"name\":\"Vampire Weekend\",\"orientation\":\"v\",\"showlegend\":true,\"type\":\"scatter\",\"x\":[328],\"xaxis\":\"x\",\"y\":[627250],\"yaxis\":\"y\"},{\"hovertemplate\":\"Artist=DJ Shadow<br>Number=%{x}<br>listeners=%{y}<extra></extra>\",\"legendgroup\":\"DJ Shadow\",\"marker\":{\"color\":\"#636efa\",\"symbol\":\"circle\"},\"mode\":\"markers\",\"name\":\"DJ Shadow\",\"orientation\":\"v\",\"showlegend\":true,\"type\":\"scatter\",\"x\":[329],\"xaxis\":\"x\",\"y\":[682013],\"yaxis\":\"y\"},{\"hovertemplate\":\"Artist=Santana<br>Number=%{x}<br>listeners=%{y}<extra></extra>\",\"legendgroup\":\"Santana\",\"marker\":{\"color\":\"#EF553B\",\"symbol\":\"circle\"},\"mode\":\"markers\",\"name\":\"Santana\",\"orientation\":\"v\",\"showlegend\":true,\"type\":\"scatter\",\"x\":[334],\"xaxis\":\"x\",\"y\":[242192],\"yaxis\":\"y\"},{\"hovertemplate\":\"Artist=Bob Dylan And The Band<br>Number=%{x}<br>listeners=%{y}<extra></extra>\",\"legendgroup\":\"Bob Dylan And The Band\",\"marker\":{\"color\":\"#00cc96\",\"symbol\":\"circle\"},\"mode\":\"markers\",\"name\":\"Bob Dylan And The Band\",\"orientation\":\"v\",\"showlegend\":true,\"type\":\"scatter\",\"x\":[335],\"xaxis\":\"x\",\"y\":[64146],\"yaxis\":\"y\"},{\"hovertemplate\":\"Artist=Roxy Music<br>Number=%{x}<br>listeners=%{y}<extra></extra>\",\"legendgroup\":\"Roxy Music\",\"marker\":{\"color\":\"#ab63fa\",\"symbol\":\"circle\"},\"mode\":\"markers\",\"name\":\"Roxy Music\",\"orientation\":\"v\",\"showlegend\":true,\"type\":\"scatter\",\"x\":[336,351],\"xaxis\":\"x\",\"y\":[336244,96413],\"yaxis\":\"y\"},{\"hovertemplate\":\"Artist=Snoop Doggy Dogg<br>Number=%{x}<br>listeners=%{y}<extra></extra>\",\"legendgroup\":\"Snoop Doggy Dogg\",\"marker\":{\"color\":\"#FFA15A\",\"symbol\":\"circle\"},\"mode\":\"markers\",\"name\":\"Snoop Doggy Dogg\",\"orientation\":\"v\",\"showlegend\":true,\"type\":\"scatter\",\"x\":[340],\"xaxis\":\"x\",\"y\":[1617],\"yaxis\":\"y\"},{\"hovertemplate\":\"Artist=Smashing Pumpkins<br>Number=%{x}<br>listeners=%{y}<extra></extra>\",\"legendgroup\":\"Smashing Pumpkins\",\"marker\":{\"color\":\"#19d3f3\",\"symbol\":\"circle\"},\"mode\":\"markers\",\"name\":\"Smashing Pumpkins\",\"orientation\":\"v\",\"showlegend\":true,\"type\":\"scatter\",\"x\":[341],\"xaxis\":\"x\",\"y\":[6054],\"yaxis\":\"y\"},{\"hovertemplate\":\"Artist=Toots & The Maytals<br>Number=%{x}<br>listeners=%{y}<extra></extra>\",\"legendgroup\":\"Toots & The Maytals\",\"marker\":{\"color\":\"#FF6692\",\"symbol\":\"circle\"},\"mode\":\"markers\",\"name\":\"Toots & The Maytals\",\"orientation\":\"v\",\"showlegend\":true,\"type\":\"scatter\",\"x\":[344],\"xaxis\":\"x\",\"y\":[34194],\"yaxis\":\"y\"},{\"hovertemplate\":\"Artist=Arctic Monkeys<br>Number=%{x}<br>listeners=%{y}<extra></extra>\",\"legendgroup\":\"Arctic Monkeys\",\"marker\":{\"color\":\"#B6E880\",\"symbol\":\"circle\"},\"mode\":\"markers\",\"name\":\"Arctic Monkeys\",\"orientation\":\"v\",\"showlegend\":true,\"type\":\"scatter\",\"x\":[346],\"xaxis\":\"x\",\"y\":[1475263],\"yaxis\":\"y\"},{\"hovertemplate\":\"Artist=Genius/GZA<br>Number=%{x}<br>listeners=%{y}<extra></extra>\",\"legendgroup\":\"Genius/GZA\",\"marker\":{\"color\":\"#FF97FF\",\"symbol\":\"circle\"},\"mode\":\"markers\",\"name\":\"Genius/GZA\",\"orientation\":\"v\",\"showlegend\":true,\"type\":\"scatter\",\"x\":[347],\"xaxis\":\"x\",\"y\":[904],\"yaxis\":\"y\"},{\"hovertemplate\":\"Artist=Gillian Welch<br>Number=%{x}<br>listeners=%{y}<extra></extra>\",\"legendgroup\":\"Gillian Welch\",\"marker\":{\"color\":\"#FECB52\",\"symbol\":\"circle\"},\"mode\":\"markers\",\"name\":\"Gillian Welch\",\"orientation\":\"v\",\"showlegend\":true,\"type\":\"scatter\",\"x\":[348],\"xaxis\":\"x\",\"y\":[73985],\"yaxis\":\"y\"},{\"hovertemplate\":\"Artist=MC5<br>Number=%{x}<br>listeners=%{y}<extra></extra>\",\"legendgroup\":\"MC5\",\"marker\":{\"color\":\"#636efa\",\"symbol\":\"circle\"},\"mode\":\"markers\",\"name\":\"MC5\",\"orientation\":\"v\",\"showlegend\":true,\"type\":\"scatter\",\"x\":[349],\"xaxis\":\"x\",\"y\":[99625],\"yaxis\":\"y\"},{\"hovertemplate\":\"Artist=The Cars<br>Number=%{x}<br>listeners=%{y}<extra></extra>\",\"legendgroup\":\"The Cars\",\"marker\":{\"color\":\"#EF553B\",\"symbol\":\"circle\"},\"mode\":\"markers\",\"name\":\"The Cars\",\"orientation\":\"v\",\"showlegend\":true,\"type\":\"scatter\",\"x\":[353],\"xaxis\":\"x\",\"y\":[358409],\"yaxis\":\"y\"},{\"hovertemplate\":\"Artist=X\\u2010Ray Spex<br>Number=%{x}<br>listeners=%{y}<extra></extra>\",\"legendgroup\":\"X\\u2010Ray Spex\",\"marker\":{\"color\":\"#00cc96\",\"symbol\":\"circle\"},\"mode\":\"markers\",\"name\":\"X\\u2010Ray Spex\",\"orientation\":\"v\",\"showlegend\":true,\"type\":\"scatter\",\"x\":[354],\"xaxis\":\"x\",\"y\":[206],\"yaxis\":\"y\"},{\"hovertemplate\":\"Artist=Dr. John, the Night Tripper<br>Number=%{x}<br>listeners=%{y}<extra></extra>\",\"legendgroup\":\"Dr. John, the Night Tripper\",\"marker\":{\"color\":\"#ab63fa\",\"symbol\":\"circle\"},\"mode\":\"markers\",\"name\":\"Dr. John, the Night Tripper\",\"orientation\":\"v\",\"showlegend\":true,\"type\":\"scatter\",\"x\":[356],\"xaxis\":\"x\",\"y\":[491],\"yaxis\":\"y\"},{\"hovertemplate\":\"Artist=Tom Waits<br>Number=%{x}<br>listeners=%{y}<extra></extra>\",\"legendgroup\":\"Tom Waits\",\"marker\":{\"color\":\"#FFA15A\",\"symbol\":\"circle\"},\"mode\":\"markers\",\"name\":\"Tom Waits\",\"orientation\":\"v\",\"showlegend\":true,\"type\":\"scatter\",\"x\":[357],\"xaxis\":\"x\",\"y\":[649405],\"yaxis\":\"y\"},{\"hovertemplate\":\"Artist=My Chemical Romance<br>Number=%{x}<br>listeners=%{y}<extra></extra>\",\"legendgroup\":\"My Chemical Romance\",\"marker\":{\"color\":\"#19d3f3\",\"symbol\":\"circle\"},\"mode\":\"markers\",\"name\":\"My Chemical Romance\",\"orientation\":\"v\",\"showlegend\":true,\"type\":\"scatter\",\"x\":[361],\"xaxis\":\"x\",\"y\":[1729275],\"yaxis\":\"y\"},{\"hovertemplate\":\"Artist=Luther Vandross<br>Number=%{x}<br>listeners=%{y}<extra></extra>\",\"legendgroup\":\"Luther Vandross\",\"marker\":{\"color\":\"#FF6692\",\"symbol\":\"circle\"},\"mode\":\"markers\",\"name\":\"Luther Vandross\",\"orientation\":\"v\",\"showlegend\":true,\"type\":\"scatter\",\"x\":[362],\"xaxis\":\"x\",\"y\":[166823],\"yaxis\":\"y\"},{\"hovertemplate\":\"Artist=Parliament<br>Number=%{x}<br>listeners=%{y}<extra></extra>\",\"legendgroup\":\"Parliament\",\"marker\":{\"color\":\"#B6E880\",\"symbol\":\"circle\"},\"mode\":\"markers\",\"name\":\"Parliament\",\"orientation\":\"v\",\"showlegend\":true,\"type\":\"scatter\",\"x\":[363],\"xaxis\":\"x\",\"y\":[247632],\"yaxis\":\"y\"},{\"hovertemplate\":\"Artist=Madvillain<br>Number=%{x}<br>listeners=%{y}<extra></extra>\",\"legendgroup\":\"Madvillain\",\"marker\":{\"color\":\"#FF97FF\",\"symbol\":\"circle\"},\"mode\":\"markers\",\"name\":\"Madvillain\",\"orientation\":\"v\",\"showlegend\":true,\"type\":\"scatter\",\"x\":[365],\"xaxis\":\"x\",\"y\":[790618],\"yaxis\":\"y\"},{\"hovertemplate\":\"Artist=Aerosmith<br>Number=%{x}<br>listeners=%{y}<extra></extra>\",\"legendgroup\":\"Aerosmith\",\"marker\":{\"color\":\"#FECB52\",\"symbol\":\"circle\"},\"mode\":\"markers\",\"name\":\"Aerosmith\",\"orientation\":\"v\",\"showlegend\":true,\"type\":\"scatter\",\"x\":[366],\"xaxis\":\"x\",\"y\":[168918],\"yaxis\":\"y\"},{\"hovertemplate\":\"Artist=George Harrison<br>Number=%{x}<br>listeners=%{y}<extra></extra>\",\"legendgroup\":\"George Harrison\",\"marker\":{\"color\":\"#636efa\",\"symbol\":\"circle\"},\"mode\":\"markers\",\"name\":\"George Harrison\",\"orientation\":\"v\",\"showlegend\":true,\"type\":\"scatter\",\"x\":[368],\"xaxis\":\"x\",\"y\":[273531],\"yaxis\":\"y\"},{\"hovertemplate\":\"Artist=Mobb Deep<br>Number=%{x}<br>listeners=%{y}<extra></extra>\",\"legendgroup\":\"Mobb Deep\",\"marker\":{\"color\":\"#EF553B\",\"symbol\":\"circle\"},\"mode\":\"markers\",\"name\":\"Mobb Deep\",\"orientation\":\"v\",\"showlegend\":true,\"type\":\"scatter\",\"x\":[369],\"xaxis\":\"x\",\"y\":[615295],\"yaxis\":\"y\"},{\"hovertemplate\":\"Artist=The Temptations<br>Number=%{x}<br>listeners=%{y}<extra></extra>\",\"legendgroup\":\"The Temptations\",\"marker\":{\"color\":\"#00cc96\",\"symbol\":\"circle\"},\"mode\":\"markers\",\"name\":\"The Temptations\",\"orientation\":\"v\",\"showlegend\":true,\"type\":\"scatter\",\"x\":[371],\"xaxis\":\"x\",\"y\":[35302],\"yaxis\":\"y\"},{\"hovertemplate\":\"Artist=Big Brother & the Holding Company<br>Number=%{x}<br>listeners=%{y}<extra></extra>\",\"legendgroup\":\"Big Brother & the Holding Company\",\"marker\":{\"color\":\"#ab63fa\",\"symbol\":\"circle\"},\"mode\":\"markers\",\"name\":\"Big Brother & the Holding Company\",\"orientation\":\"v\",\"showlegend\":true,\"type\":\"scatter\",\"x\":[372],\"xaxis\":\"x\",\"y\":[280153],\"yaxis\":\"y\"},{\"hovertemplate\":\"Artist=Isaac Hayes<br>Number=%{x}<br>listeners=%{y}<extra></extra>\",\"legendgroup\":\"Isaac Hayes\",\"marker\":{\"color\":\"#FFA15A\",\"symbol\":\"circle\"},\"mode\":\"markers\",\"name\":\"Isaac Hayes\",\"orientation\":\"v\",\"showlegend\":true,\"type\":\"scatter\",\"x\":[373],\"xaxis\":\"x\",\"y\":[108585],\"yaxis\":\"y\"},{\"hovertemplate\":\"Artist=Robert Johnson<br>Number=%{x}<br>listeners=%{y}<extra></extra>\",\"legendgroup\":\"Robert Johnson\",\"marker\":{\"color\":\"#19d3f3\",\"symbol\":\"circle\"},\"mode\":\"markers\",\"name\":\"Robert Johnson\",\"orientation\":\"v\",\"showlegend\":true,\"type\":\"scatter\",\"x\":[374],\"xaxis\":\"x\",\"y\":[302265],\"yaxis\":\"y\"},{\"hovertemplate\":\"Artist=Neutral Milk Hotel<br>Number=%{x}<br>listeners=%{y}<extra></extra>\",\"legendgroup\":\"Neutral Milk Hotel\",\"marker\":{\"color\":\"#FF6692\",\"symbol\":\"circle\"},\"mode\":\"markers\",\"name\":\"Neutral Milk Hotel\",\"orientation\":\"v\",\"showlegend\":true,\"type\":\"scatter\",\"x\":[376],\"xaxis\":\"x\",\"y\":[1175947],\"yaxis\":\"y\"},{\"hovertemplate\":\"Artist=Yeah Yeah Yeahs<br>Number=%{x}<br>listeners=%{y}<extra></extra>\",\"legendgroup\":\"Yeah Yeah Yeahs\",\"marker\":{\"color\":\"#B6E880\",\"symbol\":\"circle\"},\"mode\":\"markers\",\"name\":\"Yeah Yeah Yeahs\",\"orientation\":\"v\",\"showlegend\":true,\"type\":\"scatter\",\"x\":[377],\"xaxis\":\"x\",\"y\":[1203526],\"yaxis\":\"y\"},{\"hovertemplate\":\"Artist=Rush<br>Number=%{x}<br>listeners=%{y}<extra></extra>\",\"legendgroup\":\"Rush\",\"marker\":{\"color\":\"#FF97FF\",\"symbol\":\"circle\"},\"mode\":\"markers\",\"name\":\"Rush\",\"orientation\":\"v\",\"showlegend\":true,\"type\":\"scatter\",\"x\":[379],\"xaxis\":\"x\",\"y\":[441257],\"yaxis\":\"y\"},{\"hovertemplate\":\"Artist=Charles Mingus<br>Number=%{x}<br>listeners=%{y}<extra></extra>\",\"legendgroup\":\"Charles Mingus\",\"marker\":{\"color\":\"#FECB52\",\"symbol\":\"circle\"},\"mode\":\"markers\",\"name\":\"Charles Mingus\",\"orientation\":\"v\",\"showlegend\":true,\"type\":\"scatter\",\"x\":[380],\"xaxis\":\"x\",\"y\":[309531],\"yaxis\":\"y\"},{\"hovertemplate\":\"Artist=Lynyrd Skynyrd<br>Number=%{x}<br>listeners=%{y}<extra></extra>\",\"legendgroup\":\"Lynyrd Skynyrd\",\"marker\":{\"color\":\"#636efa\",\"symbol\":\"circle\"},\"mode\":\"markers\",\"name\":\"Lynyrd Skynyrd\",\"orientation\":\"v\",\"showlegend\":true,\"type\":\"scatter\",\"x\":[381],\"xaxis\":\"x\",\"y\":[38],\"yaxis\":\"y\"},{\"hovertemplate\":\"Artist=Tame Impala<br>Number=%{x}<br>listeners=%{y}<extra></extra>\",\"legendgroup\":\"Tame Impala\",\"marker\":{\"color\":\"#EF553B\",\"symbol\":\"circle\"},\"mode\":\"markers\",\"name\":\"Tame Impala\",\"orientation\":\"v\",\"showlegend\":true,\"type\":\"scatter\",\"x\":[382],\"xaxis\":\"x\",\"y\":[1053669],\"yaxis\":\"y\"},{\"hovertemplate\":\"Artist=The Kinks<br>Number=%{x}<br>listeners=%{y}<extra></extra>\",\"legendgroup\":\"The Kinks\",\"marker\":{\"color\":\"#00cc96\",\"symbol\":\"circle\"},\"mode\":\"markers\",\"name\":\"The Kinks\",\"orientation\":\"v\",\"showlegend\":true,\"type\":\"scatter\",\"x\":[384,478],\"xaxis\":\"x\",\"y\":[195492,226701],\"yaxis\":\"y\"},{\"hovertemplate\":\"Artist=J Dilla<br>Number=%{x}<br>listeners=%{y}<extra></extra>\",\"legendgroup\":\"J Dilla\",\"marker\":{\"color\":\"#ab63fa\",\"symbol\":\"circle\"},\"mode\":\"markers\",\"name\":\"J Dilla\",\"orientation\":\"v\",\"showlegend\":true,\"type\":\"scatter\",\"x\":[386],\"xaxis\":\"x\",\"y\":[407545],\"yaxis\":\"y\"},{\"hovertemplate\":\"Artist=Mariah Carey<br>Number=%{x}<br>listeners=%{y}<extra></extra>\",\"legendgroup\":\"Mariah Carey\",\"marker\":{\"color\":\"#FFA15A\",\"symbol\":\"circle\"},\"mode\":\"markers\",\"name\":\"Mariah Carey\",\"orientation\":\"v\",\"showlegend\":true,\"type\":\"scatter\",\"x\":[389],\"xaxis\":\"x\",\"y\":[658844],\"yaxis\":\"y\"},{\"hovertemplate\":\"Artist=Kelis<br>Number=%{x}<br>listeners=%{y}<extra></extra>\",\"legendgroup\":\"Kelis\",\"marker\":{\"color\":\"#19d3f3\",\"symbol\":\"circle\"},\"mode\":\"markers\",\"name\":\"Kelis\",\"orientation\":\"v\",\"showlegend\":true,\"type\":\"scatter\",\"x\":[391],\"xaxis\":\"x\",\"y\":[188022],\"yaxis\":\"y\"},{\"hovertemplate\":\"Artist=Ike & Tina Turner<br>Number=%{x}<br>listeners=%{y}<extra></extra>\",\"legendgroup\":\"Ike & Tina Turner\",\"marker\":{\"color\":\"#FF6692\",\"symbol\":\"circle\"},\"mode\":\"markers\",\"name\":\"Ike & Tina Turner\",\"orientation\":\"v\",\"showlegend\":true,\"type\":\"scatter\",\"x\":[392],\"xaxis\":\"x\",\"y\":[2187],\"yaxis\":\"y\"},{\"hovertemplate\":\"Artist=Diana Ross<br>Number=%{x}<br>listeners=%{y}<extra></extra>\",\"legendgroup\":\"Diana Ross\",\"marker\":{\"color\":\"#B6E880\",\"symbol\":\"circle\"},\"mode\":\"markers\",\"name\":\"Diana Ross\",\"orientation\":\"v\",\"showlegend\":true,\"type\":\"scatter\",\"x\":[394],\"xaxis\":\"x\",\"y\":[365901],\"yaxis\":\"y\"},{\"hovertemplate\":\"Artist=D'Angelo\\u00a0and\\u00a0The Vanguard<br>Number=%{x}<br>listeners=%{y}<extra></extra>\",\"legendgroup\":\"D'Angelo\\u00a0and\\u00a0The Vanguard\",\"marker\":{\"color\":\"#FF97FF\",\"symbol\":\"circle\"},\"mode\":\"markers\",\"name\":\"D'Angelo\\u00a0and\\u00a0The Vanguard\",\"orientation\":\"v\",\"showlegend\":true,\"type\":\"scatter\",\"x\":[395],\"xaxis\":\"x\",\"y\":[19319],\"yaxis\":\"y\"},{\"hovertemplate\":\"Artist=Todd Rundgren<br>Number=%{x}<br>listeners=%{y}<extra></extra>\",\"legendgroup\":\"Todd Rundgren\",\"marker\":{\"color\":\"#FECB52\",\"symbol\":\"circle\"},\"mode\":\"markers\",\"name\":\"Todd Rundgren\",\"orientation\":\"v\",\"showlegend\":true,\"type\":\"scatter\",\"x\":[396],\"xaxis\":\"x\",\"y\":[145436],\"yaxis\":\"y\"},{\"hovertemplate\":\"Artist=Billie Eilish<br>Number=%{x}<br>listeners=%{y}<extra></extra>\",\"legendgroup\":\"Billie Eilish\",\"marker\":{\"color\":\"#636efa\",\"symbol\":\"circle\"},\"mode\":\"markers\",\"name\":\"Billie Eilish\",\"orientation\":\"v\",\"showlegend\":true,\"type\":\"scatter\",\"x\":[397],\"xaxis\":\"x\",\"y\":[988943],\"yaxis\":\"y\"},{\"hovertemplate\":\"Artist=The Raincoats<br>Number=%{x}<br>listeners=%{y}<extra></extra>\",\"legendgroup\":\"The Raincoats\",\"marker\":{\"color\":\"#EF553B\",\"symbol\":\"circle\"},\"mode\":\"markers\",\"name\":\"The Raincoats\",\"orientation\":\"v\",\"showlegend\":true,\"type\":\"scatter\",\"x\":[398],\"xaxis\":\"x\",\"y\":[122469],\"yaxis\":\"y\"},{\"hovertemplate\":\"Artist=Brian Wilson<br>Number=%{x}<br>listeners=%{y}<extra></extra>\",\"legendgroup\":\"Brian Wilson\",\"marker\":{\"color\":\"#00cc96\",\"symbol\":\"circle\"},\"mode\":\"markers\",\"name\":\"Brian Wilson\",\"orientation\":\"v\",\"showlegend\":true,\"type\":\"scatter\",\"x\":[399],\"xaxis\":\"x\",\"y\":[142017],\"yaxis\":\"y\"},{\"hovertemplate\":\"Artist=The Go\\u2010Go's<br>Number=%{x}<br>listeners=%{y}<extra></extra>\",\"legendgroup\":\"The Go\\u2010Go's\",\"marker\":{\"color\":\"#ab63fa\",\"symbol\":\"circle\"},\"mode\":\"markers\",\"name\":\"The Go\\u2010Go's\",\"orientation\":\"v\",\"showlegend\":true,\"type\":\"scatter\",\"x\":[400],\"xaxis\":\"x\",\"y\":[17],\"yaxis\":\"y\"},{\"hovertemplate\":\"Artist=Fela Ransome Kuti\\u00a0&\\u00a0Africa 70<br>Number=%{x}<br>listeners=%{y}<extra></extra>\",\"legendgroup\":\"Fela Ransome Kuti\\u00a0&\\u00a0Africa 70\",\"marker\":{\"color\":\"#FFA15A\",\"symbol\":\"circle\"},\"mode\":\"markers\",\"name\":\"Fela Ransome Kuti\\u00a0&\\u00a0Africa 70\",\"orientation\":\"v\",\"showlegend\":true,\"type\":\"scatter\",\"x\":[402],\"xaxis\":\"x\",\"y\":[550],\"yaxis\":\"y\"},{\"hovertemplate\":\"Artist=Ghostface Killah<br>Number=%{x}<br>listeners=%{y}<extra></extra>\",\"legendgroup\":\"Ghostface Killah\",\"marker\":{\"color\":\"#19d3f3\",\"symbol\":\"circle\"},\"mode\":\"markers\",\"name\":\"Ghostface Killah\",\"orientation\":\"v\",\"showlegend\":true,\"type\":\"scatter\",\"x\":[403],\"xaxis\":\"x\",\"y\":[231657],\"yaxis\":\"y\"},{\"hovertemplate\":\"Artist=Anita Baker<br>Number=%{x}<br>listeners=%{y}<extra></extra>\",\"legendgroup\":\"Anita Baker\",\"marker\":{\"color\":\"#FF6692\",\"symbol\":\"circle\"},\"mode\":\"markers\",\"name\":\"Anita Baker\",\"orientation\":\"v\",\"showlegend\":true,\"type\":\"scatter\",\"x\":[404],\"xaxis\":\"x\",\"y\":[77818],\"yaxis\":\"y\"},{\"hovertemplate\":\"Artist=The Magnetic Fields<br>Number=%{x}<br>listeners=%{y}<extra></extra>\",\"legendgroup\":\"The Magnetic Fields\",\"marker\":{\"color\":\"#B6E880\",\"symbol\":\"circle\"},\"mode\":\"markers\",\"name\":\"The Magnetic Fields\",\"orientation\":\"v\",\"showlegend\":true,\"type\":\"scatter\",\"x\":[406],\"xaxis\":\"x\",\"y\":[314937],\"yaxis\":\"y\"},{\"hovertemplate\":\"Artist=Neil Young\\u00a0with\\u00a0Crazy Horse<br>Number=%{x}<br>listeners=%{y}<extra></extra>\",\"legendgroup\":\"Neil Young\\u00a0with\\u00a0Crazy Horse\",\"marker\":{\"color\":\"#FF97FF\",\"symbol\":\"circle\"},\"mode\":\"markers\",\"name\":\"Neil Young\\u00a0with\\u00a0Crazy Horse\",\"orientation\":\"v\",\"showlegend\":true,\"type\":\"scatter\",\"x\":[407],\"xaxis\":\"x\",\"y\":[1256],\"yaxis\":\"y\"},{\"hovertemplate\":\"Artist=Mot\\u00f6rhead<br>Number=%{x}<br>listeners=%{y}<extra></extra>\",\"legendgroup\":\"Mot\\u00f6rhead\",\"marker\":{\"color\":\"#FECB52\",\"symbol\":\"circle\"},\"mode\":\"markers\",\"name\":\"Mot\\u00f6rhead\",\"orientation\":\"v\",\"showlegend\":true,\"type\":\"scatter\",\"x\":[408],\"xaxis\":\"x\",\"y\":[519036],\"yaxis\":\"y\"},{\"hovertemplate\":\"Artist=Smokey Robinson and The Miracles<br>Number=%{x}<br>listeners=%{y}<extra></extra>\",\"legendgroup\":\"Smokey Robinson and The Miracles\",\"marker\":{\"color\":\"#636efa\",\"symbol\":\"circle\"},\"mode\":\"markers\",\"name\":\"Smokey Robinson and The Miracles\",\"orientation\":\"v\",\"showlegend\":true,\"type\":\"scatter\",\"x\":[412],\"xaxis\":\"x\",\"y\":[1],\"yaxis\":\"y\"},{\"hovertemplate\":\"Artist=Chic<br>Number=%{x}<br>listeners=%{y}<extra></extra>\",\"legendgroup\":\"Chic\",\"marker\":{\"color\":\"#EF553B\",\"symbol\":\"circle\"},\"mode\":\"markers\",\"name\":\"Chic\",\"orientation\":\"v\",\"showlegend\":true,\"type\":\"scatter\",\"x\":[414],\"xaxis\":\"x\",\"y\":[176421],\"yaxis\":\"y\"},{\"hovertemplate\":\"Artist=The Meters<br>Number=%{x}<br>listeners=%{y}<extra></extra>\",\"legendgroup\":\"The Meters\",\"marker\":{\"color\":\"#00cc96\",\"symbol\":\"circle\"},\"mode\":\"markers\",\"name\":\"The Meters\",\"orientation\":\"v\",\"showlegend\":true,\"type\":\"scatter\",\"x\":[415],\"xaxis\":\"x\",\"y\":[35304],\"yaxis\":\"y\"},{\"hovertemplate\":\"Artist=The Roots<br>Number=%{x}<br>listeners=%{y}<extra></extra>\",\"legendgroup\":\"The Roots\",\"marker\":{\"color\":\"#ab63fa\",\"symbol\":\"circle\"},\"mode\":\"markers\",\"name\":\"The Roots\",\"orientation\":\"v\",\"showlegend\":true,\"type\":\"scatter\",\"x\":[416],\"xaxis\":\"x\",\"y\":[373576],\"yaxis\":\"y\"},{\"hovertemplate\":\"Artist=Ornette Coleman<br>Number=%{x}<br>listeners=%{y}<extra></extra>\",\"legendgroup\":\"Ornette Coleman\",\"marker\":{\"color\":\"#FFA15A\",\"symbol\":\"circle\"},\"mode\":\"markers\",\"name\":\"Ornette Coleman\",\"orientation\":\"v\",\"showlegend\":true,\"type\":\"scatter\",\"x\":[417],\"xaxis\":\"x\",\"y\":[113173],\"yaxis\":\"y\"},{\"hovertemplate\":\"Artist=Dire Straits<br>Number=%{x}<br>listeners=%{y}<extra></extra>\",\"legendgroup\":\"Dire Straits\",\"marker\":{\"color\":\"#19d3f3\",\"symbol\":\"circle\"},\"mode\":\"markers\",\"name\":\"Dire Straits\",\"orientation\":\"v\",\"showlegend\":true,\"type\":\"scatter\",\"x\":[418],\"xaxis\":\"x\",\"y\":[955391],\"yaxis\":\"y\"},{\"hovertemplate\":\"Artist=Eric Church<br>Number=%{x}<br>listeners=%{y}<extra></extra>\",\"legendgroup\":\"Eric Church\",\"marker\":{\"color\":\"#FF6692\",\"symbol\":\"circle\"},\"mode\":\"markers\",\"name\":\"Eric Church\",\"orientation\":\"v\",\"showlegend\":true,\"type\":\"scatter\",\"x\":[419],\"xaxis\":\"x\",\"y\":[212659],\"yaxis\":\"y\"},{\"hovertemplate\":\"Artist=Earth, Wind & Fire<br>Number=%{x}<br>listeners=%{y}<extra></extra>\",\"legendgroup\":\"Earth, Wind & Fire\",\"marker\":{\"color\":\"#B6E880\",\"symbol\":\"circle\"},\"mode\":\"markers\",\"name\":\"Earth, Wind & Fire\",\"orientation\":\"v\",\"showlegend\":true,\"type\":\"scatter\",\"x\":[420],\"xaxis\":\"x\",\"y\":[141497],\"yaxis\":\"y\"},{\"hovertemplate\":\"Artist=M.I.A.<br>Number=%{x}<br>listeners=%{y}<extra></extra>\",\"legendgroup\":\"M.I.A.\",\"marker\":{\"color\":\"#FF97FF\",\"symbol\":\"circle\"},\"mode\":\"markers\",\"name\":\"M.I.A.\",\"orientation\":\"v\",\"showlegend\":true,\"type\":\"scatter\",\"x\":[421],\"xaxis\":\"x\",\"y\":[421769],\"yaxis\":\"y\"},{\"hovertemplate\":\"Artist=Yo La Tengo<br>Number=%{x}<br>listeners=%{y}<extra></extra>\",\"legendgroup\":\"Yo La Tengo\",\"marker\":{\"color\":\"#FECB52\",\"symbol\":\"circle\"},\"mode\":\"markers\",\"name\":\"Yo La Tengo\",\"orientation\":\"v\",\"showlegend\":true,\"type\":\"scatter\",\"x\":[423],\"xaxis\":\"x\",\"y\":[454076],\"yaxis\":\"y\"},{\"hovertemplate\":\"Artist=Beck<br>Number=%{x}<br>listeners=%{y}<extra></extra>\",\"legendgroup\":\"Beck\",\"marker\":{\"color\":\"#636efa\",\"symbol\":\"circle\"},\"mode\":\"markers\",\"name\":\"Beck\",\"orientation\":\"v\",\"showlegend\":true,\"type\":\"scatter\",\"x\":[424],\"xaxis\":\"x\",\"y\":[838770],\"yaxis\":\"y\"},{\"hovertemplate\":\"Artist=H\\u00fcsker D\\u00fc<br>Number=%{x}<br>listeners=%{y}<extra></extra>\",\"legendgroup\":\"H\\u00fcsker D\\u00fc\",\"marker\":{\"color\":\"#EF553B\",\"symbol\":\"circle\"},\"mode\":\"markers\",\"name\":\"H\\u00fcsker D\\u00fc\",\"orientation\":\"v\",\"showlegend\":true,\"type\":\"scatter\",\"x\":[428],\"xaxis\":\"x\",\"y\":[170209],\"yaxis\":\"y\"},{\"hovertemplate\":\"Artist=Four Tops<br>Number=%{x}<br>listeners=%{y}<extra></extra>\",\"legendgroup\":\"Four Tops\",\"marker\":{\"color\":\"#00cc96\",\"symbol\":\"circle\"},\"mode\":\"markers\",\"name\":\"Four Tops\",\"orientation\":\"v\",\"showlegend\":true,\"type\":\"scatter\",\"x\":[429],\"xaxis\":\"x\",\"y\":[19393],\"yaxis\":\"y\"},{\"hovertemplate\":\"Artist=Elvis Costello<br>Number=%{x}<br>listeners=%{y}<extra></extra>\",\"legendgroup\":\"Elvis Costello\",\"marker\":{\"color\":\"#ab63fa\",\"symbol\":\"circle\"},\"mode\":\"markers\",\"name\":\"Elvis Costello\",\"orientation\":\"v\",\"showlegend\":true,\"type\":\"scatter\",\"x\":[430],\"xaxis\":\"x\",\"y\":[382954],\"yaxis\":\"y\"},{\"hovertemplate\":\"Artist=Los Lobos<br>Number=%{x}<br>listeners=%{y}<extra></extra>\",\"legendgroup\":\"Los Lobos\",\"marker\":{\"color\":\"#FFA15A\",\"symbol\":\"circle\"},\"mode\":\"markers\",\"name\":\"Los Lobos\",\"orientation\":\"v\",\"showlegend\":true,\"type\":\"scatter\",\"x\":[431],\"xaxis\":\"x\",\"y\":[18318],\"yaxis\":\"y\"},{\"hovertemplate\":\"Artist=Usher<br>Number=%{x}<br>listeners=%{y}<extra></extra>\",\"legendgroup\":\"Usher\",\"marker\":{\"color\":\"#19d3f3\",\"symbol\":\"circle\"},\"mode\":\"markers\",\"name\":\"Usher\",\"orientation\":\"v\",\"showlegend\":true,\"type\":\"scatter\",\"x\":[432],\"xaxis\":\"x\",\"y\":[949202],\"yaxis\":\"y\"},{\"hovertemplate\":\"Artist=LCD Soundsystem<br>Number=%{x}<br>listeners=%{y}<extra></extra>\",\"legendgroup\":\"LCD Soundsystem\",\"marker\":{\"color\":\"#FF6692\",\"symbol\":\"circle\"},\"mode\":\"markers\",\"name\":\"LCD Soundsystem\",\"orientation\":\"v\",\"showlegend\":true,\"type\":\"scatter\",\"x\":[433],\"xaxis\":\"x\",\"y\":[1014845],\"yaxis\":\"y\"},{\"hovertemplate\":\"Artist=Pet Shop Boys<br>Number=%{x}<br>listeners=%{y}<extra></extra>\",\"legendgroup\":\"Pet Shop Boys\",\"marker\":{\"color\":\"#B6E880\",\"symbol\":\"circle\"},\"mode\":\"markers\",\"name\":\"Pet Shop Boys\",\"orientation\":\"v\",\"showlegend\":true,\"type\":\"scatter\",\"x\":[435],\"xaxis\":\"x\",\"y\":[198485],\"yaxis\":\"y\"},{\"hovertemplate\":\"Artist=2Pac<br>Number=%{x}<br>listeners=%{y}<extra></extra>\",\"legendgroup\":\"2Pac\",\"marker\":{\"color\":\"#FF97FF\",\"symbol\":\"circle\"},\"mode\":\"markers\",\"name\":\"2Pac\",\"orientation\":\"v\",\"showlegend\":true,\"type\":\"scatter\",\"x\":[436],\"xaxis\":\"x\",\"y\":[656831],\"yaxis\":\"y\"},{\"hovertemplate\":\"Artist=Primal Scream<br>Number=%{x}<br>listeners=%{y}<extra></extra>\",\"legendgroup\":\"Primal Scream\",\"marker\":{\"color\":\"#FECB52\",\"symbol\":\"circle\"},\"mode\":\"markers\",\"name\":\"Primal Scream\",\"orientation\":\"v\",\"showlegend\":true,\"type\":\"scatter\",\"x\":[437],\"xaxis\":\"x\",\"y\":[504825],\"yaxis\":\"y\"},{\"hovertemplate\":\"Artist=Blur<br>Number=%{x}<br>listeners=%{y}<extra></extra>\",\"legendgroup\":\"Blur\",\"marker\":{\"color\":\"#636efa\",\"symbol\":\"circle\"},\"mode\":\"markers\",\"name\":\"Blur\",\"orientation\":\"v\",\"showlegend\":true,\"type\":\"scatter\",\"x\":[438],\"xaxis\":\"x\",\"y\":[791348],\"yaxis\":\"y\"},{\"hovertemplate\":\"Artist=Loretta Lynn<br>Number=%{x}<br>listeners=%{y}<extra></extra>\",\"legendgroup\":\"Loretta Lynn\",\"marker\":{\"color\":\"#EF553B\",\"symbol\":\"circle\"},\"mode\":\"markers\",\"name\":\"Loretta Lynn\",\"orientation\":\"v\",\"showlegend\":true,\"type\":\"scatter\",\"x\":[440],\"xaxis\":\"x\",\"y\":[24546],\"yaxis\":\"y\"},{\"hovertemplate\":\"Artist=Britney Spears<br>Number=%{x}<br>listeners=%{y}<extra></extra>\",\"legendgroup\":\"Britney Spears\",\"marker\":{\"color\":\"#00cc96\",\"symbol\":\"circle\"},\"mode\":\"markers\",\"name\":\"Britney Spears\",\"orientation\":\"v\",\"showlegend\":true,\"type\":\"scatter\",\"x\":[441],\"xaxis\":\"x\",\"y\":[899139],\"yaxis\":\"y\"},{\"hovertemplate\":\"Artist=The Weeknd<br>Number=%{x}<br>listeners=%{y}<extra></extra>\",\"legendgroup\":\"The Weeknd\",\"marker\":{\"color\":\"#ab63fa\",\"symbol\":\"circle\"},\"mode\":\"markers\",\"name\":\"The Weeknd\",\"orientation\":\"v\",\"showlegend\":true,\"type\":\"scatter\",\"x\":[442],\"xaxis\":\"x\",\"y\":[999775],\"yaxis\":\"y\"},{\"hovertemplate\":\"Artist=Yes<br>Number=%{x}<br>listeners=%{y}<extra></extra>\",\"legendgroup\":\"Yes\",\"marker\":{\"color\":\"#FFA15A\",\"symbol\":\"circle\"},\"mode\":\"markers\",\"name\":\"Yes\",\"orientation\":\"v\",\"showlegend\":true,\"type\":\"scatter\",\"x\":[445],\"xaxis\":\"x\",\"y\":[124389],\"yaxis\":\"y\"},{\"hovertemplate\":\"Artist=Alice Coltrane<br>Number=%{x}<br>listeners=%{y}<extra></extra>\",\"legendgroup\":\"Alice Coltrane\",\"marker\":{\"color\":\"#19d3f3\",\"symbol\":\"circle\"},\"mode\":\"markers\",\"name\":\"Alice Coltrane\",\"orientation\":\"v\",\"showlegend\":true,\"type\":\"scatter\",\"x\":[446],\"xaxis\":\"x\",\"y\":[95959],\"yaxis\":\"y\"},{\"hovertemplate\":\"Artist=Bad Bunny<br>Number=%{x}<br>listeners=%{y}<extra></extra>\",\"legendgroup\":\"Bad Bunny\",\"marker\":{\"color\":\"#FF6692\",\"symbol\":\"circle\"},\"mode\":\"markers\",\"name\":\"Bad Bunny\",\"orientation\":\"v\",\"showlegend\":true,\"type\":\"scatter\",\"x\":[447],\"xaxis\":\"x\",\"y\":[132147],\"yaxis\":\"y\"},{\"hovertemplate\":\"Artist=The White Stripes<br>Number=%{x}<br>listeners=%{y}<extra></extra>\",\"legendgroup\":\"The White Stripes\",\"marker\":{\"color\":\"#B6E880\",\"symbol\":\"circle\"},\"mode\":\"markers\",\"name\":\"The White Stripes\",\"orientation\":\"v\",\"showlegend\":true,\"type\":\"scatter\",\"x\":[449],\"xaxis\":\"x\",\"y\":[1867563],\"yaxis\":\"y\"},{\"hovertemplate\":\"Artist=Paul\\u00a0&\\u00a0Linda McCartney<br>Number=%{x}<br>listeners=%{y}<extra></extra>\",\"legendgroup\":\"Paul\\u00a0&\\u00a0Linda McCartney\",\"marker\":{\"color\":\"#FF97FF\",\"symbol\":\"circle\"},\"mode\":\"markers\",\"name\":\"Paul\\u00a0&\\u00a0Linda McCartney\",\"orientation\":\"v\",\"showlegend\":true,\"type\":\"scatter\",\"x\":[450],\"xaxis\":\"x\",\"y\":[23236],\"yaxis\":\"y\"},{\"hovertemplate\":\"Artist=Roberta Flack<br>Number=%{x}<br>listeners=%{y}<extra></extra>\",\"legendgroup\":\"Roberta Flack\",\"marker\":{\"color\":\"#FECB52\",\"symbol\":\"circle\"},\"mode\":\"markers\",\"name\":\"Roberta Flack\",\"orientation\":\"v\",\"showlegend\":true,\"type\":\"scatter\",\"x\":[451],\"xaxis\":\"x\",\"y\":[110499],\"yaxis\":\"y\"},{\"hovertemplate\":\"Artist=Diana Ross & The Supremes<br>Number=%{x}<br>listeners=%{y}<extra></extra>\",\"legendgroup\":\"Diana Ross & The Supremes\",\"marker\":{\"color\":\"#636efa\",\"symbol\":\"circle\"},\"mode\":\"markers\",\"name\":\"Diana Ross & The Supremes\",\"orientation\":\"v\",\"showlegend\":true,\"type\":\"scatter\",\"x\":[452],\"xaxis\":\"x\",\"y\":[2608],\"yaxis\":\"y\"},{\"hovertemplate\":\"Artist=Can<br>Number=%{x}<br>listeners=%{y}<extra></extra>\",\"legendgroup\":\"Can\",\"marker\":{\"color\":\"#EF553B\",\"symbol\":\"circle\"},\"mode\":\"markers\",\"name\":\"Can\",\"orientation\":\"v\",\"showlegend\":true,\"type\":\"scatter\",\"x\":[454],\"xaxis\":\"x\",\"y\":[146359],\"yaxis\":\"y\"},{\"hovertemplate\":\"Artist=Bo Diddley<br>Number=%{x}<br>listeners=%{y}<extra></extra>\",\"legendgroup\":\"Bo Diddley\",\"marker\":{\"color\":\"#00cc96\",\"symbol\":\"circle\"},\"mode\":\"markers\",\"name\":\"Bo Diddley\",\"orientation\":\"v\",\"showlegend\":true,\"type\":\"scatter\",\"x\":[455],\"xaxis\":\"x\",\"y\":[1115],\"yaxis\":\"y\"},{\"hovertemplate\":\"Artist=Sin\\u00e9ad O'Connor<br>Number=%{x}<br>listeners=%{y}<extra></extra>\",\"legendgroup\":\"Sin\\u00e9ad O'Connor\",\"marker\":{\"color\":\"#ab63fa\",\"symbol\":\"circle\"},\"mode\":\"markers\",\"name\":\"Sin\\u00e9ad O'Connor\",\"orientation\":\"v\",\"showlegend\":true,\"type\":\"scatter\",\"x\":[457],\"xaxis\":\"x\",\"y\":[424620],\"yaxis\":\"y\"},{\"hovertemplate\":\"Artist=Jason Isbell<br>Number=%{x}<br>listeners=%{y}<extra></extra>\",\"legendgroup\":\"Jason Isbell\",\"marker\":{\"color\":\"#FFA15A\",\"symbol\":\"circle\"},\"mode\":\"markers\",\"name\":\"Jason Isbell\",\"orientation\":\"v\",\"showlegend\":true,\"type\":\"scatter\",\"x\":[458],\"xaxis\":\"x\",\"y\":[96544],\"yaxis\":\"y\"},{\"hovertemplate\":\"Artist=Kid Cudi<br>Number=%{x}<br>listeners=%{y}<extra></extra>\",\"legendgroup\":\"Kid Cudi\",\"marker\":{\"color\":\"#19d3f3\",\"symbol\":\"circle\"},\"mode\":\"markers\",\"name\":\"Kid Cudi\",\"orientation\":\"v\",\"showlegend\":true,\"type\":\"scatter\",\"x\":[459],\"xaxis\":\"x\",\"y\":[1147230],\"yaxis\":\"y\"},{\"hovertemplate\":\"Artist=Lorde<br>Number=%{x}<br>listeners=%{y}<extra></extra>\",\"legendgroup\":\"Lorde\",\"marker\":{\"color\":\"#FF6692\",\"symbol\":\"circle\"},\"mode\":\"markers\",\"name\":\"Lorde\",\"orientation\":\"v\",\"showlegend\":true,\"type\":\"scatter\",\"x\":[460],\"xaxis\":\"x\",\"y\":[723486],\"yaxis\":\"y\"},{\"hovertemplate\":\"Artist=Bon Iver<br>Number=%{x}<br>listeners=%{y}<extra></extra>\",\"legendgroup\":\"Bon Iver\",\"marker\":{\"color\":\"#B6E880\",\"symbol\":\"circle\"},\"mode\":\"markers\",\"name\":\"Bon Iver\",\"orientation\":\"v\",\"showlegend\":true,\"type\":\"scatter\",\"x\":[461],\"xaxis\":\"x\",\"y\":[35328],\"yaxis\":\"y\"},{\"hovertemplate\":\"Artist=The Flying Burrito Bros.<br>Number=%{x}<br>listeners=%{y}<extra></extra>\",\"legendgroup\":\"The Flying Burrito Bros.\",\"marker\":{\"color\":\"#FF97FF\",\"symbol\":\"circle\"},\"mode\":\"markers\",\"name\":\"The Flying Burrito Bros.\",\"orientation\":\"v\",\"showlegend\":true,\"type\":\"scatter\",\"x\":[462],\"xaxis\":\"x\",\"y\":[8],\"yaxis\":\"y\"},{\"hovertemplate\":\"Artist=Laura Nyro<br>Number=%{x}<br>listeners=%{y}<extra></extra>\",\"legendgroup\":\"Laura Nyro\",\"marker\":{\"color\":\"#FECB52\",\"symbol\":\"circle\"},\"mode\":\"markers\",\"name\":\"Laura Nyro\",\"orientation\":\"v\",\"showlegend\":true,\"type\":\"scatter\",\"x\":[463],\"xaxis\":\"x\",\"y\":[60580],\"yaxis\":\"y\"},{\"hovertemplate\":\"Artist=The Isley Brothers<br>Number=%{x}<br>listeners=%{y}<extra></extra>\",\"legendgroup\":\"The Isley Brothers\",\"marker\":{\"color\":\"#636efa\",\"symbol\":\"circle\"},\"mode\":\"markers\",\"name\":\"The Isley Brothers\",\"orientation\":\"v\",\"showlegend\":true,\"type\":\"scatter\",\"x\":[464],\"xaxis\":\"x\",\"y\":[495],\"yaxis\":\"y\"},{\"hovertemplate\":\"Artist=King Sunny Ad\\u00e9<br>Number=%{x}<br>listeners=%{y}<extra></extra>\",\"legendgroup\":\"King Sunny Ad\\u00e9\",\"marker\":{\"color\":\"#EF553B\",\"symbol\":\"circle\"},\"mode\":\"markers\",\"name\":\"King Sunny Ad\\u00e9\",\"orientation\":\"v\",\"showlegend\":true,\"type\":\"scatter\",\"x\":[465],\"xaxis\":\"x\",\"y\":[115],\"yaxis\":\"y\"},{\"hovertemplate\":\"Artist=Maxwell<br>Number=%{x}<br>listeners=%{y}<extra></extra>\",\"legendgroup\":\"Maxwell\",\"marker\":{\"color\":\"#00cc96\",\"symbol\":\"circle\"},\"mode\":\"markers\",\"name\":\"Maxwell\",\"orientation\":\"v\",\"showlegend\":true,\"type\":\"scatter\",\"x\":[467],\"xaxis\":\"x\",\"y\":[150793],\"yaxis\":\"y\"},{\"hovertemplate\":\"Artist=Manu Chao<br>Number=%{x}<br>listeners=%{y}<extra></extra>\",\"legendgroup\":\"Manu Chao\",\"marker\":{\"color\":\"#ab63fa\",\"symbol\":\"circle\"},\"mode\":\"markers\",\"name\":\"Manu Chao\",\"orientation\":\"v\",\"showlegend\":true,\"type\":\"scatter\",\"x\":[469],\"xaxis\":\"x\",\"y\":[606734],\"yaxis\":\"y\"},{\"hovertemplate\":\"Artist=Juvenile<br>Number=%{x}<br>listeners=%{y}<extra></extra>\",\"legendgroup\":\"Juvenile\",\"marker\":{\"color\":\"#FFA15A\",\"symbol\":\"circle\"},\"mode\":\"markers\",\"name\":\"Juvenile\",\"orientation\":\"v\",\"showlegend\":true,\"type\":\"scatter\",\"x\":[470],\"xaxis\":\"x\",\"y\":[110210],\"yaxis\":\"y\"},{\"hovertemplate\":\"Artist=Jefferson Airplane<br>Number=%{x}<br>listeners=%{y}<extra></extra>\",\"legendgroup\":\"Jefferson Airplane\",\"marker\":{\"color\":\"#19d3f3\",\"symbol\":\"circle\"},\"mode\":\"markers\",\"name\":\"Jefferson Airplane\",\"orientation\":\"v\",\"showlegend\":true,\"type\":\"scatter\",\"x\":[471],\"xaxis\":\"x\",\"y\":[1086712],\"yaxis\":\"y\"},{\"hovertemplate\":\"Artist=SZA<br>Number=%{x}<br>listeners=%{y}<extra></extra>\",\"legendgroup\":\"SZA\",\"marker\":{\"color\":\"#FF6692\",\"symbol\":\"circle\"},\"mode\":\"markers\",\"name\":\"SZA\",\"orientation\":\"v\",\"showlegend\":true,\"type\":\"scatter\",\"x\":[472],\"xaxis\":\"x\",\"y\":[625222],\"yaxis\":\"y\"},{\"hovertemplate\":\"Artist=Daddy Yankee<br>Number=%{x}<br>listeners=%{y}<extra></extra>\",\"legendgroup\":\"Daddy Yankee\",\"marker\":{\"color\":\"#B6E880\",\"symbol\":\"circle\"},\"mode\":\"markers\",\"name\":\"Daddy Yankee\",\"orientation\":\"v\",\"showlegend\":true,\"type\":\"scatter\",\"x\":[473],\"xaxis\":\"x\",\"y\":[199524],\"yaxis\":\"y\"},{\"hovertemplate\":\"Artist=Sheryl Crow<br>Number=%{x}<br>listeners=%{y}<extra></extra>\",\"legendgroup\":\"Sheryl Crow\",\"marker\":{\"color\":\"#FF97FF\",\"symbol\":\"circle\"},\"mode\":\"markers\",\"name\":\"Sheryl Crow\",\"orientation\":\"v\",\"showlegend\":true,\"type\":\"scatter\",\"x\":[475],\"xaxis\":\"x\",\"y\":[376268],\"yaxis\":\"y\"},{\"hovertemplate\":\"Artist=Sparks<br>Number=%{x}<br>listeners=%{y}<extra></extra>\",\"legendgroup\":\"Sparks\",\"marker\":{\"color\":\"#FECB52\",\"symbol\":\"circle\"},\"mode\":\"markers\",\"name\":\"Sparks\",\"orientation\":\"v\",\"showlegend\":true,\"type\":\"scatter\",\"x\":[476],\"xaxis\":\"x\",\"y\":[143669],\"yaxis\":\"y\"},{\"hovertemplate\":\"Artist=Howlin' Wolf<br>Number=%{x}<br>listeners=%{y}<extra></extra>\",\"legendgroup\":\"Howlin' Wolf\",\"marker\":{\"color\":\"#636efa\",\"symbol\":\"circle\"},\"mode\":\"markers\",\"name\":\"Howlin' Wolf\",\"orientation\":\"v\",\"showlegend\":true,\"type\":\"scatter\",\"x\":[477],\"xaxis\":\"x\",\"y\":[93028],\"yaxis\":\"y\"},{\"hovertemplate\":\"Artist=Selena<br>Number=%{x}<br>listeners=%{y}<extra></extra>\",\"legendgroup\":\"Selena\",\"marker\":{\"color\":\"#EF553B\",\"symbol\":\"circle\"},\"mode\":\"markers\",\"name\":\"Selena\",\"orientation\":\"v\",\"showlegend\":true,\"type\":\"scatter\",\"x\":[479],\"xaxis\":\"x\",\"y\":[105113],\"yaxis\":\"y\"},{\"hovertemplate\":\"Artist=Miranda Lambert<br>Number=%{x}<br>listeners=%{y}<extra></extra>\",\"legendgroup\":\"Miranda Lambert\",\"marker\":{\"color\":\"#00cc96\",\"symbol\":\"circle\"},\"mode\":\"markers\",\"name\":\"Miranda Lambert\",\"orientation\":\"v\",\"showlegend\":true,\"type\":\"scatter\",\"x\":[480],\"xaxis\":\"x\",\"y\":[42822],\"yaxis\":\"y\"},{\"hovertemplate\":\"Artist=Belle and Sebastian<br>Number=%{x}<br>listeners=%{y}<extra></extra>\",\"legendgroup\":\"Belle and Sebastian\",\"marker\":{\"color\":\"#ab63fa\",\"symbol\":\"circle\"},\"mode\":\"markers\",\"name\":\"Belle and Sebastian\",\"orientation\":\"v\",\"showlegend\":true,\"type\":\"scatter\",\"x\":[481],\"xaxis\":\"x\",\"y\":[416798],\"yaxis\":\"y\"},{\"hovertemplate\":\"Artist=The Pharcyde<br>Number=%{x}<br>listeners=%{y}<extra></extra>\",\"legendgroup\":\"The Pharcyde\",\"marker\":{\"color\":\"#FFA15A\",\"symbol\":\"circle\"},\"mode\":\"markers\",\"name\":\"The Pharcyde\",\"orientation\":\"v\",\"showlegend\":true,\"type\":\"scatter\",\"x\":[482],\"xaxis\":\"x\",\"y\":[476358],\"yaxis\":\"y\"},{\"hovertemplate\":\"Artist=Muddy Waters<br>Number=%{x}<br>listeners=%{y}<extra></extra>\",\"legendgroup\":\"Muddy Waters\",\"marker\":{\"color\":\"#19d3f3\",\"symbol\":\"circle\"},\"mode\":\"markers\",\"name\":\"Muddy Waters\",\"orientation\":\"v\",\"showlegend\":true,\"type\":\"scatter\",\"x\":[483],\"xaxis\":\"x\",\"y\":[9592],\"yaxis\":\"y\"},{\"hovertemplate\":\"Artist=Lady Gaga<br>Number=%{x}<br>listeners=%{y}<extra></extra>\",\"legendgroup\":\"Lady Gaga\",\"marker\":{\"color\":\"#FF6692\",\"symbol\":\"circle\"},\"mode\":\"markers\",\"name\":\"Lady Gaga\",\"orientation\":\"v\",\"showlegend\":true,\"type\":\"scatter\",\"x\":[484],\"xaxis\":\"x\",\"y\":[749058],\"yaxis\":\"y\"},{\"hovertemplate\":\"Artist=Richard & Linda Thompson<br>Number=%{x}<br>listeners=%{y}<extra></extra>\",\"legendgroup\":\"Richard & Linda Thompson\",\"marker\":{\"color\":\"#B6E880\",\"symbol\":\"circle\"},\"mode\":\"markers\",\"name\":\"Richard & Linda Thompson\",\"orientation\":\"v\",\"showlegend\":true,\"type\":\"scatter\",\"x\":[485],\"xaxis\":\"x\",\"y\":[62808],\"yaxis\":\"y\"},{\"hovertemplate\":\"Artist=John Mayer<br>Number=%{x}<br>listeners=%{y}<extra></extra>\",\"legendgroup\":\"John Mayer\",\"marker\":{\"color\":\"#FF97FF\",\"symbol\":\"circle\"},\"mode\":\"markers\",\"name\":\"John Mayer\",\"orientation\":\"v\",\"showlegend\":true,\"type\":\"scatter\",\"x\":[486],\"xaxis\":\"x\",\"y\":[1374162],\"yaxis\":\"y\"},{\"hovertemplate\":\"Artist=Black Flag<br>Number=%{x}<br>listeners=%{y}<extra></extra>\",\"legendgroup\":\"Black Flag\",\"marker\":{\"color\":\"#FECB52\",\"symbol\":\"circle\"},\"mode\":\"markers\",\"name\":\"Black Flag\",\"orientation\":\"v\",\"showlegend\":true,\"type\":\"scatter\",\"x\":[487],\"xaxis\":\"x\",\"y\":[460818],\"yaxis\":\"y\"},{\"hovertemplate\":\"Artist=Phil Spector<br>Number=%{x}<br>listeners=%{y}<extra></extra>\",\"legendgroup\":\"Phil Spector\",\"marker\":{\"color\":\"#636efa\",\"symbol\":\"circle\"},\"mode\":\"markers\",\"name\":\"Phil Spector\",\"orientation\":\"v\",\"showlegend\":true,\"type\":\"scatter\",\"x\":[489],\"xaxis\":\"x\",\"y\":[182],\"yaxis\":\"y\"},{\"hovertemplate\":\"Artist=Linda Ronstadt<br>Number=%{x}<br>listeners=%{y}<extra></extra>\",\"legendgroup\":\"Linda Ronstadt\",\"marker\":{\"color\":\"#EF553B\",\"symbol\":\"circle\"},\"mode\":\"markers\",\"name\":\"Linda Ronstadt\",\"orientation\":\"v\",\"showlegend\":true,\"type\":\"scatter\",\"x\":[490],\"xaxis\":\"x\",\"y\":[75076],\"yaxis\":\"y\"},{\"hovertemplate\":\"Artist=Harry Styles<br>Number=%{x}<br>listeners=%{y}<extra></extra>\",\"legendgroup\":\"Harry Styles\",\"marker\":{\"color\":\"#00cc96\",\"symbol\":\"circle\"},\"mode\":\"markers\",\"name\":\"Harry Styles\",\"orientation\":\"v\",\"showlegend\":true,\"type\":\"scatter\",\"x\":[491],\"xaxis\":\"x\",\"y\":[801710],\"yaxis\":\"y\"},{\"hovertemplate\":\"Artist=Bonnie Raitt<br>Number=%{x}<br>listeners=%{y}<extra></extra>\",\"legendgroup\":\"Bonnie Raitt\",\"marker\":{\"color\":\"#ab63fa\",\"symbol\":\"circle\"},\"mode\":\"markers\",\"name\":\"Bonnie Raitt\",\"orientation\":\"v\",\"showlegend\":true,\"type\":\"scatter\",\"x\":[492],\"xaxis\":\"x\",\"y\":[111120],\"yaxis\":\"y\"},{\"hovertemplate\":\"Artist=The Ronettes<br>Number=%{x}<br>listeners=%{y}<extra></extra>\",\"legendgroup\":\"The Ronettes\",\"marker\":{\"color\":\"#FFA15A\",\"symbol\":\"circle\"},\"mode\":\"markers\",\"name\":\"The Ronettes\",\"orientation\":\"v\",\"showlegend\":true,\"type\":\"scatter\",\"x\":[494],\"xaxis\":\"x\",\"y\":[55376],\"yaxis\":\"y\"},{\"hovertemplate\":\"Artist=Boyz II Men<br>Number=%{x}<br>listeners=%{y}<extra></extra>\",\"legendgroup\":\"Boyz II Men\",\"marker\":{\"color\":\"#19d3f3\",\"symbol\":\"circle\"},\"mode\":\"markers\",\"name\":\"Boyz II Men\",\"orientation\":\"v\",\"showlegend\":true,\"type\":\"scatter\",\"x\":[495],\"xaxis\":\"x\",\"y\":[305361],\"yaxis\":\"y\"},{\"hovertemplate\":\"Artist=Shakira<br>Number=%{x}<br>listeners=%{y}<extra></extra>\",\"legendgroup\":\"Shakira\",\"marker\":{\"color\":\"#FF6692\",\"symbol\":\"circle\"},\"mode\":\"markers\",\"name\":\"Shakira\",\"orientation\":\"v\",\"showlegend\":true,\"type\":\"scatter\",\"x\":[496],\"xaxis\":\"x\",\"y\":[11475],\"yaxis\":\"y\"},{\"hovertemplate\":\"Artist=Suicide<br>Number=%{x}<br>listeners=%{y}<extra></extra>\",\"legendgroup\":\"Suicide\",\"marker\":{\"color\":\"#B6E880\",\"symbol\":\"circle\"},\"mode\":\"markers\",\"name\":\"Suicide\",\"orientation\":\"v\",\"showlegend\":true,\"type\":\"scatter\",\"x\":[498],\"xaxis\":\"x\",\"y\":[144580],\"yaxis\":\"y\"},{\"hovertemplate\":\"Artist=Rufus<br>Number=%{x}<br>listeners=%{y}<extra></extra>\",\"legendgroup\":\"Rufus\",\"marker\":{\"color\":\"#FF97FF\",\"symbol\":\"circle\"},\"mode\":\"markers\",\"name\":\"Rufus\",\"orientation\":\"v\",\"showlegend\":true,\"type\":\"scatter\",\"x\":[499],\"xaxis\":\"x\",\"y\":[8896],\"yaxis\":\"y\"},{\"hovertemplate\":\"Artist=Arcade Fire<br>Number=%{x}<br>listeners=%{y}<extra></extra>\",\"legendgroup\":\"Arcade Fire\",\"marker\":{\"color\":\"#FECB52\",\"symbol\":\"circle\"},\"mode\":\"markers\",\"name\":\"Arcade Fire\",\"orientation\":\"v\",\"showlegend\":true,\"type\":\"scatter\",\"x\":[500],\"xaxis\":\"x\",\"y\":[1516119],\"yaxis\":\"y\"}],                        {\"legend\":{\"title\":{\"text\":\"Artist\"},\"tracegroupgap\":0},\"template\":{\"data\":{\"bar\":[{\"error_x\":{\"color\":\"#2a3f5f\"},\"error_y\":{\"color\":\"#2a3f5f\"},\"marker\":{\"line\":{\"color\":\"#E5ECF6\",\"width\":0.5},\"pattern\":{\"fillmode\":\"overlay\",\"size\":10,\"solidity\":0.2}},\"type\":\"bar\"}],\"barpolar\":[{\"marker\":{\"line\":{\"color\":\"#E5ECF6\",\"width\":0.5},\"pattern\":{\"fillmode\":\"overlay\",\"size\":10,\"solidity\":0.2}},\"type\":\"barpolar\"}],\"carpet\":[{\"aaxis\":{\"endlinecolor\":\"#2a3f5f\",\"gridcolor\":\"white\",\"linecolor\":\"white\",\"minorgridcolor\":\"white\",\"startlinecolor\":\"#2a3f5f\"},\"baxis\":{\"endlinecolor\":\"#2a3f5f\",\"gridcolor\":\"white\",\"linecolor\":\"white\",\"minorgridcolor\":\"white\",\"startlinecolor\":\"#2a3f5f\"},\"type\":\"carpet\"}],\"choropleth\":[{\"colorbar\":{\"outlinewidth\":0,\"ticks\":\"\"},\"type\":\"choropleth\"}],\"contour\":[{\"colorbar\":{\"outlinewidth\":0,\"ticks\":\"\"},\"colorscale\":[[0.0,\"#0d0887\"],[0.1111111111111111,\"#46039f\"],[0.2222222222222222,\"#7201a8\"],[0.3333333333333333,\"#9c179e\"],[0.4444444444444444,\"#bd3786\"],[0.5555555555555556,\"#d8576b\"],[0.6666666666666666,\"#ed7953\"],[0.7777777777777778,\"#fb9f3a\"],[0.8888888888888888,\"#fdca26\"],[1.0,\"#f0f921\"]],\"type\":\"contour\"}],\"contourcarpet\":[{\"colorbar\":{\"outlinewidth\":0,\"ticks\":\"\"},\"type\":\"contourcarpet\"}],\"heatmap\":[{\"colorbar\":{\"outlinewidth\":0,\"ticks\":\"\"},\"colorscale\":[[0.0,\"#0d0887\"],[0.1111111111111111,\"#46039f\"],[0.2222222222222222,\"#7201a8\"],[0.3333333333333333,\"#9c179e\"],[0.4444444444444444,\"#bd3786\"],[0.5555555555555556,\"#d8576b\"],[0.6666666666666666,\"#ed7953\"],[0.7777777777777778,\"#fb9f3a\"],[0.8888888888888888,\"#fdca26\"],[1.0,\"#f0f921\"]],\"type\":\"heatmap\"}],\"heatmapgl\":[{\"colorbar\":{\"outlinewidth\":0,\"ticks\":\"\"},\"colorscale\":[[0.0,\"#0d0887\"],[0.1111111111111111,\"#46039f\"],[0.2222222222222222,\"#7201a8\"],[0.3333333333333333,\"#9c179e\"],[0.4444444444444444,\"#bd3786\"],[0.5555555555555556,\"#d8576b\"],[0.6666666666666666,\"#ed7953\"],[0.7777777777777778,\"#fb9f3a\"],[0.8888888888888888,\"#fdca26\"],[1.0,\"#f0f921\"]],\"type\":\"heatmapgl\"}],\"histogram\":[{\"marker\":{\"pattern\":{\"fillmode\":\"overlay\",\"size\":10,\"solidity\":0.2}},\"type\":\"histogram\"}],\"histogram2d\":[{\"colorbar\":{\"outlinewidth\":0,\"ticks\":\"\"},\"colorscale\":[[0.0,\"#0d0887\"],[0.1111111111111111,\"#46039f\"],[0.2222222222222222,\"#7201a8\"],[0.3333333333333333,\"#9c179e\"],[0.4444444444444444,\"#bd3786\"],[0.5555555555555556,\"#d8576b\"],[0.6666666666666666,\"#ed7953\"],[0.7777777777777778,\"#fb9f3a\"],[0.8888888888888888,\"#fdca26\"],[1.0,\"#f0f921\"]],\"type\":\"histogram2d\"}],\"histogram2dcontour\":[{\"colorbar\":{\"outlinewidth\":0,\"ticks\":\"\"},\"colorscale\":[[0.0,\"#0d0887\"],[0.1111111111111111,\"#46039f\"],[0.2222222222222222,\"#7201a8\"],[0.3333333333333333,\"#9c179e\"],[0.4444444444444444,\"#bd3786\"],[0.5555555555555556,\"#d8576b\"],[0.6666666666666666,\"#ed7953\"],[0.7777777777777778,\"#fb9f3a\"],[0.8888888888888888,\"#fdca26\"],[1.0,\"#f0f921\"]],\"type\":\"histogram2dcontour\"}],\"mesh3d\":[{\"colorbar\":{\"outlinewidth\":0,\"ticks\":\"\"},\"type\":\"mesh3d\"}],\"parcoords\":[{\"line\":{\"colorbar\":{\"outlinewidth\":0,\"ticks\":\"\"}},\"type\":\"parcoords\"}],\"pie\":[{\"automargin\":true,\"type\":\"pie\"}],\"scatter\":[{\"marker\":{\"colorbar\":{\"outlinewidth\":0,\"ticks\":\"\"}},\"type\":\"scatter\"}],\"scatter3d\":[{\"line\":{\"colorbar\":{\"outlinewidth\":0,\"ticks\":\"\"}},\"marker\":{\"colorbar\":{\"outlinewidth\":0,\"ticks\":\"\"}},\"type\":\"scatter3d\"}],\"scattercarpet\":[{\"marker\":{\"colorbar\":{\"outlinewidth\":0,\"ticks\":\"\"}},\"type\":\"scattercarpet\"}],\"scattergeo\":[{\"marker\":{\"colorbar\":{\"outlinewidth\":0,\"ticks\":\"\"}},\"type\":\"scattergeo\"}],\"scattergl\":[{\"marker\":{\"colorbar\":{\"outlinewidth\":0,\"ticks\":\"\"}},\"type\":\"scattergl\"}],\"scattermapbox\":[{\"marker\":{\"colorbar\":{\"outlinewidth\":0,\"ticks\":\"\"}},\"type\":\"scattermapbox\"}],\"scatterpolar\":[{\"marker\":{\"colorbar\":{\"outlinewidth\":0,\"ticks\":\"\"}},\"type\":\"scatterpolar\"}],\"scatterpolargl\":[{\"marker\":{\"colorbar\":{\"outlinewidth\":0,\"ticks\":\"\"}},\"type\":\"scatterpolargl\"}],\"scatterternary\":[{\"marker\":{\"colorbar\":{\"outlinewidth\":0,\"ticks\":\"\"}},\"type\":\"scatterternary\"}],\"surface\":[{\"colorbar\":{\"outlinewidth\":0,\"ticks\":\"\"},\"colorscale\":[[0.0,\"#0d0887\"],[0.1111111111111111,\"#46039f\"],[0.2222222222222222,\"#7201a8\"],[0.3333333333333333,\"#9c179e\"],[0.4444444444444444,\"#bd3786\"],[0.5555555555555556,\"#d8576b\"],[0.6666666666666666,\"#ed7953\"],[0.7777777777777778,\"#fb9f3a\"],[0.8888888888888888,\"#fdca26\"],[1.0,\"#f0f921\"]],\"type\":\"surface\"}],\"table\":[{\"cells\":{\"fill\":{\"color\":\"#EBF0F8\"},\"line\":{\"color\":\"white\"}},\"header\":{\"fill\":{\"color\":\"#C8D4E3\"},\"line\":{\"color\":\"white\"}},\"type\":\"table\"}]},\"layout\":{\"annotationdefaults\":{\"arrowcolor\":\"#2a3f5f\",\"arrowhead\":0,\"arrowwidth\":1},\"autotypenumbers\":\"strict\",\"coloraxis\":{\"colorbar\":{\"outlinewidth\":0,\"ticks\":\"\"}},\"colorscale\":{\"diverging\":[[0,\"#8e0152\"],[0.1,\"#c51b7d\"],[0.2,\"#de77ae\"],[0.3,\"#f1b6da\"],[0.4,\"#fde0ef\"],[0.5,\"#f7f7f7\"],[0.6,\"#e6f5d0\"],[0.7,\"#b8e186\"],[0.8,\"#7fbc41\"],[0.9,\"#4d9221\"],[1,\"#276419\"]],\"sequential\":[[0.0,\"#0d0887\"],[0.1111111111111111,\"#46039f\"],[0.2222222222222222,\"#7201a8\"],[0.3333333333333333,\"#9c179e\"],[0.4444444444444444,\"#bd3786\"],[0.5555555555555556,\"#d8576b\"],[0.6666666666666666,\"#ed7953\"],[0.7777777777777778,\"#fb9f3a\"],[0.8888888888888888,\"#fdca26\"],[1.0,\"#f0f921\"]],\"sequentialminus\":[[0.0,\"#0d0887\"],[0.1111111111111111,\"#46039f\"],[0.2222222222222222,\"#7201a8\"],[0.3333333333333333,\"#9c179e\"],[0.4444444444444444,\"#bd3786\"],[0.5555555555555556,\"#d8576b\"],[0.6666666666666666,\"#ed7953\"],[0.7777777777777778,\"#fb9f3a\"],[0.8888888888888888,\"#fdca26\"],[1.0,\"#f0f921\"]]},\"colorway\":[\"#636efa\",\"#EF553B\",\"#00cc96\",\"#ab63fa\",\"#FFA15A\",\"#19d3f3\",\"#FF6692\",\"#B6E880\",\"#FF97FF\",\"#FECB52\"],\"font\":{\"color\":\"#2a3f5f\"},\"geo\":{\"bgcolor\":\"white\",\"lakecolor\":\"white\",\"landcolor\":\"#E5ECF6\",\"showlakes\":true,\"showland\":true,\"subunitcolor\":\"white\"},\"hoverlabel\":{\"align\":\"left\"},\"hovermode\":\"closest\",\"mapbox\":{\"style\":\"light\"},\"paper_bgcolor\":\"white\",\"plot_bgcolor\":\"#E5ECF6\",\"polar\":{\"angularaxis\":{\"gridcolor\":\"white\",\"linecolor\":\"white\",\"ticks\":\"\"},\"bgcolor\":\"#E5ECF6\",\"radialaxis\":{\"gridcolor\":\"white\",\"linecolor\":\"white\",\"ticks\":\"\"}},\"scene\":{\"xaxis\":{\"backgroundcolor\":\"#E5ECF6\",\"gridcolor\":\"white\",\"gridwidth\":2,\"linecolor\":\"white\",\"showbackground\":true,\"ticks\":\"\",\"zerolinecolor\":\"white\"},\"yaxis\":{\"backgroundcolor\":\"#E5ECF6\",\"gridcolor\":\"white\",\"gridwidth\":2,\"linecolor\":\"white\",\"showbackground\":true,\"ticks\":\"\",\"zerolinecolor\":\"white\"},\"zaxis\":{\"backgroundcolor\":\"#E5ECF6\",\"gridcolor\":\"white\",\"gridwidth\":2,\"linecolor\":\"white\",\"showbackground\":true,\"ticks\":\"\",\"zerolinecolor\":\"white\"}},\"shapedefaults\":{\"line\":{\"color\":\"#2a3f5f\"}},\"ternary\":{\"aaxis\":{\"gridcolor\":\"white\",\"linecolor\":\"white\",\"ticks\":\"\"},\"baxis\":{\"gridcolor\":\"white\",\"linecolor\":\"white\",\"ticks\":\"\"},\"bgcolor\":\"#E5ECF6\",\"caxis\":{\"gridcolor\":\"white\",\"linecolor\":\"white\",\"ticks\":\"\"}},\"title\":{\"x\":0.05},\"xaxis\":{\"automargin\":true,\"gridcolor\":\"white\",\"linecolor\":\"white\",\"ticks\":\"\",\"title\":{\"standoff\":15},\"zerolinecolor\":\"white\",\"zerolinewidth\":2},\"yaxis\":{\"automargin\":true,\"gridcolor\":\"white\",\"linecolor\":\"white\",\"ticks\":\"\",\"title\":{\"standoff\":15},\"zerolinecolor\":\"white\",\"zerolinewidth\":2}}},\"title\":{\"text\":\"Correlaci\\u00f3n posici\\u00f3n lista y oyentes de lastfm\"},\"xaxis\":{\"anchor\":\"y\",\"domain\":[0.0,1.0],\"title\":{\"text\":\"Number\"}},\"yaxis\":{\"anchor\":\"x\",\"domain\":[0.0,1.0],\"title\":{\"text\":\"listeners\"}}},                        {\"responsive\": true}                    ).then(function(){\n",
       "                            \n",
       "var gd = document.getElementById('0f824fff-0237-4e13-b889-c13e71611cf6');\n",
       "var x = new MutationObserver(function (mutations, observer) {{\n",
       "        var display = window.getComputedStyle(gd).display;\n",
       "        if (!display || display === 'none') {{\n",
       "            console.log([gd, 'removed!']);\n",
       "            Plotly.purge(gd);\n",
       "            observer.disconnect();\n",
       "        }}\n",
       "}});\n",
       "\n",
       "// Listen for the removal of the full notebook cells\n",
       "var notebookContainer = gd.closest('#notebook-container');\n",
       "if (notebookContainer) {{\n",
       "    x.observe(notebookContainer, {childList: true});\n",
       "}}\n",
       "\n",
       "// Listen for the clearing of the current output cell\n",
       "var outputEl = gd.closest('.output');\n",
       "if (outputEl) {{\n",
       "    x.observe(outputEl, {childList: true});\n",
       "}}\n",
       "\n",
       "                        })                };                });            </script>        </div>"
      ]
     },
     "metadata": {},
     "output_type": "display_data"
    }
   ],
   "source": [
    "#correlación entre la posición en lista de rolling stone y los oyentes de estos discos en lastfm\n",
    "fig = px.scatter(Stones_Last, x=\"Number\", y=\"listeners\", color=\"Artist\", title = \"Correlación posición lista y oyentes de lastfm\")\n",
    "fig.show()"
   ]
  },
  {
   "cell_type": "markdown",
   "id": "a0709a66",
   "metadata": {},
   "source": [
    "### Agrupación por año de número de álbumes en lista y suma de oyentes y reproducciones en lastfm"
   ]
  },
  {
   "cell_type": "code",
   "execution_count": 63,
   "id": "c4704bac",
   "metadata": {},
   "outputs": [],
   "source": [
    "by_year = Stones_Last.groupby([\"Year\"]).agg({\"Album\":\"count\",\"listeners\":\"sum\",\"playcount\":\"sum\"}).reset_index()"
   ]
  },
  {
   "cell_type": "code",
   "execution_count": 80,
   "id": "b39a10b4",
   "metadata": {
    "scrolled": false
   },
   "outputs": [
    {
     "data": {
      "image/png": "[encoded data removed]",
      "text/plain": [
       "<Figure size 1440x1080 with 2 Axes>"
      ]
     },
     "metadata": {},
     "output_type": "display_data"
    }
   ],
   "source": [
    "fig, axs = plt.subplots(nrows=2, ncols=1, figsize=(20,15))\n",
    "sns.lineplot(data=by_year, x=\"Year\", y=\"Album\", ax=axs[0])\n",
    "sns.lineplot(data=by_year, x=\"Year\", y=\"playcount\",ax=axs[1]);\n"
   ]
  },
  {
   "cell_type": "code",
   "execution_count": 69,
   "id": "ae414d2e",
   "metadata": {
    "scrolled": false
   },
   "outputs": [
    {
     "data": {
      "application/vnd.plotly.v1+json": {
       "config": {
        "plotlyServerURL": "https://plot.ly"
       },
       "data": [
        {
         "hovertemplate": "Year=%{x}<br>Album=%{y}<extra></extra>",
         "legendgroup": "",
         "line": {
          "color": "#636efa",
          "dash": "solid"
         },
         "marker": {
          "symbol": "circle"
         },
         "mode": "lines",
         "name": "",
         "orientation": "v",
         "showlegend": false,
         "type": "scatter",
         "x": [
          1955,
          1956,
          1957,
          1958,
          1959,
          1960,
          1961,
          1962,
          1963,
          1964,
          1965,
          1966,
          1967,
          1968,
          1969,
          1970,
          1971,
          1972,
          1973,
          1974,
          1975,
          1976,
          1977,
          1978,
          1979,
          1980,
          1981,
          1982,
          1983,
          1984,
          1985,
          1986,
          1987,
          1988,
          1989,
          1990,
          1991,
          1992,
          1993,
          1994,
          1995,
          1996,
          1997,
          1998,
          1999,
          2000,
          2001,
          2002,
          2003,
          2004,
          2005,
          2006,
          2007,
          2008,
          2009,
          2010,
          2011,
          2012,
          2013,
          2014,
          2015,
          2016,
          2017,
          2018,
          2019
         ],
         "xaxis": "x",
         "y": [
          1,
          1,
          1,
          1,
          4,
          2,
          1,
          1,
          2,
          3,
          10,
          6,
          17,
          13,
          18,
          25,
          21,
          23,
          16,
          7,
          16,
          8,
          15,
          14,
          14,
          10,
          4,
          5,
          4,
          8,
          7,
          9,
          8,
          6,
          10,
          8,
          14,
          9,
          9,
          17,
          10,
          9,
          10,
          9,
          8,
          8,
          7,
          2,
          9,
          6,
          5,
          4,
          4,
          3,
          2,
          2,
          4,
          4,
          6,
          2,
          4,
          5,
          3,
          3,
          3
         ],
         "yaxis": "y"
        }
       ],
       "layout": {
        "legend": {
         "tracegroupgap": 0
        },
        "template": {
         "data": {
          "bar": [
           {
            "error_x": {
             "color": "#2a3f5f"
            },
            "error_y": {
             "color": "#2a3f5f"
            },
            "marker": {
             "line": {
              "color": "#E5ECF6",
              "width": 0.5
             },
             "pattern": {
              "fillmode": "overlay",
              "size": 10,
              "solidity": 0.2
             }
            },
            "type": "bar"
           }
          ],
          "barpolar": [
           {
            "marker": {
             "line": {
              "color": "#E5ECF6",
              "width": 0.5
             },
             "pattern": {
              "fillmode": "overlay",
              "size": 10,
              "solidity": 0.2
             }
            },
            "type": "barpolar"
           }
          ],
          "carpet": [
           {
            "aaxis": {
             "endlinecolor": "#2a3f5f",
             "gridcolor": "white",
             "linecolor": "white",
             "minorgridcolor": "white",
             "startlinecolor": "#2a3f5f"
            },
            "baxis": {
             "endlinecolor": "#2a3f5f",
             "gridcolor": "white",
             "linecolor": "white",
             "minorgridcolor": "white",
             "startlinecolor": "#2a3f5f"
            },
            "type": "carpet"
           }
          ],
          "choropleth": [
           {
            "colorbar": {
             "outlinewidth": 0,
             "ticks": ""
            },
            "type": "choropleth"
           }
          ],
          "contour": [
           {
            "colorbar": {
             "outlinewidth": 0,
             "ticks": ""
            },
            "colorscale": [
             [
              0,
              "#0d0887"
             ],
             [
              0.1111111111111111,
              "#46039f"
             ],
             [
              0.2222222222222222,
              "#7201a8"
             ],
             [
              0.3333333333333333,
              "#9c179e"
             ],
             [
              0.4444444444444444,
              "#bd3786"
             ],
             [
              0.5555555555555556,
              "#d8576b"
             ],
             [
              0.6666666666666666,
              "#ed7953"
             ],
             [
              0.7777777777777778,
              "#fb9f3a"
             ],
             [
              0.8888888888888888,
              "#fdca26"
             ],
             [
              1,
              "#f0f921"
             ]
            ],
            "type": "contour"
           }
          ],
          "contourcarpet": [
           {
            "colorbar": {
             "outlinewidth": 0,
             "ticks": ""
            },
            "type": "contourcarpet"
           }
          ],
          "heatmap": [
           {
            "colorbar": {
             "outlinewidth": 0,
             "ticks": ""
            },
            "colorscale": [
             [
              0,
              "#0d0887"
             ],
             [
              0.1111111111111111,
              "#46039f"
             ],
             [
              0.2222222222222222,
              "#7201a8"
             ],
             [
              0.3333333333333333,
              "#9c179e"
             ],
             [
              0.4444444444444444,
              "#bd3786"
             ],
             [
              0.5555555555555556,
              "#d8576b"
             ],
             [
              0.6666666666666666,
              "#ed7953"
             ],
             [
              0.7777777777777778,
              "#fb9f3a"
             ],
             [
              0.8888888888888888,
              "#fdca26"
             ],
             [
              1,
              "#f0f921"
             ]
            ],
            "type": "heatmap"
           }
          ],
          "heatmapgl": [
           {
            "colorbar": {
             "outlinewidth": 0,
             "ticks": ""
            },
            "colorscale": [
             [
              0,
              "#0d0887"
             ],
             [
              0.1111111111111111,
              "#46039f"
             ],
             [
              0.2222222222222222,
              "#7201a8"
             ],
             [
              0.3333333333333333,
              "#9c179e"
             ],
             [
              0.4444444444444444,
              "#bd3786"
             ],
             [
              0.5555555555555556,
              "#d8576b"
             ],
             [
              0.6666666666666666,
              "#ed7953"
             ],
             [
              0.7777777777777778,
              "#fb9f3a"
             ],
             [
              0.8888888888888888,
              "#fdca26"
             ],
             [
              1,
              "#f0f921"
             ]
            ],
            "type": "heatmapgl"
           }
          ],
          "histogram": [
           {
            "marker": {
             "pattern": {
              "fillmode": "overlay",
              "size": 10,
              "solidity": 0.2
             }
            },
            "type": "histogram"
           }
          ],
          "histogram2d": [
           {
            "colorbar": {
             "outlinewidth": 0,
             "ticks": ""
            },
            "colorscale": [
             [
              0,
              "#0d0887"
             ],
             [
              0.1111111111111111,
              "#46039f"
             ],
             [
              0.2222222222222222,
              "#7201a8"
             ],
             [
              0.3333333333333333,
              "#9c179e"
             ],
             [
              0.4444444444444444,
              "#bd3786"
             ],
             [
              0.5555555555555556,
              "#d8576b"
             ],
             [
              0.6666666666666666,
              "#ed7953"
             ],
             [
              0.7777777777777778,
              "#fb9f3a"
             ],
             [
              0.8888888888888888,
              "#fdca26"
             ],
             [
              1,
              "#f0f921"
             ]
            ],
            "type": "histogram2d"
           }
          ],
          "histogram2dcontour": [
           {
            "colorbar": {
             "outlinewidth": 0,
             "ticks": ""
            },
            "colorscale": [
             [
              0,
              "#0d0887"
             ],
             [
              0.1111111111111111,
              "#46039f"
             ],
             [
              0.2222222222222222,
              "#7201a8"
             ],
             [
              0.3333333333333333,
              "#9c179e"
             ],
             [
              0.4444444444444444,
              "#bd3786"
             ],
             [
              0.5555555555555556,
              "#d8576b"
             ],
             [
              0.6666666666666666,
              "#ed7953"
             ],
             [
              0.7777777777777778,
              "#fb9f3a"
             ],
             [
              0.8888888888888888,
              "#fdca26"
             ],
             [
              1,
              "#f0f921"
             ]
            ],
            "type": "histogram2dcontour"
           }
          ],
          "mesh3d": [
           {
            "colorbar": {
             "outlinewidth": 0,
             "ticks": ""
            },
            "type": "mesh3d"
           }
          ],
          "parcoords": [
           {
            "line": {
             "colorbar": {
              "outlinewidth": 0,
              "ticks": ""
             }
            },
            "type": "parcoords"
           }
          ],
          "pie": [
           {
            "automargin": true,
            "type": "pie"
           }
          ],
          "scatter": [
           {
            "marker": {
             "colorbar": {
              "outlinewidth": 0,
              "ticks": ""
             }
            },
            "type": "scatter"
           }
          ],
          "scatter3d": [
           {
            "line": {
             "colorbar": {
              "outlinewidth": 0,
              "ticks": ""
             }
            },
            "marker": {
             "colorbar": {
              "outlinewidth": 0,
              "ticks": ""
             }
            },
            "type": "scatter3d"
           }
          ],
          "scattercarpet": [
           {
            "marker": {
             "colorbar": {
              "outlinewidth": 0,
              "ticks": ""
             }
            },
            "type": "scattercarpet"
           }
          ],
          "scattergeo": [
           {
            "marker": {
             "colorbar": {
              "outlinewidth": 0,
              "ticks": ""
             }
            },
            "type": "scattergeo"
           }
          ],
          "scattergl": [
           {
            "marker": {
             "colorbar": {
              "outlinewidth": 0,
              "ticks": ""
             }
            },
            "type": "scattergl"
           }
          ],
          "scattermapbox": [
           {
            "marker": {
             "colorbar": {
              "outlinewidth": 0,
              "ticks": ""
             }
            },
            "type": "scattermapbox"
           }
          ],
          "scatterpolar": [
           {
            "marker": {
             "colorbar": {
              "outlinewidth": 0,
              "ticks": ""
             }
            },
            "type": "scatterpolar"
           }
          ],
          "scatterpolargl": [
           {
            "marker": {
             "colorbar": {
              "outlinewidth": 0,
              "ticks": ""
             }
            },
            "type": "scatterpolargl"
           }
          ],
          "scatterternary": [
           {
            "marker": {
             "colorbar": {
              "outlinewidth": 0,
              "ticks": ""
             }
            },
            "type": "scatterternary"
           }
          ],
          "surface": [
           {
            "colorbar": {
             "outlinewidth": 0,
             "ticks": ""
            },
            "colorscale": [
             [
              0,
              "#0d0887"
             ],
             [
              0.1111111111111111,
              "#46039f"
             ],
             [
              0.2222222222222222,
              "#7201a8"
             ],
             [
              0.3333333333333333,
              "#9c179e"
             ],
             [
              0.4444444444444444,
              "#bd3786"
             ],
             [
              0.5555555555555556,
              "#d8576b"
             ],
             [
              0.6666666666666666,
              "#ed7953"
             ],
             [
              0.7777777777777778,
              "#fb9f3a"
             ],
             [
              0.8888888888888888,
              "#fdca26"
             ],
             [
              1,
              "#f0f921"
             ]
            ],
            "type": "surface"
           }
          ],
          "table": [
           {
            "cells": {
             "fill": {
              "color": "#EBF0F8"
             },
             "line": {
              "color": "white"
             }
            },
            "header": {
             "fill": {
              "color": "#C8D4E3"
             },
             "line": {
              "color": "white"
             }
            },
            "type": "table"
           }
          ]
         },
         "layout": {
          "annotationdefaults": {
           "arrowcolor": "#2a3f5f",
           "arrowhead": 0,
           "arrowwidth": 1
          },
          "autotypenumbers": "strict",
          "coloraxis": {
           "colorbar": {
            "outlinewidth": 0,
            "ticks": ""
           }
          },
          "colorscale": {
           "diverging": [
            [
             0,
             "#8e0152"
            ],
            [
             0.1,
             "#c51b7d"
            ],
            [
             0.2,
             "#de77ae"
            ],
            [
             0.3,
             "#f1b6da"
            ],
            [
             0.4,
             "#fde0ef"
            ],
            [
             0.5,
             "#f7f7f7"
            ],
            [
             0.6,
             "#e6f5d0"
            ],
            [
             0.7,
             "#b8e186"
            ],
            [
             0.8,
             "#7fbc41"
            ],
            [
             0.9,
             "#4d9221"
            ],
            [
             1,
             "#276419"
            ]
           ],
           "sequential": [
            [
             0,
             "#0d0887"
            ],
            [
             0.1111111111111111,
             "#46039f"
            ],
            [
             0.2222222222222222,
             "#7201a8"
            ],
            [
             0.3333333333333333,
             "#9c179e"
            ],
            [
             0.4444444444444444,
             "#bd3786"
            ],
            [
             0.5555555555555556,
             "#d8576b"
            ],
            [
             0.6666666666666666,
             "#ed7953"
            ],
            [
             0.7777777777777778,
             "#fb9f3a"
            ],
            [
             0.8888888888888888,
             "#fdca26"
            ],
            [
             1,
             "#f0f921"
            ]
           ],
           "sequentialminus": [
            [
             0,
             "#0d0887"
            ],
            [
             0.1111111111111111,
             "#46039f"
            ],
            [
             0.2222222222222222,
             "#7201a8"
            ],
            [
             0.3333333333333333,
             "#9c179e"
            ],
            [
             0.4444444444444444,
             "#bd3786"
            ],
            [
             0.5555555555555556,
             "#d8576b"
            ],
            [
             0.6666666666666666,
             "#ed7953"
            ],
            [
             0.7777777777777778,
             "#fb9f3a"
            ],
            [
             0.8888888888888888,
             "#fdca26"
            ],
            [
             1,
             "#f0f921"
            ]
           ]
          },
          "colorway": [
           "#636efa",
           "#EF553B",
           "#00cc96",
           "#ab63fa",
           "#FFA15A",
           "#19d3f3",
           "#FF6692",
           "#B6E880",
           "#FF97FF",
           "#FECB52"
          ],
          "font": {
           "color": "#2a3f5f"
          },
          "geo": {
           "bgcolor": "white",
           "lakecolor": "white",
           "landcolor": "#E5ECF6",
           "showlakes": true,
           "showland": true,
           "subunitcolor": "white"
          },
          "hoverlabel": {
           "align": "left"
          },
          "hovermode": "closest",
          "mapbox": {
           "style": "light"
          },
          "paper_bgcolor": "white",
          "plot_bgcolor": "#E5ECF6",
          "polar": {
           "angularaxis": {
            "gridcolor": "white",
            "linecolor": "white",
            "ticks": ""
           },
           "bgcolor": "#E5ECF6",
           "radialaxis": {
            "gridcolor": "white",
            "linecolor": "white",
            "ticks": ""
           }
          },
          "scene": {
           "xaxis": {
            "backgroundcolor": "#E5ECF6",
            "gridcolor": "white",
            "gridwidth": 2,
            "linecolor": "white",
            "showbackground": true,
            "ticks": "",
            "zerolinecolor": "white"
           },
           "yaxis": {
            "backgroundcolor": "#E5ECF6",
            "gridcolor": "white",
            "gridwidth": 2,
            "linecolor": "white",
            "showbackground": true,
            "ticks": "",
            "zerolinecolor": "white"
           },
           "zaxis": {
            "backgroundcolor": "#E5ECF6",
            "gridcolor": "white",
            "gridwidth": 2,
            "linecolor": "white",
            "showbackground": true,
            "ticks": "",
            "zerolinecolor": "white"
           }
          },
          "shapedefaults": {
           "line": {
            "color": "#2a3f5f"
           }
          },
          "ternary": {
           "aaxis": {
            "gridcolor": "white",
            "linecolor": "white",
            "ticks": ""
           },
           "baxis": {
            "gridcolor": "white",
            "linecolor": "white",
            "ticks": ""
           },
           "bgcolor": "#E5ECF6",
           "caxis": {
            "gridcolor": "white",
            "linecolor": "white",
            "ticks": ""
           }
          },
          "title": {
           "x": 0.05
          },
          "xaxis": {
           "automargin": true,
           "gridcolor": "white",
           "linecolor": "white",
           "ticks": "",
           "title": {
            "standoff": 15
           },
           "zerolinecolor": "white",
           "zerolinewidth": 2
          },
          "yaxis": {
           "automargin": true,
           "gridcolor": "white",
           "linecolor": "white",
           "ticks": "",
           "title": {
            "standoff": 15
           },
           "zerolinecolor": "white",
           "zerolinewidth": 2
          }
         }
        },
        "title": {
         "text": "albumes en la lista por año"
        },
        "xaxis": {
         "anchor": "y",
         "domain": [
          0,
          1
         ],
         "title": {
          "text": "Year"
         }
        },
        "yaxis": {
         "anchor": "x",
         "domain": [
          0,
          1
         ],
         "title": {
          "text": "Album"
         }
        }
       }
      },
      "text/html": [
       "<div>                            <div id=\"be208971-a4a7-456f-a8e8-1f1d22fc03c9\" class=\"plotly-graph-div\" style=\"height:525px; width:100%;\"></div>            <script type=\"text/javascript\">                require([\"plotly\"], function(Plotly) {                    window.PLOTLYENV=window.PLOTLYENV || {};                                    if (document.getElementById(\"be208971-a4a7-456f-a8e8-1f1d22fc03c9\")) {                    Plotly.newPlot(                        \"be208971-a4a7-456f-a8e8-1f1d22fc03c9\",                        [{\"hovertemplate\":\"Year=%{x}<br>Album=%{y}<extra></extra>\",\"legendgroup\":\"\",\"line\":{\"color\":\"#636efa\",\"dash\":\"solid\"},\"marker\":{\"symbol\":\"circle\"},\"mode\":\"lines\",\"name\":\"\",\"orientation\":\"v\",\"showlegend\":false,\"type\":\"scatter\",\"x\":[1955,1956,1957,1958,1959,1960,1961,1962,1963,1964,1965,1966,1967,1968,1969,1970,1971,1972,1973,1974,1975,1976,1977,1978,1979,1980,1981,1982,1983,1984,1985,1986,1987,1988,1989,1990,1991,1992,1993,1994,1995,1996,1997,1998,1999,2000,2001,2002,2003,2004,2005,2006,2007,2008,2009,2010,2011,2012,2013,2014,2015,2016,2017,2018,2019],\"xaxis\":\"x\",\"y\":[1,1,1,1,4,2,1,1,2,3,10,6,17,13,18,25,21,23,16,7,16,8,15,14,14,10,4,5,4,8,7,9,8,6,10,8,14,9,9,17,10,9,10,9,8,8,7,2,9,6,5,4,4,3,2,2,4,4,6,2,4,5,3,3,3],\"yaxis\":\"y\"}],                        {\"legend\":{\"tracegroupgap\":0},\"template\":{\"data\":{\"bar\":[{\"error_x\":{\"color\":\"#2a3f5f\"},\"error_y\":{\"color\":\"#2a3f5f\"},\"marker\":{\"line\":{\"color\":\"#E5ECF6\",\"width\":0.5},\"pattern\":{\"fillmode\":\"overlay\",\"size\":10,\"solidity\":0.2}},\"type\":\"bar\"}],\"barpolar\":[{\"marker\":{\"line\":{\"color\":\"#E5ECF6\",\"width\":0.5},\"pattern\":{\"fillmode\":\"overlay\",\"size\":10,\"solidity\":0.2}},\"type\":\"barpolar\"}],\"carpet\":[{\"aaxis\":{\"endlinecolor\":\"#2a3f5f\",\"gridcolor\":\"white\",\"linecolor\":\"white\",\"minorgridcolor\":\"white\",\"startlinecolor\":\"#2a3f5f\"},\"baxis\":{\"endlinecolor\":\"#2a3f5f\",\"gridcolor\":\"white\",\"linecolor\":\"white\",\"minorgridcolor\":\"white\",\"startlinecolor\":\"#2a3f5f\"},\"type\":\"carpet\"}],\"choropleth\":[{\"colorbar\":{\"outlinewidth\":0,\"ticks\":\"\"},\"type\":\"choropleth\"}],\"contour\":[{\"colorbar\":{\"outlinewidth\":0,\"ticks\":\"\"},\"colorscale\":[[0.0,\"#0d0887\"],[0.1111111111111111,\"#46039f\"],[0.2222222222222222,\"#7201a8\"],[0.3333333333333333,\"#9c179e\"],[0.4444444444444444,\"#bd3786\"],[0.5555555555555556,\"#d8576b\"],[0.6666666666666666,\"#ed7953\"],[0.7777777777777778,\"#fb9f3a\"],[0.8888888888888888,\"#fdca26\"],[1.0,\"#f0f921\"]],\"type\":\"contour\"}],\"contourcarpet\":[{\"colorbar\":{\"outlinewidth\":0,\"ticks\":\"\"},\"type\":\"contourcarpet\"}],\"heatmap\":[{\"colorbar\":{\"outlinewidth\":0,\"ticks\":\"\"},\"colorscale\":[[0.0,\"#0d0887\"],[0.1111111111111111,\"#46039f\"],[0.2222222222222222,\"#7201a8\"],[0.3333333333333333,\"#9c179e\"],[0.4444444444444444,\"#bd3786\"],[0.5555555555555556,\"#d8576b\"],[0.6666666666666666,\"#ed7953\"],[0.7777777777777778,\"#fb9f3a\"],[0.8888888888888888,\"#fdca26\"],[1.0,\"#f0f921\"]],\"type\":\"heatmap\"}],\"heatmapgl\":[{\"colorbar\":{\"outlinewidth\":0,\"ticks\":\"\"},\"colorscale\":[[0.0,\"#0d0887\"],[0.1111111111111111,\"#46039f\"],[0.2222222222222222,\"#7201a8\"],[0.3333333333333333,\"#9c179e\"],[0.4444444444444444,\"#bd3786\"],[0.5555555555555556,\"#d8576b\"],[0.6666666666666666,\"#ed7953\"],[0.7777777777777778,\"#fb9f3a\"],[0.8888888888888888,\"#fdca26\"],[1.0,\"#f0f921\"]],\"type\":\"heatmapgl\"}],\"histogram\":[{\"marker\":{\"pattern\":{\"fillmode\":\"overlay\",\"size\":10,\"solidity\":0.2}},\"type\":\"histogram\"}],\"histogram2d\":[{\"colorbar\":{\"outlinewidth\":0,\"ticks\":\"\"},\"colorscale\":[[0.0,\"#0d0887\"],[0.1111111111111111,\"#46039f\"],[0.2222222222222222,\"#7201a8\"],[0.3333333333333333,\"#9c179e\"],[0.4444444444444444,\"#bd3786\"],[0.5555555555555556,\"#d8576b\"],[0.6666666666666666,\"#ed7953\"],[0.7777777777777778,\"#fb9f3a\"],[0.8888888888888888,\"#fdca26\"],[1.0,\"#f0f921\"]],\"type\":\"histogram2d\"}],\"histogram2dcontour\":[{\"colorbar\":{\"outlinewidth\":0,\"ticks\":\"\"},\"colorscale\":[[0.0,\"#0d0887\"],[0.1111111111111111,\"#46039f\"],[0.2222222222222222,\"#7201a8\"],[0.3333333333333333,\"#9c179e\"],[0.4444444444444444,\"#bd3786\"],[0.5555555555555556,\"#d8576b\"],[0.6666666666666666,\"#ed7953\"],[0.7777777777777778,\"#fb9f3a\"],[0.8888888888888888,\"#fdca26\"],[1.0,\"#f0f921\"]],\"type\":\"histogram2dcontour\"}],\"mesh3d\":[{\"colorbar\":{\"outlinewidth\":0,\"ticks\":\"\"},\"type\":\"mesh3d\"}],\"parcoords\":[{\"line\":{\"colorbar\":{\"outlinewidth\":0,\"ticks\":\"\"}},\"type\":\"parcoords\"}],\"pie\":[{\"automargin\":true,\"type\":\"pie\"}],\"scatter\":[{\"marker\":{\"colorbar\":{\"outlinewidth\":0,\"ticks\":\"\"}},\"type\":\"scatter\"}],\"scatter3d\":[{\"line\":{\"colorbar\":{\"outlinewidth\":0,\"ticks\":\"\"}},\"marker\":{\"colorbar\":{\"outlinewidth\":0,\"ticks\":\"\"}},\"type\":\"scatter3d\"}],\"scattercarpet\":[{\"marker\":{\"colorbar\":{\"outlinewidth\":0,\"ticks\":\"\"}},\"type\":\"scattercarpet\"}],\"scattergeo\":[{\"marker\":{\"colorbar\":{\"outlinewidth\":0,\"ticks\":\"\"}},\"type\":\"scattergeo\"}],\"scattergl\":[{\"marker\":{\"colorbar\":{\"outlinewidth\":0,\"ticks\":\"\"}},\"type\":\"scattergl\"}],\"scattermapbox\":[{\"marker\":{\"colorbar\":{\"outlinewidth\":0,\"ticks\":\"\"}},\"type\":\"scattermapbox\"}],\"scatterpolar\":[{\"marker\":{\"colorbar\":{\"outlinewidth\":0,\"ticks\":\"\"}},\"type\":\"scatterpolar\"}],\"scatterpolargl\":[{\"marker\":{\"colorbar\":{\"outlinewidth\":0,\"ticks\":\"\"}},\"type\":\"scatterpolargl\"}],\"scatterternary\":[{\"marker\":{\"colorbar\":{\"outlinewidth\":0,\"ticks\":\"\"}},\"type\":\"scatterternary\"}],\"surface\":[{\"colorbar\":{\"outlinewidth\":0,\"ticks\":\"\"},\"colorscale\":[[0.0,\"#0d0887\"],[0.1111111111111111,\"#46039f\"],[0.2222222222222222,\"#7201a8\"],[0.3333333333333333,\"#9c179e\"],[0.4444444444444444,\"#bd3786\"],[0.5555555555555556,\"#d8576b\"],[0.6666666666666666,\"#ed7953\"],[0.7777777777777778,\"#fb9f3a\"],[0.8888888888888888,\"#fdca26\"],[1.0,\"#f0f921\"]],\"type\":\"surface\"}],\"table\":[{\"cells\":{\"fill\":{\"color\":\"#EBF0F8\"},\"line\":{\"color\":\"white\"}},\"header\":{\"fill\":{\"color\":\"#C8D4E3\"},\"line\":{\"color\":\"white\"}},\"type\":\"table\"}]},\"layout\":{\"annotationdefaults\":{\"arrowcolor\":\"#2a3f5f\",\"arrowhead\":0,\"arrowwidth\":1},\"autotypenumbers\":\"strict\",\"coloraxis\":{\"colorbar\":{\"outlinewidth\":0,\"ticks\":\"\"}},\"colorscale\":{\"diverging\":[[0,\"#8e0152\"],[0.1,\"#c51b7d\"],[0.2,\"#de77ae\"],[0.3,\"#f1b6da\"],[0.4,\"#fde0ef\"],[0.5,\"#f7f7f7\"],[0.6,\"#e6f5d0\"],[0.7,\"#b8e186\"],[0.8,\"#7fbc41\"],[0.9,\"#4d9221\"],[1,\"#276419\"]],\"sequential\":[[0.0,\"#0d0887\"],[0.1111111111111111,\"#46039f\"],[0.2222222222222222,\"#7201a8\"],[0.3333333333333333,\"#9c179e\"],[0.4444444444444444,\"#bd3786\"],[0.5555555555555556,\"#d8576b\"],[0.6666666666666666,\"#ed7953\"],[0.7777777777777778,\"#fb9f3a\"],[0.8888888888888888,\"#fdca26\"],[1.0,\"#f0f921\"]],\"sequentialminus\":[[0.0,\"#0d0887\"],[0.1111111111111111,\"#46039f\"],[0.2222222222222222,\"#7201a8\"],[0.3333333333333333,\"#9c179e\"],[0.4444444444444444,\"#bd3786\"],[0.5555555555555556,\"#d8576b\"],[0.6666666666666666,\"#ed7953\"],[0.7777777777777778,\"#fb9f3a\"],[0.8888888888888888,\"#fdca26\"],[1.0,\"#f0f921\"]]},\"colorway\":[\"#636efa\",\"#EF553B\",\"#00cc96\",\"#ab63fa\",\"#FFA15A\",\"#19d3f3\",\"#FF6692\",\"#B6E880\",\"#FF97FF\",\"#FECB52\"],\"font\":{\"color\":\"#2a3f5f\"},\"geo\":{\"bgcolor\":\"white\",\"lakecolor\":\"white\",\"landcolor\":\"#E5ECF6\",\"showlakes\":true,\"showland\":true,\"subunitcolor\":\"white\"},\"hoverlabel\":{\"align\":\"left\"},\"hovermode\":\"closest\",\"mapbox\":{\"style\":\"light\"},\"paper_bgcolor\":\"white\",\"plot_bgcolor\":\"#E5ECF6\",\"polar\":{\"angularaxis\":{\"gridcolor\":\"white\",\"linecolor\":\"white\",\"ticks\":\"\"},\"bgcolor\":\"#E5ECF6\",\"radialaxis\":{\"gridcolor\":\"white\",\"linecolor\":\"white\",\"ticks\":\"\"}},\"scene\":{\"xaxis\":{\"backgroundcolor\":\"#E5ECF6\",\"gridcolor\":\"white\",\"gridwidth\":2,\"linecolor\":\"white\",\"showbackground\":true,\"ticks\":\"\",\"zerolinecolor\":\"white\"},\"yaxis\":{\"backgroundcolor\":\"#E5ECF6\",\"gridcolor\":\"white\",\"gridwidth\":2,\"linecolor\":\"white\",\"showbackground\":true,\"ticks\":\"\",\"zerolinecolor\":\"white\"},\"zaxis\":{\"backgroundcolor\":\"#E5ECF6\",\"gridcolor\":\"white\",\"gridwidth\":2,\"linecolor\":\"white\",\"showbackground\":true,\"ticks\":\"\",\"zerolinecolor\":\"white\"}},\"shapedefaults\":{\"line\":{\"color\":\"#2a3f5f\"}},\"ternary\":{\"aaxis\":{\"gridcolor\":\"white\",\"linecolor\":\"white\",\"ticks\":\"\"},\"baxis\":{\"gridcolor\":\"white\",\"linecolor\":\"white\",\"ticks\":\"\"},\"bgcolor\":\"#E5ECF6\",\"caxis\":{\"gridcolor\":\"white\",\"linecolor\":\"white\",\"ticks\":\"\"}},\"title\":{\"x\":0.05},\"xaxis\":{\"automargin\":true,\"gridcolor\":\"white\",\"linecolor\":\"white\",\"ticks\":\"\",\"title\":{\"standoff\":15},\"zerolinecolor\":\"white\",\"zerolinewidth\":2},\"yaxis\":{\"automargin\":true,\"gridcolor\":\"white\",\"linecolor\":\"white\",\"ticks\":\"\",\"title\":{\"standoff\":15},\"zerolinecolor\":\"white\",\"zerolinewidth\":2}}},\"title\":{\"text\":\"albumes en la lista por a\\u00f1o\"},\"xaxis\":{\"anchor\":\"y\",\"domain\":[0.0,1.0],\"title\":{\"text\":\"Year\"}},\"yaxis\":{\"anchor\":\"x\",\"domain\":[0.0,1.0],\"title\":{\"text\":\"Album\"}}},                        {\"responsive\": true}                    ).then(function(){\n",
       "                            \n",
       "var gd = document.getElementById('be208971-a4a7-456f-a8e8-1f1d22fc03c9');\n",
       "var x = new MutationObserver(function (mutations, observer) {{\n",
       "        var display = window.getComputedStyle(gd).display;\n",
       "        if (!display || display === 'none') {{\n",
       "            console.log([gd, 'removed!']);\n",
       "            Plotly.purge(gd);\n",
       "            observer.disconnect();\n",
       "        }}\n",
       "}});\n",
       "\n",
       "// Listen for the removal of the full notebook cells\n",
       "var notebookContainer = gd.closest('#notebook-container');\n",
       "if (notebookContainer) {{\n",
       "    x.observe(notebookContainer, {childList: true});\n",
       "}}\n",
       "\n",
       "// Listen for the clearing of the current output cell\n",
       "var outputEl = gd.closest('.output');\n",
       "if (outputEl) {{\n",
       "    x.observe(outputEl, {childList: true});\n",
       "}}\n",
       "\n",
       "                        })                };                });            </script>        </div>"
      ]
     },
     "metadata": {},
     "output_type": "display_data"
    }
   ],
   "source": [
    "year_alb = px.line(by_year, x=\"Year\", y=\"Album\", title = \"albumes en la lista por año\")\n",
    "year_alb.show()"
   ]
  },
  {
   "cell_type": "code",
   "execution_count": 70,
   "id": "99deb644",
   "metadata": {
    "scrolled": false
   },
   "outputs": [
    {
     "data": {
      "application/vnd.plotly.v1+json": {
       "config": {
        "plotlyServerURL": "https://plot.ly"
       },
       "data": [
        {
         "hovertemplate": "Year=%{x}<br>playcount=%{y}<extra></extra>",
         "legendgroup": "",
         "line": {
          "color": "#636efa",
          "dash": "solid"
         },
         "marker": {
          "symbol": "circle"
         },
         "mode": "lines",
         "name": "",
         "orientation": "v",
         "showlegend": false,
         "type": "scatter",
         "x": [
          1955,
          1956,
          1957,
          1958,
          1959,
          1960,
          1961,
          1962,
          1963,
          1964,
          1965,
          1966,
          1967,
          1968,
          1969,
          1970,
          1971,
          1972,
          1973,
          1974,
          1975,
          1976,
          1977,
          1978,
          1979,
          1980,
          1981,
          1982,
          1983,
          1984,
          1985,
          1986,
          1987,
          1988,
          1989,
          1990,
          1991,
          1992,
          1993,
          1994,
          1995,
          1996,
          1997,
          1998,
          1999,
          2000,
          2001,
          2002,
          2003,
          2004,
          2005,
          2006,
          2007,
          2008,
          2009,
          2010,
          2011,
          2012,
          2013,
          2014,
          2015,
          2016,
          2017,
          2018,
          2019
         ],
         "xaxis": "x",
         "y": [
          2245530,
          2045244,
          273599,
          1130950,
          12717343,
          5981217,
          1738971,
          172867,
          8953180,
          13881675,
          63319490,
          57831005,
          121931306,
          49477369,
          120761195,
          87346260,
          83678378,
          90922717,
          74323780,
          9039332,
          75828440,
          27958741,
          73649536,
          30012348,
          112714143,
          57392837,
          14209638,
          20797108,
          16935009,
          29046792,
          43172149,
          74191135,
          58854098,
          37520186,
          98702052,
          41942217,
          206630774,
          67022298,
          49812214,
          219885086,
          141327216,
          47029164,
          149953117,
          124145034,
          82843359,
          111557173,
          112532773,
          75782480,
          104995617,
          136582200,
          65744820,
          146747589,
          182131342,
          33595469,
          28372374,
          72267417,
          120901193,
          83960558,
          202355752,
          24873574,
          128889226,
          123503516,
          122760601,
          27893901,
          130186853
         ],
         "yaxis": "y"
        }
       ],
       "layout": {
        "legend": {
         "tracegroupgap": 0
        },
        "template": {
         "data": {
          "bar": [
           {
            "error_x": {
             "color": "#2a3f5f"
            },
            "error_y": {
             "color": "#2a3f5f"
            },
            "marker": {
             "line": {
              "color": "#E5ECF6",
              "width": 0.5
             },
             "pattern": {
              "fillmode": "overlay",
              "size": 10,
              "solidity": 0.2
             }
            },
            "type": "bar"
           }
          ],
          "barpolar": [
           {
            "marker": {
             "line": {
              "color": "#E5ECF6",
              "width": 0.5
             },
             "pattern": {
              "fillmode": "overlay",
              "size": 10,
              "solidity": 0.2
             }
            },
            "type": "barpolar"
           }
          ],
          "carpet": [
           {
            "aaxis": {
             "endlinecolor": "#2a3f5f",
             "gridcolor": "white",
             "linecolor": "white",
             "minorgridcolor": "white",
             "startlinecolor": "#2a3f5f"
            },
            "baxis": {
             "endlinecolor": "#2a3f5f",
             "gridcolor": "white",
             "linecolor": "white",
             "minorgridcolor": "white",
             "startlinecolor": "#2a3f5f"
            },
            "type": "carpet"
           }
          ],
          "choropleth": [
           {
            "colorbar": {
             "outlinewidth": 0,
             "ticks": ""
            },
            "type": "choropleth"
           }
          ],
          "contour": [
           {
            "colorbar": {
             "outlinewidth": 0,
             "ticks": ""
            },
            "colorscale": [
             [
              0,
              "#0d0887"
             ],
             [
              0.1111111111111111,
              "#46039f"
             ],
             [
              0.2222222222222222,
              "#7201a8"
             ],
             [
              0.3333333333333333,
              "#9c179e"
             ],
             [
              0.4444444444444444,
              "#bd3786"
             ],
             [
              0.5555555555555556,
              "#d8576b"
             ],
             [
              0.6666666666666666,
              "#ed7953"
             ],
             [
              0.7777777777777778,
              "#fb9f3a"
             ],
             [
              0.8888888888888888,
              "#fdca26"
             ],
             [
              1,
              "#f0f921"
             ]
            ],
            "type": "contour"
           }
          ],
          "contourcarpet": [
           {
            "colorbar": {
             "outlinewidth": 0,
             "ticks": ""
            },
            "type": "contourcarpet"
           }
          ],
          "heatmap": [
           {
            "colorbar": {
             "outlinewidth": 0,
             "ticks": ""
            },
            "colorscale": [
             [
              0,
              "#0d0887"
             ],
             [
              0.1111111111111111,
              "#46039f"
             ],
             [
              0.2222222222222222,
              "#7201a8"
             ],
             [
              0.3333333333333333,
              "#9c179e"
             ],
             [
              0.4444444444444444,
              "#bd3786"
             ],
             [
              0.5555555555555556,
              "#d8576b"
             ],
             [
              0.6666666666666666,
              "#ed7953"
             ],
             [
              0.7777777777777778,
              "#fb9f3a"
             ],
             [
              0.8888888888888888,
              "#fdca26"
             ],
             [
              1,
              "#f0f921"
             ]
            ],
            "type": "heatmap"
           }
          ],
          "heatmapgl": [
           {
            "colorbar": {
             "outlinewidth": 0,
             "ticks": ""
            },
            "colorscale": [
             [
              0,
              "#0d0887"
             ],
             [
              0.1111111111111111,
              "#46039f"
             ],
             [
              0.2222222222222222,
              "#7201a8"
             ],
             [
              0.3333333333333333,
              "#9c179e"
             ],
             [
              0.4444444444444444,
              "#bd3786"
             ],
             [
              0.5555555555555556,
              "#d8576b"
             ],
             [
              0.6666666666666666,
              "#ed7953"
             ],
             [
              0.7777777777777778,
              "#fb9f3a"
             ],
             [
              0.8888888888888888,
              "#fdca26"
             ],
             [
              1,
              "#f0f921"
             ]
            ],
            "type": "heatmapgl"
           }
          ],
          "histogram": [
           {
            "marker": {
             "pattern": {
              "fillmode": "overlay",
              "size": 10,
              "solidity": 0.2
             }
            },
            "type": "histogram"
           }
          ],
          "histogram2d": [
           {
            "colorbar": {
             "outlinewidth": 0,
             "ticks": ""
            },
            "colorscale": [
             [
              0,
              "#0d0887"
             ],
             [
              0.1111111111111111,
              "#46039f"
             ],
             [
              0.2222222222222222,
              "#7201a8"
             ],
             [
              0.3333333333333333,
              "#9c179e"
             ],
             [
              0.4444444444444444,
              "#bd3786"
             ],
             [
              0.5555555555555556,
              "#d8576b"
             ],
             [
              0.6666666666666666,
              "#ed7953"
             ],
             [
              0.7777777777777778,
              "#fb9f3a"
             ],
             [
              0.8888888888888888,
              "#fdca26"
             ],
             [
              1,
              "#f0f921"
             ]
            ],
            "type": "histogram2d"
           }
          ],
          "histogram2dcontour": [
           {
            "colorbar": {
             "outlinewidth": 0,
             "ticks": ""
            },
            "colorscale": [
             [
              0,
              "#0d0887"
             ],
             [
              0.1111111111111111,
              "#46039f"
             ],
             [
              0.2222222222222222,
              "#7201a8"
             ],
             [
              0.3333333333333333,
              "#9c179e"
             ],
             [
              0.4444444444444444,
              "#bd3786"
             ],
             [
              0.5555555555555556,
              "#d8576b"
             ],
             [
              0.6666666666666666,
              "#ed7953"
             ],
             [
              0.7777777777777778,
              "#fb9f3a"
             ],
             [
              0.8888888888888888,
              "#fdca26"
             ],
             [
              1,
              "#f0f921"
             ]
            ],
            "type": "histogram2dcontour"
           }
          ],
          "mesh3d": [
           {
            "colorbar": {
             "outlinewidth": 0,
             "ticks": ""
            },
            "type": "mesh3d"
           }
          ],
          "parcoords": [
           {
            "line": {
             "colorbar": {
              "outlinewidth": 0,
              "ticks": ""
             }
            },
            "type": "parcoords"
           }
          ],
          "pie": [
           {
            "automargin": true,
            "type": "pie"
           }
          ],
          "scatter": [
           {
            "marker": {
             "colorbar": {
              "outlinewidth": 0,
              "ticks": ""
             }
            },
            "type": "scatter"
           }
          ],
          "scatter3d": [
           {
            "line": {
             "colorbar": {
              "outlinewidth": 0,
              "ticks": ""
             }
            },
            "marker": {
             "colorbar": {
              "outlinewidth": 0,
              "ticks": ""
             }
            },
            "type": "scatter3d"
           }
          ],
          "scattercarpet": [
           {
            "marker": {
             "colorbar": {
              "outlinewidth": 0,
              "ticks": ""
             }
            },
            "type": "scattercarpet"
           }
          ],
          "scattergeo": [
           {
            "marker": {
             "colorbar": {
              "outlinewidth": 0,
              "ticks": ""
             }
            },
            "type": "scattergeo"
           }
          ],
          "scattergl": [
           {
            "marker": {
             "colorbar": {
              "outlinewidth": 0,
              "ticks": ""
             }
            },
            "type": "scattergl"
           }
          ],
          "scattermapbox": [
           {
            "marker": {
             "colorbar": {
              "outlinewidth": 0,
              "ticks": ""
             }
            },
            "type": "scattermapbox"
           }
          ],
          "scatterpolar": [
           {
            "marker": {
             "colorbar": {
              "outlinewidth": 0,
              "ticks": ""
             }
            },
            "type": "scatterpolar"
           }
          ],
          "scatterpolargl": [
           {
            "marker": {
             "colorbar": {
              "outlinewidth": 0,
              "ticks": ""
             }
            },
            "type": "scatterpolargl"
           }
          ],
          "scatterternary": [
           {
            "marker": {
             "colorbar": {
              "outlinewidth": 0,
              "ticks": ""
             }
            },
            "type": "scatterternary"
           }
          ],
          "surface": [
           {
            "colorbar": {
             "outlinewidth": 0,
             "ticks": ""
            },
            "colorscale": [
             [
              0,
              "#0d0887"
             ],
             [
              0.1111111111111111,
              "#46039f"
             ],
             [
              0.2222222222222222,
              "#7201a8"
             ],
             [
              0.3333333333333333,
              "#9c179e"
             ],
             [
              0.4444444444444444,
              "#bd3786"
             ],
             [
              0.5555555555555556,
              "#d8576b"
             ],
             [
              0.6666666666666666,
              "#ed7953"
             ],
             [
              0.7777777777777778,
              "#fb9f3a"
             ],
             [
              0.8888888888888888,
              "#fdca26"
             ],
             [
              1,
              "#f0f921"
             ]
            ],
            "type": "surface"
           }
          ],
          "table": [
           {
            "cells": {
             "fill": {
              "color": "#EBF0F8"
             },
             "line": {
              "color": "white"
             }
            },
            "header": {
             "fill": {
              "color": "#C8D4E3"
             },
             "line": {
              "color": "white"
             }
            },
            "type": "table"
           }
          ]
         },
         "layout": {
          "annotationdefaults": {
           "arrowcolor": "#2a3f5f",
           "arrowhead": 0,
           "arrowwidth": 1
          },
          "autotypenumbers": "strict",
          "coloraxis": {
           "colorbar": {
            "outlinewidth": 0,
            "ticks": ""
           }
          },
          "colorscale": {
           "diverging": [
            [
             0,
             "#8e0152"
            ],
            [
             0.1,
             "#c51b7d"
            ],
            [
             0.2,
             "#de77ae"
            ],
            [
             0.3,
             "#f1b6da"
            ],
            [
             0.4,
             "#fde0ef"
            ],
            [
             0.5,
             "#f7f7f7"
            ],
            [
             0.6,
             "#e6f5d0"
            ],
            [
             0.7,
             "#b8e186"
            ],
            [
             0.8,
             "#7fbc41"
            ],
            [
             0.9,
             "#4d9221"
            ],
            [
             1,
             "#276419"
            ]
           ],
           "sequential": [
            [
             0,
             "#0d0887"
            ],
            [
             0.1111111111111111,
             "#46039f"
            ],
            [
             0.2222222222222222,
             "#7201a8"
            ],
            [
             0.3333333333333333,
             "#9c179e"
            ],
            [
             0.4444444444444444,
             "#bd3786"
            ],
            [
             0.5555555555555556,
             "#d8576b"
            ],
            [
             0.6666666666666666,
             "#ed7953"
            ],
            [
             0.7777777777777778,
             "#fb9f3a"
            ],
            [
             0.8888888888888888,
             "#fdca26"
            ],
            [
             1,
             "#f0f921"
            ]
           ],
           "sequentialminus": [
            [
             0,
             "#0d0887"
            ],
            [
             0.1111111111111111,
             "#46039f"
            ],
            [
             0.2222222222222222,
             "#7201a8"
            ],
            [
             0.3333333333333333,
             "#9c179e"
            ],
            [
             0.4444444444444444,
             "#bd3786"
            ],
            [
             0.5555555555555556,
             "#d8576b"
            ],
            [
             0.6666666666666666,
             "#ed7953"
            ],
            [
             0.7777777777777778,
             "#fb9f3a"
            ],
            [
             0.8888888888888888,
             "#fdca26"
            ],
            [
             1,
             "#f0f921"
            ]
           ]
          },
          "colorway": [
           "#636efa",
           "#EF553B",
           "#00cc96",
           "#ab63fa",
           "#FFA15A",
           "#19d3f3",
           "#FF6692",
           "#B6E880",
           "#FF97FF",
           "#FECB52"
          ],
          "font": {
           "color": "#2a3f5f"
          },
          "geo": {
           "bgcolor": "white",
           "lakecolor": "white",
           "landcolor": "#E5ECF6",
           "showlakes": true,
           "showland": true,
           "subunitcolor": "white"
          },
          "hoverlabel": {
           "align": "left"
          },
          "hovermode": "closest",
          "mapbox": {
           "style": "light"
          },
          "paper_bgcolor": "white",
          "plot_bgcolor": "#E5ECF6",
          "polar": {
           "angularaxis": {
            "gridcolor": "white",
            "linecolor": "white",
            "ticks": ""
           },
           "bgcolor": "#E5ECF6",
           "radialaxis": {
            "gridcolor": "white",
            "linecolor": "white",
            "ticks": ""
           }
          },
          "scene": {
           "xaxis": {
            "backgroundcolor": "#E5ECF6",
            "gridcolor": "white",
            "gridwidth": 2,
            "linecolor": "white",
            "showbackground": true,
            "ticks": "",
            "zerolinecolor": "white"
           },
           "yaxis": {
            "backgroundcolor": "#E5ECF6",
            "gridcolor": "white",
            "gridwidth": 2,
            "linecolor": "white",
            "showbackground": true,
            "ticks": "",
            "zerolinecolor": "white"
           },
           "zaxis": {
            "backgroundcolor": "#E5ECF6",
            "gridcolor": "white",
            "gridwidth": 2,
            "linecolor": "white",
            "showbackground": true,
            "ticks": "",
            "zerolinecolor": "white"
           }
          },
          "shapedefaults": {
           "line": {
            "color": "#2a3f5f"
           }
          },
          "ternary": {
           "aaxis": {
            "gridcolor": "white",
            "linecolor": "white",
            "ticks": ""
           },
           "baxis": {
            "gridcolor": "white",
            "linecolor": "white",
            "ticks": ""
           },
           "bgcolor": "#E5ECF6",
           "caxis": {
            "gridcolor": "white",
            "linecolor": "white",
            "ticks": ""
           }
          },
          "title": {
           "x": 0.05
          },
          "xaxis": {
           "automargin": true,
           "gridcolor": "white",
           "linecolor": "white",
           "ticks": "",
           "title": {
            "standoff": 15
           },
           "zerolinecolor": "white",
           "zerolinewidth": 2
          },
          "yaxis": {
           "automargin": true,
           "gridcolor": "white",
           "linecolor": "white",
           "ticks": "",
           "title": {
            "standoff": 15
           },
           "zerolinecolor": "white",
           "zerolinewidth": 2
          }
         }
        },
        "title": {
         "text": "reproducciones por año"
        },
        "xaxis": {
         "anchor": "y",
         "domain": [
          0,
          1
         ],
         "title": {
          "text": "Year"
         }
        },
        "yaxis": {
         "anchor": "x",
         "domain": [
          0,
          1
         ],
         "title": {
          "text": "playcount"
         }
        }
       }
      },
      "text/html": [
       "<div>                            <div id=\"c96f7cdc-73fa-4522-837f-c30baa5a46b6\" class=\"plotly-graph-div\" style=\"height:525px; width:100%;\"></div>            <script type=\"text/javascript\">                require([\"plotly\"], function(Plotly) {                    window.PLOTLYENV=window.PLOTLYENV || {};                                    if (document.getElementById(\"c96f7cdc-73fa-4522-837f-c30baa5a46b6\")) {                    Plotly.newPlot(                        \"c96f7cdc-73fa-4522-837f-c30baa5a46b6\",                        [{\"hovertemplate\":\"Year=%{x}<br>playcount=%{y}<extra></extra>\",\"legendgroup\":\"\",\"line\":{\"color\":\"#636efa\",\"dash\":\"solid\"},\"marker\":{\"symbol\":\"circle\"},\"mode\":\"lines\",\"name\":\"\",\"orientation\":\"v\",\"showlegend\":false,\"type\":\"scatter\",\"x\":[1955,1956,1957,1958,1959,1960,1961,1962,1963,1964,1965,1966,1967,1968,1969,1970,1971,1972,1973,1974,1975,1976,1977,1978,1979,1980,1981,1982,1983,1984,1985,1986,1987,1988,1989,1990,1991,1992,1993,1994,1995,1996,1997,1998,1999,2000,2001,2002,2003,2004,2005,2006,2007,2008,2009,2010,2011,2012,2013,2014,2015,2016,2017,2018,2019],\"xaxis\":\"x\",\"y\":[2245530,2045244,273599,1130950,12717343,5981217,1738971,172867,8953180,13881675,63319490,57831005,121931306,49477369,120761195,87346260,83678378,90922717,74323780,9039332,75828440,27958741,73649536,30012348,112714143,57392837,14209638,20797108,16935009,29046792,43172149,74191135,58854098,37520186,98702052,41942217,206630774,67022298,49812214,219885086,141327216,47029164,149953117,124145034,82843359,111557173,112532773,75782480,104995617,136582200,65744820,146747589,182131342,33595469,28372374,72267417,120901193,83960558,202355752,24873574,128889226,123503516,122760601,27893901,130186853],\"yaxis\":\"y\"}],                        {\"legend\":{\"tracegroupgap\":0},\"template\":{\"data\":{\"bar\":[{\"error_x\":{\"color\":\"#2a3f5f\"},\"error_y\":{\"color\":\"#2a3f5f\"},\"marker\":{\"line\":{\"color\":\"#E5ECF6\",\"width\":0.5},\"pattern\":{\"fillmode\":\"overlay\",\"size\":10,\"solidity\":0.2}},\"type\":\"bar\"}],\"barpolar\":[{\"marker\":{\"line\":{\"color\":\"#E5ECF6\",\"width\":0.5},\"pattern\":{\"fillmode\":\"overlay\",\"size\":10,\"solidity\":0.2}},\"type\":\"barpolar\"}],\"carpet\":[{\"aaxis\":{\"endlinecolor\":\"#2a3f5f\",\"gridcolor\":\"white\",\"linecolor\":\"white\",\"minorgridcolor\":\"white\",\"startlinecolor\":\"#2a3f5f\"},\"baxis\":{\"endlinecolor\":\"#2a3f5f\",\"gridcolor\":\"white\",\"linecolor\":\"white\",\"minorgridcolor\":\"white\",\"startlinecolor\":\"#2a3f5f\"},\"type\":\"carpet\"}],\"choropleth\":[{\"colorbar\":{\"outlinewidth\":0,\"ticks\":\"\"},\"type\":\"choropleth\"}],\"contour\":[{\"colorbar\":{\"outlinewidth\":0,\"ticks\":\"\"},\"colorscale\":[[0.0,\"#0d0887\"],[0.1111111111111111,\"#46039f\"],[0.2222222222222222,\"#7201a8\"],[0.3333333333333333,\"#9c179e\"],[0.4444444444444444,\"#bd3786\"],[0.5555555555555556,\"#d8576b\"],[0.6666666666666666,\"#ed7953\"],[0.7777777777777778,\"#fb9f3a\"],[0.8888888888888888,\"#fdca26\"],[1.0,\"#f0f921\"]],\"type\":\"contour\"}],\"contourcarpet\":[{\"colorbar\":{\"outlinewidth\":0,\"ticks\":\"\"},\"type\":\"contourcarpet\"}],\"heatmap\":[{\"colorbar\":{\"outlinewidth\":0,\"ticks\":\"\"},\"colorscale\":[[0.0,\"#0d0887\"],[0.1111111111111111,\"#46039f\"],[0.2222222222222222,\"#7201a8\"],[0.3333333333333333,\"#9c179e\"],[0.4444444444444444,\"#bd3786\"],[0.5555555555555556,\"#d8576b\"],[0.6666666666666666,\"#ed7953\"],[0.7777777777777778,\"#fb9f3a\"],[0.8888888888888888,\"#fdca26\"],[1.0,\"#f0f921\"]],\"type\":\"heatmap\"}],\"heatmapgl\":[{\"colorbar\":{\"outlinewidth\":0,\"ticks\":\"\"},\"colorscale\":[[0.0,\"#0d0887\"],[0.1111111111111111,\"#46039f\"],[0.2222222222222222,\"#7201a8\"],[0.3333333333333333,\"#9c179e\"],[0.4444444444444444,\"#bd3786\"],[0.5555555555555556,\"#d8576b\"],[0.6666666666666666,\"#ed7953\"],[0.7777777777777778,\"#fb9f3a\"],[0.8888888888888888,\"#fdca26\"],[1.0,\"#f0f921\"]],\"type\":\"heatmapgl\"}],\"histogram\":[{\"marker\":{\"pattern\":{\"fillmode\":\"overlay\",\"size\":10,\"solidity\":0.2}},\"type\":\"histogram\"}],\"histogram2d\":[{\"colorbar\":{\"outlinewidth\":0,\"ticks\":\"\"},\"colorscale\":[[0.0,\"#0d0887\"],[0.1111111111111111,\"#46039f\"],[0.2222222222222222,\"#7201a8\"],[0.3333333333333333,\"#9c179e\"],[0.4444444444444444,\"#bd3786\"],[0.5555555555555556,\"#d8576b\"],[0.6666666666666666,\"#ed7953\"],[0.7777777777777778,\"#fb9f3a\"],[0.8888888888888888,\"#fdca26\"],[1.0,\"#f0f921\"]],\"type\":\"histogram2d\"}],\"histogram2dcontour\":[{\"colorbar\":{\"outlinewidth\":0,\"ticks\":\"\"},\"colorscale\":[[0.0,\"#0d0887\"],[0.1111111111111111,\"#46039f\"],[0.2222222222222222,\"#7201a8\"],[0.3333333333333333,\"#9c179e\"],[0.4444444444444444,\"#bd3786\"],[0.5555555555555556,\"#d8576b\"],[0.6666666666666666,\"#ed7953\"],[0.7777777777777778,\"#fb9f3a\"],[0.8888888888888888,\"#fdca26\"],[1.0,\"#f0f921\"]],\"type\":\"histogram2dcontour\"}],\"mesh3d\":[{\"colorbar\":{\"outlinewidth\":0,\"ticks\":\"\"},\"type\":\"mesh3d\"}],\"parcoords\":[{\"line\":{\"colorbar\":{\"outlinewidth\":0,\"ticks\":\"\"}},\"type\":\"parcoords\"}],\"pie\":[{\"automargin\":true,\"type\":\"pie\"}],\"scatter\":[{\"marker\":{\"colorbar\":{\"outlinewidth\":0,\"ticks\":\"\"}},\"type\":\"scatter\"}],\"scatter3d\":[{\"line\":{\"colorbar\":{\"outlinewidth\":0,\"ticks\":\"\"}},\"marker\":{\"colorbar\":{\"outlinewidth\":0,\"ticks\":\"\"}},\"type\":\"scatter3d\"}],\"scattercarpet\":[{\"marker\":{\"colorbar\":{\"outlinewidth\":0,\"ticks\":\"\"}},\"type\":\"scattercarpet\"}],\"scattergeo\":[{\"marker\":{\"colorbar\":{\"outlinewidth\":0,\"ticks\":\"\"}},\"type\":\"scattergeo\"}],\"scattergl\":[{\"marker\":{\"colorbar\":{\"outlinewidth\":0,\"ticks\":\"\"}},\"type\":\"scattergl\"}],\"scattermapbox\":[{\"marker\":{\"colorbar\":{\"outlinewidth\":0,\"ticks\":\"\"}},\"type\":\"scattermapbox\"}],\"scatterpolar\":[{\"marker\":{\"colorbar\":{\"outlinewidth\":0,\"ticks\":\"\"}},\"type\":\"scatterpolar\"}],\"scatterpolargl\":[{\"marker\":{\"colorbar\":{\"outlinewidth\":0,\"ticks\":\"\"}},\"type\":\"scatterpolargl\"}],\"scatterternary\":[{\"marker\":{\"colorbar\":{\"outlinewidth\":0,\"ticks\":\"\"}},\"type\":\"scatterternary\"}],\"surface\":[{\"colorbar\":{\"outlinewidth\":0,\"ticks\":\"\"},\"colorscale\":[[0.0,\"#0d0887\"],[0.1111111111111111,\"#46039f\"],[0.2222222222222222,\"#7201a8\"],[0.3333333333333333,\"#9c179e\"],[0.4444444444444444,\"#bd3786\"],[0.5555555555555556,\"#d8576b\"],[0.6666666666666666,\"#ed7953\"],[0.7777777777777778,\"#fb9f3a\"],[0.8888888888888888,\"#fdca26\"],[1.0,\"#f0f921\"]],\"type\":\"surface\"}],\"table\":[{\"cells\":{\"fill\":{\"color\":\"#EBF0F8\"},\"line\":{\"color\":\"white\"}},\"header\":{\"fill\":{\"color\":\"#C8D4E3\"},\"line\":{\"color\":\"white\"}},\"type\":\"table\"}]},\"layout\":{\"annotationdefaults\":{\"arrowcolor\":\"#2a3f5f\",\"arrowhead\":0,\"arrowwidth\":1},\"autotypenumbers\":\"strict\",\"coloraxis\":{\"colorbar\":{\"outlinewidth\":0,\"ticks\":\"\"}},\"colorscale\":{\"diverging\":[[0,\"#8e0152\"],[0.1,\"#c51b7d\"],[0.2,\"#de77ae\"],[0.3,\"#f1b6da\"],[0.4,\"#fde0ef\"],[0.5,\"#f7f7f7\"],[0.6,\"#e6f5d0\"],[0.7,\"#b8e186\"],[0.8,\"#7fbc41\"],[0.9,\"#4d9221\"],[1,\"#276419\"]],\"sequential\":[[0.0,\"#0d0887\"],[0.1111111111111111,\"#46039f\"],[0.2222222222222222,\"#7201a8\"],[0.3333333333333333,\"#9c179e\"],[0.4444444444444444,\"#bd3786\"],[0.5555555555555556,\"#d8576b\"],[0.6666666666666666,\"#ed7953\"],[0.7777777777777778,\"#fb9f3a\"],[0.8888888888888888,\"#fdca26\"],[1.0,\"#f0f921\"]],\"sequentialminus\":[[0.0,\"#0d0887\"],[0.1111111111111111,\"#46039f\"],[0.2222222222222222,\"#7201a8\"],[0.3333333333333333,\"#9c179e\"],[0.4444444444444444,\"#bd3786\"],[0.5555555555555556,\"#d8576b\"],[0.6666666666666666,\"#ed7953\"],[0.7777777777777778,\"#fb9f3a\"],[0.8888888888888888,\"#fdca26\"],[1.0,\"#f0f921\"]]},\"colorway\":[\"#636efa\",\"#EF553B\",\"#00cc96\",\"#ab63fa\",\"#FFA15A\",\"#19d3f3\",\"#FF6692\",\"#B6E880\",\"#FF97FF\",\"#FECB52\"],\"font\":{\"color\":\"#2a3f5f\"},\"geo\":{\"bgcolor\":\"white\",\"lakecolor\":\"white\",\"landcolor\":\"#E5ECF6\",\"showlakes\":true,\"showland\":true,\"subunitcolor\":\"white\"},\"hoverlabel\":{\"align\":\"left\"},\"hovermode\":\"closest\",\"mapbox\":{\"style\":\"light\"},\"paper_bgcolor\":\"white\",\"plot_bgcolor\":\"#E5ECF6\",\"polar\":{\"angularaxis\":{\"gridcolor\":\"white\",\"linecolor\":\"white\",\"ticks\":\"\"},\"bgcolor\":\"#E5ECF6\",\"radialaxis\":{\"gridcolor\":\"white\",\"linecolor\":\"white\",\"ticks\":\"\"}},\"scene\":{\"xaxis\":{\"backgroundcolor\":\"#E5ECF6\",\"gridcolor\":\"white\",\"gridwidth\":2,\"linecolor\":\"white\",\"showbackground\":true,\"ticks\":\"\",\"zerolinecolor\":\"white\"},\"yaxis\":{\"backgroundcolor\":\"#E5ECF6\",\"gridcolor\":\"white\",\"gridwidth\":2,\"linecolor\":\"white\",\"showbackground\":true,\"ticks\":\"\",\"zerolinecolor\":\"white\"},\"zaxis\":{\"backgroundcolor\":\"#E5ECF6\",\"gridcolor\":\"white\",\"gridwidth\":2,\"linecolor\":\"white\",\"showbackground\":true,\"ticks\":\"\",\"zerolinecolor\":\"white\"}},\"shapedefaults\":{\"line\":{\"color\":\"#2a3f5f\"}},\"ternary\":{\"aaxis\":{\"gridcolor\":\"white\",\"linecolor\":\"white\",\"ticks\":\"\"},\"baxis\":{\"gridcolor\":\"white\",\"linecolor\":\"white\",\"ticks\":\"\"},\"bgcolor\":\"#E5ECF6\",\"caxis\":{\"gridcolor\":\"white\",\"linecolor\":\"white\",\"ticks\":\"\"}},\"title\":{\"x\":0.05},\"xaxis\":{\"automargin\":true,\"gridcolor\":\"white\",\"linecolor\":\"white\",\"ticks\":\"\",\"title\":{\"standoff\":15},\"zerolinecolor\":\"white\",\"zerolinewidth\":2},\"yaxis\":{\"automargin\":true,\"gridcolor\":\"white\",\"linecolor\":\"white\",\"ticks\":\"\",\"title\":{\"standoff\":15},\"zerolinecolor\":\"white\",\"zerolinewidth\":2}}},\"title\":{\"text\":\"reproducciones por a\\u00f1o\"},\"xaxis\":{\"anchor\":\"y\",\"domain\":[0.0,1.0],\"title\":{\"text\":\"Year\"}},\"yaxis\":{\"anchor\":\"x\",\"domain\":[0.0,1.0],\"title\":{\"text\":\"playcount\"}}},                        {\"responsive\": true}                    ).then(function(){\n",
       "                            \n",
       "var gd = document.getElementById('c96f7cdc-73fa-4522-837f-c30baa5a46b6');\n",
       "var x = new MutationObserver(function (mutations, observer) {{\n",
       "        var display = window.getComputedStyle(gd).display;\n",
       "        if (!display || display === 'none') {{\n",
       "            console.log([gd, 'removed!']);\n",
       "            Plotly.purge(gd);\n",
       "            observer.disconnect();\n",
       "        }}\n",
       "}});\n",
       "\n",
       "// Listen for the removal of the full notebook cells\n",
       "var notebookContainer = gd.closest('#notebook-container');\n",
       "if (notebookContainer) {{\n",
       "    x.observe(notebookContainer, {childList: true});\n",
       "}}\n",
       "\n",
       "// Listen for the clearing of the current output cell\n",
       "var outputEl = gd.closest('.output');\n",
       "if (outputEl) {{\n",
       "    x.observe(outputEl, {childList: true});\n",
       "}}\n",
       "\n",
       "                        })                };                });            </script>        </div>"
      ]
     },
     "metadata": {},
     "output_type": "display_data"
    }
   ],
   "source": [
    "year_reps = px.line(by_year, x=\"Year\", y=\"playcount\", title = \"reproducciones por año\")\n",
    "year_reps.show()"
   ]
  },
  {
   "cell_type": "code",
   "execution_count": 81,
   "id": "8f7e411c",
   "metadata": {
    "scrolled": true
   },
   "outputs": [
    {
     "data": {
      "text/html": [
       "<div>\n",
       "<style scoped>\n",
       "    .dataframe tbody tr th:only-of-type {\n",
       "        vertical-align: middle;\n",
       "    }\n",
       "\n",
       "    .dataframe tbody tr th {\n",
       "        vertical-align: top;\n",
       "    }\n",
       "\n",
       "    .dataframe thead th {\n",
       "        text-align: right;\n",
       "    }\n",
       "</style>\n",
       "<table border=\"1\" class=\"dataframe\">\n",
       "  <thead>\n",
       "    <tr style=\"text-align: right;\">\n",
       "      <th></th>\n",
       "      <th>Artist</th>\n",
       "      <th>Number</th>\n",
       "      <th>Album</th>\n",
       "      <th>playcount</th>\n",
       "      <th>listeners</th>\n",
       "      <th>Rating</th>\n",
       "    </tr>\n",
       "  </thead>\n",
       "  <tbody>\n",
       "    <tr>\n",
       "      <th>177</th>\n",
       "      <td>Marvin Gaye</td>\n",
       "      <td>1</td>\n",
       "      <td>3</td>\n",
       "      <td>7520622</td>\n",
       "      <td>829367</td>\n",
       "      <td>4.316667</td>\n",
       "    </tr>\n",
       "    <tr>\n",
       "      <th>279</th>\n",
       "      <td>The Beach Boys</td>\n",
       "      <td>2</td>\n",
       "      <td>3</td>\n",
       "      <td>14032572</td>\n",
       "      <td>582632</td>\n",
       "      <td>4.150000</td>\n",
       "    </tr>\n",
       "    <tr>\n",
       "      <th>139</th>\n",
       "      <td>Joni Mitchell</td>\n",
       "      <td>3</td>\n",
       "      <td>4</td>\n",
       "      <td>13961262</td>\n",
       "      <td>887920</td>\n",
       "      <td>4.362500</td>\n",
       "    </tr>\n",
       "    <tr>\n",
       "      <th>269</th>\n",
       "      <td>Stevie Wonder</td>\n",
       "      <td>4</td>\n",
       "      <td>4</td>\n",
       "      <td>14657588</td>\n",
       "      <td>1698675</td>\n",
       "      <td>4.775000</td>\n",
       "    </tr>\n",
       "    <tr>\n",
       "      <th>280</th>\n",
       "      <td>The Beatles</td>\n",
       "      <td>5</td>\n",
       "      <td>9</td>\n",
       "      <td>174054342</td>\n",
       "      <td>5759723</td>\n",
       "      <td>4.400000</td>\n",
       "    </tr>\n",
       "    <tr>\n",
       "      <th>205</th>\n",
       "      <td>Nirvana</td>\n",
       "      <td>6</td>\n",
       "      <td>3</td>\n",
       "      <td>101694931</td>\n",
       "      <td>5325588</td>\n",
       "      <td>4.283333</td>\n",
       "    </tr>\n",
       "    <tr>\n",
       "      <th>97</th>\n",
       "      <td>Fleetwood Mac</td>\n",
       "      <td>7</td>\n",
       "      <td>1</td>\n",
       "      <td>23169995</td>\n",
       "      <td>1117937</td>\n",
       "      <td>4.600000</td>\n",
       "    </tr>\n",
       "    <tr>\n",
       "      <th>226</th>\n",
       "      <td>Prince &amp; The Revolution</td>\n",
       "      <td>8</td>\n",
       "      <td>4</td>\n",
       "      <td>1925638</td>\n",
       "      <td>253819</td>\n",
       "      <td>4.125000</td>\n",
       "    </tr>\n",
       "    <tr>\n",
       "      <th>35</th>\n",
       "      <td>Bob Dylan</td>\n",
       "      <td>9</td>\n",
       "      <td>7</td>\n",
       "      <td>51982102</td>\n",
       "      <td>2997669</td>\n",
       "      <td>4.314286</td>\n",
       "    </tr>\n",
       "    <tr>\n",
       "      <th>156</th>\n",
       "      <td>Lauryn Hill</td>\n",
       "      <td>10</td>\n",
       "      <td>1</td>\n",
       "      <td>9417617</td>\n",
       "      <td>780979</td>\n",
       "      <td>4.150000</td>\n",
       "    </tr>\n",
       "    <tr>\n",
       "      <th>183</th>\n",
       "      <td>Michael Jackson</td>\n",
       "      <td>12</td>\n",
       "      <td>3</td>\n",
       "      <td>31045481</td>\n",
       "      <td>2734928</td>\n",
       "      <td>4.283333</td>\n",
       "    </tr>\n",
       "    <tr>\n",
       "      <th>16</th>\n",
       "      <td>Aretha Franklin</td>\n",
       "      <td>13</td>\n",
       "      <td>4</td>\n",
       "      <td>4604444</td>\n",
       "      <td>805792</td>\n",
       "      <td>4.266667</td>\n",
       "    </tr>\n",
       "    <tr>\n",
       "      <th>301</th>\n",
       "      <td>The Rolling Stones</td>\n",
       "      <td>14</td>\n",
       "      <td>6</td>\n",
       "      <td>41889358</td>\n",
       "      <td>3977117</td>\n",
       "      <td>4.300000</td>\n",
       "    </tr>\n",
       "    <tr>\n",
       "      <th>227</th>\n",
       "      <td>Public Enemy</td>\n",
       "      <td>15</td>\n",
       "      <td>2</td>\n",
       "      <td>6833780</td>\n",
       "      <td>694065</td>\n",
       "      <td>3.675000</td>\n",
       "    </tr>\n",
       "    <tr>\n",
       "      <th>285</th>\n",
       "      <td>The Clash</td>\n",
       "      <td>16</td>\n",
       "      <td>3</td>\n",
       "      <td>34703481</td>\n",
       "      <td>1801127</td>\n",
       "      <td>4.033333</td>\n",
       "    </tr>\n",
       "    <tr>\n",
       "      <th>144</th>\n",
       "      <td>Kanye West</td>\n",
       "      <td>17</td>\n",
       "      <td>6</td>\n",
       "      <td>244191135</td>\n",
       "      <td>8263176</td>\n",
       "      <td>4.083333</td>\n",
       "    </tr>\n",
       "    <tr>\n",
       "      <th>147</th>\n",
       "      <td>Kendrick Lamar</td>\n",
       "      <td>19</td>\n",
       "      <td>3</td>\n",
       "      <td>100416338</td>\n",
       "      <td>2505274</td>\n",
       "      <td>4.433333</td>\n",
       "    </tr>\n",
       "    <tr>\n",
       "      <th>232</th>\n",
       "      <td>Radiohead</td>\n",
       "      <td>20</td>\n",
       "      <td>4</td>\n",
       "      <td>277412985</td>\n",
       "      <td>7972756</td>\n",
       "      <td>4.512500</td>\n",
       "    </tr>\n",
       "    <tr>\n",
       "      <th>45</th>\n",
       "      <td>Bruce Springsteen</td>\n",
       "      <td>21</td>\n",
       "      <td>5</td>\n",
       "      <td>26539937</td>\n",
       "      <td>1806962</td>\n",
       "      <td>4.490000</td>\n",
       "    </tr>\n",
       "    <tr>\n",
       "      <th>296</th>\n",
       "      <td>The Notorious B.I.G.</td>\n",
       "      <td>22</td>\n",
       "      <td>2</td>\n",
       "      <td>14910070</td>\n",
       "      <td>1564695</td>\n",
       "      <td>4.025000</td>\n",
       "    </tr>\n",
       "    <tr>\n",
       "      <th>310</th>\n",
       "      <td>The Velvet Underground</td>\n",
       "      <td>23</td>\n",
       "      <td>4</td>\n",
       "      <td>29461247</td>\n",
       "      <td>1850802</td>\n",
       "      <td>4.300000</td>\n",
       "    </tr>\n",
       "    <tr>\n",
       "      <th>49</th>\n",
       "      <td>Carole King</td>\n",
       "      <td>25</td>\n",
       "      <td>1</td>\n",
       "      <td>5466917</td>\n",
       "      <td>515505</td>\n",
       "      <td>4.150000</td>\n",
       "    </tr>\n",
       "    <tr>\n",
       "      <th>213</th>\n",
       "      <td>Patti Smith</td>\n",
       "      <td>26</td>\n",
       "      <td>1</td>\n",
       "      <td>3934893</td>\n",
       "      <td>347775</td>\n",
       "      <td>4.300000</td>\n",
       "    </tr>\n",
       "    <tr>\n",
       "      <th>334</th>\n",
       "      <td>Wu‐Tang Clan</td>\n",
       "      <td>27</td>\n",
       "      <td>1</td>\n",
       "      <td>6729</td>\n",
       "      <td>538</td>\n",
       "      <td>4.650000</td>\n",
       "    </tr>\n",
       "    <tr>\n",
       "      <th>62</th>\n",
       "      <td>D'Angelo</td>\n",
       "      <td>28</td>\n",
       "      <td>2</td>\n",
       "      <td>8287184</td>\n",
       "      <td>727066</td>\n",
       "      <td>4.000000</td>\n",
       "    </tr>\n",
       "    <tr>\n",
       "      <th>291</th>\n",
       "      <td>The Jimi Hendrix Experience</td>\n",
       "      <td>30</td>\n",
       "      <td>3</td>\n",
       "      <td>16135249</td>\n",
       "      <td>1488343</td>\n",
       "      <td>3.916667</td>\n",
       "    </tr>\n",
       "    <tr>\n",
       "      <th>184</th>\n",
       "      <td>Miles Davis</td>\n",
       "      <td>31</td>\n",
       "      <td>2</td>\n",
       "      <td>10104346</td>\n",
       "      <td>846445</td>\n",
       "      <td>4.725000</td>\n",
       "    </tr>\n",
       "    <tr>\n",
       "      <th>22</th>\n",
       "      <td>Beyoncé</td>\n",
       "      <td>32</td>\n",
       "      <td>2</td>\n",
       "      <td>40277285</td>\n",
       "      <td>848198</td>\n",
       "      <td>4.050000</td>\n",
       "    </tr>\n",
       "    <tr>\n",
       "      <th>12</th>\n",
       "      <td>Amy Winehouse</td>\n",
       "      <td>33</td>\n",
       "      <td>1</td>\n",
       "      <td>44872279</td>\n",
       "      <td>1698394</td>\n",
       "      <td>4.100000</td>\n",
       "    </tr>\n",
       "    <tr>\n",
       "      <th>79</th>\n",
       "      <td>Dr. Dre</td>\n",
       "      <td>37</td>\n",
       "      <td>1</td>\n",
       "      <td>7364655</td>\n",
       "      <td>509751</td>\n",
       "      <td>4.100000</td>\n",
       "    </tr>\n",
       "    <tr>\n",
       "      <th>273</th>\n",
       "      <td>Talking Heads</td>\n",
       "      <td>39</td>\n",
       "      <td>2</td>\n",
       "      <td>8335212</td>\n",
       "      <td>515457</td>\n",
       "      <td>4.375000</td>\n",
       "    </tr>\n",
       "    <tr>\n",
       "      <th>68</th>\n",
       "      <td>David Bowie</td>\n",
       "      <td>40</td>\n",
       "      <td>5</td>\n",
       "      <td>31399487</td>\n",
       "      <td>1427304</td>\n",
       "      <td>4.200000</td>\n",
       "    </tr>\n",
       "    <tr>\n",
       "      <th>2</th>\n",
       "      <td>A Tribe Called Quest</td>\n",
       "      <td>43</td>\n",
       "      <td>2</td>\n",
       "      <td>24040245</td>\n",
       "      <td>1332841</td>\n",
       "      <td>4.075000</td>\n",
       "    </tr>\n",
       "    <tr>\n",
       "      <th>194</th>\n",
       "      <td>Nas</td>\n",
       "      <td>44</td>\n",
       "      <td>1</td>\n",
       "      <td>16367323</td>\n",
       "      <td>897709</td>\n",
       "      <td>4.150000</td>\n",
       "    </tr>\n",
       "    <tr>\n",
       "      <th>214</th>\n",
       "      <td>Paul Simon</td>\n",
       "      <td>46</td>\n",
       "      <td>2</td>\n",
       "      <td>8653401</td>\n",
       "      <td>882049</td>\n",
       "      <td>4.600000</td>\n",
       "    </tr>\n",
       "    <tr>\n",
       "      <th>235</th>\n",
       "      <td>Ramones</td>\n",
       "      <td>47</td>\n",
       "      <td>2</td>\n",
       "      <td>10616749</td>\n",
       "      <td>827351</td>\n",
       "      <td>4.175000</td>\n",
       "    </tr>\n",
       "    <tr>\n",
       "      <th>37</th>\n",
       "      <td>Bob Marley &amp; The Wailers</td>\n",
       "      <td>48</td>\n",
       "      <td>2</td>\n",
       "      <td>3847541</td>\n",
       "      <td>356009</td>\n",
       "      <td>4.525000</td>\n",
       "    </tr>\n",
       "    <tr>\n",
       "      <th>209</th>\n",
       "      <td>OutKast</td>\n",
       "      <td>49</td>\n",
       "      <td>3</td>\n",
       "      <td>23372600</td>\n",
       "      <td>1951204</td>\n",
       "      <td>3.816667</td>\n",
       "    </tr>\n",
       "    <tr>\n",
       "      <th>128</th>\n",
       "      <td>Jay‐Z</td>\n",
       "      <td>50</td>\n",
       "      <td>2</td>\n",
       "      <td>3753</td>\n",
       "      <td>431</td>\n",
       "      <td>3.425000</td>\n",
       "    </tr>\n",
       "    <tr>\n",
       "      <th>53</th>\n",
       "      <td>Chuck Berry</td>\n",
       "      <td>51</td>\n",
       "      <td>1</td>\n",
       "      <td>1136</td>\n",
       "      <td>86</td>\n",
       "      <td>NaN</td>\n",
       "    </tr>\n",
       "    <tr>\n",
       "      <th>122</th>\n",
       "      <td>James Brown</td>\n",
       "      <td>54</td>\n",
       "      <td>3</td>\n",
       "      <td>1160892</td>\n",
       "      <td>167367</td>\n",
       "      <td>4.616667</td>\n",
       "    </tr>\n",
       "    <tr>\n",
       "      <th>221</th>\n",
       "      <td>Pink Floyd</td>\n",
       "      <td>55</td>\n",
       "      <td>4</td>\n",
       "      <td>109784885</td>\n",
       "      <td>3684287</td>\n",
       "      <td>4.450000</td>\n",
       "    </tr>\n",
       "    <tr>\n",
       "      <th>162</th>\n",
       "      <td>Liz Phair</td>\n",
       "      <td>56</td>\n",
       "      <td>1</td>\n",
       "      <td>3069200</td>\n",
       "      <td>250102</td>\n",
       "      <td>4.250000</td>\n",
       "    </tr>\n",
       "    <tr>\n",
       "      <th>278</th>\n",
       "      <td>The Band</td>\n",
       "      <td>57</td>\n",
       "      <td>2</td>\n",
       "      <td>5446057</td>\n",
       "      <td>537329</td>\n",
       "      <td>4.175000</td>\n",
       "    </tr>\n",
       "    <tr>\n",
       "      <th>157</th>\n",
       "      <td>Led Zeppelin</td>\n",
       "      <td>58</td>\n",
       "      <td>5</td>\n",
       "      <td>54302379</td>\n",
       "      <td>3100320</td>\n",
       "      <td>4.520000</td>\n",
       "    </tr>\n",
       "    <tr>\n",
       "      <th>327</th>\n",
       "      <td>Van Morrison</td>\n",
       "      <td>60</td>\n",
       "      <td>2</td>\n",
       "      <td>9818724</td>\n",
       "      <td>964206</td>\n",
       "      <td>4.500000</td>\n",
       "    </tr>\n",
       "    <tr>\n",
       "      <th>91</th>\n",
       "      <td>Eric B. &amp; Rakim</td>\n",
       "      <td>61</td>\n",
       "      <td>1</td>\n",
       "      <td>1789098</td>\n",
       "      <td>296703</td>\n",
       "      <td>3.500000</td>\n",
       "    </tr>\n",
       "    <tr>\n",
       "      <th>111</th>\n",
       "      <td>Guns N' Roses</td>\n",
       "      <td>62</td>\n",
       "      <td>1</td>\n",
       "      <td>31735719</td>\n",
       "      <td>1987230</td>\n",
       "      <td>4.450000</td>\n",
       "    </tr>\n",
       "    <tr>\n",
       "      <th>268</th>\n",
       "      <td>Steely Dan</td>\n",
       "      <td>63</td>\n",
       "      <td>2</td>\n",
       "      <td>9450644</td>\n",
       "      <td>795659</td>\n",
       "      <td>4.350000</td>\n",
       "    </tr>\n",
       "    <tr>\n",
       "      <th>133</th>\n",
       "      <td>John Coltrane</td>\n",
       "      <td>66</td>\n",
       "      <td>2</td>\n",
       "      <td>4881666</td>\n",
       "      <td>406743</td>\n",
       "      <td>4.575000</td>\n",
       "    </tr>\n",
       "  </tbody>\n",
       "</table>\n",
       "</div>"
      ],
      "text/plain": [
       "                          Artist  Number  Album  playcount  listeners  \\\n",
       "177                  Marvin Gaye       1      3    7520622     829367   \n",
       "279               The Beach Boys       2      3   14032572     582632   \n",
       "139                Joni Mitchell       3      4   13961262     887920   \n",
       "269                Stevie Wonder       4      4   14657588    1698675   \n",
       "280                  The Beatles       5      9  174054342    5759723   \n",
       "205                      Nirvana       6      3  101694931    5325588   \n",
       "97                 Fleetwood Mac       7      1   23169995    1117937   \n",
       "226      Prince & The Revolution       8      4    1925638     253819   \n",
       "35                     Bob Dylan       9      7   51982102    2997669   \n",
       "156                  Lauryn Hill      10      1    9417617     780979   \n",
       "183              Michael Jackson      12      3   31045481    2734928   \n",
       "16               Aretha Franklin      13      4    4604444     805792   \n",
       "301           The Rolling Stones      14      6   41889358    3977117   \n",
       "227                 Public Enemy      15      2    6833780     694065   \n",
       "285                    The Clash      16      3   34703481    1801127   \n",
       "144                   Kanye West      17      6  244191135    8263176   \n",
       "147               Kendrick Lamar      19      3  100416338    2505274   \n",
       "232                    Radiohead      20      4  277412985    7972756   \n",
       "45             Bruce Springsteen      21      5   26539937    1806962   \n",
       "296         The Notorious B.I.G.      22      2   14910070    1564695   \n",
       "310       The Velvet Underground      23      4   29461247    1850802   \n",
       "49                   Carole King      25      1    5466917     515505   \n",
       "213                  Patti Smith      26      1    3934893     347775   \n",
       "334                 Wu‐Tang Clan      27      1       6729        538   \n",
       "62                      D'Angelo      28      2    8287184     727066   \n",
       "291  The Jimi Hendrix Experience      30      3   16135249    1488343   \n",
       "184                  Miles Davis      31      2   10104346     846445   \n",
       "22                       Beyoncé      32      2   40277285     848198   \n",
       "12                 Amy Winehouse      33      1   44872279    1698394   \n",
       "79                       Dr. Dre      37      1    7364655     509751   \n",
       "273                Talking Heads      39      2    8335212     515457   \n",
       "68                   David Bowie      40      5   31399487    1427304   \n",
       "2           A Tribe Called Quest      43      2   24040245    1332841   \n",
       "194                          Nas      44      1   16367323     897709   \n",
       "214                   Paul Simon      46      2    8653401     882049   \n",
       "235                      Ramones      47      2   10616749     827351   \n",
       "37      Bob Marley & The Wailers      48      2    3847541     356009   \n",
       "209                      OutKast      49      3   23372600    1951204   \n",
       "128                        Jay‐Z      50      2       3753        431   \n",
       "53                   Chuck Berry      51      1       1136         86   \n",
       "122                  James Brown      54      3    1160892     167367   \n",
       "221                   Pink Floyd      55      4  109784885    3684287   \n",
       "162                    Liz Phair      56      1    3069200     250102   \n",
       "278                     The Band      57      2    5446057     537329   \n",
       "157                 Led Zeppelin      58      5   54302379    3100320   \n",
       "327                 Van Morrison      60      2    9818724     964206   \n",
       "91               Eric B. & Rakim      61      1    1789098     296703   \n",
       "111                Guns N' Roses      62      1   31735719    1987230   \n",
       "268                   Steely Dan      63      2    9450644     795659   \n",
       "133                John Coltrane      66      2    4881666     406743   \n",
       "\n",
       "       Rating  \n",
       "177  4.316667  \n",
       "279  4.150000  \n",
       "139  4.362500  \n",
       "269  4.775000  \n",
       "280  4.400000  \n",
       "205  4.283333  \n",
       "97   4.600000  \n",
       "226  4.125000  \n",
       "35   4.314286  \n",
       "156  4.150000  \n",
       "183  4.283333  \n",
       "16   4.266667  \n",
       "301  4.300000  \n",
       "227  3.675000  \n",
       "285  4.033333  \n",
       "144  4.083333  \n",
       "147  4.433333  \n",
       "232  4.512500  \n",
       "45   4.490000  \n",
       "296  4.025000  \n",
       "310  4.300000  \n",
       "49   4.150000  \n",
       "213  4.300000  \n",
       "334  4.650000  \n",
       "62   4.000000  \n",
       "291  3.916667  \n",
       "184  4.725000  \n",
       "22   4.050000  \n",
       "12   4.100000  \n",
       "79   4.100000  \n",
       "273  4.375000  \n",
       "68   4.200000  \n",
       "2    4.075000  \n",
       "194  4.150000  \n",
       "214  4.600000  \n",
       "235  4.175000  \n",
       "37   4.525000  \n",
       "209  3.816667  \n",
       "128  3.425000  \n",
       "53        NaN  \n",
       "122  4.616667  \n",
       "221  4.450000  \n",
       "162  4.250000  \n",
       "278  4.175000  \n",
       "157  4.520000  \n",
       "327  4.500000  \n",
       "91   3.500000  \n",
       "111  4.450000  \n",
       "268  4.350000  \n",
       "133  4.575000  "
      ]
     },
     "execution_count": 81,
     "metadata": {},
     "output_type": "execute_result"
    }
   ],
   "source": [
    "Stone_last_art.head(50)"
   ]
  },
  {
   "cell_type": "markdown",
   "id": "9bfd6a50",
   "metadata": {},
   "source": [
    "## comparativa reproducciones spotify - lastfm"
   ]
  },
  {
   "cell_type": "code",
   "execution_count": 156,
   "id": "25d87a5a",
   "metadata": {},
   "outputs": [],
   "source": [
    "Spotify = pd.read_csv(\"../data/Spotify_500.csv\")\n",
    "Spotify.drop([\"Unnamed: 0\"], axis = 1, inplace = True)"
   ]
  },
  {
   "cell_type": "code",
   "execution_count": 157,
   "id": "d26cca53",
   "metadata": {},
   "outputs": [
    {
     "data": {
      "text/plain": [
       "Index(['Rank', 'Artist', 'Album', 'Total', 'Daily'], dtype='object')"
      ]
     },
     "execution_count": 157,
     "metadata": {},
     "output_type": "execute_result"
    }
   ],
   "source": [
    "Spotify.columns"
   ]
  },
  {
   "cell_type": "code",
   "execution_count": 158,
   "id": "dc322d09",
   "metadata": {},
   "outputs": [],
   "source": [
    "#agrupamos los artistas de spotify por la suma de sus totales y nos quedamos con lso 50 primeros\n",
    "Spotify_art = Spotify.groupby([\"Artist\"]).agg({\"Album\":\"count\",\"Total\": \"sum\", \"Daily\":\"sum\"}).reset_index().sort_values(\"Total\" ,ascending=False)"
   ]
  },
  {
   "cell_type": "code",
   "execution_count": 163,
   "id": "5e8a3890",
   "metadata": {},
   "outputs": [],
   "source": [
    "spot_last_merge = Spotify.merge(Stones_Last, how='left', on = \"Artist\")"
   ]
  },
  {
   "cell_type": "code",
   "execution_count": 164,
   "id": "87045928",
   "metadata": {},
   "outputs": [],
   "source": [
    "spot_last = spot_last_merge[[\"Rank\",\"Artist\",\"Album_x\",\"Total\",\"Number\",\"playcount\",\"listeners\"]]\n",
    "spot_last.Number= spot_last.Number.fillna(0)\n",
    "spot_last.playcount=spot_last.playcount.fillna(0)\n",
    "spot_last.listeners=spot_last.listeners.fillna(0)\n",
    "spot_last[[\"Number\",\"playcount\",\"listeners\"]] = spot_last[[\"Number\",\"playcount\",\"listeners\"]].astype(\"int64\")\n",
    "spot_last[\"en_lista\"] = np.where(spot_last[\"Number\"] == 0, \"no\",\"sí\")"
   ]
  },
  {
   "cell_type": "code",
   "execution_count": 165,
   "id": "a7b036ec",
   "metadata": {},
   "outputs": [],
   "source": [
    "fig_enlista = px.bar(spot_last, x=spot_last.en_lista.value_counts().index, y=spot_last.en_lista.value_counts().values)"
   ]
  },
  {
   "cell_type": "code",
   "execution_count": 166,
   "id": "03adf9c6",
   "metadata": {},
   "outputs": [
    {
     "data": {
      "application/vnd.plotly.v1+json": {
       "config": {
        "plotlyServerURL": "https://plot.ly"
       },
       "data": [
        {
         "alignmentgroup": "True",
         "hovertemplate": "x=%{x}<br>y=%{y}<extra></extra>",
         "legendgroup": "",
         "marker": {
          "color": "#636efa",
          "pattern": {
           "shape": ""
          }
         },
         "name": "",
         "offsetgroup": "",
         "orientation": "v",
         "showlegend": false,
         "textposition": "auto",
         "type": "bar",
         "x": [
          "no",
          "sí"
         ],
         "xaxis": "x",
         "y": [
          371,
          262
         ],
         "yaxis": "y"
        }
       ],
       "layout": {
        "barmode": "relative",
        "legend": {
         "tracegroupgap": 0
        },
        "margin": {
         "t": 60
        },
        "template": {
         "data": {
          "bar": [
           {
            "error_x": {
             "color": "#2a3f5f"
            },
            "error_y": {
             "color": "#2a3f5f"
            },
            "marker": {
             "line": {
              "color": "#E5ECF6",
              "width": 0.5
             },
             "pattern": {
              "fillmode": "overlay",
              "size": 10,
              "solidity": 0.2
             }
            },
            "type": "bar"
           }
          ],
          "barpolar": [
           {
            "marker": {
             "line": {
              "color": "#E5ECF6",
              "width": 0.5
             },
             "pattern": {
              "fillmode": "overlay",
              "size": 10,
              "solidity": 0.2
             }
            },
            "type": "barpolar"
           }
          ],
          "carpet": [
           {
            "aaxis": {
             "endlinecolor": "#2a3f5f",
             "gridcolor": "white",
             "linecolor": "white",
             "minorgridcolor": "white",
             "startlinecolor": "#2a3f5f"
            },
            "baxis": {
             "endlinecolor": "#2a3f5f",
             "gridcolor": "white",
             "linecolor": "white",
             "minorgridcolor": "white",
             "startlinecolor": "#2a3f5f"
            },
            "type": "carpet"
           }
          ],
          "choropleth": [
           {
            "colorbar": {
             "outlinewidth": 0,
             "ticks": ""
            },
            "type": "choropleth"
           }
          ],
          "contour": [
           {
            "colorbar": {
             "outlinewidth": 0,
             "ticks": ""
            },
            "colorscale": [
             [
              0,
              "#0d0887"
             ],
             [
              0.1111111111111111,
              "#46039f"
             ],
             [
              0.2222222222222222,
              "#7201a8"
             ],
             [
              0.3333333333333333,
              "#9c179e"
             ],
             [
              0.4444444444444444,
              "#bd3786"
             ],
             [
              0.5555555555555556,
              "#d8576b"
             ],
             [
              0.6666666666666666,
              "#ed7953"
             ],
             [
              0.7777777777777778,
              "#fb9f3a"
             ],
             [
              0.8888888888888888,
              "#fdca26"
             ],
             [
              1,
              "#f0f921"
             ]
            ],
            "type": "contour"
           }
          ],
          "contourcarpet": [
           {
            "colorbar": {
             "outlinewidth": 0,
             "ticks": ""
            },
            "type": "contourcarpet"
           }
          ],
          "heatmap": [
           {
            "colorbar": {
             "outlinewidth": 0,
             "ticks": ""
            },
            "colorscale": [
             [
              0,
              "#0d0887"
             ],
             [
              0.1111111111111111,
              "#46039f"
             ],
             [
              0.2222222222222222,
              "#7201a8"
             ],
             [
              0.3333333333333333,
              "#9c179e"
             ],
             [
              0.4444444444444444,
              "#bd3786"
             ],
             [
              0.5555555555555556,
              "#d8576b"
             ],
             [
              0.6666666666666666,
              "#ed7953"
             ],
             [
              0.7777777777777778,
              "#fb9f3a"
             ],
             [
              0.8888888888888888,
              "#fdca26"
             ],
             [
              1,
              "#f0f921"
             ]
            ],
            "type": "heatmap"
           }
          ],
          "heatmapgl": [
           {
            "colorbar": {
             "outlinewidth": 0,
             "ticks": ""
            },
            "colorscale": [
             [
              0,
              "#0d0887"
             ],
             [
              0.1111111111111111,
              "#46039f"
             ],
             [
              0.2222222222222222,
              "#7201a8"
             ],
             [
              0.3333333333333333,
              "#9c179e"
             ],
             [
              0.4444444444444444,
              "#bd3786"
             ],
             [
              0.5555555555555556,
              "#d8576b"
             ],
             [
              0.6666666666666666,
              "#ed7953"
             ],
             [
              0.7777777777777778,
              "#fb9f3a"
             ],
             [
              0.8888888888888888,
              "#fdca26"
             ],
             [
              1,
              "#f0f921"
             ]
            ],
            "type": "heatmapgl"
           }
          ],
          "histogram": [
           {
            "marker": {
             "pattern": {
              "fillmode": "overlay",
              "size": 10,
              "solidity": 0.2
             }
            },
            "type": "histogram"
           }
          ],
          "histogram2d": [
           {
            "colorbar": {
             "outlinewidth": 0,
             "ticks": ""
            },
            "colorscale": [
             [
              0,
              "#0d0887"
             ],
             [
              0.1111111111111111,
              "#46039f"
             ],
             [
              0.2222222222222222,
              "#7201a8"
             ],
             [
              0.3333333333333333,
              "#9c179e"
             ],
             [
              0.4444444444444444,
              "#bd3786"
             ],
             [
              0.5555555555555556,
              "#d8576b"
             ],
             [
              0.6666666666666666,
              "#ed7953"
             ],
             [
              0.7777777777777778,
              "#fb9f3a"
             ],
             [
              0.8888888888888888,
              "#fdca26"
             ],
             [
              1,
              "#f0f921"
             ]
            ],
            "type": "histogram2d"
           }
          ],
          "histogram2dcontour": [
           {
            "colorbar": {
             "outlinewidth": 0,
             "ticks": ""
            },
            "colorscale": [
             [
              0,
              "#0d0887"
             ],
             [
              0.1111111111111111,
              "#46039f"
             ],
             [
              0.2222222222222222,
              "#7201a8"
             ],
             [
              0.3333333333333333,
              "#9c179e"
             ],
             [
              0.4444444444444444,
              "#bd3786"
             ],
             [
              0.5555555555555556,
              "#d8576b"
             ],
             [
              0.6666666666666666,
              "#ed7953"
             ],
             [
              0.7777777777777778,
              "#fb9f3a"
             ],
             [
              0.8888888888888888,
              "#fdca26"
             ],
             [
              1,
              "#f0f921"
             ]
            ],
            "type": "histogram2dcontour"
           }
          ],
          "mesh3d": [
           {
            "colorbar": {
             "outlinewidth": 0,
             "ticks": ""
            },
            "type": "mesh3d"
           }
          ],
          "parcoords": [
           {
            "line": {
             "colorbar": {
              "outlinewidth": 0,
              "ticks": ""
             }
            },
            "type": "parcoords"
           }
          ],
          "pie": [
           {
            "automargin": true,
            "type": "pie"
           }
          ],
          "scatter": [
           {
            "marker": {
             "colorbar": {
              "outlinewidth": 0,
              "ticks": ""
             }
            },
            "type": "scatter"
           }
          ],
          "scatter3d": [
           {
            "line": {
             "colorbar": {
              "outlinewidth": 0,
              "ticks": ""
             }
            },
            "marker": {
             "colorbar": {
              "outlinewidth": 0,
              "ticks": ""
             }
            },
            "type": "scatter3d"
           }
          ],
          "scattercarpet": [
           {
            "marker": {
             "colorbar": {
              "outlinewidth": 0,
              "ticks": ""
             }
            },
            "type": "scattercarpet"
           }
          ],
          "scattergeo": [
           {
            "marker": {
             "colorbar": {
              "outlinewidth": 0,
              "ticks": ""
             }
            },
            "type": "scattergeo"
           }
          ],
          "scattergl": [
           {
            "marker": {
             "colorbar": {
              "outlinewidth": 0,
              "ticks": ""
             }
            },
            "type": "scattergl"
           }
          ],
          "scattermapbox": [
           {
            "marker": {
             "colorbar": {
              "outlinewidth": 0,
              "ticks": ""
             }
            },
            "type": "scattermapbox"
           }
          ],
          "scatterpolar": [
           {
            "marker": {
             "colorbar": {
              "outlinewidth": 0,
              "ticks": ""
             }
            },
            "type": "scatterpolar"
           }
          ],
          "scatterpolargl": [
           {
            "marker": {
             "colorbar": {
              "outlinewidth": 0,
              "ticks": ""
             }
            },
            "type": "scatterpolargl"
           }
          ],
          "scatterternary": [
           {
            "marker": {
             "colorbar": {
              "outlinewidth": 0,
              "ticks": ""
             }
            },
            "type": "scatterternary"
           }
          ],
          "surface": [
           {
            "colorbar": {
             "outlinewidth": 0,
             "ticks": ""
            },
            "colorscale": [
             [
              0,
              "#0d0887"
             ],
             [
              0.1111111111111111,
              "#46039f"
             ],
             [
              0.2222222222222222,
              "#7201a8"
             ],
             [
              0.3333333333333333,
              "#9c179e"
             ],
             [
              0.4444444444444444,
              "#bd3786"
             ],
             [
              0.5555555555555556,
              "#d8576b"
             ],
             [
              0.6666666666666666,
              "#ed7953"
             ],
             [
              0.7777777777777778,
              "#fb9f3a"
             ],
             [
              0.8888888888888888,
              "#fdca26"
             ],
             [
              1,
              "#f0f921"
             ]
            ],
            "type": "surface"
           }
          ],
          "table": [
           {
            "cells": {
             "fill": {
              "color": "#EBF0F8"
             },
             "line": {
              "color": "white"
             }
            },
            "header": {
             "fill": {
              "color": "#C8D4E3"
             },
             "line": {
              "color": "white"
             }
            },
            "type": "table"
           }
          ]
         },
         "layout": {
          "annotationdefaults": {
           "arrowcolor": "#2a3f5f",
           "arrowhead": 0,
           "arrowwidth": 1
          },
          "autotypenumbers": "strict",
          "coloraxis": {
           "colorbar": {
            "outlinewidth": 0,
            "ticks": ""
           }
          },
          "colorscale": {
           "diverging": [
            [
             0,
             "#8e0152"
            ],
            [
             0.1,
             "#c51b7d"
            ],
            [
             0.2,
             "#de77ae"
            ],
            [
             0.3,
             "#f1b6da"
            ],
            [
             0.4,
             "#fde0ef"
            ],
            [
             0.5,
             "#f7f7f7"
            ],
            [
             0.6,
             "#e6f5d0"
            ],
            [
             0.7,
             "#b8e186"
            ],
            [
             0.8,
             "#7fbc41"
            ],
            [
             0.9,
             "#4d9221"
            ],
            [
             1,
             "#276419"
            ]
           ],
           "sequential": [
            [
             0,
             "#0d0887"
            ],
            [
             0.1111111111111111,
             "#46039f"
            ],
            [
             0.2222222222222222,
             "#7201a8"
            ],
            [
             0.3333333333333333,
             "#9c179e"
            ],
            [
             0.4444444444444444,
             "#bd3786"
            ],
            [
             0.5555555555555556,
             "#d8576b"
            ],
            [
             0.6666666666666666,
             "#ed7953"
            ],
            [
             0.7777777777777778,
             "#fb9f3a"
            ],
            [
             0.8888888888888888,
             "#fdca26"
            ],
            [
             1,
             "#f0f921"
            ]
           ],
           "sequentialminus": [
            [
             0,
             "#0d0887"
            ],
            [
             0.1111111111111111,
             "#46039f"
            ],
            [
             0.2222222222222222,
             "#7201a8"
            ],
            [
             0.3333333333333333,
             "#9c179e"
            ],
            [
             0.4444444444444444,
             "#bd3786"
            ],
            [
             0.5555555555555556,
             "#d8576b"
            ],
            [
             0.6666666666666666,
             "#ed7953"
            ],
            [
             0.7777777777777778,
             "#fb9f3a"
            ],
            [
             0.8888888888888888,
             "#fdca26"
            ],
            [
             1,
             "#f0f921"
            ]
           ]
          },
          "colorway": [
           "#636efa",
           "#EF553B",
           "#00cc96",
           "#ab63fa",
           "#FFA15A",
           "#19d3f3",
           "#FF6692",
           "#B6E880",
           "#FF97FF",
           "#FECB52"
          ],
          "font": {
           "color": "#2a3f5f"
          },
          "geo": {
           "bgcolor": "white",
           "lakecolor": "white",
           "landcolor": "#E5ECF6",
           "showlakes": true,
           "showland": true,
           "subunitcolor": "white"
          },
          "hoverlabel": {
           "align": "left"
          },
          "hovermode": "closest",
          "mapbox": {
           "style": "light"
          },
          "paper_bgcolor": "white",
          "plot_bgcolor": "#E5ECF6",
          "polar": {
           "angularaxis": {
            "gridcolor": "white",
            "linecolor": "white",
            "ticks": ""
           },
           "bgcolor": "#E5ECF6",
           "radialaxis": {
            "gridcolor": "white",
            "linecolor": "white",
            "ticks": ""
           }
          },
          "scene": {
           "xaxis": {
            "backgroundcolor": "#E5ECF6",
            "gridcolor": "white",
            "gridwidth": 2,
            "linecolor": "white",
            "showbackground": true,
            "ticks": "",
            "zerolinecolor": "white"
           },
           "yaxis": {
            "backgroundcolor": "#E5ECF6",
            "gridcolor": "white",
            "gridwidth": 2,
            "linecolor": "white",
            "showbackground": true,
            "ticks": "",
            "zerolinecolor": "white"
           },
           "zaxis": {
            "backgroundcolor": "#E5ECF6",
            "gridcolor": "white",
            "gridwidth": 2,
            "linecolor": "white",
            "showbackground": true,
            "ticks": "",
            "zerolinecolor": "white"
           }
          },
          "shapedefaults": {
           "line": {
            "color": "#2a3f5f"
           }
          },
          "ternary": {
           "aaxis": {
            "gridcolor": "white",
            "linecolor": "white",
            "ticks": ""
           },
           "baxis": {
            "gridcolor": "white",
            "linecolor": "white",
            "ticks": ""
           },
           "bgcolor": "#E5ECF6",
           "caxis": {
            "gridcolor": "white",
            "linecolor": "white",
            "ticks": ""
           }
          },
          "title": {
           "x": 0.05
          },
          "xaxis": {
           "automargin": true,
           "gridcolor": "white",
           "linecolor": "white",
           "ticks": "",
           "title": {
            "standoff": 15
           },
           "zerolinecolor": "white",
           "zerolinewidth": 2
          },
          "yaxis": {
           "automargin": true,
           "gridcolor": "white",
           "linecolor": "white",
           "ticks": "",
           "title": {
            "standoff": 15
           },
           "zerolinecolor": "white",
           "zerolinewidth": 2
          }
         }
        },
        "xaxis": {
         "anchor": "y",
         "domain": [
          0,
          1
         ],
         "title": {
          "text": "x"
         }
        },
        "yaxis": {
         "anchor": "x",
         "domain": [
          0,
          1
         ],
         "title": {
          "text": "y"
         }
        }
       }
      },
      "text/html": [
       "<div>                            <div id=\"ebc88630-1020-4b5c-81bd-1a44a6eb5739\" class=\"plotly-graph-div\" style=\"height:525px; width:100%;\"></div>            <script type=\"text/javascript\">                require([\"plotly\"], function(Plotly) {                    window.PLOTLYENV=window.PLOTLYENV || {};                                    if (document.getElementById(\"ebc88630-1020-4b5c-81bd-1a44a6eb5739\")) {                    Plotly.newPlot(                        \"ebc88630-1020-4b5c-81bd-1a44a6eb5739\",                        [{\"alignmentgroup\":\"True\",\"hovertemplate\":\"x=%{x}<br>y=%{y}<extra></extra>\",\"legendgroup\":\"\",\"marker\":{\"color\":\"#636efa\",\"pattern\":{\"shape\":\"\"}},\"name\":\"\",\"offsetgroup\":\"\",\"orientation\":\"v\",\"showlegend\":false,\"textposition\":\"auto\",\"type\":\"bar\",\"x\":[\"no\",\"s\\u00ed\"],\"xaxis\":\"x\",\"y\":[371,262],\"yaxis\":\"y\"}],                        {\"barmode\":\"relative\",\"legend\":{\"tracegroupgap\":0},\"margin\":{\"t\":60},\"template\":{\"data\":{\"bar\":[{\"error_x\":{\"color\":\"#2a3f5f\"},\"error_y\":{\"color\":\"#2a3f5f\"},\"marker\":{\"line\":{\"color\":\"#E5ECF6\",\"width\":0.5},\"pattern\":{\"fillmode\":\"overlay\",\"size\":10,\"solidity\":0.2}},\"type\":\"bar\"}],\"barpolar\":[{\"marker\":{\"line\":{\"color\":\"#E5ECF6\",\"width\":0.5},\"pattern\":{\"fillmode\":\"overlay\",\"size\":10,\"solidity\":0.2}},\"type\":\"barpolar\"}],\"carpet\":[{\"aaxis\":{\"endlinecolor\":\"#2a3f5f\",\"gridcolor\":\"white\",\"linecolor\":\"white\",\"minorgridcolor\":\"white\",\"startlinecolor\":\"#2a3f5f\"},\"baxis\":{\"endlinecolor\":\"#2a3f5f\",\"gridcolor\":\"white\",\"linecolor\":\"white\",\"minorgridcolor\":\"white\",\"startlinecolor\":\"#2a3f5f\"},\"type\":\"carpet\"}],\"choropleth\":[{\"colorbar\":{\"outlinewidth\":0,\"ticks\":\"\"},\"type\":\"choropleth\"}],\"contour\":[{\"colorbar\":{\"outlinewidth\":0,\"ticks\":\"\"},\"colorscale\":[[0.0,\"#0d0887\"],[0.1111111111111111,\"#46039f\"],[0.2222222222222222,\"#7201a8\"],[0.3333333333333333,\"#9c179e\"],[0.4444444444444444,\"#bd3786\"],[0.5555555555555556,\"#d8576b\"],[0.6666666666666666,\"#ed7953\"],[0.7777777777777778,\"#fb9f3a\"],[0.8888888888888888,\"#fdca26\"],[1.0,\"#f0f921\"]],\"type\":\"contour\"}],\"contourcarpet\":[{\"colorbar\":{\"outlinewidth\":0,\"ticks\":\"\"},\"type\":\"contourcarpet\"}],\"heatmap\":[{\"colorbar\":{\"outlinewidth\":0,\"ticks\":\"\"},\"colorscale\":[[0.0,\"#0d0887\"],[0.1111111111111111,\"#46039f\"],[0.2222222222222222,\"#7201a8\"],[0.3333333333333333,\"#9c179e\"],[0.4444444444444444,\"#bd3786\"],[0.5555555555555556,\"#d8576b\"],[0.6666666666666666,\"#ed7953\"],[0.7777777777777778,\"#fb9f3a\"],[0.8888888888888888,\"#fdca26\"],[1.0,\"#f0f921\"]],\"type\":\"heatmap\"}],\"heatmapgl\":[{\"colorbar\":{\"outlinewidth\":0,\"ticks\":\"\"},\"colorscale\":[[0.0,\"#0d0887\"],[0.1111111111111111,\"#46039f\"],[0.2222222222222222,\"#7201a8\"],[0.3333333333333333,\"#9c179e\"],[0.4444444444444444,\"#bd3786\"],[0.5555555555555556,\"#d8576b\"],[0.6666666666666666,\"#ed7953\"],[0.7777777777777778,\"#fb9f3a\"],[0.8888888888888888,\"#fdca26\"],[1.0,\"#f0f921\"]],\"type\":\"heatmapgl\"}],\"histogram\":[{\"marker\":{\"pattern\":{\"fillmode\":\"overlay\",\"size\":10,\"solidity\":0.2}},\"type\":\"histogram\"}],\"histogram2d\":[{\"colorbar\":{\"outlinewidth\":0,\"ticks\":\"\"},\"colorscale\":[[0.0,\"#0d0887\"],[0.1111111111111111,\"#46039f\"],[0.2222222222222222,\"#7201a8\"],[0.3333333333333333,\"#9c179e\"],[0.4444444444444444,\"#bd3786\"],[0.5555555555555556,\"#d8576b\"],[0.6666666666666666,\"#ed7953\"],[0.7777777777777778,\"#fb9f3a\"],[0.8888888888888888,\"#fdca26\"],[1.0,\"#f0f921\"]],\"type\":\"histogram2d\"}],\"histogram2dcontour\":[{\"colorbar\":{\"outlinewidth\":0,\"ticks\":\"\"},\"colorscale\":[[0.0,\"#0d0887\"],[0.1111111111111111,\"#46039f\"],[0.2222222222222222,\"#7201a8\"],[0.3333333333333333,\"#9c179e\"],[0.4444444444444444,\"#bd3786\"],[0.5555555555555556,\"#d8576b\"],[0.6666666666666666,\"#ed7953\"],[0.7777777777777778,\"#fb9f3a\"],[0.8888888888888888,\"#fdca26\"],[1.0,\"#f0f921\"]],\"type\":\"histogram2dcontour\"}],\"mesh3d\":[{\"colorbar\":{\"outlinewidth\":0,\"ticks\":\"\"},\"type\":\"mesh3d\"}],\"parcoords\":[{\"line\":{\"colorbar\":{\"outlinewidth\":0,\"ticks\":\"\"}},\"type\":\"parcoords\"}],\"pie\":[{\"automargin\":true,\"type\":\"pie\"}],\"scatter\":[{\"marker\":{\"colorbar\":{\"outlinewidth\":0,\"ticks\":\"\"}},\"type\":\"scatter\"}],\"scatter3d\":[{\"line\":{\"colorbar\":{\"outlinewidth\":0,\"ticks\":\"\"}},\"marker\":{\"colorbar\":{\"outlinewidth\":0,\"ticks\":\"\"}},\"type\":\"scatter3d\"}],\"scattercarpet\":[{\"marker\":{\"colorbar\":{\"outlinewidth\":0,\"ticks\":\"\"}},\"type\":\"scattercarpet\"}],\"scattergeo\":[{\"marker\":{\"colorbar\":{\"outlinewidth\":0,\"ticks\":\"\"}},\"type\":\"scattergeo\"}],\"scattergl\":[{\"marker\":{\"colorbar\":{\"outlinewidth\":0,\"ticks\":\"\"}},\"type\":\"scattergl\"}],\"scattermapbox\":[{\"marker\":{\"colorbar\":{\"outlinewidth\":0,\"ticks\":\"\"}},\"type\":\"scattermapbox\"}],\"scatterpolar\":[{\"marker\":{\"colorbar\":{\"outlinewidth\":0,\"ticks\":\"\"}},\"type\":\"scatterpolar\"}],\"scatterpolargl\":[{\"marker\":{\"colorbar\":{\"outlinewidth\":0,\"ticks\":\"\"}},\"type\":\"scatterpolargl\"}],\"scatterternary\":[{\"marker\":{\"colorbar\":{\"outlinewidth\":0,\"ticks\":\"\"}},\"type\":\"scatterternary\"}],\"surface\":[{\"colorbar\":{\"outlinewidth\":0,\"ticks\":\"\"},\"colorscale\":[[0.0,\"#0d0887\"],[0.1111111111111111,\"#46039f\"],[0.2222222222222222,\"#7201a8\"],[0.3333333333333333,\"#9c179e\"],[0.4444444444444444,\"#bd3786\"],[0.5555555555555556,\"#d8576b\"],[0.6666666666666666,\"#ed7953\"],[0.7777777777777778,\"#fb9f3a\"],[0.8888888888888888,\"#fdca26\"],[1.0,\"#f0f921\"]],\"type\":\"surface\"}],\"table\":[{\"cells\":{\"fill\":{\"color\":\"#EBF0F8\"},\"line\":{\"color\":\"white\"}},\"header\":{\"fill\":{\"color\":\"#C8D4E3\"},\"line\":{\"color\":\"white\"}},\"type\":\"table\"}]},\"layout\":{\"annotationdefaults\":{\"arrowcolor\":\"#2a3f5f\",\"arrowhead\":0,\"arrowwidth\":1},\"autotypenumbers\":\"strict\",\"coloraxis\":{\"colorbar\":{\"outlinewidth\":0,\"ticks\":\"\"}},\"colorscale\":{\"diverging\":[[0,\"#8e0152\"],[0.1,\"#c51b7d\"],[0.2,\"#de77ae\"],[0.3,\"#f1b6da\"],[0.4,\"#fde0ef\"],[0.5,\"#f7f7f7\"],[0.6,\"#e6f5d0\"],[0.7,\"#b8e186\"],[0.8,\"#7fbc41\"],[0.9,\"#4d9221\"],[1,\"#276419\"]],\"sequential\":[[0.0,\"#0d0887\"],[0.1111111111111111,\"#46039f\"],[0.2222222222222222,\"#7201a8\"],[0.3333333333333333,\"#9c179e\"],[0.4444444444444444,\"#bd3786\"],[0.5555555555555556,\"#d8576b\"],[0.6666666666666666,\"#ed7953\"],[0.7777777777777778,\"#fb9f3a\"],[0.8888888888888888,\"#fdca26\"],[1.0,\"#f0f921\"]],\"sequentialminus\":[[0.0,\"#0d0887\"],[0.1111111111111111,\"#46039f\"],[0.2222222222222222,\"#7201a8\"],[0.3333333333333333,\"#9c179e\"],[0.4444444444444444,\"#bd3786\"],[0.5555555555555556,\"#d8576b\"],[0.6666666666666666,\"#ed7953\"],[0.7777777777777778,\"#fb9f3a\"],[0.8888888888888888,\"#fdca26\"],[1.0,\"#f0f921\"]]},\"colorway\":[\"#636efa\",\"#EF553B\",\"#00cc96\",\"#ab63fa\",\"#FFA15A\",\"#19d3f3\",\"#FF6692\",\"#B6E880\",\"#FF97FF\",\"#FECB52\"],\"font\":{\"color\":\"#2a3f5f\"},\"geo\":{\"bgcolor\":\"white\",\"lakecolor\":\"white\",\"landcolor\":\"#E5ECF6\",\"showlakes\":true,\"showland\":true,\"subunitcolor\":\"white\"},\"hoverlabel\":{\"align\":\"left\"},\"hovermode\":\"closest\",\"mapbox\":{\"style\":\"light\"},\"paper_bgcolor\":\"white\",\"plot_bgcolor\":\"#E5ECF6\",\"polar\":{\"angularaxis\":{\"gridcolor\":\"white\",\"linecolor\":\"white\",\"ticks\":\"\"},\"bgcolor\":\"#E5ECF6\",\"radialaxis\":{\"gridcolor\":\"white\",\"linecolor\":\"white\",\"ticks\":\"\"}},\"scene\":{\"xaxis\":{\"backgroundcolor\":\"#E5ECF6\",\"gridcolor\":\"white\",\"gridwidth\":2,\"linecolor\":\"white\",\"showbackground\":true,\"ticks\":\"\",\"zerolinecolor\":\"white\"},\"yaxis\":{\"backgroundcolor\":\"#E5ECF6\",\"gridcolor\":\"white\",\"gridwidth\":2,\"linecolor\":\"white\",\"showbackground\":true,\"ticks\":\"\",\"zerolinecolor\":\"white\"},\"zaxis\":{\"backgroundcolor\":\"#E5ECF6\",\"gridcolor\":\"white\",\"gridwidth\":2,\"linecolor\":\"white\",\"showbackground\":true,\"ticks\":\"\",\"zerolinecolor\":\"white\"}},\"shapedefaults\":{\"line\":{\"color\":\"#2a3f5f\"}},\"ternary\":{\"aaxis\":{\"gridcolor\":\"white\",\"linecolor\":\"white\",\"ticks\":\"\"},\"baxis\":{\"gridcolor\":\"white\",\"linecolor\":\"white\",\"ticks\":\"\"},\"bgcolor\":\"#E5ECF6\",\"caxis\":{\"gridcolor\":\"white\",\"linecolor\":\"white\",\"ticks\":\"\"}},\"title\":{\"x\":0.05},\"xaxis\":{\"automargin\":true,\"gridcolor\":\"white\",\"linecolor\":\"white\",\"ticks\":\"\",\"title\":{\"standoff\":15},\"zerolinecolor\":\"white\",\"zerolinewidth\":2},\"yaxis\":{\"automargin\":true,\"gridcolor\":\"white\",\"linecolor\":\"white\",\"ticks\":\"\",\"title\":{\"standoff\":15},\"zerolinecolor\":\"white\",\"zerolinewidth\":2}}},\"xaxis\":{\"anchor\":\"y\",\"domain\":[0.0,1.0],\"title\":{\"text\":\"x\"}},\"yaxis\":{\"anchor\":\"x\",\"domain\":[0.0,1.0],\"title\":{\"text\":\"y\"}}},                        {\"responsive\": true}                    ).then(function(){\n",
       "                            \n",
       "var gd = document.getElementById('ebc88630-1020-4b5c-81bd-1a44a6eb5739');\n",
       "var x = new MutationObserver(function (mutations, observer) {{\n",
       "        var display = window.getComputedStyle(gd).display;\n",
       "        if (!display || display === 'none') {{\n",
       "            console.log([gd, 'removed!']);\n",
       "            Plotly.purge(gd);\n",
       "            observer.disconnect();\n",
       "        }}\n",
       "}});\n",
       "\n",
       "// Listen for the removal of the full notebook cells\n",
       "var notebookContainer = gd.closest('#notebook-container');\n",
       "if (notebookContainer) {{\n",
       "    x.observe(notebookContainer, {childList: true});\n",
       "}}\n",
       "\n",
       "// Listen for the clearing of the current output cell\n",
       "var outputEl = gd.closest('.output');\n",
       "if (outputEl) {{\n",
       "    x.observe(outputEl, {childList: true});\n",
       "}}\n",
       "\n",
       "                        })                };                });            </script>        </div>"
      ]
     },
     "metadata": {},
     "output_type": "display_data"
    }
   ],
   "source": [
    "fig_enlista.show()"
   ]
  },
  {
   "cell_type": "code",
   "execution_count": 143,
   "id": "ad749ee2",
   "metadata": {},
   "outputs": [
    {
     "data": {
      "text/html": [
       "<div>\n",
       "<style scoped>\n",
       "    .dataframe tbody tr th:only-of-type {\n",
       "        vertical-align: middle;\n",
       "    }\n",
       "\n",
       "    .dataframe tbody tr th {\n",
       "        vertical-align: top;\n",
       "    }\n",
       "\n",
       "    .dataframe thead th {\n",
       "        text-align: right;\n",
       "    }\n",
       "</style>\n",
       "<table border=\"1\" class=\"dataframe\">\n",
       "  <thead>\n",
       "    <tr style=\"text-align: right;\">\n",
       "      <th></th>\n",
       "      <th>Rank</th>\n",
       "      <th>Artist</th>\n",
       "      <th>Album_x</th>\n",
       "      <th>Total</th>\n",
       "      <th>Number</th>\n",
       "      <th>playcount</th>\n",
       "      <th>listeners</th>\n",
       "      <th>en_lista</th>\n",
       "    </tr>\n",
       "  </thead>\n",
       "  <tbody>\n",
       "    <tr>\n",
       "      <th>0</th>\n",
       "      <td>1</td>\n",
       "      <td>Ed Sheeran</td>\n",
       "      <td>÷ (Deluxe)</td>\n",
       "      <td>11127100157</td>\n",
       "      <td>0</td>\n",
       "      <td>0</td>\n",
       "      <td>0</td>\n",
       "      <td>no</td>\n",
       "    </tr>\n",
       "    <tr>\n",
       "      <th>1</th>\n",
       "      <td>2</td>\n",
       "      <td>Post Malone</td>\n",
       "      <td>beerbongs &amp; bentleys</td>\n",
       "      <td>9384072978</td>\n",
       "      <td>0</td>\n",
       "      <td>0</td>\n",
       "      <td>0</td>\n",
       "      <td>no</td>\n",
       "    </tr>\n",
       "    <tr>\n",
       "      <th>2</th>\n",
       "      <td>3</td>\n",
       "      <td>Dua Lipa</td>\n",
       "      <td>Dua Lipa (Complete Edition)</td>\n",
       "      <td>8732775214</td>\n",
       "      <td>0</td>\n",
       "      <td>0</td>\n",
       "      <td>0</td>\n",
       "      <td>no</td>\n",
       "    </tr>\n",
       "    <tr>\n",
       "      <th>3</th>\n",
       "      <td>4</td>\n",
       "      <td>Post Malone</td>\n",
       "      <td>Hollywood's Bleeding</td>\n",
       "      <td>8617566505</td>\n",
       "      <td>0</td>\n",
       "      <td>0</td>\n",
       "      <td>0</td>\n",
       "      <td>no</td>\n",
       "    </tr>\n",
       "    <tr>\n",
       "      <th>4</th>\n",
       "      <td>5</td>\n",
       "      <td>Ed Sheeran</td>\n",
       "      <td>x (Wembley Edition)</td>\n",
       "      <td>8391502029</td>\n",
       "      <td>0</td>\n",
       "      <td>0</td>\n",
       "      <td>0</td>\n",
       "      <td>no</td>\n",
       "    </tr>\n",
       "  </tbody>\n",
       "</table>\n",
       "</div>"
      ],
      "text/plain": [
       "   Rank       Artist                      Album_x        Total  Number  \\\n",
       "0     1   Ed Sheeran                   ÷ (Deluxe)  11127100157       0   \n",
       "1     2  Post Malone         beerbongs & bentleys   9384072978       0   \n",
       "2     3     Dua Lipa  Dua Lipa (Complete Edition)   8732775214       0   \n",
       "3     4  Post Malone         Hollywood's Bleeding   8617566505       0   \n",
       "4     5   Ed Sheeran          x (Wembley Edition)   8391502029       0   \n",
       "\n",
       "   playcount  listeners en_lista  \n",
       "0          0          0       no  \n",
       "1          0          0       no  \n",
       "2          0          0       no  \n",
       "3          0          0       no  \n",
       "4          0          0       no  "
      ]
     },
     "execution_count": 143,
     "metadata": {},
     "output_type": "execute_result"
    }
   ],
   "source": [
    "fig = px.scatter(spot_last, x=\"flipper_length_mm\", y=\"body_mass_g\")\n",
    "fig.show()"
   ]
  },
  {
   "cell_type": "markdown",
   "id": "4ab0dda4",
   "metadata": {},
   "source": [
    "## top sells"
   ]
  },
  {
   "cell_type": "code",
   "execution_count": 216,
   "id": "1e192b0a",
   "metadata": {},
   "outputs": [],
   "source": [
    "top_sells = pd.read_csv(\"../data/top_sells.csv\")\n",
    "top_sells.drop([\"Unnamed: 0\"], axis = 1, inplace = True)"
   ]
  },
  {
   "cell_type": "code",
   "execution_count": 231,
   "id": "b5e8d12e",
   "metadata": {},
   "outputs": [],
   "source": [
    "sells_art = top_sells.groupby([\"Artist\"]).agg({\"Rank\":\"min\",\"Title\":\"count\",\"Millions\":\"sum\"}).reset_index().sort_values(\"Millions\", ascending = False)"
   ]
  },
  {
   "cell_type": "code",
   "execution_count": 233,
   "id": "c74f4bc6",
   "metadata": {},
   "outputs": [
    {
     "data": {
      "text/html": [
       "<div>\n",
       "<style scoped>\n",
       "    .dataframe tbody tr th:only-of-type {\n",
       "        vertical-align: middle;\n",
       "    }\n",
       "\n",
       "    .dataframe tbody tr th {\n",
       "        vertical-align: top;\n",
       "    }\n",
       "\n",
       "    .dataframe thead th {\n",
       "        text-align: right;\n",
       "    }\n",
       "</style>\n",
       "<table border=\"1\" class=\"dataframe\">\n",
       "  <thead>\n",
       "    <tr style=\"text-align: right;\">\n",
       "      <th></th>\n",
       "      <th>Artist</th>\n",
       "      <th>Rank</th>\n",
       "      <th>Title</th>\n",
       "      <th>Millions</th>\n",
       "    </tr>\n",
       "  </thead>\n",
       "  <tbody>\n",
       "    <tr>\n",
       "      <th>15</th>\n",
       "      <td>Eagles</td>\n",
       "      <td>1</td>\n",
       "      <td>2</td>\n",
       "      <td>64</td>\n",
       "    </tr>\n",
       "    <tr>\n",
       "      <th>36</th>\n",
       "      <td>The Beatles</td>\n",
       "      <td>5</td>\n",
       "      <td>3</td>\n",
       "      <td>56</td>\n",
       "    </tr>\n",
       "    <tr>\n",
       "      <th>18</th>\n",
       "      <td>Garth Brooks</td>\n",
       "      <td>9</td>\n",
       "      <td>3</td>\n",
       "      <td>53</td>\n",
       "    </tr>\n",
       "  </tbody>\n",
       "</table>\n",
       "</div>"
      ],
      "text/plain": [
       "           Artist  Rank  Title  Millions\n",
       "15        Eagles      1      2        64\n",
       "36   The Beatles      5      3        56\n",
       "18  Garth Brooks      9      3        53"
      ]
     },
     "execution_count": 233,
     "metadata": {},
     "output_type": "execute_result"
    }
   ],
   "source": [
    "sells_art.head(3)"
   ]
  },
  {
   "cell_type": "code",
   "execution_count": 212,
   "id": "5cf9b37e",
   "metadata": {},
   "outputs": [],
   "source": [
    "Stone_last_art= Stones_Last.groupby([\"Artist\"]).agg({\"Number\":\"min\",\"Album\":\"count\",\"playcount\":\"sum\",\"listeners\":\"sum\",\"Rating\":\"mean\"}).reset_index().sort_values(\"Number\")"
   ]
  },
  {
   "cell_type": "code",
   "execution_count": 239,
   "id": "f5b6b688",
   "metadata": {},
   "outputs": [],
   "source": [
    "sells_merge= sells_art.merge(Stone_last_art,how=\"left\",on = \"Artist\")"
   ]
  },
  {
   "cell_type": "code",
   "execution_count": 240,
   "id": "82668b25",
   "metadata": {},
   "outputs": [
    {
     "data": {
      "text/html": [
       "<div>\n",
       "<style scoped>\n",
       "    .dataframe tbody tr th:only-of-type {\n",
       "        vertical-align: middle;\n",
       "    }\n",
       "\n",
       "    .dataframe tbody tr th {\n",
       "        vertical-align: top;\n",
       "    }\n",
       "\n",
       "    .dataframe thead th {\n",
       "        text-align: right;\n",
       "    }\n",
       "</style>\n",
       "<table border=\"1\" class=\"dataframe\">\n",
       "  <thead>\n",
       "    <tr style=\"text-align: right;\">\n",
       "      <th></th>\n",
       "      <th>Artist</th>\n",
       "      <th>Rank</th>\n",
       "      <th>Title</th>\n",
       "      <th>Millions</th>\n",
       "      <th>Number</th>\n",
       "      <th>Album</th>\n",
       "      <th>playcount</th>\n",
       "      <th>listeners</th>\n",
       "      <th>Rating</th>\n",
       "    </tr>\n",
       "  </thead>\n",
       "  <tbody>\n",
       "    <tr>\n",
       "      <th>0</th>\n",
       "      <td>Eagles</td>\n",
       "      <td>1</td>\n",
       "      <td>2</td>\n",
       "      <td>64</td>\n",
       "      <td>NaN</td>\n",
       "      <td>NaN</td>\n",
       "      <td>NaN</td>\n",
       "      <td>NaN</td>\n",
       "      <td>NaN</td>\n",
       "    </tr>\n",
       "    <tr>\n",
       "      <th>1</th>\n",
       "      <td>The Beatles</td>\n",
       "      <td>5</td>\n",
       "      <td>3</td>\n",
       "      <td>56</td>\n",
       "      <td>NaN</td>\n",
       "      <td>NaN</td>\n",
       "      <td>NaN</td>\n",
       "      <td>NaN</td>\n",
       "      <td>NaN</td>\n",
       "    </tr>\n",
       "    <tr>\n",
       "      <th>2</th>\n",
       "      <td>Garth Brooks</td>\n",
       "      <td>9</td>\n",
       "      <td>3</td>\n",
       "      <td>53</td>\n",
       "      <td>NaN</td>\n",
       "      <td>NaN</td>\n",
       "      <td>NaN</td>\n",
       "      <td>NaN</td>\n",
       "      <td>NaN</td>\n",
       "    </tr>\n",
       "    <tr>\n",
       "      <th>3</th>\n",
       "      <td>Led Zeppelin</td>\n",
       "      <td>7</td>\n",
       "      <td>3</td>\n",
       "      <td>51</td>\n",
       "      <td>NaN</td>\n",
       "      <td>NaN</td>\n",
       "      <td>NaN</td>\n",
       "      <td>NaN</td>\n",
       "      <td>NaN</td>\n",
       "    </tr>\n",
       "    <tr>\n",
       "      <th>4</th>\n",
       "      <td>Pink Floyd</td>\n",
       "      <td>8</td>\n",
       "      <td>2</td>\n",
       "      <td>38</td>\n",
       "      <td>NaN</td>\n",
       "      <td>NaN</td>\n",
       "      <td>NaN</td>\n",
       "      <td>NaN</td>\n",
       "      <td>NaN</td>\n",
       "    </tr>\n",
       "    <tr>\n",
       "      <th>5</th>\n",
       "      <td>Michael Jackson</td>\n",
       "      <td>2</td>\n",
       "      <td>1</td>\n",
       "      <td>34</td>\n",
       "      <td>NaN</td>\n",
       "      <td>NaN</td>\n",
       "      <td>NaN</td>\n",
       "      <td>NaN</td>\n",
       "      <td>NaN</td>\n",
       "    </tr>\n",
       "    <tr>\n",
       "      <th>6</th>\n",
       "      <td>Whitney Houston</td>\n",
       "      <td>15</td>\n",
       "      <td>2</td>\n",
       "      <td>31</td>\n",
       "      <td>NaN</td>\n",
       "      <td>NaN</td>\n",
       "      <td>NaN</td>\n",
       "      <td>NaN</td>\n",
       "      <td>NaN</td>\n",
       "    </tr>\n",
       "    <tr>\n",
       "      <th>7</th>\n",
       "      <td>Bruce Springsteen</td>\n",
       "      <td>24</td>\n",
       "      <td>2</td>\n",
       "      <td>28</td>\n",
       "      <td>NaN</td>\n",
       "      <td>NaN</td>\n",
       "      <td>NaN</td>\n",
       "      <td>NaN</td>\n",
       "      <td>NaN</td>\n",
       "    </tr>\n",
       "    <tr>\n",
       "      <th>8</th>\n",
       "      <td>Backstreet Boys</td>\n",
       "      <td>30</td>\n",
       "      <td>2</td>\n",
       "      <td>27</td>\n",
       "      <td>NaN</td>\n",
       "      <td>NaN</td>\n",
       "      <td>NaN</td>\n",
       "      <td>NaN</td>\n",
       "      <td>NaN</td>\n",
       "    </tr>\n",
       "    <tr>\n",
       "      <th>9</th>\n",
       "      <td>AC/DC</td>\n",
       "      <td>4</td>\n",
       "      <td>1</td>\n",
       "      <td>25</td>\n",
       "      <td>NaN</td>\n",
       "      <td>NaN</td>\n",
       "      <td>NaN</td>\n",
       "      <td>NaN</td>\n",
       "      <td>NaN</td>\n",
       "    </tr>\n",
       "    <tr>\n",
       "      <th>10</th>\n",
       "      <td>Billy Joel</td>\n",
       "      <td>6</td>\n",
       "      <td>1</td>\n",
       "      <td>23</td>\n",
       "      <td>NaN</td>\n",
       "      <td>NaN</td>\n",
       "      <td>NaN</td>\n",
       "      <td>NaN</td>\n",
       "      <td>NaN</td>\n",
       "    </tr>\n",
       "    <tr>\n",
       "      <th>11</th>\n",
       "      <td>Hootie &amp; The Blowfish</td>\n",
       "      <td>10</td>\n",
       "      <td>1</td>\n",
       "      <td>21</td>\n",
       "      <td>NaN</td>\n",
       "      <td>NaN</td>\n",
       "      <td>NaN</td>\n",
       "      <td>NaN</td>\n",
       "      <td>NaN</td>\n",
       "    </tr>\n",
       "    <tr>\n",
       "      <th>12</th>\n",
       "      <td>Fleetwood Mac</td>\n",
       "      <td>11</td>\n",
       "      <td>1</td>\n",
       "      <td>20</td>\n",
       "      <td>NaN</td>\n",
       "      <td>NaN</td>\n",
       "      <td>NaN</td>\n",
       "      <td>NaN</td>\n",
       "      <td>NaN</td>\n",
       "    </tr>\n",
       "    <tr>\n",
       "      <th>13</th>\n",
       "      <td>Shania Twain</td>\n",
       "      <td>12</td>\n",
       "      <td>1</td>\n",
       "      <td>20</td>\n",
       "      <td>NaN</td>\n",
       "      <td>NaN</td>\n",
       "      <td>NaN</td>\n",
       "      <td>NaN</td>\n",
       "      <td>NaN</td>\n",
       "    </tr>\n",
       "    <tr>\n",
       "      <th>14</th>\n",
       "      <td>Guns N' Roses</td>\n",
       "      <td>14</td>\n",
       "      <td>1</td>\n",
       "      <td>18</td>\n",
       "      <td>NaN</td>\n",
       "      <td>NaN</td>\n",
       "      <td>NaN</td>\n",
       "      <td>NaN</td>\n",
       "      <td>NaN</td>\n",
       "    </tr>\n",
       "    <tr>\n",
       "      <th>15</th>\n",
       "      <td>Boston</td>\n",
       "      <td>16</td>\n",
       "      <td>1</td>\n",
       "      <td>17</td>\n",
       "      <td>NaN</td>\n",
       "      <td>NaN</td>\n",
       "      <td>NaN</td>\n",
       "      <td>NaN</td>\n",
       "      <td>NaN</td>\n",
       "    </tr>\n",
       "    <tr>\n",
       "      <th>16</th>\n",
       "      <td>Elton John</td>\n",
       "      <td>17</td>\n",
       "      <td>1</td>\n",
       "      <td>17</td>\n",
       "      <td>NaN</td>\n",
       "      <td>NaN</td>\n",
       "      <td>NaN</td>\n",
       "      <td>NaN</td>\n",
       "      <td>NaN</td>\n",
       "    </tr>\n",
       "    <tr>\n",
       "      <th>17</th>\n",
       "      <td>Alanis Morisette</td>\n",
       "      <td>19</td>\n",
       "      <td>1</td>\n",
       "      <td>16</td>\n",
       "      <td>NaN</td>\n",
       "      <td>NaN</td>\n",
       "      <td>NaN</td>\n",
       "      <td>NaN</td>\n",
       "      <td>NaN</td>\n",
       "    </tr>\n",
       "    <tr>\n",
       "      <th>18</th>\n",
       "      <td>Metallica</td>\n",
       "      <td>22</td>\n",
       "      <td>1</td>\n",
       "      <td>16</td>\n",
       "      <td>NaN</td>\n",
       "      <td>NaN</td>\n",
       "      <td>NaN</td>\n",
       "      <td>NaN</td>\n",
       "      <td>NaN</td>\n",
       "    </tr>\n",
       "    <tr>\n",
       "      <th>19</th>\n",
       "      <td>Santana</td>\n",
       "      <td>27</td>\n",
       "      <td>1</td>\n",
       "      <td>15</td>\n",
       "      <td>NaN</td>\n",
       "      <td>NaN</td>\n",
       "      <td>NaN</td>\n",
       "      <td>NaN</td>\n",
       "      <td>NaN</td>\n",
       "    </tr>\n",
       "    <tr>\n",
       "      <th>20</th>\n",
       "      <td>Bee Gees</td>\n",
       "      <td>20</td>\n",
       "      <td>1</td>\n",
       "      <td>15</td>\n",
       "      <td>NaN</td>\n",
       "      <td>NaN</td>\n",
       "      <td>NaN</td>\n",
       "      <td>NaN</td>\n",
       "      <td>NaN</td>\n",
       "    </tr>\n",
       "    <tr>\n",
       "      <th>21</th>\n",
       "      <td>Journey</td>\n",
       "      <td>25</td>\n",
       "      <td>1</td>\n",
       "      <td>15</td>\n",
       "      <td>NaN</td>\n",
       "      <td>NaN</td>\n",
       "      <td>NaN</td>\n",
       "      <td>NaN</td>\n",
       "      <td>NaN</td>\n",
       "    </tr>\n",
       "    <tr>\n",
       "      <th>22</th>\n",
       "      <td>Bob Marley &amp; The Wailers</td>\n",
       "      <td>23</td>\n",
       "      <td>1</td>\n",
       "      <td>15</td>\n",
       "      <td>NaN</td>\n",
       "      <td>NaN</td>\n",
       "      <td>NaN</td>\n",
       "      <td>NaN</td>\n",
       "      <td>NaN</td>\n",
       "    </tr>\n",
       "    <tr>\n",
       "      <th>23</th>\n",
       "      <td>Meat Loaf</td>\n",
       "      <td>33</td>\n",
       "      <td>1</td>\n",
       "      <td>14</td>\n",
       "      <td>NaN</td>\n",
       "      <td>NaN</td>\n",
       "      <td>NaN</td>\n",
       "      <td>NaN</td>\n",
       "      <td>NaN</td>\n",
       "    </tr>\n",
       "    <tr>\n",
       "      <th>24</th>\n",
       "      <td>Steve Miller Band</td>\n",
       "      <td>35</td>\n",
       "      <td>1</td>\n",
       "      <td>14</td>\n",
       "      <td>NaN</td>\n",
       "      <td>NaN</td>\n",
       "      <td>NaN</td>\n",
       "      <td>NaN</td>\n",
       "      <td>NaN</td>\n",
       "    </tr>\n",
       "    <tr>\n",
       "      <th>25</th>\n",
       "      <td>Simon &amp; Garfunkel</td>\n",
       "      <td>34</td>\n",
       "      <td>1</td>\n",
       "      <td>14</td>\n",
       "      <td>NaN</td>\n",
       "      <td>NaN</td>\n",
       "      <td>NaN</td>\n",
       "      <td>NaN</td>\n",
       "      <td>NaN</td>\n",
       "    </tr>\n",
       "    <tr>\n",
       "      <th>26</th>\n",
       "      <td>Britney Spears</td>\n",
       "      <td>31</td>\n",
       "      <td>1</td>\n",
       "      <td>14</td>\n",
       "      <td>NaN</td>\n",
       "      <td>NaN</td>\n",
       "      <td>NaN</td>\n",
       "      <td>NaN</td>\n",
       "      <td>NaN</td>\n",
       "    </tr>\n",
       "    <tr>\n",
       "      <th>27</th>\n",
       "      <td>Adele</td>\n",
       "      <td>29</td>\n",
       "      <td>1</td>\n",
       "      <td>14</td>\n",
       "      <td>NaN</td>\n",
       "      <td>NaN</td>\n",
       "      <td>NaN</td>\n",
       "      <td>NaN</td>\n",
       "      <td>NaN</td>\n",
       "    </tr>\n",
       "    <tr>\n",
       "      <th>28</th>\n",
       "      <td>Pearl Jam</td>\n",
       "      <td>39</td>\n",
       "      <td>1</td>\n",
       "      <td>13</td>\n",
       "      <td>NaN</td>\n",
       "      <td>NaN</td>\n",
       "      <td>NaN</td>\n",
       "      <td>NaN</td>\n",
       "      <td>NaN</td>\n",
       "    </tr>\n",
       "    <tr>\n",
       "      <th>29</th>\n",
       "      <td>Prince &amp; The Revolution</td>\n",
       "      <td>40</td>\n",
       "      <td>1</td>\n",
       "      <td>13</td>\n",
       "      <td>NaN</td>\n",
       "      <td>NaN</td>\n",
       "      <td>NaN</td>\n",
       "      <td>NaN</td>\n",
       "      <td>NaN</td>\n",
       "    </tr>\n",
       "    <tr>\n",
       "      <th>30</th>\n",
       "      <td>Carole King</td>\n",
       "      <td>38</td>\n",
       "      <td>1</td>\n",
       "      <td>13</td>\n",
       "      <td>NaN</td>\n",
       "      <td>NaN</td>\n",
       "      <td>NaN</td>\n",
       "      <td>NaN</td>\n",
       "      <td>NaN</td>\n",
       "    </tr>\n",
       "    <tr>\n",
       "      <th>31</th>\n",
       "      <td>The Chicks</td>\n",
       "      <td>41</td>\n",
       "      <td>1</td>\n",
       "      <td>13</td>\n",
       "      <td>NaN</td>\n",
       "      <td>NaN</td>\n",
       "      <td>NaN</td>\n",
       "      <td>NaN</td>\n",
       "      <td>NaN</td>\n",
       "    </tr>\n",
       "    <tr>\n",
       "      <th>32</th>\n",
       "      <td>Boyz II Men</td>\n",
       "      <td>44</td>\n",
       "      <td>1</td>\n",
       "      <td>12</td>\n",
       "      <td>NaN</td>\n",
       "      <td>NaN</td>\n",
       "      <td>NaN</td>\n",
       "      <td>NaN</td>\n",
       "      <td>NaN</td>\n",
       "    </tr>\n",
       "    <tr>\n",
       "      <th>33</th>\n",
       "      <td>Kenny G</td>\n",
       "      <td>48</td>\n",
       "      <td>1</td>\n",
       "      <td>12</td>\n",
       "      <td>NaN</td>\n",
       "      <td>NaN</td>\n",
       "      <td>NaN</td>\n",
       "      <td>NaN</td>\n",
       "      <td>NaN</td>\n",
       "    </tr>\n",
       "    <tr>\n",
       "      <th>34</th>\n",
       "      <td>Jewel</td>\n",
       "      <td>47</td>\n",
       "      <td>1</td>\n",
       "      <td>12</td>\n",
       "      <td>NaN</td>\n",
       "      <td>NaN</td>\n",
       "      <td>NaN</td>\n",
       "      <td>NaN</td>\n",
       "      <td>NaN</td>\n",
       "    </tr>\n",
       "    <tr>\n",
       "      <th>35</th>\n",
       "      <td>Bon Jovi</td>\n",
       "      <td>43</td>\n",
       "      <td>1</td>\n",
       "      <td>12</td>\n",
       "      <td>NaN</td>\n",
       "      <td>NaN</td>\n",
       "      <td>NaN</td>\n",
       "      <td>NaN</td>\n",
       "      <td>NaN</td>\n",
       "    </tr>\n",
       "    <tr>\n",
       "      <th>36</th>\n",
       "      <td>Def Leppard</td>\n",
       "      <td>46</td>\n",
       "      <td>1</td>\n",
       "      <td>12</td>\n",
       "      <td>NaN</td>\n",
       "      <td>NaN</td>\n",
       "      <td>NaN</td>\n",
       "      <td>NaN</td>\n",
       "      <td>NaN</td>\n",
       "    </tr>\n",
       "    <tr>\n",
       "      <th>37</th>\n",
       "      <td>Celine Dion</td>\n",
       "      <td>45</td>\n",
       "      <td>1</td>\n",
       "      <td>12</td>\n",
       "      <td>NaN</td>\n",
       "      <td>NaN</td>\n",
       "      <td>NaN</td>\n",
       "      <td>NaN</td>\n",
       "      <td>NaN</td>\n",
       "    </tr>\n",
       "    <tr>\n",
       "      <th>38</th>\n",
       "      <td>Kenny Rogers</td>\n",
       "      <td>49</td>\n",
       "      <td>1</td>\n",
       "      <td>12</td>\n",
       "      <td>NaN</td>\n",
       "      <td>NaN</td>\n",
       "      <td>NaN</td>\n",
       "      <td>NaN</td>\n",
       "      <td>NaN</td>\n",
       "    </tr>\n",
       "  </tbody>\n",
       "</table>\n",
       "</div>"
      ],
      "text/plain": [
       "                       Artist  Rank  Title  Millions  Number  Album  \\\n",
       "0                     Eagles      1      2        64     NaN    NaN   \n",
       "1                The Beatles      5      3        56     NaN    NaN   \n",
       "2               Garth Brooks      9      3        53     NaN    NaN   \n",
       "3               Led Zeppelin      7      3        51     NaN    NaN   \n",
       "4                 Pink Floyd      8      2        38     NaN    NaN   \n",
       "5            Michael Jackson      2      1        34     NaN    NaN   \n",
       "6            Whitney Houston     15      2        31     NaN    NaN   \n",
       "7          Bruce Springsteen     24      2        28     NaN    NaN   \n",
       "8            Backstreet Boys     30      2        27     NaN    NaN   \n",
       "9                      AC/DC      4      1        25     NaN    NaN   \n",
       "10                Billy Joel      6      1        23     NaN    NaN   \n",
       "11     Hootie & The Blowfish     10      1        21     NaN    NaN   \n",
       "12             Fleetwood Mac     11      1        20     NaN    NaN   \n",
       "13              Shania Twain     12      1        20     NaN    NaN   \n",
       "14             Guns N' Roses     14      1        18     NaN    NaN   \n",
       "15                    Boston     16      1        17     NaN    NaN   \n",
       "16                Elton John     17      1        17     NaN    NaN   \n",
       "17          Alanis Morisette     19      1        16     NaN    NaN   \n",
       "18                 Metallica     22      1        16     NaN    NaN   \n",
       "19                   Santana     27      1        15     NaN    NaN   \n",
       "20                  Bee Gees     20      1        15     NaN    NaN   \n",
       "21                   Journey     25      1        15     NaN    NaN   \n",
       "22  Bob Marley & The Wailers     23      1        15     NaN    NaN   \n",
       "23                 Meat Loaf     33      1        14     NaN    NaN   \n",
       "24         Steve Miller Band     35      1        14     NaN    NaN   \n",
       "25         Simon & Garfunkel     34      1        14     NaN    NaN   \n",
       "26            Britney Spears     31      1        14     NaN    NaN   \n",
       "27                     Adele     29      1        14     NaN    NaN   \n",
       "28                 Pearl Jam     39      1        13     NaN    NaN   \n",
       "29   Prince & The Revolution     40      1        13     NaN    NaN   \n",
       "30               Carole King     38      1        13     NaN    NaN   \n",
       "31                The Chicks     41      1        13     NaN    NaN   \n",
       "32               Boyz II Men     44      1        12     NaN    NaN   \n",
       "33                   Kenny G     48      1        12     NaN    NaN   \n",
       "34                     Jewel     47      1        12     NaN    NaN   \n",
       "35                  Bon Jovi     43      1        12     NaN    NaN   \n",
       "36               Def Leppard     46      1        12     NaN    NaN   \n",
       "37               Celine Dion     45      1        12     NaN    NaN   \n",
       "38              Kenny Rogers     49      1        12     NaN    NaN   \n",
       "\n",
       "    playcount  listeners  Rating  \n",
       "0         NaN        NaN     NaN  \n",
       "1         NaN        NaN     NaN  \n",
       "2         NaN        NaN     NaN  \n",
       "3         NaN        NaN     NaN  \n",
       "4         NaN        NaN     NaN  \n",
       "5         NaN        NaN     NaN  \n",
       "6         NaN        NaN     NaN  \n",
       "7         NaN        NaN     NaN  \n",
       "8         NaN        NaN     NaN  \n",
       "9         NaN        NaN     NaN  \n",
       "10        NaN        NaN     NaN  \n",
       "11        NaN        NaN     NaN  \n",
       "12        NaN        NaN     NaN  \n",
       "13        NaN        NaN     NaN  \n",
       "14        NaN        NaN     NaN  \n",
       "15        NaN        NaN     NaN  \n",
       "16        NaN        NaN     NaN  \n",
       "17        NaN        NaN     NaN  \n",
       "18        NaN        NaN     NaN  \n",
       "19        NaN        NaN     NaN  \n",
       "20        NaN        NaN     NaN  \n",
       "21        NaN        NaN     NaN  \n",
       "22        NaN        NaN     NaN  \n",
       "23        NaN        NaN     NaN  \n",
       "24        NaN        NaN     NaN  \n",
       "25        NaN        NaN     NaN  \n",
       "26        NaN        NaN     NaN  \n",
       "27        NaN        NaN     NaN  \n",
       "28        NaN        NaN     NaN  \n",
       "29        NaN        NaN     NaN  \n",
       "30        NaN        NaN     NaN  \n",
       "31        NaN        NaN     NaN  \n",
       "32        NaN        NaN     NaN  \n",
       "33        NaN        NaN     NaN  \n",
       "34        NaN        NaN     NaN  \n",
       "35        NaN        NaN     NaN  \n",
       "36        NaN        NaN     NaN  \n",
       "37        NaN        NaN     NaN  \n",
       "38        NaN        NaN     NaN  "
      ]
     },
     "execution_count": 240,
     "metadata": {},
     "output_type": "execute_result"
    }
   ],
   "source": [
    "sells_merge"
   ]
  },
  {
   "cell_type": "code",
   "execution_count": null,
   "id": "728bb633",
   "metadata": {},
   "outputs": [],
   "source": [
    "\"\"\"\n",
    "graf = sns.histplot(x=titanic.Age, kde=True) #hemos guardado el gráfico como una variable\n",
    "graf.axvline(x=titanic.Age.dropna().mean(), c=\"red\", label=\"mean\")\n",
    "graf.axvline(x=titanic.Age.dropna().median(), c=\"green\", label=\"median\")\n",
    "plt.legend()\n",
    "graf.figure.savefig(\"../images/gráfico.png\", dpi=1000)\n",
    "\"\"\""
   ]
  }
 ],
 "metadata": {
  "kernelspec": {
   "display_name": "ironhack",
   "language": "python",
   "name": "ironhack"
  },
  "language_info": {
   "codemirror_mode": {
    "name": "ipython",
    "version": 3
   },
   "file_extension": ".py",
   "mimetype": "text/x-python",
   "name": "python",
   "nbconvert_exporter": "python",
   "pygments_lexer": "ipython3",
   "version": "3.8.5"
  }
 },
 "nbformat": 4,
 "nbformat_minor": 5
}
