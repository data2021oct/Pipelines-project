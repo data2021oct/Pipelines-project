{
 "cells": [
  {
   "cell_type": "code",
   "execution_count": 199,
   "id": "12f9892d",
   "metadata": {},
   "outputs": [
    {
     "data": {
      "text/plain": [
       "True"
      ]
     },
     "execution_count": 199,
     "metadata": {},
     "output_type": "execute_result"
    }
   ],
   "source": [
    "import requests\n",
    "from bs4 import BeautifulSoup\n",
    "import requests \n",
    "import json\n",
    "import os\n",
    "from dotenv import load_dotenv\n",
    "import pandas as pd\n",
    "from pandas import json_normalize\n",
    "import tweepy\n",
    "import time\n",
    "load_dotenv()"
   ]
  },
  {
   "cell_type": "code",
   "execution_count": 200,
   "id": "95ae71eb",
   "metadata": {},
   "outputs": [],
   "source": [
    "apikey = os.getenv(\"apikey\") #apikey de lastfm"
   ]
  },
  {
   "cell_type": "code",
   "execution_count": 201,
   "id": "95c1590c",
   "metadata": {},
   "outputs": [],
   "source": [
    "stone_500_rich = pd.read_csv(\"../data/stone_500_rich.csv\")"
   ]
  },
  {
   "cell_type": "code",
   "execution_count": 202,
   "id": "a7c9148a",
   "metadata": {},
   "outputs": [
    {
     "data": {
      "text/html": [
       "<div>\n",
       "<style scoped>\n",
       "    .dataframe tbody tr th:only-of-type {\n",
       "        vertical-align: middle;\n",
       "    }\n",
       "\n",
       "    .dataframe tbody tr th {\n",
       "        vertical-align: top;\n",
       "    }\n",
       "\n",
       "    .dataframe thead th {\n",
       "        text-align: right;\n",
       "    }\n",
       "</style>\n",
       "<table border=\"1\" class=\"dataframe\">\n",
       "  <thead>\n",
       "    <tr style=\"text-align: right;\">\n",
       "      <th></th>\n",
       "      <th>Number</th>\n",
       "      <th>Year</th>\n",
       "      <th>Album</th>\n",
       "      <th>Artist</th>\n",
       "      <th>Type</th>\n",
       "      <th>Rating</th>\n",
       "      <th>Gen</th>\n",
       "      <th>playcount</th>\n",
       "      <th>listeners</th>\n",
       "    </tr>\n",
       "  </thead>\n",
       "  <tbody>\n",
       "    <tr>\n",
       "      <th>115</th>\n",
       "      <td>116</td>\n",
       "      <td>1989</td>\n",
       "      <td>Disintegration</td>\n",
       "      <td>The Cure</td>\n",
       "      <td>Album</td>\n",
       "      <td>4.45</td>\n",
       "      <td>alternative</td>\n",
       "      <td>15984696</td>\n",
       "      <td>687571</td>\n",
       "    </tr>\n",
       "    <tr>\n",
       "      <th>361</th>\n",
       "      <td>362</td>\n",
       "      <td>1981</td>\n",
       "      <td>Never Too Much</td>\n",
       "      <td>Luther Vandross</td>\n",
       "      <td>Single</td>\n",
       "      <td>5.00</td>\n",
       "      <td>r&amp;b</td>\n",
       "      <td>814538</td>\n",
       "      <td>167004</td>\n",
       "    </tr>\n",
       "    <tr>\n",
       "      <th>117</th>\n",
       "      <td>118</td>\n",
       "      <td>1976</td>\n",
       "      <td>Hotel California</td>\n",
       "      <td>Eagles</td>\n",
       "      <td>Album</td>\n",
       "      <td>4.45</td>\n",
       "      <td>rock</td>\n",
       "      <td>3429786</td>\n",
       "      <td>315961</td>\n",
       "    </tr>\n",
       "  </tbody>\n",
       "</table>\n",
       "</div>"
      ],
      "text/plain": [
       "     Number  Year             Album           Artist    Type  Rating  \\\n",
       "115     116  1989    Disintegration         The Cure   Album    4.45   \n",
       "361     362  1981    Never Too Much  Luther Vandross  Single    5.00   \n",
       "117     118  1976  Hotel California           Eagles   Album    4.45   \n",
       "\n",
       "             Gen  playcount  listeners  \n",
       "115  alternative   15984696     687571  \n",
       "361          r&b     814538     167004  \n",
       "117         rock    3429786     315961  "
      ]
     },
     "execution_count": 202,
     "metadata": {},
     "output_type": "execute_result"
    }
   ],
   "source": [
    "stone_500_rich.sample(3)"
   ]
  },
  {
   "cell_type": "markdown",
   "id": "cc95bd1f",
   "metadata": {},
   "source": [
    "# Spotify Most streamed\n",
    "- scrapping\n",
    "\n",
    "[charset: most streamed albums](https://chartmasters.org/spotify-most-streamed-albums/?y=alltime)\n",
    "Last updated on 11/06/21"
   ]
  },
  {
   "cell_type": "code",
   "execution_count": 203,
   "id": "4de3bd0d",
   "metadata": {},
   "outputs": [],
   "source": [
    "url_spotify = \"https://chartmasters.org/spotify-most-streamed-albums/?y=alltime\"\n",
    "html_spotify = requests.get(url_spotify)\n",
    "soup_spotify = BeautifulSoup(html_spotify.content,\"html.parser\")"
   ]
  },
  {
   "cell_type": "code",
   "execution_count": 204,
   "id": "18673f7e",
   "metadata": {},
   "outputs": [],
   "source": [
    "tablas_spotify = soup_spotify.findAll(\"table\")"
   ]
  },
  {
   "cell_type": "code",
   "execution_count": 205,
   "id": "d813602b",
   "metadata": {},
   "outputs": [],
   "source": [
    "spotify = tablas_spotify[1]"
   ]
  },
  {
   "cell_type": "code",
   "execution_count": 206,
   "id": "2149122a",
   "metadata": {},
   "outputs": [
    {
     "data": {
      "text/plain": [
       "<tr><td>3</td><td class=\"Image\"><img alt=\"Dua\" height=\"50\" lipa=\"\" src=\"https://i.scdn.co/image/ab67616d0000b2731764e1a1b94e887206782640\" width=\"50\"/></td><td>Dua Lipa</td><td>Dua Lipa (Complete Edition)</td><td class=\"numbers\">8,738,048,733</td><td class=\"numbers\">0</td><td class=\"numbers\">8,723,978</td></tr>"
      ]
     },
     "execution_count": 206,
     "metadata": {},
     "output_type": "execute_result"
    }
   ],
   "source": [
    "spotify.find_all(\"tr\")[3] #cuerpo"
   ]
  },
  {
   "cell_type": "code",
   "execution_count": 207,
   "id": "122e3a45",
   "metadata": {},
   "outputs": [
    {
     "data": {
      "text/plain": [
       "[<th>Rank</th>,\n",
       " <th>Cover</th>,\n",
       " <th>Artist</th>,\n",
       " <th>Album</th>,\n",
       " <th>Total Streams</th>,\n",
       " <th>Daily Streams</th>,\n",
       " <th>EAS</th>]"
      ]
     },
     "execution_count": 207,
     "metadata": {},
     "output_type": "execute_result"
    }
   ],
   "source": [
    "spotify.find_all(\"th\") #cabeceros"
   ]
  },
  {
   "cell_type": "code",
   "execution_count": 208,
   "id": "291d6f1b",
   "metadata": {},
   "outputs": [],
   "source": [
    "def data_spotify(tab):\n",
    "    Top_alb = []\n",
    "    for s in tab.find_all(\"tr\"):\n",
    "        fila = [elemento for elemento in s.find_all(\"td\")]\n",
    "        if len(fila)>1:\n",
    "            spot_dicc = {\"Rank\" : int(fila[0].text),\n",
    "                        \"Artist\": fila[2].text.strip(),\n",
    "                         \"Album\": fila[3].text.strip(),\n",
    "                         \"Total\" :int(fila[4].text.replace(\",\",\"\")),\n",
    "                         \"EAS\" : int(fila[6].text.replace(\",\",\"\")) #Equivalent Album Sales\n",
    "                        }\n",
    "            Top_alb.append(spot_dicc)\n",
    "    return Top_alb"
   ]
  },
  {
   "cell_type": "code",
   "execution_count": 209,
   "id": "49256e2e",
   "metadata": {},
   "outputs": [
    {
     "data": {
      "text/plain": [
       "{'Rank': 2,\n",
       " 'Artist': 'Post Malone',\n",
       " 'Album': 'beerbongs & bentleys',\n",
       " 'Total': 9389163476,\n",
       " 'EAS': 9374044}"
      ]
     },
     "execution_count": 209,
     "metadata": {},
     "output_type": "execute_result"
    }
   ],
   "source": [
    "tab = spotify\n",
    "Top_alb_spotify = data_spotify(tab)\n",
    "Top_alb_spotify[1]"
   ]
  },
  {
   "cell_type": "code",
   "execution_count": 210,
   "id": "0dab7649",
   "metadata": {},
   "outputs": [
    {
     "data": {
      "text/html": [
       "<div>\n",
       "<style scoped>\n",
       "    .dataframe tbody tr th:only-of-type {\n",
       "        vertical-align: middle;\n",
       "    }\n",
       "\n",
       "    .dataframe tbody tr th {\n",
       "        vertical-align: top;\n",
       "    }\n",
       "\n",
       "    .dataframe thead th {\n",
       "        text-align: right;\n",
       "    }\n",
       "</style>\n",
       "<table border=\"1\" class=\"dataframe\">\n",
       "  <thead>\n",
       "    <tr style=\"text-align: right;\">\n",
       "      <th></th>\n",
       "      <th>Rank</th>\n",
       "      <th>Artist</th>\n",
       "      <th>Album</th>\n",
       "      <th>Total</th>\n",
       "      <th>EAS</th>\n",
       "    </tr>\n",
       "  </thead>\n",
       "  <tbody>\n",
       "    <tr>\n",
       "      <th>0</th>\n",
       "      <td>1</td>\n",
       "      <td>Ed Sheeran</td>\n",
       "      <td>÷ (Deluxe)</td>\n",
       "      <td>11134771433</td>\n",
       "      <td>11116841</td>\n",
       "    </tr>\n",
       "    <tr>\n",
       "      <th>1</th>\n",
       "      <td>2</td>\n",
       "      <td>Post Malone</td>\n",
       "      <td>beerbongs &amp; bentleys</td>\n",
       "      <td>9389163476</td>\n",
       "      <td>9374044</td>\n",
       "    </tr>\n",
       "    <tr>\n",
       "      <th>2</th>\n",
       "      <td>3</td>\n",
       "      <td>Dua Lipa</td>\n",
       "      <td>Dua Lipa (Complete Edition)</td>\n",
       "      <td>8738048733</td>\n",
       "      <td>8723978</td>\n",
       "    </tr>\n",
       "    <tr>\n",
       "      <th>3</th>\n",
       "      <td>4</td>\n",
       "      <td>Post Malone</td>\n",
       "      <td>Hollywood's Bleeding</td>\n",
       "      <td>8625381124</td>\n",
       "      <td>8611492</td>\n",
       "    </tr>\n",
       "    <tr>\n",
       "      <th>4</th>\n",
       "      <td>5</td>\n",
       "      <td>Ed Sheeran</td>\n",
       "      <td>x (Wembley Edition)</td>\n",
       "      <td>8396308102</td>\n",
       "      <td>8382787</td>\n",
       "    </tr>\n",
       "  </tbody>\n",
       "</table>\n",
       "</div>"
      ],
      "text/plain": [
       "   Rank       Artist                        Album        Total       EAS\n",
       "0     1   Ed Sheeran                   ÷ (Deluxe)  11134771433  11116841\n",
       "1     2  Post Malone         beerbongs & bentleys   9389163476   9374044\n",
       "2     3     Dua Lipa  Dua Lipa (Complete Edition)   8738048733   8723978\n",
       "3     4  Post Malone         Hollywood's Bleeding   8625381124   8611492\n",
       "4     5   Ed Sheeran          x (Wembley Edition)   8396308102   8382787"
      ]
     },
     "execution_count": 210,
     "metadata": {},
     "output_type": "execute_result"
    }
   ],
   "source": [
    "Spotify_500 = pd.DataFrame(Top_alb_spotify)\n",
    "Spotify_500.head(5)"
   ]
  },
  {
   "cell_type": "code",
   "execution_count": 227,
   "id": "63ec0b42",
   "metadata": {},
   "outputs": [],
   "source": [
    "Spotify_500.to_csv(\"../data/Spotify_500.csv\",index = False) "
   ]
  },
  {
   "cell_type": "code",
   "execution_count": 212,
   "id": "bcba7738",
   "metadata": {},
   "outputs": [],
   "source": [
    "stone_last_spot= stone_500_rich.merge(Spotify_500, how='left', on = [\"Album\",\"Artist\"])"
   ]
  },
  {
   "cell_type": "code",
   "execution_count": 213,
   "id": "dfb57329",
   "metadata": {},
   "outputs": [],
   "source": [
    "stone_last_spot.Rank.fillna(0, inplace=True)\n",
    "stone_last_spot.Total.fillna(0, inplace=True)\n",
    "stone_last_spot.EAS.fillna(0, inplace=True)"
   ]
  },
  {
   "cell_type": "code",
   "execution_count": 214,
   "id": "534deaef",
   "metadata": {},
   "outputs": [],
   "source": [
    "stone_last_spot[[\"Rank\",\"Total\",\"EAS\"]] = stone_last_spot[[\"Rank\",\"Total\",\"EAS\"]].astype(\"int64\")"
   ]
  },
  {
   "cell_type": "code",
   "execution_count": 215,
   "id": "92db9fd9",
   "metadata": {},
   "outputs": [
    {
     "data": {
      "text/html": [
       "<div>\n",
       "<style scoped>\n",
       "    .dataframe tbody tr th:only-of-type {\n",
       "        vertical-align: middle;\n",
       "    }\n",
       "\n",
       "    .dataframe tbody tr th {\n",
       "        vertical-align: top;\n",
       "    }\n",
       "\n",
       "    .dataframe thead th {\n",
       "        text-align: right;\n",
       "    }\n",
       "</style>\n",
       "<table border=\"1\" class=\"dataframe\">\n",
       "  <thead>\n",
       "    <tr style=\"text-align: right;\">\n",
       "      <th></th>\n",
       "      <th>Number</th>\n",
       "      <th>Year</th>\n",
       "      <th>Album</th>\n",
       "      <th>Artist</th>\n",
       "      <th>Type</th>\n",
       "      <th>Rating</th>\n",
       "      <th>Gen</th>\n",
       "      <th>playcount</th>\n",
       "      <th>listeners</th>\n",
       "      <th>Rank</th>\n",
       "      <th>Total</th>\n",
       "      <th>EAS</th>\n",
       "    </tr>\n",
       "  </thead>\n",
       "  <tbody>\n",
       "    <tr>\n",
       "      <th>144</th>\n",
       "      <td>145</td>\n",
       "      <td>2000</td>\n",
       "      <td>The Marshall Mathers LP</td>\n",
       "      <td>Eminem</td>\n",
       "      <td>Album</td>\n",
       "      <td>4.20</td>\n",
       "      <td>hip-hop</td>\n",
       "      <td>19346682</td>\n",
       "      <td>1294984</td>\n",
       "      <td>211</td>\n",
       "      <td>2160317727</td>\n",
       "      <td>2156839</td>\n",
       "    </tr>\n",
       "    <tr>\n",
       "      <th>471</th>\n",
       "      <td>472</td>\n",
       "      <td>2017</td>\n",
       "      <td>Ctrl</td>\n",
       "      <td>SZA</td>\n",
       "      <td>Album</td>\n",
       "      <td>0.00</td>\n",
       "      <td>r&amp;b</td>\n",
       "      <td>33874763</td>\n",
       "      <td>626859</td>\n",
       "      <td>215</td>\n",
       "      <td>2144313234</td>\n",
       "      <td>2140860</td>\n",
       "    </tr>\n",
       "    <tr>\n",
       "      <th>78</th>\n",
       "      <td>79</td>\n",
       "      <td>2016</td>\n",
       "      <td>Blonde</td>\n",
       "      <td>Frank Ocean</td>\n",
       "      <td>Album</td>\n",
       "      <td>4.65</td>\n",
       "      <td>r&amp;b</td>\n",
       "      <td>78748017</td>\n",
       "      <td>859751</td>\n",
       "      <td>133</td>\n",
       "      <td>2647693774</td>\n",
       "      <td>2643430</td>\n",
       "    </tr>\n",
       "  </tbody>\n",
       "</table>\n",
       "</div>"
      ],
      "text/plain": [
       "     Number  Year                    Album       Artist   Type  Rating  \\\n",
       "144     145  2000  The Marshall Mathers LP       Eminem  Album    4.20   \n",
       "471     472  2017                     Ctrl          SZA  Album    0.00   \n",
       "78       79  2016                   Blonde  Frank Ocean  Album    4.65   \n",
       "\n",
       "         Gen  playcount  listeners  Rank       Total      EAS  \n",
       "144  hip-hop   19346682    1294984   211  2160317727  2156839  \n",
       "471      r&b   33874763     626859   215  2144313234  2140860  \n",
       "78       r&b   78748017     859751   133  2647693774  2643430  "
      ]
     },
     "execution_count": 215,
     "metadata": {},
     "output_type": "execute_result"
    }
   ],
   "source": [
    "stone_last_spot[stone_last_spot[\"Rank\"] != 0].sample(3)"
   ]
  },
  {
   "cell_type": "code",
   "execution_count": 216,
   "id": "dcf8ba0c",
   "metadata": {},
   "outputs": [],
   "source": [
    "stone_last_spot.to_csv(\"../data/Spotify_500.csv\",index = False) "
   ]
  },
  {
   "cell_type": "code",
   "execution_count": null,
   "id": "19be93f3",
   "metadata": {},
   "outputs": [],
   "source": []
  },
  {
   "cell_type": "markdown",
   "id": "d8ccfa83",
   "metadata": {},
   "source": [
    "# LastFM 50 Top Artists"
   ]
  },
  {
   "cell_type": "code",
   "execution_count": 262,
   "id": "2992c5ba",
   "metadata": {},
   "outputs": [],
   "source": [
    "url_last50 = f\"http://ws.audioscrobbler.com/2.0/?method=chart.gettopartists&api_key={apikey}&format=json\"\n",
    "req_last50 = requests.get(url_last50).json()\n",
    "last_50 = req_last50[\"artists\"][\"artist\"]\n",
    "last_top50 = pd.DataFrame.from_dict(last_50)"
   ]
  },
  {
   "cell_type": "code",
   "execution_count": 263,
   "id": "47b129c7",
   "metadata": {
    "scrolled": true
   },
   "outputs": [
    {
     "data": {
      "text/html": [
       "<div>\n",
       "<style scoped>\n",
       "    .dataframe tbody tr th:only-of-type {\n",
       "        vertical-align: middle;\n",
       "    }\n",
       "\n",
       "    .dataframe tbody tr th {\n",
       "        vertical-align: top;\n",
       "    }\n",
       "\n",
       "    .dataframe thead th {\n",
       "        text-align: right;\n",
       "    }\n",
       "</style>\n",
       "<table border=\"1\" class=\"dataframe\">\n",
       "  <thead>\n",
       "    <tr style=\"text-align: right;\">\n",
       "      <th></th>\n",
       "      <th>name</th>\n",
       "      <th>playcount</th>\n",
       "      <th>listeners</th>\n",
       "      <th>mbid</th>\n",
       "      <th>url</th>\n",
       "      <th>streamable</th>\n",
       "      <th>image</th>\n",
       "    </tr>\n",
       "  </thead>\n",
       "  <tbody>\n",
       "    <tr>\n",
       "      <th>32</th>\n",
       "      <td>Queen</td>\n",
       "      <td>236166768</td>\n",
       "      <td>4666518</td>\n",
       "      <td>420ca290-76c5-41af-999e-564d7c71f1a7</td>\n",
       "      <td>https://www.last.fm/music/Queen</td>\n",
       "      <td>0</td>\n",
       "      <td>[{'#text': 'https://lastfm.freetls.fastly.net/...</td>\n",
       "    </tr>\n",
       "    <tr>\n",
       "      <th>46</th>\n",
       "      <td>Playboi Carti</td>\n",
       "      <td>103988284</td>\n",
       "      <td>625308</td>\n",
       "      <td></td>\n",
       "      <td>https://www.last.fm/music/Playboi+Carti</td>\n",
       "      <td>0</td>\n",
       "      <td>[{'#text': 'https://lastfm.freetls.fastly.net/...</td>\n",
       "    </tr>\n",
       "    <tr>\n",
       "      <th>35</th>\n",
       "      <td>Nirvana</td>\n",
       "      <td>266251611</td>\n",
       "      <td>4836780</td>\n",
       "      <td>9282c8b4-ca0b-4c6b-b7e3-4f7762dfc4d6</td>\n",
       "      <td>https://www.last.fm/music/Nirvana</td>\n",
       "      <td>0</td>\n",
       "      <td>[{'#text': 'https://lastfm.freetls.fastly.net/...</td>\n",
       "    </tr>\n",
       "  </tbody>\n",
       "</table>\n",
       "</div>"
      ],
      "text/plain": [
       "             name  playcount listeners                                  mbid  \\\n",
       "32          Queen  236166768   4666518  420ca290-76c5-41af-999e-564d7c71f1a7   \n",
       "46  Playboi Carti  103988284    625308                                         \n",
       "35        Nirvana  266251611   4836780  9282c8b4-ca0b-4c6b-b7e3-4f7762dfc4d6   \n",
       "\n",
       "                                        url streamable  \\\n",
       "32          https://www.last.fm/music/Queen          0   \n",
       "46  https://www.last.fm/music/Playboi+Carti          0   \n",
       "35        https://www.last.fm/music/Nirvana          0   \n",
       "\n",
       "                                                image  \n",
       "32  [{'#text': 'https://lastfm.freetls.fastly.net/...  \n",
       "46  [{'#text': 'https://lastfm.freetls.fastly.net/...  \n",
       "35  [{'#text': 'https://lastfm.freetls.fastly.net/...  "
      ]
     },
     "execution_count": 263,
     "metadata": {},
     "output_type": "execute_result"
    }
   ],
   "source": [
    "last_top50.sample(3)"
   ]
  },
  {
   "cell_type": "code",
   "execution_count": 266,
   "id": "411f24f4",
   "metadata": {},
   "outputs": [],
   "source": [
    "last_top50.rename(columns={\"name\": \"Artist\"}, inplace = True)"
   ]
  },
  {
   "cell_type": "code",
   "execution_count": 267,
   "id": "ef048ce1",
   "metadata": {},
   "outputs": [],
   "source": [
    "last_top50[[\"playcount\",\"listeners\"]] = last_top50[[\"playcount\",\"listeners\"]].astype(\"int64\")\n"
   ]
  },
  {
   "cell_type": "code",
   "execution_count": 268,
   "id": "6e74e891",
   "metadata": {},
   "outputs": [],
   "source": [
    "last_top50.to_csv(\"../data/otras/last_top50_image.csv\",index = False) #guardada para mí"
   ]
  },
  {
   "cell_type": "code",
   "execution_count": 269,
   "id": "1f728a8e",
   "metadata": {},
   "outputs": [
    {
     "name": "stdout",
     "output_type": "stream",
     "text": [
      "<class 'pandas.core.frame.DataFrame'>\n",
      "RangeIndex: 50 entries, 0 to 49\n",
      "Data columns (total 7 columns):\n",
      " #   Column      Non-Null Count  Dtype \n",
      "---  ------      --------------  ----- \n",
      " 0   Artist      50 non-null     object\n",
      " 1   playcount   50 non-null     int64 \n",
      " 2   listeners   50 non-null     int64 \n",
      " 3   mbid        50 non-null     object\n",
      " 4   url         50 non-null     object\n",
      " 5   streamable  50 non-null     object\n",
      " 6   image       50 non-null     object\n",
      "dtypes: int64(2), object(5)\n",
      "memory usage: 2.9+ KB\n"
     ]
    }
   ],
   "source": [
    "last_top50.info()"
   ]
  },
  {
   "cell_type": "code",
   "execution_count": 279,
   "id": "6bb86542",
   "metadata": {},
   "outputs": [],
   "source": [
    "top_50_last = last_top50[[\"Artist\",\"playcount\",\"listeners\"]]"
   ]
  },
  {
   "cell_type": "code",
   "execution_count": 280,
   "id": "d4ac18ee",
   "metadata": {},
   "outputs": [],
   "source": [
    "top_50_last.to_csv(\"../data/top_50_last.csv\",index = False) "
   ]
  },
  {
   "cell_type": "code",
   "execution_count": 281,
   "id": "44d6c01a",
   "metadata": {},
   "outputs": [
    {
     "data": {
      "text/html": [
       "<div>\n",
       "<style scoped>\n",
       "    .dataframe tbody tr th:only-of-type {\n",
       "        vertical-align: middle;\n",
       "    }\n",
       "\n",
       "    .dataframe tbody tr th {\n",
       "        vertical-align: top;\n",
       "    }\n",
       "\n",
       "    .dataframe thead th {\n",
       "        text-align: right;\n",
       "    }\n",
       "</style>\n",
       "<table border=\"1\" class=\"dataframe\">\n",
       "  <thead>\n",
       "    <tr style=\"text-align: right;\">\n",
       "      <th></th>\n",
       "      <th>Artist</th>\n",
       "      <th>playcount</th>\n",
       "      <th>listeners</th>\n",
       "    </tr>\n",
       "  </thead>\n",
       "  <tbody>\n",
       "    <tr>\n",
       "      <th>14</th>\n",
       "      <td>Olivia Rodrigo</td>\n",
       "      <td>74615559</td>\n",
       "      <td>839318</td>\n",
       "    </tr>\n",
       "    <tr>\n",
       "      <th>6</th>\n",
       "      <td>Adele</td>\n",
       "      <td>153707605</td>\n",
       "      <td>3431634</td>\n",
       "    </tr>\n",
       "  </tbody>\n",
       "</table>\n",
       "</div>"
      ],
      "text/plain": [
       "            Artist  playcount  listeners\n",
       "14  Olivia Rodrigo   74615559     839318\n",
       "6            Adele  153707605    3431634"
      ]
     },
     "execution_count": 281,
     "metadata": {},
     "output_type": "execute_result"
    }
   ],
   "source": [
    "top_50_last.sample(2)"
   ]
  },
  {
   "cell_type": "code",
   "execution_count": 289,
   "id": "61a47d00",
   "metadata": {},
   "outputs": [],
   "source": [
    "stone_500_rich_art = stone_500_rich.groupby(\"Artist\").agg({\"Album\":\"count\",\"Rating\":\"mean\"}).reset_index()"
   ]
  },
  {
   "cell_type": "code",
   "execution_count": 293,
   "id": "ae5c7d76",
   "metadata": {},
   "outputs": [],
   "source": [
    "stone_rich_top_50 = stone_500_rich_art.merge(top_50_last,how=\"left\",on = \"Artist\")\n"
   ]
  },
  {
   "cell_type": "code",
   "execution_count": 295,
   "id": "14da79e3",
   "metadata": {},
   "outputs": [
    {
     "data": {
      "text/html": [
       "<div>\n",
       "<style scoped>\n",
       "    .dataframe tbody tr th:only-of-type {\n",
       "        vertical-align: middle;\n",
       "    }\n",
       "\n",
       "    .dataframe tbody tr th {\n",
       "        vertical-align: top;\n",
       "    }\n",
       "\n",
       "    .dataframe thead th {\n",
       "        text-align: right;\n",
       "    }\n",
       "</style>\n",
       "<table border=\"1\" class=\"dataframe\">\n",
       "  <thead>\n",
       "    <tr style=\"text-align: right;\">\n",
       "      <th></th>\n",
       "      <th>Artist</th>\n",
       "      <th>Album</th>\n",
       "      <th>Rating</th>\n",
       "      <th>playcount</th>\n",
       "      <th>listeners</th>\n",
       "    </tr>\n",
       "  </thead>\n",
       "  <tbody>\n",
       "    <tr>\n",
       "      <th>0</th>\n",
       "      <td>2Pac</td>\n",
       "      <td>1</td>\n",
       "      <td>4.650</td>\n",
       "      <td>NaN</td>\n",
       "      <td>NaN</td>\n",
       "    </tr>\n",
       "    <tr>\n",
       "      <th>1</th>\n",
       "      <td>50 Cent</td>\n",
       "      <td>1</td>\n",
       "      <td>3.750</td>\n",
       "      <td>NaN</td>\n",
       "      <td>NaN</td>\n",
       "    </tr>\n",
       "    <tr>\n",
       "      <th>2</th>\n",
       "      <td>A Tribe Called Quest</td>\n",
       "      <td>2</td>\n",
       "      <td>4.075</td>\n",
       "      <td>NaN</td>\n",
       "      <td>NaN</td>\n",
       "    </tr>\n",
       "    <tr>\n",
       "      <th>3</th>\n",
       "      <td>ABBA</td>\n",
       "      <td>1</td>\n",
       "      <td>4.000</td>\n",
       "      <td>NaN</td>\n",
       "      <td>NaN</td>\n",
       "    </tr>\n",
       "    <tr>\n",
       "      <th>4</th>\n",
       "      <td>AC/DC</td>\n",
       "      <td>1</td>\n",
       "      <td>4.450</td>\n",
       "      <td>NaN</td>\n",
       "      <td>NaN</td>\n",
       "    </tr>\n",
       "    <tr>\n",
       "      <th>...</th>\n",
       "      <td>...</td>\n",
       "      <td>...</td>\n",
       "      <td>...</td>\n",
       "      <td>...</td>\n",
       "      <td>...</td>\n",
       "    </tr>\n",
       "    <tr>\n",
       "      <th>332</th>\n",
       "      <td>X</td>\n",
       "      <td>1</td>\n",
       "      <td>5.000</td>\n",
       "      <td>NaN</td>\n",
       "      <td>NaN</td>\n",
       "    </tr>\n",
       "    <tr>\n",
       "      <th>333</th>\n",
       "      <td>X-Ray Spex</td>\n",
       "      <td>1</td>\n",
       "      <td>4.000</td>\n",
       "      <td>NaN</td>\n",
       "      <td>NaN</td>\n",
       "    </tr>\n",
       "    <tr>\n",
       "      <th>334</th>\n",
       "      <td>Yeah Yeah Yeahs</td>\n",
       "      <td>1</td>\n",
       "      <td>4.650</td>\n",
       "      <td>NaN</td>\n",
       "      <td>NaN</td>\n",
       "    </tr>\n",
       "    <tr>\n",
       "      <th>335</th>\n",
       "      <td>Yes</td>\n",
       "      <td>1</td>\n",
       "      <td>4.700</td>\n",
       "      <td>NaN</td>\n",
       "      <td>NaN</td>\n",
       "    </tr>\n",
       "    <tr>\n",
       "      <th>336</th>\n",
       "      <td>Yo La Tengo</td>\n",
       "      <td>1</td>\n",
       "      <td>4.500</td>\n",
       "      <td>NaN</td>\n",
       "      <td>NaN</td>\n",
       "    </tr>\n",
       "  </tbody>\n",
       "</table>\n",
       "<p>337 rows × 5 columns</p>\n",
       "</div>"
      ],
      "text/plain": [
       "                   Artist  Album  Rating  playcount  listeners\n",
       "0                    2Pac      1   4.650        NaN        NaN\n",
       "1                 50 Cent      1   3.750        NaN        NaN\n",
       "2    A Tribe Called Quest      2   4.075        NaN        NaN\n",
       "3                    ABBA      1   4.000        NaN        NaN\n",
       "4                   AC/DC      1   4.450        NaN        NaN\n",
       "..                    ...    ...     ...        ...        ...\n",
       "332                     X      1   5.000        NaN        NaN\n",
       "333            X-Ray Spex      1   4.000        NaN        NaN\n",
       "334       Yeah Yeah Yeahs      1   4.650        NaN        NaN\n",
       "335                   Yes      1   4.700        NaN        NaN\n",
       "336           Yo La Tengo      1   4.500        NaN        NaN\n",
       "\n",
       "[337 rows x 5 columns]"
      ]
     },
     "execution_count": 295,
     "metadata": {},
     "output_type": "execute_result"
    }
   ],
   "source": [
    "stone_rich_top_50"
   ]
  },
  {
   "cell_type": "code",
   "execution_count": null,
   "id": "e5bbac6d",
   "metadata": {},
   "outputs": [],
   "source": []
  }
 ],
 "metadata": {
  "kernelspec": {
   "display_name": "ironhack",
   "language": "python",
   "name": "ironhack"
  },
  "language_info": {
   "codemirror_mode": {
    "name": "ipython",
    "version": 3
   },
   "file_extension": ".py",
   "mimetype": "text/x-python",
   "name": "python",
   "nbconvert_exporter": "python",
   "pygments_lexer": "ipython3",
   "version": "3.8.5"
  }
 },
 "nbformat": 4,
 "nbformat_minor": 5
}
