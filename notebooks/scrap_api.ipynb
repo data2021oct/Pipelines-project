{
 "cells": [
  {
   "cell_type": "code",
   "execution_count": 1,
   "id": "12f9892d",
   "metadata": {},
   "outputs": [
    {
     "data": {
      "text/plain": [
       "True"
      ]
     },
     "execution_count": 1,
     "metadata": {},
     "output_type": "execute_result"
    }
   ],
   "source": [
    "import requests\n",
    "from bs4 import BeautifulSoup\n",
    "import requests \n",
    "import json\n",
    "import os\n",
    "from dotenv import load_dotenv\n",
    "import pandas as pd\n",
    "from pandas import json_normalize\n",
    "import tweepy\n",
    "import time\n",
    "import numpy as np\n",
    "load_dotenv()"
   ]
  },
  {
   "cell_type": "code",
   "execution_count": 2,
   "id": "95ae71eb",
   "metadata": {},
   "outputs": [],
   "source": [
    "apikey = os.getenv(\"apikey\") #apikey de lastfm"
   ]
  },
  {
   "cell_type": "code",
   "execution_count": 3,
   "id": "95c1590c",
   "metadata": {},
   "outputs": [],
   "source": [
    "stone_500_rich = pd.read_csv(\"../data/stone_500_rich.csv\")"
   ]
  },
  {
   "cell_type": "code",
   "execution_count": 4,
   "id": "a7c9148a",
   "metadata": {},
   "outputs": [
    {
     "data": {
      "text/html": [
       "<div>\n",
       "<style scoped>\n",
       "    .dataframe tbody tr th:only-of-type {\n",
       "        vertical-align: middle;\n",
       "    }\n",
       "\n",
       "    .dataframe tbody tr th {\n",
       "        vertical-align: top;\n",
       "    }\n",
       "\n",
       "    .dataframe thead th {\n",
       "        text-align: right;\n",
       "    }\n",
       "</style>\n",
       "<table border=\"1\" class=\"dataframe\">\n",
       "  <thead>\n",
       "    <tr style=\"text-align: right;\">\n",
       "      <th></th>\n",
       "      <th>Number</th>\n",
       "      <th>Year</th>\n",
       "      <th>Album</th>\n",
       "      <th>Artist</th>\n",
       "      <th>Type</th>\n",
       "      <th>Rating</th>\n",
       "      <th>Gen</th>\n",
       "      <th>playcount</th>\n",
       "      <th>listeners</th>\n",
       "    </tr>\n",
       "  </thead>\n",
       "  <tbody>\n",
       "    <tr>\n",
       "      <th>216</th>\n",
       "      <td>217</td>\n",
       "      <td>1994</td>\n",
       "      <td>Definitely Maybe</td>\n",
       "      <td>Oasis</td>\n",
       "      <td>Album</td>\n",
       "      <td>4.45</td>\n",
       "      <td>rock</td>\n",
       "      <td>14483287</td>\n",
       "      <td>960210</td>\n",
       "    </tr>\n",
       "    <tr>\n",
       "      <th>72</th>\n",
       "      <td>73</td>\n",
       "      <td>1991</td>\n",
       "      <td>Loveless</td>\n",
       "      <td>My Bloody Valentine</td>\n",
       "      <td>Album</td>\n",
       "      <td>4.55</td>\n",
       "      <td>alternative</td>\n",
       "      <td>31954481</td>\n",
       "      <td>886591</td>\n",
       "    </tr>\n",
       "    <tr>\n",
       "      <th>395</th>\n",
       "      <td>396</td>\n",
       "      <td>1972</td>\n",
       "      <td>Something/Anything?</td>\n",
       "      <td>Todd Rundgren</td>\n",
       "      <td>Album</td>\n",
       "      <td>4.50</td>\n",
       "      <td>rock</td>\n",
       "      <td>1396011</td>\n",
       "      <td>145446</td>\n",
       "    </tr>\n",
       "  </tbody>\n",
       "</table>\n",
       "</div>"
      ],
      "text/plain": [
       "     Number  Year                Album               Artist   Type  Rating  \\\n",
       "216     217  1994     Definitely Maybe                Oasis  Album    4.45   \n",
       "72       73  1991             Loveless  My Bloody Valentine  Album    4.55   \n",
       "395     396  1972  Something/Anything?        Todd Rundgren  Album    4.50   \n",
       "\n",
       "             Gen  playcount  listeners  \n",
       "216         rock   14483287     960210  \n",
       "72   alternative   31954481     886591  \n",
       "395         rock    1396011     145446  "
      ]
     },
     "execution_count": 4,
     "metadata": {},
     "output_type": "execute_result"
    }
   ],
   "source": [
    "stone_500_rich.sample(3)"
   ]
  },
  {
   "cell_type": "markdown",
   "id": "cc95bd1f",
   "metadata": {},
   "source": [
    "# Spotify Most streamed\n",
    "- scrapping\n",
    "\n",
    "[charset: most streamed albums](https://chartmasters.org/spotify-most-streamed-albums/?y=alltime)\n",
    "Last updated on 11/06/21"
   ]
  },
  {
   "cell_type": "code",
   "execution_count": 5,
   "id": "4de3bd0d",
   "metadata": {},
   "outputs": [],
   "source": [
    "url_spotify = \"https://chartmasters.org/spotify-most-streamed-albums/?y=alltime\"\n",
    "html_spotify = requests.get(url_spotify)\n",
    "soup_spotify = BeautifulSoup(html_spotify.content,\"html.parser\")"
   ]
  },
  {
   "cell_type": "code",
   "execution_count": 6,
   "id": "18673f7e",
   "metadata": {},
   "outputs": [],
   "source": [
    "tablas_spotify = soup_spotify.findAll(\"table\")"
   ]
  },
  {
   "cell_type": "code",
   "execution_count": 7,
   "id": "d813602b",
   "metadata": {},
   "outputs": [],
   "source": [
    "spotify = tablas_spotify[1]"
   ]
  },
  {
   "cell_type": "code",
   "execution_count": 8,
   "id": "2149122a",
   "metadata": {},
   "outputs": [
    {
     "data": {
      "text/plain": [
       "<tr><td>3</td><td class=\"Image\"><img alt=\"Dua\" height=\"50\" lipa=\"\" src=\"https://i.scdn.co/image/ab67616d0000b2731764e1a1b94e887206782640\" width=\"50\"/></td><td>Dua Lipa</td><td>Dua Lipa (Complete Edition)</td><td class=\"numbers\">8,738,048,733</td><td class=\"numbers\">0</td><td class=\"numbers\">8,723,978</td></tr>"
      ]
     },
     "execution_count": 8,
     "metadata": {},
     "output_type": "execute_result"
    }
   ],
   "source": [
    "spotify.find_all(\"tr\")[3] #cuerpo"
   ]
  },
  {
   "cell_type": "code",
   "execution_count": 9,
   "id": "122e3a45",
   "metadata": {},
   "outputs": [
    {
     "data": {
      "text/plain": [
       "[<th>Rank</th>,\n",
       " <th>Cover</th>,\n",
       " <th>Artist</th>,\n",
       " <th>Album</th>,\n",
       " <th>Total Streams</th>,\n",
       " <th>Daily Streams</th>,\n",
       " <th>EAS</th>]"
      ]
     },
     "execution_count": 9,
     "metadata": {},
     "output_type": "execute_result"
    }
   ],
   "source": [
    "spotify.find_all(\"th\") #cabeceros"
   ]
  },
  {
   "cell_type": "code",
   "execution_count": 10,
   "id": "291d6f1b",
   "metadata": {},
   "outputs": [],
   "source": [
    "#función que extrae la información de una tabla.\n",
    "def data_tab(tab):\n",
    "    Top_alb = []\n",
    "    for s in tab.find_all(\"tr\"):\n",
    "        fila = [elemento for elemento in s.find_all(\"td\")]\n",
    "        if len(fila)>1:\n",
    "            spot_dicc = {\"Rank\" : int(fila[0].text),\n",
    "                        \"Artist\": fila[2].text.strip(),\n",
    "                         \"Album\": fila[3].text.strip(),\n",
    "                         \"Total\" :int(fila[4].text.replace(\",\",\"\")),\n",
    "                         \"EAS\" : int(fila[6].text.replace(\",\",\"\")) #Equivalent Album Sales\n",
    "                        }\n",
    "            Top_alb.append(spot_dicc)\n",
    "    return Top_alb"
   ]
  },
  {
   "cell_type": "code",
   "execution_count": 11,
   "id": "49256e2e",
   "metadata": {
    "scrolled": true
   },
   "outputs": [
    {
     "data": {
      "text/plain": [
       "{'Rank': 2,\n",
       " 'Artist': 'Post Malone',\n",
       " 'Album': 'beerbongs & bentleys',\n",
       " 'Total': 9389163476,\n",
       " 'EAS': 9374044}"
      ]
     },
     "execution_count": 11,
     "metadata": {},
     "output_type": "execute_result"
    }
   ],
   "source": [
    "tab = spotify\n",
    "Top_alb_spotify = data_tab(tab)\n",
    "Top_alb_spotify[1]"
   ]
  },
  {
   "cell_type": "markdown",
   "id": "0556a2a7",
   "metadata": {},
   "source": [
    "### Spotify most streamed DataFrame"
   ]
  },
  {
   "cell_type": "code",
   "execution_count": 12,
   "id": "0dab7649",
   "metadata": {},
   "outputs": [
    {
     "data": {
      "text/html": [
       "<div>\n",
       "<style scoped>\n",
       "    .dataframe tbody tr th:only-of-type {\n",
       "        vertical-align: middle;\n",
       "    }\n",
       "\n",
       "    .dataframe tbody tr th {\n",
       "        vertical-align: top;\n",
       "    }\n",
       "\n",
       "    .dataframe thead th {\n",
       "        text-align: right;\n",
       "    }\n",
       "</style>\n",
       "<table border=\"1\" class=\"dataframe\">\n",
       "  <thead>\n",
       "    <tr style=\"text-align: right;\">\n",
       "      <th></th>\n",
       "      <th>Rank</th>\n",
       "      <th>Artist</th>\n",
       "      <th>Album</th>\n",
       "      <th>Total</th>\n",
       "      <th>EAS</th>\n",
       "    </tr>\n",
       "  </thead>\n",
       "  <tbody>\n",
       "    <tr>\n",
       "      <th>0</th>\n",
       "      <td>1</td>\n",
       "      <td>Ed Sheeran</td>\n",
       "      <td>÷ (Deluxe)</td>\n",
       "      <td>11134771433</td>\n",
       "      <td>11116841</td>\n",
       "    </tr>\n",
       "    <tr>\n",
       "      <th>1</th>\n",
       "      <td>2</td>\n",
       "      <td>Post Malone</td>\n",
       "      <td>beerbongs &amp; bentleys</td>\n",
       "      <td>9389163476</td>\n",
       "      <td>9374044</td>\n",
       "    </tr>\n",
       "    <tr>\n",
       "      <th>2</th>\n",
       "      <td>3</td>\n",
       "      <td>Dua Lipa</td>\n",
       "      <td>Dua Lipa (Complete Edition)</td>\n",
       "      <td>8738048733</td>\n",
       "      <td>8723978</td>\n",
       "    </tr>\n",
       "    <tr>\n",
       "      <th>3</th>\n",
       "      <td>4</td>\n",
       "      <td>Post Malone</td>\n",
       "      <td>Hollywood's Bleeding</td>\n",
       "      <td>8625381124</td>\n",
       "      <td>8611492</td>\n",
       "    </tr>\n",
       "    <tr>\n",
       "      <th>4</th>\n",
       "      <td>5</td>\n",
       "      <td>Ed Sheeran</td>\n",
       "      <td>x (Wembley Edition)</td>\n",
       "      <td>8396308102</td>\n",
       "      <td>8382787</td>\n",
       "    </tr>\n",
       "  </tbody>\n",
       "</table>\n",
       "</div>"
      ],
      "text/plain": [
       "   Rank       Artist                        Album        Total       EAS\n",
       "0     1   Ed Sheeran                   ÷ (Deluxe)  11134771433  11116841\n",
       "1     2  Post Malone         beerbongs & bentleys   9389163476   9374044\n",
       "2     3     Dua Lipa  Dua Lipa (Complete Edition)   8738048733   8723978\n",
       "3     4  Post Malone         Hollywood's Bleeding   8625381124   8611492\n",
       "4     5   Ed Sheeran          x (Wembley Edition)   8396308102   8382787"
      ]
     },
     "execution_count": 12,
     "metadata": {},
     "output_type": "execute_result"
    }
   ],
   "source": [
    "Spotify_500 = pd.DataFrame(Top_alb_spotify)\n",
    "Spotify_500.head(5)"
   ]
  },
  {
   "cell_type": "code",
   "execution_count": 13,
   "id": "63ec0b42",
   "metadata": {},
   "outputs": [],
   "source": [
    "Spotify_500.to_csv(\"../data/Spotify_500.csv\",index = False) "
   ]
  },
  {
   "cell_type": "markdown",
   "id": "448662fb",
   "metadata": {},
   "source": [
    "### Stone DataFrame enriched whith Spotify DataFrame"
   ]
  },
  {
   "cell_type": "code",
   "execution_count": 14,
   "id": "bcba7738",
   "metadata": {},
   "outputs": [],
   "source": [
    "stone_last_spot= stone_500_rich.merge(Spotify_500, how='left', on = [\"Album\",\"Artist\"])"
   ]
  },
  {
   "cell_type": "code",
   "execution_count": 15,
   "id": "dfb57329",
   "metadata": {},
   "outputs": [],
   "source": [
    "stone_last_spot.Rank.fillna(0, inplace=True)\n",
    "stone_last_spot.Total.fillna(0, inplace=True)\n",
    "stone_last_spot.EAS.fillna(0, inplace=True)"
   ]
  },
  {
   "cell_type": "code",
   "execution_count": 16,
   "id": "534deaef",
   "metadata": {},
   "outputs": [],
   "source": [
    "stone_last_spot[[\"Rank\",\"Total\",\"EAS\"]] = stone_last_spot[[\"Rank\",\"Total\",\"EAS\"]].astype(\"int64\")"
   ]
  },
  {
   "cell_type": "code",
   "execution_count": 17,
   "id": "dcf8ba0c",
   "metadata": {},
   "outputs": [],
   "source": [
    "stone_last_spot.to_csv(\"../data/Spotify_500.csv\",index = False) "
   ]
  },
  {
   "cell_type": "markdown",
   "id": "d8ccfa83",
   "metadata": {},
   "source": [
    "# LastFM 50 Top Artists\n",
    "- [api](https://www.last.fm/api/show/chart.getTopArtists)"
   ]
  },
  {
   "cell_type": "code",
   "execution_count": 18,
   "id": "2992c5ba",
   "metadata": {},
   "outputs": [],
   "source": [
    "url_last50 = f\"http://ws.audioscrobbler.com/2.0/?method=chart.gettopartists&api_key={apikey}&format=json\"\n",
    "req_last50 = requests.get(url_last50).json()\n",
    "last_50 = req_last50[\"artists\"][\"artist\"]\n",
    "last_top50 = pd.DataFrame.from_dict(last_50)"
   ]
  },
  {
   "cell_type": "code",
   "execution_count": 19,
   "id": "47b129c7",
   "metadata": {
    "scrolled": true
   },
   "outputs": [
    {
     "data": {
      "text/html": [
       "<div>\n",
       "<style scoped>\n",
       "    .dataframe tbody tr th:only-of-type {\n",
       "        vertical-align: middle;\n",
       "    }\n",
       "\n",
       "    .dataframe tbody tr th {\n",
       "        vertical-align: top;\n",
       "    }\n",
       "\n",
       "    .dataframe thead th {\n",
       "        text-align: right;\n",
       "    }\n",
       "</style>\n",
       "<table border=\"1\" class=\"dataframe\">\n",
       "  <thead>\n",
       "    <tr style=\"text-align: right;\">\n",
       "      <th></th>\n",
       "      <th>name</th>\n",
       "      <th>playcount</th>\n",
       "      <th>listeners</th>\n",
       "      <th>mbid</th>\n",
       "      <th>url</th>\n",
       "      <th>streamable</th>\n",
       "      <th>image</th>\n",
       "    </tr>\n",
       "  </thead>\n",
       "  <tbody>\n",
       "    <tr>\n",
       "      <th>28</th>\n",
       "      <td>The Neighbourhood</td>\n",
       "      <td>76330996</td>\n",
       "      <td>1441250</td>\n",
       "      <td>97b8d224-5660-419c-8dff-4b3bf0c33983</td>\n",
       "      <td>https://www.last.fm/music/The+Neighbourhood</td>\n",
       "      <td>0</td>\n",
       "      <td>[{'#text': 'https://lastfm.freetls.fastly.net/...</td>\n",
       "    </tr>\n",
       "    <tr>\n",
       "      <th>8</th>\n",
       "      <td>Lil Nas X</td>\n",
       "      <td>45961030</td>\n",
       "      <td>1109355</td>\n",
       "      <td></td>\n",
       "      <td>https://www.last.fm/music/Lil+Nas+X</td>\n",
       "      <td>0</td>\n",
       "      <td>[{'#text': 'https://lastfm.freetls.fastly.net/...</td>\n",
       "    </tr>\n",
       "    <tr>\n",
       "      <th>33</th>\n",
       "      <td>Harry Styles</td>\n",
       "      <td>75305314</td>\n",
       "      <td>1065921</td>\n",
       "      <td></td>\n",
       "      <td>https://www.last.fm/music/Harry+Styles</td>\n",
       "      <td>0</td>\n",
       "      <td>[{'#text': 'https://lastfm.freetls.fastly.net/...</td>\n",
       "    </tr>\n",
       "  </tbody>\n",
       "</table>\n",
       "</div>"
      ],
      "text/plain": [
       "                 name playcount listeners  \\\n",
       "28  The Neighbourhood  76330996   1441250   \n",
       "8           Lil Nas X  45961030   1109355   \n",
       "33       Harry Styles  75305314   1065921   \n",
       "\n",
       "                                    mbid  \\\n",
       "28  97b8d224-5660-419c-8dff-4b3bf0c33983   \n",
       "8                                          \n",
       "33                                         \n",
       "\n",
       "                                            url streamable  \\\n",
       "28  https://www.last.fm/music/The+Neighbourhood          0   \n",
       "8           https://www.last.fm/music/Lil+Nas+X          0   \n",
       "33       https://www.last.fm/music/Harry+Styles          0   \n",
       "\n",
       "                                                image  \n",
       "28  [{'#text': 'https://lastfm.freetls.fastly.net/...  \n",
       "8   [{'#text': 'https://lastfm.freetls.fastly.net/...  \n",
       "33  [{'#text': 'https://lastfm.freetls.fastly.net/...  "
      ]
     },
     "execution_count": 19,
     "metadata": {},
     "output_type": "execute_result"
    }
   ],
   "source": [
    "last_top50.sample(3)"
   ]
  },
  {
   "cell_type": "code",
   "execution_count": 20,
   "id": "411f24f4",
   "metadata": {},
   "outputs": [],
   "source": [
    "last_top50.rename(columns={\"name\": \"Artist\"}, inplace = True)"
   ]
  },
  {
   "cell_type": "code",
   "execution_count": 21,
   "id": "ef048ce1",
   "metadata": {},
   "outputs": [],
   "source": [
    "last_top50[[\"playcount\",\"listeners\"]] = last_top50[[\"playcount\",\"listeners\"]].astype(\"int64\")"
   ]
  },
  {
   "cell_type": "code",
   "execution_count": 22,
   "id": "6e74e891",
   "metadata": {},
   "outputs": [],
   "source": [
    "last_top50.to_csv(\"../data/otras/last_top50_image.csv\",index = False) #guardada para mí"
   ]
  },
  {
   "cell_type": "code",
   "execution_count": 23,
   "id": "6bb86542",
   "metadata": {},
   "outputs": [],
   "source": [
    "top_50_last = last_top50[[\"Artist\",\"playcount\",\"listeners\"]]"
   ]
  },
  {
   "cell_type": "code",
   "execution_count": 24,
   "id": "d4ac18ee",
   "metadata": {},
   "outputs": [],
   "source": [
    "top_50_last.to_csv(\"../data/top_50_last.csv\",index = False) "
   ]
  },
  {
   "cell_type": "code",
   "execution_count": 25,
   "id": "44d6c01a",
   "metadata": {
    "scrolled": true
   },
   "outputs": [
    {
     "data": {
      "text/html": [
       "<div>\n",
       "<style scoped>\n",
       "    .dataframe tbody tr th:only-of-type {\n",
       "        vertical-align: middle;\n",
       "    }\n",
       "\n",
       "    .dataframe tbody tr th {\n",
       "        vertical-align: top;\n",
       "    }\n",
       "\n",
       "    .dataframe thead th {\n",
       "        text-align: right;\n",
       "    }\n",
       "</style>\n",
       "<table border=\"1\" class=\"dataframe\">\n",
       "  <thead>\n",
       "    <tr style=\"text-align: right;\">\n",
       "      <th></th>\n",
       "      <th>Artist</th>\n",
       "      <th>playcount</th>\n",
       "      <th>listeners</th>\n",
       "    </tr>\n",
       "  </thead>\n",
       "  <tbody>\n",
       "    <tr>\n",
       "      <th>15</th>\n",
       "      <td>Arctic Monkeys</td>\n",
       "      <td>407930031</td>\n",
       "      <td>4152591</td>\n",
       "    </tr>\n",
       "    <tr>\n",
       "      <th>21</th>\n",
       "      <td>Ed Sheeran</td>\n",
       "      <td>125978126</td>\n",
       "      <td>2293214</td>\n",
       "    </tr>\n",
       "  </tbody>\n",
       "</table>\n",
       "</div>"
      ],
      "text/plain": [
       "            Artist  playcount  listeners\n",
       "15  Arctic Monkeys  407930031    4152591\n",
       "21      Ed Sheeran  125978126    2293214"
      ]
     },
     "execution_count": 25,
     "metadata": {},
     "output_type": "execute_result"
    }
   ],
   "source": [
    "top_50_last.sample(2)"
   ]
  },
  {
   "cell_type": "code",
   "execution_count": 26,
   "id": "61a47d00",
   "metadata": {},
   "outputs": [],
   "source": [
    "#stone_500_rich_art = stone_500_rich.groupby(\"Artist\").agg({\"Album\":\"count\",\"Rating\":\"mean\"}).reset_index()\n",
    "#stone_rich_top_50 = stone_500_rich_art.merge(top_50_last,how=\"left\",on = \"Artist\")\n",
    "#stone_rich_top_50"
   ]
  },
  {
   "cell_type": "code",
   "execution_count": 27,
   "id": "e5bbac6d",
   "metadata": {},
   "outputs": [],
   "source": [
    "stone = pd.read_csv(\"../data/stone.csv\")"
   ]
  },
  {
   "cell_type": "code",
   "execution_count": 28,
   "id": "7039f390",
   "metadata": {},
   "outputs": [],
   "source": [
    "stone_red = stone[[\"Number\",\"Artist\",\"Album\",\"Rating\",\"Genre\"]]"
   ]
  },
  {
   "cell_type": "code",
   "execution_count": 29,
   "id": "4bce0138",
   "metadata": {},
   "outputs": [],
   "source": [
    "stone_Artist = stone_red.groupby([\"Artist\"]).agg({\"Number\":\"min\",\"Album\":\"count\",\"Rating\":\"mean\"}).sort_values(\"Number\", ascending = True).reset_index()\n",
    "stone_Artist.Rating = round(stone_Artist.Rating, 2)"
   ]
  },
  {
   "cell_type": "code",
   "execution_count": 30,
   "id": "0b45dfb3",
   "metadata": {},
   "outputs": [],
   "source": [
    "stone_Artist_last = stone_Artist.merge(top_50_last, how = \"left\", on= \"Artist\")"
   ]
  },
  {
   "cell_type": "code",
   "execution_count": 31,
   "id": "593e5959",
   "metadata": {},
   "outputs": [],
   "source": [
    "stone_Artist_last.playcount.fillna(0,inplace = True)\n",
    "stone_Artist_last.listeners.fillna(0,inplace = True)\n",
    "stone_Artist_last[[\"playcount\",\"listeners\"]] = stone_Artist_last[[\"playcount\",\"listeners\"]].astype(\"int64\")"
   ]
  },
  {
   "cell_type": "code",
   "execution_count": 32,
   "id": "fb321658",
   "metadata": {},
   "outputs": [
    {
     "data": {
      "text/html": [
       "<div>\n",
       "<style scoped>\n",
       "    .dataframe tbody tr th:only-of-type {\n",
       "        vertical-align: middle;\n",
       "    }\n",
       "\n",
       "    .dataframe tbody tr th {\n",
       "        vertical-align: top;\n",
       "    }\n",
       "\n",
       "    .dataframe thead th {\n",
       "        text-align: right;\n",
       "    }\n",
       "</style>\n",
       "<table border=\"1\" class=\"dataframe\">\n",
       "  <thead>\n",
       "    <tr style=\"text-align: right;\">\n",
       "      <th></th>\n",
       "      <th>Artist</th>\n",
       "      <th>Number</th>\n",
       "      <th>Album</th>\n",
       "      <th>Rating</th>\n",
       "      <th>playcount</th>\n",
       "      <th>listeners</th>\n",
       "    </tr>\n",
       "  </thead>\n",
       "  <tbody>\n",
       "    <tr>\n",
       "      <th>0</th>\n",
       "      <td>Marvin Gaye</td>\n",
       "      <td>1</td>\n",
       "      <td>3</td>\n",
       "      <td>4.32</td>\n",
       "      <td>0</td>\n",
       "      <td>0</td>\n",
       "    </tr>\n",
       "    <tr>\n",
       "      <th>1</th>\n",
       "      <td>The Beach Boys</td>\n",
       "      <td>2</td>\n",
       "      <td>3</td>\n",
       "      <td>4.15</td>\n",
       "      <td>0</td>\n",
       "      <td>0</td>\n",
       "    </tr>\n",
       "    <tr>\n",
       "      <th>2</th>\n",
       "      <td>Joni Mitchell</td>\n",
       "      <td>3</td>\n",
       "      <td>4</td>\n",
       "      <td>4.36</td>\n",
       "      <td>0</td>\n",
       "      <td>0</td>\n",
       "    </tr>\n",
       "  </tbody>\n",
       "</table>\n",
       "</div>"
      ],
      "text/plain": [
       "           Artist  Number  Album  Rating  playcount  listeners\n",
       "0     Marvin Gaye       1      3    4.32          0          0\n",
       "1  The Beach Boys       2      3    4.15          0          0\n",
       "2   Joni Mitchell       3      4    4.36          0          0"
      ]
     },
     "execution_count": 32,
     "metadata": {},
     "output_type": "execute_result"
    }
   ],
   "source": [
    "stone_Artist_last.head(3)"
   ]
  },
  {
   "cell_type": "code",
   "execution_count": 33,
   "id": "b210bfa8",
   "metadata": {},
   "outputs": [],
   "source": [
    "stone_Artist_last.to_csv(\"../data/stone_Artist_last.csv\",index = False)"
   ]
  },
  {
   "cell_type": "markdown",
   "id": "756e9a56",
   "metadata": {},
   "source": [
    "# Top Sells\n",
    "#### The 50 best selling albums of all time in USA. \n",
    "[top50](https://www.businessinsider.com/50-best-selling-albums-all-time-2016-9)\n",
    "    - Travis Clark Updated Sep 22, 2021, 8:18 PM"
   ]
  },
  {
   "cell_type": "code",
   "execution_count": 34,
   "id": "399a53a6",
   "metadata": {},
   "outputs": [],
   "source": [
    "url_insider = \"https://www.businessinsider.com/50-best-selling-albums-all-time-2016-9\"\n",
    "html_insider = requests.get(url_insider)\n",
    "soup_insider = BeautifulSoup(html_insider.content,\"html.parser\")"
   ]
  },
  {
   "cell_type": "code",
   "execution_count": 35,
   "id": "801dd16e",
   "metadata": {},
   "outputs": [],
   "source": [
    "tags_insider = soup_insider.find_all(\"div\", {\"class\": \"slide-layout\"})"
   ]
  },
  {
   "cell_type": "code",
   "execution_count": 36,
   "id": "ab3182a6",
   "metadata": {},
   "outputs": [
    {
     "data": {
      "text/plain": [
       "'50. Led Zeppelin —\\xa0\"Led Zeppelin II\"'"
      ]
     },
     "execution_count": 36,
     "metadata": {},
     "output_type": "execute_result"
    }
   ],
   "source": [
    "tags_insider[0].find(\"h2\").getText()"
   ]
  },
  {
   "cell_type": "code",
   "execution_count": 37,
   "id": "d65ab89e",
   "metadata": {},
   "outputs": [
    {
     "data": {
      "text/plain": [
       "'Certified units: 12\\xa0million'"
      ]
     },
     "execution_count": 37,
     "metadata": {},
     "output_type": "execute_result"
    }
   ],
   "source": [
    "tags_insider[0].find_all(\"p\")[0].getText()"
   ]
  },
  {
   "cell_type": "code",
   "execution_count": 38,
   "id": "d90c8b62",
   "metadata": {},
   "outputs": [],
   "source": [
    "def data_scrap(tags):\n",
    "    lista = []\n",
    "    for t in tags:\n",
    "        dicc_t = {\"art_alb\": t.find(\"h2\").getText(),\n",
    "                 \"certified units\" : t.find(\"p\").getText()}\n",
    "        lista.append(dicc_t)\n",
    "    return lista"
   ]
  },
  {
   "cell_type": "code",
   "execution_count": 39,
   "id": "60d2cde5",
   "metadata": {},
   "outputs": [
    {
     "data": {
      "text/plain": [
       "{'art_alb': '50. Led Zeppelin —\\xa0\"Led Zeppelin II\"',\n",
       " 'certified units': 'Certified units: 12\\xa0million'}"
      ]
     },
     "execution_count": 39,
     "metadata": {},
     "output_type": "execute_result"
    }
   ],
   "source": [
    "insider_data = data_scrap(tags_insider)\n",
    "insider_data[0]"
   ]
  },
  {
   "cell_type": "code",
   "execution_count": 40,
   "id": "7973616a",
   "metadata": {},
   "outputs": [
    {
     "data": {
      "text/html": [
       "<div>\n",
       "<style scoped>\n",
       "    .dataframe tbody tr th:only-of-type {\n",
       "        vertical-align: middle;\n",
       "    }\n",
       "\n",
       "    .dataframe tbody tr th {\n",
       "        vertical-align: top;\n",
       "    }\n",
       "\n",
       "    .dataframe thead th {\n",
       "        text-align: right;\n",
       "    }\n",
       "</style>\n",
       "<table border=\"1\" class=\"dataframe\">\n",
       "  <thead>\n",
       "    <tr style=\"text-align: right;\">\n",
       "      <th></th>\n",
       "      <th>art_alb</th>\n",
       "      <th>certified units</th>\n",
       "    </tr>\n",
       "  </thead>\n",
       "  <tbody>\n",
       "    <tr>\n",
       "      <th>0</th>\n",
       "      <td>50. Led Zeppelin — \"Led Zeppelin II\"</td>\n",
       "      <td>Certified units: 12 million</td>\n",
       "    </tr>\n",
       "    <tr>\n",
       "      <th>1</th>\n",
       "      <td>49. Kenny Rogers — \"Kenny Rogers' Greatest Hits\"</td>\n",
       "      <td>Certified units: 12 million</td>\n",
       "    </tr>\n",
       "  </tbody>\n",
       "</table>\n",
       "</div>"
      ],
      "text/plain": [
       "                                            art_alb  \\\n",
       "0              50. Led Zeppelin — \"Led Zeppelin II\"   \n",
       "1  49. Kenny Rogers — \"Kenny Rogers' Greatest Hits\"   \n",
       "\n",
       "               certified units  \n",
       "0  Certified units: 12 million  \n",
       "1  Certified units: 12 million  "
      ]
     },
     "execution_count": 40,
     "metadata": {},
     "output_type": "execute_result"
    }
   ],
   "source": [
    "insider = pd.DataFrame(insider_data)\n",
    "insider.head(2)"
   ]
  },
  {
   "cell_type": "code",
   "execution_count": 41,
   "id": "8fb864a2",
   "metadata": {},
   "outputs": [],
   "source": [
    "#limpieza nuevo dataFrame\n",
    "insider[\"Rank\"] = insider[\"art_alb\"].str.extract(r\"(^\\d+)\")\n",
    "insider[\"Millions\"] = insider[\"certified units\"].str.extract(r\"(\\d+)\")\n",
    "insider[\"art_alb\"] = insider[\"art_alb\"].str.replace(\" – \",\" — \",regex = True)\n",
    "insider[\"Artist\"] = insider[\"art_alb\"].str.extract(r\"(^\\d+.\\s(.+?)—)\")[1]\n",
    "insider[\"Album\"] = insider[\"art_alb\"].str.extract(r\"(—\\s(.+?)$)\")[1]\n",
    "insider[\"Album\"] = insider[\"Album\"].str.replace('\"',\"\")\n",
    "insider[\"Artist\"] = insider[\"Artist\"].str.strip()\n",
    "insider[\"Album\"] = insider[\"Album\"].str.strip()"
   ]
  },
  {
   "cell_type": "code",
   "execution_count": 42,
   "id": "2aaed0fc",
   "metadata": {},
   "outputs": [
    {
     "data": {
      "text/html": [
       "<div>\n",
       "<style scoped>\n",
       "    .dataframe tbody tr th:only-of-type {\n",
       "        vertical-align: middle;\n",
       "    }\n",
       "\n",
       "    .dataframe tbody tr th {\n",
       "        vertical-align: top;\n",
       "    }\n",
       "\n",
       "    .dataframe thead th {\n",
       "        text-align: right;\n",
       "    }\n",
       "</style>\n",
       "<table border=\"1\" class=\"dataframe\">\n",
       "  <thead>\n",
       "    <tr style=\"text-align: right;\">\n",
       "      <th></th>\n",
       "      <th>art_alb</th>\n",
       "      <th>certified units</th>\n",
       "      <th>Rank</th>\n",
       "      <th>Millions</th>\n",
       "      <th>Artist</th>\n",
       "      <th>Album</th>\n",
       "    </tr>\n",
       "  </thead>\n",
       "  <tbody>\n",
       "    <tr>\n",
       "      <th>0</th>\n",
       "      <td>50. Led Zeppelin — \"Led Zeppelin II\"</td>\n",
       "      <td>Certified units: 12 million</td>\n",
       "      <td>50</td>\n",
       "      <td>12</td>\n",
       "      <td>Led Zeppelin</td>\n",
       "      <td>Led Zeppelin II</td>\n",
       "    </tr>\n",
       "    <tr>\n",
       "      <th>1</th>\n",
       "      <td>49. Kenny Rogers — \"Kenny Rogers' Greatest Hits\"</td>\n",
       "      <td>Certified units: 12 million</td>\n",
       "      <td>49</td>\n",
       "      <td>12</td>\n",
       "      <td>Kenny Rogers</td>\n",
       "      <td>Kenny Rogers' Greatest Hits</td>\n",
       "    </tr>\n",
       "    <tr>\n",
       "      <th>2</th>\n",
       "      <td>48. Kenny G — \"Breathless\"</td>\n",
       "      <td>Certified units: 12 million</td>\n",
       "      <td>48</td>\n",
       "      <td>12</td>\n",
       "      <td>Kenny G</td>\n",
       "      <td>Breathless</td>\n",
       "    </tr>\n",
       "  </tbody>\n",
       "</table>\n",
       "</div>"
      ],
      "text/plain": [
       "                                            art_alb  \\\n",
       "0              50. Led Zeppelin — \"Led Zeppelin II\"   \n",
       "1  49. Kenny Rogers — \"Kenny Rogers' Greatest Hits\"   \n",
       "2                        48. Kenny G — \"Breathless\"   \n",
       "\n",
       "               certified units Rank Millions        Artist  \\\n",
       "0  Certified units: 12 million   50       12  Led Zeppelin   \n",
       "1  Certified units: 12 million   49       12  Kenny Rogers   \n",
       "2  Certified units: 12 million   48       12       Kenny G   \n",
       "\n",
       "                         Album  \n",
       "0              Led Zeppelin II  \n",
       "1  Kenny Rogers' Greatest Hits  \n",
       "2                   Breathless  "
      ]
     },
     "execution_count": 42,
     "metadata": {},
     "output_type": "execute_result"
    }
   ],
   "source": [
    "insider.head(3)"
   ]
  },
  {
   "cell_type": "code",
   "execution_count": 43,
   "id": "e5e923ec",
   "metadata": {},
   "outputs": [],
   "source": [
    "insider.to_csv(\"../data/otras/top_sells_certified.csv\",index=False) #guardado para mí"
   ]
  },
  {
   "cell_type": "code",
   "execution_count": 44,
   "id": "15e5f7e8",
   "metadata": {},
   "outputs": [],
   "source": [
    "insider[[\"Millions\",\"Rank\"]] = insider[[\"Millions\",\"Rank\"]].astype(\"int64\")\n",
    "top_sells = insider[[\"Rank\",\"Artist\",\"Album\",\"Millions\"]]\n",
    "top_sells= top_sells.sort_values(\"Millions\",ascending = False)"
   ]
  },
  {
   "cell_type": "code",
   "execution_count": 45,
   "id": "93e6aad8",
   "metadata": {
    "scrolled": false
   },
   "outputs": [
    {
     "data": {
      "text/html": [
       "<div>\n",
       "<style scoped>\n",
       "    .dataframe tbody tr th:only-of-type {\n",
       "        vertical-align: middle;\n",
       "    }\n",
       "\n",
       "    .dataframe tbody tr th {\n",
       "        vertical-align: top;\n",
       "    }\n",
       "\n",
       "    .dataframe thead th {\n",
       "        text-align: right;\n",
       "    }\n",
       "</style>\n",
       "<table border=\"1\" class=\"dataframe\">\n",
       "  <thead>\n",
       "    <tr style=\"text-align: right;\">\n",
       "      <th></th>\n",
       "      <th>Rank</th>\n",
       "      <th>Artist</th>\n",
       "      <th>Album</th>\n",
       "      <th>Millions</th>\n",
       "    </tr>\n",
       "  </thead>\n",
       "  <tbody>\n",
       "    <tr>\n",
       "      <th>49</th>\n",
       "      <td>1</td>\n",
       "      <td>Eagles</td>\n",
       "      <td>Their Greatest Hits (1971-1975)</td>\n",
       "      <td>38</td>\n",
       "    </tr>\n",
       "    <tr>\n",
       "      <th>48</th>\n",
       "      <td>2</td>\n",
       "      <td>Michael Jackson</td>\n",
       "      <td>Thriller</td>\n",
       "      <td>34</td>\n",
       "    </tr>\n",
       "    <tr>\n",
       "      <th>47</th>\n",
       "      <td>3</td>\n",
       "      <td>Eagles</td>\n",
       "      <td>Hotel California</td>\n",
       "      <td>26</td>\n",
       "    </tr>\n",
       "  </tbody>\n",
       "</table>\n",
       "</div>"
      ],
      "text/plain": [
       "    Rank           Artist                            Album  Millions\n",
       "49     1           Eagles  Their Greatest Hits (1971-1975)        38\n",
       "48     2  Michael Jackson                         Thriller        34\n",
       "47     3           Eagles                 Hotel California        26"
      ]
     },
     "execution_count": 45,
     "metadata": {},
     "output_type": "execute_result"
    }
   ],
   "source": [
    "top_sells.head(3)"
   ]
  },
  {
   "cell_type": "code",
   "execution_count": 46,
   "id": "26260dac",
   "metadata": {},
   "outputs": [],
   "source": [
    "top_sells[\"Album\"] = top_sells[\"Album\"].str.replace(r\"(^The Beatles..The White\\s.*)\",\"The Beatles\",regex = True)"
   ]
  },
  {
   "cell_type": "code",
   "execution_count": 47,
   "id": "d0db3cdd",
   "metadata": {
    "scrolled": false
   },
   "outputs": [
    {
     "data": {
      "text/html": [
       "<div>\n",
       "<style scoped>\n",
       "    .dataframe tbody tr th:only-of-type {\n",
       "        vertical-align: middle;\n",
       "    }\n",
       "\n",
       "    .dataframe tbody tr th {\n",
       "        vertical-align: top;\n",
       "    }\n",
       "\n",
       "    .dataframe thead th {\n",
       "        text-align: right;\n",
       "    }\n",
       "</style>\n",
       "<table border=\"1\" class=\"dataframe\">\n",
       "  <thead>\n",
       "    <tr style=\"text-align: right;\">\n",
       "      <th></th>\n",
       "      <th>Rank</th>\n",
       "      <th>Artist</th>\n",
       "      <th>Album</th>\n",
       "      <th>Millions</th>\n",
       "    </tr>\n",
       "  </thead>\n",
       "  <tbody>\n",
       "    <tr>\n",
       "      <th>17</th>\n",
       "      <td>33</td>\n",
       "      <td>Meat Loaf</td>\n",
       "      <td>Bat Out of Hell</td>\n",
       "      <td>14</td>\n",
       "    </tr>\n",
       "    <tr>\n",
       "      <th>38</th>\n",
       "      <td>12</td>\n",
       "      <td>Shania Twain</td>\n",
       "      <td>Come On Over</td>\n",
       "      <td>20</td>\n",
       "    </tr>\n",
       "    <tr>\n",
       "      <th>46</th>\n",
       "      <td>4</td>\n",
       "      <td>AC/DC</td>\n",
       "      <td>Back In Black</td>\n",
       "      <td>25</td>\n",
       "    </tr>\n",
       "  </tbody>\n",
       "</table>\n",
       "</div>"
      ],
      "text/plain": [
       "    Rank        Artist            Album  Millions\n",
       "17    33     Meat Loaf  Bat Out of Hell        14\n",
       "38    12  Shania Twain     Come On Over        20\n",
       "46     4         AC/DC    Back In Black        25"
      ]
     },
     "execution_count": 47,
     "metadata": {},
     "output_type": "execute_result"
    }
   ],
   "source": [
    "top_sells.sample(3)"
   ]
  },
  {
   "cell_type": "code",
   "execution_count": 48,
   "id": "8f9cf70c",
   "metadata": {},
   "outputs": [],
   "source": [
    "top_sells.to_csv(\"../data/top_sells.csv\",index=False)"
   ]
  },
  {
   "cell_type": "code",
   "execution_count": 49,
   "id": "3926373d",
   "metadata": {},
   "outputs": [
    {
     "data": {
      "text/html": [
       "<div>\n",
       "<style scoped>\n",
       "    .dataframe tbody tr th:only-of-type {\n",
       "        vertical-align: middle;\n",
       "    }\n",
       "\n",
       "    .dataframe tbody tr th {\n",
       "        vertical-align: top;\n",
       "    }\n",
       "\n",
       "    .dataframe thead th {\n",
       "        text-align: right;\n",
       "    }\n",
       "</style>\n",
       "<table border=\"1\" class=\"dataframe\">\n",
       "  <thead>\n",
       "    <tr style=\"text-align: right;\">\n",
       "      <th></th>\n",
       "      <th>Rank</th>\n",
       "      <th>Artist</th>\n",
       "      <th>Album</th>\n",
       "      <th>Millions</th>\n",
       "      <th>Number</th>\n",
       "      <th>Year</th>\n",
       "      <th>Type</th>\n",
       "      <th>Rating</th>\n",
       "      <th>Gen</th>\n",
       "      <th>playcount</th>\n",
       "      <th>listeners</th>\n",
       "    </tr>\n",
       "  </thead>\n",
       "  <tbody>\n",
       "    <tr>\n",
       "      <th>0</th>\n",
       "      <td>1</td>\n",
       "      <td>Eagles</td>\n",
       "      <td>Their Greatest Hits (1971-1975)</td>\n",
       "      <td>38</td>\n",
       "      <td>NaN</td>\n",
       "      <td>NaN</td>\n",
       "      <td>NaN</td>\n",
       "      <td>NaN</td>\n",
       "      <td>NaN</td>\n",
       "      <td>NaN</td>\n",
       "      <td>NaN</td>\n",
       "    </tr>\n",
       "    <tr>\n",
       "      <th>1</th>\n",
       "      <td>2</td>\n",
       "      <td>Michael Jackson</td>\n",
       "      <td>Thriller</td>\n",
       "      <td>34</td>\n",
       "      <td>12.0</td>\n",
       "      <td>1982.0</td>\n",
       "      <td>Album</td>\n",
       "      <td>4.40</td>\n",
       "      <td>pop</td>\n",
       "      <td>13968793.0</td>\n",
       "      <td>1303329.0</td>\n",
       "    </tr>\n",
       "    <tr>\n",
       "      <th>2</th>\n",
       "      <td>3</td>\n",
       "      <td>Eagles</td>\n",
       "      <td>Hotel California</td>\n",
       "      <td>26</td>\n",
       "      <td>118.0</td>\n",
       "      <td>1976.0</td>\n",
       "      <td>Album</td>\n",
       "      <td>4.45</td>\n",
       "      <td>rock</td>\n",
       "      <td>3430062.0</td>\n",
       "      <td>315984.0</td>\n",
       "    </tr>\n",
       "  </tbody>\n",
       "</table>\n",
       "</div>"
      ],
      "text/plain": [
       "   Rank           Artist                            Album  Millions  Number  \\\n",
       "0     1           Eagles  Their Greatest Hits (1971-1975)        38     NaN   \n",
       "1     2  Michael Jackson                         Thriller        34    12.0   \n",
       "2     3           Eagles                 Hotel California        26   118.0   \n",
       "\n",
       "     Year   Type  Rating   Gen   playcount  listeners  \n",
       "0     NaN    NaN     NaN   NaN         NaN        NaN  \n",
       "1  1982.0  Album    4.40   pop  13968793.0  1303329.0  \n",
       "2  1976.0  Album    4.45  rock   3430062.0   315984.0  "
      ]
     },
     "execution_count": 49,
     "metadata": {},
     "output_type": "execute_result"
    }
   ],
   "source": [
    "top_sell_rs = top_sells.merge(stone_500_rich, how = \"left\", on=[\"Artist\",\"Album\"])\n",
    "top_sell_rs.head(3)"
   ]
  },
  {
   "cell_type": "code",
   "execution_count": 50,
   "id": "33c0af3c",
   "metadata": {},
   "outputs": [],
   "source": [
    "top_sell_rs.Number.fillna(0,inplace = True)\n",
    "top_sell_rs.Year.fillna(0,inplace = True)\n",
    "top_sell_rs.Type.fillna(\"unknown\",inplace = True)\n",
    "top_sell_rs.Rating.fillna(0,inplace = True)\n",
    "top_sell_rs.Gen.fillna(\"none\",inplace = True)\n",
    "top_sell_rs.playcount.fillna(0,inplace = True)\n",
    "top_sell_rs.listeners.fillna(0,inplace = True)\n",
    "top_sell_rs[[\"Number\",\"Year\",\"playcount\",\"listeners\"]] = top_sell_rs[[\"Number\",\"Year\",\"playcount\",\"listeners\"]].astype(\"int64\")"
   ]
  },
  {
   "cell_type": "code",
   "execution_count": 51,
   "id": "f0099c16",
   "metadata": {},
   "outputs": [
    {
     "data": {
      "text/html": [
       "<div>\n",
       "<style scoped>\n",
       "    .dataframe tbody tr th:only-of-type {\n",
       "        vertical-align: middle;\n",
       "    }\n",
       "\n",
       "    .dataframe tbody tr th {\n",
       "        vertical-align: top;\n",
       "    }\n",
       "\n",
       "    .dataframe thead th {\n",
       "        text-align: right;\n",
       "    }\n",
       "</style>\n",
       "<table border=\"1\" class=\"dataframe\">\n",
       "  <thead>\n",
       "    <tr style=\"text-align: right;\">\n",
       "      <th></th>\n",
       "      <th>Rank</th>\n",
       "      <th>Artist</th>\n",
       "      <th>Album</th>\n",
       "      <th>Millions</th>\n",
       "      <th>Number</th>\n",
       "      <th>Year</th>\n",
       "      <th>Type</th>\n",
       "      <th>Rating</th>\n",
       "      <th>Gen</th>\n",
       "      <th>playcount</th>\n",
       "      <th>listeners</th>\n",
       "    </tr>\n",
       "  </thead>\n",
       "  <tbody>\n",
       "    <tr>\n",
       "      <th>24</th>\n",
       "      <td>25</td>\n",
       "      <td>Journey</td>\n",
       "      <td>Greatest Hits</td>\n",
       "      <td>15</td>\n",
       "      <td>0</td>\n",
       "      <td>0</td>\n",
       "      <td>unknown</td>\n",
       "      <td>0.00</td>\n",
       "      <td>none</td>\n",
       "      <td>0</td>\n",
       "      <td>0</td>\n",
       "    </tr>\n",
       "    <tr>\n",
       "      <th>2</th>\n",
       "      <td>3</td>\n",
       "      <td>Eagles</td>\n",
       "      <td>Hotel California</td>\n",
       "      <td>26</td>\n",
       "      <td>118</td>\n",
       "      <td>1976</td>\n",
       "      <td>Album</td>\n",
       "      <td>4.45</td>\n",
       "      <td>rock</td>\n",
       "      <td>3430062</td>\n",
       "      <td>315984</td>\n",
       "    </tr>\n",
       "    <tr>\n",
       "      <th>9</th>\n",
       "      <td>10</td>\n",
       "      <td>Hootie &amp; The Blowfish</td>\n",
       "      <td>Cracked Rear View</td>\n",
       "      <td>21</td>\n",
       "      <td>0</td>\n",
       "      <td>0</td>\n",
       "      <td>unknown</td>\n",
       "      <td>0.00</td>\n",
       "      <td>none</td>\n",
       "      <td>0</td>\n",
       "      <td>0</td>\n",
       "    </tr>\n",
       "  </tbody>\n",
       "</table>\n",
       "</div>"
      ],
      "text/plain": [
       "    Rank                 Artist              Album  Millions  Number  Year  \\\n",
       "24    25                Journey      Greatest Hits        15       0     0   \n",
       "2      3                 Eagles   Hotel California        26     118  1976   \n",
       "9     10  Hootie & The Blowfish  Cracked Rear View        21       0     0   \n",
       "\n",
       "       Type  Rating   Gen  playcount  listeners  \n",
       "24  unknown    0.00  none          0          0  \n",
       "2     Album    4.45  rock    3430062     315984  \n",
       "9   unknown    0.00  none          0          0  "
      ]
     },
     "execution_count": 51,
     "metadata": {},
     "output_type": "execute_result"
    }
   ],
   "source": [
    "top_sell_rs.sample(3)"
   ]
  },
  {
   "cell_type": "code",
   "execution_count": 52,
   "id": "9850fc4c",
   "metadata": {},
   "outputs": [],
   "source": [
    "top_sell_rs.to_csv(\"../data/top_sell_rs.csv\",index=False)"
   ]
  },
  {
   "cell_type": "code",
   "execution_count": 53,
   "id": "92afb888",
   "metadata": {},
   "outputs": [],
   "source": [
    "stone_last_spot_sells = stone_last_spot.merge(top_sells,how = \"left\", on=[\"Artist\",\"Album\"])"
   ]
  },
  {
   "cell_type": "code",
   "execution_count": 54,
   "id": "1eac313c",
   "metadata": {},
   "outputs": [],
   "source": [
    "stone_last_spot_sells = stone_last_spot_sells.rename(columns = {\"Rank_x\":\"Spotify\",\"Rank_y\":\"Sells\"})"
   ]
  },
  {
   "cell_type": "code",
   "execution_count": 55,
   "id": "03f5f606",
   "metadata": {},
   "outputs": [],
   "source": [
    "stone_last_spot_sells.Sells.fillna(0,inplace = True)\n",
    "stone_last_spot_sells.Millions.fillna(0,inplace = True)"
   ]
  },
  {
   "cell_type": "code",
   "execution_count": 61,
   "id": "30b2e32d",
   "metadata": {},
   "outputs": [
    {
     "data": {
      "text/html": [
       "<div>\n",
       "<style scoped>\n",
       "    .dataframe tbody tr th:only-of-type {\n",
       "        vertical-align: middle;\n",
       "    }\n",
       "\n",
       "    .dataframe tbody tr th {\n",
       "        vertical-align: top;\n",
       "    }\n",
       "\n",
       "    .dataframe thead th {\n",
       "        text-align: right;\n",
       "    }\n",
       "</style>\n",
       "<table border=\"1\" class=\"dataframe\">\n",
       "  <thead>\n",
       "    <tr style=\"text-align: right;\">\n",
       "      <th></th>\n",
       "      <th>Number</th>\n",
       "      <th>Year</th>\n",
       "      <th>Album</th>\n",
       "      <th>Artist</th>\n",
       "      <th>Type</th>\n",
       "      <th>Rating</th>\n",
       "      <th>Gen</th>\n",
       "      <th>playcount</th>\n",
       "      <th>listeners</th>\n",
       "      <th>Spotify</th>\n",
       "      <th>Total</th>\n",
       "      <th>EAS</th>\n",
       "      <th>Sells</th>\n",
       "      <th>Millions</th>\n",
       "      <th>In_Spot</th>\n",
       "      <th>In_Sells</th>\n",
       "    </tr>\n",
       "  </thead>\n",
       "  <tbody>\n",
       "    <tr>\n",
       "      <th>0</th>\n",
       "      <td>1</td>\n",
       "      <td>1971</td>\n",
       "      <td>What's Going On</td>\n",
       "      <td>Marvin Gaye</td>\n",
       "      <td>Album</td>\n",
       "      <td>4.65</td>\n",
       "      <td>r&amp;b</td>\n",
       "      <td>5228524</td>\n",
       "      <td>544564</td>\n",
       "      <td>0</td>\n",
       "      <td>0</td>\n",
       "      <td>0</td>\n",
       "      <td>0</td>\n",
       "      <td>0</td>\n",
       "      <td>No</td>\n",
       "      <td>No</td>\n",
       "    </tr>\n",
       "    <tr>\n",
       "      <th>1</th>\n",
       "      <td>2</td>\n",
       "      <td>1966</td>\n",
       "      <td>Pet Sounds</td>\n",
       "      <td>The Beach Boys</td>\n",
       "      <td>Album</td>\n",
       "      <td>4.45</td>\n",
       "      <td>rock</td>\n",
       "      <td>13406086</td>\n",
       "      <td>543499</td>\n",
       "      <td>0</td>\n",
       "      <td>0</td>\n",
       "      <td>0</td>\n",
       "      <td>0</td>\n",
       "      <td>0</td>\n",
       "      <td>No</td>\n",
       "      <td>No</td>\n",
       "    </tr>\n",
       "    <tr>\n",
       "      <th>2</th>\n",
       "      <td>3</td>\n",
       "      <td>1971</td>\n",
       "      <td>Blue</td>\n",
       "      <td>Joni Mitchell</td>\n",
       "      <td>Album</td>\n",
       "      <td>4.45</td>\n",
       "      <td>folk</td>\n",
       "      <td>9357665</td>\n",
       "      <td>535579</td>\n",
       "      <td>0</td>\n",
       "      <td>0</td>\n",
       "      <td>0</td>\n",
       "      <td>0</td>\n",
       "      <td>0</td>\n",
       "      <td>No</td>\n",
       "      <td>No</td>\n",
       "    </tr>\n",
       "  </tbody>\n",
       "</table>\n",
       "</div>"
      ],
      "text/plain": [
       "   Number  Year            Album          Artist   Type  Rating   Gen  \\\n",
       "0       1  1971  What's Going On     Marvin Gaye  Album    4.65   r&b   \n",
       "1       2  1966       Pet Sounds  The Beach Boys  Album    4.45  rock   \n",
       "2       3  1971             Blue   Joni Mitchell  Album    4.45  folk   \n",
       "\n",
       "   playcount  listeners  Spotify  Total  EAS  Sells  Millions In_Spot In_Sells  \n",
       "0    5228524     544564        0      0    0      0         0      No       No  \n",
       "1   13406086     543499        0      0    0      0         0      No       No  \n",
       "2    9357665     535579        0      0    0      0         0      No       No  "
      ]
     },
     "execution_count": 61,
     "metadata": {},
     "output_type": "execute_result"
    }
   ],
   "source": [
    "stone_last_spot_sells.head(3)"
   ]
  },
  {
   "cell_type": "code",
   "execution_count": 57,
   "id": "68cb9271",
   "metadata": {},
   "outputs": [],
   "source": [
    "stone_last_spot_sells[[\"Sells\",\"Millions\"]] = stone_last_spot_sells[[\"Sells\",\"Millions\"]].astype(\"int64\")"
   ]
  },
  {
   "cell_type": "code",
   "execution_count": 58,
   "id": "cdfa9b39",
   "metadata": {},
   "outputs": [
    {
     "data": {
      "text/html": [
       "<div>\n",
       "<style scoped>\n",
       "    .dataframe tbody tr th:only-of-type {\n",
       "        vertical-align: middle;\n",
       "    }\n",
       "\n",
       "    .dataframe tbody tr th {\n",
       "        vertical-align: top;\n",
       "    }\n",
       "\n",
       "    .dataframe thead th {\n",
       "        text-align: right;\n",
       "    }\n",
       "</style>\n",
       "<table border=\"1\" class=\"dataframe\">\n",
       "  <thead>\n",
       "    <tr style=\"text-align: right;\">\n",
       "      <th></th>\n",
       "      <th>Number</th>\n",
       "      <th>Year</th>\n",
       "      <th>Album</th>\n",
       "      <th>Artist</th>\n",
       "      <th>Type</th>\n",
       "      <th>Rating</th>\n",
       "      <th>Gen</th>\n",
       "      <th>playcount</th>\n",
       "      <th>listeners</th>\n",
       "      <th>Spotify</th>\n",
       "      <th>Total</th>\n",
       "      <th>EAS</th>\n",
       "      <th>Sells</th>\n",
       "      <th>Millions</th>\n",
       "    </tr>\n",
       "  </thead>\n",
       "  <tbody>\n",
       "    <tr>\n",
       "      <th>482</th>\n",
       "      <td>483</td>\n",
       "      <td>2001</td>\n",
       "      <td>The Anthology</td>\n",
       "      <td>Muddy Waters</td>\n",
       "      <td>Album + Compilation</td>\n",
       "      <td>2.0</td>\n",
       "      <td>blues</td>\n",
       "      <td>126109</td>\n",
       "      <td>9592</td>\n",
       "      <td>0</td>\n",
       "      <td>0</td>\n",
       "      <td>0</td>\n",
       "      <td>0</td>\n",
       "      <td>0</td>\n",
       "    </tr>\n",
       "    <tr>\n",
       "      <th>111</th>\n",
       "      <td>112</td>\n",
       "      <td>1973</td>\n",
       "      <td>Goodbye Yellow Brick Road</td>\n",
       "      <td>Elton John</td>\n",
       "      <td>Album</td>\n",
       "      <td>4.0</td>\n",
       "      <td>pop</td>\n",
       "      <td>2925631</td>\n",
       "      <td>290597</td>\n",
       "      <td>0</td>\n",
       "      <td>0</td>\n",
       "      <td>0</td>\n",
       "      <td>0</td>\n",
       "      <td>0</td>\n",
       "    </tr>\n",
       "    <tr>\n",
       "      <th>73</th>\n",
       "      <td>74</td>\n",
       "      <td>2003</td>\n",
       "      <td>The College Dropout</td>\n",
       "      <td>Kanye West</td>\n",
       "      <td>Album</td>\n",
       "      <td>4.4</td>\n",
       "      <td>hip-hop</td>\n",
       "      <td>28243723</td>\n",
       "      <td>1010870</td>\n",
       "      <td>0</td>\n",
       "      <td>0</td>\n",
       "      <td>0</td>\n",
       "      <td>0</td>\n",
       "      <td>0</td>\n",
       "    </tr>\n",
       "  </tbody>\n",
       "</table>\n",
       "</div>"
      ],
      "text/plain": [
       "     Number  Year                      Album        Artist  \\\n",
       "482     483  2001              The Anthology  Muddy Waters   \n",
       "111     112  1973  Goodbye Yellow Brick Road    Elton John   \n",
       "73       74  2003        The College Dropout    Kanye West   \n",
       "\n",
       "                    Type  Rating      Gen  playcount  listeners  Spotify  \\\n",
       "482  Album + Compilation     2.0    blues     126109       9592        0   \n",
       "111                Album     4.0      pop    2925631     290597        0   \n",
       "73                 Album     4.4  hip-hop   28243723    1010870        0   \n",
       "\n",
       "     Total  EAS  Sells  Millions  \n",
       "482      0    0      0         0  \n",
       "111      0    0      0         0  \n",
       "73       0    0      0         0  "
      ]
     },
     "execution_count": 58,
     "metadata": {},
     "output_type": "execute_result"
    }
   ],
   "source": [
    "stone_last_spot_sells.sample(3)"
   ]
  },
  {
   "cell_type": "code",
   "execution_count": 59,
   "id": "9c36b780",
   "metadata": {},
   "outputs": [],
   "source": [
    "stone_last_spot_sells[\"In_Spot\"] = np.where(stone_last_spot_sells[\"Spotify\"],\"Yes\",\"No\")\n",
    "stone_last_spot_sells[\"In_Sells\"] = np.where(stone_last_spot_sells[\"Sells\"],\"Yes\",\"No\")"
   ]
  },
  {
   "cell_type": "code",
   "execution_count": 60,
   "id": "f9e91827",
   "metadata": {},
   "outputs": [],
   "source": [
    "stone_last_spot_sells.to_csv(\"../data/stone_last_spot_sells.csv\",index=False)"
   ]
  },
  {
   "cell_type": "code",
   "execution_count": null,
   "id": "e7d9af8a",
   "metadata": {},
   "outputs": [],
   "source": []
  }
 ],
 "metadata": {
  "kernelspec": {
   "display_name": "ironhack",
   "language": "python",
   "name": "ironhack"
  },
  "language_info": {
   "codemirror_mode": {
    "name": "ipython",
    "version": 3
   },
   "file_extension": ".py",
   "mimetype": "text/x-python",
   "name": "python",
   "nbconvert_exporter": "python",
   "pygments_lexer": "ipython3",
   "version": "3.8.5"
  }
 },
 "nbformat": 4,
 "nbformat_minor": 5
}
