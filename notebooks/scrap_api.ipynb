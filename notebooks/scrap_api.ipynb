{
 "cells": [
  {
   "cell_type": "code",
   "execution_count": 1,
   "metadata": {},
   "outputs": [
    {
     "data": {
      "text/plain": [
       "True"
      ]
     },
     "execution_count": 1,
     "metadata": {},
     "output_type": "execute_result"
    }
   ],
   "source": [
    "import requests\n",
    "from bs4 import BeautifulSoup\n",
    "import requests \n",
    "import json\n",
    "import os\n",
    "from dotenv import load_dotenv\n",
    "import pandas as pd\n",
    "from pandas import json_normalize\n",
    "import tweepy\n",
    "import time\n",
    "import numpy as np\n",
    "load_dotenv()"
   ]
  },
  {
   "cell_type": "code",
   "execution_count": 2,
   "metadata": {},
   "outputs": [],
   "source": [
    "apikey = os.getenv(\"apikey\") #apikey de lastfm"
   ]
  },
  {
   "cell_type": "markdown",
   "metadata": {},
   "source": [
    "#### Importación el dataset que hemos creado en la limpieza \n",
    "- 500 albumes de la lista de Rolling Stone + los usuarios y reproducciones que han escuchado estos discos"
   ]
  },
  {
   "cell_type": "code",
   "execution_count": 3,
   "metadata": {},
   "outputs": [],
   "source": [
    "stone_500_rich = pd.read_csv(\"../data/stone_500_rich.csv\") "
   ]
  },
  {
   "cell_type": "code",
   "execution_count": 4,
   "metadata": {},
   "outputs": [
    {
     "data": {
      "text/html": [
       "<div>\n",
       "<style scoped>\n",
       "    .dataframe tbody tr th:only-of-type {\n",
       "        vertical-align: middle;\n",
       "    }\n",
       "\n",
       "    .dataframe tbody tr th {\n",
       "        vertical-align: top;\n",
       "    }\n",
       "\n",
       "    .dataframe thead th {\n",
       "        text-align: right;\n",
       "    }\n",
       "</style>\n",
       "<table border=\"1\" class=\"dataframe\">\n",
       "  <thead>\n",
       "    <tr style=\"text-align: right;\">\n",
       "      <th></th>\n",
       "      <th>Number</th>\n",
       "      <th>Year</th>\n",
       "      <th>Album</th>\n",
       "      <th>Artist</th>\n",
       "      <th>Type</th>\n",
       "      <th>Rating</th>\n",
       "      <th>Gen</th>\n",
       "      <th>playcount</th>\n",
       "      <th>listeners</th>\n",
       "    </tr>\n",
       "  </thead>\n",
       "  <tbody>\n",
       "    <tr>\n",
       "      <th>28</th>\n",
       "      <td>29</td>\n",
       "      <td>1968</td>\n",
       "      <td>The Beatles (“The White Album”)</td>\n",
       "      <td>The Beatles</td>\n",
       "      <td>Album</td>\n",
       "      <td>4.4</td>\n",
       "      <td>rock</td>\n",
       "      <td>13125966</td>\n",
       "      <td>567654</td>\n",
       "    </tr>\n",
       "    <tr>\n",
       "      <th>323</th>\n",
       "      <td>324</td>\n",
       "      <td>2002</td>\n",
       "      <td>A Rush of Blood to the Head</td>\n",
       "      <td>Coldplay</td>\n",
       "      <td>Album</td>\n",
       "      <td>4.1</td>\n",
       "      <td>pop</td>\n",
       "      <td>59377635</td>\n",
       "      <td>2809272</td>\n",
       "    </tr>\n",
       "    <tr>\n",
       "      <th>488</th>\n",
       "      <td>489</td>\n",
       "      <td>1991</td>\n",
       "      <td>Back to Mono (1958–1969)</td>\n",
       "      <td>Phil Spector</td>\n",
       "      <td>Album + Compilation</td>\n",
       "      <td>0.0</td>\n",
       "      <td>pop</td>\n",
       "      <td>5594</td>\n",
       "      <td>184</td>\n",
       "    </tr>\n",
       "  </tbody>\n",
       "</table>\n",
       "</div>"
      ],
      "text/plain": [
       "     Number  Year                            Album        Artist  \\\n",
       "28       29  1968  The Beatles (“The White Album”)   The Beatles   \n",
       "323     324  2002      A Rush of Blood to the Head      Coldplay   \n",
       "488     489  1991         Back to Mono (1958–1969)  Phil Spector   \n",
       "\n",
       "                    Type  Rating   Gen  playcount  listeners  \n",
       "28                 Album     4.4  rock   13125966     567654  \n",
       "323                Album     4.1   pop   59377635    2809272  \n",
       "488  Album + Compilation     0.0   pop       5594        184  "
      ]
     },
     "execution_count": 4,
     "metadata": {},
     "output_type": "execute_result"
    }
   ],
   "source": [
    "stone_500_rich.sample(3)"
   ]
  },
  {
   "cell_type": "markdown",
   "metadata": {},
   "source": [
    "# Spotify Most streamed\n",
    "- scrapping\n",
    "\n",
    "[charset: most streamed albums](https://chartmasters.org/spotify-most-streamed-albums/?y=alltime)\n",
    "Last updated on 11/06/21"
   ]
  },
  {
   "cell_type": "code",
   "execution_count": 5,
   "metadata": {},
   "outputs": [],
   "source": [
    "url_spotify = \"https://chartmasters.org/spotify-most-streamed-albums/?y=alltime\"\n",
    "html_spotify = requests.get(url_spotify)\n",
    "soup_spotify = BeautifulSoup(html_spotify.content,\"html.parser\")"
   ]
  },
  {
   "cell_type": "code",
   "execution_count": 6,
   "metadata": {},
   "outputs": [],
   "source": [
    "tablas_spotify = soup_spotify.findAll(\"table\")"
   ]
  },
  {
   "cell_type": "code",
   "execution_count": 7,
   "metadata": {},
   "outputs": [],
   "source": [
    "spotify = tablas_spotify[1]"
   ]
  },
  {
   "cell_type": "code",
   "execution_count": 8,
   "metadata": {},
   "outputs": [
    {
     "data": {
      "text/plain": [
       "<tr><td>3</td><td class=\"Image\"><img alt=\"Dua\" height=\"50\" lipa=\"\" src=\"https://i.scdn.co/image/ab67616d0000b2731764e1a1b94e887206782640\" width=\"50\"/></td><td>Dua Lipa</td><td>Dua Lipa (Complete Edition)</td><td class=\"numbers\">8,771,399,749</td><td class=\"numbers\">3,456,568</td><td class=\"numbers\">8,757,275</td></tr>"
      ]
     },
     "execution_count": 8,
     "metadata": {},
     "output_type": "execute_result"
    }
   ],
   "source": [
    "spotify.find_all(\"tr\")[3] #cuerpo"
   ]
  },
  {
   "cell_type": "code",
   "execution_count": 9,
   "metadata": {},
   "outputs": [
    {
     "data": {
      "text/plain": [
       "[<th>Rank</th>,\n",
       " <th>Cover</th>,\n",
       " <th>Artist</th>,\n",
       " <th>Album</th>,\n",
       " <th>Total Streams</th>,\n",
       " <th>Daily Streams</th>,\n",
       " <th>EAS</th>]"
      ]
     },
     "execution_count": 9,
     "metadata": {},
     "output_type": "execute_result"
    }
   ],
   "source": [
    "spotify.find_all(\"th\") #cabeceros"
   ]
  },
  {
   "cell_type": "code",
   "execution_count": 10,
   "metadata": {},
   "outputs": [],
   "source": [
    "#función que extrae la información de una tabla.\n",
    "def data_tab(tab):\n",
    "    Top_alb = []\n",
    "    for s in tab.find_all(\"tr\"):\n",
    "        fila = [elemento for elemento in s.find_all(\"td\")]\n",
    "        if len(fila)>1:\n",
    "            spot_dicc = {\"Rank\" : int(fila[0].text),\n",
    "                        \"Artist\": fila[2].text.strip(),\n",
    "                         \"Album\": fila[3].text.strip(),\n",
    "                         \"Total\" :int(fila[4].text.replace(\",\",\"\")),\n",
    "                         \"EAS\" : int(fila[6].text.replace(\",\",\"\")) #Equivalent Album Sales\n",
    "                        }\n",
    "            Top_alb.append(spot_dicc)\n",
    "    return Top_alb"
   ]
  },
  {
   "cell_type": "code",
   "execution_count": 11,
   "metadata": {
    "scrolled": true
   },
   "outputs": [
    {
     "data": {
      "text/plain": [
       "{'Rank': 2,\n",
       " 'Artist': 'Post Malone',\n",
       " 'Album': 'beerbongs & bentleys',\n",
       " 'Total': 9418695221,\n",
       " 'EAS': 9403528}"
      ]
     },
     "execution_count": 11,
     "metadata": {},
     "output_type": "execute_result"
    }
   ],
   "source": [
    "tab = spotify\n",
    "Top_alb_spotify = data_tab(tab)\n",
    "Top_alb_spotify[1]"
   ]
  },
  {
   "cell_type": "markdown",
   "metadata": {},
   "source": [
    "### Spotify most streamed DataFrame"
   ]
  },
  {
   "cell_type": "code",
   "execution_count": 12,
   "metadata": {},
   "outputs": [
    {
     "data": {
      "text/html": [
       "<div>\n",
       "<style scoped>\n",
       "    .dataframe tbody tr th:only-of-type {\n",
       "        vertical-align: middle;\n",
       "    }\n",
       "\n",
       "    .dataframe tbody tr th {\n",
       "        vertical-align: top;\n",
       "    }\n",
       "\n",
       "    .dataframe thead th {\n",
       "        text-align: right;\n",
       "    }\n",
       "</style>\n",
       "<table border=\"1\" class=\"dataframe\">\n",
       "  <thead>\n",
       "    <tr style=\"text-align: right;\">\n",
       "      <th></th>\n",
       "      <th>Rank</th>\n",
       "      <th>Artist</th>\n",
       "      <th>Album</th>\n",
       "      <th>Total</th>\n",
       "      <th>EAS</th>\n",
       "    </tr>\n",
       "  </thead>\n",
       "  <tbody>\n",
       "    <tr>\n",
       "      <th>0</th>\n",
       "      <td>1</td>\n",
       "      <td>Ed Sheeran</td>\n",
       "      <td>÷ (Deluxe)</td>\n",
       "      <td>11179284635</td>\n",
       "      <td>11161283</td>\n",
       "    </tr>\n",
       "    <tr>\n",
       "      <th>1</th>\n",
       "      <td>2</td>\n",
       "      <td>Post Malone</td>\n",
       "      <td>beerbongs &amp; bentleys</td>\n",
       "      <td>9418695221</td>\n",
       "      <td>9403528</td>\n",
       "    </tr>\n",
       "    <tr>\n",
       "      <th>2</th>\n",
       "      <td>3</td>\n",
       "      <td>Dua Lipa</td>\n",
       "      <td>Dua Lipa (Complete Edition)</td>\n",
       "      <td>8771399749</td>\n",
       "      <td>8757275</td>\n",
       "    </tr>\n",
       "    <tr>\n",
       "      <th>3</th>\n",
       "      <td>4</td>\n",
       "      <td>Post Malone</td>\n",
       "      <td>Hollywood's Bleeding</td>\n",
       "      <td>8671157847</td>\n",
       "      <td>8657195</td>\n",
       "    </tr>\n",
       "    <tr>\n",
       "      <th>4</th>\n",
       "      <td>5</td>\n",
       "      <td>Ed Sheeran</td>\n",
       "      <td>x (Wembley Edition)</td>\n",
       "      <td>8424703606</td>\n",
       "      <td>8411137</td>\n",
       "    </tr>\n",
       "  </tbody>\n",
       "</table>\n",
       "</div>"
      ],
      "text/plain": [
       "   Rank       Artist                        Album        Total       EAS\n",
       "0     1   Ed Sheeran                   ÷ (Deluxe)  11179284635  11161283\n",
       "1     2  Post Malone         beerbongs & bentleys   9418695221   9403528\n",
       "2     3     Dua Lipa  Dua Lipa (Complete Edition)   8771399749   8757275\n",
       "3     4  Post Malone         Hollywood's Bleeding   8671157847   8657195\n",
       "4     5   Ed Sheeran          x (Wembley Edition)   8424703606   8411137"
      ]
     },
     "execution_count": 12,
     "metadata": {},
     "output_type": "execute_result"
    }
   ],
   "source": [
    "Spotify_500 = pd.DataFrame(Top_alb_spotify)\n",
    "Spotify_500.head(5)"
   ]
  },
  {
   "cell_type": "code",
   "execution_count": 13,
   "metadata": {},
   "outputs": [],
   "source": [
    "Spotify_500.to_csv(\"../data/Spotify_500.csv\",index = False) "
   ]
  },
  {
   "cell_type": "markdown",
   "metadata": {},
   "source": [
    "### Stone DataFrame enriched whith Spotify DataFrame"
   ]
  },
  {
   "cell_type": "code",
   "execution_count": 14,
   "metadata": {},
   "outputs": [],
   "source": [
    "stone_last_spot= stone_500_rich.merge(Spotify_500, how='left', on = [\"Album\",\"Artist\"])"
   ]
  },
  {
   "cell_type": "code",
   "execution_count": 15,
   "metadata": {},
   "outputs": [],
   "source": [
    "stone_last_spot.Rank.fillna(0, inplace=True)\n",
    "stone_last_spot.Total.fillna(0, inplace=True)\n",
    "stone_last_spot.EAS.fillna(0, inplace=True)"
   ]
  },
  {
   "cell_type": "code",
   "execution_count": 16,
   "metadata": {},
   "outputs": [],
   "source": [
    "stone_last_spot[[\"Rank\",\"Total\",\"EAS\"]] = stone_last_spot[[\"Rank\",\"Total\",\"EAS\"]].astype(\"int64\")"
   ]
  },
  {
   "cell_type": "code",
   "execution_count": 17,
   "metadata": {},
   "outputs": [],
   "source": [
    "stone_last_spot.to_csv(\"../data/Spotify_500.csv\",index = False) "
   ]
  },
  {
   "cell_type": "markdown",
   "metadata": {},
   "source": [
    "# LastFM 50 Top Artists\n",
    "- [api](https://www.last.fm/api/show/chart.getTopArtists)\n",
    "* Conseguimos la lista de los 50 Artistas más escuchados en LastFM para comparar con los artistas de la lista de RS"
   ]
  },
  {
   "cell_type": "code",
   "execution_count": 18,
   "metadata": {},
   "outputs": [],
   "source": [
    "url_last50 = f\"http://ws.audioscrobbler.com/2.0/?method=chart.gettopartists&api_key={apikey}&format=json\"\n",
    "req_last50 = requests.get(url_last50).json()\n",
    "last_50 = req_last50[\"artists\"][\"artist\"]\n",
    "last_top50 = pd.DataFrame.from_dict(last_50)"
   ]
  },
  {
   "cell_type": "code",
   "execution_count": 19,
   "metadata": {
    "scrolled": true
   },
   "outputs": [
    {
     "data": {
      "text/html": [
       "<div>\n",
       "<style scoped>\n",
       "    .dataframe tbody tr th:only-of-type {\n",
       "        vertical-align: middle;\n",
       "    }\n",
       "\n",
       "    .dataframe tbody tr th {\n",
       "        vertical-align: top;\n",
       "    }\n",
       "\n",
       "    .dataframe thead th {\n",
       "        text-align: right;\n",
       "    }\n",
       "</style>\n",
       "<table border=\"1\" class=\"dataframe\">\n",
       "  <thead>\n",
       "    <tr style=\"text-align: right;\">\n",
       "      <th></th>\n",
       "      <th>name</th>\n",
       "      <th>playcount</th>\n",
       "      <th>listeners</th>\n",
       "      <th>mbid</th>\n",
       "      <th>url</th>\n",
       "      <th>streamable</th>\n",
       "      <th>image</th>\n",
       "    </tr>\n",
       "  </thead>\n",
       "  <tbody>\n",
       "    <tr>\n",
       "      <th>45</th>\n",
       "      <td>J. Cole</td>\n",
       "      <td>82401648</td>\n",
       "      <td>2116190</td>\n",
       "      <td>875203e1-8e58-4b86-8dcb-7190faf411c5</td>\n",
       "      <td>https://www.last.fm/music/J.+Cole</td>\n",
       "      <td>0</td>\n",
       "      <td>[{'#text': 'https://lastfm.freetls.fastly.net/...</td>\n",
       "    </tr>\n",
       "    <tr>\n",
       "      <th>41</th>\n",
       "      <td>Beyoncé</td>\n",
       "      <td>212788510</td>\n",
       "      <td>4172757</td>\n",
       "      <td>859d0860-d480-4efd-970c-c05d5f1776b8</td>\n",
       "      <td>https://www.last.fm/music/Beyonc%C3%A9</td>\n",
       "      <td>0</td>\n",
       "      <td>[{'#text': 'https://lastfm.freetls.fastly.net/...</td>\n",
       "    </tr>\n",
       "    <tr>\n",
       "      <th>32</th>\n",
       "      <td>Justin Bieber</td>\n",
       "      <td>99039319</td>\n",
       "      <td>2340654</td>\n",
       "      <td>e0140a67-e4d1-4f13-8a01-364355bee46e</td>\n",
       "      <td>https://www.last.fm/music/Justin+Bieber</td>\n",
       "      <td>0</td>\n",
       "      <td>[{'#text': 'https://lastfm.freetls.fastly.net/...</td>\n",
       "    </tr>\n",
       "  </tbody>\n",
       "</table>\n",
       "</div>"
      ],
      "text/plain": [
       "             name  playcount listeners                                  mbid  \\\n",
       "45        J. Cole   82401648   2116190  875203e1-8e58-4b86-8dcb-7190faf411c5   \n",
       "41        Beyoncé  212788510   4172757  859d0860-d480-4efd-970c-c05d5f1776b8   \n",
       "32  Justin Bieber   99039319   2340654  e0140a67-e4d1-4f13-8a01-364355bee46e   \n",
       "\n",
       "                                        url streamable  \\\n",
       "45        https://www.last.fm/music/J.+Cole          0   \n",
       "41   https://www.last.fm/music/Beyonc%C3%A9          0   \n",
       "32  https://www.last.fm/music/Justin+Bieber          0   \n",
       "\n",
       "                                                image  \n",
       "45  [{'#text': 'https://lastfm.freetls.fastly.net/...  \n",
       "41  [{'#text': 'https://lastfm.freetls.fastly.net/...  \n",
       "32  [{'#text': 'https://lastfm.freetls.fastly.net/...  "
      ]
     },
     "execution_count": 19,
     "metadata": {},
     "output_type": "execute_result"
    }
   ],
   "source": [
    "last_top50.sample(3)"
   ]
  },
  {
   "cell_type": "code",
   "execution_count": 20,
   "metadata": {},
   "outputs": [],
   "source": [
    "last_top50.rename(columns={\"name\": \"Artist\"}, inplace = True)"
   ]
  },
  {
   "cell_type": "code",
   "execution_count": 21,
   "metadata": {},
   "outputs": [],
   "source": [
    "last_top50[[\"playcount\",\"listeners\"]] = last_top50[[\"playcount\",\"listeners\"]].astype(\"int64\")"
   ]
  },
  {
   "cell_type": "code",
   "execution_count": 22,
   "metadata": {},
   "outputs": [],
   "source": [
    "last_top50.to_csv(\"../data/otras/last_top50_image.csv\",index = False) #guardada para mí"
   ]
  },
  {
   "cell_type": "code",
   "execution_count": 23,
   "metadata": {},
   "outputs": [],
   "source": [
    "top_50_last = last_top50[[\"Artist\",\"playcount\",\"listeners\"]]"
   ]
  },
  {
   "cell_type": "code",
   "execution_count": 24,
   "metadata": {},
   "outputs": [],
   "source": [
    "top_50_last.to_csv(\"../data/top_50_last.csv\",index = False) "
   ]
  },
  {
   "cell_type": "code",
   "execution_count": 25,
   "metadata": {
    "scrolled": true
   },
   "outputs": [
    {
     "data": {
      "text/html": [
       "<div>\n",
       "<style scoped>\n",
       "    .dataframe tbody tr th:only-of-type {\n",
       "        vertical-align: middle;\n",
       "    }\n",
       "\n",
       "    .dataframe tbody tr th {\n",
       "        vertical-align: top;\n",
       "    }\n",
       "\n",
       "    .dataframe thead th {\n",
       "        text-align: right;\n",
       "    }\n",
       "</style>\n",
       "<table border=\"1\" class=\"dataframe\">\n",
       "  <thead>\n",
       "    <tr style=\"text-align: right;\">\n",
       "      <th></th>\n",
       "      <th>Artist</th>\n",
       "      <th>playcount</th>\n",
       "      <th>listeners</th>\n",
       "    </tr>\n",
       "  </thead>\n",
       "  <tbody>\n",
       "    <tr>\n",
       "      <th>6</th>\n",
       "      <td>Coldplay</td>\n",
       "      <td>430303065</td>\n",
       "      <td>6098162</td>\n",
       "    </tr>\n",
       "    <tr>\n",
       "      <th>10</th>\n",
       "      <td>Adele</td>\n",
       "      <td>157187423</td>\n",
       "      <td>3461005</td>\n",
       "    </tr>\n",
       "  </tbody>\n",
       "</table>\n",
       "</div>"
      ],
      "text/plain": [
       "      Artist  playcount  listeners\n",
       "6   Coldplay  430303065    6098162\n",
       "10     Adele  157187423    3461005"
      ]
     },
     "execution_count": 25,
     "metadata": {},
     "output_type": "execute_result"
    }
   ],
   "source": [
    "top_50_last.sample(2)"
   ]
  },
  {
   "cell_type": "code",
   "execution_count": 26,
   "metadata": {},
   "outputs": [],
   "source": [
    "#stone_500_rich_art = stone_500_rich.groupby(\"Artist\").agg({\"Album\":\"count\",\"Rating\":\"mean\"}).reset_index()\n",
    "#stone_rich_top_50 = stone_500_rich_art.merge(top_50_last,how=\"left\",on = \"Artist\")\n",
    "#stone_rich_top_50"
   ]
  },
  {
   "cell_type": "code",
   "execution_count": 27,
   "metadata": {},
   "outputs": [],
   "source": [
    "stone = pd.read_csv(\"../data/stone.csv\")"
   ]
  },
  {
   "cell_type": "code",
   "execution_count": 28,
   "metadata": {},
   "outputs": [],
   "source": [
    "stone_red = stone[[\"Number\",\"Artist\",\"Album\",\"Rating\",\"Genre\"]]"
   ]
  },
  {
   "cell_type": "code",
   "execution_count": 29,
   "metadata": {},
   "outputs": [],
   "source": [
    "stone_Artist = stone_red.groupby([\"Artist\"]).agg({\"Number\":\"min\",\"Album\":\"count\",\"Rating\":\"mean\"}).sort_values(\"Number\", ascending = True).reset_index()\n",
    "stone_Artist.Rating = round(stone_Artist.Rating, 2)"
   ]
  },
  {
   "cell_type": "code",
   "execution_count": 30,
   "metadata": {},
   "outputs": [],
   "source": [
    "stone_Artist_last = stone_Artist.merge(top_50_last, how = \"left\", on= \"Artist\")"
   ]
  },
  {
   "cell_type": "code",
   "execution_count": 31,
   "metadata": {},
   "outputs": [],
   "source": [
    "stone_Artist_last.playcount.fillna(0,inplace = True)\n",
    "stone_Artist_last.listeners.fillna(0,inplace = True)\n",
    "stone_Artist_last[[\"playcount\",\"listeners\"]] = stone_Artist_last[[\"playcount\",\"listeners\"]].astype(\"int64\")"
   ]
  },
  {
   "cell_type": "code",
   "execution_count": 32,
   "metadata": {},
   "outputs": [
    {
     "data": {
      "text/html": [
       "<div>\n",
       "<style scoped>\n",
       "    .dataframe tbody tr th:only-of-type {\n",
       "        vertical-align: middle;\n",
       "    }\n",
       "\n",
       "    .dataframe tbody tr th {\n",
       "        vertical-align: top;\n",
       "    }\n",
       "\n",
       "    .dataframe thead th {\n",
       "        text-align: right;\n",
       "    }\n",
       "</style>\n",
       "<table border=\"1\" class=\"dataframe\">\n",
       "  <thead>\n",
       "    <tr style=\"text-align: right;\">\n",
       "      <th></th>\n",
       "      <th>Artist</th>\n",
       "      <th>Number</th>\n",
       "      <th>Album</th>\n",
       "      <th>Rating</th>\n",
       "      <th>playcount</th>\n",
       "      <th>listeners</th>\n",
       "    </tr>\n",
       "  </thead>\n",
       "  <tbody>\n",
       "    <tr>\n",
       "      <th>0</th>\n",
       "      <td>Marvin Gaye</td>\n",
       "      <td>1</td>\n",
       "      <td>3</td>\n",
       "      <td>4.32</td>\n",
       "      <td>0</td>\n",
       "      <td>0</td>\n",
       "    </tr>\n",
       "    <tr>\n",
       "      <th>1</th>\n",
       "      <td>The Beach Boys</td>\n",
       "      <td>2</td>\n",
       "      <td>3</td>\n",
       "      <td>4.15</td>\n",
       "      <td>0</td>\n",
       "      <td>0</td>\n",
       "    </tr>\n",
       "    <tr>\n",
       "      <th>2</th>\n",
       "      <td>Joni Mitchell</td>\n",
       "      <td>3</td>\n",
       "      <td>4</td>\n",
       "      <td>4.36</td>\n",
       "      <td>0</td>\n",
       "      <td>0</td>\n",
       "    </tr>\n",
       "  </tbody>\n",
       "</table>\n",
       "</div>"
      ],
      "text/plain": [
       "           Artist  Number  Album  Rating  playcount  listeners\n",
       "0     Marvin Gaye       1      3    4.32          0          0\n",
       "1  The Beach Boys       2      3    4.15          0          0\n",
       "2   Joni Mitchell       3      4    4.36          0          0"
      ]
     },
     "execution_count": 32,
     "metadata": {},
     "output_type": "execute_result"
    }
   ],
   "source": [
    "stone_Artist_last.head(3)"
   ]
  },
  {
   "cell_type": "code",
   "execution_count": 33,
   "metadata": {},
   "outputs": [],
   "source": [
    "stone_Artist_last.to_csv(\"../data/stone_Artist_last.csv\",index = False)"
   ]
  },
  {
   "cell_type": "markdown",
   "metadata": {},
   "source": [
    "# Top Sells\n",
    "#### The 50 best selling albums of all time in USA. \n",
    "[top50](https://www.businessinsider.com/50-best-selling-albums-all-time-2016-9)\n",
    "    - Travis Clark Updated Sep 22, 2021, 8:18 PM"
   ]
  },
  {
   "cell_type": "code",
   "execution_count": 34,
   "metadata": {},
   "outputs": [],
   "source": [
    "url_insider = \"https://www.businessinsider.com/50-best-selling-albums-all-time-2016-9\"\n",
    "html_insider = requests.get(url_insider)\n",
    "soup_insider = BeautifulSoup(html_insider.content,\"html.parser\")"
   ]
  },
  {
   "cell_type": "code",
   "execution_count": 35,
   "metadata": {},
   "outputs": [],
   "source": [
    "tags_insider = soup_insider.find_all(\"div\", {\"class\": \"slide-layout\"})"
   ]
  },
  {
   "cell_type": "code",
   "execution_count": 36,
   "metadata": {},
   "outputs": [
    {
     "data": {
      "text/plain": [
       "'50. Led Zeppelin —\\xa0\"Led Zeppelin II\"'"
      ]
     },
     "execution_count": 36,
     "metadata": {},
     "output_type": "execute_result"
    }
   ],
   "source": [
    "tags_insider[0].find(\"h2\").getText()"
   ]
  },
  {
   "cell_type": "code",
   "execution_count": 37,
   "metadata": {},
   "outputs": [
    {
     "data": {
      "text/plain": [
       "'Certified units: 12\\xa0million'"
      ]
     },
     "execution_count": 37,
     "metadata": {},
     "output_type": "execute_result"
    }
   ],
   "source": [
    "tags_insider[0].find_all(\"p\")[0].getText()"
   ]
  },
  {
   "cell_type": "code",
   "execution_count": 38,
   "metadata": {},
   "outputs": [],
   "source": [
    "def data_scrap(tags):\n",
    "    lista = []\n",
    "    for t in tags:\n",
    "        dicc_t = {\"art_alb\": t.find(\"h2\").getText(),\n",
    "                 \"certified units\" : t.find(\"p\").getText()}\n",
    "        lista.append(dicc_t)\n",
    "    return lista"
   ]
  },
  {
   "cell_type": "code",
   "execution_count": 39,
   "metadata": {},
   "outputs": [
    {
     "data": {
      "text/plain": [
       "{'art_alb': '50. Led Zeppelin —\\xa0\"Led Zeppelin II\"',\n",
       " 'certified units': 'Certified units: 12\\xa0million'}"
      ]
     },
     "execution_count": 39,
     "metadata": {},
     "output_type": "execute_result"
    }
   ],
   "source": [
    "insider_data = data_scrap(tags_insider)\n",
    "insider_data[0]"
   ]
  },
  {
   "cell_type": "code",
   "execution_count": 40,
   "metadata": {},
   "outputs": [
    {
     "data": {
      "text/html": [
       "<div>\n",
       "<style scoped>\n",
       "    .dataframe tbody tr th:only-of-type {\n",
       "        vertical-align: middle;\n",
       "    }\n",
       "\n",
       "    .dataframe tbody tr th {\n",
       "        vertical-align: top;\n",
       "    }\n",
       "\n",
       "    .dataframe thead th {\n",
       "        text-align: right;\n",
       "    }\n",
       "</style>\n",
       "<table border=\"1\" class=\"dataframe\">\n",
       "  <thead>\n",
       "    <tr style=\"text-align: right;\">\n",
       "      <th></th>\n",
       "      <th>art_alb</th>\n",
       "      <th>certified units</th>\n",
       "    </tr>\n",
       "  </thead>\n",
       "  <tbody>\n",
       "    <tr>\n",
       "      <th>0</th>\n",
       "      <td>50. Led Zeppelin — \"Led Zeppelin II\"</td>\n",
       "      <td>Certified units: 12 million</td>\n",
       "    </tr>\n",
       "    <tr>\n",
       "      <th>1</th>\n",
       "      <td>49. Kenny Rogers — \"Kenny Rogers' Greatest Hits\"</td>\n",
       "      <td>Certified units: 12 million</td>\n",
       "    </tr>\n",
       "  </tbody>\n",
       "</table>\n",
       "</div>"
      ],
      "text/plain": [
       "                                            art_alb  \\\n",
       "0              50. Led Zeppelin — \"Led Zeppelin II\"   \n",
       "1  49. Kenny Rogers — \"Kenny Rogers' Greatest Hits\"   \n",
       "\n",
       "               certified units  \n",
       "0  Certified units: 12 million  \n",
       "1  Certified units: 12 million  "
      ]
     },
     "execution_count": 40,
     "metadata": {},
     "output_type": "execute_result"
    }
   ],
   "source": [
    "insider = pd.DataFrame(insider_data)\n",
    "insider.head(2)"
   ]
  },
  {
   "cell_type": "code",
   "execution_count": 41,
   "metadata": {},
   "outputs": [],
   "source": [
    "#limpieza nuevo dataFrame\n",
    "insider[\"Rank\"] = insider[\"art_alb\"].str.extract(r\"(^\\d+)\")\n",
    "insider[\"Millions\"] = insider[\"certified units\"].str.extract(r\"(\\d+)\")\n",
    "insider[\"art_alb\"] = insider[\"art_alb\"].str.replace(\" – \",\" — \",regex = True)\n",
    "insider[\"Artist\"] = insider[\"art_alb\"].str.extract(r\"(^\\d+.\\s(.+?)—)\")[1]\n",
    "insider[\"Album\"] = insider[\"art_alb\"].str.extract(r\"(—\\s(.+?)$)\")[1]\n",
    "insider[\"Album\"] = insider[\"Album\"].str.replace('\"',\"\")\n",
    "insider[\"Artist\"] = insider[\"Artist\"].str.strip()\n",
    "insider[\"Album\"] = insider[\"Album\"].str.strip()"
   ]
  },
  {
   "cell_type": "code",
   "execution_count": 42,
   "metadata": {},
   "outputs": [
    {
     "data": {
      "text/html": [
       "<div>\n",
       "<style scoped>\n",
       "    .dataframe tbody tr th:only-of-type {\n",
       "        vertical-align: middle;\n",
       "    }\n",
       "\n",
       "    .dataframe tbody tr th {\n",
       "        vertical-align: top;\n",
       "    }\n",
       "\n",
       "    .dataframe thead th {\n",
       "        text-align: right;\n",
       "    }\n",
       "</style>\n",
       "<table border=\"1\" class=\"dataframe\">\n",
       "  <thead>\n",
       "    <tr style=\"text-align: right;\">\n",
       "      <th></th>\n",
       "      <th>art_alb</th>\n",
       "      <th>certified units</th>\n",
       "      <th>Rank</th>\n",
       "      <th>Millions</th>\n",
       "      <th>Artist</th>\n",
       "      <th>Album</th>\n",
       "    </tr>\n",
       "  </thead>\n",
       "  <tbody>\n",
       "    <tr>\n",
       "      <th>0</th>\n",
       "      <td>50. Led Zeppelin — \"Led Zeppelin II\"</td>\n",
       "      <td>Certified units: 12 million</td>\n",
       "      <td>50</td>\n",
       "      <td>12</td>\n",
       "      <td>Led Zeppelin</td>\n",
       "      <td>Led Zeppelin II</td>\n",
       "    </tr>\n",
       "    <tr>\n",
       "      <th>1</th>\n",
       "      <td>49. Kenny Rogers — \"Kenny Rogers' Greatest Hits\"</td>\n",
       "      <td>Certified units: 12 million</td>\n",
       "      <td>49</td>\n",
       "      <td>12</td>\n",
       "      <td>Kenny Rogers</td>\n",
       "      <td>Kenny Rogers' Greatest Hits</td>\n",
       "    </tr>\n",
       "    <tr>\n",
       "      <th>2</th>\n",
       "      <td>48. Kenny G — \"Breathless\"</td>\n",
       "      <td>Certified units: 12 million</td>\n",
       "      <td>48</td>\n",
       "      <td>12</td>\n",
       "      <td>Kenny G</td>\n",
       "      <td>Breathless</td>\n",
       "    </tr>\n",
       "  </tbody>\n",
       "</table>\n",
       "</div>"
      ],
      "text/plain": [
       "                                            art_alb  \\\n",
       "0              50. Led Zeppelin — \"Led Zeppelin II\"   \n",
       "1  49. Kenny Rogers — \"Kenny Rogers' Greatest Hits\"   \n",
       "2                        48. Kenny G — \"Breathless\"   \n",
       "\n",
       "               certified units Rank Millions        Artist  \\\n",
       "0  Certified units: 12 million   50       12  Led Zeppelin   \n",
       "1  Certified units: 12 million   49       12  Kenny Rogers   \n",
       "2  Certified units: 12 million   48       12       Kenny G   \n",
       "\n",
       "                         Album  \n",
       "0              Led Zeppelin II  \n",
       "1  Kenny Rogers' Greatest Hits  \n",
       "2                   Breathless  "
      ]
     },
     "execution_count": 42,
     "metadata": {},
     "output_type": "execute_result"
    }
   ],
   "source": [
    "insider.head(3)"
   ]
  },
  {
   "cell_type": "code",
   "execution_count": 43,
   "metadata": {},
   "outputs": [],
   "source": [
    "insider.to_csv(\"../data/otras/top_sells_certified.csv\",index=False) #guardado para mí"
   ]
  },
  {
   "cell_type": "code",
   "execution_count": 44,
   "metadata": {},
   "outputs": [],
   "source": [
    "insider[[\"Millions\",\"Rank\"]] = insider[[\"Millions\",\"Rank\"]].astype(\"int64\")\n",
    "top_sells = insider[[\"Rank\",\"Artist\",\"Album\",\"Millions\"]]\n",
    "top_sells= top_sells.sort_values(\"Millions\",ascending = False)"
   ]
  },
  {
   "cell_type": "code",
   "execution_count": 45,
   "metadata": {
    "scrolled": false
   },
   "outputs": [
    {
     "data": {
      "text/html": [
       "<div>\n",
       "<style scoped>\n",
       "    .dataframe tbody tr th:only-of-type {\n",
       "        vertical-align: middle;\n",
       "    }\n",
       "\n",
       "    .dataframe tbody tr th {\n",
       "        vertical-align: top;\n",
       "    }\n",
       "\n",
       "    .dataframe thead th {\n",
       "        text-align: right;\n",
       "    }\n",
       "</style>\n",
       "<table border=\"1\" class=\"dataframe\">\n",
       "  <thead>\n",
       "    <tr style=\"text-align: right;\">\n",
       "      <th></th>\n",
       "      <th>Rank</th>\n",
       "      <th>Artist</th>\n",
       "      <th>Album</th>\n",
       "      <th>Millions</th>\n",
       "    </tr>\n",
       "  </thead>\n",
       "  <tbody>\n",
       "    <tr>\n",
       "      <th>49</th>\n",
       "      <td>1</td>\n",
       "      <td>Eagles</td>\n",
       "      <td>Their Greatest Hits (1971-1975)</td>\n",
       "      <td>38</td>\n",
       "    </tr>\n",
       "    <tr>\n",
       "      <th>48</th>\n",
       "      <td>2</td>\n",
       "      <td>Michael Jackson</td>\n",
       "      <td>Thriller</td>\n",
       "      <td>34</td>\n",
       "    </tr>\n",
       "    <tr>\n",
       "      <th>47</th>\n",
       "      <td>3</td>\n",
       "      <td>Eagles</td>\n",
       "      <td>Hotel California</td>\n",
       "      <td>26</td>\n",
       "    </tr>\n",
       "  </tbody>\n",
       "</table>\n",
       "</div>"
      ],
      "text/plain": [
       "    Rank           Artist                            Album  Millions\n",
       "49     1           Eagles  Their Greatest Hits (1971-1975)        38\n",
       "48     2  Michael Jackson                         Thriller        34\n",
       "47     3           Eagles                 Hotel California        26"
      ]
     },
     "execution_count": 45,
     "metadata": {},
     "output_type": "execute_result"
    }
   ],
   "source": [
    "top_sells.head(3)"
   ]
  },
  {
   "cell_type": "code",
   "execution_count": 46,
   "metadata": {},
   "outputs": [],
   "source": [
    "top_sells[\"Album\"] = top_sells[\"Album\"].str.replace(r\"(^The Beatles..The White\\s.*)\",\"The Beatles\",regex = True)"
   ]
  },
  {
   "cell_type": "code",
   "execution_count": 47,
   "metadata": {
    "scrolled": false
   },
   "outputs": [
    {
     "data": {
      "text/html": [
       "<div>\n",
       "<style scoped>\n",
       "    .dataframe tbody tr th:only-of-type {\n",
       "        vertical-align: middle;\n",
       "    }\n",
       "\n",
       "    .dataframe tbody tr th {\n",
       "        vertical-align: top;\n",
       "    }\n",
       "\n",
       "    .dataframe thead th {\n",
       "        text-align: right;\n",
       "    }\n",
       "</style>\n",
       "<table border=\"1\" class=\"dataframe\">\n",
       "  <thead>\n",
       "    <tr style=\"text-align: right;\">\n",
       "      <th></th>\n",
       "      <th>Rank</th>\n",
       "      <th>Artist</th>\n",
       "      <th>Album</th>\n",
       "      <th>Millions</th>\n",
       "    </tr>\n",
       "  </thead>\n",
       "  <tbody>\n",
       "    <tr>\n",
       "      <th>16</th>\n",
       "      <td>34</td>\n",
       "      <td>Simon &amp; Garfunkel</td>\n",
       "      <td>Simon &amp; Garfunkel's Greatest Hits</td>\n",
       "      <td>14</td>\n",
       "    </tr>\n",
       "    <tr>\n",
       "      <th>9</th>\n",
       "      <td>41</td>\n",
       "      <td>The Chicks</td>\n",
       "      <td>Wide Open Spaces</td>\n",
       "      <td>13</td>\n",
       "    </tr>\n",
       "    <tr>\n",
       "      <th>13</th>\n",
       "      <td>37</td>\n",
       "      <td>Bruce Springsteen</td>\n",
       "      <td>Bruce Springsteen &amp; E Street Band Live 1975-'85</td>\n",
       "      <td>13</td>\n",
       "    </tr>\n",
       "  </tbody>\n",
       "</table>\n",
       "</div>"
      ],
      "text/plain": [
       "    Rank             Artist                                            Album  \\\n",
       "16    34  Simon & Garfunkel                Simon & Garfunkel's Greatest Hits   \n",
       "9     41         The Chicks                                 Wide Open Spaces   \n",
       "13    37  Bruce Springsteen  Bruce Springsteen & E Street Band Live 1975-'85   \n",
       "\n",
       "    Millions  \n",
       "16        14  \n",
       "9         13  \n",
       "13        13  "
      ]
     },
     "execution_count": 47,
     "metadata": {},
     "output_type": "execute_result"
    }
   ],
   "source": [
    "top_sells.sample(3)"
   ]
  },
  {
   "cell_type": "code",
   "execution_count": 48,
   "metadata": {},
   "outputs": [],
   "source": [
    "top_sells.to_csv(\"../data/top_sells.csv\",index=False)"
   ]
  },
  {
   "cell_type": "code",
   "execution_count": 49,
   "metadata": {},
   "outputs": [
    {
     "data": {
      "text/html": [
       "<div>\n",
       "<style scoped>\n",
       "    .dataframe tbody tr th:only-of-type {\n",
       "        vertical-align: middle;\n",
       "    }\n",
       "\n",
       "    .dataframe tbody tr th {\n",
       "        vertical-align: top;\n",
       "    }\n",
       "\n",
       "    .dataframe thead th {\n",
       "        text-align: right;\n",
       "    }\n",
       "</style>\n",
       "<table border=\"1\" class=\"dataframe\">\n",
       "  <thead>\n",
       "    <tr style=\"text-align: right;\">\n",
       "      <th></th>\n",
       "      <th>Rank</th>\n",
       "      <th>Artist</th>\n",
       "      <th>Album</th>\n",
       "      <th>Millions</th>\n",
       "      <th>Number</th>\n",
       "      <th>Year</th>\n",
       "      <th>Type</th>\n",
       "      <th>Rating</th>\n",
       "      <th>Gen</th>\n",
       "      <th>playcount</th>\n",
       "      <th>listeners</th>\n",
       "    </tr>\n",
       "  </thead>\n",
       "  <tbody>\n",
       "    <tr>\n",
       "      <th>0</th>\n",
       "      <td>1</td>\n",
       "      <td>Eagles</td>\n",
       "      <td>Their Greatest Hits (1971-1975)</td>\n",
       "      <td>38</td>\n",
       "      <td>NaN</td>\n",
       "      <td>NaN</td>\n",
       "      <td>NaN</td>\n",
       "      <td>NaN</td>\n",
       "      <td>NaN</td>\n",
       "      <td>NaN</td>\n",
       "      <td>NaN</td>\n",
       "    </tr>\n",
       "    <tr>\n",
       "      <th>1</th>\n",
       "      <td>2</td>\n",
       "      <td>Michael Jackson</td>\n",
       "      <td>Thriller</td>\n",
       "      <td>34</td>\n",
       "      <td>12.0</td>\n",
       "      <td>1982.0</td>\n",
       "      <td>Album</td>\n",
       "      <td>4.40</td>\n",
       "      <td>pop</td>\n",
       "      <td>14012537.0</td>\n",
       "      <td>1305900.0</td>\n",
       "    </tr>\n",
       "    <tr>\n",
       "      <th>2</th>\n",
       "      <td>3</td>\n",
       "      <td>Eagles</td>\n",
       "      <td>Hotel California</td>\n",
       "      <td>26</td>\n",
       "      <td>118.0</td>\n",
       "      <td>1976.0</td>\n",
       "      <td>Album</td>\n",
       "      <td>4.45</td>\n",
       "      <td>rock</td>\n",
       "      <td>3433264.0</td>\n",
       "      <td>316205.0</td>\n",
       "    </tr>\n",
       "  </tbody>\n",
       "</table>\n",
       "</div>"
      ],
      "text/plain": [
       "   Rank           Artist                            Album  Millions  Number  \\\n",
       "0     1           Eagles  Their Greatest Hits (1971-1975)        38     NaN   \n",
       "1     2  Michael Jackson                         Thriller        34    12.0   \n",
       "2     3           Eagles                 Hotel California        26   118.0   \n",
       "\n",
       "     Year   Type  Rating   Gen   playcount  listeners  \n",
       "0     NaN    NaN     NaN   NaN         NaN        NaN  \n",
       "1  1982.0  Album    4.40   pop  14012537.0  1305900.0  \n",
       "2  1976.0  Album    4.45  rock   3433264.0   316205.0  "
      ]
     },
     "execution_count": 49,
     "metadata": {},
     "output_type": "execute_result"
    }
   ],
   "source": [
    "top_sell_rs = top_sells.merge(stone_500_rich, how = \"left\", on=[\"Artist\",\"Album\"])\n",
    "top_sell_rs.head(3)"
   ]
  },
  {
   "cell_type": "code",
   "execution_count": 50,
   "metadata": {},
   "outputs": [],
   "source": [
    "top_sell_rs.Number.fillna(0,inplace = True)\n",
    "top_sell_rs.Year.fillna(0,inplace = True)\n",
    "top_sell_rs.Type.fillna(\"unknown\",inplace = True)\n",
    "top_sell_rs.Rating.fillna(0,inplace = True)\n",
    "top_sell_rs.Gen.fillna(\"none\",inplace = True)\n",
    "top_sell_rs.playcount.fillna(0,inplace = True)\n",
    "top_sell_rs.listeners.fillna(0,inplace = True)\n",
    "top_sell_rs[[\"Number\",\"Year\",\"playcount\",\"listeners\"]] = top_sell_rs[[\"Number\",\"Year\",\"playcount\",\"listeners\"]].astype(\"int64\")"
   ]
  },
  {
   "cell_type": "code",
   "execution_count": 51,
   "metadata": {},
   "outputs": [
    {
     "data": {
      "text/html": [
       "<div>\n",
       "<style scoped>\n",
       "    .dataframe tbody tr th:only-of-type {\n",
       "        vertical-align: middle;\n",
       "    }\n",
       "\n",
       "    .dataframe tbody tr th {\n",
       "        vertical-align: top;\n",
       "    }\n",
       "\n",
       "    .dataframe thead th {\n",
       "        text-align: right;\n",
       "    }\n",
       "</style>\n",
       "<table border=\"1\" class=\"dataframe\">\n",
       "  <thead>\n",
       "    <tr style=\"text-align: right;\">\n",
       "      <th></th>\n",
       "      <th>Rank</th>\n",
       "      <th>Artist</th>\n",
       "      <th>Album</th>\n",
       "      <th>Millions</th>\n",
       "      <th>Number</th>\n",
       "      <th>Year</th>\n",
       "      <th>Type</th>\n",
       "      <th>Rating</th>\n",
       "      <th>Gen</th>\n",
       "      <th>playcount</th>\n",
       "      <th>listeners</th>\n",
       "    </tr>\n",
       "  </thead>\n",
       "  <tbody>\n",
       "    <tr>\n",
       "      <th>8</th>\n",
       "      <td>9</td>\n",
       "      <td>Garth Brooks</td>\n",
       "      <td>Double Live</td>\n",
       "      <td>21</td>\n",
       "      <td>0</td>\n",
       "      <td>0</td>\n",
       "      <td>unknown</td>\n",
       "      <td>0.00</td>\n",
       "      <td>none</td>\n",
       "      <td>0</td>\n",
       "      <td>0</td>\n",
       "    </tr>\n",
       "    <tr>\n",
       "      <th>35</th>\n",
       "      <td>39</td>\n",
       "      <td>Pearl Jam</td>\n",
       "      <td>Ten</td>\n",
       "      <td>13</td>\n",
       "      <td>160</td>\n",
       "      <td>1991</td>\n",
       "      <td>Album</td>\n",
       "      <td>4.15</td>\n",
       "      <td>grunge</td>\n",
       "      <td>34102474</td>\n",
       "      <td>1808072</td>\n",
       "    </tr>\n",
       "    <tr>\n",
       "      <th>22</th>\n",
       "      <td>20</td>\n",
       "      <td>Bee Gees</td>\n",
       "      <td>Saturday Night Fever (Soundtrack)</td>\n",
       "      <td>15</td>\n",
       "      <td>0</td>\n",
       "      <td>0</td>\n",
       "      <td>unknown</td>\n",
       "      <td>0.00</td>\n",
       "      <td>none</td>\n",
       "      <td>0</td>\n",
       "      <td>0</td>\n",
       "    </tr>\n",
       "  </tbody>\n",
       "</table>\n",
       "</div>"
      ],
      "text/plain": [
       "    Rank        Artist                              Album  Millions  Number  \\\n",
       "8      9  Garth Brooks                        Double Live        21       0   \n",
       "35    39     Pearl Jam                                Ten        13     160   \n",
       "22    20      Bee Gees  Saturday Night Fever (Soundtrack)        15       0   \n",
       "\n",
       "    Year     Type  Rating     Gen  playcount  listeners  \n",
       "8      0  unknown    0.00    none          0          0  \n",
       "35  1991    Album    4.15  grunge   34102474    1808072  \n",
       "22     0  unknown    0.00    none          0          0  "
      ]
     },
     "execution_count": 51,
     "metadata": {},
     "output_type": "execute_result"
    }
   ],
   "source": [
    "top_sell_rs.sample(3)"
   ]
  },
  {
   "cell_type": "code",
   "execution_count": 52,
   "metadata": {},
   "outputs": [],
   "source": [
    "top_sell_rs.to_csv(\"../data/top_sell_rs.csv\",index=False)"
   ]
  },
  {
   "cell_type": "code",
   "execution_count": 53,
   "metadata": {},
   "outputs": [],
   "source": [
    "stone_last_spot_sells = stone_last_spot.merge(top_sells,how = \"left\", on=[\"Artist\",\"Album\"])"
   ]
  },
  {
   "cell_type": "code",
   "execution_count": 54,
   "metadata": {},
   "outputs": [],
   "source": [
    "stone_last_spot_sells = stone_last_spot_sells.rename(columns = {\"Rank_x\":\"Spotify\",\"Rank_y\":\"Sells\"})"
   ]
  },
  {
   "cell_type": "code",
   "execution_count": 55,
   "metadata": {},
   "outputs": [],
   "source": [
    "stone_last_spot_sells.Sells.fillna(0,inplace = True)\n",
    "stone_last_spot_sells.Millions.fillna(0,inplace = True)"
   ]
  },
  {
   "cell_type": "code",
   "execution_count": 56,
   "metadata": {},
   "outputs": [
    {
     "data": {
      "text/html": [
       "<div>\n",
       "<style scoped>\n",
       "    .dataframe tbody tr th:only-of-type {\n",
       "        vertical-align: middle;\n",
       "    }\n",
       "\n",
       "    .dataframe tbody tr th {\n",
       "        vertical-align: top;\n",
       "    }\n",
       "\n",
       "    .dataframe thead th {\n",
       "        text-align: right;\n",
       "    }\n",
       "</style>\n",
       "<table border=\"1\" class=\"dataframe\">\n",
       "  <thead>\n",
       "    <tr style=\"text-align: right;\">\n",
       "      <th></th>\n",
       "      <th>Number</th>\n",
       "      <th>Year</th>\n",
       "      <th>Album</th>\n",
       "      <th>Artist</th>\n",
       "      <th>Type</th>\n",
       "      <th>Rating</th>\n",
       "      <th>Gen</th>\n",
       "      <th>playcount</th>\n",
       "      <th>listeners</th>\n",
       "      <th>Spotify</th>\n",
       "      <th>Total</th>\n",
       "      <th>EAS</th>\n",
       "      <th>Sells</th>\n",
       "      <th>Millions</th>\n",
       "    </tr>\n",
       "  </thead>\n",
       "  <tbody>\n",
       "    <tr>\n",
       "      <th>0</th>\n",
       "      <td>1</td>\n",
       "      <td>1971</td>\n",
       "      <td>What's Going On</td>\n",
       "      <td>Marvin Gaye</td>\n",
       "      <td>Album</td>\n",
       "      <td>4.65</td>\n",
       "      <td>r&amp;b</td>\n",
       "      <td>5258671</td>\n",
       "      <td>546458</td>\n",
       "      <td>0</td>\n",
       "      <td>0</td>\n",
       "      <td>0</td>\n",
       "      <td>0.0</td>\n",
       "      <td>0.0</td>\n",
       "    </tr>\n",
       "    <tr>\n",
       "      <th>1</th>\n",
       "      <td>2</td>\n",
       "      <td>1966</td>\n",
       "      <td>Pet Sounds</td>\n",
       "      <td>The Beach Boys</td>\n",
       "      <td>Album</td>\n",
       "      <td>4.45</td>\n",
       "      <td>rock</td>\n",
       "      <td>13411664</td>\n",
       "      <td>543630</td>\n",
       "      <td>0</td>\n",
       "      <td>0</td>\n",
       "      <td>0</td>\n",
       "      <td>0.0</td>\n",
       "      <td>0.0</td>\n",
       "    </tr>\n",
       "    <tr>\n",
       "      <th>2</th>\n",
       "      <td>3</td>\n",
       "      <td>1971</td>\n",
       "      <td>Blue</td>\n",
       "      <td>Joni Mitchell</td>\n",
       "      <td>Album</td>\n",
       "      <td>4.45</td>\n",
       "      <td>folk</td>\n",
       "      <td>9405283</td>\n",
       "      <td>537629</td>\n",
       "      <td>0</td>\n",
       "      <td>0</td>\n",
       "      <td>0</td>\n",
       "      <td>0.0</td>\n",
       "      <td>0.0</td>\n",
       "    </tr>\n",
       "  </tbody>\n",
       "</table>\n",
       "</div>"
      ],
      "text/plain": [
       "   Number  Year            Album          Artist   Type  Rating   Gen  \\\n",
       "0       1  1971  What's Going On     Marvin Gaye  Album    4.65   r&b   \n",
       "1       2  1966       Pet Sounds  The Beach Boys  Album    4.45  rock   \n",
       "2       3  1971             Blue   Joni Mitchell  Album    4.45  folk   \n",
       "\n",
       "   playcount  listeners  Spotify  Total  EAS  Sells  Millions  \n",
       "0    5258671     546458        0      0    0    0.0       0.0  \n",
       "1   13411664     543630        0      0    0    0.0       0.0  \n",
       "2    9405283     537629        0      0    0    0.0       0.0  "
      ]
     },
     "execution_count": 56,
     "metadata": {},
     "output_type": "execute_result"
    }
   ],
   "source": [
    "stone_last_spot_sells.head(3)"
   ]
  },
  {
   "cell_type": "code",
   "execution_count": 57,
   "metadata": {},
   "outputs": [],
   "source": [
    "stone_last_spot_sells[[\"Sells\",\"Millions\"]] = stone_last_spot_sells[[\"Sells\",\"Millions\"]].astype(\"int64\")"
   ]
  },
  {
   "cell_type": "code",
   "execution_count": 58,
   "metadata": {},
   "outputs": [
    {
     "data": {
      "text/html": [
       "<div>\n",
       "<style scoped>\n",
       "    .dataframe tbody tr th:only-of-type {\n",
       "        vertical-align: middle;\n",
       "    }\n",
       "\n",
       "    .dataframe tbody tr th {\n",
       "        vertical-align: top;\n",
       "    }\n",
       "\n",
       "    .dataframe thead th {\n",
       "        text-align: right;\n",
       "    }\n",
       "</style>\n",
       "<table border=\"1\" class=\"dataframe\">\n",
       "  <thead>\n",
       "    <tr style=\"text-align: right;\">\n",
       "      <th></th>\n",
       "      <th>Number</th>\n",
       "      <th>Year</th>\n",
       "      <th>Album</th>\n",
       "      <th>Artist</th>\n",
       "      <th>Type</th>\n",
       "      <th>Rating</th>\n",
       "      <th>Gen</th>\n",
       "      <th>playcount</th>\n",
       "      <th>listeners</th>\n",
       "      <th>Spotify</th>\n",
       "      <th>Total</th>\n",
       "      <th>EAS</th>\n",
       "      <th>Sells</th>\n",
       "      <th>Millions</th>\n",
       "    </tr>\n",
       "  </thead>\n",
       "  <tbody>\n",
       "    <tr>\n",
       "      <th>408</th>\n",
       "      <td>409</td>\n",
       "      <td>1970</td>\n",
       "      <td>Workingman's Dead</td>\n",
       "      <td>Grateful Dead</td>\n",
       "      <td>Album</td>\n",
       "      <td>4.5</td>\n",
       "      <td>rock</td>\n",
       "      <td>1574799</td>\n",
       "      <td>166164</td>\n",
       "      <td>0</td>\n",
       "      <td>0</td>\n",
       "      <td>0</td>\n",
       "      <td>0</td>\n",
       "      <td>0</td>\n",
       "    </tr>\n",
       "    <tr>\n",
       "      <th>469</th>\n",
       "      <td>470</td>\n",
       "      <td>1998</td>\n",
       "      <td>400 Degreez</td>\n",
       "      <td>Juvenile</td>\n",
       "      <td>Album</td>\n",
       "      <td>3.0</td>\n",
       "      <td>hip-hop</td>\n",
       "      <td>633794</td>\n",
       "      <td>110802</td>\n",
       "      <td>0</td>\n",
       "      <td>0</td>\n",
       "      <td>0</td>\n",
       "      <td>0</td>\n",
       "      <td>0</td>\n",
       "    </tr>\n",
       "    <tr>\n",
       "      <th>379</th>\n",
       "      <td>380</td>\n",
       "      <td>1959</td>\n",
       "      <td>Mingus Ah Um</td>\n",
       "      <td>Charles Mingus</td>\n",
       "      <td>Album</td>\n",
       "      <td>4.4</td>\n",
       "      <td>jazz</td>\n",
       "      <td>2690789</td>\n",
       "      <td>309755</td>\n",
       "      <td>0</td>\n",
       "      <td>0</td>\n",
       "      <td>0</td>\n",
       "      <td>0</td>\n",
       "      <td>0</td>\n",
       "    </tr>\n",
       "  </tbody>\n",
       "</table>\n",
       "</div>"
      ],
      "text/plain": [
       "     Number  Year              Album          Artist   Type  Rating      Gen  \\\n",
       "408     409  1970  Workingman's Dead   Grateful Dead  Album     4.5     rock   \n",
       "469     470  1998        400 Degreez        Juvenile  Album     3.0  hip-hop   \n",
       "379     380  1959       Mingus Ah Um  Charles Mingus  Album     4.4     jazz   \n",
       "\n",
       "     playcount  listeners  Spotify  Total  EAS  Sells  Millions  \n",
       "408    1574799     166164        0      0    0      0         0  \n",
       "469     633794     110802        0      0    0      0         0  \n",
       "379    2690789     309755        0      0    0      0         0  "
      ]
     },
     "execution_count": 58,
     "metadata": {},
     "output_type": "execute_result"
    }
   ],
   "source": [
    "stone_last_spot_sells.sample(3)"
   ]
  },
  {
   "cell_type": "code",
   "execution_count": 59,
   "metadata": {},
   "outputs": [],
   "source": [
    "stone_last_spot_sells[\"In_Spot\"] = np.where(stone_last_spot_sells[\"Spotify\"],\"Yes\",\"No\")\n",
    "stone_last_spot_sells[\"In_Sells\"] = np.where(stone_last_spot_sells[\"Sells\"],\"Yes\",\"No\")"
   ]
  },
  {
   "cell_type": "code",
   "execution_count": 60,
   "metadata": {},
   "outputs": [],
   "source": [
    "stone_last_spot_sells.to_csv(\"../data/stone_last_spot_sells.csv\",index=False)"
   ]
  },
  {
   "cell_type": "markdown",
   "metadata": {},
   "source": [
    "## Resumen por artista de la lista de Rolling Stone"
   ]
  },
  {
   "cell_type": "code",
   "execution_count": 61,
   "metadata": {},
   "outputs": [
    {
     "data": {
      "text/html": [
       "<div>\n",
       "<style scoped>\n",
       "    .dataframe tbody tr th:only-of-type {\n",
       "        vertical-align: middle;\n",
       "    }\n",
       "\n",
       "    .dataframe tbody tr th {\n",
       "        vertical-align: top;\n",
       "    }\n",
       "\n",
       "    .dataframe thead th {\n",
       "        text-align: right;\n",
       "    }\n",
       "</style>\n",
       "<table border=\"1\" class=\"dataframe\">\n",
       "  <thead>\n",
       "    <tr style=\"text-align: right;\">\n",
       "      <th></th>\n",
       "      <th>Number</th>\n",
       "      <th>Year</th>\n",
       "      <th>Album</th>\n",
       "      <th>Artist</th>\n",
       "      <th>Type</th>\n",
       "      <th>Rating</th>\n",
       "      <th>Gen</th>\n",
       "      <th>playcount</th>\n",
       "      <th>listeners</th>\n",
       "    </tr>\n",
       "  </thead>\n",
       "  <tbody>\n",
       "    <tr>\n",
       "      <th>272</th>\n",
       "      <td>273</td>\n",
       "      <td>1979</td>\n",
       "      <td>Entertainment!</td>\n",
       "      <td>Gang of Four</td>\n",
       "      <td>Album</td>\n",
       "      <td>4.75</td>\n",
       "      <td>punk</td>\n",
       "      <td>5961866</td>\n",
       "      <td>432185</td>\n",
       "    </tr>\n",
       "    <tr>\n",
       "      <th>438</th>\n",
       "      <td>439</td>\n",
       "      <td>1970</td>\n",
       "      <td>Sex Machine</td>\n",
       "      <td>James Brown</td>\n",
       "      <td>Album</td>\n",
       "      <td>4.35</td>\n",
       "      <td>funk</td>\n",
       "      <td>394155</td>\n",
       "      <td>48731</td>\n",
       "    </tr>\n",
       "    <tr>\n",
       "      <th>183</th>\n",
       "      <td>184</td>\n",
       "      <td>1983</td>\n",
       "      <td>She's So Unusual</td>\n",
       "      <td>Cyndi Lauper</td>\n",
       "      <td>Album</td>\n",
       "      <td>4.50</td>\n",
       "      <td>pop</td>\n",
       "      <td>4871988</td>\n",
       "      <td>797374</td>\n",
       "    </tr>\n",
       "  </tbody>\n",
       "</table>\n",
       "</div>"
      ],
      "text/plain": [
       "     Number  Year             Album        Artist   Type  Rating   Gen  \\\n",
       "272     273  1979    Entertainment!  Gang of Four  Album    4.75  punk   \n",
       "438     439  1970       Sex Machine   James Brown  Album    4.35  funk   \n",
       "183     184  1983  She's So Unusual  Cyndi Lauper  Album    4.50   pop   \n",
       "\n",
       "     playcount  listeners  \n",
       "272    5961866     432185  \n",
       "438     394155      48731  \n",
       "183    4871988     797374  "
      ]
     },
     "execution_count": 61,
     "metadata": {},
     "output_type": "execute_result"
    }
   ],
   "source": [
    "stone_500_rich.sample(3)"
   ]
  },
  {
   "cell_type": "code",
   "execution_count": 62,
   "metadata": {},
   "outputs": [],
   "source": [
    "RS_Artists = stone_500_rich.groupby(\"Artist\").agg({\"Album\":\"count\",\"playcount\":\"sum\",\"listeners\":\"sum\"}).reset_index()"
   ]
  },
  {
   "cell_type": "code",
   "execution_count": 63,
   "metadata": {},
   "outputs": [
    {
     "data": {
      "text/html": [
       "<div>\n",
       "<style scoped>\n",
       "    .dataframe tbody tr th:only-of-type {\n",
       "        vertical-align: middle;\n",
       "    }\n",
       "\n",
       "    .dataframe tbody tr th {\n",
       "        vertical-align: top;\n",
       "    }\n",
       "\n",
       "    .dataframe thead th {\n",
       "        text-align: right;\n",
       "    }\n",
       "</style>\n",
       "<table border=\"1\" class=\"dataframe\">\n",
       "  <thead>\n",
       "    <tr style=\"text-align: right;\">\n",
       "      <th></th>\n",
       "      <th>Artist</th>\n",
       "      <th>Album</th>\n",
       "      <th>playcount</th>\n",
       "      <th>listeners</th>\n",
       "    </tr>\n",
       "  </thead>\n",
       "  <tbody>\n",
       "    <tr>\n",
       "      <th>148</th>\n",
       "      <td>Kraftwerk</td>\n",
       "      <td>1</td>\n",
       "      <td>420273</td>\n",
       "      <td>25692</td>\n",
       "    </tr>\n",
       "    <tr>\n",
       "      <th>120</th>\n",
       "      <td>Ike &amp; Tina Turner</td>\n",
       "      <td>1</td>\n",
       "      <td>176732</td>\n",
       "      <td>52590</td>\n",
       "    </tr>\n",
       "    <tr>\n",
       "      <th>238</th>\n",
       "      <td>Robert Johnson</td>\n",
       "      <td>1</td>\n",
       "      <td>1742686</td>\n",
       "      <td>302751</td>\n",
       "    </tr>\n",
       "  </tbody>\n",
       "</table>\n",
       "</div>"
      ],
      "text/plain": [
       "                Artist  Album  playcount  listeners\n",
       "148          Kraftwerk      1     420273      25692\n",
       "120  Ike & Tina Turner      1     176732      52590\n",
       "238     Robert Johnson      1    1742686     302751"
      ]
     },
     "execution_count": 63,
     "metadata": {},
     "output_type": "execute_result"
    }
   ],
   "source": [
    "RS_Artists.sample(3)"
   ]
  },
  {
   "cell_type": "code",
   "execution_count": 64,
   "metadata": {},
   "outputs": [],
   "source": [
    "RS_Artists.to_csv(\"../data/RS_Artists.csv\",index = False) "
   ]
  },
  {
   "cell_type": "code",
   "execution_count": null,
   "metadata": {},
   "outputs": [],
   "source": []
  }
 ],
 "metadata": {
  "kernelspec": {
   "display_name": "ironhack",
   "language": "python",
   "name": "ironhack"
  },
  "language_info": {
   "codemirror_mode": {
    "name": "ipython",
    "version": 3
   },
   "file_extension": ".py",
   "mimetype": "text/x-python",
   "name": "python",
   "nbconvert_exporter": "python",
   "pygments_lexer": "ipython3",
   "version": "3.8.5"
  }
 },
 "nbformat": 4,
 "nbformat_minor": 5
}
