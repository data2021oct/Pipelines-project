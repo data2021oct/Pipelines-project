{
 "cells": [
  {
   "cell_type": "code",
   "execution_count": 1,
   "id": "149983b1",
   "metadata": {},
   "outputs": [
    {
     "data": {
      "text/plain": [
       "True"
      ]
     },
     "execution_count": 1,
     "metadata": {},
     "output_type": "execute_result"
    }
   ],
   "source": [
    "import requests\n",
    "from bs4 import BeautifulSoup\n",
    "import requests \n",
    "import json\n",
    "import os\n",
    "from dotenv import load_dotenv\n",
    "import pandas as pd\n",
    "from pandas import json_normalize\n",
    "import tweepy\n",
    "import time\n",
    "load_dotenv()"
   ]
  },
  {
   "cell_type": "code",
   "execution_count": 2,
   "id": "40e590c7",
   "metadata": {},
   "outputs": [],
   "source": [
    "apikey = os.getenv(\"apikey\") #apikey de lastfm"
   ]
  },
  {
   "cell_type": "markdown",
   "id": "80018ab3",
   "metadata": {},
   "source": [
    "# Spotify Most streamed\n",
    "- scrapping"
   ]
  },
  {
   "cell_type": "markdown",
   "id": "3f29422c",
   "metadata": {},
   "source": [
    "[charset: most streamed albums](https://chartmasters.org/spotify-most-streamed-albums/?y=alltime)\n",
    "Last updated on 11/06/21"
   ]
  },
  {
   "cell_type": "code",
   "execution_count": 3,
   "id": "eef7bf99",
   "metadata": {},
   "outputs": [
    {
     "ename": "KeyboardInterrupt",
     "evalue": "",
     "output_type": "error",
     "traceback": [
      "\u001b[0;31m---------------------------------------------------------------------------\u001b[0m",
      "\u001b[0;31mKeyboardInterrupt\u001b[0m                         Traceback (most recent call last)",
      "\u001b[0;32m<ipython-input-3-6c466966f1d9>\u001b[0m in \u001b[0;36m<module>\u001b[0;34m\u001b[0m\n\u001b[1;32m      1\u001b[0m \u001b[0murl_spotify\u001b[0m \u001b[0;34m=\u001b[0m \u001b[0;34m\"https://chartmasters.org/spotify-most-streamed-albums/?y=alltime\"\u001b[0m\u001b[0;34m\u001b[0m\u001b[0;34m\u001b[0m\u001b[0m\n\u001b[0;32m----> 2\u001b[0;31m \u001b[0mhtml_spotify\u001b[0m \u001b[0;34m=\u001b[0m \u001b[0mrequests\u001b[0m\u001b[0;34m.\u001b[0m\u001b[0mget\u001b[0m\u001b[0;34m(\u001b[0m\u001b[0murl_spotify\u001b[0m\u001b[0;34m)\u001b[0m\u001b[0;34m\u001b[0m\u001b[0;34m\u001b[0m\u001b[0m\n\u001b[0m\u001b[1;32m      3\u001b[0m \u001b[0msoup_spotify\u001b[0m \u001b[0;34m=\u001b[0m \u001b[0mBeautifulSoup\u001b[0m\u001b[0;34m(\u001b[0m\u001b[0mhtml_spotify\u001b[0m\u001b[0;34m.\u001b[0m\u001b[0mcontent\u001b[0m\u001b[0;34m,\u001b[0m\u001b[0;34m\"html.parser\"\u001b[0m\u001b[0;34m)\u001b[0m\u001b[0;34m\u001b[0m\u001b[0;34m\u001b[0m\u001b[0m\n",
      "\u001b[0;32m~/anaconda3/envs/ironhack/lib/python3.8/site-packages/requests/api.py\u001b[0m in \u001b[0;36mget\u001b[0;34m(url, params, **kwargs)\u001b[0m\n\u001b[1;32m     73\u001b[0m     \"\"\"\n\u001b[1;32m     74\u001b[0m \u001b[0;34m\u001b[0m\u001b[0m\n\u001b[0;32m---> 75\u001b[0;31m     \u001b[0;32mreturn\u001b[0m \u001b[0mrequest\u001b[0m\u001b[0;34m(\u001b[0m\u001b[0;34m'get'\u001b[0m\u001b[0;34m,\u001b[0m \u001b[0murl\u001b[0m\u001b[0;34m,\u001b[0m \u001b[0mparams\u001b[0m\u001b[0;34m=\u001b[0m\u001b[0mparams\u001b[0m\u001b[0;34m,\u001b[0m \u001b[0;34m**\u001b[0m\u001b[0mkwargs\u001b[0m\u001b[0;34m)\u001b[0m\u001b[0;34m\u001b[0m\u001b[0;34m\u001b[0m\u001b[0m\n\u001b[0m\u001b[1;32m     76\u001b[0m \u001b[0;34m\u001b[0m\u001b[0m\n\u001b[1;32m     77\u001b[0m \u001b[0;34m\u001b[0m\u001b[0m\n",
      "\u001b[0;32m~/anaconda3/envs/ironhack/lib/python3.8/site-packages/requests/api.py\u001b[0m in \u001b[0;36mrequest\u001b[0;34m(method, url, **kwargs)\u001b[0m\n\u001b[1;32m     59\u001b[0m     \u001b[0;31m# cases, and look like a memory leak in others.\u001b[0m\u001b[0;34m\u001b[0m\u001b[0;34m\u001b[0m\u001b[0;34m\u001b[0m\u001b[0m\n\u001b[1;32m     60\u001b[0m     \u001b[0;32mwith\u001b[0m \u001b[0msessions\u001b[0m\u001b[0;34m.\u001b[0m\u001b[0mSession\u001b[0m\u001b[0;34m(\u001b[0m\u001b[0;34m)\u001b[0m \u001b[0;32mas\u001b[0m \u001b[0msession\u001b[0m\u001b[0;34m:\u001b[0m\u001b[0;34m\u001b[0m\u001b[0;34m\u001b[0m\u001b[0m\n\u001b[0;32m---> 61\u001b[0;31m         \u001b[0;32mreturn\u001b[0m \u001b[0msession\u001b[0m\u001b[0;34m.\u001b[0m\u001b[0mrequest\u001b[0m\u001b[0;34m(\u001b[0m\u001b[0mmethod\u001b[0m\u001b[0;34m=\u001b[0m\u001b[0mmethod\u001b[0m\u001b[0;34m,\u001b[0m \u001b[0murl\u001b[0m\u001b[0;34m=\u001b[0m\u001b[0murl\u001b[0m\u001b[0;34m,\u001b[0m \u001b[0;34m**\u001b[0m\u001b[0mkwargs\u001b[0m\u001b[0;34m)\u001b[0m\u001b[0;34m\u001b[0m\u001b[0;34m\u001b[0m\u001b[0m\n\u001b[0m\u001b[1;32m     62\u001b[0m \u001b[0;34m\u001b[0m\u001b[0m\n\u001b[1;32m     63\u001b[0m \u001b[0;34m\u001b[0m\u001b[0m\n",
      "\u001b[0;32m~/anaconda3/envs/ironhack/lib/python3.8/site-packages/requests/sessions.py\u001b[0m in \u001b[0;36mrequest\u001b[0;34m(self, method, url, params, data, headers, cookies, files, auth, timeout, allow_redirects, proxies, hooks, stream, verify, cert, json)\u001b[0m\n\u001b[1;32m    540\u001b[0m         }\n\u001b[1;32m    541\u001b[0m         \u001b[0msend_kwargs\u001b[0m\u001b[0;34m.\u001b[0m\u001b[0mupdate\u001b[0m\u001b[0;34m(\u001b[0m\u001b[0msettings\u001b[0m\u001b[0;34m)\u001b[0m\u001b[0;34m\u001b[0m\u001b[0;34m\u001b[0m\u001b[0m\n\u001b[0;32m--> 542\u001b[0;31m         \u001b[0mresp\u001b[0m \u001b[0;34m=\u001b[0m \u001b[0mself\u001b[0m\u001b[0;34m.\u001b[0m\u001b[0msend\u001b[0m\u001b[0;34m(\u001b[0m\u001b[0mprep\u001b[0m\u001b[0;34m,\u001b[0m \u001b[0;34m**\u001b[0m\u001b[0msend_kwargs\u001b[0m\u001b[0;34m)\u001b[0m\u001b[0;34m\u001b[0m\u001b[0;34m\u001b[0m\u001b[0m\n\u001b[0m\u001b[1;32m    543\u001b[0m \u001b[0;34m\u001b[0m\u001b[0m\n\u001b[1;32m    544\u001b[0m         \u001b[0;32mreturn\u001b[0m \u001b[0mresp\u001b[0m\u001b[0;34m\u001b[0m\u001b[0;34m\u001b[0m\u001b[0m\n",
      "\u001b[0;32m~/anaconda3/envs/ironhack/lib/python3.8/site-packages/requests/sessions.py\u001b[0m in \u001b[0;36msend\u001b[0;34m(self, request, **kwargs)\u001b[0m\n\u001b[1;32m    653\u001b[0m \u001b[0;34m\u001b[0m\u001b[0m\n\u001b[1;32m    654\u001b[0m         \u001b[0;31m# Send the request\u001b[0m\u001b[0;34m\u001b[0m\u001b[0;34m\u001b[0m\u001b[0;34m\u001b[0m\u001b[0m\n\u001b[0;32m--> 655\u001b[0;31m         \u001b[0mr\u001b[0m \u001b[0;34m=\u001b[0m \u001b[0madapter\u001b[0m\u001b[0;34m.\u001b[0m\u001b[0msend\u001b[0m\u001b[0;34m(\u001b[0m\u001b[0mrequest\u001b[0m\u001b[0;34m,\u001b[0m \u001b[0;34m**\u001b[0m\u001b[0mkwargs\u001b[0m\u001b[0;34m)\u001b[0m\u001b[0;34m\u001b[0m\u001b[0;34m\u001b[0m\u001b[0m\n\u001b[0m\u001b[1;32m    656\u001b[0m \u001b[0;34m\u001b[0m\u001b[0m\n\u001b[1;32m    657\u001b[0m         \u001b[0;31m# Total elapsed time of the request (approximately)\u001b[0m\u001b[0;34m\u001b[0m\u001b[0;34m\u001b[0m\u001b[0;34m\u001b[0m\u001b[0m\n",
      "\u001b[0;32m~/anaconda3/envs/ironhack/lib/python3.8/site-packages/requests/adapters.py\u001b[0m in \u001b[0;36msend\u001b[0;34m(self, request, stream, timeout, verify, cert, proxies)\u001b[0m\n\u001b[1;32m    437\u001b[0m         \u001b[0;32mtry\u001b[0m\u001b[0;34m:\u001b[0m\u001b[0;34m\u001b[0m\u001b[0;34m\u001b[0m\u001b[0m\n\u001b[1;32m    438\u001b[0m             \u001b[0;32mif\u001b[0m \u001b[0;32mnot\u001b[0m \u001b[0mchunked\u001b[0m\u001b[0;34m:\u001b[0m\u001b[0;34m\u001b[0m\u001b[0;34m\u001b[0m\u001b[0m\n\u001b[0;32m--> 439\u001b[0;31m                 resp = conn.urlopen(\n\u001b[0m\u001b[1;32m    440\u001b[0m                     \u001b[0mmethod\u001b[0m\u001b[0;34m=\u001b[0m\u001b[0mrequest\u001b[0m\u001b[0;34m.\u001b[0m\u001b[0mmethod\u001b[0m\u001b[0;34m,\u001b[0m\u001b[0;34m\u001b[0m\u001b[0;34m\u001b[0m\u001b[0m\n\u001b[1;32m    441\u001b[0m                     \u001b[0murl\u001b[0m\u001b[0;34m=\u001b[0m\u001b[0murl\u001b[0m\u001b[0;34m,\u001b[0m\u001b[0;34m\u001b[0m\u001b[0;34m\u001b[0m\u001b[0m\n",
      "\u001b[0;32m~/anaconda3/envs/ironhack/lib/python3.8/site-packages/urllib3/connectionpool.py\u001b[0m in \u001b[0;36murlopen\u001b[0;34m(self, method, url, body, headers, retries, redirect, assert_same_host, timeout, pool_timeout, release_conn, chunked, body_pos, **response_kw)\u001b[0m\n\u001b[1;32m    697\u001b[0m \u001b[0;34m\u001b[0m\u001b[0m\n\u001b[1;32m    698\u001b[0m             \u001b[0;31m# Make the request on the httplib connection object.\u001b[0m\u001b[0;34m\u001b[0m\u001b[0;34m\u001b[0m\u001b[0;34m\u001b[0m\u001b[0m\n\u001b[0;32m--> 699\u001b[0;31m             httplib_response = self._make_request(\n\u001b[0m\u001b[1;32m    700\u001b[0m                 \u001b[0mconn\u001b[0m\u001b[0;34m,\u001b[0m\u001b[0;34m\u001b[0m\u001b[0;34m\u001b[0m\u001b[0m\n\u001b[1;32m    701\u001b[0m                 \u001b[0mmethod\u001b[0m\u001b[0;34m,\u001b[0m\u001b[0;34m\u001b[0m\u001b[0;34m\u001b[0m\u001b[0m\n",
      "\u001b[0;32m~/anaconda3/envs/ironhack/lib/python3.8/site-packages/urllib3/connectionpool.py\u001b[0m in \u001b[0;36m_make_request\u001b[0;34m(self, conn, method, url, timeout, chunked, **httplib_request_kw)\u001b[0m\n\u001b[1;32m    443\u001b[0m                     \u001b[0;31m# Python 3 (including for exceptions like SystemExit).\u001b[0m\u001b[0;34m\u001b[0m\u001b[0;34m\u001b[0m\u001b[0;34m\u001b[0m\u001b[0m\n\u001b[1;32m    444\u001b[0m                     \u001b[0;31m# Otherwise it looks like a bug in the code.\u001b[0m\u001b[0;34m\u001b[0m\u001b[0;34m\u001b[0m\u001b[0;34m\u001b[0m\u001b[0m\n\u001b[0;32m--> 445\u001b[0;31m                     \u001b[0msix\u001b[0m\u001b[0;34m.\u001b[0m\u001b[0mraise_from\u001b[0m\u001b[0;34m(\u001b[0m\u001b[0me\u001b[0m\u001b[0;34m,\u001b[0m \u001b[0;32mNone\u001b[0m\u001b[0;34m)\u001b[0m\u001b[0;34m\u001b[0m\u001b[0;34m\u001b[0m\u001b[0m\n\u001b[0m\u001b[1;32m    446\u001b[0m         \u001b[0;32mexcept\u001b[0m \u001b[0;34m(\u001b[0m\u001b[0mSocketTimeout\u001b[0m\u001b[0;34m,\u001b[0m \u001b[0mBaseSSLError\u001b[0m\u001b[0;34m,\u001b[0m \u001b[0mSocketError\u001b[0m\u001b[0;34m)\u001b[0m \u001b[0;32mas\u001b[0m \u001b[0me\u001b[0m\u001b[0;34m:\u001b[0m\u001b[0;34m\u001b[0m\u001b[0;34m\u001b[0m\u001b[0m\n\u001b[1;32m    447\u001b[0m             \u001b[0mself\u001b[0m\u001b[0;34m.\u001b[0m\u001b[0m_raise_timeout\u001b[0m\u001b[0;34m(\u001b[0m\u001b[0merr\u001b[0m\u001b[0;34m=\u001b[0m\u001b[0me\u001b[0m\u001b[0;34m,\u001b[0m \u001b[0murl\u001b[0m\u001b[0;34m=\u001b[0m\u001b[0murl\u001b[0m\u001b[0;34m,\u001b[0m \u001b[0mtimeout_value\u001b[0m\u001b[0;34m=\u001b[0m\u001b[0mread_timeout\u001b[0m\u001b[0;34m)\u001b[0m\u001b[0;34m\u001b[0m\u001b[0;34m\u001b[0m\u001b[0m\n",
      "\u001b[0;32m~/anaconda3/envs/ironhack/lib/python3.8/site-packages/urllib3/packages/six.py\u001b[0m in \u001b[0;36mraise_from\u001b[0;34m(value, from_value)\u001b[0m\n",
      "\u001b[0;32m~/anaconda3/envs/ironhack/lib/python3.8/site-packages/urllib3/connectionpool.py\u001b[0m in \u001b[0;36m_make_request\u001b[0;34m(self, conn, method, url, timeout, chunked, **httplib_request_kw)\u001b[0m\n\u001b[1;32m    438\u001b[0m                 \u001b[0;31m# Python 3\u001b[0m\u001b[0;34m\u001b[0m\u001b[0;34m\u001b[0m\u001b[0;34m\u001b[0m\u001b[0m\n\u001b[1;32m    439\u001b[0m                 \u001b[0;32mtry\u001b[0m\u001b[0;34m:\u001b[0m\u001b[0;34m\u001b[0m\u001b[0;34m\u001b[0m\u001b[0m\n\u001b[0;32m--> 440\u001b[0;31m                     \u001b[0mhttplib_response\u001b[0m \u001b[0;34m=\u001b[0m \u001b[0mconn\u001b[0m\u001b[0;34m.\u001b[0m\u001b[0mgetresponse\u001b[0m\u001b[0;34m(\u001b[0m\u001b[0;34m)\u001b[0m\u001b[0;34m\u001b[0m\u001b[0;34m\u001b[0m\u001b[0m\n\u001b[0m\u001b[1;32m    441\u001b[0m                 \u001b[0;32mexcept\u001b[0m \u001b[0mBaseException\u001b[0m \u001b[0;32mas\u001b[0m \u001b[0me\u001b[0m\u001b[0;34m:\u001b[0m\u001b[0;34m\u001b[0m\u001b[0;34m\u001b[0m\u001b[0m\n\u001b[1;32m    442\u001b[0m                     \u001b[0;31m# Remove the TypeError from the exception chain in\u001b[0m\u001b[0;34m\u001b[0m\u001b[0;34m\u001b[0m\u001b[0;34m\u001b[0m\u001b[0m\n",
      "\u001b[0;32m~/anaconda3/envs/ironhack/lib/python3.8/http/client.py\u001b[0m in \u001b[0;36mgetresponse\u001b[0;34m(self)\u001b[0m\n\u001b[1;32m   1345\u001b[0m         \u001b[0;32mtry\u001b[0m\u001b[0;34m:\u001b[0m\u001b[0;34m\u001b[0m\u001b[0;34m\u001b[0m\u001b[0m\n\u001b[1;32m   1346\u001b[0m             \u001b[0;32mtry\u001b[0m\u001b[0;34m:\u001b[0m\u001b[0;34m\u001b[0m\u001b[0;34m\u001b[0m\u001b[0m\n\u001b[0;32m-> 1347\u001b[0;31m                 \u001b[0mresponse\u001b[0m\u001b[0;34m.\u001b[0m\u001b[0mbegin\u001b[0m\u001b[0;34m(\u001b[0m\u001b[0;34m)\u001b[0m\u001b[0;34m\u001b[0m\u001b[0;34m\u001b[0m\u001b[0m\n\u001b[0m\u001b[1;32m   1348\u001b[0m             \u001b[0;32mexcept\u001b[0m \u001b[0mConnectionError\u001b[0m\u001b[0;34m:\u001b[0m\u001b[0;34m\u001b[0m\u001b[0;34m\u001b[0m\u001b[0m\n\u001b[1;32m   1349\u001b[0m                 \u001b[0mself\u001b[0m\u001b[0;34m.\u001b[0m\u001b[0mclose\u001b[0m\u001b[0;34m(\u001b[0m\u001b[0;34m)\u001b[0m\u001b[0;34m\u001b[0m\u001b[0;34m\u001b[0m\u001b[0m\n",
      "\u001b[0;32m~/anaconda3/envs/ironhack/lib/python3.8/http/client.py\u001b[0m in \u001b[0;36mbegin\u001b[0;34m(self)\u001b[0m\n\u001b[1;32m    305\u001b[0m         \u001b[0;31m# read until we get a non-100 response\u001b[0m\u001b[0;34m\u001b[0m\u001b[0;34m\u001b[0m\u001b[0;34m\u001b[0m\u001b[0m\n\u001b[1;32m    306\u001b[0m         \u001b[0;32mwhile\u001b[0m \u001b[0;32mTrue\u001b[0m\u001b[0;34m:\u001b[0m\u001b[0;34m\u001b[0m\u001b[0;34m\u001b[0m\u001b[0m\n\u001b[0;32m--> 307\u001b[0;31m             \u001b[0mversion\u001b[0m\u001b[0;34m,\u001b[0m \u001b[0mstatus\u001b[0m\u001b[0;34m,\u001b[0m \u001b[0mreason\u001b[0m \u001b[0;34m=\u001b[0m \u001b[0mself\u001b[0m\u001b[0;34m.\u001b[0m\u001b[0m_read_status\u001b[0m\u001b[0;34m(\u001b[0m\u001b[0;34m)\u001b[0m\u001b[0;34m\u001b[0m\u001b[0;34m\u001b[0m\u001b[0m\n\u001b[0m\u001b[1;32m    308\u001b[0m             \u001b[0;32mif\u001b[0m \u001b[0mstatus\u001b[0m \u001b[0;34m!=\u001b[0m \u001b[0mCONTINUE\u001b[0m\u001b[0;34m:\u001b[0m\u001b[0;34m\u001b[0m\u001b[0;34m\u001b[0m\u001b[0m\n\u001b[1;32m    309\u001b[0m                 \u001b[0;32mbreak\u001b[0m\u001b[0;34m\u001b[0m\u001b[0;34m\u001b[0m\u001b[0m\n",
      "\u001b[0;32m~/anaconda3/envs/ironhack/lib/python3.8/http/client.py\u001b[0m in \u001b[0;36m_read_status\u001b[0;34m(self)\u001b[0m\n\u001b[1;32m    266\u001b[0m \u001b[0;34m\u001b[0m\u001b[0m\n\u001b[1;32m    267\u001b[0m     \u001b[0;32mdef\u001b[0m \u001b[0m_read_status\u001b[0m\u001b[0;34m(\u001b[0m\u001b[0mself\u001b[0m\u001b[0;34m)\u001b[0m\u001b[0;34m:\u001b[0m\u001b[0;34m\u001b[0m\u001b[0;34m\u001b[0m\u001b[0m\n\u001b[0;32m--> 268\u001b[0;31m         \u001b[0mline\u001b[0m \u001b[0;34m=\u001b[0m \u001b[0mstr\u001b[0m\u001b[0;34m(\u001b[0m\u001b[0mself\u001b[0m\u001b[0;34m.\u001b[0m\u001b[0mfp\u001b[0m\u001b[0;34m.\u001b[0m\u001b[0mreadline\u001b[0m\u001b[0;34m(\u001b[0m\u001b[0m_MAXLINE\u001b[0m \u001b[0;34m+\u001b[0m \u001b[0;36m1\u001b[0m\u001b[0;34m)\u001b[0m\u001b[0;34m,\u001b[0m \u001b[0;34m\"iso-8859-1\"\u001b[0m\u001b[0;34m)\u001b[0m\u001b[0;34m\u001b[0m\u001b[0;34m\u001b[0m\u001b[0m\n\u001b[0m\u001b[1;32m    269\u001b[0m         \u001b[0;32mif\u001b[0m \u001b[0mlen\u001b[0m\u001b[0;34m(\u001b[0m\u001b[0mline\u001b[0m\u001b[0;34m)\u001b[0m \u001b[0;34m>\u001b[0m \u001b[0m_MAXLINE\u001b[0m\u001b[0;34m:\u001b[0m\u001b[0;34m\u001b[0m\u001b[0;34m\u001b[0m\u001b[0m\n\u001b[1;32m    270\u001b[0m             \u001b[0;32mraise\u001b[0m \u001b[0mLineTooLong\u001b[0m\u001b[0;34m(\u001b[0m\u001b[0;34m\"status line\"\u001b[0m\u001b[0;34m)\u001b[0m\u001b[0;34m\u001b[0m\u001b[0;34m\u001b[0m\u001b[0m\n",
      "\u001b[0;32m~/anaconda3/envs/ironhack/lib/python3.8/socket.py\u001b[0m in \u001b[0;36mreadinto\u001b[0;34m(self, b)\u001b[0m\n\u001b[1;32m    667\u001b[0m         \u001b[0;32mwhile\u001b[0m \u001b[0;32mTrue\u001b[0m\u001b[0;34m:\u001b[0m\u001b[0;34m\u001b[0m\u001b[0;34m\u001b[0m\u001b[0m\n\u001b[1;32m    668\u001b[0m             \u001b[0;32mtry\u001b[0m\u001b[0;34m:\u001b[0m\u001b[0;34m\u001b[0m\u001b[0;34m\u001b[0m\u001b[0m\n\u001b[0;32m--> 669\u001b[0;31m                 \u001b[0;32mreturn\u001b[0m \u001b[0mself\u001b[0m\u001b[0;34m.\u001b[0m\u001b[0m_sock\u001b[0m\u001b[0;34m.\u001b[0m\u001b[0mrecv_into\u001b[0m\u001b[0;34m(\u001b[0m\u001b[0mb\u001b[0m\u001b[0;34m)\u001b[0m\u001b[0;34m\u001b[0m\u001b[0;34m\u001b[0m\u001b[0m\n\u001b[0m\u001b[1;32m    670\u001b[0m             \u001b[0;32mexcept\u001b[0m \u001b[0mtimeout\u001b[0m\u001b[0;34m:\u001b[0m\u001b[0;34m\u001b[0m\u001b[0;34m\u001b[0m\u001b[0m\n\u001b[1;32m    671\u001b[0m                 \u001b[0mself\u001b[0m\u001b[0;34m.\u001b[0m\u001b[0m_timeout_occurred\u001b[0m \u001b[0;34m=\u001b[0m \u001b[0;32mTrue\u001b[0m\u001b[0;34m\u001b[0m\u001b[0;34m\u001b[0m\u001b[0m\n",
      "\u001b[0;32m~/anaconda3/envs/ironhack/lib/python3.8/ssl.py\u001b[0m in \u001b[0;36mrecv_into\u001b[0;34m(self, buffer, nbytes, flags)\u001b[0m\n\u001b[1;32m   1239\u001b[0m                   \u001b[0;34m\"non-zero flags not allowed in calls to recv_into() on %s\"\u001b[0m \u001b[0;34m%\u001b[0m\u001b[0;34m\u001b[0m\u001b[0;34m\u001b[0m\u001b[0m\n\u001b[1;32m   1240\u001b[0m                   self.__class__)\n\u001b[0;32m-> 1241\u001b[0;31m             \u001b[0;32mreturn\u001b[0m \u001b[0mself\u001b[0m\u001b[0;34m.\u001b[0m\u001b[0mread\u001b[0m\u001b[0;34m(\u001b[0m\u001b[0mnbytes\u001b[0m\u001b[0;34m,\u001b[0m \u001b[0mbuffer\u001b[0m\u001b[0;34m)\u001b[0m\u001b[0;34m\u001b[0m\u001b[0;34m\u001b[0m\u001b[0m\n\u001b[0m\u001b[1;32m   1242\u001b[0m         \u001b[0;32melse\u001b[0m\u001b[0;34m:\u001b[0m\u001b[0;34m\u001b[0m\u001b[0;34m\u001b[0m\u001b[0m\n\u001b[1;32m   1243\u001b[0m             \u001b[0;32mreturn\u001b[0m \u001b[0msuper\u001b[0m\u001b[0;34m(\u001b[0m\u001b[0;34m)\u001b[0m\u001b[0;34m.\u001b[0m\u001b[0mrecv_into\u001b[0m\u001b[0;34m(\u001b[0m\u001b[0mbuffer\u001b[0m\u001b[0;34m,\u001b[0m \u001b[0mnbytes\u001b[0m\u001b[0;34m,\u001b[0m \u001b[0mflags\u001b[0m\u001b[0;34m)\u001b[0m\u001b[0;34m\u001b[0m\u001b[0;34m\u001b[0m\u001b[0m\n",
      "\u001b[0;32m~/anaconda3/envs/ironhack/lib/python3.8/ssl.py\u001b[0m in \u001b[0;36mread\u001b[0;34m(self, len, buffer)\u001b[0m\n\u001b[1;32m   1097\u001b[0m         \u001b[0;32mtry\u001b[0m\u001b[0;34m:\u001b[0m\u001b[0;34m\u001b[0m\u001b[0;34m\u001b[0m\u001b[0m\n\u001b[1;32m   1098\u001b[0m             \u001b[0;32mif\u001b[0m \u001b[0mbuffer\u001b[0m \u001b[0;32mis\u001b[0m \u001b[0;32mnot\u001b[0m \u001b[0;32mNone\u001b[0m\u001b[0;34m:\u001b[0m\u001b[0;34m\u001b[0m\u001b[0;34m\u001b[0m\u001b[0m\n\u001b[0;32m-> 1099\u001b[0;31m                 \u001b[0;32mreturn\u001b[0m \u001b[0mself\u001b[0m\u001b[0;34m.\u001b[0m\u001b[0m_sslobj\u001b[0m\u001b[0;34m.\u001b[0m\u001b[0mread\u001b[0m\u001b[0;34m(\u001b[0m\u001b[0mlen\u001b[0m\u001b[0;34m,\u001b[0m \u001b[0mbuffer\u001b[0m\u001b[0;34m)\u001b[0m\u001b[0;34m\u001b[0m\u001b[0;34m\u001b[0m\u001b[0m\n\u001b[0m\u001b[1;32m   1100\u001b[0m             \u001b[0;32melse\u001b[0m\u001b[0;34m:\u001b[0m\u001b[0;34m\u001b[0m\u001b[0;34m\u001b[0m\u001b[0m\n\u001b[1;32m   1101\u001b[0m                 \u001b[0;32mreturn\u001b[0m \u001b[0mself\u001b[0m\u001b[0;34m.\u001b[0m\u001b[0m_sslobj\u001b[0m\u001b[0;34m.\u001b[0m\u001b[0mread\u001b[0m\u001b[0;34m(\u001b[0m\u001b[0mlen\u001b[0m\u001b[0;34m)\u001b[0m\u001b[0;34m\u001b[0m\u001b[0;34m\u001b[0m\u001b[0m\n",
      "\u001b[0;31mKeyboardInterrupt\u001b[0m: "
     ]
    }
   ],
   "source": [
    "url_spotify = \"https://chartmasters.org/spotify-most-streamed-albums/?y=alltime\"\n",
    "html_spotify = requests.get(url_spotify)\n",
    "soup_spotify = BeautifulSoup(html_spotify.content,\"html.parser\")"
   ]
  },
  {
   "cell_type": "code",
   "execution_count": null,
   "id": "234b152c",
   "metadata": {},
   "outputs": [],
   "source": [
    "tablas_spotify = soup_spotify.findAll(\"table\")"
   ]
  },
  {
   "cell_type": "code",
   "execution_count": null,
   "id": "3922cda9",
   "metadata": {},
   "outputs": [],
   "source": [
    "spotify = tablas_spotify[1]\n",
    "spotify.find_all(\"tr\") #cuerpo\n",
    "spotify.find_all(\"th\") #cabeceros"
   ]
  },
  {
   "cell_type": "code",
   "execution_count": null,
   "id": "f623516e",
   "metadata": {},
   "outputs": [],
   "source": [
    "def data_spotify(element):\n",
    "    Top_alb = []\n",
    "    for s in element.find_all(\"tr\"):\n",
    "        fila = [elemento for elemento in s.find_all(\"td\")]\n",
    "        if len(fila)>1:\n",
    "            spot_dicc = {\"Rank\" : int(fila[0].text),\n",
    "                        \"Artist\": fila[2].text.strip(),\n",
    "                         \"Album\": fila[3].text.strip(),\n",
    "                         \"Total\" :int(fila[4].text.replace(\",\",\"\")),\n",
    "                         \"Daily\" : int(fila[5].text.replace(\",\",\"\"))\n",
    "                        }\n",
    "            Top_alb.append(spot_dicc)\n",
    "    return Top_alb"
   ]
  },
  {
   "cell_type": "code",
   "execution_count": null,
   "id": "fec34ee9",
   "metadata": {},
   "outputs": [],
   "source": [
    "element = spotify\n",
    "Top_alb_spotify = data_spotify(element)\n",
    "Top_alb_spotify[1]"
   ]
  },
  {
   "cell_type": "code",
   "execution_count": null,
   "id": "eb6da7c5",
   "metadata": {},
   "outputs": [],
   "source": [
    "Spotify_500 = pd.DataFrame(Top_alb_spotify)\n",
    "Spotify_500"
   ]
  },
  {
   "cell_type": "code",
   "execution_count": null,
   "id": "86730eb6",
   "metadata": {},
   "outputs": [],
   "source": [
    "Spotify_500.to_csv(\"../data/Spotify_500.csv\")"
   ]
  },
  {
   "cell_type": "markdown",
   "id": "1f999955",
   "metadata": {},
   "source": [
    "# LastFM 50 Top Artists"
   ]
  },
  {
   "cell_type": "code",
   "execution_count": null,
   "id": "041bbe79",
   "metadata": {},
   "outputs": [],
   "source": [
    "url_last50 = f\"http://ws.audioscrobbler.com/2.0/?method=chart.gettopartists&api_key={apikey}&format=json\"\n",
    "req_last50 = requests.get(url_last50).json()"
   ]
  },
  {
   "cell_type": "code",
   "execution_count": null,
   "id": "1123bacb",
   "metadata": {},
   "outputs": [],
   "source": [
    "last_50 = req_last50[\"artists\"][\"artist\"]\n",
    "last_top50 = pd.DataFrame.from_dict(last_50)"
   ]
  },
  {
   "cell_type": "code",
   "execution_count": null,
   "id": "53c0daaa",
   "metadata": {},
   "outputs": [],
   "source": [
    "last_top50.sample(5)"
   ]
  },
  {
   "cell_type": "code",
   "execution_count": null,
   "id": "22c43d24",
   "metadata": {},
   "outputs": [],
   "source": [
    "last_top50.to_csv(\"../data/last_top50_image.csv\") #me guardo esto por si acso"
   ]
  },
  {
   "cell_type": "code",
   "execution_count": null,
   "id": "7dedf0e4",
   "metadata": {},
   "outputs": [],
   "source": [
    "top50_lastfm = last_top50[['name', 'playcount', 'listeners']]"
   ]
  },
  {
   "cell_type": "code",
   "execution_count": null,
   "id": "4a6e5119",
   "metadata": {},
   "outputs": [],
   "source": [
    "top50_lastfm.sample(5)"
   ]
  },
  {
   "cell_type": "code",
   "execution_count": null,
   "id": "d03dc34c",
   "metadata": {},
   "outputs": [],
   "source": [
    "top50_lastfm.to_csv(\"../data/top50_lastfm.csv\")"
   ]
  },
  {
   "cell_type": "markdown",
   "id": "fe786fcf",
   "metadata": {},
   "source": [
    "# Top Sells"
   ]
  },
  {
   "cell_type": "markdown",
   "id": "bf7b4ef2",
   "metadata": {},
   "source": [
    "[top50](\"https://www.businessinsider.com/50-best-selling-albums-all-time-2016-9\")\n",
    "Travis Clark Updated Sep 22, 2021, 8:18 PM"
   ]
  },
  {
   "cell_type": "code",
   "execution_count": 4,
   "id": "bd937796",
   "metadata": {},
   "outputs": [],
   "source": [
    "url_insider = \"https://www.businessinsider.com/50-best-selling-albums-all-time-2016-9\"\n",
    "html_insider = requests.get(url_insider)\n",
    "soup_insider = BeautifulSoup(html_insider.content,\"html.parser\")"
   ]
  },
  {
   "cell_type": "code",
   "execution_count": 5,
   "id": "f7af93a0",
   "metadata": {},
   "outputs": [
    {
     "data": {
      "text/plain": [
       "<div class=\"slide-layout clearfix\">\n",
       "<div class=\"slide-title clearfix\" data-e2e-name=\"slide-title\">\n",
       "<h2 class=\"slide-title-text\">49. Kenny Rogers — \"Kenny Rogers' Greatest Hits\"</h2>\n",
       "</div>\n",
       "<figure class=\"figure image-figure-image\" data-e2e-name=\"image-figure-image\" data-media-container=\"image\" data-type=\"img\">\n",
       "<div class=\"lazy-holder\" style=\"padding-top: calc(100% * 898 / 980)\">\n",
       "<img alt=\"kenny rogers\" class=\"lazy-image\" data-content-type=\"image/jpeg\" data-srcs='{\"https://i.insider.com/57e43003077dccfc298b4a77\":{\"contentType\":\"image/jpeg\",\"aspectRatioW\":490,\"aspectRatioH\":449}}' src=\"data:image/svg+xml,%3Csvg xmlns='http://www.w3.org/2000/svg' viewBox='0 0 1 1'%3E%3C/svg%3E\"/>\n",
       "<noscript>\n",
       "<img src=\"https://i.insider.com/57e43003077dccfc298b4a77?width=600&amp;format=jpeg&amp;auto=webp\"/>\n",
       "</noscript>\n",
       "</div>\n",
       "<span class=\"image-source-only\">\n",
       "<span class=\"image-source headline-regular\" data-e2e-name=\"image-source\">\n",
       "                                                  Liberty\n",
       "                                                </span>\n",
       "</span>\n",
       "</figure>\n",
       "<p><strong>Certified units: </strong>12 million</p><p><strong><a data-analytics-module=\"body_link\" href=\"/reviews/out?asin=B000002U86&amp;originalTag=biip_092316_best-selling-albums-all-time-20&amp;platform=browser&amp;postSource=bi%7C57e4123eb0ef9737018b7881&amp;postTag=biauto-41385-20&amp;sc=false&amp;type=AMAZON-AFFILIATE-LINK&amp;u=https%3A%2F%2Fwww.amazon.com%2Fdp%2FB000002U86%3Ftag%3Dbiauto-41385-20\" rel=\"noopener\" target=\"_blank\">Buy it here &gt;&gt;</a></strong></p>\n",
       "<div class=\"slide-options\">\n",
       "</div>\n",
       "</div>"
      ]
     },
     "execution_count": 5,
     "metadata": {},
     "output_type": "execute_result"
    }
   ],
   "source": [
    "tags_insider = soup_insider.find_all(\"div\", {\"class\": \"slide-layout\"})\n",
    "tags_insider[1]"
   ]
  },
  {
   "cell_type": "code",
   "execution_count": 6,
   "id": "293ce68f",
   "metadata": {},
   "outputs": [
    {
     "data": {
      "text/plain": [
       "'50. Led Zeppelin —\\xa0\"Led Zeppelin II\"'"
      ]
     },
     "execution_count": 6,
     "metadata": {},
     "output_type": "execute_result"
    }
   ],
   "source": [
    "tags_insider[0].find(\"h2\").getText()"
   ]
  },
  {
   "cell_type": "code",
   "execution_count": 7,
   "id": "19e22b0e",
   "metadata": {},
   "outputs": [
    {
     "data": {
      "text/plain": [
       "'Certified units: 12\\xa0million'"
      ]
     },
     "execution_count": 7,
     "metadata": {},
     "output_type": "execute_result"
    }
   ],
   "source": [
    "tags_insider[0].find_all(\"p\")[0].getText()"
   ]
  },
  {
   "cell_type": "code",
   "execution_count": 8,
   "id": "21e7465c",
   "metadata": {},
   "outputs": [],
   "source": [
    "def data_sells(element):\n",
    "    lista = []\n",
    "    for t in element:\n",
    "        dicc_t = {\"album\": t.find(\"h2\").getText(),\n",
    "                 \"certified units\" : t.find(\"p\").getText()}\n",
    "        lista.append(dicc_t)\n",
    "    return lista"
   ]
  },
  {
   "cell_type": "code",
   "execution_count": 9,
   "id": "21c3c0e6",
   "metadata": {},
   "outputs": [
    {
     "data": {
      "text/plain": [
       "{'album': '50. Led Zeppelin —\\xa0\"Led Zeppelin II\"',\n",
       " 'certified units': 'Certified units: 12\\xa0million'}"
      ]
     },
     "execution_count": 9,
     "metadata": {},
     "output_type": "execute_result"
    }
   ],
   "source": [
    "insider_data = data_sells(tags_insider)\n",
    "insider_data[0]"
   ]
  },
  {
   "cell_type": "code",
   "execution_count": 10,
   "id": "40845e52",
   "metadata": {},
   "outputs": [
    {
     "data": {
      "text/html": [
       "<div>\n",
       "<style scoped>\n",
       "    .dataframe tbody tr th:only-of-type {\n",
       "        vertical-align: middle;\n",
       "    }\n",
       "\n",
       "    .dataframe tbody tr th {\n",
       "        vertical-align: top;\n",
       "    }\n",
       "\n",
       "    .dataframe thead th {\n",
       "        text-align: right;\n",
       "    }\n",
       "</style>\n",
       "<table border=\"1\" class=\"dataframe\">\n",
       "  <thead>\n",
       "    <tr style=\"text-align: right;\">\n",
       "      <th></th>\n",
       "      <th>album</th>\n",
       "      <th>certified units</th>\n",
       "    </tr>\n",
       "  </thead>\n",
       "  <tbody>\n",
       "    <tr>\n",
       "      <th>28</th>\n",
       "      <td>22. Metallica — \"Metallica\"</td>\n",
       "      <td>Certified units: 16 million</td>\n",
       "    </tr>\n",
       "    <tr>\n",
       "      <th>43</th>\n",
       "      <td>7. Led Zeppelin — \"Led Zeppelin IV\"</td>\n",
       "      <td>Certified units: 23 million</td>\n",
       "    </tr>\n",
       "    <tr>\n",
       "      <th>37</th>\n",
       "      <td>13. Garth Brooks — \"No Fences\"</td>\n",
       "      <td>Certified units: 18 million</td>\n",
       "    </tr>\n",
       "  </tbody>\n",
       "</table>\n",
       "</div>"
      ],
      "text/plain": [
       "                                  album              certified units\n",
       "28          22. Metallica — \"Metallica\"  Certified units: 16 million\n",
       "43  7. Led Zeppelin — \"Led Zeppelin IV\"  Certified units: 23 million\n",
       "37       13. Garth Brooks — \"No Fences\"  Certified units: 18 million"
      ]
     },
     "execution_count": 10,
     "metadata": {},
     "output_type": "execute_result"
    }
   ],
   "source": [
    "insider = pd.DataFrame(insider_data)\n",
    "insider.sample(3)"
   ]
  },
  {
   "cell_type": "code",
   "execution_count": 11,
   "id": "08e783d3",
   "metadata": {},
   "outputs": [],
   "source": [
    "insider[\"Rank\"] = insider[\"album\"].str.extract(r\"(^\\d+)\")\n",
    "insider[\"Millions\"] = insider[\"certified units\"].str.extract(r\"(\\d+)\")\n",
    "insider[\"album\"] = insider[\"album\"].str.replace(\" – \",\" — \",regex = True)\n",
    "insider[\"Artist\"] = insider[\"album\"].str.extract(r\"(^\\d+.\\s(.+?)—)\")[1]\n",
    "insider[\"Title\"] = insider[\"album\"].str.extract(r\"(—\\s(.+?)$)\")[1]\n",
    "insider[\"Title\"] = insider[\"Title\"].str.replace('\"',\"\")"
   ]
  },
  {
   "cell_type": "code",
   "execution_count": 12,
   "id": "693533e6",
   "metadata": {},
   "outputs": [
    {
     "data": {
      "text/html": [
       "<div>\n",
       "<style scoped>\n",
       "    .dataframe tbody tr th:only-of-type {\n",
       "        vertical-align: middle;\n",
       "    }\n",
       "\n",
       "    .dataframe tbody tr th {\n",
       "        vertical-align: top;\n",
       "    }\n",
       "\n",
       "    .dataframe thead th {\n",
       "        text-align: right;\n",
       "    }\n",
       "</style>\n",
       "<table border=\"1\" class=\"dataframe\">\n",
       "  <thead>\n",
       "    <tr style=\"text-align: right;\">\n",
       "      <th></th>\n",
       "      <th>album</th>\n",
       "      <th>certified units</th>\n",
       "      <th>Rank</th>\n",
       "      <th>Millions</th>\n",
       "      <th>Artist</th>\n",
       "      <th>Title</th>\n",
       "    </tr>\n",
       "  </thead>\n",
       "  <tbody>\n",
       "    <tr>\n",
       "      <th>34</th>\n",
       "      <td>16. Boston — \"Boston\"</td>\n",
       "      <td>Certified units: 17 million</td>\n",
       "      <td>16</td>\n",
       "      <td>17</td>\n",
       "      <td>Boston</td>\n",
       "      <td>Boston</td>\n",
       "    </tr>\n",
       "    <tr>\n",
       "      <th>45</th>\n",
       "      <td>5. The Beatles — \"The Beatles\" (\"The White Alb...</td>\n",
       "      <td>Certified units: 24 million</td>\n",
       "      <td>5</td>\n",
       "      <td>24</td>\n",
       "      <td>The Beatles</td>\n",
       "      <td>The Beatles (The White Album)</td>\n",
       "    </tr>\n",
       "    <tr>\n",
       "      <th>6</th>\n",
       "      <td>44. Boyz II Men — \"II\"</td>\n",
       "      <td>Certified units: 12 million</td>\n",
       "      <td>44</td>\n",
       "      <td>12</td>\n",
       "      <td>Boyz II Men</td>\n",
       "      <td>II</td>\n",
       "    </tr>\n",
       "  </tbody>\n",
       "</table>\n",
       "</div>"
      ],
      "text/plain": [
       "                                                album  \\\n",
       "34                              16. Boston — \"Boston\"   \n",
       "45  5. The Beatles — \"The Beatles\" (\"The White Alb...   \n",
       "6                              44. Boyz II Men — \"II\"   \n",
       "\n",
       "                certified units Rank Millions        Artist  \\\n",
       "34  Certified units: 17 million   16       17       Boston    \n",
       "45  Certified units: 24 million    5       24  The Beatles    \n",
       "6   Certified units: 12 million   44       12  Boyz II Men    \n",
       "\n",
       "                            Title  \n",
       "34                         Boston  \n",
       "45  The Beatles (The White Album)  \n",
       "6                              II  "
      ]
     },
     "execution_count": 12,
     "metadata": {},
     "output_type": "execute_result"
    }
   ],
   "source": [
    "insider.sample(3)"
   ]
  },
  {
   "cell_type": "code",
   "execution_count": null,
   "id": "dbb03902",
   "metadata": {},
   "outputs": [],
   "source": [
    "insider.to_csv(\"../data/top_sells_certified.csv\")"
   ]
  },
  {
   "cell_type": "code",
   "execution_count": 13,
   "id": "5070bc78",
   "metadata": {},
   "outputs": [],
   "source": [
    "insider[[\"Millions\",\"Rank\"]] = insider[[\"Millions\",\"Rank\"]].astype(\"int64\")\n",
    "top_sells = insider[[\"Rank\",\"Artist\",\"Title\",\"Millions\"]]"
   ]
  },
  {
   "cell_type": "code",
   "execution_count": 14,
   "id": "ad948682",
   "metadata": {},
   "outputs": [
    {
     "data": {
      "text/html": [
       "<div>\n",
       "<style scoped>\n",
       "    .dataframe tbody tr th:only-of-type {\n",
       "        vertical-align: middle;\n",
       "    }\n",
       "\n",
       "    .dataframe tbody tr th {\n",
       "        vertical-align: top;\n",
       "    }\n",
       "\n",
       "    .dataframe thead th {\n",
       "        text-align: right;\n",
       "    }\n",
       "</style>\n",
       "<table border=\"1\" class=\"dataframe\">\n",
       "  <thead>\n",
       "    <tr style=\"text-align: right;\">\n",
       "      <th></th>\n",
       "      <th>Rank</th>\n",
       "      <th>Artist</th>\n",
       "      <th>Title</th>\n",
       "      <th>Millions</th>\n",
       "    </tr>\n",
       "  </thead>\n",
       "  <tbody>\n",
       "    <tr>\n",
       "      <th>0</th>\n",
       "      <td>50</td>\n",
       "      <td>Led Zeppelin</td>\n",
       "      <td>Led Zeppelin II</td>\n",
       "      <td>12</td>\n",
       "    </tr>\n",
       "    <tr>\n",
       "      <th>1</th>\n",
       "      <td>49</td>\n",
       "      <td>Kenny Rogers</td>\n",
       "      <td>Kenny Rogers' Greatest Hits</td>\n",
       "      <td>12</td>\n",
       "    </tr>\n",
       "    <tr>\n",
       "      <th>2</th>\n",
       "      <td>48</td>\n",
       "      <td>Kenny G</td>\n",
       "      <td>Breathless</td>\n",
       "      <td>12</td>\n",
       "    </tr>\n",
       "    <tr>\n",
       "      <th>3</th>\n",
       "      <td>47</td>\n",
       "      <td>Jewel</td>\n",
       "      <td>Pieces of You</td>\n",
       "      <td>12</td>\n",
       "    </tr>\n",
       "    <tr>\n",
       "      <th>4</th>\n",
       "      <td>46</td>\n",
       "      <td>Def Leppard</td>\n",
       "      <td>Hysteria</td>\n",
       "      <td>12</td>\n",
       "    </tr>\n",
       "  </tbody>\n",
       "</table>\n",
       "</div>"
      ],
      "text/plain": [
       "   Rank         Artist                        Title  Millions\n",
       "0    50  Led Zeppelin               Led Zeppelin II        12\n",
       "1    49  Kenny Rogers   Kenny Rogers' Greatest Hits        12\n",
       "2    48       Kenny G                    Breathless        12\n",
       "3    47         Jewel                 Pieces of You        12\n",
       "4    46   Def Leppard                      Hysteria        12"
      ]
     },
     "execution_count": 14,
     "metadata": {},
     "output_type": "execute_result"
    }
   ],
   "source": [
    "top_sells.head()"
   ]
  },
  {
   "cell_type": "code",
   "execution_count": null,
   "id": "624a9a3d",
   "metadata": {},
   "outputs": [],
   "source": [
    "top_sells.to_csv(\"../data/top_sells.csv\")"
   ]
  },
  {
   "cell_type": "markdown",
   "id": "4e1e1d73",
   "metadata": {},
   "source": [
    "#### enriquecimiento top sells"
   ]
  },
  {
   "cell_type": "code",
   "execution_count": 15,
   "id": "f5b9eaab",
   "metadata": {},
   "outputs": [],
   "source": [
    "def urls_llamadas(df, colartista, colalbum): #pasar nombre tabla por parametros\n",
    "    \"\"\"\n",
    "    esta función recibe 3 parámetros:\n",
    "        df = un dataframe\n",
    "        colartista = la columna que se refiere al artista y compatible con url\n",
    "        colalbum = la columna que se reifere al album y compatible con url\n",
    "    llama a la api de last fm del album.\n",
    "    hace un return de una lista de diccionarios con los datos que tiene lastfm de todos los álbumes del dataframe    \n",
    "    \"\"\"\n",
    "    api_urls = []\n",
    "    apikey = os.getenv(\"apikey\")\n",
    "    for s in range(len(df)): #cambiarnombre tabla\n",
    "        artist = df.loc[s,colartista] #tambien pasar nombre columnas por parametros\n",
    "        album = df.loc[s,colalbum]\n",
    "        api_urls.append(f\"http://ws.audioscrobbler.com/2.0/?method=album.getinfo&api_key={apikey}&artist={artist}&album={album}&format=json\")\n",
    "    request_dic = [] \n",
    "    i = 0\n",
    "    for a in api_urls:\n",
    "        res = requests.get(a).json()\n",
    "        request_dic.append(res[\"album\"])\n",
    "        if i%20==0:\n",
    "            print(f\"{i} done\")\n",
    "        elif i == (len(df) -1) :\n",
    "            print(f\"index {i} reached, finished\")\n",
    "        i+=1\n",
    "    return request_dic"
   ]
  },
  {
   "cell_type": "code",
   "execution_count": 16,
   "id": "1fe87035",
   "metadata": {
    "scrolled": true
   },
   "outputs": [
    {
     "name": "stdout",
     "output_type": "stream",
     "text": [
      "0 done\n",
      "20 done\n",
      "40 done\n",
      "index 49 reached, finished\n"
     ]
    }
   ],
   "source": [
    "df = top_sells\n",
    "colartista = \"Artist\"\n",
    "colalbum = \"Title\"\n",
    "req_top_sales = urls_llamadas(df, colartista, colalbum)"
   ]
  },
  {
   "cell_type": "code",
   "execution_count": 17,
   "id": "f64d64fc",
   "metadata": {},
   "outputs": [
    {
     "data": {
      "text/plain": [
       "{'artist': 'Jewel',\n",
       " 'mbid': '0970ae4a-c35a-4c55-8aa4-bb19af6695a4',\n",
       " 'tags': {'tag': [{'url': 'https://www.last.fm/tag/female+vocalists',\n",
       "    'name': 'female vocalists'},\n",
       "   {'url': 'https://www.last.fm/tag/folk', 'name': 'folk'},\n",
       "   {'url': 'https://www.last.fm/tag/pop', 'name': 'pop'},\n",
       "   {'url': 'https://www.last.fm/tag/90s', 'name': '90s'},\n",
       "   {'url': 'https://www.last.fm/tag/singer-songwriter',\n",
       "    'name': 'singer-songwriter'}]},\n",
       " 'playcount': '2934308',\n",
       " 'image': [{'size': 'small',\n",
       "   '#text': 'https://lastfm.freetls.fastly.net/i/u/34s/b5830d83842eef2b4d5bd2648066909d.png'},\n",
       "  {'size': 'medium',\n",
       "   '#text': 'https://lastfm.freetls.fastly.net/i/u/64s/b5830d83842eef2b4d5bd2648066909d.png'},\n",
       "  {'size': 'large',\n",
       "   '#text': 'https://lastfm.freetls.fastly.net/i/u/174s/b5830d83842eef2b4d5bd2648066909d.png'},\n",
       "  {'size': 'extralarge',\n",
       "   '#text': 'https://lastfm.freetls.fastly.net/i/u/300x300/b5830d83842eef2b4d5bd2648066909d.png'},\n",
       "  {'size': 'mega',\n",
       "   '#text': 'https://lastfm.freetls.fastly.net/i/u/300x300/b5830d83842eef2b4d5bd2648066909d.png'},\n",
       "  {'size': '',\n",
       "   '#text': 'https://lastfm.freetls.fastly.net/i/u/300x300/b5830d83842eef2b4d5bd2648066909d.png'}],\n",
       " 'tracks': {'track': [{'streamable': {'fulltrack': '0', '#text': '0'},\n",
       "    'duration': 240,\n",
       "    'url': 'https://www.last.fm/music/Jewel/Pieces+of+You/Who+Will+Save+Your+Soul',\n",
       "    'name': 'Who Will Save Your Soul',\n",
       "    '@attr': {'rank': 1},\n",
       "    'artist': {'url': 'https://www.last.fm/music/Jewel',\n",
       "     'name': 'Jewel',\n",
       "     'mbid': ''}},\n",
       "   {'streamable': {'fulltrack': '0', '#text': '0'},\n",
       "    'duration': 255,\n",
       "    'url': 'https://www.last.fm/music/Jewel/Pieces+of+You/Pieces+of+You',\n",
       "    'name': 'Pieces of You',\n",
       "    '@attr': {'rank': 2},\n",
       "    'artist': {'url': 'https://www.last.fm/music/Jewel',\n",
       "     'name': 'Jewel',\n",
       "     'mbid': ''}},\n",
       "   {'streamable': {'fulltrack': '0', '#text': '0'},\n",
       "    'duration': 149,\n",
       "    'url': 'https://www.last.fm/music/Jewel/Pieces+of+You/Little+Sister',\n",
       "    'name': 'Little Sister',\n",
       "    '@attr': {'rank': 3},\n",
       "    'artist': {'url': 'https://www.last.fm/music/Jewel',\n",
       "     'name': 'Jewel',\n",
       "     'mbid': ''}},\n",
       "   {'streamable': {'fulltrack': '0', '#text': '0'},\n",
       "    'duration': 339,\n",
       "    'url': 'https://www.last.fm/music/Jewel/Pieces+of+You/Foolish+Games',\n",
       "    'name': 'Foolish Games',\n",
       "    '@attr': {'rank': 4},\n",
       "    'artist': {'url': 'https://www.last.fm/music/Jewel',\n",
       "     'name': 'Jewel',\n",
       "     'mbid': ''}},\n",
       "   {'streamable': {'fulltrack': '0', '#text': '0'},\n",
       "    'duration': 188,\n",
       "    'url': 'https://www.last.fm/music/Jewel/Pieces+of+You/Near+You+Always',\n",
       "    'name': 'Near You Always',\n",
       "    '@attr': {'rank': 5},\n",
       "    'artist': {'url': 'https://www.last.fm/music/Jewel',\n",
       "     'name': 'Jewel',\n",
       "     'mbid': ''}},\n",
       "   {'streamable': {'fulltrack': '0', '#text': '0'},\n",
       "    'duration': 403,\n",
       "    'url': 'https://www.last.fm/music/Jewel/Pieces+of+You/Painters',\n",
       "    'name': 'Painters',\n",
       "    '@attr': {'rank': 6},\n",
       "    'artist': {'url': 'https://www.last.fm/music/Jewel',\n",
       "     'name': 'Jewel',\n",
       "     'mbid': ''}},\n",
       "   {'streamable': {'fulltrack': '0', '#text': '0'},\n",
       "    'duration': 215,\n",
       "    'url': 'https://www.last.fm/music/Jewel/Pieces+of+You/Morning+Song',\n",
       "    'name': 'Morning Song',\n",
       "    '@attr': {'rank': 7},\n",
       "    'artist': {'url': 'https://www.last.fm/music/Jewel',\n",
       "     'name': 'Jewel',\n",
       "     'mbid': ''}},\n",
       "   {'streamable': {'fulltrack': '0', '#text': '0'},\n",
       "    'duration': 422,\n",
       "    'url': 'https://www.last.fm/music/Jewel/Pieces+of+You/Adrian',\n",
       "    'name': 'Adrian',\n",
       "    '@attr': {'rank': 8},\n",
       "    'artist': {'url': 'https://www.last.fm/music/Jewel',\n",
       "     'name': 'Jewel',\n",
       "     'mbid': ''}},\n",
       "   {'streamable': {'fulltrack': '0', '#text': '0'},\n",
       "    'duration': 174,\n",
       "    'url': 'https://www.last.fm/music/Jewel/Pieces+of+You/I%27m+Sensitive',\n",
       "    'name': \"I'm Sensitive\",\n",
       "    '@attr': {'rank': 9},\n",
       "    'artist': {'url': 'https://www.last.fm/music/Jewel',\n",
       "     'name': 'Jewel',\n",
       "     'mbid': ''}},\n",
       "   {'streamable': {'fulltrack': '0', '#text': '0'},\n",
       "    'duration': 252,\n",
       "    'url': 'https://www.last.fm/music/Jewel/Pieces+of+You/You+Were+Meant+For+Me',\n",
       "    'name': 'You Were Meant For Me',\n",
       "    '@attr': {'rank': 10},\n",
       "    'artist': {'url': 'https://www.last.fm/music/Jewel',\n",
       "     'name': 'Jewel',\n",
       "     'mbid': ''}},\n",
       "   {'streamable': {'fulltrack': '0', '#text': '0'},\n",
       "    'duration': 214,\n",
       "    'url': 'https://www.last.fm/music/Jewel/Pieces+of+You/Don%27t',\n",
       "    'name': \"Don't\",\n",
       "    '@attr': {'rank': 11},\n",
       "    'artist': {'url': 'https://www.last.fm/music/Jewel',\n",
       "     'name': 'Jewel',\n",
       "     'mbid': ''}},\n",
       "   {'streamable': {'fulltrack': '0', '#text': '0'},\n",
       "    'duration': 229,\n",
       "    'url': 'https://www.last.fm/music/Jewel/Pieces+of+You/Daddy',\n",
       "    'name': 'Daddy',\n",
       "    '@attr': {'rank': 12},\n",
       "    'artist': {'url': 'https://www.last.fm/music/Jewel',\n",
       "     'name': 'Jewel',\n",
       "     'mbid': ''}},\n",
       "   {'streamable': {'fulltrack': '0', '#text': '0'},\n",
       "    'duration': 158,\n",
       "    'url': 'https://www.last.fm/music/Jewel/Pieces+of+You/Angel+Standing+By',\n",
       "    'name': 'Angel Standing By',\n",
       "    '@attr': {'rank': 13},\n",
       "    'artist': {'url': 'https://www.last.fm/music/Jewel',\n",
       "     'name': 'Jewel',\n",
       "     'mbid': ''}},\n",
       "   {'streamable': {'fulltrack': '0', '#text': '0'},\n",
       "    'duration': 272,\n",
       "    'url': 'https://www.last.fm/music/Jewel/Pieces+of+You/Amen',\n",
       "    'name': 'Amen',\n",
       "    '@attr': {'rank': 14},\n",
       "    'artist': {'url': 'https://www.last.fm/music/Jewel',\n",
       "     'name': 'Jewel',\n",
       "     'mbid': ''}}]},\n",
       " 'url': 'https://www.last.fm/music/Jewel/Pieces+of+You',\n",
       " 'name': 'Pieces of You',\n",
       " 'listeners': '391891',\n",
       " 'wiki': {'published': '04 Apr 2009, 15:25',\n",
       "  'summary': 'Pieces of You is the debut album by singer/songwriter Jewel , released in 1995. Though it made little impact initially, who will save your soul eventually received airplay and the album sold over 12 million copies in the USA, making it one of the best selling debut albums ever. It was produced by Ben Keith, who has also produced works for artists such as Neil Young and Patsy Cline. Other hits include foolish games and you were meant for me as well as the UK single morning song After two years, the album was re-released. Featuring the re-recordings for You <a href=\"https://www.last.fm/music/Jewel/Pieces+of+You\">Read more on Last.fm</a>.',\n",
       "  'content': 'Pieces of You is the debut album by singer/songwriter Jewel , released in 1995. Though it made little impact initially, who will save your soul eventually received airplay and the album sold over 12 million copies in the USA, making it one of the best selling debut albums ever. It was produced by Ben Keith, who has also produced works for artists such as Neil Young and Patsy Cline. \\nOther hits include foolish games  and you were meant for me  as well as the UK single morning song \\n\\nAfter two years, the album was re-released. Featuring the re-recordings for You Were Meant for Me and Foolish Games.\\n\\nPersonnel \\n\\n    * Jewel  - guitar, vocals\\n    * Robbie Buchanan - piano\\n    * Oscar Butterworth - drums\\n    * Charlotte Caffey - piano\\n    * Tim Drummond - bass\\n    * Mark Howard - bass\\n    * Spooner Oldham - keyboard\\n    * Kristin Wilkinson - strings\\n\\nProduction\\n\\n    * Producer: Ben Keith\\n    * Engineers: Tim Mulligan, John Nowland\\n    * Assistant engineers: John Dixon, John Mausmann\\n    * Mixing: Gene Eichelberger, Tim Mulligan, John Nowland, Joe Baldridge\\n    * Mastering: Tim Mulligan\\n    * A&R: Jenny Price\\n    * Production coordination: Gena Maria Rankin\\n    * Digital editing: Tim Mulligan\\n    * Arrangers: Charlotte Caffey, Jewel\\n    * Art direction: John Codling\\n    * Photography: Hugh Hales-Tooke\\n <a href=\"https://www.last.fm/music/Jewel/Pieces+of+You\">Read more on Last.fm</a>. User-contributed text is available under the Creative Commons By-SA License; additional terms may apply.'}}"
      ]
     },
     "execution_count": 17,
     "metadata": {},
     "output_type": "execute_result"
    }
   ],
   "source": [
    "req_top_sales[3]"
   ]
  },
  {
   "cell_type": "code",
   "execution_count": null,
   "id": "03093279",
   "metadata": {},
   "outputs": [],
   "source": [
    "top_sales_df = pd.DataFrame(req_top_sales)\n",
    "top_sales_df.sample(3)"
   ]
  },
  {
   "cell_type": "code",
   "execution_count": null,
   "id": "2c9fc74a",
   "metadata": {},
   "outputs": [],
   "source": [
    "top_50_sales = top_sales_df[[\"artist\",\"name\",\"playcount\",\"listeners\"]]\n",
    "top_50_sales.sample(3)"
   ]
  },
  {
   "cell_type": "code",
   "execution_count": null,
   "id": "b312d72b",
   "metadata": {},
   "outputs": [],
   "source": [
    "top_50_sales_rich = top_sells.merge(top_50_sales,left_index=True, right_index=True)\n",
    "top_50_sales_rich.sample(3)"
   ]
  },
  {
   "cell_type": "code",
   "execution_count": null,
   "id": "e2a02588",
   "metadata": {},
   "outputs": [],
   "source": [
    "top_sales_rich = top_50_sales_rich[[\"Rank\",\"Artist\",\"Title\",\"playcount\",\"listeners\"]]\n",
    "top_sales_rich.sample(3)"
   ]
  },
  {
   "cell_type": "code",
   "execution_count": null,
   "id": "909ff164",
   "metadata": {},
   "outputs": [],
   "source": [
    "top_sales_rich.to_csv(\"../data/top_sells_rich.csv\")"
   ]
  },
  {
   "cell_type": "markdown",
   "id": "526745c7",
   "metadata": {},
   "source": [
    "# Top 500 albums Rolling Stones enrinquecimiento con LastFM"
   ]
  },
  {
   "cell_type": "markdown",
   "id": "04f95b75",
   "metadata": {},
   "source": [
    "### carga de archivo limpio"
   ]
  },
  {
   "cell_type": "code",
   "execution_count": null,
   "id": "7adf1a39",
   "metadata": {
    "scrolled": true
   },
   "outputs": [],
   "source": [
    "stone = pd.read_csv(\"../data/stone.csv\", encoding='latin-1')\n",
    "stone = stone.drop(\"Unnamed: 0\",axis=1)\n",
    "stone.sample(3)"
   ]
  },
  {
   "cell_type": "markdown",
   "id": "1b3fe5bd",
   "metadata": {},
   "source": [
    "### llamada a las apis de lastFM"
   ]
  },
  {
   "cell_type": "code",
   "execution_count": null,
   "id": "bb7c64c7",
   "metadata": {},
   "outputs": [],
   "source": [
    "def urls_llamadas ():\n",
    "    api_urls = []\n",
    "    apikey = os.getenv(\"apikey\")\n",
    "    for s in range(len(stone)):\n",
    "        artist = stone.loc[s,'Artist']\n",
    "        album = stone.loc[s,'Alb_url']\n",
    "        api_urls.append(f\"http://ws.audioscrobbler.com/2.0/?method=album.getinfo&api_key={apikey}&artist={artist}&album={album}&format=json\")\n",
    "    request_dic = [] \n",
    "    i = 0\n",
    "    for a in api_urls:\n",
    "        res = requests.get(a).json()\n",
    "        request_dic.append(res[\"album\"])\n",
    "        if i%50==0:\n",
    "            print(f\"{i} done\")\n",
    "        elif i == 499:\n",
    "            print(f\"index {i} reached, finished\")\n",
    "        i+=1\n",
    "    return request_dic\n",
    "\n",
    "\n"
   ]
  },
  {
   "cell_type": "code",
   "execution_count": null,
   "id": "eb22e3ea",
   "metadata": {},
   "outputs": [],
   "source": [
    "Top500_last = urls_llamadas()"
   ]
  },
  {
   "cell_type": "code",
   "execution_count": null,
   "id": "f6417f73",
   "metadata": {},
   "outputs": [],
   "source": [
    "Top500_last_df = pd.DataFrame(Top500_last)"
   ]
  },
  {
   "cell_type": "code",
   "execution_count": null,
   "id": "14685ec8",
   "metadata": {},
   "outputs": [],
   "source": [
    "Top500_last_df.sample(3)"
   ]
  },
  {
   "cell_type": "code",
   "execution_count": null,
   "id": "9e2222ca",
   "metadata": {},
   "outputs": [],
   "source": [
    "Top500_last_df.to_csv(\"../data/Top500LastFM_tracks.csv\") #meloguardoporsiacaso"
   ]
  },
  {
   "cell_type": "code",
   "execution_count": null,
   "id": "0bb9ead9",
   "metadata": {},
   "outputs": [],
   "source": [
    "Lastfm_500 = Top500_last_df[[\"artist\",\"playcount\",\"name\",\"listeners\"]]\n",
    "Lastfm_500.sample(3)"
   ]
  },
  {
   "cell_type": "code",
   "execution_count": null,
   "id": "8c50f221",
   "metadata": {},
   "outputs": [],
   "source": [
    "stone_500 = stone[[\"Number\",\"Year\",\"Album\",\"Artist\",\"Gen\",\"Subgen\"]]\n",
    "stone_500.sample(3)"
   ]
  },
  {
   "cell_type": "code",
   "execution_count": null,
   "id": "0fc150e5",
   "metadata": {},
   "outputs": [],
   "source": [
    "#stone_alb.merge(reqs,left_index=True, right_index=True)\n",
    "stone_500_richment = stone_500.merge(Lastfm_500,left_index=True, right_index=True)\n",
    "stone_500_richment.sample(3)"
   ]
  },
  {
   "cell_type": "code",
   "execution_count": null,
   "id": "833941cf",
   "metadata": {},
   "outputs": [],
   "source": [
    "stone_500_rich =stone_500_richment [[\"Number\",\"Year\",\"Album\",\"Artist\",\"Gen\",\"Subgen\",\"playcount\",\"listeners\"]]\n",
    "stone_500_rich"
   ]
  },
  {
   "cell_type": "code",
   "execution_count": null,
   "id": "9f7c4776",
   "metadata": {},
   "outputs": [],
   "source": [
    "stone_500_rich.to_csv(\"../data/stone_500_rich.csv\")"
   ]
  },
  {
   "cell_type": "code",
   "execution_count": null,
   "id": "9c7241e8",
   "metadata": {},
   "outputs": [],
   "source": []
  }
 ],
 "metadata": {
  "kernelspec": {
   "display_name": "ironhack",
   "language": "python",
   "name": "ironhack"
  },
  "language_info": {
   "codemirror_mode": {
    "name": "ipython",
    "version": 3
   },
   "file_extension": ".py",
   "mimetype": "text/x-python",
   "name": "python",
   "nbconvert_exporter": "python",
   "pygments_lexer": "ipython3",
   "version": "3.8.5"
  }
 },
 "nbformat": 4,
 "nbformat_minor": 5
}
