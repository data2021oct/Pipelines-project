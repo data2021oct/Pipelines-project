{
 "cells": [
  {
   "cell_type": "code",
   "execution_count": 1,
   "id": "8b06d8f8",
   "metadata": {},
   "outputs": [],
   "source": [
    "import requests \n",
    "import json\n",
    "import os\n",
    "from dotenv import load_dotenv\n",
    "import pandas as pd\n",
    "from pandas import json_normalize\n",
    "import tweepy\n",
    "import time\n",
    "load_dotenv()\n",
    "import re"
   ]
  },
  {
   "cell_type": "code",
   "execution_count": 2,
   "id": "e025d5b7",
   "metadata": {},
   "outputs": [],
   "source": [
    "stone = pd.read_excel(\"../data/musicbrainzset.xlsx\")"
   ]
  },
  {
   "cell_type": "code",
   "execution_count": 3,
   "id": "448852f8",
   "metadata": {},
   "outputs": [
    {
     "name": "stdout",
     "output_type": "stream",
     "text": [
      "<class 'pandas.core.frame.DataFrame'>\n",
      "RangeIndex: 500 entries, 0 to 499\n",
      "Data columns (total 8 columns):\n",
      " #   Column    Non-Null Count  Dtype  \n",
      "---  ------    --------------  -----  \n",
      " 0   Number    500 non-null    int64  \n",
      " 1   Year      500 non-null    int64  \n",
      " 2   Album     500 non-null    object \n",
      " 3   Artist    500 non-null    object \n",
      " 4   Type      500 non-null    object \n",
      " 5   Rating    462 non-null    float64\n",
      " 6   Releases  500 non-null    int64  \n",
      " 7   Genre     500 non-null    object \n",
      "dtypes: float64(1), int64(3), object(4)\n",
      "memory usage: 31.4+ KB\n"
     ]
    }
   ],
   "source": [
    "stone.info()"
   ]
  },
  {
   "cell_type": "code",
   "execution_count": 4,
   "id": "23bdcfdc",
   "metadata": {
    "scrolled": true
   },
   "outputs": [
    {
     "data": {
      "text/plain": [
       "Number       0\n",
       "Year         0\n",
       "Album        0\n",
       "Artist       0\n",
       "Type         0\n",
       "Rating      38\n",
       "Releases     0\n",
       "Genre        0\n",
       "dtype: int64"
      ]
     },
     "execution_count": 4,
     "metadata": {},
     "output_type": "execute_result"
    }
   ],
   "source": [
    "stone.isna().sum()"
   ]
  },
  {
   "cell_type": "code",
   "execution_count": 5,
   "id": "b1ae5fc5",
   "metadata": {},
   "outputs": [
    {
     "data": {
      "text/plain": [
       "4.227922077922079"
      ]
     },
     "execution_count": 5,
     "metadata": {},
     "output_type": "execute_result"
    }
   ],
   "source": [
    "stone.Rating.mean()"
   ]
  },
  {
   "cell_type": "code",
   "execution_count": 6,
   "id": "8fe82237",
   "metadata": {},
   "outputs": [],
   "source": [
    "#como hay nombres de álbumes que son números, los convertimos a string.\n",
    "def num_string(dato):\n",
    "    if type(dato)== int:\n",
    "        return str(dato)\n",
    "    else:\n",
    "        return dato"
   ]
  },
  {
   "cell_type": "code",
   "execution_count": 7,
   "id": "8399f03b",
   "metadata": {},
   "outputs": [],
   "source": [
    "stone[\"Album\"] = stone[\"Album\"].apply(num_string)"
   ]
  },
  {
   "cell_type": "code",
   "execution_count": 8,
   "id": "13f0dc19",
   "metadata": {},
   "outputs": [],
   "source": [
    "stone.Artist = stone.Artist.str.strip()\n",
    "stone.Album = stone.Album.str.strip()\n",
    "stone.Type = stone.Type.str.strip()\n",
    "stone.Genre = stone.Genre.str.strip()"
   ]
  },
  {
   "cell_type": "code",
   "execution_count": 9,
   "id": "cca86f00",
   "metadata": {},
   "outputs": [],
   "source": [
    "stone[\"Gen\"] = stone[\"Genre\"].str.extract(r\"(^([^,])+)\")[0]\n",
    "stone[\"Subgenre\"] = stone[\"Genre\"].str.extract(r\",\\s*(.*$)\")[0]"
   ]
  },
  {
   "cell_type": "code",
   "execution_count": 10,
   "id": "912ac12b",
   "metadata": {},
   "outputs": [],
   "source": [
    "stone.Gen = stone.Gen.str.strip()\n",
    "stone.Subgenre = stone.Subgenre.str.strip()"
   ]
  },
  {
   "cell_type": "code",
   "execution_count": 11,
   "id": "7f3500b8",
   "metadata": {},
   "outputs": [],
   "source": [
    "stone.Rating.fillna(0,inplace = True)\n",
    "#no rellenamos los nans de rating para que luego no estropeen la media y sean considerada float\n",
    "stone.Subgenre.fillna(\"None\",inplace = True)"
   ]
  },
  {
   "cell_type": "code",
   "execution_count": 12,
   "id": "7e65a6ff",
   "metadata": {},
   "outputs": [],
   "source": [
    "#hay algunos títulos de album que hay que cambiar de nombre\n",
    "stone.Album = stone.Album.str.replace(r'(Metallica...The Black Album..)',\"Metallica\",regex=True)\n",
    "stone.Album = stone.Album.str.replace(r'(Eagles...st album.)',\"Eagles\",regex=True)\n",
    "stone.Artist = stone.Artist.str.replace(\"Neil Young with Crazy Horse\",\"Neil Young & Crazy Horse\",regex=True)\n",
    "stone.Artist = stone.Artist.str.replace(r\"(Bob Dylan...The Band)\",\"Bob Dylan And The Band\",regex=True)\n",
    "stone.Artist = stone.Artist.str.replace(r\"(Prince\\s+.*)\",\"Prince & The Revolution\",regex=True)\n",
    "stone.Artist = stone.Artist.str.replace(r\"(Rufus...Chaka Khan)\",\"Rufus\",regex=True)\n",
    "stone.Album = stone.Album.str.replace(r'(Proud Mary.*)',\"Best Of / Proud Mary\",regex=True)\n",
    "stone.Artist = stone.Artist.str.replace(r'(.*The Velvet Underground.*)',\"The Velvet Underground\",regex= True)\n",
    "stone.Artist = stone.Artist.str.replace(\"‐\",\"-\",regex = True)\n",
    "stone.Album = stone.Album.str.replace(\"‐\",\"-\",regex = True)\n",
    "stone.Gen = stone.Gen.str.replace(\"piunk\",\"punk\",regex = True)\n",
    "stone.Gen = stone.Gen.str.replace(\"punk rock\",\"punk\",regex = True)\n",
    "stone.Gen = stone.Gen.str.replace(\"folk rock\",\"folk\",regex = True)"
   ]
  },
  {
   "cell_type": "code",
   "execution_count": 13,
   "id": "b5e6b24a",
   "metadata": {},
   "outputs": [],
   "source": [
    "#creamos nuevas columnas que haremos compatibles con url\n",
    "stone[\"Alb_url\"] = stone[\"Album\"]\n",
    "stone[\"Art_url\"] = stone[\"Artist\"]"
   ]
  },
  {
   "cell_type": "code",
   "execution_count": 14,
   "id": "35ea1b58",
   "metadata": {},
   "outputs": [],
   "source": [
    "#algunos nombres de discos hay que cambiarlos\n",
    "stone.Alb_url = stone.Alb_url.str.replace(r'(^The Beatles\\s..The White Album..)',\"The Beatles (Remastered)\",regex=True)\n",
    "stone.Alb_url = stone.Alb_url.str.replace(r'(^The Band...The Brown Album..)',\"The Band\",regex=True)\n",
    "stone.Alb_url = stone.Alb_url.str.replace(r'(^Sign.*the Times$)',\"Sign 'O' The Times\",regex=True)"
   ]
  },
  {
   "cell_type": "code",
   "execution_count": 15,
   "id": "8df090ee",
   "metadata": {},
   "outputs": [],
   "source": [
    "#función que cambia los caracteres especiales para las urls\n",
    "def url_prep(df, colum):\n",
    "    url_replace = {\"'\":\"%27\",\",\":\"%2c\", \"&\":\"%26\",\".\":\"%2e\",\"/\":\"%2f\",\"#\":\"%23\",\"(\":\"%28\",\")\":\"%29\",\"-\":\"%2d\",'\"':\"%22\",r\"(\\s+)\":\"%20\" }\n",
    "    for key,value in url_replace.items():\n",
    "        df[colum] = df[colum].str.replace(key,value,regex=True)"
   ]
  },
  {
   "cell_type": "code",
   "execution_count": 16,
   "id": "fae0ad40",
   "metadata": {},
   "outputs": [],
   "source": [
    "df = stone\n",
    "colum = \"Alb_url\"\n",
    "url_prep(df,colum)\n",
    "colum = \"Art_url\"\n",
    "url_prep(df,colum)"
   ]
  },
  {
   "cell_type": "code",
   "execution_count": 17,
   "id": "c432c0ff",
   "metadata": {
    "scrolled": false
   },
   "outputs": [
    {
     "data": {
      "text/html": [
       "<div>\n",
       "<style scoped>\n",
       "    .dataframe tbody tr th:only-of-type {\n",
       "        vertical-align: middle;\n",
       "    }\n",
       "\n",
       "    .dataframe tbody tr th {\n",
       "        vertical-align: top;\n",
       "    }\n",
       "\n",
       "    .dataframe thead th {\n",
       "        text-align: right;\n",
       "    }\n",
       "</style>\n",
       "<table border=\"1\" class=\"dataframe\">\n",
       "  <thead>\n",
       "    <tr style=\"text-align: right;\">\n",
       "      <th></th>\n",
       "      <th>Number</th>\n",
       "      <th>Year</th>\n",
       "      <th>Album</th>\n",
       "      <th>Artist</th>\n",
       "      <th>Type</th>\n",
       "      <th>Rating</th>\n",
       "      <th>Releases</th>\n",
       "      <th>Genre</th>\n",
       "      <th>Gen</th>\n",
       "      <th>Subgenre</th>\n",
       "      <th>Alb_url</th>\n",
       "      <th>Art_url</th>\n",
       "    </tr>\n",
       "  </thead>\n",
       "  <tbody>\n",
       "    <tr>\n",
       "      <th>497</th>\n",
       "      <td>498</td>\n",
       "      <td>1977</td>\n",
       "      <td>Suicide</td>\n",
       "      <td>Suicide</td>\n",
       "      <td>Album</td>\n",
       "      <td>4.00</td>\n",
       "      <td>10</td>\n",
       "      <td>rock</td>\n",
       "      <td>rock</td>\n",
       "      <td>None</td>\n",
       "      <td>Suicide</td>\n",
       "      <td>Suicide</td>\n",
       "    </tr>\n",
       "    <tr>\n",
       "      <th>164</th>\n",
       "      <td>165</td>\n",
       "      <td>1983</td>\n",
       "      <td>Murmur</td>\n",
       "      <td>R.E.M.</td>\n",
       "      <td>Album</td>\n",
       "      <td>4.20</td>\n",
       "      <td>18</td>\n",
       "      <td>rock , alternative</td>\n",
       "      <td>rock</td>\n",
       "      <td>alternative</td>\n",
       "      <td>Murmur</td>\n",
       "      <td>R%2eE%2eM%2e</td>\n",
       "    </tr>\n",
       "    <tr>\n",
       "      <th>375</th>\n",
       "      <td>376</td>\n",
       "      <td>1998</td>\n",
       "      <td>In the Aeroplane Over the Sea</td>\n",
       "      <td>Neutral Milk Hotel</td>\n",
       "      <td>Album</td>\n",
       "      <td>4.55</td>\n",
       "      <td>10</td>\n",
       "      <td>folk , alternative</td>\n",
       "      <td>folk</td>\n",
       "      <td>alternative</td>\n",
       "      <td>In%20the%20Aeroplane%20Over%20the%20Sea</td>\n",
       "      <td>Neutral%20Milk%20Hotel</td>\n",
       "    </tr>\n",
       "  </tbody>\n",
       "</table>\n",
       "</div>"
      ],
      "text/plain": [
       "     Number  Year                          Album              Artist   Type  \\\n",
       "497     498  1977                        Suicide             Suicide  Album   \n",
       "164     165  1983                         Murmur              R.E.M.  Album   \n",
       "375     376  1998  In the Aeroplane Over the Sea  Neutral Milk Hotel  Album   \n",
       "\n",
       "     Rating  Releases               Genre   Gen     Subgenre  \\\n",
       "497    4.00        10                rock  rock         None   \n",
       "164    4.20        18  rock , alternative  rock  alternative   \n",
       "375    4.55        10  folk , alternative  folk  alternative   \n",
       "\n",
       "                                     Alb_url                 Art_url  \n",
       "497                                  Suicide                 Suicide  \n",
       "164                                   Murmur            R%2eE%2eM%2e  \n",
       "375  In%20the%20Aeroplane%20Over%20the%20Sea  Neutral%20Milk%20Hotel  "
      ]
     },
     "execution_count": 17,
     "metadata": {},
     "output_type": "execute_result"
    }
   ],
   "source": [
    "stone.sample(3)"
   ]
  },
  {
   "cell_type": "markdown",
   "id": "61c2d5b1",
   "metadata": {},
   "source": [
    "# Principal enrichment"
   ]
  },
  {
   "cell_type": "code",
   "execution_count": 18,
   "id": "9b3fd553",
   "metadata": {},
   "outputs": [],
   "source": [
    "apikey = os.getenv(\"apikey\") #apikey de lastfm"
   ]
  },
  {
   "cell_type": "code",
   "execution_count": 19,
   "id": "e6026f7b",
   "metadata": {},
   "outputs": [],
   "source": [
    "#comprobamos respuestas de las urls\n",
    "def urls_llamadas (df,art,alb):\n",
    "    api_urls = []\n",
    "    apikey = os.getenv(\"apikey\")\n",
    "    for s in range(len(df)):\n",
    "        artist = stone.loc[s,art]\n",
    "        album = stone.loc[s,alb]\n",
    "        api_urls.append(f\"http://ws.audioscrobbler.com/2.0/?method=album.getinfo&api_key={apikey}&artist={artist}&album={album}&format=json\")\n",
    "    request_dic = [] \n",
    "    i = 0\n",
    "    for a in api_urls:\n",
    "        res = requests.get(a).json()\n",
    "        request_dic.append(res[\"album\"])\n",
    "        if i%50 == 0:\n",
    "            print(f\"{i} done\")\n",
    "        elif i == (len(api_urls)-1):\n",
    "            print(f\"{i} done,finished\")\n",
    "        i+=1\n",
    "    return request_dic"
   ]
  },
  {
   "cell_type": "code",
   "execution_count": 20,
   "id": "d7dfdfa7",
   "metadata": {},
   "outputs": [
    {
     "name": "stdout",
     "output_type": "stream",
     "text": [
      "0 done\n",
      "50 done\n",
      "100 done\n",
      "150 done\n",
      "200 done\n",
      "250 done\n",
      "300 done\n",
      "350 done\n",
      "400 done\n",
      "450 done\n",
      "499 done,finished\n"
     ]
    }
   ],
   "source": [
    "df = stone\n",
    "art = \"Art_url\"\n",
    "alb = \"Alb_url\"\n",
    "Top500_last = urls_llamadas (df,art,alb)"
   ]
  },
  {
   "cell_type": "code",
   "execution_count": 21,
   "id": "2b52da3a",
   "metadata": {},
   "outputs": [],
   "source": [
    "stone.to_csv(\"../data/stone.csv\",index=False)"
   ]
  },
  {
   "cell_type": "code",
   "execution_count": 22,
   "id": "dfc9922a",
   "metadata": {},
   "outputs": [],
   "source": [
    "Top500_last_df = pd.DataFrame(Top500_last)"
   ]
  },
  {
   "cell_type": "code",
   "execution_count": 23,
   "id": "b4f5ddff",
   "metadata": {},
   "outputs": [
    {
     "data": {
      "text/html": [
       "<div>\n",
       "<style scoped>\n",
       "    .dataframe tbody tr th:only-of-type {\n",
       "        vertical-align: middle;\n",
       "    }\n",
       "\n",
       "    .dataframe tbody tr th {\n",
       "        vertical-align: top;\n",
       "    }\n",
       "\n",
       "    .dataframe thead th {\n",
       "        text-align: right;\n",
       "    }\n",
       "</style>\n",
       "<table border=\"1\" class=\"dataframe\">\n",
       "  <thead>\n",
       "    <tr style=\"text-align: right;\">\n",
       "      <th></th>\n",
       "      <th>artist</th>\n",
       "      <th>mbid</th>\n",
       "      <th>tags</th>\n",
       "      <th>playcount</th>\n",
       "      <th>image</th>\n",
       "      <th>tracks</th>\n",
       "      <th>url</th>\n",
       "      <th>name</th>\n",
       "      <th>listeners</th>\n",
       "      <th>wiki</th>\n",
       "    </tr>\n",
       "  </thead>\n",
       "  <tbody>\n",
       "    <tr>\n",
       "      <th>0</th>\n",
       "      <td>Marvin Gaye</td>\n",
       "      <td>0f2ab0b8-99a3-41e6-a07a-c2f506bd5e34</td>\n",
       "      <td>{'tag': [{'url': 'https://www.last.fm/tag/soul...</td>\n",
       "      <td>5228524</td>\n",
       "      <td>[{'size': 'small', '#text': 'https://lastfm.fr...</td>\n",
       "      <td>{'track': [{'streamable': {'fulltrack': '0', '...</td>\n",
       "      <td>https://www.last.fm/music/Marvin+Gaye/What%27s...</td>\n",
       "      <td>What's Going On</td>\n",
       "      <td>544564</td>\n",
       "      <td>{'published': '08 Aug 2012, 04:25', 'summary':...</td>\n",
       "    </tr>\n",
       "    <tr>\n",
       "      <th>1</th>\n",
       "      <td>The Beach Boys</td>\n",
       "      <td>05b2f6c8-f9fd-4499-bd70-6f7d629a9cd4</td>\n",
       "      <td>{'tag': [{'url': 'https://www.last.fm/tag/60s'...</td>\n",
       "      <td>13406086</td>\n",
       "      <td>[{'size': 'small', '#text': 'https://lastfm.fr...</td>\n",
       "      <td>{'track': [{'streamable': {'fulltrack': '0', '...</td>\n",
       "      <td>https://www.last.fm/music/The+Beach+Boys/Pet+S...</td>\n",
       "      <td>Pet Sounds</td>\n",
       "      <td>543499</td>\n",
       "      <td>{'published': '07 Jul 2017, 12:48', 'summary':...</td>\n",
       "    </tr>\n",
       "    <tr>\n",
       "      <th>2</th>\n",
       "      <td>Joni Mitchell</td>\n",
       "      <td>008a8b2e-3b20-3d77-999b-4f27378bf868</td>\n",
       "      <td>{'tag': [{'url': 'https://www.last.fm/tag/folk...</td>\n",
       "      <td>9357665</td>\n",
       "      <td>[{'size': 'small', '#text': 'https://lastfm.fr...</td>\n",
       "      <td>{'track': [{'streamable': {'fulltrack': '0', '...</td>\n",
       "      <td>https://www.last.fm/music/Joni+Mitchell/Blue</td>\n",
       "      <td>Blue</td>\n",
       "      <td>535579</td>\n",
       "      <td>{'published': '08 Aug 2021, 14:19', 'summary':...</td>\n",
       "    </tr>\n",
       "  </tbody>\n",
       "</table>\n",
       "</div>"
      ],
      "text/plain": [
       "           artist                                  mbid  \\\n",
       "0     Marvin Gaye  0f2ab0b8-99a3-41e6-a07a-c2f506bd5e34   \n",
       "1  The Beach Boys  05b2f6c8-f9fd-4499-bd70-6f7d629a9cd4   \n",
       "2   Joni Mitchell  008a8b2e-3b20-3d77-999b-4f27378bf868   \n",
       "\n",
       "                                                tags playcount  \\\n",
       "0  {'tag': [{'url': 'https://www.last.fm/tag/soul...   5228524   \n",
       "1  {'tag': [{'url': 'https://www.last.fm/tag/60s'...  13406086   \n",
       "2  {'tag': [{'url': 'https://www.last.fm/tag/folk...   9357665   \n",
       "\n",
       "                                               image  \\\n",
       "0  [{'size': 'small', '#text': 'https://lastfm.fr...   \n",
       "1  [{'size': 'small', '#text': 'https://lastfm.fr...   \n",
       "2  [{'size': 'small', '#text': 'https://lastfm.fr...   \n",
       "\n",
       "                                              tracks  \\\n",
       "0  {'track': [{'streamable': {'fulltrack': '0', '...   \n",
       "1  {'track': [{'streamable': {'fulltrack': '0', '...   \n",
       "2  {'track': [{'streamable': {'fulltrack': '0', '...   \n",
       "\n",
       "                                                 url             name  \\\n",
       "0  https://www.last.fm/music/Marvin+Gaye/What%27s...  What's Going On   \n",
       "1  https://www.last.fm/music/The+Beach+Boys/Pet+S...       Pet Sounds   \n",
       "2       https://www.last.fm/music/Joni+Mitchell/Blue             Blue   \n",
       "\n",
       "  listeners                                               wiki  \n",
       "0    544564  {'published': '08 Aug 2012, 04:25', 'summary':...  \n",
       "1    543499  {'published': '07 Jul 2017, 12:48', 'summary':...  \n",
       "2    535579  {'published': '08 Aug 2021, 14:19', 'summary':...  "
      ]
     },
     "execution_count": 23,
     "metadata": {},
     "output_type": "execute_result"
    }
   ],
   "source": [
    "Top500_last_df.head(3)"
   ]
  },
  {
   "cell_type": "code",
   "execution_count": 24,
   "id": "94f917f8",
   "metadata": {},
   "outputs": [],
   "source": [
    "Top500_last_df.to_csv(\"../data/otras/Top500LastFM_tracks.csv\",index=False) #meloguardoporsiacaso"
   ]
  },
  {
   "cell_type": "code",
   "execution_count": 25,
   "id": "7a3cbd90",
   "metadata": {},
   "outputs": [
    {
     "data": {
      "text/html": [
       "<div>\n",
       "<style scoped>\n",
       "    .dataframe tbody tr th:only-of-type {\n",
       "        vertical-align: middle;\n",
       "    }\n",
       "\n",
       "    .dataframe tbody tr th {\n",
       "        vertical-align: top;\n",
       "    }\n",
       "\n",
       "    .dataframe thead th {\n",
       "        text-align: right;\n",
       "    }\n",
       "</style>\n",
       "<table border=\"1\" class=\"dataframe\">\n",
       "  <thead>\n",
       "    <tr style=\"text-align: right;\">\n",
       "      <th></th>\n",
       "      <th>artist</th>\n",
       "      <th>mbid</th>\n",
       "      <th>tags</th>\n",
       "      <th>playcount</th>\n",
       "      <th>image</th>\n",
       "      <th>tracks</th>\n",
       "      <th>url</th>\n",
       "      <th>name</th>\n",
       "      <th>listeners</th>\n",
       "      <th>wiki</th>\n",
       "    </tr>\n",
       "  </thead>\n",
       "  <tbody>\n",
       "    <tr>\n",
       "      <th>404</th>\n",
       "      <td>Various Artists</td>\n",
       "      <td></td>\n",
       "      <td>{'tag': [{'url': 'https://www.last.fm/tag/psyc...</td>\n",
       "      <td>7335</td>\n",
       "      <td>[{'size': 'small', '#text': 'https://lastfm.fr...</td>\n",
       "      <td>NaN</td>\n",
       "      <td>https://www.last.fm/music/Various+Artists/Nugg...</td>\n",
       "      <td>Nuggets: Original Artyfacts from the First Psy...</td>\n",
       "      <td>244</td>\n",
       "      <td>NaN</td>\n",
       "    </tr>\n",
       "  </tbody>\n",
       "</table>\n",
       "</div>"
      ],
      "text/plain": [
       "              artist mbid                                               tags  \\\n",
       "404  Various Artists       {'tag': [{'url': 'https://www.last.fm/tag/psyc...   \n",
       "\n",
       "    playcount                                              image tracks  \\\n",
       "404      7335  [{'size': 'small', '#text': 'https://lastfm.fr...    NaN   \n",
       "\n",
       "                                                   url  \\\n",
       "404  https://www.last.fm/music/Various+Artists/Nugg...   \n",
       "\n",
       "                                                  name listeners wiki  \n",
       "404  Nuggets: Original Artyfacts from the First Psy...       244  NaN  "
      ]
     },
     "execution_count": 25,
     "metadata": {},
     "output_type": "execute_result"
    }
   ],
   "source": [
    "Top500_last_df.sample()"
   ]
  },
  {
   "cell_type": "code",
   "execution_count": 26,
   "id": "0a55c542",
   "metadata": {},
   "outputs": [],
   "source": [
    "Top500_last_df[[\"playcount\",\"listeners\"]] = Top500_last_df[[\"playcount\",\"listeners\"]].astype(\"int64\")"
   ]
  },
  {
   "cell_type": "code",
   "execution_count": 27,
   "id": "16e98d7c",
   "metadata": {},
   "outputs": [
    {
     "data": {
      "text/html": [
       "<div>\n",
       "<style scoped>\n",
       "    .dataframe tbody tr th:only-of-type {\n",
       "        vertical-align: middle;\n",
       "    }\n",
       "\n",
       "    .dataframe tbody tr th {\n",
       "        vertical-align: top;\n",
       "    }\n",
       "\n",
       "    .dataframe thead th {\n",
       "        text-align: right;\n",
       "    }\n",
       "</style>\n",
       "<table border=\"1\" class=\"dataframe\">\n",
       "  <thead>\n",
       "    <tr style=\"text-align: right;\">\n",
       "      <th></th>\n",
       "      <th>artist</th>\n",
       "      <th>playcount</th>\n",
       "      <th>name</th>\n",
       "      <th>listeners</th>\n",
       "    </tr>\n",
       "  </thead>\n",
       "  <tbody>\n",
       "    <tr>\n",
       "      <th>0</th>\n",
       "      <td>Marvin Gaye</td>\n",
       "      <td>5228524</td>\n",
       "      <td>What's Going On</td>\n",
       "      <td>544564</td>\n",
       "    </tr>\n",
       "    <tr>\n",
       "      <th>1</th>\n",
       "      <td>The Beach Boys</td>\n",
       "      <td>13406086</td>\n",
       "      <td>Pet Sounds</td>\n",
       "      <td>543499</td>\n",
       "    </tr>\n",
       "    <tr>\n",
       "      <th>2</th>\n",
       "      <td>Joni Mitchell</td>\n",
       "      <td>9357665</td>\n",
       "      <td>Blue</td>\n",
       "      <td>535579</td>\n",
       "    </tr>\n",
       "  </tbody>\n",
       "</table>\n",
       "</div>"
      ],
      "text/plain": [
       "           artist  playcount             name  listeners\n",
       "0     Marvin Gaye    5228524  What's Going On     544564\n",
       "1  The Beach Boys   13406086       Pet Sounds     543499\n",
       "2   Joni Mitchell    9357665             Blue     535579"
      ]
     },
     "execution_count": 27,
     "metadata": {},
     "output_type": "execute_result"
    }
   ],
   "source": [
    "Lastfm_500 = Top500_last_df[[\"artist\",\"playcount\",\"name\",\"listeners\"]]\n",
    "Lastfm_500.head(3)"
   ]
  },
  {
   "cell_type": "code",
   "execution_count": 28,
   "id": "8f4f9514",
   "metadata": {},
   "outputs": [
    {
     "data": {
      "text/html": [
       "<div>\n",
       "<style scoped>\n",
       "    .dataframe tbody tr th:only-of-type {\n",
       "        vertical-align: middle;\n",
       "    }\n",
       "\n",
       "    .dataframe tbody tr th {\n",
       "        vertical-align: top;\n",
       "    }\n",
       "\n",
       "    .dataframe thead th {\n",
       "        text-align: right;\n",
       "    }\n",
       "</style>\n",
       "<table border=\"1\" class=\"dataframe\">\n",
       "  <thead>\n",
       "    <tr style=\"text-align: right;\">\n",
       "      <th></th>\n",
       "      <th>Number</th>\n",
       "      <th>Year</th>\n",
       "      <th>Album</th>\n",
       "      <th>Artist</th>\n",
       "      <th>Type</th>\n",
       "      <th>Rating</th>\n",
       "      <th>Gen</th>\n",
       "    </tr>\n",
       "  </thead>\n",
       "  <tbody>\n",
       "    <tr>\n",
       "      <th>32</th>\n",
       "      <td>33</td>\n",
       "      <td>2006</td>\n",
       "      <td>Back to Black</td>\n",
       "      <td>Amy Winehouse</td>\n",
       "      <td>Album</td>\n",
       "      <td>4.10</td>\n",
       "      <td>soul</td>\n",
       "    </tr>\n",
       "    <tr>\n",
       "      <th>171</th>\n",
       "      <td>172</td>\n",
       "      <td>1970</td>\n",
       "      <td>Bridge Over Troubled Water</td>\n",
       "      <td>Simon &amp; Garfunkel</td>\n",
       "      <td>Album</td>\n",
       "      <td>4.25</td>\n",
       "      <td>folk</td>\n",
       "    </tr>\n",
       "    <tr>\n",
       "      <th>81</th>\n",
       "      <td>82</td>\n",
       "      <td>1971</td>\n",
       "      <td>There's a Riot Goin' On</td>\n",
       "      <td>Sly &amp; the Family Stone</td>\n",
       "      <td>Album</td>\n",
       "      <td>3.65</td>\n",
       "      <td>funk</td>\n",
       "    </tr>\n",
       "  </tbody>\n",
       "</table>\n",
       "</div>"
      ],
      "text/plain": [
       "     Number  Year                       Album                  Artist   Type  \\\n",
       "32       33  2006               Back to Black           Amy Winehouse  Album   \n",
       "171     172  1970  Bridge Over Troubled Water       Simon & Garfunkel  Album   \n",
       "81       82  1971     There's a Riot Goin' On  Sly & the Family Stone  Album   \n",
       "\n",
       "     Rating   Gen  \n",
       "32     4.10  soul  \n",
       "171    4.25  folk  \n",
       "81     3.65  funk  "
      ]
     },
     "execution_count": 28,
     "metadata": {},
     "output_type": "execute_result"
    }
   ],
   "source": [
    "stone_500 = stone[[\"Number\",\"Year\",\"Album\",\"Artist\",\"Type\",\"Rating\",\"Gen\"]]\n",
    "stone_500.sample(3)"
   ]
  },
  {
   "cell_type": "code",
   "execution_count": 29,
   "id": "801ea18c",
   "metadata": {},
   "outputs": [
    {
     "data": {
      "text/html": [
       "<div>\n",
       "<style scoped>\n",
       "    .dataframe tbody tr th:only-of-type {\n",
       "        vertical-align: middle;\n",
       "    }\n",
       "\n",
       "    .dataframe tbody tr th {\n",
       "        vertical-align: top;\n",
       "    }\n",
       "\n",
       "    .dataframe thead th {\n",
       "        text-align: right;\n",
       "    }\n",
       "</style>\n",
       "<table border=\"1\" class=\"dataframe\">\n",
       "  <thead>\n",
       "    <tr style=\"text-align: right;\">\n",
       "      <th></th>\n",
       "      <th>Number</th>\n",
       "      <th>Year</th>\n",
       "      <th>Album</th>\n",
       "      <th>Artist</th>\n",
       "      <th>Type</th>\n",
       "      <th>Rating</th>\n",
       "      <th>Gen</th>\n",
       "      <th>artist</th>\n",
       "      <th>playcount</th>\n",
       "      <th>name</th>\n",
       "      <th>listeners</th>\n",
       "    </tr>\n",
       "  </thead>\n",
       "  <tbody>\n",
       "    <tr>\n",
       "      <th>0</th>\n",
       "      <td>1</td>\n",
       "      <td>1971</td>\n",
       "      <td>What's Going On</td>\n",
       "      <td>Marvin Gaye</td>\n",
       "      <td>Album</td>\n",
       "      <td>4.65</td>\n",
       "      <td>r&amp;b</td>\n",
       "      <td>Marvin Gaye</td>\n",
       "      <td>5228524</td>\n",
       "      <td>What's Going On</td>\n",
       "      <td>544564</td>\n",
       "    </tr>\n",
       "    <tr>\n",
       "      <th>1</th>\n",
       "      <td>2</td>\n",
       "      <td>1966</td>\n",
       "      <td>Pet Sounds</td>\n",
       "      <td>The Beach Boys</td>\n",
       "      <td>Album</td>\n",
       "      <td>4.45</td>\n",
       "      <td>rock</td>\n",
       "      <td>The Beach Boys</td>\n",
       "      <td>13406086</td>\n",
       "      <td>Pet Sounds</td>\n",
       "      <td>543499</td>\n",
       "    </tr>\n",
       "    <tr>\n",
       "      <th>2</th>\n",
       "      <td>3</td>\n",
       "      <td>1971</td>\n",
       "      <td>Blue</td>\n",
       "      <td>Joni Mitchell</td>\n",
       "      <td>Album</td>\n",
       "      <td>4.45</td>\n",
       "      <td>folk</td>\n",
       "      <td>Joni Mitchell</td>\n",
       "      <td>9357665</td>\n",
       "      <td>Blue</td>\n",
       "      <td>535579</td>\n",
       "    </tr>\n",
       "  </tbody>\n",
       "</table>\n",
       "</div>"
      ],
      "text/plain": [
       "   Number  Year            Album          Artist   Type  Rating   Gen  \\\n",
       "0       1  1971  What's Going On     Marvin Gaye  Album    4.65   r&b   \n",
       "1       2  1966       Pet Sounds  The Beach Boys  Album    4.45  rock   \n",
       "2       3  1971             Blue   Joni Mitchell  Album    4.45  folk   \n",
       "\n",
       "           artist  playcount             name  listeners  \n",
       "0     Marvin Gaye    5228524  What's Going On     544564  \n",
       "1  The Beach Boys   13406086       Pet Sounds     543499  \n",
       "2   Joni Mitchell    9357665             Blue     535579  "
      ]
     },
     "execution_count": 29,
     "metadata": {},
     "output_type": "execute_result"
    }
   ],
   "source": [
    "stone_500_richment = stone_500.merge(Lastfm_500,left_index=True, right_index=True)\n",
    "stone_500_richment.head(3)"
   ]
  },
  {
   "cell_type": "code",
   "execution_count": 30,
   "id": "105f72d6",
   "metadata": {
    "scrolled": true
   },
   "outputs": [
    {
     "data": {
      "text/html": [
       "<div>\n",
       "<style scoped>\n",
       "    .dataframe tbody tr th:only-of-type {\n",
       "        vertical-align: middle;\n",
       "    }\n",
       "\n",
       "    .dataframe tbody tr th {\n",
       "        vertical-align: top;\n",
       "    }\n",
       "\n",
       "    .dataframe thead th {\n",
       "        text-align: right;\n",
       "    }\n",
       "</style>\n",
       "<table border=\"1\" class=\"dataframe\">\n",
       "  <thead>\n",
       "    <tr style=\"text-align: right;\">\n",
       "      <th></th>\n",
       "      <th>Number</th>\n",
       "      <th>Year</th>\n",
       "      <th>Album</th>\n",
       "      <th>Artist</th>\n",
       "      <th>Type</th>\n",
       "      <th>Rating</th>\n",
       "      <th>Gen</th>\n",
       "      <th>playcount</th>\n",
       "      <th>listeners</th>\n",
       "    </tr>\n",
       "  </thead>\n",
       "  <tbody>\n",
       "    <tr>\n",
       "      <th>43</th>\n",
       "      <td>44</td>\n",
       "      <td>1994</td>\n",
       "      <td>Illmatic</td>\n",
       "      <td>Nas</td>\n",
       "      <td>Album</td>\n",
       "      <td>4.15</td>\n",
       "      <td>hip-hop</td>\n",
       "      <td>16395536</td>\n",
       "      <td>898744</td>\n",
       "    </tr>\n",
       "    <tr>\n",
       "      <th>67</th>\n",
       "      <td>68</td>\n",
       "      <td>1985</td>\n",
       "      <td>Hounds of Love</td>\n",
       "      <td>Kate Bush</td>\n",
       "      <td>Album</td>\n",
       "      <td>3.85</td>\n",
       "      <td>pop</td>\n",
       "      <td>12843068</td>\n",
       "      <td>648241</td>\n",
       "    </tr>\n",
       "    <tr>\n",
       "      <th>452</th>\n",
       "      <td>453</td>\n",
       "      <td>1989</td>\n",
       "      <td>Pretty Hate Machine</td>\n",
       "      <td>Nine Inch Nails</td>\n",
       "      <td>Album</td>\n",
       "      <td>2.40</td>\n",
       "      <td>rock</td>\n",
       "      <td>10557599</td>\n",
       "      <td>567703</td>\n",
       "    </tr>\n",
       "  </tbody>\n",
       "</table>\n",
       "</div>"
      ],
      "text/plain": [
       "     Number  Year                Album           Artist   Type  Rating  \\\n",
       "43       44  1994             Illmatic              Nas  Album    4.15   \n",
       "67       68  1985       Hounds of Love        Kate Bush  Album    3.85   \n",
       "452     453  1989  Pretty Hate Machine  Nine Inch Nails  Album    2.40   \n",
       "\n",
       "         Gen  playcount  listeners  \n",
       "43   hip-hop   16395536     898744  \n",
       "67       pop   12843068     648241  \n",
       "452     rock   10557599     567703  "
      ]
     },
     "execution_count": 30,
     "metadata": {},
     "output_type": "execute_result"
    }
   ],
   "source": [
    "stone_500_rich =stone_500_richment [[\"Number\",\"Year\",\"Album\",\"Artist\",\"Type\",\"Rating\",\"Gen\",\"playcount\",\"listeners\"]]\n",
    "stone_500_rich.sample(3)"
   ]
  },
  {
   "cell_type": "code",
   "execution_count": 31,
   "id": "230c2c3e",
   "metadata": {},
   "outputs": [
    {
     "data": {
      "text/html": [
       "<div>\n",
       "<style scoped>\n",
       "    .dataframe tbody tr th:only-of-type {\n",
       "        vertical-align: middle;\n",
       "    }\n",
       "\n",
       "    .dataframe tbody tr th {\n",
       "        vertical-align: top;\n",
       "    }\n",
       "\n",
       "    .dataframe thead th {\n",
       "        text-align: right;\n",
       "    }\n",
       "</style>\n",
       "<table border=\"1\" class=\"dataframe\">\n",
       "  <thead>\n",
       "    <tr style=\"text-align: right;\">\n",
       "      <th></th>\n",
       "      <th>Number</th>\n",
       "      <th>Year</th>\n",
       "      <th>Album</th>\n",
       "      <th>Artist</th>\n",
       "      <th>Type</th>\n",
       "      <th>Rating</th>\n",
       "      <th>Gen</th>\n",
       "      <th>playcount</th>\n",
       "      <th>listeners</th>\n",
       "    </tr>\n",
       "  </thead>\n",
       "  <tbody>\n",
       "    <tr>\n",
       "      <th>464</th>\n",
       "      <td>465</td>\n",
       "      <td>2003</td>\n",
       "      <td>The Best of the Classic Years</td>\n",
       "      <td>King Sunny Adé</td>\n",
       "      <td>Album + Compilation</td>\n",
       "      <td>0.0</td>\n",
       "      <td>juju</td>\n",
       "      <td>1571</td>\n",
       "      <td>115</td>\n",
       "    </tr>\n",
       "    <tr>\n",
       "      <th>488</th>\n",
       "      <td>489</td>\n",
       "      <td>1991</td>\n",
       "      <td>Back to Mono (1958–1969)</td>\n",
       "      <td>Phil Spector</td>\n",
       "      <td>Album + Compilation</td>\n",
       "      <td>0.0</td>\n",
       "      <td>pop</td>\n",
       "      <td>5560</td>\n",
       "      <td>183</td>\n",
       "    </tr>\n",
       "    <tr>\n",
       "      <th>404</th>\n",
       "      <td>405</td>\n",
       "      <td>1972</td>\n",
       "      <td>Nuggets: Original Artyfacts From the First Psy...</td>\n",
       "      <td>Various Artists</td>\n",
       "      <td>Album + Compilation</td>\n",
       "      <td>0.0</td>\n",
       "      <td>rock</td>\n",
       "      <td>7335</td>\n",
       "      <td>244</td>\n",
       "    </tr>\n",
       "  </tbody>\n",
       "</table>\n",
       "</div>"
      ],
      "text/plain": [
       "     Number  Year                                              Album  \\\n",
       "464     465  2003                      The Best of the Classic Years   \n",
       "488     489  1991                           Back to Mono (1958–1969)   \n",
       "404     405  1972  Nuggets: Original Artyfacts From the First Psy...   \n",
       "\n",
       "              Artist                 Type  Rating   Gen  playcount  listeners  \n",
       "464   King Sunny Adé  Album + Compilation     0.0  juju       1571        115  \n",
       "488     Phil Spector  Album + Compilation     0.0   pop       5560        183  \n",
       "404  Various Artists  Album + Compilation     0.0  rock       7335        244  "
      ]
     },
     "execution_count": 31,
     "metadata": {},
     "output_type": "execute_result"
    }
   ],
   "source": [
    "stone_500_rich.sort_values(\"listeners\").head(3)"
   ]
  },
  {
   "cell_type": "code",
   "execution_count": 32,
   "id": "69614854",
   "metadata": {},
   "outputs": [],
   "source": [
    "stone_500_rich.to_csv(\"../data/stone_500_rich.csv\",index=False)"
   ]
  },
  {
   "cell_type": "code",
   "execution_count": null,
   "id": "c96d17ea",
   "metadata": {},
   "outputs": [],
   "source": []
  },
  {
   "cell_type": "code",
   "execution_count": null,
   "id": "52289c3d",
   "metadata": {},
   "outputs": [],
   "source": []
  }
 ],
 "metadata": {
  "kernelspec": {
   "display_name": "ironhack",
   "language": "python",
   "name": "ironhack"
  },
  "language_info": {
   "codemirror_mode": {
    "name": "ipython",
    "version": 3
   },
   "file_extension": ".py",
   "mimetype": "text/x-python",
   "name": "python",
   "nbconvert_exporter": "python",
   "pygments_lexer": "ipython3",
   "version": "3.8.5"
  }
 },
 "nbformat": 4,
 "nbformat_minor": 5
}
