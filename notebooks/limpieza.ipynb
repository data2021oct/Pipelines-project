{
 "cells": [
  {
   "cell_type": "code",
   "execution_count": 1,
   "metadata": {},
   "outputs": [],
   "source": [
    "import requests \n",
    "import json\n",
    "import os\n",
    "from dotenv import load_dotenv\n",
    "import pandas as pd\n",
    "from pandas import json_normalize\n",
    "import tweepy\n",
    "import time\n",
    "load_dotenv()\n",
    "import re"
   ]
  },
  {
   "cell_type": "markdown",
   "metadata": {},
   "source": [
    "## Data\n",
    "**Rolling stone's article: [The 500 Greatest Albums of All Time](https://www.rollingstone.com/music/music-lists/best-albums-of-all-time-1062063/arcade-fire-%ef%bb%bffuneral-1062733/)**\n",
    "- csv from music database [musicbrainz](https://musicbrainz.org/series/6a4b53b9-2756-4afe-93f2-306039d41910)"
   ]
  },
  {
   "cell_type": "code",
   "execution_count": 2,
   "metadata": {},
   "outputs": [],
   "source": [
    "stone = pd.read_excel(\"../data/musicbrainzset.xlsx\")"
   ]
  },
  {
   "cell_type": "code",
   "execution_count": 3,
   "metadata": {},
   "outputs": [
    {
     "name": "stdout",
     "output_type": "stream",
     "text": [
      "<class 'pandas.core.frame.DataFrame'>\n",
      "RangeIndex: 500 entries, 0 to 499\n",
      "Data columns (total 8 columns):\n",
      " #   Column    Non-Null Count  Dtype  \n",
      "---  ------    --------------  -----  \n",
      " 0   Number    500 non-null    int64  \n",
      " 1   Year      500 non-null    int64  \n",
      " 2   Album     500 non-null    object \n",
      " 3   Artist    500 non-null    object \n",
      " 4   Type      500 non-null    object \n",
      " 5   Rating    462 non-null    float64\n",
      " 6   Releases  500 non-null    int64  \n",
      " 7   Genre     500 non-null    object \n",
      "dtypes: float64(1), int64(3), object(4)\n",
      "memory usage: 31.4+ KB\n"
     ]
    }
   ],
   "source": [
    "stone.info()"
   ]
  },
  {
   "cell_type": "code",
   "execution_count": 4,
   "metadata": {
    "scrolled": true
   },
   "outputs": [
    {
     "data": {
      "text/plain": [
       "Number       0\n",
       "Year         0\n",
       "Album        0\n",
       "Artist       0\n",
       "Type         0\n",
       "Rating      38\n",
       "Releases     0\n",
       "Genre        0\n",
       "dtype: int64"
      ]
     },
     "execution_count": 4,
     "metadata": {},
     "output_type": "execute_result"
    }
   ],
   "source": [
    "stone.isna().sum()"
   ]
  },
  {
   "cell_type": "markdown",
   "metadata": {},
   "source": [
    "### Data cleansing"
   ]
  },
  {
   "cell_type": "code",
   "execution_count": 5,
   "metadata": {},
   "outputs": [],
   "source": [
    "#como hay nombres de álbumes que son números, los convertimos a string.\n",
    "def num_string(dato):\n",
    "    if type(dato)== int:\n",
    "        return str(dato)\n",
    "    else:\n",
    "        return dato"
   ]
  },
  {
   "cell_type": "code",
   "execution_count": 6,
   "metadata": {},
   "outputs": [],
   "source": [
    "stone[\"Album\"] = stone[\"Album\"].apply(num_string)"
   ]
  },
  {
   "cell_type": "code",
   "execution_count": 7,
   "metadata": {},
   "outputs": [],
   "source": [
    "stone.Artist = stone.Artist.str.strip()\n",
    "stone.Album = stone.Album.str.strip()\n",
    "stone.Type = stone.Type.str.strip()\n",
    "stone.Genre = stone.Genre.str.strip()"
   ]
  },
  {
   "cell_type": "code",
   "execution_count": 8,
   "metadata": {},
   "outputs": [],
   "source": [
    "stone[\"Gen\"] = stone[\"Genre\"].str.extract(r\"(^([^,])+)\")[0]\n",
    "stone[\"Subgenre\"] = stone[\"Genre\"].str.extract(r\",\\s*(.*$)\")[0]"
   ]
  },
  {
   "cell_type": "code",
   "execution_count": 9,
   "metadata": {},
   "outputs": [],
   "source": [
    "stone.Gen = stone.Gen.str.strip()\n",
    "stone.Subgenre = stone.Subgenre.str.strip()"
   ]
  },
  {
   "cell_type": "code",
   "execution_count": 10,
   "metadata": {},
   "outputs": [],
   "source": [
    "stone.Rating.fillna(0,inplace = True)\n",
    "#no rellenamos los nans de rating para que luego no estropeen la media y sean considerada float\n",
    "stone.Subgenre.fillna(\"None\",inplace = True)"
   ]
  },
  {
   "cell_type": "code",
   "execution_count": 11,
   "metadata": {},
   "outputs": [],
   "source": [
    "#hay algunos títulos de album que hay que cambiar de nombre\n",
    "stone.Album = stone.Album.str.replace(r'(Metallica...The Black Album..)',\"Metallica\",regex=True)\n",
    "stone.Album = stone.Album.str.replace(r'(Eagles...st album.)',\"Eagles\",regex=True)\n",
    "stone.Artist = stone.Artist.str.replace(\"Neil Young with Crazy Horse\",\"Neil Young & Crazy Horse\",regex=True)\n",
    "stone.Artist = stone.Artist.str.replace(r\"(Bob Dylan...The Band)\",\"Bob Dylan And The Band\",regex=True)\n",
    "stone.Artist = stone.Artist.str.replace(r\"(Prince\\s+.*)\",\"Prince & The Revolution\",regex=True)\n",
    "stone.Artist = stone.Artist.str.replace(r\"(Rufus...Chaka Khan)\",\"Rufus\",regex=True)\n",
    "stone.Album = stone.Album.str.replace(r'(Proud Mary.*)',\"Best Of / Proud Mary\",regex=True)\n",
    "stone.Artist = stone.Artist.str.replace(r'(.*The Velvet Underground.*)',\"The Velvet Underground\",regex= True)\n",
    "stone.Artist = stone.Artist.str.replace(\"‐\",\"-\",regex = True)\n",
    "stone.Album = stone.Album.str.replace(\"‐\",\"-\",regex = True)\n",
    "stone.Gen = stone.Gen.str.replace(\"piunk\",\"punk\",regex = True)\n",
    "stone.Gen = stone.Gen.str.replace(\"punk rock\",\"punk\",regex = True)\n",
    "stone.Gen = stone.Gen.str.replace(\"folk rock\",\"folk\",regex = True)"
   ]
  },
  {
   "cell_type": "code",
   "execution_count": 12,
   "metadata": {},
   "outputs": [],
   "source": [
    "#creamos nuevas columnas que haremos compatibles con url\n",
    "stone[\"Alb_url\"] = stone[\"Album\"]\n",
    "stone[\"Art_url\"] = stone[\"Artist\"]"
   ]
  },
  {
   "cell_type": "code",
   "execution_count": 13,
   "metadata": {},
   "outputs": [],
   "source": [
    "#algunos nombres de discos hay que cambiarlos\n",
    "stone.Alb_url = stone.Alb_url.str.replace(r'(^The Beatles\\s..The White Album..)',\"The Beatles (Remastered)\",regex=True)\n",
    "stone.Alb_url = stone.Alb_url.str.replace(r'(^The Band...The Brown Album..)',\"The Band\",regex=True)\n",
    "stone.Alb_url = stone.Alb_url.str.replace(r'(^Sign.*the Times$)',\"Sign 'O' The Times\",regex=True)"
   ]
  },
  {
   "cell_type": "code",
   "execution_count": 14,
   "metadata": {},
   "outputs": [],
   "source": [
    "#función que cambia los caracteres especiales para las urls\n",
    "def url_prep(df, colum):\n",
    "    url_replace = {\"'\":\"%27\",\",\":\"%2c\", \"&\":\"%26\",\".\":\"%2e\",\"/\":\"%2f\",\"#\":\"%23\",\"(\":\"%28\",\")\":\"%29\",\"-\":\"%2d\",'\"':\"%22\",r\"(\\s+)\":\"%20\" }\n",
    "    for key,value in url_replace.items():\n",
    "        df[colum] = df[colum].str.replace(key,value,regex=True)"
   ]
  },
  {
   "cell_type": "code",
   "execution_count": 15,
   "metadata": {},
   "outputs": [],
   "source": [
    "df = stone\n",
    "colum = \"Alb_url\"\n",
    "url_prep(df,colum)\n",
    "colum = \"Art_url\"\n",
    "url_prep(df,colum)"
   ]
  },
  {
   "cell_type": "code",
   "execution_count": 16,
   "metadata": {
    "scrolled": false
   },
   "outputs": [
    {
     "data": {
      "text/html": [
       "<div>\n",
       "<style scoped>\n",
       "    .dataframe tbody tr th:only-of-type {\n",
       "        vertical-align: middle;\n",
       "    }\n",
       "\n",
       "    .dataframe tbody tr th {\n",
       "        vertical-align: top;\n",
       "    }\n",
       "\n",
       "    .dataframe thead th {\n",
       "        text-align: right;\n",
       "    }\n",
       "</style>\n",
       "<table border=\"1\" class=\"dataframe\">\n",
       "  <thead>\n",
       "    <tr style=\"text-align: right;\">\n",
       "      <th></th>\n",
       "      <th>Number</th>\n",
       "      <th>Year</th>\n",
       "      <th>Album</th>\n",
       "      <th>Artist</th>\n",
       "      <th>Type</th>\n",
       "      <th>Rating</th>\n",
       "      <th>Releases</th>\n",
       "      <th>Genre</th>\n",
       "      <th>Gen</th>\n",
       "      <th>Subgenre</th>\n",
       "      <th>Alb_url</th>\n",
       "      <th>Art_url</th>\n",
       "    </tr>\n",
       "  </thead>\n",
       "  <tbody>\n",
       "    <tr>\n",
       "      <th>121</th>\n",
       "      <td>122</td>\n",
       "      <td>1994</td>\n",
       "      <td>The Downward Spiral</td>\n",
       "      <td>Nine Inch Nails</td>\n",
       "      <td>Album</td>\n",
       "      <td>3.05</td>\n",
       "      <td>32</td>\n",
       "      <td>rock</td>\n",
       "      <td>rock</td>\n",
       "      <td>None</td>\n",
       "      <td>The%20Downward%20Spiral</td>\n",
       "      <td>Nine%20Inch%20Nails</td>\n",
       "    </tr>\n",
       "    <tr>\n",
       "      <th>126</th>\n",
       "      <td>127</td>\n",
       "      <td>1962</td>\n",
       "      <td>Modern Sounds in Country and Western Music</td>\n",
       "      <td>Ray Charles</td>\n",
       "      <td>Album</td>\n",
       "      <td>4.50</td>\n",
       "      <td>5</td>\n",
       "      <td>country , soul</td>\n",
       "      <td>country</td>\n",
       "      <td>soul</td>\n",
       "      <td>Modern%20Sounds%20in%20Country%20and%20Western...</td>\n",
       "      <td>Ray%20Charles</td>\n",
       "    </tr>\n",
       "    <tr>\n",
       "      <th>118</th>\n",
       "      <td>119</td>\n",
       "      <td>1969</td>\n",
       "      <td>Stand!</td>\n",
       "      <td>Sly &amp; the Family Stone</td>\n",
       "      <td>Album</td>\n",
       "      <td>4.00</td>\n",
       "      <td>12</td>\n",
       "      <td>funk</td>\n",
       "      <td>funk</td>\n",
       "      <td>None</td>\n",
       "      <td>Stand!</td>\n",
       "      <td>Sly%20%26%20the%20Family%20Stone</td>\n",
       "    </tr>\n",
       "  </tbody>\n",
       "</table>\n",
       "</div>"
      ],
      "text/plain": [
       "     Number  Year                                       Album  \\\n",
       "121     122  1994                         The Downward Spiral   \n",
       "126     127  1962  Modern Sounds in Country and Western Music   \n",
       "118     119  1969                                      Stand!   \n",
       "\n",
       "                     Artist   Type  Rating  Releases           Genre      Gen  \\\n",
       "121         Nine Inch Nails  Album    3.05        32            rock     rock   \n",
       "126             Ray Charles  Album    4.50         5  country , soul  country   \n",
       "118  Sly & the Family Stone  Album    4.00        12            funk     funk   \n",
       "\n",
       "    Subgenre                                            Alb_url  \\\n",
       "121     None                            The%20Downward%20Spiral   \n",
       "126     soul  Modern%20Sounds%20in%20Country%20and%20Western...   \n",
       "118     None                                             Stand!   \n",
       "\n",
       "                              Art_url  \n",
       "121               Nine%20Inch%20Nails  \n",
       "126                     Ray%20Charles  \n",
       "118  Sly%20%26%20the%20Family%20Stone  "
      ]
     },
     "execution_count": 16,
     "metadata": {},
     "output_type": "execute_result"
    }
   ],
   "source": [
    "stone.sample(3)"
   ]
  },
  {
   "cell_type": "markdown",
   "metadata": {},
   "source": [
    "# Principal enrichment\n",
    "\n",
    "- Enriquecimiento con los datos datos de reproducciones y usuarios de la red social musical [lastfm](https://www.last.fm/es/)"
   ]
  },
  {
   "cell_type": "code",
   "execution_count": 17,
   "metadata": {},
   "outputs": [],
   "source": [
    "apikey = os.getenv(\"apikey\") #apikey de lastfm"
   ]
  },
  {
   "cell_type": "code",
   "execution_count": 18,
   "metadata": {},
   "outputs": [],
   "source": [
    "#comprobamos respuestas de las urls\n",
    "def urls_llamadas (df,art,alb):\n",
    "    api_urls = []\n",
    "    apikey = os.getenv(\"apikey\")\n",
    "    for s in range(len(df)):\n",
    "        artist = df.loc[s,art]\n",
    "        album = df.loc[s,alb]\n",
    "        api_urls.append(f\"http://ws.audioscrobbler.com/2.0/?method=album.getinfo&api_key={apikey}&artist={artist}&album={album}&format=json\")\n",
    "    request_dic = [] \n",
    "    i = 0\n",
    "    for a in api_urls:\n",
    "        res = requests.get(a).json()\n",
    "        request_dic.append(res[\"album\"])\n",
    "        n = len(api_urls)/10\n",
    "        if i%n == 0: \n",
    "            print(f\"{i} done\")\n",
    "        elif i == (len(api_urls)-1):\n",
    "            print(f\"{i} done,finished\")\n",
    "        i+=1\n",
    "    return request_dic"
   ]
  },
  {
   "cell_type": "code",
   "execution_count": 19,
   "metadata": {},
   "outputs": [
    {
     "name": "stdout",
     "output_type": "stream",
     "text": [
      "0 done\n",
      "50 done\n",
      "100 done\n",
      "150 done\n",
      "200 done\n",
      "250 done\n",
      "300 done\n",
      "350 done\n",
      "400 done\n",
      "450 done\n",
      "499 done,finished\n"
     ]
    }
   ],
   "source": [
    "df = stone\n",
    "art = \"Art_url\"\n",
    "alb = \"Alb_url\"\n",
    "Top500_last = urls_llamadas (df,art,alb)"
   ]
  },
  {
   "cell_type": "code",
   "execution_count": 20,
   "metadata": {},
   "outputs": [],
   "source": [
    "stone.to_csv(\"../data/stone.csv\",index=False)"
   ]
  },
  {
   "cell_type": "code",
   "execution_count": 21,
   "metadata": {},
   "outputs": [],
   "source": [
    "Top500_last_df = pd.DataFrame(Top500_last)"
   ]
  },
  {
   "cell_type": "code",
   "execution_count": 22,
   "metadata": {},
   "outputs": [
    {
     "data": {
      "text/html": [
       "<div>\n",
       "<style scoped>\n",
       "    .dataframe tbody tr th:only-of-type {\n",
       "        vertical-align: middle;\n",
       "    }\n",
       "\n",
       "    .dataframe tbody tr th {\n",
       "        vertical-align: top;\n",
       "    }\n",
       "\n",
       "    .dataframe thead th {\n",
       "        text-align: right;\n",
       "    }\n",
       "</style>\n",
       "<table border=\"1\" class=\"dataframe\">\n",
       "  <thead>\n",
       "    <tr style=\"text-align: right;\">\n",
       "      <th></th>\n",
       "      <th>artist</th>\n",
       "      <th>mbid</th>\n",
       "      <th>tags</th>\n",
       "      <th>playcount</th>\n",
       "      <th>image</th>\n",
       "      <th>tracks</th>\n",
       "      <th>url</th>\n",
       "      <th>name</th>\n",
       "      <th>listeners</th>\n",
       "      <th>wiki</th>\n",
       "    </tr>\n",
       "  </thead>\n",
       "  <tbody>\n",
       "    <tr>\n",
       "      <th>0</th>\n",
       "      <td>Marvin Gaye</td>\n",
       "      <td>0f2ab0b8-99a3-41e6-a07a-c2f506bd5e34</td>\n",
       "      <td>{'tag': [{'url': 'https://www.last.fm/tag/soul...</td>\n",
       "      <td>5258671</td>\n",
       "      <td>[{'size': 'small', '#text': 'https://lastfm.fr...</td>\n",
       "      <td>{'track': [{'streamable': {'fulltrack': '0', '...</td>\n",
       "      <td>https://www.last.fm/music/Marvin+Gaye/What%27s...</td>\n",
       "      <td>What's Going On</td>\n",
       "      <td>546458</td>\n",
       "      <td>{'published': '08 Aug 2012, 04:25', 'summary':...</td>\n",
       "    </tr>\n",
       "    <tr>\n",
       "      <th>1</th>\n",
       "      <td>The Beach Boys</td>\n",
       "      <td>05b2f6c8-f9fd-4499-bd70-6f7d629a9cd4</td>\n",
       "      <td>{'tag': [{'url': 'https://www.last.fm/tag/60s'...</td>\n",
       "      <td>13411664</td>\n",
       "      <td>[{'size': 'small', '#text': 'https://lastfm.fr...</td>\n",
       "      <td>{'track': [{'streamable': {'fulltrack': '0', '...</td>\n",
       "      <td>https://www.last.fm/music/The+Beach+Boys/Pet+S...</td>\n",
       "      <td>Pet Sounds</td>\n",
       "      <td>543630</td>\n",
       "      <td>{'published': '07 Jul 2017, 12:48', 'summary':...</td>\n",
       "    </tr>\n",
       "    <tr>\n",
       "      <th>2</th>\n",
       "      <td>Joni Mitchell</td>\n",
       "      <td>008a8b2e-3b20-3d77-999b-4f27378bf868</td>\n",
       "      <td>{'tag': [{'url': 'https://www.last.fm/tag/folk...</td>\n",
       "      <td>9405283</td>\n",
       "      <td>[{'size': 'small', '#text': 'https://lastfm.fr...</td>\n",
       "      <td>{'track': [{'streamable': {'fulltrack': '0', '...</td>\n",
       "      <td>https://www.last.fm/music/Joni+Mitchell/Blue</td>\n",
       "      <td>Blue</td>\n",
       "      <td>537629</td>\n",
       "      <td>{'published': '08 Aug 2021, 14:19', 'summary':...</td>\n",
       "    </tr>\n",
       "  </tbody>\n",
       "</table>\n",
       "</div>"
      ],
      "text/plain": [
       "           artist                                  mbid  \\\n",
       "0     Marvin Gaye  0f2ab0b8-99a3-41e6-a07a-c2f506bd5e34   \n",
       "1  The Beach Boys  05b2f6c8-f9fd-4499-bd70-6f7d629a9cd4   \n",
       "2   Joni Mitchell  008a8b2e-3b20-3d77-999b-4f27378bf868   \n",
       "\n",
       "                                                tags playcount  \\\n",
       "0  {'tag': [{'url': 'https://www.last.fm/tag/soul...   5258671   \n",
       "1  {'tag': [{'url': 'https://www.last.fm/tag/60s'...  13411664   \n",
       "2  {'tag': [{'url': 'https://www.last.fm/tag/folk...   9405283   \n",
       "\n",
       "                                               image  \\\n",
       "0  [{'size': 'small', '#text': 'https://lastfm.fr...   \n",
       "1  [{'size': 'small', '#text': 'https://lastfm.fr...   \n",
       "2  [{'size': 'small', '#text': 'https://lastfm.fr...   \n",
       "\n",
       "                                              tracks  \\\n",
       "0  {'track': [{'streamable': {'fulltrack': '0', '...   \n",
       "1  {'track': [{'streamable': {'fulltrack': '0', '...   \n",
       "2  {'track': [{'streamable': {'fulltrack': '0', '...   \n",
       "\n",
       "                                                 url             name  \\\n",
       "0  https://www.last.fm/music/Marvin+Gaye/What%27s...  What's Going On   \n",
       "1  https://www.last.fm/music/The+Beach+Boys/Pet+S...       Pet Sounds   \n",
       "2       https://www.last.fm/music/Joni+Mitchell/Blue             Blue   \n",
       "\n",
       "  listeners                                               wiki  \n",
       "0    546458  {'published': '08 Aug 2012, 04:25', 'summary':...  \n",
       "1    543630  {'published': '07 Jul 2017, 12:48', 'summary':...  \n",
       "2    537629  {'published': '08 Aug 2021, 14:19', 'summary':...  "
      ]
     },
     "execution_count": 22,
     "metadata": {},
     "output_type": "execute_result"
    }
   ],
   "source": [
    "Top500_last_df.head(3)"
   ]
  },
  {
   "cell_type": "code",
   "execution_count": 23,
   "metadata": {},
   "outputs": [],
   "source": [
    "Top500_last_df.to_csv(\"../data/otras/Top500LastFM_tracks.csv\",index=False) #meloguardoporsiacaso"
   ]
  },
  {
   "cell_type": "code",
   "execution_count": 24,
   "metadata": {},
   "outputs": [
    {
     "data": {
      "text/html": [
       "<div>\n",
       "<style scoped>\n",
       "    .dataframe tbody tr th:only-of-type {\n",
       "        vertical-align: middle;\n",
       "    }\n",
       "\n",
       "    .dataframe tbody tr th {\n",
       "        vertical-align: top;\n",
       "    }\n",
       "\n",
       "    .dataframe thead th {\n",
       "        text-align: right;\n",
       "    }\n",
       "</style>\n",
       "<table border=\"1\" class=\"dataframe\">\n",
       "  <thead>\n",
       "    <tr style=\"text-align: right;\">\n",
       "      <th></th>\n",
       "      <th>artist</th>\n",
       "      <th>mbid</th>\n",
       "      <th>tags</th>\n",
       "      <th>playcount</th>\n",
       "      <th>image</th>\n",
       "      <th>tracks</th>\n",
       "      <th>url</th>\n",
       "      <th>name</th>\n",
       "      <th>listeners</th>\n",
       "      <th>wiki</th>\n",
       "    </tr>\n",
       "  </thead>\n",
       "  <tbody>\n",
       "    <tr>\n",
       "      <th>205</th>\n",
       "      <td>David Bowie</td>\n",
       "      <td>02e2a2f6-0da2-34cb-8e65-a05447ed1994</td>\n",
       "      <td>{'tag': [{'url': 'https://www.last.fm/tag/art+...</td>\n",
       "      <td>7514418</td>\n",
       "      <td>[{'size': 'small', '#text': 'https://lastfm.fr...</td>\n",
       "      <td>{'track': [{'streamable': {'fulltrack': '0', '...</td>\n",
       "      <td>https://www.last.fm/music/David+Bowie/Low</td>\n",
       "      <td>Low</td>\n",
       "      <td>324794</td>\n",
       "      <td>{'published': '06 Jun 2015, 17:28', 'summary':...</td>\n",
       "    </tr>\n",
       "  </tbody>\n",
       "</table>\n",
       "</div>"
      ],
      "text/plain": [
       "          artist                                  mbid  \\\n",
       "205  David Bowie  02e2a2f6-0da2-34cb-8e65-a05447ed1994   \n",
       "\n",
       "                                                  tags playcount  \\\n",
       "205  {'tag': [{'url': 'https://www.last.fm/tag/art+...   7514418   \n",
       "\n",
       "                                                 image  \\\n",
       "205  [{'size': 'small', '#text': 'https://lastfm.fr...   \n",
       "\n",
       "                                                tracks  \\\n",
       "205  {'track': [{'streamable': {'fulltrack': '0', '...   \n",
       "\n",
       "                                           url name listeners  \\\n",
       "205  https://www.last.fm/music/David+Bowie/Low  Low    324794   \n",
       "\n",
       "                                                  wiki  \n",
       "205  {'published': '06 Jun 2015, 17:28', 'summary':...  "
      ]
     },
     "execution_count": 24,
     "metadata": {},
     "output_type": "execute_result"
    }
   ],
   "source": [
    "Top500_last_df.sample()"
   ]
  },
  {
   "cell_type": "code",
   "execution_count": 25,
   "metadata": {},
   "outputs": [],
   "source": [
    "Top500_last_df[[\"playcount\",\"listeners\"]] = Top500_last_df[[\"playcount\",\"listeners\"]].astype(\"int64\")"
   ]
  },
  {
   "cell_type": "code",
   "execution_count": 26,
   "metadata": {},
   "outputs": [
    {
     "data": {
      "text/html": [
       "<div>\n",
       "<style scoped>\n",
       "    .dataframe tbody tr th:only-of-type {\n",
       "        vertical-align: middle;\n",
       "    }\n",
       "\n",
       "    .dataframe tbody tr th {\n",
       "        vertical-align: top;\n",
       "    }\n",
       "\n",
       "    .dataframe thead th {\n",
       "        text-align: right;\n",
       "    }\n",
       "</style>\n",
       "<table border=\"1\" class=\"dataframe\">\n",
       "  <thead>\n",
       "    <tr style=\"text-align: right;\">\n",
       "      <th></th>\n",
       "      <th>artist</th>\n",
       "      <th>playcount</th>\n",
       "      <th>name</th>\n",
       "      <th>listeners</th>\n",
       "    </tr>\n",
       "  </thead>\n",
       "  <tbody>\n",
       "    <tr>\n",
       "      <th>0</th>\n",
       "      <td>Marvin Gaye</td>\n",
       "      <td>5258671</td>\n",
       "      <td>What's Going On</td>\n",
       "      <td>546458</td>\n",
       "    </tr>\n",
       "    <tr>\n",
       "      <th>1</th>\n",
       "      <td>The Beach Boys</td>\n",
       "      <td>13411664</td>\n",
       "      <td>Pet Sounds</td>\n",
       "      <td>543630</td>\n",
       "    </tr>\n",
       "    <tr>\n",
       "      <th>2</th>\n",
       "      <td>Joni Mitchell</td>\n",
       "      <td>9405283</td>\n",
       "      <td>Blue</td>\n",
       "      <td>537629</td>\n",
       "    </tr>\n",
       "  </tbody>\n",
       "</table>\n",
       "</div>"
      ],
      "text/plain": [
       "           artist  playcount             name  listeners\n",
       "0     Marvin Gaye    5258671  What's Going On     546458\n",
       "1  The Beach Boys   13411664       Pet Sounds     543630\n",
       "2   Joni Mitchell    9405283             Blue     537629"
      ]
     },
     "execution_count": 26,
     "metadata": {},
     "output_type": "execute_result"
    }
   ],
   "source": [
    "Lastfm_500 = Top500_last_df[[\"artist\",\"playcount\",\"name\",\"listeners\"]]\n",
    "Lastfm_500.head(3)"
   ]
  },
  {
   "cell_type": "code",
   "execution_count": 27,
   "metadata": {},
   "outputs": [
    {
     "data": {
      "text/html": [
       "<div>\n",
       "<style scoped>\n",
       "    .dataframe tbody tr th:only-of-type {\n",
       "        vertical-align: middle;\n",
       "    }\n",
       "\n",
       "    .dataframe tbody tr th {\n",
       "        vertical-align: top;\n",
       "    }\n",
       "\n",
       "    .dataframe thead th {\n",
       "        text-align: right;\n",
       "    }\n",
       "</style>\n",
       "<table border=\"1\" class=\"dataframe\">\n",
       "  <thead>\n",
       "    <tr style=\"text-align: right;\">\n",
       "      <th></th>\n",
       "      <th>Number</th>\n",
       "      <th>Year</th>\n",
       "      <th>Album</th>\n",
       "      <th>Artist</th>\n",
       "      <th>Type</th>\n",
       "      <th>Rating</th>\n",
       "      <th>Gen</th>\n",
       "    </tr>\n",
       "  </thead>\n",
       "  <tbody>\n",
       "    <tr>\n",
       "      <th>439</th>\n",
       "      <td>440</td>\n",
       "      <td>1970</td>\n",
       "      <td>Coal Miner's Daughter</td>\n",
       "      <td>Loretta Lynn</td>\n",
       "      <td>Album</td>\n",
       "      <td>0.00</td>\n",
       "      <td>country</td>\n",
       "    </tr>\n",
       "    <tr>\n",
       "      <th>61</th>\n",
       "      <td>62</td>\n",
       "      <td>1987</td>\n",
       "      <td>Appetite for Destruction</td>\n",
       "      <td>Guns N' Roses</td>\n",
       "      <td>Album</td>\n",
       "      <td>4.45</td>\n",
       "      <td>rock</td>\n",
       "    </tr>\n",
       "    <tr>\n",
       "      <th>19</th>\n",
       "      <td>20</td>\n",
       "      <td>2000</td>\n",
       "      <td>Kid A</td>\n",
       "      <td>Radiohead</td>\n",
       "      <td>Album</td>\n",
       "      <td>4.60</td>\n",
       "      <td>rock</td>\n",
       "    </tr>\n",
       "  </tbody>\n",
       "</table>\n",
       "</div>"
      ],
      "text/plain": [
       "     Number  Year                     Album         Artist   Type  Rating  \\\n",
       "439     440  1970     Coal Miner's Daughter   Loretta Lynn  Album    0.00   \n",
       "61       62  1987  Appetite for Destruction  Guns N' Roses  Album    4.45   \n",
       "19       20  2000                     Kid A      Radiohead  Album    4.60   \n",
       "\n",
       "         Gen  \n",
       "439  country  \n",
       "61      rock  \n",
       "19      rock  "
      ]
     },
     "execution_count": 27,
     "metadata": {},
     "output_type": "execute_result"
    }
   ],
   "source": [
    "stone_500 = stone[[\"Number\",\"Year\",\"Album\",\"Artist\",\"Type\",\"Rating\",\"Gen\"]]\n",
    "stone_500.sample(3)"
   ]
  },
  {
   "cell_type": "code",
   "execution_count": 28,
   "metadata": {},
   "outputs": [
    {
     "data": {
      "text/html": [
       "<div>\n",
       "<style scoped>\n",
       "    .dataframe tbody tr th:only-of-type {\n",
       "        vertical-align: middle;\n",
       "    }\n",
       "\n",
       "    .dataframe tbody tr th {\n",
       "        vertical-align: top;\n",
       "    }\n",
       "\n",
       "    .dataframe thead th {\n",
       "        text-align: right;\n",
       "    }\n",
       "</style>\n",
       "<table border=\"1\" class=\"dataframe\">\n",
       "  <thead>\n",
       "    <tr style=\"text-align: right;\">\n",
       "      <th></th>\n",
       "      <th>Number</th>\n",
       "      <th>Year</th>\n",
       "      <th>Album</th>\n",
       "      <th>Artist</th>\n",
       "      <th>Type</th>\n",
       "      <th>Rating</th>\n",
       "      <th>Gen</th>\n",
       "      <th>artist</th>\n",
       "      <th>playcount</th>\n",
       "      <th>name</th>\n",
       "      <th>listeners</th>\n",
       "    </tr>\n",
       "  </thead>\n",
       "  <tbody>\n",
       "    <tr>\n",
       "      <th>0</th>\n",
       "      <td>1</td>\n",
       "      <td>1971</td>\n",
       "      <td>What's Going On</td>\n",
       "      <td>Marvin Gaye</td>\n",
       "      <td>Album</td>\n",
       "      <td>4.65</td>\n",
       "      <td>r&amp;b</td>\n",
       "      <td>Marvin Gaye</td>\n",
       "      <td>5258671</td>\n",
       "      <td>What's Going On</td>\n",
       "      <td>546458</td>\n",
       "    </tr>\n",
       "    <tr>\n",
       "      <th>1</th>\n",
       "      <td>2</td>\n",
       "      <td>1966</td>\n",
       "      <td>Pet Sounds</td>\n",
       "      <td>The Beach Boys</td>\n",
       "      <td>Album</td>\n",
       "      <td>4.45</td>\n",
       "      <td>rock</td>\n",
       "      <td>The Beach Boys</td>\n",
       "      <td>13411664</td>\n",
       "      <td>Pet Sounds</td>\n",
       "      <td>543630</td>\n",
       "    </tr>\n",
       "    <tr>\n",
       "      <th>2</th>\n",
       "      <td>3</td>\n",
       "      <td>1971</td>\n",
       "      <td>Blue</td>\n",
       "      <td>Joni Mitchell</td>\n",
       "      <td>Album</td>\n",
       "      <td>4.45</td>\n",
       "      <td>folk</td>\n",
       "      <td>Joni Mitchell</td>\n",
       "      <td>9405283</td>\n",
       "      <td>Blue</td>\n",
       "      <td>537629</td>\n",
       "    </tr>\n",
       "  </tbody>\n",
       "</table>\n",
       "</div>"
      ],
      "text/plain": [
       "   Number  Year            Album          Artist   Type  Rating   Gen  \\\n",
       "0       1  1971  What's Going On     Marvin Gaye  Album    4.65   r&b   \n",
       "1       2  1966       Pet Sounds  The Beach Boys  Album    4.45  rock   \n",
       "2       3  1971             Blue   Joni Mitchell  Album    4.45  folk   \n",
       "\n",
       "           artist  playcount             name  listeners  \n",
       "0     Marvin Gaye    5258671  What's Going On     546458  \n",
       "1  The Beach Boys   13411664       Pet Sounds     543630  \n",
       "2   Joni Mitchell    9405283             Blue     537629  "
      ]
     },
     "execution_count": 28,
     "metadata": {},
     "output_type": "execute_result"
    }
   ],
   "source": [
    "stone_500_richment = stone_500.merge(Lastfm_500,left_index=True, right_index=True)\n",
    "stone_500_richment.head(3)"
   ]
  },
  {
   "cell_type": "code",
   "execution_count": 29,
   "metadata": {
    "scrolled": true
   },
   "outputs": [
    {
     "data": {
      "text/html": [
       "<div>\n",
       "<style scoped>\n",
       "    .dataframe tbody tr th:only-of-type {\n",
       "        vertical-align: middle;\n",
       "    }\n",
       "\n",
       "    .dataframe tbody tr th {\n",
       "        vertical-align: top;\n",
       "    }\n",
       "\n",
       "    .dataframe thead th {\n",
       "        text-align: right;\n",
       "    }\n",
       "</style>\n",
       "<table border=\"1\" class=\"dataframe\">\n",
       "  <thead>\n",
       "    <tr style=\"text-align: right;\">\n",
       "      <th></th>\n",
       "      <th>Number</th>\n",
       "      <th>Year</th>\n",
       "      <th>Album</th>\n",
       "      <th>Artist</th>\n",
       "      <th>Type</th>\n",
       "      <th>Rating</th>\n",
       "      <th>Gen</th>\n",
       "      <th>playcount</th>\n",
       "      <th>listeners</th>\n",
       "    </tr>\n",
       "  </thead>\n",
       "  <tbody>\n",
       "    <tr>\n",
       "      <th>463</th>\n",
       "      <td>464</td>\n",
       "      <td>1973</td>\n",
       "      <td>3+3</td>\n",
       "      <td>The Isley Brothers</td>\n",
       "      <td>Album</td>\n",
       "      <td>4.00</td>\n",
       "      <td>funk</td>\n",
       "      <td>1061</td>\n",
       "      <td>495</td>\n",
       "    </tr>\n",
       "    <tr>\n",
       "      <th>87</th>\n",
       "      <td>88</td>\n",
       "      <td>1971</td>\n",
       "      <td>Hunky Dory</td>\n",
       "      <td>David Bowie</td>\n",
       "      <td>Album</td>\n",
       "      <td>4.35</td>\n",
       "      <td>rock</td>\n",
       "      <td>10384681</td>\n",
       "      <td>516263</td>\n",
       "    </tr>\n",
       "    <tr>\n",
       "      <th>31</th>\n",
       "      <td>32</td>\n",
       "      <td>2016</td>\n",
       "      <td>Lemonade</td>\n",
       "      <td>Beyoncé</td>\n",
       "      <td>Album</td>\n",
       "      <td>4.10</td>\n",
       "      <td>pop</td>\n",
       "      <td>21989100</td>\n",
       "      <td>463907</td>\n",
       "    </tr>\n",
       "  </tbody>\n",
       "</table>\n",
       "</div>"
      ],
      "text/plain": [
       "     Number  Year       Album              Artist   Type  Rating   Gen  \\\n",
       "463     464  1973         3+3  The Isley Brothers  Album    4.00  funk   \n",
       "87       88  1971  Hunky Dory         David Bowie  Album    4.35  rock   \n",
       "31       32  2016    Lemonade             Beyoncé  Album    4.10   pop   \n",
       "\n",
       "     playcount  listeners  \n",
       "463       1061        495  \n",
       "87    10384681     516263  \n",
       "31    21989100     463907  "
      ]
     },
     "execution_count": 29,
     "metadata": {},
     "output_type": "execute_result"
    }
   ],
   "source": [
    "stone_500_rich =stone_500_richment [[\"Number\",\"Year\",\"Album\",\"Artist\",\"Type\",\"Rating\",\"Gen\",\"playcount\",\"listeners\"]]\n",
    "stone_500_rich.sample(3)"
   ]
  },
  {
   "cell_type": "code",
   "execution_count": 30,
   "metadata": {},
   "outputs": [
    {
     "data": {
      "text/html": [
       "<div>\n",
       "<style scoped>\n",
       "    .dataframe tbody tr th:only-of-type {\n",
       "        vertical-align: middle;\n",
       "    }\n",
       "\n",
       "    .dataframe tbody tr th {\n",
       "        vertical-align: top;\n",
       "    }\n",
       "\n",
       "    .dataframe thead th {\n",
       "        text-align: right;\n",
       "    }\n",
       "</style>\n",
       "<table border=\"1\" class=\"dataframe\">\n",
       "  <thead>\n",
       "    <tr style=\"text-align: right;\">\n",
       "      <th></th>\n",
       "      <th>Number</th>\n",
       "      <th>Year</th>\n",
       "      <th>Album</th>\n",
       "      <th>Artist</th>\n",
       "      <th>Type</th>\n",
       "      <th>Rating</th>\n",
       "      <th>Gen</th>\n",
       "      <th>playcount</th>\n",
       "      <th>listeners</th>\n",
       "    </tr>\n",
       "  </thead>\n",
       "  <tbody>\n",
       "    <tr>\n",
       "      <th>464</th>\n",
       "      <td>465</td>\n",
       "      <td>2003</td>\n",
       "      <td>The Best of the Classic Years</td>\n",
       "      <td>King Sunny Adé</td>\n",
       "      <td>Album + Compilation</td>\n",
       "      <td>0.0</td>\n",
       "      <td>juju</td>\n",
       "      <td>1574</td>\n",
       "      <td>115</td>\n",
       "    </tr>\n",
       "    <tr>\n",
       "      <th>488</th>\n",
       "      <td>489</td>\n",
       "      <td>1991</td>\n",
       "      <td>Back to Mono (1958–1969)</td>\n",
       "      <td>Phil Spector</td>\n",
       "      <td>Album + Compilation</td>\n",
       "      <td>0.0</td>\n",
       "      <td>pop</td>\n",
       "      <td>5594</td>\n",
       "      <td>184</td>\n",
       "    </tr>\n",
       "    <tr>\n",
       "      <th>404</th>\n",
       "      <td>405</td>\n",
       "      <td>1972</td>\n",
       "      <td>Nuggets: Original Artyfacts From the First Psy...</td>\n",
       "      <td>Various Artists</td>\n",
       "      <td>Album + Compilation</td>\n",
       "      <td>0.0</td>\n",
       "      <td>rock</td>\n",
       "      <td>7364</td>\n",
       "      <td>245</td>\n",
       "    </tr>\n",
       "  </tbody>\n",
       "</table>\n",
       "</div>"
      ],
      "text/plain": [
       "     Number  Year                                              Album  \\\n",
       "464     465  2003                      The Best of the Classic Years   \n",
       "488     489  1991                           Back to Mono (1958–1969)   \n",
       "404     405  1972  Nuggets: Original Artyfacts From the First Psy...   \n",
       "\n",
       "              Artist                 Type  Rating   Gen  playcount  listeners  \n",
       "464   King Sunny Adé  Album + Compilation     0.0  juju       1574        115  \n",
       "488     Phil Spector  Album + Compilation     0.0   pop       5594        184  \n",
       "404  Various Artists  Album + Compilation     0.0  rock       7364        245  "
      ]
     },
     "execution_count": 30,
     "metadata": {},
     "output_type": "execute_result"
    }
   ],
   "source": [
    "stone_500_rich.sort_values(\"listeners\").head(3)"
   ]
  },
  {
   "cell_type": "code",
   "execution_count": 31,
   "metadata": {},
   "outputs": [],
   "source": [
    "stone_500_rich.to_csv(\"../data/stone_500_rich.csv\",index=False)"
   ]
  }
 ],
 "metadata": {
  "kernelspec": {
   "display_name": "ironhack",
   "language": "python",
   "name": "ironhack"
  },
  "language_info": {
   "codemirror_mode": {
    "name": "ipython",
    "version": 3
   },
   "file_extension": ".py",
   "mimetype": "text/x-python",
   "name": "python",
   "nbconvert_exporter": "python",
   "pygments_lexer": "ipython3",
   "version": "3.8.5"
  }
 },
 "nbformat": 4,
 "nbformat_minor": 5
}
