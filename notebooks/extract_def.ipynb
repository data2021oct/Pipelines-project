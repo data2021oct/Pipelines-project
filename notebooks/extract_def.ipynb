{
 "cells": [
  {
   "cell_type": "code",
   "execution_count": 1,
   "id": "149983b1",
   "metadata": {},
   "outputs": [
    {
     "data": {
      "text/plain": [
       "True"
      ]
     },
     "execution_count": 1,
     "metadata": {},
     "output_type": "execute_result"
    }
   ],
   "source": [
    "import requests\n",
    "from bs4 import BeautifulSoup\n",
    "import requests \n",
    "import json\n",
    "import os\n",
    "from dotenv import load_dotenv\n",
    "import pandas as pd\n",
    "from pandas import json_normalize\n",
    "import tweepy\n",
    "import time\n",
    "load_dotenv()"
   ]
  },
  {
   "cell_type": "code",
   "execution_count": 2,
   "id": "40e590c7",
   "metadata": {},
   "outputs": [],
   "source": [
    "apikey = os.getenv(\"apikey\") #apikey de lastfm"
   ]
  },
  {
   "cell_type": "markdown",
   "id": "80018ab3",
   "metadata": {},
   "source": [
    "# Spotify Most streamed\n",
    "- scrapping"
   ]
  },
  {
   "cell_type": "markdown",
   "id": "3f29422c",
   "metadata": {},
   "source": [
    "[charset: most streamed albums](https://chartmasters.org/spotify-most-streamed-albums/?y=alltime)\n",
    "Last updated on 11/06/21"
   ]
  },
  {
   "cell_type": "code",
   "execution_count": 3,
   "id": "eef7bf99",
   "metadata": {},
   "outputs": [],
   "source": [
    "url_spotify = \"https://chartmasters.org/spotify-most-streamed-albums/?y=alltime\"\n",
    "html_spotify = requests.get(url_spotify)\n",
    "soup_spotify = BeautifulSoup(html_spotify.content,\"html.parser\")"
   ]
  },
  {
   "cell_type": "code",
   "execution_count": 4,
   "id": "234b152c",
   "metadata": {},
   "outputs": [],
   "source": [
    "tablas_spotify = soup_spotify.findAll(\"table\")"
   ]
  },
  {
   "cell_type": "code",
   "execution_count": 5,
   "id": "3922cda9",
   "metadata": {},
   "outputs": [
    {
     "data": {
      "text/plain": [
       "[<th>Rank</th>,\n",
       " <th>Cover</th>,\n",
       " <th>Artist</th>,\n",
       " <th>Album</th>,\n",
       " <th>Total Streams</th>,\n",
       " <th>Daily Streams</th>,\n",
       " <th>EAS</th>]"
      ]
     },
     "execution_count": 5,
     "metadata": {},
     "output_type": "execute_result"
    }
   ],
   "source": [
    "spotify = tablas_spotify[1]\n",
    "spotify.find_all(\"tr\") #cuerpo\n",
    "spotify.find_all(\"th\") #cabeceros"
   ]
  },
  {
   "cell_type": "code",
   "execution_count": 6,
   "id": "f623516e",
   "metadata": {},
   "outputs": [],
   "source": [
    "def data_spotify(element):\n",
    "    Top_alb = []\n",
    "    for s in element.find_all(\"tr\"):\n",
    "        fila = [elemento for elemento in s.find_all(\"td\")]\n",
    "        if len(fila)>1:\n",
    "            spot_dicc = {\"Rank\" : int(fila[0].text),\n",
    "                        \"Artist\": fila[2].text.strip(),\n",
    "                         \"Album\": fila[3].text.strip(),\n",
    "                         \"Total\" :int(fila[4].text.replace(\",\",\"\")),\n",
    "                         \"Daily\" : int(fila[5].text.replace(\",\",\"\"))\n",
    "                        }\n",
    "            Top_alb.append(spot_dicc)\n",
    "    return Top_alb"
   ]
  },
  {
   "cell_type": "code",
   "execution_count": 7,
   "id": "fec34ee9",
   "metadata": {},
   "outputs": [
    {
     "data": {
      "text/plain": [
       "{'Rank': 2,\n",
       " 'Artist': 'Post Malone',\n",
       " 'Album': 'beerbongs & bentleys',\n",
       " 'Total': 9384072978,\n",
       " 'Daily': 2632777}"
      ]
     },
     "execution_count": 7,
     "metadata": {},
     "output_type": "execute_result"
    }
   ],
   "source": [
    "element = spotify\n",
    "Top_alb_spotify = data_spotify(element)\n",
    "Top_alb_spotify[1]"
   ]
  },
  {
   "cell_type": "code",
   "execution_count": 8,
   "id": "eb6da7c5",
   "metadata": {},
   "outputs": [
    {
     "data": {
      "text/html": [
       "<div>\n",
       "<style scoped>\n",
       "    .dataframe tbody tr th:only-of-type {\n",
       "        vertical-align: middle;\n",
       "    }\n",
       "\n",
       "    .dataframe tbody tr th {\n",
       "        vertical-align: top;\n",
       "    }\n",
       "\n",
       "    .dataframe thead th {\n",
       "        text-align: right;\n",
       "    }\n",
       "</style>\n",
       "<table border=\"1\" class=\"dataframe\">\n",
       "  <thead>\n",
       "    <tr style=\"text-align: right;\">\n",
       "      <th></th>\n",
       "      <th>Rank</th>\n",
       "      <th>Artist</th>\n",
       "      <th>Album</th>\n",
       "      <th>Total</th>\n",
       "      <th>Daily</th>\n",
       "    </tr>\n",
       "  </thead>\n",
       "  <tbody>\n",
       "    <tr>\n",
       "      <th>0</th>\n",
       "      <td>1</td>\n",
       "      <td>Ed Sheeran</td>\n",
       "      <td>÷ (Deluxe)</td>\n",
       "      <td>11127100157</td>\n",
       "      <td>4051251</td>\n",
       "    </tr>\n",
       "    <tr>\n",
       "      <th>1</th>\n",
       "      <td>2</td>\n",
       "      <td>Post Malone</td>\n",
       "      <td>beerbongs &amp; bentleys</td>\n",
       "      <td>9384072978</td>\n",
       "      <td>2632777</td>\n",
       "    </tr>\n",
       "    <tr>\n",
       "      <th>2</th>\n",
       "      <td>3</td>\n",
       "      <td>Dua Lipa</td>\n",
       "      <td>Dua Lipa (Complete Edition)</td>\n",
       "      <td>8732775214</td>\n",
       "      <td>3017227</td>\n",
       "    </tr>\n",
       "    <tr>\n",
       "      <th>3</th>\n",
       "      <td>4</td>\n",
       "      <td>Post Malone</td>\n",
       "      <td>Hollywood's Bleeding</td>\n",
       "      <td>8617566505</td>\n",
       "      <td>4071637</td>\n",
       "    </tr>\n",
       "    <tr>\n",
       "      <th>4</th>\n",
       "      <td>5</td>\n",
       "      <td>Ed Sheeran</td>\n",
       "      <td>x (Wembley Edition)</td>\n",
       "      <td>8391502029</td>\n",
       "      <td>2462857</td>\n",
       "    </tr>\n",
       "    <tr>\n",
       "      <th>...</th>\n",
       "      <td>...</td>\n",
       "      <td>...</td>\n",
       "      <td>...</td>\n",
       "      <td>...</td>\n",
       "      <td>...</td>\n",
       "    </tr>\n",
       "    <tr>\n",
       "      <th>495</th>\n",
       "      <td>496</td>\n",
       "      <td>6ix9ine</td>\n",
       "      <td>Day69: Graduation Day</td>\n",
       "      <td>1294041801</td>\n",
       "      <td>253090</td>\n",
       "    </tr>\n",
       "    <tr>\n",
       "      <th>496</th>\n",
       "      <td>497</td>\n",
       "      <td>Lady Gaga</td>\n",
       "      <td>Joanne (Deluxe)</td>\n",
       "      <td>1287317328</td>\n",
       "      <td>405914</td>\n",
       "    </tr>\n",
       "    <tr>\n",
       "      <th>497</th>\n",
       "      <td>498</td>\n",
       "      <td>The Beatles</td>\n",
       "      <td>The Beatles</td>\n",
       "      <td>1285544179</td>\n",
       "      <td>744177</td>\n",
       "    </tr>\n",
       "    <tr>\n",
       "      <th>498</th>\n",
       "      <td>499</td>\n",
       "      <td>Skillet</td>\n",
       "      <td>Vital Signs</td>\n",
       "      <td>1285283838</td>\n",
       "      <td>658443</td>\n",
       "    </tr>\n",
       "    <tr>\n",
       "      <th>499</th>\n",
       "      <td>500</td>\n",
       "      <td>Ben Howard</td>\n",
       "      <td>Every Kingdom</td>\n",
       "      <td>1282742533</td>\n",
       "      <td>374306</td>\n",
       "    </tr>\n",
       "  </tbody>\n",
       "</table>\n",
       "<p>500 rows × 5 columns</p>\n",
       "</div>"
      ],
      "text/plain": [
       "     Rank       Artist                        Album        Total    Daily\n",
       "0       1   Ed Sheeran                   ÷ (Deluxe)  11127100157  4051251\n",
       "1       2  Post Malone         beerbongs & bentleys   9384072978  2632777\n",
       "2       3     Dua Lipa  Dua Lipa (Complete Edition)   8732775214  3017227\n",
       "3       4  Post Malone         Hollywood's Bleeding   8617566505  4071637\n",
       "4       5   Ed Sheeran          x (Wembley Edition)   8391502029  2462857\n",
       "..    ...          ...                          ...          ...      ...\n",
       "495   496      6ix9ine        Day69: Graduation Day   1294041801   253090\n",
       "496   497    Lady Gaga              Joanne (Deluxe)   1287317328   405914\n",
       "497   498  The Beatles                  The Beatles   1285544179   744177\n",
       "498   499      Skillet                  Vital Signs   1285283838   658443\n",
       "499   500   Ben Howard                Every Kingdom   1282742533   374306\n",
       "\n",
       "[500 rows x 5 columns]"
      ]
     },
     "execution_count": 8,
     "metadata": {},
     "output_type": "execute_result"
    }
   ],
   "source": [
    "Spotify_500 = pd.DataFrame(Top_alb_spotify)\n",
    "Spotify_500"
   ]
  },
  {
   "cell_type": "code",
   "execution_count": 9,
   "id": "86730eb6",
   "metadata": {},
   "outputs": [],
   "source": [
    "Spotify_500.to_csv(\"../data/Spotify_500.csv\")"
   ]
  },
  {
   "cell_type": "markdown",
   "id": "1f999955",
   "metadata": {},
   "source": [
    "# LastFM 50 Top Artists"
   ]
  },
  {
   "cell_type": "code",
   "execution_count": 10,
   "id": "041bbe79",
   "metadata": {},
   "outputs": [],
   "source": [
    "url_last50 = f\"http://ws.audioscrobbler.com/2.0/?method=chart.gettopartists&api_key={apikey}&format=json\"\n",
    "req_last50 = requests.get(url_last50).json()"
   ]
  },
  {
   "cell_type": "code",
   "execution_count": 11,
   "id": "1123bacb",
   "metadata": {},
   "outputs": [],
   "source": [
    "last_50 = req_last50[\"artists\"][\"artist\"]\n",
    "last_top50 = pd.DataFrame.from_dict(last_50)"
   ]
  },
  {
   "cell_type": "code",
   "execution_count": 12,
   "id": "53c0daaa",
   "metadata": {},
   "outputs": [
    {
     "data": {
      "text/html": [
       "<div>\n",
       "<style scoped>\n",
       "    .dataframe tbody tr th:only-of-type {\n",
       "        vertical-align: middle;\n",
       "    }\n",
       "\n",
       "    .dataframe tbody tr th {\n",
       "        vertical-align: top;\n",
       "    }\n",
       "\n",
       "    .dataframe thead th {\n",
       "        text-align: right;\n",
       "    }\n",
       "</style>\n",
       "<table border=\"1\" class=\"dataframe\">\n",
       "  <thead>\n",
       "    <tr style=\"text-align: right;\">\n",
       "      <th></th>\n",
       "      <th>name</th>\n",
       "      <th>playcount</th>\n",
       "      <th>listeners</th>\n",
       "      <th>mbid</th>\n",
       "      <th>url</th>\n",
       "      <th>streamable</th>\n",
       "      <th>image</th>\n",
       "    </tr>\n",
       "  </thead>\n",
       "  <tbody>\n",
       "    <tr>\n",
       "      <th>10</th>\n",
       "      <td>Tyler, the Creator</td>\n",
       "      <td>172153685</td>\n",
       "      <td>1493030</td>\n",
       "      <td>f6beac20-5dfe-4d1f-ae02-0b0a740aafd6</td>\n",
       "      <td>https://www.last.fm/music/Tyler,+the+Creator</td>\n",
       "      <td>0</td>\n",
       "      <td>[{'#text': 'https://lastfm.freetls.fastly.net/...</td>\n",
       "    </tr>\n",
       "    <tr>\n",
       "      <th>33</th>\n",
       "      <td>Justin Bieber</td>\n",
       "      <td>97996344</td>\n",
       "      <td>2325617</td>\n",
       "      <td>e0140a67-e4d1-4f13-8a01-364355bee46e</td>\n",
       "      <td>https://www.last.fm/music/Justin+Bieber</td>\n",
       "      <td>0</td>\n",
       "      <td>[{'#text': 'https://lastfm.freetls.fastly.net/...</td>\n",
       "    </tr>\n",
       "    <tr>\n",
       "      <th>44</th>\n",
       "      <td>Britney Spears</td>\n",
       "      <td>243842522</td>\n",
       "      <td>3844425</td>\n",
       "      <td>45a663b5-b1cb-4a91-bff6-2bef7bbfdd76</td>\n",
       "      <td>https://www.last.fm/music/Britney+Spears</td>\n",
       "      <td>0</td>\n",
       "      <td>[{'#text': 'https://lastfm.freetls.fastly.net/...</td>\n",
       "    </tr>\n",
       "    <tr>\n",
       "      <th>15</th>\n",
       "      <td>Arctic Monkeys</td>\n",
       "      <td>407539841</td>\n",
       "      <td>4148815</td>\n",
       "      <td>ada7a83c-e3e1-40f1-93f9-3e73dbc9298a</td>\n",
       "      <td>https://www.last.fm/music/Arctic+Monkeys</td>\n",
       "      <td>0</td>\n",
       "      <td>[{'#text': 'https://lastfm.freetls.fastly.net/...</td>\n",
       "    </tr>\n",
       "    <tr>\n",
       "      <th>32</th>\n",
       "      <td>Queen</td>\n",
       "      <td>236050298</td>\n",
       "      <td>4664518</td>\n",
       "      <td>420ca290-76c5-41af-999e-564d7c71f1a7</td>\n",
       "      <td>https://www.last.fm/music/Queen</td>\n",
       "      <td>0</td>\n",
       "      <td>[{'#text': 'https://lastfm.freetls.fastly.net/...</td>\n",
       "    </tr>\n",
       "  </tbody>\n",
       "</table>\n",
       "</div>"
      ],
      "text/plain": [
       "                  name  playcount listeners  \\\n",
       "10  Tyler, the Creator  172153685   1493030   \n",
       "33       Justin Bieber   97996344   2325617   \n",
       "44      Britney Spears  243842522   3844425   \n",
       "15      Arctic Monkeys  407539841   4148815   \n",
       "32               Queen  236050298   4664518   \n",
       "\n",
       "                                    mbid  \\\n",
       "10  f6beac20-5dfe-4d1f-ae02-0b0a740aafd6   \n",
       "33  e0140a67-e4d1-4f13-8a01-364355bee46e   \n",
       "44  45a663b5-b1cb-4a91-bff6-2bef7bbfdd76   \n",
       "15  ada7a83c-e3e1-40f1-93f9-3e73dbc9298a   \n",
       "32  420ca290-76c5-41af-999e-564d7c71f1a7   \n",
       "\n",
       "                                             url streamable  \\\n",
       "10  https://www.last.fm/music/Tyler,+the+Creator          0   \n",
       "33       https://www.last.fm/music/Justin+Bieber          0   \n",
       "44      https://www.last.fm/music/Britney+Spears          0   \n",
       "15      https://www.last.fm/music/Arctic+Monkeys          0   \n",
       "32               https://www.last.fm/music/Queen          0   \n",
       "\n",
       "                                                image  \n",
       "10  [{'#text': 'https://lastfm.freetls.fastly.net/...  \n",
       "33  [{'#text': 'https://lastfm.freetls.fastly.net/...  \n",
       "44  [{'#text': 'https://lastfm.freetls.fastly.net/...  \n",
       "15  [{'#text': 'https://lastfm.freetls.fastly.net/...  \n",
       "32  [{'#text': 'https://lastfm.freetls.fastly.net/...  "
      ]
     },
     "execution_count": 12,
     "metadata": {},
     "output_type": "execute_result"
    }
   ],
   "source": [
    "last_top50.sample(5)"
   ]
  },
  {
   "cell_type": "code",
   "execution_count": 13,
   "id": "22c43d24",
   "metadata": {},
   "outputs": [],
   "source": [
    "last_top50.to_csv(\"../data/last_top50_image.csv\") #me guardo esto por si acso"
   ]
  },
  {
   "cell_type": "code",
   "execution_count": 14,
   "id": "7dedf0e4",
   "metadata": {},
   "outputs": [],
   "source": [
    "top50_lastfm = last_top50[['name', 'playcount', 'listeners']]"
   ]
  },
  {
   "cell_type": "code",
   "execution_count": 15,
   "id": "4a6e5119",
   "metadata": {},
   "outputs": [
    {
     "data": {
      "text/html": [
       "<div>\n",
       "<style scoped>\n",
       "    .dataframe tbody tr th:only-of-type {\n",
       "        vertical-align: middle;\n",
       "    }\n",
       "\n",
       "    .dataframe tbody tr th {\n",
       "        vertical-align: top;\n",
       "    }\n",
       "\n",
       "    .dataframe thead th {\n",
       "        text-align: right;\n",
       "    }\n",
       "</style>\n",
       "<table border=\"1\" class=\"dataframe\">\n",
       "  <thead>\n",
       "    <tr style=\"text-align: right;\">\n",
       "      <th></th>\n",
       "      <th>name</th>\n",
       "      <th>playcount</th>\n",
       "      <th>listeners</th>\n",
       "    </tr>\n",
       "  </thead>\n",
       "  <tbody>\n",
       "    <tr>\n",
       "      <th>28</th>\n",
       "      <td>Eminem</td>\n",
       "      <td>257716647</td>\n",
       "      <td>5179012</td>\n",
       "    </tr>\n",
       "    <tr>\n",
       "      <th>5</th>\n",
       "      <td>Drake</td>\n",
       "      <td>253278487</td>\n",
       "      <td>4135884</td>\n",
       "    </tr>\n",
       "    <tr>\n",
       "      <th>2</th>\n",
       "      <td>Doja Cat</td>\n",
       "      <td>95903890</td>\n",
       "      <td>1125654</td>\n",
       "    </tr>\n",
       "    <tr>\n",
       "      <th>23</th>\n",
       "      <td>Post Malone</td>\n",
       "      <td>91475601</td>\n",
       "      <td>1333722</td>\n",
       "    </tr>\n",
       "    <tr>\n",
       "      <th>9</th>\n",
       "      <td>Ariana Grande</td>\n",
       "      <td>288427492</td>\n",
       "      <td>1902794</td>\n",
       "    </tr>\n",
       "  </tbody>\n",
       "</table>\n",
       "</div>"
      ],
      "text/plain": [
       "             name  playcount listeners\n",
       "28         Eminem  257716647   5179012\n",
       "5           Drake  253278487   4135884\n",
       "2        Doja Cat   95903890   1125654\n",
       "23    Post Malone   91475601   1333722\n",
       "9   Ariana Grande  288427492   1902794"
      ]
     },
     "execution_count": 15,
     "metadata": {},
     "output_type": "execute_result"
    }
   ],
   "source": [
    "top50_lastfm.sample(5)"
   ]
  },
  {
   "cell_type": "code",
   "execution_count": 16,
   "id": "d03dc34c",
   "metadata": {},
   "outputs": [],
   "source": [
    "top50_lastfm.to_csv(\"../data/top50_lastfm.csv\")"
   ]
  },
  {
   "cell_type": "markdown",
   "id": "fe786fcf",
   "metadata": {},
   "source": [
    "# Top Sells"
   ]
  },
  {
   "cell_type": "markdown",
   "id": "bf7b4ef2",
   "metadata": {},
   "source": [
    "[top50](https://www.businessinsider.com/50-best-selling-albums-all-time-2016-9)\n",
    "Travis Clark Updated Sep 22, 2021, 8:18 PM"
   ]
  },
  {
   "cell_type": "code",
   "execution_count": 17,
   "id": "bd937796",
   "metadata": {},
   "outputs": [],
   "source": [
    "url_insider = \"https://www.businessinsider.com/50-best-selling-albums-all-time-2016-9\"\n",
    "html_insider = requests.get(url_insider)\n",
    "soup_insider = BeautifulSoup(html_insider.content,\"html.parser\")"
   ]
  },
  {
   "cell_type": "code",
   "execution_count": 18,
   "id": "f7af93a0",
   "metadata": {},
   "outputs": [
    {
     "data": {
      "text/plain": [
       "<div class=\"slide-layout clearfix\">\n",
       "<div class=\"slide-title clearfix\" data-e2e-name=\"slide-title\">\n",
       "<h2 class=\"slide-title-text\">49. Kenny Rogers — \"Kenny Rogers' Greatest Hits\"</h2>\n",
       "</div>\n",
       "<figure class=\"figure image-figure-image\" data-e2e-name=\"image-figure-image\" data-media-container=\"image\" data-type=\"img\">\n",
       "<div class=\"lazy-holder\" style=\"padding-top: calc(100% * 898 / 980)\">\n",
       "<img alt=\"kenny rogers\" class=\"lazy-image\" data-content-type=\"image/jpeg\" data-srcs='{\"https://i.insider.com/57e43003077dccfc298b4a77\":{\"contentType\":\"image/jpeg\",\"aspectRatioW\":490,\"aspectRatioH\":449}}' src=\"data:image/svg+xml,%3Csvg xmlns='http://www.w3.org/2000/svg' viewBox='0 0 1 1'%3E%3C/svg%3E\"/>\n",
       "<noscript>\n",
       "<img src=\"https://i.insider.com/57e43003077dccfc298b4a77?width=600&amp;format=jpeg&amp;auto=webp\"/>\n",
       "</noscript>\n",
       "</div>\n",
       "<span class=\"image-source-only\">\n",
       "<span class=\"image-source headline-regular\" data-e2e-name=\"image-source\">\n",
       "                                                  Liberty\n",
       "                                                </span>\n",
       "</span>\n",
       "</figure>\n",
       "<p><strong>Certified units: </strong>12 million</p><p><strong><a data-analytics-module=\"body_link\" href=\"/reviews/out?asin=B000002U86&amp;originalTag=biip_092316_best-selling-albums-all-time-20&amp;platform=browser&amp;postSource=bi%7C57e4123eb0ef9737018b7881&amp;postTag=biauto-41385-20&amp;sc=false&amp;type=AMAZON-AFFILIATE-LINK&amp;u=https%3A%2F%2Fwww.amazon.com%2Fdp%2FB000002U86%3Ftag%3Dbiauto-41385-20\" rel=\"noopener\" target=\"_blank\">Buy it here &gt;&gt;</a></strong></p>\n",
       "<div class=\"slide-options\">\n",
       "</div>\n",
       "</div>"
      ]
     },
     "execution_count": 18,
     "metadata": {},
     "output_type": "execute_result"
    }
   ],
   "source": [
    "tags_insider = soup_insider.find_all(\"div\", {\"class\": \"slide-layout\"})\n",
    "tags_insider[1]"
   ]
  },
  {
   "cell_type": "code",
   "execution_count": 19,
   "id": "293ce68f",
   "metadata": {},
   "outputs": [
    {
     "data": {
      "text/plain": [
       "'50. Led Zeppelin —\\xa0\"Led Zeppelin II\"'"
      ]
     },
     "execution_count": 19,
     "metadata": {},
     "output_type": "execute_result"
    }
   ],
   "source": [
    "tags_insider[0].find(\"h2\").getText()"
   ]
  },
  {
   "cell_type": "code",
   "execution_count": 20,
   "id": "19e22b0e",
   "metadata": {},
   "outputs": [
    {
     "data": {
      "text/plain": [
       "'Certified units: 12\\xa0million'"
      ]
     },
     "execution_count": 20,
     "metadata": {},
     "output_type": "execute_result"
    }
   ],
   "source": [
    "tags_insider[0].find_all(\"p\")[0].getText()"
   ]
  },
  {
   "cell_type": "code",
   "execution_count": 21,
   "id": "21e7465c",
   "metadata": {},
   "outputs": [],
   "source": [
    "def data_sells(element):\n",
    "    lista = []\n",
    "    for t in element:\n",
    "        dicc_t = {\"album\": t.find(\"h2\").getText(),\n",
    "                 \"certified units\" : t.find(\"p\").getText()}\n",
    "        lista.append(dicc_t)\n",
    "    return lista"
   ]
  },
  {
   "cell_type": "code",
   "execution_count": 22,
   "id": "21c3c0e6",
   "metadata": {},
   "outputs": [
    {
     "data": {
      "text/plain": [
       "{'album': '50. Led Zeppelin —\\xa0\"Led Zeppelin II\"',\n",
       " 'certified units': 'Certified units: 12\\xa0million'}"
      ]
     },
     "execution_count": 22,
     "metadata": {},
     "output_type": "execute_result"
    }
   ],
   "source": [
    "insider_data = data_sells(tags_insider)\n",
    "insider_data[0]"
   ]
  },
  {
   "cell_type": "code",
   "execution_count": 23,
   "id": "40845e52",
   "metadata": {},
   "outputs": [
    {
     "data": {
      "text/html": [
       "<div>\n",
       "<style scoped>\n",
       "    .dataframe tbody tr th:only-of-type {\n",
       "        vertical-align: middle;\n",
       "    }\n",
       "\n",
       "    .dataframe tbody tr th {\n",
       "        vertical-align: top;\n",
       "    }\n",
       "\n",
       "    .dataframe thead th {\n",
       "        text-align: right;\n",
       "    }\n",
       "</style>\n",
       "<table border=\"1\" class=\"dataframe\">\n",
       "  <thead>\n",
       "    <tr style=\"text-align: right;\">\n",
       "      <th></th>\n",
       "      <th>album</th>\n",
       "      <th>certified units</th>\n",
       "    </tr>\n",
       "  </thead>\n",
       "  <tbody>\n",
       "    <tr>\n",
       "      <th>36</th>\n",
       "      <td>14. Guns N' Roses — \"Appetite for Destruction\"</td>\n",
       "      <td>Certified units: 18 million</td>\n",
       "    </tr>\n",
       "    <tr>\n",
       "      <th>45</th>\n",
       "      <td>5. The Beatles — \"The Beatles\" (\"The White Alb...</td>\n",
       "      <td>Certified units: 24 million</td>\n",
       "    </tr>\n",
       "    <tr>\n",
       "      <th>11</th>\n",
       "      <td>39. Pearl Jam — \"Ten\"</td>\n",
       "      <td>Certified units: 13 million</td>\n",
       "    </tr>\n",
       "  </tbody>\n",
       "</table>\n",
       "</div>"
      ],
      "text/plain": [
       "                                                album  \\\n",
       "36     14. Guns N' Roses — \"Appetite for Destruction\"   \n",
       "45  5. The Beatles — \"The Beatles\" (\"The White Alb...   \n",
       "11                              39. Pearl Jam — \"Ten\"   \n",
       "\n",
       "                certified units  \n",
       "36  Certified units: 18 million  \n",
       "45  Certified units: 24 million  \n",
       "11  Certified units: 13 million  "
      ]
     },
     "execution_count": 23,
     "metadata": {},
     "output_type": "execute_result"
    }
   ],
   "source": [
    "insider = pd.DataFrame(insider_data)\n",
    "insider.sample(3)"
   ]
  },
  {
   "cell_type": "code",
   "execution_count": 24,
   "id": "08e783d3",
   "metadata": {},
   "outputs": [],
   "source": [
    "insider[\"Rank\"] = insider[\"album\"].str.extract(r\"(^\\d+)\")\n",
    "insider[\"Millions\"] = insider[\"certified units\"].str.extract(r\"(\\d+)\")\n",
    "insider[\"album\"] = insider[\"album\"].str.replace(\" – \",\" — \",regex = True)\n",
    "insider[\"Artist\"] = insider[\"album\"].str.extract(r\"(^\\d+.\\s(.+?)—)\")[1]\n",
    "insider[\"Title\"] = insider[\"album\"].str.extract(r\"(—\\s(.+?)$)\")[1]\n",
    "insider[\"Title\"] = insider[\"Title\"].str.replace('\"',\"\")"
   ]
  },
  {
   "cell_type": "code",
   "execution_count": 25,
   "id": "693533e6",
   "metadata": {},
   "outputs": [
    {
     "data": {
      "text/html": [
       "<div>\n",
       "<style scoped>\n",
       "    .dataframe tbody tr th:only-of-type {\n",
       "        vertical-align: middle;\n",
       "    }\n",
       "\n",
       "    .dataframe tbody tr th {\n",
       "        vertical-align: top;\n",
       "    }\n",
       "\n",
       "    .dataframe thead th {\n",
       "        text-align: right;\n",
       "    }\n",
       "</style>\n",
       "<table border=\"1\" class=\"dataframe\">\n",
       "  <thead>\n",
       "    <tr style=\"text-align: right;\">\n",
       "      <th></th>\n",
       "      <th>album</th>\n",
       "      <th>certified units</th>\n",
       "      <th>Rank</th>\n",
       "      <th>Millions</th>\n",
       "      <th>Artist</th>\n",
       "      <th>Title</th>\n",
       "    </tr>\n",
       "  </thead>\n",
       "  <tbody>\n",
       "    <tr>\n",
       "      <th>10</th>\n",
       "      <td>40. Prince &amp; The Revolution — \"Purple Rain\"</td>\n",
       "      <td>Certified units: 13 million</td>\n",
       "      <td>40</td>\n",
       "      <td>13</td>\n",
       "      <td>Prince &amp; The Revolution</td>\n",
       "      <td>Purple Rain</td>\n",
       "    </tr>\n",
       "    <tr>\n",
       "      <th>26</th>\n",
       "      <td>24. Bruce Springsteen — \"Born In The U.S.A.\"</td>\n",
       "      <td>Certified units: 15 million</td>\n",
       "      <td>24</td>\n",
       "      <td>15</td>\n",
       "      <td>Bruce Springsteen</td>\n",
       "      <td>Born In The U.S.A.</td>\n",
       "    </tr>\n",
       "    <tr>\n",
       "      <th>5</th>\n",
       "      <td>45. Celine Dion — \"Falling Into You\"</td>\n",
       "      <td>Certified units: 12 million</td>\n",
       "      <td>45</td>\n",
       "      <td>12</td>\n",
       "      <td>Celine Dion</td>\n",
       "      <td>Falling Into You</td>\n",
       "    </tr>\n",
       "  </tbody>\n",
       "</table>\n",
       "</div>"
      ],
      "text/plain": [
       "                                           album              certified units  \\\n",
       "10   40. Prince & The Revolution — \"Purple Rain\"  Certified units: 13 million   \n",
       "26  24. Bruce Springsteen — \"Born In The U.S.A.\"  Certified units: 15 million   \n",
       "5           45. Celine Dion — \"Falling Into You\"  Certified units: 12 million   \n",
       "\n",
       "   Rank Millions                    Artist               Title  \n",
       "10   40       13  Prince & The Revolution          Purple Rain  \n",
       "26   24       15        Bruce Springsteen   Born In The U.S.A.  \n",
       "5    45       12              Celine Dion     Falling Into You  "
      ]
     },
     "execution_count": 25,
     "metadata": {},
     "output_type": "execute_result"
    }
   ],
   "source": [
    "insider.sample(3)"
   ]
  },
  {
   "cell_type": "code",
   "execution_count": 26,
   "id": "dbb03902",
   "metadata": {},
   "outputs": [],
   "source": [
    "insider.to_csv(\"../data/top_sells_certified.csv\")"
   ]
  },
  {
   "cell_type": "code",
   "execution_count": 27,
   "id": "5070bc78",
   "metadata": {},
   "outputs": [],
   "source": [
    "insider[[\"Millions\",\"Rank\"]] = insider[[\"Millions\",\"Rank\"]].astype(\"int64\")\n",
    "top_sells = insider[[\"Rank\",\"Artist\",\"Title\",\"Millions\"]]"
   ]
  },
  {
   "cell_type": "code",
   "execution_count": 28,
   "id": "ad948682",
   "metadata": {},
   "outputs": [
    {
     "data": {
      "text/html": [
       "<div>\n",
       "<style scoped>\n",
       "    .dataframe tbody tr th:only-of-type {\n",
       "        vertical-align: middle;\n",
       "    }\n",
       "\n",
       "    .dataframe tbody tr th {\n",
       "        vertical-align: top;\n",
       "    }\n",
       "\n",
       "    .dataframe thead th {\n",
       "        text-align: right;\n",
       "    }\n",
       "</style>\n",
       "<table border=\"1\" class=\"dataframe\">\n",
       "  <thead>\n",
       "    <tr style=\"text-align: right;\">\n",
       "      <th></th>\n",
       "      <th>Rank</th>\n",
       "      <th>Artist</th>\n",
       "      <th>Title</th>\n",
       "      <th>Millions</th>\n",
       "    </tr>\n",
       "  </thead>\n",
       "  <tbody>\n",
       "    <tr>\n",
       "      <th>0</th>\n",
       "      <td>50</td>\n",
       "      <td>Led Zeppelin</td>\n",
       "      <td>Led Zeppelin II</td>\n",
       "      <td>12</td>\n",
       "    </tr>\n",
       "    <tr>\n",
       "      <th>1</th>\n",
       "      <td>49</td>\n",
       "      <td>Kenny Rogers</td>\n",
       "      <td>Kenny Rogers' Greatest Hits</td>\n",
       "      <td>12</td>\n",
       "    </tr>\n",
       "    <tr>\n",
       "      <th>2</th>\n",
       "      <td>48</td>\n",
       "      <td>Kenny G</td>\n",
       "      <td>Breathless</td>\n",
       "      <td>12</td>\n",
       "    </tr>\n",
       "    <tr>\n",
       "      <th>3</th>\n",
       "      <td>47</td>\n",
       "      <td>Jewel</td>\n",
       "      <td>Pieces of You</td>\n",
       "      <td>12</td>\n",
       "    </tr>\n",
       "    <tr>\n",
       "      <th>4</th>\n",
       "      <td>46</td>\n",
       "      <td>Def Leppard</td>\n",
       "      <td>Hysteria</td>\n",
       "      <td>12</td>\n",
       "    </tr>\n",
       "  </tbody>\n",
       "</table>\n",
       "</div>"
      ],
      "text/plain": [
       "   Rank         Artist                        Title  Millions\n",
       "0    50  Led Zeppelin               Led Zeppelin II        12\n",
       "1    49  Kenny Rogers   Kenny Rogers' Greatest Hits        12\n",
       "2    48       Kenny G                    Breathless        12\n",
       "3    47         Jewel                 Pieces of You        12\n",
       "4    46   Def Leppard                      Hysteria        12"
      ]
     },
     "execution_count": 28,
     "metadata": {},
     "output_type": "execute_result"
    }
   ],
   "source": [
    "top_sells.head()"
   ]
  },
  {
   "cell_type": "code",
   "execution_count": 29,
   "id": "624a9a3d",
   "metadata": {},
   "outputs": [],
   "source": [
    "top_sells.to_csv(\"../data/top_sells.csv\")"
   ]
  },
  {
   "cell_type": "markdown",
   "id": "526745c7",
   "metadata": {},
   "source": [
    "# Top 500 albums Rolling Stones enrinquecimiento con LastFM"
   ]
  },
  {
   "cell_type": "markdown",
   "id": "04f95b75",
   "metadata": {},
   "source": [
    "### carga de archivo limpio"
   ]
  },
  {
   "cell_type": "code",
   "execution_count": 30,
   "id": "7adf1a39",
   "metadata": {
    "scrolled": true
   },
   "outputs": [
    {
     "data": {
      "text/html": [
       "<div>\n",
       "<style scoped>\n",
       "    .dataframe tbody tr th:only-of-type {\n",
       "        vertical-align: middle;\n",
       "    }\n",
       "\n",
       "    .dataframe tbody tr th {\n",
       "        vertical-align: top;\n",
       "    }\n",
       "\n",
       "    .dataframe thead th {\n",
       "        text-align: right;\n",
       "    }\n",
       "</style>\n",
       "<table border=\"1\" class=\"dataframe\">\n",
       "  <thead>\n",
       "    <tr style=\"text-align: right;\">\n",
       "      <th></th>\n",
       "      <th>Number</th>\n",
       "      <th>Year</th>\n",
       "      <th>Album</th>\n",
       "      <th>Artist</th>\n",
       "      <th>Type</th>\n",
       "      <th>Rating</th>\n",
       "      <th>Releases</th>\n",
       "      <th>Genre</th>\n",
       "      <th>Gen</th>\n",
       "      <th>Subgenre</th>\n",
       "      <th>Alb_url</th>\n",
       "      <th>Art_url</th>\n",
       "    </tr>\n",
       "  </thead>\n",
       "  <tbody>\n",
       "    <tr>\n",
       "      <th>0</th>\n",
       "      <td>1</td>\n",
       "      <td>1971</td>\n",
       "      <td>What's Going On</td>\n",
       "      <td>Marvin Gaye</td>\n",
       "      <td>Album</td>\n",
       "      <td>4.65</td>\n",
       "      <td>38</td>\n",
       "      <td>r&amp;b</td>\n",
       "      <td>r&amp;b</td>\n",
       "      <td>NaN</td>\n",
       "      <td>What%27s%20Going%20On</td>\n",
       "      <td>Marvin%20Gaye</td>\n",
       "    </tr>\n",
       "    <tr>\n",
       "      <th>1</th>\n",
       "      <td>2</td>\n",
       "      <td>1966</td>\n",
       "      <td>Pet Sounds</td>\n",
       "      <td>The Beach Boys</td>\n",
       "      <td>Album</td>\n",
       "      <td>4.45</td>\n",
       "      <td>47</td>\n",
       "      <td>rock</td>\n",
       "      <td>rock</td>\n",
       "      <td>NaN</td>\n",
       "      <td>Pet%20Sounds</td>\n",
       "      <td>The%20Beach%20Boys</td>\n",
       "    </tr>\n",
       "    <tr>\n",
       "      <th>2</th>\n",
       "      <td>3</td>\n",
       "      <td>1971</td>\n",
       "      <td>Blue</td>\n",
       "      <td>Joni Mitchell</td>\n",
       "      <td>Album</td>\n",
       "      <td>4.45</td>\n",
       "      <td>18</td>\n",
       "      <td>folk</td>\n",
       "      <td>folk</td>\n",
       "      <td>NaN</td>\n",
       "      <td>Blue</td>\n",
       "      <td>Joni%20Mitchell</td>\n",
       "    </tr>\n",
       "  </tbody>\n",
       "</table>\n",
       "</div>"
      ],
      "text/plain": [
       "   Number  Year            Album          Artist   Type  Rating  Releases  \\\n",
       "0       1  1971  What's Going On     Marvin Gaye  Album    4.65        38   \n",
       "1       2  1966       Pet Sounds  The Beach Boys  Album    4.45        47   \n",
       "2       3  1971             Blue   Joni Mitchell  Album    4.45        18   \n",
       "\n",
       "  Genre   Gen Subgenre                Alb_url             Art_url  \n",
       "0   r&b   r&b      NaN  What%27s%20Going%20On       Marvin%20Gaye  \n",
       "1  rock  rock      NaN           Pet%20Sounds  The%20Beach%20Boys  \n",
       "2  folk  folk      NaN                   Blue     Joni%20Mitchell  "
      ]
     },
     "execution_count": 30,
     "metadata": {},
     "output_type": "execute_result"
    }
   ],
   "source": [
    "stone = pd.read_csv(\"../data/stone.csv\")\n",
    "stone = stone.drop(\"Unnamed: 0\",axis=1)\n",
    "stone.head(3)"
   ]
  },
  {
   "cell_type": "markdown",
   "id": "1b3fe5bd",
   "metadata": {},
   "source": [
    "### llamada a las apis de lastFM"
   ]
  },
  {
   "cell_type": "code",
   "execution_count": 32,
   "id": "bb7c64c7",
   "metadata": {},
   "outputs": [],
   "source": [
    "def urls_llamadas ():\n",
    "    api_urls = []\n",
    "    apikey = os.getenv(\"apikey\")\n",
    "    for s in range(len(stone)):\n",
    "        artist = stone.loc[s,'Art_url']\n",
    "        album = stone.loc[s,'Alb_url']\n",
    "        api_urls.append(f\"http://ws.audioscrobbler.com/2.0/?method=album.getinfo&api_key={apikey}&artist={artist}&album={album}&format=json\")\n",
    "    request_dic = [] \n",
    "    i = 0\n",
    "    for a in api_urls:\n",
    "        res = requests.get(a).json()\n",
    "        request_dic.append(res[\"album\"])\n",
    "        if i%50==0:\n",
    "            print(f\"{i} done\")\n",
    "        elif i == 499:\n",
    "            print(f\"index {i} reached, finished\")\n",
    "        i+=1\n",
    "    return request_dic\n",
    "\n",
    "\n"
   ]
  },
  {
   "cell_type": "code",
   "execution_count": 33,
   "id": "eb22e3ea",
   "metadata": {},
   "outputs": [
    {
     "name": "stdout",
     "output_type": "stream",
     "text": [
      "0 done\n",
      "50 done\n",
      "100 done\n",
      "150 done\n",
      "200 done\n",
      "250 done\n",
      "300 done\n",
      "350 done\n",
      "400 done\n",
      "450 done\n",
      "index 499 reached, finished\n"
     ]
    }
   ],
   "source": [
    "Top500_last = urls_llamadas()"
   ]
  },
  {
   "cell_type": "code",
   "execution_count": 34,
   "id": "f6417f73",
   "metadata": {},
   "outputs": [],
   "source": [
    "Top500_last_df = pd.DataFrame(Top500_last)"
   ]
  },
  {
   "cell_type": "code",
   "execution_count": 43,
   "id": "14685ec8",
   "metadata": {},
   "outputs": [
    {
     "data": {
      "text/html": [
       "<div>\n",
       "<style scoped>\n",
       "    .dataframe tbody tr th:only-of-type {\n",
       "        vertical-align: middle;\n",
       "    }\n",
       "\n",
       "    .dataframe tbody tr th {\n",
       "        vertical-align: top;\n",
       "    }\n",
       "\n",
       "    .dataframe thead th {\n",
       "        text-align: right;\n",
       "    }\n",
       "</style>\n",
       "<table border=\"1\" class=\"dataframe\">\n",
       "  <thead>\n",
       "    <tr style=\"text-align: right;\">\n",
       "      <th></th>\n",
       "      <th>artist</th>\n",
       "      <th>mbid</th>\n",
       "      <th>tags</th>\n",
       "      <th>playcount</th>\n",
       "      <th>image</th>\n",
       "      <th>tracks</th>\n",
       "      <th>url</th>\n",
       "      <th>name</th>\n",
       "      <th>listeners</th>\n",
       "      <th>wiki</th>\n",
       "    </tr>\n",
       "  </thead>\n",
       "  <tbody>\n",
       "    <tr>\n",
       "      <th>0</th>\n",
       "      <td>Marvin Gaye</td>\n",
       "      <td>0f2ab0b8-99a3-41e6-a07a-c2f506bd5e34</td>\n",
       "      <td>{'tag': [{'url': 'https://www.last.fm/tag/soul...</td>\n",
       "      <td>5218718</td>\n",
       "      <td>[{'size': 'small', '#text': 'https://lastfm.fr...</td>\n",
       "      <td>{'track': [{'streamable': {'fulltrack': '0', '...</td>\n",
       "      <td>https://www.last.fm/music/Marvin+Gaye/What%27s...</td>\n",
       "      <td>What's Going On</td>\n",
       "      <td>543969</td>\n",
       "      <td>{'published': '08 Aug 2012, 04:25', 'summary':...</td>\n",
       "    </tr>\n",
       "    <tr>\n",
       "      <th>1</th>\n",
       "      <td>The Beach Boys</td>\n",
       "      <td>05b2f6c8-f9fd-4499-bd70-6f7d629a9cd4</td>\n",
       "      <td>{'tag': [{'url': 'https://www.last.fm/tag/60s'...</td>\n",
       "      <td>13404548</td>\n",
       "      <td>[{'size': 'small', '#text': 'https://lastfm.fr...</td>\n",
       "      <td>{'track': [{'streamable': {'fulltrack': '0', '...</td>\n",
       "      <td>https://www.last.fm/music/The+Beach+Boys/Pet+S...</td>\n",
       "      <td>Pet Sounds</td>\n",
       "      <td>543460</td>\n",
       "      <td>{'published': '07 Jul 2017, 12:48', 'summary':...</td>\n",
       "    </tr>\n",
       "    <tr>\n",
       "      <th>2</th>\n",
       "      <td>Joni Mitchell</td>\n",
       "      <td>008a8b2e-3b20-3d77-999b-4f27378bf868</td>\n",
       "      <td>{'tag': [{'url': 'https://www.last.fm/tag/folk...</td>\n",
       "      <td>9341522</td>\n",
       "      <td>[{'size': 'small', '#text': 'https://lastfm.fr...</td>\n",
       "      <td>{'track': [{'streamable': {'fulltrack': '0', '...</td>\n",
       "      <td>https://www.last.fm/music/Joni+Mitchell/Blue</td>\n",
       "      <td>Blue</td>\n",
       "      <td>534964</td>\n",
       "      <td>{'published': '08 Aug 2021, 14:19', 'summary':...</td>\n",
       "    </tr>\n",
       "  </tbody>\n",
       "</table>\n",
       "</div>"
      ],
      "text/plain": [
       "           artist                                  mbid  \\\n",
       "0     Marvin Gaye  0f2ab0b8-99a3-41e6-a07a-c2f506bd5e34   \n",
       "1  The Beach Boys  05b2f6c8-f9fd-4499-bd70-6f7d629a9cd4   \n",
       "2   Joni Mitchell  008a8b2e-3b20-3d77-999b-4f27378bf868   \n",
       "\n",
       "                                                tags playcount  \\\n",
       "0  {'tag': [{'url': 'https://www.last.fm/tag/soul...   5218718   \n",
       "1  {'tag': [{'url': 'https://www.last.fm/tag/60s'...  13404548   \n",
       "2  {'tag': [{'url': 'https://www.last.fm/tag/folk...   9341522   \n",
       "\n",
       "                                               image  \\\n",
       "0  [{'size': 'small', '#text': 'https://lastfm.fr...   \n",
       "1  [{'size': 'small', '#text': 'https://lastfm.fr...   \n",
       "2  [{'size': 'small', '#text': 'https://lastfm.fr...   \n",
       "\n",
       "                                              tracks  \\\n",
       "0  {'track': [{'streamable': {'fulltrack': '0', '...   \n",
       "1  {'track': [{'streamable': {'fulltrack': '0', '...   \n",
       "2  {'track': [{'streamable': {'fulltrack': '0', '...   \n",
       "\n",
       "                                                 url             name  \\\n",
       "0  https://www.last.fm/music/Marvin+Gaye/What%27s...  What's Going On   \n",
       "1  https://www.last.fm/music/The+Beach+Boys/Pet+S...       Pet Sounds   \n",
       "2       https://www.last.fm/music/Joni+Mitchell/Blue             Blue   \n",
       "\n",
       "  listeners                                               wiki  \n",
       "0    543969  {'published': '08 Aug 2012, 04:25', 'summary':...  \n",
       "1    543460  {'published': '07 Jul 2017, 12:48', 'summary':...  \n",
       "2    534964  {'published': '08 Aug 2021, 14:19', 'summary':...  "
      ]
     },
     "execution_count": 43,
     "metadata": {},
     "output_type": "execute_result"
    }
   ],
   "source": [
    "Top500_last_df.head(3)"
   ]
  },
  {
   "cell_type": "code",
   "execution_count": 44,
   "id": "9e2222ca",
   "metadata": {},
   "outputs": [],
   "source": [
    "Top500_last_df.to_csv(\"../data/Top500LastFM_tracks.csv\") #meloguardoporsiacaso"
   ]
  },
  {
   "cell_type": "code",
   "execution_count": 45,
   "id": "cd9542ca",
   "metadata": {},
   "outputs": [
    {
     "data": {
      "text/plain": [
       "Index(['artist', 'mbid', 'tags', 'playcount', 'image', 'tracks', 'url', 'name',\n",
       "       'listeners', 'wiki'],\n",
       "      dtype='object')"
      ]
     },
     "execution_count": 45,
     "metadata": {},
     "output_type": "execute_result"
    }
   ],
   "source": [
    "Top500_last_df.columns"
   ]
  },
  {
   "cell_type": "code",
   "execution_count": 46,
   "id": "0bb9ead9",
   "metadata": {
    "scrolled": true
   },
   "outputs": [
    {
     "data": {
      "text/html": [
       "<div>\n",
       "<style scoped>\n",
       "    .dataframe tbody tr th:only-of-type {\n",
       "        vertical-align: middle;\n",
       "    }\n",
       "\n",
       "    .dataframe tbody tr th {\n",
       "        vertical-align: top;\n",
       "    }\n",
       "\n",
       "    .dataframe thead th {\n",
       "        text-align: right;\n",
       "    }\n",
       "</style>\n",
       "<table border=\"1\" class=\"dataframe\">\n",
       "  <thead>\n",
       "    <tr style=\"text-align: right;\">\n",
       "      <th></th>\n",
       "      <th>artist</th>\n",
       "      <th>playcount</th>\n",
       "      <th>name</th>\n",
       "      <th>listeners</th>\n",
       "    </tr>\n",
       "  </thead>\n",
       "  <tbody>\n",
       "    <tr>\n",
       "      <th>0</th>\n",
       "      <td>Marvin Gaye</td>\n",
       "      <td>5218718</td>\n",
       "      <td>What's Going On</td>\n",
       "      <td>543969</td>\n",
       "    </tr>\n",
       "    <tr>\n",
       "      <th>1</th>\n",
       "      <td>The Beach Boys</td>\n",
       "      <td>13404548</td>\n",
       "      <td>Pet Sounds</td>\n",
       "      <td>543460</td>\n",
       "    </tr>\n",
       "    <tr>\n",
       "      <th>2</th>\n",
       "      <td>Joni Mitchell</td>\n",
       "      <td>9341522</td>\n",
       "      <td>Blue</td>\n",
       "      <td>534964</td>\n",
       "    </tr>\n",
       "  </tbody>\n",
       "</table>\n",
       "</div>"
      ],
      "text/plain": [
       "           artist playcount             name listeners\n",
       "0     Marvin Gaye   5218718  What's Going On    543969\n",
       "1  The Beach Boys  13404548       Pet Sounds    543460\n",
       "2   Joni Mitchell   9341522             Blue    534964"
      ]
     },
     "execution_count": 46,
     "metadata": {},
     "output_type": "execute_result"
    }
   ],
   "source": [
    "Lastfm_500 = Top500_last_df[[\"artist\",\"playcount\",\"name\",\"listeners\"]]\n",
    "Lastfm_500.head(3)"
   ]
  },
  {
   "cell_type": "code",
   "execution_count": 47,
   "id": "7d18df68",
   "metadata": {},
   "outputs": [
    {
     "name": "stdout",
     "output_type": "stream",
     "text": [
      "<class 'pandas.core.frame.DataFrame'>\n",
      "RangeIndex: 500 entries, 0 to 499\n",
      "Data columns (total 4 columns):\n",
      " #   Column     Non-Null Count  Dtype \n",
      "---  ------     --------------  ----- \n",
      " 0   artist     500 non-null    object\n",
      " 1   playcount  500 non-null    object\n",
      " 2   name       500 non-null    object\n",
      " 3   listeners  500 non-null    object\n",
      "dtypes: object(4)\n",
      "memory usage: 15.8+ KB\n"
     ]
    }
   ],
   "source": [
    "Lastfm_500.info()"
   ]
  },
  {
   "cell_type": "code",
   "execution_count": 48,
   "id": "ddfe2c71",
   "metadata": {
    "scrolled": true
   },
   "outputs": [
    {
     "name": "stderr",
     "output_type": "stream",
     "text": [
      "/home/sinatxe/anaconda3/envs/ironhack/lib/python3.8/site-packages/pandas/core/frame.py:3641: SettingWithCopyWarning: \n",
      "A value is trying to be set on a copy of a slice from a DataFrame.\n",
      "Try using .loc[row_indexer,col_indexer] = value instead\n",
      "\n",
      "See the caveats in the documentation: https://pandas.pydata.org/pandas-docs/stable/user_guide/indexing.html#returning-a-view-versus-a-copy\n",
      "  self[k1] = value[k2]\n"
     ]
    }
   ],
   "source": [
    "Lastfm_500[[\"playcount\",\"listeners\"]] = Lastfm_500[[\"playcount\",\"listeners\"]].astype(\"int64\")"
   ]
  },
  {
   "cell_type": "code",
   "execution_count": 49,
   "id": "179a7298",
   "metadata": {
    "scrolled": true
   },
   "outputs": [
    {
     "name": "stdout",
     "output_type": "stream",
     "text": [
      "<class 'pandas.core.frame.DataFrame'>\n",
      "RangeIndex: 500 entries, 0 to 499\n",
      "Data columns (total 4 columns):\n",
      " #   Column     Non-Null Count  Dtype \n",
      "---  ------     --------------  ----- \n",
      " 0   artist     500 non-null    object\n",
      " 1   playcount  500 non-null    int64 \n",
      " 2   name       500 non-null    object\n",
      " 3   listeners  500 non-null    int64 \n",
      "dtypes: int64(2), object(2)\n",
      "memory usage: 15.8+ KB\n"
     ]
    }
   ],
   "source": [
    "Lastfm_500.info()"
   ]
  },
  {
   "cell_type": "code",
   "execution_count": 52,
   "id": "ff8d1d65",
   "metadata": {},
   "outputs": [
    {
     "data": {
      "text/plain": [
       "Index(['Number', 'Year', 'Album', 'Artist', 'Type', 'Rating', 'Releases',\n",
       "       'Genre', 'Gen', 'Subgenre', 'Alb_url', 'Art_url'],\n",
       "      dtype='object')"
      ]
     },
     "execution_count": 52,
     "metadata": {},
     "output_type": "execute_result"
    }
   ],
   "source": [
    "stone.columns"
   ]
  },
  {
   "cell_type": "code",
   "execution_count": 55,
   "id": "8c50f221",
   "metadata": {},
   "outputs": [
    {
     "data": {
      "text/html": [
       "<div>\n",
       "<style scoped>\n",
       "    .dataframe tbody tr th:only-of-type {\n",
       "        vertical-align: middle;\n",
       "    }\n",
       "\n",
       "    .dataframe tbody tr th {\n",
       "        vertical-align: top;\n",
       "    }\n",
       "\n",
       "    .dataframe thead th {\n",
       "        text-align: right;\n",
       "    }\n",
       "</style>\n",
       "<table border=\"1\" class=\"dataframe\">\n",
       "  <thead>\n",
       "    <tr style=\"text-align: right;\">\n",
       "      <th></th>\n",
       "      <th>Number</th>\n",
       "      <th>Year</th>\n",
       "      <th>Album</th>\n",
       "      <th>Artist</th>\n",
       "      <th>Type</th>\n",
       "      <th>Rating</th>\n",
       "      <th>Gen</th>\n",
       "    </tr>\n",
       "  </thead>\n",
       "  <tbody>\n",
       "    <tr>\n",
       "      <th>436</th>\n",
       "      <td>437</td>\n",
       "      <td>1991</td>\n",
       "      <td>Screamadelica</td>\n",
       "      <td>Primal Scream</td>\n",
       "      <td>Album</td>\n",
       "      <td>3.00</td>\n",
       "      <td>rock</td>\n",
       "    </tr>\n",
       "    <tr>\n",
       "      <th>178</th>\n",
       "      <td>179</td>\n",
       "      <td>1997</td>\n",
       "      <td>Life After Death</td>\n",
       "      <td>The Notorious B.I.G.</td>\n",
       "      <td>Album</td>\n",
       "      <td>3.80</td>\n",
       "      <td>hip-hop</td>\n",
       "    </tr>\n",
       "    <tr>\n",
       "      <th>233</th>\n",
       "      <td>234</td>\n",
       "      <td>1971</td>\n",
       "      <td>Master of Reality</td>\n",
       "      <td>Black Sabbath</td>\n",
       "      <td>Album</td>\n",
       "      <td>4.55</td>\n",
       "      <td>metal</td>\n",
       "    </tr>\n",
       "  </tbody>\n",
       "</table>\n",
       "</div>"
      ],
      "text/plain": [
       "     Number  Year              Album                Artist   Type  Rating  \\\n",
       "436     437  1991      Screamadelica         Primal Scream  Album    3.00   \n",
       "178     179  1997   Life After Death  The Notorious B.I.G.  Album    3.80   \n",
       "233     234  1971  Master of Reality         Black Sabbath  Album    4.55   \n",
       "\n",
       "         Gen  \n",
       "436    rock   \n",
       "178  hip-hop  \n",
       "233    metal  "
      ]
     },
     "execution_count": 55,
     "metadata": {},
     "output_type": "execute_result"
    }
   ],
   "source": [
    "stone_500 = stone[[\"Number\",\"Year\",\"Album\",\"Artist\",\"Type\",\"Rating\",\"Gen\"]]\n",
    "stone_500.sample(3)"
   ]
  },
  {
   "cell_type": "code",
   "execution_count": 56,
   "id": "0fc150e5",
   "metadata": {},
   "outputs": [
    {
     "data": {
      "text/html": [
       "<div>\n",
       "<style scoped>\n",
       "    .dataframe tbody tr th:only-of-type {\n",
       "        vertical-align: middle;\n",
       "    }\n",
       "\n",
       "    .dataframe tbody tr th {\n",
       "        vertical-align: top;\n",
       "    }\n",
       "\n",
       "    .dataframe thead th {\n",
       "        text-align: right;\n",
       "    }\n",
       "</style>\n",
       "<table border=\"1\" class=\"dataframe\">\n",
       "  <thead>\n",
       "    <tr style=\"text-align: right;\">\n",
       "      <th></th>\n",
       "      <th>Number</th>\n",
       "      <th>Year</th>\n",
       "      <th>Album</th>\n",
       "      <th>Artist</th>\n",
       "      <th>Type</th>\n",
       "      <th>Rating</th>\n",
       "      <th>Gen</th>\n",
       "      <th>artist</th>\n",
       "      <th>playcount</th>\n",
       "      <th>name</th>\n",
       "      <th>listeners</th>\n",
       "    </tr>\n",
       "  </thead>\n",
       "  <tbody>\n",
       "    <tr>\n",
       "      <th>0</th>\n",
       "      <td>1</td>\n",
       "      <td>1971</td>\n",
       "      <td>What's Going On</td>\n",
       "      <td>Marvin Gaye</td>\n",
       "      <td>Album</td>\n",
       "      <td>4.65</td>\n",
       "      <td>r&amp;b</td>\n",
       "      <td>Marvin Gaye</td>\n",
       "      <td>5218718</td>\n",
       "      <td>What's Going On</td>\n",
       "      <td>543969</td>\n",
       "    </tr>\n",
       "    <tr>\n",
       "      <th>1</th>\n",
       "      <td>2</td>\n",
       "      <td>1966</td>\n",
       "      <td>Pet Sounds</td>\n",
       "      <td>The Beach Boys</td>\n",
       "      <td>Album</td>\n",
       "      <td>4.45</td>\n",
       "      <td>rock</td>\n",
       "      <td>The Beach Boys</td>\n",
       "      <td>13404548</td>\n",
       "      <td>Pet Sounds</td>\n",
       "      <td>543460</td>\n",
       "    </tr>\n",
       "    <tr>\n",
       "      <th>2</th>\n",
       "      <td>3</td>\n",
       "      <td>1971</td>\n",
       "      <td>Blue</td>\n",
       "      <td>Joni Mitchell</td>\n",
       "      <td>Album</td>\n",
       "      <td>4.45</td>\n",
       "      <td>folk</td>\n",
       "      <td>Joni Mitchell</td>\n",
       "      <td>9341522</td>\n",
       "      <td>Blue</td>\n",
       "      <td>534964</td>\n",
       "    </tr>\n",
       "  </tbody>\n",
       "</table>\n",
       "</div>"
      ],
      "text/plain": [
       "   Number  Year            Album          Artist   Type  Rating   Gen  \\\n",
       "0       1  1971  What's Going On     Marvin Gaye  Album    4.65   r&b   \n",
       "1       2  1966       Pet Sounds  The Beach Boys  Album    4.45  rock   \n",
       "2       3  1971             Blue   Joni Mitchell  Album    4.45  folk   \n",
       "\n",
       "           artist  playcount             name  listeners  \n",
       "0     Marvin Gaye    5218718  What's Going On     543969  \n",
       "1  The Beach Boys   13404548       Pet Sounds     543460  \n",
       "2   Joni Mitchell    9341522             Blue     534964  "
      ]
     },
     "execution_count": 56,
     "metadata": {},
     "output_type": "execute_result"
    }
   ],
   "source": [
    "#stone_alb.merge(reqs,left_index=True, right_index=True)\n",
    "stone_500_richment = stone_500.merge(Lastfm_500,left_index=True, right_index=True)\n",
    "stone_500_richment.head(3)"
   ]
  },
  {
   "cell_type": "code",
   "execution_count": 59,
   "id": "833941cf",
   "metadata": {},
   "outputs": [
    {
     "data": {
      "text/html": [
       "<div>\n",
       "<style scoped>\n",
       "    .dataframe tbody tr th:only-of-type {\n",
       "        vertical-align: middle;\n",
       "    }\n",
       "\n",
       "    .dataframe tbody tr th {\n",
       "        vertical-align: top;\n",
       "    }\n",
       "\n",
       "    .dataframe thead th {\n",
       "        text-align: right;\n",
       "    }\n",
       "</style>\n",
       "<table border=\"1\" class=\"dataframe\">\n",
       "  <thead>\n",
       "    <tr style=\"text-align: right;\">\n",
       "      <th></th>\n",
       "      <th>Number</th>\n",
       "      <th>Year</th>\n",
       "      <th>Album</th>\n",
       "      <th>Artist</th>\n",
       "      <th>Type</th>\n",
       "      <th>Rating</th>\n",
       "      <th>Gen</th>\n",
       "      <th>playcount</th>\n",
       "      <th>listeners</th>\n",
       "    </tr>\n",
       "  </thead>\n",
       "  <tbody>\n",
       "    <tr>\n",
       "      <th>0</th>\n",
       "      <td>1</td>\n",
       "      <td>1971</td>\n",
       "      <td>What's Going On</td>\n",
       "      <td>Marvin Gaye</td>\n",
       "      <td>Album</td>\n",
       "      <td>4.65</td>\n",
       "      <td>r&amp;b</td>\n",
       "      <td>5218718</td>\n",
       "      <td>543969</td>\n",
       "    </tr>\n",
       "    <tr>\n",
       "      <th>1</th>\n",
       "      <td>2</td>\n",
       "      <td>1966</td>\n",
       "      <td>Pet Sounds</td>\n",
       "      <td>The Beach Boys</td>\n",
       "      <td>Album</td>\n",
       "      <td>4.45</td>\n",
       "      <td>rock</td>\n",
       "      <td>13404548</td>\n",
       "      <td>543460</td>\n",
       "    </tr>\n",
       "    <tr>\n",
       "      <th>2</th>\n",
       "      <td>3</td>\n",
       "      <td>1971</td>\n",
       "      <td>Blue</td>\n",
       "      <td>Joni Mitchell</td>\n",
       "      <td>Album</td>\n",
       "      <td>4.45</td>\n",
       "      <td>folk</td>\n",
       "      <td>9341522</td>\n",
       "      <td>534964</td>\n",
       "    </tr>\n",
       "    <tr>\n",
       "      <th>3</th>\n",
       "      <td>4</td>\n",
       "      <td>1976</td>\n",
       "      <td>Songs in the Key of Life</td>\n",
       "      <td>Stevie Wonder</td>\n",
       "      <td>Album</td>\n",
       "      <td>4.55</td>\n",
       "      <td>soul</td>\n",
       "      <td>7645505</td>\n",
       "      <td>756100</td>\n",
       "    </tr>\n",
       "    <tr>\n",
       "      <th>4</th>\n",
       "      <td>5</td>\n",
       "      <td>1969</td>\n",
       "      <td>Abbey Road</td>\n",
       "      <td>The Beatles</td>\n",
       "      <td>Album</td>\n",
       "      <td>4.70</td>\n",
       "      <td>rock</td>\n",
       "      <td>42687089</td>\n",
       "      <td>1071346</td>\n",
       "    </tr>\n",
       "    <tr>\n",
       "      <th>...</th>\n",
       "      <td>...</td>\n",
       "      <td>...</td>\n",
       "      <td>...</td>\n",
       "      <td>...</td>\n",
       "      <td>...</td>\n",
       "      <td>...</td>\n",
       "      <td>...</td>\n",
       "      <td>...</td>\n",
       "      <td>...</td>\n",
       "    </tr>\n",
       "    <tr>\n",
       "      <th>495</th>\n",
       "      <td>496</td>\n",
       "      <td>1998</td>\n",
       "      <td>¿Dónde están los ladrones?</td>\n",
       "      <td>Shakira</td>\n",
       "      <td>Album</td>\n",
       "      <td>4.50</td>\n",
       "      <td>pop</td>\n",
       "      <td>376264</td>\n",
       "      <td>11475</td>\n",
       "    </tr>\n",
       "    <tr>\n",
       "      <th>496</th>\n",
       "      <td>497</td>\n",
       "      <td>1985</td>\n",
       "      <td>The Indestructible Beat of Soweto</td>\n",
       "      <td>Various Artists</td>\n",
       "      <td>Album + Compilation</td>\n",
       "      <td>NaN</td>\n",
       "      <td>mbaqanga</td>\n",
       "      <td>10677</td>\n",
       "      <td>911</td>\n",
       "    </tr>\n",
       "    <tr>\n",
       "      <th>497</th>\n",
       "      <td>498</td>\n",
       "      <td>1977</td>\n",
       "      <td>Suicide</td>\n",
       "      <td>Suicide</td>\n",
       "      <td>Album</td>\n",
       "      <td>4.00</td>\n",
       "      <td>rock</td>\n",
       "      <td>1497787</td>\n",
       "      <td>144580</td>\n",
       "    </tr>\n",
       "    <tr>\n",
       "      <th>498</th>\n",
       "      <td>499</td>\n",
       "      <td>1977</td>\n",
       "      <td>Ask Rufus</td>\n",
       "      <td>Rufus</td>\n",
       "      <td>Album</td>\n",
       "      <td>NaN</td>\n",
       "      <td>r&amp;b</td>\n",
       "      <td>48081</td>\n",
       "      <td>8896</td>\n",
       "    </tr>\n",
       "    <tr>\n",
       "      <th>499</th>\n",
       "      <td>500</td>\n",
       "      <td>2004</td>\n",
       "      <td>Funeral</td>\n",
       "      <td>Arcade Fire</td>\n",
       "      <td>Album</td>\n",
       "      <td>4.65</td>\n",
       "      <td>rock</td>\n",
       "      <td>49299076</td>\n",
       "      <td>1516119</td>\n",
       "    </tr>\n",
       "  </tbody>\n",
       "</table>\n",
       "<p>500 rows × 9 columns</p>\n",
       "</div>"
      ],
      "text/plain": [
       "     Number  Year                              Album           Artist  \\\n",
       "0         1  1971                    What's Going On      Marvin Gaye   \n",
       "1         2  1966                         Pet Sounds   The Beach Boys   \n",
       "2         3  1971                               Blue    Joni Mitchell   \n",
       "3         4  1976           Songs in the Key of Life    Stevie Wonder   \n",
       "4         5  1969                         Abbey Road      The Beatles   \n",
       "..      ...   ...                                ...              ...   \n",
       "495     496  1998         ¿Dónde están los ladrones?          Shakira   \n",
       "496     497  1985  The Indestructible Beat of Soweto  Various Artists   \n",
       "497     498  1977                            Suicide          Suicide   \n",
       "498     499  1977                          Ask Rufus            Rufus   \n",
       "499     500  2004                            Funeral      Arcade Fire   \n",
       "\n",
       "                    Type  Rating        Gen  playcount  listeners  \n",
       "0                  Album    4.65        r&b    5218718     543969  \n",
       "1                  Album    4.45       rock   13404548     543460  \n",
       "2                  Album    4.45       folk    9341522     534964  \n",
       "3                  Album    4.55       soul    7645505     756100  \n",
       "4                  Album    4.70       rock   42687089    1071346  \n",
       "..                   ...     ...        ...        ...        ...  \n",
       "495                Album    4.50        pop     376264      11475  \n",
       "496  Album + Compilation     NaN  mbaqanga       10677        911  \n",
       "497                Album    4.00       rock    1497787     144580  \n",
       "498                Album     NaN        r&b      48081       8896  \n",
       "499                Album    4.65      rock    49299076    1516119  \n",
       "\n",
       "[500 rows x 9 columns]"
      ]
     },
     "execution_count": 59,
     "metadata": {},
     "output_type": "execute_result"
    }
   ],
   "source": [
    "stone_500_rich =stone_500_richment [[\"Number\",\"Year\",\"Album\",\"Artist\",\"Type\",\"Rating\",\"Gen\",\"playcount\",\"listeners\"]]\n",
    "stone_500_rich"
   ]
  },
  {
   "cell_type": "code",
   "execution_count": 60,
   "id": "9f7c4776",
   "metadata": {},
   "outputs": [],
   "source": [
    "stone_500_rich.to_csv(\"../data/stone_500_rich.csv\")"
   ]
  },
  {
   "cell_type": "code",
   "execution_count": null,
   "id": "9c7241e8",
   "metadata": {},
   "outputs": [],
   "source": []
  }
 ],
 "metadata": {
  "kernelspec": {
   "display_name": "ironhack",
   "language": "python",
   "name": "ironhack"
  },
  "language_info": {
   "codemirror_mode": {
    "name": "ipython",
    "version": 3
   },
   "file_extension": ".py",
   "mimetype": "text/x-python",
   "name": "python",
   "nbconvert_exporter": "python",
   "pygments_lexer": "ipython3",
   "version": "3.8.5"
  }
 },
 "nbformat": 4,
 "nbformat_minor": 5
}
