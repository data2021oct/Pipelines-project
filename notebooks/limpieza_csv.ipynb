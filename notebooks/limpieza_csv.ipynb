{
 "cells": [
  {
   "cell_type": "code",
   "execution_count": 34,
   "id": "3a9d1571",
   "metadata": {},
   "outputs": [
    {
     "data": {
      "text/plain": [
       "True"
      ]
     },
     "execution_count": 34,
     "metadata": {},
     "output_type": "execute_result"
    }
   ],
   "source": [
    "import requests \n",
    "import json\n",
    "import os\n",
    "from dotenv import load_dotenv\n",
    "import pandas as pd\n",
    "from pandas import json_normalize\n",
    "import tweepy\n",
    "import time\n",
    "load_dotenv()"
   ]
  },
  {
   "cell_type": "code",
   "execution_count": 35,
   "id": "274b5477",
   "metadata": {},
   "outputs": [],
   "source": [
    "stones = pd.read_csv(\"../data/albumlist.csv\",  index_col=0, encoding='latin-1')"
   ]
  },
  {
   "cell_type": "code",
   "execution_count": 36,
   "id": "4228e42f",
   "metadata": {},
   "outputs": [
    {
     "name": "stdout",
     "output_type": "stream",
     "text": [
      "<class 'pandas.core.frame.DataFrame'>\n",
      "Int64Index: 500 entries, 1 to 500\n",
      "Data columns (total 5 columns):\n",
      " #   Column    Non-Null Count  Dtype \n",
      "---  ------    --------------  ----- \n",
      " 0   Year      500 non-null    int64 \n",
      " 1   Album     500 non-null    object\n",
      " 2   Artist    500 non-null    object\n",
      " 3   Genre     500 non-null    object\n",
      " 4   Subgenre  500 non-null    object\n",
      "dtypes: int64(1), object(4)\n",
      "memory usage: 23.4+ KB\n"
     ]
    },
    {
     "data": {
      "text/plain": [
       "Year        0\n",
       "Album       0\n",
       "Artist      0\n",
       "Genre       0\n",
       "Subgenre    0\n",
       "dtype: int64"
      ]
     },
     "execution_count": 36,
     "metadata": {},
     "output_type": "execute_result"
    }
   ],
   "source": [
    "stones\n",
    "stones.info()\n",
    "stones.isna().sum() "
   ]
  },
  {
   "cell_type": "code",
   "execution_count": 37,
   "id": "4d315328",
   "metadata": {},
   "outputs": [
    {
     "data": {
      "text/plain": [
       "array([1967, 1966, 1965, 1971, 1972, 1979, 1968, 1976, 1959, 1969, 1975,\n",
       "       1991, 1982, 1990, 1970, 1973, 1963, 1977, 1987, 2001, 1984, 1988,\n",
       "       1957, 1964, 1956, 2000, 1986, 1980, 1978, 1955, 1962, 2003, 1995,\n",
       "       1974, 2005, 1960, 1994, 1992, 1985, 2004, 1958, 1989, 1997, 2002,\n",
       "       1998, 1983, 2006, 1981, 1961, 1999, 1993, 1996, 2007, 2010, 2011,\n",
       "       2008])"
      ]
     },
     "execution_count": 37,
     "metadata": {},
     "output_type": "execute_result"
    }
   ],
   "source": [
    "stones.Year.unique()"
   ]
  },
  {
   "cell_type": "code",
   "execution_count": 38,
   "id": "e0fe2105",
   "metadata": {},
   "outputs": [
    {
     "data": {
      "text/plain": [
       "array([\"Sgt. Pepper's Lonely Hearts Club Band\", 'Pet Sounds', 'Revolver',\n",
       "       'Highway 61 Revisited', 'Rubber Soul', \"What's Going On\",\n",
       "       'Exile on Main St.', 'London Calling', 'Blonde on Blonde',\n",
       "       'The Beatles (\"The White Album\")', 'The Sun Sessions',\n",
       "       'Kind of Blue', 'The Velvet Underground & Nico', 'Abbey Road',\n",
       "       'Are You Experienced', 'Blood on the Tracks', 'Nevermind',\n",
       "       'Born to Run', 'Astral Weeks', 'Thriller',\n",
       "       'The Great Twenty_Eight', 'The Complete Recordings',\n",
       "       'John Lennon/Plastic Ono Band', 'Innervisions',\n",
       "       'Live at the Apollo, 1962', 'Rumours', 'The Joshua Tree',\n",
       "       \"Who's Next\", 'Led Zeppelin', 'Blue', 'Bringing It All Back Home',\n",
       "       'Let It Bleed', 'Ramones', 'Music From Big Pink',\n",
       "       'The Rise and Fall of Ziggy Stardust and the Spiders From Mars',\n",
       "       'Tapestry', 'Hotel California', 'The Anthology',\n",
       "       'Please Please Me', 'Forever Changes',\n",
       "       \"Never Mind the Bollocks Here's the Sex Pistols\", 'The Doors',\n",
       "       'The Dark Side of the Moon', 'Horses',\n",
       "       'The Band (\"The Brown Album\")',\n",
       "       'Legend: The Best of Bob Marley and The Wailers', 'A Love Supreme',\n",
       "       'It Takes a Nation of Millions to Hold Us Back',\n",
       "       'At Fillmore East', \"Here's Little Richard\",\n",
       "       'Bridge Over Troubled Water', 'Greatest Hits', 'Meet The Beatles!',\n",
       "       'The Birth of Soul', 'Electric Ladyland', 'Elvis Presley',\n",
       "       'Songs in the Key of Life', 'Beggars Banquet',\n",
       "       'Chronicle: The 20 Greatest Hits', 'Trout Mask Replica',\n",
       "       'Appetite for Destruction', 'Achtung Baby', 'Sticky Fingers',\n",
       "       'Back to Mono (1958-1969)', 'Moondance', 'Kid A', 'Off the Wall',\n",
       "       '[Led Zeppelin IV]', 'The Stranger', 'Graceland', 'Superfly',\n",
       "       'Physical Graffiti', 'After the Gold Rush', 'Star Time',\n",
       "       'Purple Rain', 'Back in Black',\n",
       "       'Otis Blue: Otis Redding Sings Soul', 'Led Zeppelin II', 'Imagine',\n",
       "       'The Clash', 'Harvest', 'Axis: Bold as Love',\n",
       "       'I Never Loved a Man the Way I Love You', 'Lady Soul',\n",
       "       'Born in the U.S.A.', 'The Wall', 'At Folsom Prison',\n",
       "       'Dusty in Memphis', 'Talking Book', 'Goodbye Yellow Brick Road',\n",
       "       '20 Golden Greats', 'Sign \"Peace\" the Times', '40 Greatest Hits',\n",
       "       'Bitches Brew', 'Tommy', \"The Freewheelin' Bob Dylan\",\n",
       "       \"This Year's Model\", \"There's a Riot Goin' On\",\n",
       "       'Odessey and Oracle', 'In the Wee Small Hours', 'Fresh Cream',\n",
       "       'Giant Steps', 'Sweet Baby James',\n",
       "       'Modern Sounds in Country and Western Music', 'Rocket to Russia',\n",
       "       'Portrait of a Legend 1951-1964', 'Hunky Dory', 'Aftermath',\n",
       "       'Loaded', 'The Bends', 'If You Can Believe Your Eyes and Ears',\n",
       "       'Court and Spark', 'Disraeli Gears', 'The Who Sell Out',\n",
       "       'Out of Our Heads', 'Layla and Other Assorted Love Songs',\n",
       "       'Late Registration', 'At Last!', 'Sweetheart of the Rodeo',\n",
       "       'Stand!', 'The Harder They Come', 'Raising Hell', 'Moby Grape',\n",
       "       'Pearl', 'Catch a Fire', 'Younger Than Yesterday', 'Raw Power',\n",
       "       'Remain in Light', 'Marquee Moon', 'Paranoid',\n",
       "       'Saturday Night Fever: The Original Movie Sound Track',\n",
       "       'The Wild, the Innocent & the E Street Shuffle', 'Ready to Die',\n",
       "       'Slanted and Enchanted', 'Tim', 'The Chronic', 'Rejuvenation',\n",
       "       'Parallel Lines', 'Live at the Regal',\n",
       "       'A Christmas Gift for You From Phil Spector', 'Gris-Gris',\n",
       "       'Straight Outta Compton', 'Aja', 'Surrealistic Pillow', 'Deja vu',\n",
       "       'Houses of the Holy', 'Santana', 'Darkness on the Edge of Town',\n",
       "       'Funeral', \"The B 52's / Play Loud\", 'The Low End Theory',\n",
       "       \"Moanin' in the Moonlight\", 'Pretenders', \"Paul's Boutique\",\n",
       "       'Closer', 'Captain Fantastic and the Brown Dirt Cowboy', 'Alive!',\n",
       "       'Electric Warrior', 'The Dock of the Bay', 'OK Computer', '1999',\n",
       "       'The Very Best of Linda Ronstadt', \"Let's Get It On\",\n",
       "       'Imperial Bedroom', 'Master of Puppets', 'My Aim Is True',\n",
       "       'Exodus', 'Live at Leeds', 'The Notorious Byrd Brothers',\n",
       "       'Every Picture Tells a Story', 'Something/Anything?', 'Desire',\n",
       "       'Close to You', 'Rocks', 'One Nation Under a Groove',\n",
       "       'The Anthology: 1961-1977', 'The Definitive Collection',\n",
       "       'The Rolling Stones, Now!', 'Natty Dread', 'Fleetwood Mac',\n",
       "       'Red Headed Stranger', 'The Immaculate Collection', 'The Stooges',\n",
       "       'Fresh', 'So', 'Buffalo Springfield Again', 'Happy Trails',\n",
       "       'From Elvis in Memphis', 'Fun House', 'The Gilded Palace of Sin',\n",
       "       'Dookie', 'Transformer',\n",
       "       'Blues Breakers With Eric Clapton (\"The Beano Album\")',\n",
       "       'Nuggets: Original Artyfacts From the First Psychedelic Era, 1965-1968',\n",
       "       'Murmur', 'The Best of Little Walter', 'Is This It',\n",
       "       'Highway to Hell', 'The Downward Spiral',\n",
       "       'Parsley, Sage, Rosemary and Thyme', 'Bad', 'Modern Times',\n",
       "       'Wheels of Fire', 'Dirty Mind', 'Abraxas', 'Tea for the Tillerman',\n",
       "       'Ten', 'Everybody Knows This Is Nowhere', 'Wish You Were Here',\n",
       "       'Crooked Rain Crooked Rain', 'Tattoo You',\n",
       "       'Proud Mary: The Best of Ike and Tina Turner', 'New York Dolls',\n",
       "       'Bo Diddley / Go Bo Diddley', 'Two Steps From the Blues',\n",
       "       'The Queen Is Dead', 'Licensed to Ill', 'Look-Ka Py Py',\n",
       "       'Loveless', 'New Orleans Piano', 'War',\n",
       "       'The Neil Diamond Collection', 'American Idiot', 'Nebraska',\n",
       "       'Doolittle', 'Paid in Full', 'Toys in the Attic', 'Nick of Time',\n",
       "       'A Night at the Opera', 'The Kink Kronikles', 'Mr. Tambourine Man',\n",
       "       'Bookends', 'The Ultimate Collection', 'Mr. Excitement!',\n",
       "       'My Generation', \"Howlin' Wolf\", 'Like a Prayer',\n",
       "       \"Can't Buy a Thrill\", 'Let It Be', 'Run D.M.C.', 'Black Sabbath',\n",
       "       'The Marshall Mathers LP',\n",
       "       'All Killer No Filler! The Jerry Lee Lewis Anthology',\n",
       "       'Freak Out!', 'Live/Dead', 'The Shape of Jazz to Come',\n",
       "       'Automatic for the People', 'Reasonable Doubt', 'Low',\n",
       "       'The Blueprint', 'The River',\n",
       "       'Complete & Unbelievable: The Otis Redding Dictionary of Soul',\n",
       "       'Metallica (\"The Black Album\")', 'Trans Europa Express',\n",
       "       'Whitney Houston',\n",
       "       'The Kinks Are The Village Green Preservation Society',\n",
       "       'The Velvet Rope', 'Stardust', 'American Beauty',\n",
       "       'Crosby, Stills & Nash', 'Tracy Chapman', \"Workingman's Dead\",\n",
       "       'The Genius of Ray Charles', 'Child Is Father to the Man',\n",
       "       'Quadrophenia', 'Paul Simon', 'Psychocandy', 'Some Girls',\n",
       "       'The Beach Boys Today!', 'Dig Me Out', 'Going to a Go-Go',\n",
       "       'Nightbirds', 'The Slim Shady LP', 'Mothership Connection',\n",
       "       'Rhythm Nation 1814', 'Anthology of American Folk Music',\n",
       "       'Aladdin Sane', \"All That You Can't Leave Behind\", 'My Life',\n",
       "       'Folk Singer', \"Can't Get Enough\", 'The Cars', 'Music of My Mind',\n",
       "       \"I'm Still in Love With You\", 'Los Angeles', 'Anthem of the Sun',\n",
       "       'Something Else by The Kinks', 'Call Me', 'Talking Heads: 77',\n",
       "       'The Basement Tapes', 'White Light/White Heat',\n",
       "       'Kick Out the Jams', 'Songs of Love and Hate', 'Meat Is Murder',\n",
       "       \"We're Only in It for the Money\", 'The College Dropout',\n",
       "       'Weezer (Blue Album)', 'Master of Reality', 'Coat of Many Colors',\n",
       "       'Fear of a Black Planet', 'John Wesley Harding', 'Grace',\n",
       "       'Car Wheels on a Gravel Road', 'Odelay', \"A Hard Day's Night\",\n",
       "       \"Songs for Swingin' Lovers!\", 'Willy and the Poor Boys',\n",
       "       'Blood Sugar Sex Magik', 'The Sun Records Collection',\n",
       "       \"Nothing's Shocking\", 'MTV Unplugged in New York',\n",
       "       'The Miseducation of Lauryn Hill', 'Damn the Torpedoes',\n",
       "       'The Velvet Underground', 'Surfer Rosa', 'Back Stabbers',\n",
       "       \"Burnin'\", 'Amnesiac', 'Pink Moon', 'Sail Away',\n",
       "       'Ghost in the Machine', 'Station to Station', 'Slowhand',\n",
       "       'Disintegration', 'Exile in Guyville', 'Daydream Nation',\n",
       "       'In the Jungle Groove', \"Tonight's the Night\", 'Help!',\n",
       "       'Shoot Out the Lights', 'Wild Gift', 'Squeezing Out Sparks',\n",
       "       'Superunknown', 'In Rainbows', 'Aqualung', 'Cheap Thrills',\n",
       "       'The Heart of Saturday Night', 'Damaged', 'Play', 'Violator',\n",
       "       'Bat Out of Hell', 'Berlin', 'Stop Making Sense',\n",
       "       '3 Feet High and Rising', 'The Piper at the Gates of Dawn',\n",
       "       'Muddy Waters at Newport 1960', 'The Black Album',\n",
       "       'Roger the Engineer', 'Rust Never Sleeps', 'Brothers in Arms',\n",
       "       'My Beautiful Dark Twisted Fantasy', '52nd Street',\n",
       "       'Having a Rave Up', '12 Songs', 'Between the Buttons',\n",
       "       'Sketches of Spain', 'Honky Ch\\x89teau', 'Singles Going Steady',\n",
       "       'Stankonia', 'Siamese Dream', 'Substance 1987', 'L.A. Woman',\n",
       "       'Rage Against the Machine', 'American Recordings', 'Ray of Light',\n",
       "       'Eagles', 'Louder Than Bombs', 'Mott',\n",
       "       \"Whatever People Say I Am, That's What I'm Not\",\n",
       "       'Reggatta de Blanc', 'Volunteers', 'Siren', 'Late for the Sky',\n",
       "       'Post', 'The Ultimate Collection: 1948-1990',\n",
       "       \"(What's the Story) Morning Glory?\", 'CrazySexyCool',\n",
       "       'Funky Kingston', 'The Smile Sessions', 'The Modern Lovers',\n",
       "       'More Songs About Buildings and Food', 'A Quick One',\n",
       "       '\"Love and Theft\"', 'Pretzel Logic',\n",
       "       'Enter the Wu_Tang: 36 Chambers',\n",
       "       'The Indestructible Beat of Soweto', 'The End of the Innocence',\n",
       "       'Elephant', 'The Pretender', 'Kala', 'Good Old Boys',\n",
       "       'Sound of Silver', 'For Your Pleasure', 'Blue Lines', 'Eliminator',\n",
       "       'Rain Dogs', 'Anthology: The Best of The Temptations',\n",
       "       'Californication', 'Illmatic',\n",
       "       \"(pronounced 'leh-'nerd 'skin-'nerd)\", \"Dr. John's Gumbo\",\n",
       "       'Radio City', 'Rid of Me', 'Sandinista!',\n",
       "       \"I Do Not Want What I Haven't Got\", 'Strange Days',\n",
       "       'Time Out of Mind', '461 Ocean Boulevard', 'Pink Flag',\n",
       "       'Double Nickels on the Dime', 'Beauty and the Beat', 'Van Halen',\n",
       "       'Mule Variations', 'Boy', 'Band on the Run', 'Dummy',\n",
       "       'The \"Chirping\" Crickets', 'The Best of the Girl Groups, Volume 1',\n",
       "       'Presenting the Fabulous Ronettes Featuring Veronica', 'Anthology',\n",
       "       'The Rising', 'Grievous Angel', 'Cheap Trick at Budokan',\n",
       "       'Sleepless', \"Outlandos d'Amour\", 'Another Green World',\n",
       "       'Vampire Weekend', 'Stories From the City, Stories From the Sea',\n",
       "       'Here Come the Warm Jets', 'All Things Must Pass', '#1 Record',\n",
       "       'In Utero', 'Sea Change', 'Tha Carter III', \"Boys Don't Cry\",\n",
       "       'Live at the Harlem Square Club, 1963', 'Rum Sodomy & the Lash',\n",
       "       'Suicide', 'Q: Are We Not Men? A: We Are Devo!', 'In Color',\n",
       "       'The World Is a Ghetto', 'Fly Like an Eagle', 'Back in the USA',\n",
       "       'Getz / Gilberto', 'Synchronicity', 'Third/Sister Lovers',\n",
       "       'For Everyman', 'Back to Black', 'John Prine', 'Strictly Business',\n",
       "       'Love It to Death', 'How Will the Wolf Survive?', 'Here, My Dear',\n",
       "       'Z', 'Tumbleweed Connection', \"The Drifters' Golden Hits\",\n",
       "       'Live Through This', 'Metal Box', 'Document', 'Heaven Up Here',\n",
       "       'Hysteria', '69 Love Songs', 'A Rush of Blood to the Head',\n",
       "       'Tunnel of Love', 'The Paul Butterfield Blues Band', 'The Score',\n",
       "       'Radio', 'I Want to See the Bright Lights Tonight', 'Faith',\n",
       "       'The Smiths', 'Proxima estacion: Esperanza', 'Armed Forces',\n",
       "       'Life After Death', 'Down Every Road', 'All Time Greatest Hits',\n",
       "       'Maggot Brain', 'Only Built 4 Cuban Linx', 'Voodoo', 'Guitar Town',\n",
       "       'Entertainment!', 'All the Young Dudes', 'Vitalogy',\n",
       "       \"That's the Way of the World\", \"She's So Unusual\",\n",
       "       'New Day Rising', 'Destroyer', 'Tres hombres',\n",
       "       'Born Under a Bad Sign', 'Touch', 'Yankee Hotel Foxtrot',\n",
       "       'Oracular Spectacular', 'Give It Up', 'Boz Scaggs',\n",
       "       'White Blood Cells', 'The Stone Roses', 'Live in Cook County Jail',\n",
       "       'Aquemini'], dtype=object)"
      ]
     },
     "execution_count": 38,
     "metadata": {},
     "output_type": "execute_result"
    }
   ],
   "source": [
    "stones.Album.unique()"
   ]
  },
  {
   "cell_type": "code",
   "execution_count": 39,
   "id": "7618e6e2",
   "metadata": {},
   "outputs": [
    {
     "data": {
      "text/plain": [
       "Rock                                         249\n",
       "Funk / Soul                                   38\n",
       "Hip Hop                                       29\n",
       "Electronic, Rock                              19\n",
       "Rock, Pop                                     18\n",
       "                                            ... \n",
       "Hip Hop, Rock, Funk / Soul                     1\n",
       "Electronic, Rock, Funk / Soul, Pop             1\n",
       "Rock, Funk / Soul, Folk, World, & Country      1\n",
       "Rock,ÊBlues                                    1\n",
       "Rock, Reggae, Latin                            1\n",
       "Name: Genre, Length: 63, dtype: int64"
      ]
     },
     "execution_count": 39,
     "metadata": {},
     "output_type": "execute_result"
    }
   ],
   "source": [
    "stones.Genre.value_counts()"
   ]
  },
  {
   "cell_type": "code",
   "execution_count": 40,
   "id": "2911a0f1",
   "metadata": {},
   "outputs": [],
   "source": [
    "stones[\"Gen\"] = stones[\"Genre\"].str.extract(r\"(^([^,])+)\")[0]"
   ]
  },
  {
   "cell_type": "code",
   "execution_count": 41,
   "id": "a1c268d8",
   "metadata": {},
   "outputs": [
    {
     "data": {
      "text/plain": [
       "Rock           318\n",
       "Funk / Soul     51\n",
       "Electronic      45\n",
       "Hip Hop         34\n",
       "Jazz            19\n",
       "Folk            13\n",
       "Blues            9\n",
       "Reggae           7\n",
       "Pop              2\n",
       "Classical        1\n",
       "Latin            1\n",
       "Name: Gen, dtype: int64"
      ]
     },
     "execution_count": 41,
     "metadata": {},
     "output_type": "execute_result"
    }
   ],
   "source": [
    "stones.Gen.value_counts()"
   ]
  },
  {
   "cell_type": "code",
   "execution_count": 42,
   "id": "9a062332",
   "metadata": {},
   "outputs": [],
   "source": [
    "stones[\"Subgen\"] = stones[\"Subgenre\"].str.extract(r\"(^([^,])+)\")[0]"
   ]
  },
  {
   "cell_type": "code",
   "execution_count": 43,
   "id": "4df2aaca",
   "metadata": {},
   "outputs": [
    {
     "data": {
      "text/plain": [
       "array(['Rock & Roll', 'Pop Rock', 'Psychedelic Rock', 'Folk Rock', 'Soul',\n",
       "       'Blues Rock', 'Punk', 'Modal', 'Garage Rock', 'Alternative Rock',\n",
       "       'Acoustic', 'Disco', 'Delta Blues', 'Rhythm & Blues', 'Hard Rock',\n",
       "       'Classic Rock', 'Folk', 'Beat', 'Prog Rock', 'Art Rock',\n",
       "       'Soundtrack', 'Reggae', 'Free Jazz', 'Conscious', 'Electric Blues',\n",
       "       'None', 'Dialogue', 'Doo Wop', 'Country', 'Ska', 'Fusion',\n",
       "       'New Wave', 'Big Band', 'Hard Bop', 'Soft Rock', 'Funk',\n",
       "       'Roots Reggae', 'Thug Rap', 'Indie Rock', 'Gangsta', 'Bayou Funk',\n",
       "       'Chicago Blues', 'Soul-Jazz', 'Jazz-Rock', 'Afro-Cuban',\n",
       "       'Post-Punk', 'Glam', 'Thrash', 'Power Pop', 'P.Funk', 'Europop',\n",
       "       'Synth-pop', 'Country Rock', 'Acid Rock', 'Industrial', 'Grunge',\n",
       "       'Piano Blues', 'Mod', 'Pop Rap', 'Country Blues',\n",
       "       'Musique Concr?te', 'Heavy Metal', 'Electro', 'RnB/Swing', 'Vocal',\n",
       "       'Noise', 'Cajun', 'Avantgarde', 'Modern Classical', 'Lo-Fi',\n",
       "       'Contemporary Jazz', 'Hardcore', 'Breakbeat', 'AOR', 'Funk Metal',\n",
       "       'House', 'Brit Pop', 'Reggae Gospel', 'African', 'Grime',\n",
       "       'Leftfield', 'Dub', 'Abstract', 'Trip Hop', 'Rockabilly',\n",
       "       'Experimental', 'Bossa Nova', 'Downtempo'], dtype=object)"
      ]
     },
     "execution_count": 43,
     "metadata": {},
     "output_type": "execute_result"
    }
   ],
   "source": [
    "stones.Subgen.unique()"
   ]
  },
  {
   "cell_type": "code",
   "execution_count": 44,
   "id": "e69b5a41",
   "metadata": {},
   "outputs": [],
   "source": [
    "stones[\"Subgen\"] = stones[\"Subgen\"].str.replace(\"Musique concrète ?te\",\"Musique concrète\", regex = True)"
   ]
  },
  {
   "cell_type": "code",
   "execution_count": 45,
   "id": "3e5db9e8",
   "metadata": {},
   "outputs": [
    {
     "data": {
      "text/plain": [
       "array(['Rock & Roll', 'Pop Rock', 'Psychedelic Rock', 'Folk Rock', 'Soul',\n",
       "       'Blues Rock', 'Punk', 'Modal', 'Garage Rock', 'Alternative Rock',\n",
       "       'Acoustic', 'Disco', 'Delta Blues', 'Rhythm & Blues', 'Hard Rock',\n",
       "       'Classic Rock', 'Folk', 'Beat', 'Prog Rock', 'Art Rock',\n",
       "       'Soundtrack', 'Reggae', 'Free Jazz', 'Conscious', 'Electric Blues',\n",
       "       'None', 'Dialogue', 'Doo Wop', 'Country', 'Ska', 'Fusion',\n",
       "       'New Wave', 'Big Band', 'Hard Bop', 'Soft Rock', 'Funk',\n",
       "       'Roots Reggae', 'Thug Rap', 'Indie Rock', 'Gangsta', 'Bayou Funk',\n",
       "       'Chicago Blues', 'Soul-Jazz', 'Jazz-Rock', 'Afro-Cuban',\n",
       "       'Post-Punk', 'Glam', 'Thrash', 'Power Pop', 'P.Funk', 'Europop',\n",
       "       'Synth-pop', 'Country Rock', 'Acid Rock', 'Industrial', 'Grunge',\n",
       "       'Piano Blues', 'Mod', 'Pop Rap', 'Country Blues',\n",
       "       'Musique Concr?te', 'Heavy Metal', 'Electro', 'RnB/Swing', 'Vocal',\n",
       "       'Noise', 'Cajun', 'Avantgarde', 'Modern Classical', 'Lo-Fi',\n",
       "       'Contemporary Jazz', 'Hardcore', 'Breakbeat', 'AOR', 'Funk Metal',\n",
       "       'House', 'Brit Pop', 'Reggae Gospel', 'African', 'Grime',\n",
       "       'Leftfield', 'Dub', 'Abstract', 'Trip Hop', 'Rockabilly',\n",
       "       'Experimental', 'Bossa Nova', 'Downtempo'], dtype=object)"
      ]
     },
     "execution_count": 45,
     "metadata": {},
     "output_type": "execute_result"
    }
   ],
   "source": [
    "stones.Subgen.unique()"
   ]
  },
  {
   "cell_type": "code",
   "execution_count": 46,
   "id": "3ddbac29",
   "metadata": {},
   "outputs": [
    {
     "data": {
      "text/plain": [
       "Pop Rock            43\n",
       "Folk Rock           40\n",
       "Alternative Rock    38\n",
       "Blues Rock          37\n",
       "None                29\n",
       "Name: Subgen, dtype: int64"
      ]
     },
     "execution_count": 46,
     "metadata": {},
     "output_type": "execute_result"
    }
   ],
   "source": [
    "stones.Subgen.value_counts().head(5)"
   ]
  },
  {
   "cell_type": "code",
   "execution_count": 47,
   "id": "691e1a91",
   "metadata": {},
   "outputs": [
    {
     "data": {
      "text/html": [
       "<div>\n",
       "<style scoped>\n",
       "    .dataframe tbody tr th:only-of-type {\n",
       "        vertical-align: middle;\n",
       "    }\n",
       "\n",
       "    .dataframe tbody tr th {\n",
       "        vertical-align: top;\n",
       "    }\n",
       "\n",
       "    .dataframe thead th {\n",
       "        text-align: right;\n",
       "    }\n",
       "</style>\n",
       "<table border=\"1\" class=\"dataframe\">\n",
       "  <thead>\n",
       "    <tr style=\"text-align: right;\">\n",
       "      <th></th>\n",
       "      <th>Year</th>\n",
       "      <th>Album</th>\n",
       "      <th>Artist</th>\n",
       "      <th>Genre</th>\n",
       "      <th>Subgenre</th>\n",
       "      <th>Gen</th>\n",
       "      <th>Subgen</th>\n",
       "    </tr>\n",
       "    <tr>\n",
       "      <th>Number</th>\n",
       "      <th></th>\n",
       "      <th></th>\n",
       "      <th></th>\n",
       "      <th></th>\n",
       "      <th></th>\n",
       "      <th></th>\n",
       "      <th></th>\n",
       "    </tr>\n",
       "  </thead>\n",
       "  <tbody>\n",
       "    <tr>\n",
       "      <th>2</th>\n",
       "      <td>1966</td>\n",
       "      <td>Pet Sounds</td>\n",
       "      <td>The Beach Boys</td>\n",
       "      <td>Rock</td>\n",
       "      <td>Pop Rock, Psychedelic Rock</td>\n",
       "      <td>Rock</td>\n",
       "      <td>Pop Rock</td>\n",
       "    </tr>\n",
       "    <tr>\n",
       "      <th>23</th>\n",
       "      <td>1970</td>\n",
       "      <td>John Lennon/Plastic Ono Band</td>\n",
       "      <td>John Lennon / Plastic Ono Band</td>\n",
       "      <td>Rock</td>\n",
       "      <td>Pop Rock</td>\n",
       "      <td>Rock</td>\n",
       "      <td>Pop Rock</td>\n",
       "    </tr>\n",
       "    <tr>\n",
       "      <th>217</th>\n",
       "      <td>1961</td>\n",
       "      <td>Two Steps From the Blues</td>\n",
       "      <td>Bobby \"Blue\" Bland</td>\n",
       "      <td>Funk / Soul, Blues</td>\n",
       "      <td>Rhythm &amp; Blues, Soul</td>\n",
       "      <td>Funk / Soul</td>\n",
       "      <td>Rhythm &amp; Blues</td>\n",
       "    </tr>\n",
       "    <tr>\n",
       "      <th>313</th>\n",
       "      <td>1994</td>\n",
       "      <td>MTV Unplugged in New York</td>\n",
       "      <td>Nirvana</td>\n",
       "      <td>Rock</td>\n",
       "      <td>Folk Rock, Acoustic, Grunge</td>\n",
       "      <td>Rock</td>\n",
       "      <td>Folk Rock</td>\n",
       "    </tr>\n",
       "    <tr>\n",
       "      <th>490</th>\n",
       "      <td>1973</td>\n",
       "      <td>Tres hombres</td>\n",
       "      <td>ZZ Top</td>\n",
       "      <td>Rock</td>\n",
       "      <td>Blues Rock, Classic Rock</td>\n",
       "      <td>Rock</td>\n",
       "      <td>Blues Rock</td>\n",
       "    </tr>\n",
       "  </tbody>\n",
       "</table>\n",
       "</div>"
      ],
      "text/plain": [
       "        Year                         Album                          Artist  \\\n",
       "Number                                                                       \n",
       "2       1966                    Pet Sounds                  The Beach Boys   \n",
       "23      1970  John Lennon/Plastic Ono Band  John Lennon / Plastic Ono Band   \n",
       "217     1961      Two Steps From the Blues              Bobby \"Blue\" Bland   \n",
       "313     1994     MTV Unplugged in New York                         Nirvana   \n",
       "490     1973                  Tres hombres                          ZZ Top   \n",
       "\n",
       "                     Genre                     Subgenre          Gen  \\\n",
       "Number                                                                 \n",
       "2                     Rock   Pop Rock, Psychedelic Rock         Rock   \n",
       "23                    Rock                     Pop Rock         Rock   \n",
       "217     Funk / Soul, Blues         Rhythm & Blues, Soul  Funk / Soul   \n",
       "313                   Rock  Folk Rock, Acoustic, Grunge         Rock   \n",
       "490                   Rock     Blues Rock, Classic Rock         Rock   \n",
       "\n",
       "                Subgen  \n",
       "Number                  \n",
       "2             Pop Rock  \n",
       "23            Pop Rock  \n",
       "217     Rhythm & Blues  \n",
       "313          Folk Rock  \n",
       "490         Blues Rock  "
      ]
     },
     "execution_count": 47,
     "metadata": {},
     "output_type": "execute_result"
    }
   ],
   "source": [
    "stones.sample(5)"
   ]
  },
  {
   "cell_type": "code",
   "execution_count": 49,
   "id": "b2792ab8",
   "metadata": {},
   "outputs": [],
   "source": [
    "stones.to_csv(\"../data/stones.csv\")"
   ]
  }
 ],
 "metadata": {
  "kernelspec": {
   "display_name": "ironhack",
   "language": "python",
   "name": "ironhack"
  },
  "language_info": {
   "codemirror_mode": {
    "name": "ipython",
    "version": 3
   },
   "file_extension": ".py",
   "mimetype": "text/x-python",
   "name": "python",
   "nbconvert_exporter": "python",
   "pygments_lexer": "ipython3",
   "version": "3.8.5"
  }
 },
 "nbformat": 4,
 "nbformat_minor": 5
}
